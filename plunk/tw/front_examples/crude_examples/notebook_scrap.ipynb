{
 "cells": [
  {
   "cell_type": "code",
   "execution_count": 3,
   "source": [
    "\n",
    "from typing import Any\n",
    "\n",
    "Fittable = Any\n",
    "def simple_code_to_digraph(code):\n",
    "    import re\n",
    "    from inspect import getsource\n",
    "    from graphviz import Digraph\n",
    "\n",
    "    \n",
    "    def get_code_str(code) -> str:\n",
    "        if not isinstance(code, str):\n",
    "            return getsource(code)\n",
    "        return code\n",
    "    \n",
    "    empty_spaces = re.compile('^\\s*$')\n",
    "    simple_assignment_p = re.compile(\n",
    "        '(?P<output_vars>[^=]+)'\n",
    "        '\\s*=\\s*'\n",
    "        '(?P<func>\\w+)'\n",
    "        '\\((?P<input_vars>.*)\\)'\n",
    "    )\n",
    "    comma_sep = re.compile('\\s*,\\s*')\n",
    "\n",
    "\n",
    "    def parsed_lines(code_str, simple_assignment_p):\n",
    "        p = simple_assignment_p\n",
    "        for line in code_str.split('\\n'):\n",
    "            if not empty_spaces.match(line):\n",
    "                line = line.strip()\n",
    "                m = simple_assignment_p.search(line)\n",
    "                if m:\n",
    "                    yield m.groupdict()\n",
    "\n",
    "    def parsed_lines_to_dot(parsed_lines):\n",
    "        for d in parsed_lines:\n",
    "            yield f\"{d['input_vars']} -> {d['func']} -> {d['output_vars']}\"\n",
    "            \n",
    "            \n",
    "    code_str = get_code_str(code)\n",
    "    dot_lines = parsed_lines_to_dot(parsed_lines(code_str, simple_assignment_p))\n",
    "    return Digraph(body=dot_lines)\n",
    "\n",
    "\n",
    "# example ##########################################################################\n",
    "def user_story(\n",
    "    data_source: Any,\n",
    "    featurizer_learner: Fittable,\n",
    "    outlier_gauger_learner: Fittable,\n",
    "):\n",
    "    wfs = make_wfs(data_source)\n",
    "    chks = chunker(wfs)\n",
    "    train_chks, test_chks = splitter(chks)\n",
    "\n",
    "    featurizer_obj = learn_featurizer(featurizer_learner, train_chks)\n",
    "    train_fvs = featurizer(featurizer_obj, train_chks)\n",
    "\n",
    "    outlier_gauger_obj = learn_outlier_gauger(outlier_gauger_learner, train_fvs)\n",
    "    train_outlier_scores = outlier_gauger(outlier_gauger_obj, train_fvs)"
   ],
   "outputs": [],
   "metadata": {}
  },
  {
   "cell_type": "code",
   "execution_count": null,
   "source": [],
   "outputs": [],
   "metadata": {}
  }
 ],
 "metadata": {
  "orig_nbformat": 4,
  "language_info": {
   "name": "python",
   "version": "3.8.11",
   "mimetype": "text/x-python",
   "codemirror_mode": {
    "name": "ipython",
    "version": 3
   },
   "pygments_lexer": "ipython3",
   "nbconvert_exporter": "python",
   "file_extension": ".py"
  },
  "kernelspec": {
   "name": "python3",
   "display_name": "Python 3.8.11 64-bit ('otopy38': conda)"
  },
  "interpreter": {
   "hash": "094c189d81026d09b06c18854d442a49d96e55830a4824cf8c6f41ec19877a82"
  }
 },
 "nbformat": 4,
 "nbformat_minor": 2
}