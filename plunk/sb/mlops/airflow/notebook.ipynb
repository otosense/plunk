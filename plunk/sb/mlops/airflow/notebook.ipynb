{
 "cells": [
  {
   "cell_type": "code",
   "execution_count": 2,
   "metadata": {},
   "outputs": [],
   "source": [
    "import os\n",
    "from config2py import get_config, ask_user_for_input,get_configs_local_store\n",
    "# can specify a name of a subdirectory as an argument. By default, will be config2py'\n",
    "\n",
    "configs_local_store = get_configs_local_store()\n",
    "\n"
   ]
  },
  {
   "cell_type": "code",
   "execution_count": 6,
   "metadata": {},
   "outputs": [],
   "source": [
    "c =configs_local_store"
   ]
  },
  {
   "cell_type": "code",
   "execution_count": 7,
   "metadata": {},
   "outputs": [
    {
     "data": {
      "text/plain": [
       "['comet.ini']"
      ]
     },
     "execution_count": 7,
     "metadata": {},
     "output_type": "execute_result"
    }
   ],
   "source": [
    "list(c)"
   ]
  },
  {
   "cell_type": "code",
   "execution_count": 14,
   "metadata": {},
   "outputs": [],
   "source": [
    "api_key = get_config(\n",
    "    'comet.ini',\n",
    "    sources=[\n",
    "        # Try to find it in oa configs\n",
    "        configs_local_store,\n",
    "        # Try to find it in os.environ (environmental variables)\n",
    "        os.environ,\n",
    "        # If not, ask the user to input it\n",
    "        lambda k: ask_user_for_input(\n",
    "            f\"Please set your comet API key and press enter to continue. \"\n",
    "            \"If you don't have one, you can get one at \"\n",
    "            \"https://www.comet.com/ \",\n",
    "            mask_input=True,\n",
    "            masking_toggle_str='',\n",
    "            egress=lambda v: configs_local_store.__setitem__(k, v),\n",
    "        )\n",
    "    ],\n",
    ").rstrip()"
   ]
  },
  {
   "cell_type": "code",
   "execution_count": 15,
   "metadata": {},
   "outputs": [
    {
     "data": {
      "text/plain": [
       "'68ycobZeRe4wslOtdD7sfszp8'"
      ]
     },
     "execution_count": 15,
     "metadata": {},
     "output_type": "execute_result"
    }
   ],
   "source": [
    "api_key"
   ]
  },
  {
   "cell_type": "code",
   "execution_count": null,
   "metadata": {},
   "outputs": [],
   "source": []
  }
 ],
 "metadata": {
  "kernelspec": {
   "display_name": "otopy310",
   "language": "python",
   "name": "python3"
  },
  "language_info": {
   "codemirror_mode": {
    "name": "ipython",
    "version": 3
   },
   "file_extension": ".py",
   "mimetype": "text/x-python",
   "name": "python",
   "nbconvert_exporter": "python",
   "pygments_lexer": "ipython3",
   "version": "3.10.0"
  },
  "orig_nbformat": 4
 },
 "nbformat": 4,
 "nbformat_minor": 2
}
