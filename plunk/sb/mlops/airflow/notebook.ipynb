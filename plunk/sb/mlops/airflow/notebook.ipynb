{
 "cells": [
  {
   "cell_type": "code",
   "execution_count": 45,
   "metadata": {},
   "outputs": [],
   "source": [
    "import os\n",
    "from config2py import get_config, ask_user_for_input,get_configs_local_store\n",
    "# can specify a name of a subdirectory as an argument. By default, will be config2py'\n",
    "\n",
    "configs_local_store = get_configs_local_store()\n",
    "\n"
   ]
  },
  {
   "cell_type": "code",
   "execution_count": 46,
   "metadata": {},
   "outputs": [],
   "source": [
    "c =configs_local_store"
   ]
  },
  {
   "cell_type": "code",
   "execution_count": 47,
   "metadata": {},
   "outputs": [
    {
     "data": {
      "text/plain": [
       "['comet.ini']"
      ]
     },
     "execution_count": 47,
     "metadata": {},
     "output_type": "execute_result"
    }
   ],
   "source": [
    "list(c)"
   ]
  },
  {
   "cell_type": "code",
   "execution_count": 50,
   "metadata": {},
   "outputs": [
    {
     "data": {
      "text/plain": [
       "['comet.ini']"
      ]
     },
     "execution_count": 50,
     "metadata": {},
     "output_type": "execute_result"
    }
   ],
   "source": [
    "list(c)"
   ]
  },
  {
   "cell_type": "code",
   "execution_count": 16,
   "metadata": {},
   "outputs": [],
   "source": [
    "api_key = get_config(\n",
    "    'comet.ini',\n",
    "    sources=[\n",
    "        # Try to find it in oa configs\n",
    "        configs_local_store,\n",
    "        # Try to find it in os.environ (environmental variables)\n",
    "        os.environ,\n",
    "        # If not, ask the user to input it\n",
    "        lambda k: ask_user_for_input(\n",
    "            f\"Please set your comet API key and press enter to continue. \"\n",
    "            \"If you don't have one, you can get one at \"\n",
    "            \"https://www.comet.com/ \",\n",
    "            mask_input=True,\n",
    "            masking_toggle_str='',\n",
    "            egress=lambda v: configs_local_store.__setitem__(k, v),\n",
    "        )\n",
    "    ],\n",
    ").rstrip()"
   ]
  },
  {
   "cell_type": "code",
   "execution_count": 40,
   "metadata": {},
   "outputs": [
    {
     "data": {
      "text/plain": [
       "'[EXPERIMENT]\\napi_key = 68ycobZeRe4wslOtdD7sfszp8\\nproject_name=general\\nworkspace=sylvainbonnot\\n'"
      ]
     },
     "execution_count": 40,
     "metadata": {},
     "output_type": "execute_result"
    }
   ],
   "source": [
    "s =c['comet.ini']\n",
    "s"
   ]
  },
  {
   "cell_type": "code",
   "execution_count": 19,
   "metadata": {},
   "outputs": [],
   "source": [
    "import configparser\n",
    "config = configparser.ConfigParser()\n",
    "config['DEFAULT'] = {'ServerAliveInterval': '45',\n",
    "                     'Compression': 'yes',\n",
    "                     'CompressionLevel': '9'}\n",
    "config['forge.example'] = {}\n",
    "config['forge.example']['User'] = 'hg'\n",
    "config['topsecret.server.example'] = {}\n",
    "topsecret = config['topsecret.server.example']\n",
    "topsecret['Port'] = '50022'     # mutates the parser\n",
    "topsecret['ForwardX11'] = 'no'  # same here\n",
    "config['DEFAULT']['ForwardX11'] = 'yes'\n",
    "with open('example.ini', 'w') as configfile:\n",
    "  config.write(configfile)"
   ]
  },
  {
   "cell_type": "code",
   "execution_count": 20,
   "metadata": {},
   "outputs": [
    {
     "name": "stdout",
     "output_type": "stream",
     "text": [
      "user\n",
      "serveraliveinterval\n",
      "compression\n",
      "compressionlevel\n",
      "forwardx11\n"
     ]
    }
   ],
   "source": [
    "config = configparser.ConfigParser()\n",
    "config.sections()\n",
    "\n",
    "config.read('example.ini')\n",
    "\n",
    "config.sections()\n",
    "\n",
    "'forge.example' in config\n",
    "\n",
    "'python.org' in config\n",
    "\n",
    "config['forge.example']['User']\n",
    "\n",
    "config['DEFAULT']['Compression']\n",
    "\n",
    "topsecret = config['topsecret.server.example']\n",
    "topsecret['ForwardX11']\n",
    "\n",
    "topsecret['Port']\n",
    "\n",
    "for key in config['forge.example']:  \n",
    "    print(key)"
   ]
  },
  {
   "cell_type": "code",
   "execution_count": 31,
   "metadata": {},
   "outputs": [
    {
     "data": {
      "text/plain": [
       "'[EXPERIMENT]\\napi_key = 68ycobZeRe4wslOtdD7sfszp8\\nproject_name=general\\nworkspace=sylvainbonnot\\n'"
      ]
     },
     "execution_count": 31,
     "metadata": {},
     "output_type": "execute_result"
    }
   ],
   "source": [
    "s"
   ]
  },
  {
   "cell_type": "code",
   "execution_count": 41,
   "metadata": {},
   "outputs": [],
   "source": [
    "config = configparser.ConfigParser()\n",
    "#config.sections()\n",
    "\n",
    "res =config.read_string(s)"
   ]
  },
  {
   "cell_type": "code",
   "execution_count": 42,
   "metadata": {},
   "outputs": [],
   "source": [
    "res"
   ]
  },
  {
   "cell_type": "code",
   "execution_count": 43,
   "metadata": {},
   "outputs": [],
   "source": [
    "config = configparser.ConfigParser()\n",
    "res = config.read_string(s)"
   ]
  },
  {
   "cell_type": "code",
   "execution_count": 44,
   "metadata": {},
   "outputs": [],
   "source": [
    "res"
   ]
  },
  {
   "cell_type": "code",
   "execution_count": 37,
   "metadata": {},
   "outputs": [
    {
     "ename": "TypeError",
     "evalue": "'NoneType' object is not subscriptable",
     "output_type": "error",
     "traceback": [
      "\u001b[0;31m---------------------------------------------------------------------------\u001b[0m",
      "\u001b[0;31mTypeError\u001b[0m                                 Traceback (most recent call last)",
      "\u001b[1;32m/Users/sylvain/Desktop/dev/otosense/plunk/plunk/sb/mlops/airflow/notebook.ipynb Cell 13\u001b[0m in \u001b[0;36m<cell line: 1>\u001b[0;34m()\u001b[0m\n\u001b[0;32m----> <a href='vscode-notebook-cell:/Users/sylvain/Desktop/dev/otosense/plunk/plunk/sb/mlops/airflow/notebook.ipynb#X15sZmlsZQ%3D%3D?line=0'>1</a>\u001b[0m res[\u001b[39m'\u001b[39;49m\u001b[39mEXPERIMENT\u001b[39;49m\u001b[39m'\u001b[39;49m]\n",
      "\u001b[0;31mTypeError\u001b[0m: 'NoneType' object is not subscriptable"
     ]
    }
   ],
   "source": [
    "res['EXPERIMENT']"
   ]
  },
  {
   "cell_type": "code",
   "execution_count": 51,
   "metadata": {},
   "outputs": [
    {
     "name": "stdout",
     "output_type": "stream",
     "text": [
      "False\n"
     ]
    }
   ],
   "source": [
    "import configparser\n",
    "\n",
    "s_config = \"\"\"\n",
    "[example]\n",
    "is_real: False\n",
    "\"\"\"\n",
    "config = configparser.ConfigParser()\n",
    "config.read_string(s_config)\n",
    "print(config.getboolean('example', 'is_real'))"
   ]
  },
  {
   "cell_type": "code",
   "execution_count": 52,
   "metadata": {},
   "outputs": [
    {
     "data": {
      "text/plain": [
       "'\\n[example]\\nis_real: False\\n'"
      ]
     },
     "execution_count": 52,
     "metadata": {},
     "output_type": "execute_result"
    }
   ],
   "source": [
    "s_config"
   ]
  },
  {
   "cell_type": "code",
   "execution_count": null,
   "metadata": {},
   "outputs": [],
   "source": []
  }
 ],
 "metadata": {
  "kernelspec": {
   "display_name": "otopy310",
   "language": "python",
   "name": "python3"
  },
  "language_info": {
   "codemirror_mode": {
    "name": "ipython",
    "version": 3
   },
   "file_extension": ".py",
   "mimetype": "text/x-python",
   "name": "python",
   "nbconvert_exporter": "python",
   "pygments_lexer": "ipython3",
   "version": "3.10.0"
  },
  "orig_nbformat": 4
 },
 "nbformat": 4,
 "nbformat_minor": 2
}
