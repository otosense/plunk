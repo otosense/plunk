{
 "cells": [
  {
   "attachments": {},
   "cell_type": "markdown",
   "metadata": {},
   "source": [
    "# Make a slabs_iter"
   ]
  },
  {
   "cell_type": "code",
   "execution_count": 1,
   "metadata": {},
   "outputs": [
    {
     "data": {
      "text/plain": [
       "{'audio': [1, 2, 3],\n",
       " 'light': 126,\n",
       " 'movement': None,\n",
       " 'should_turn_movement_sensor_on': False,\n",
       " 'human_presence_score': None,\n",
       " 'should_notify': None,\n",
       " 'notify': None}"
      ]
     },
     "execution_count": 1,
     "metadata": {},
     "output_type": "execute_result"
    }
   ],
   "source": [
    "# from the documentation of slabs \n",
    "\n",
    "from meshed.slabs import Slabs\n",
    "\n",
    "from statistics import stdev\n",
    "vol = stdev\n",
    "should_turn_movement_sensor_on = lambda audio, light: vol(audio) * light > 50000\n",
    "\n",
    "def make_a_slabs_iter():\n",
    "\n",
    "    # Mocking the sensor readers\n",
    "    audio_sensor_read = iter([[1, 2, 3], [-96, 87, -92], [320, -96, 99]]).__next__\n",
    "    light_sensor_read = iter([126, 501, 523]).__next__\n",
    "    movement_sensor_read = iter([None, None, True]).__next__\n",
    "\n",
    "    return Slabs(\n",
    "        # The first three components get data from the sensors.\n",
    "        # The *_read objects are all callable, returning the next\n",
    "        # chunk of data for that sensor, if any.\n",
    "        audio=audio_sensor_read,\n",
    "        light=light_sensor_read,\n",
    "        movement=movement_sensor_read,\n",
    "        # The next\n",
    "        should_turn_movement_sensor_on = lambda audio, light: vol(audio) * light > 50000,\n",
    "        human_presence_score = lambda audio, light, movement: movement and sum([vol(audio), light]),\n",
    "        should_notify = lambda human_presence_score: human_presence_score and human_presence_score > 700,\n",
    "        notify = lambda should_notify: print('someone is there') if should_notify else None\n",
    "    )\n",
    "\n",
    "\n",
    "si = make_a_slabs_iter()\n",
    "next(si)  \n",
    "    "
   ]
  },
  {
   "cell_type": "code",
   "execution_count": 2,
   "metadata": {},
   "outputs": [
    {
     "data": {
      "text/plain": [
       "{'audio': [-96, 87, -92],\n",
       " 'light': 501,\n",
       " 'movement': None,\n",
       " 'should_turn_movement_sensor_on': True,\n",
       " 'human_presence_score': None,\n",
       " 'should_notify': None,\n",
       " 'notify': None}"
      ]
     },
     "execution_count": 2,
     "metadata": {},
     "output_type": "execute_result"
    }
   ],
   "source": [
    "next(si)"
   ]
  },
  {
   "attachments": {},
   "cell_type": "markdown",
   "metadata": {},
   "source": [
    "# Slabs for stamping press"
   ]
  },
  {
   "cell_type": "code",
   "execution_count": 3,
   "metadata": {},
   "outputs": [],
   "source": [
    "#Valentin's code\n",
    "from dataclasses import dataclass\n",
    "from typing import Iterator\n",
    "from creek.infinite_sequence import BufferedGetter, OverlapsPastError\n",
    "from itertools import islice\n",
    "\n",
    "\n",
    "@dataclass\n",
    "class TimestampedInfiniteSequence:\n",
    "\n",
    "    iterator: Iterator\n",
    "    buffer_len: int\n",
    "\n",
    "    def __post_init__(self):\n",
    "        self.buffer_getter = BufferedGetter(self.buffer_len)\n",
    "\n",
    "    def __getitem__(self, item):\n",
    "        if isinstance(item, slice):\n",
    "            items = list(self.buffer_getter)\n",
    "            \n",
    "            if not len(items):\n",
    "                self.buffer_getter.extend(islice(self.iterator, 1))\n",
    "                return self.__getitem__(item)\n",
    "            #buffer = AudioData.concatenate(items)\n",
    "            if item.stop > items[-1]['ts']: #item must have a ts attribute\n",
    "                self.buffer_getter.extend(islice(self.iterator, 1))\n",
    "                return self.__getitem__(item)\n",
    "            if item.start < items[0]['ts']:\n",
    "                raise OverlapsPastError(\n",
    "                    f'wrong range'\n",
    "                    #f'You asked for {item}, but the buffer only contains the index range: {items.start_date}:{items.end_date}'\n",
    "                )\n",
    "            \n",
    "            def query(i: dict):\n",
    "                #print(f'{item.start=}, {item.stop=}, {i[\"ts\"]=}')\n",
    "                return item.start <= i['ts'] < item.stop\n",
    "            \n",
    "            return self.buffer_getter[query]\n",
    "        elif isinstance(item, int):\n",
    "            return self[slice(item, item + 1)][0]"
   ]
  },
  {
   "cell_type": "code",
   "execution_count": 4,
   "metadata": {},
   "outputs": [
    {
     "name": "stdout",
     "output_type": "stream",
     "text": [
      "i=0, i+step=10\n",
      "i=0, i+step=10\n"
     ]
    },
    {
     "data": {
      "text/plain": [
       "{'accel': [{'ch1': 1, 'ch2': 2, 'ch3': 3, 'ts': 0}],\n",
       " 'plc': [{'var_a': False, 'var_b': False, 'ts': 0},\n",
       "  {'var_a': False, 'var_b': False, 'ts': 5}],\n",
       " 'store_last_plc': None,\n",
       " 'plc_event': []}"
      ]
     },
     "execution_count": 4,
     "metadata": {},
     "output_type": "execute_result"
    }
   ],
   "source": [
    "from meshed.slabs import Slabs\n",
    "from more_itertools import windowed\n",
    "\n",
    "from typing import Callable\n",
    "\n",
    "last_plc = None\n",
    "def filter_on_predicate(data, pred: Callable, event):\n",
    "    if event is None:\n",
    "        return 'out1'\n",
    "    if pred(event):\n",
    "        return data\n",
    "    else: \n",
    "        return 'out1'\n",
    "\n",
    "def event_switch(event):\n",
    "    event['event_a']\n",
    "\n",
    "def demux(accel, plc):\n",
    "    result = 'out_1'\n",
    "    if plc['event_a']:\n",
    "        result = accel\n",
    "    return filter_on_predicate(accel, event_switch, plc)\n",
    "\n",
    "\n",
    "def my_iterator(obj, step = 10):\n",
    "    for i in range(0, 30, step):\n",
    "        print(f'{i=}, {i+step=}')\n",
    "        yield obj[i:i+step]\n",
    "\n",
    "def make_a_slabs_iter():\n",
    "    # Sensor readers, slabs of 1 sec\n",
    "    # use next_slice of creek InfiniteStream instead of iter\n",
    "    #accelerometer_sensor_read = iter([{'ch1':1, 'ch2':2, 'ch3':3, 'ts':001}, {'ch1':-2, 'ch2':22, 'ch3':43, 'ts':002},\n",
    "    #                                  {'ch1':92, 'ch2':94, 'ch3':95, 'ts':003}]).__next__\n",
    "    accelerometer_sensor_read = iter([{'ch1':1, 'ch2':2, 'ch3':3, 'ts':0},{'ch1':1, 'ch2':2, 'ch3':3, 'ts':10}, \n",
    "                                             {'ch1':-2, 'ch2':22, 'ch3':43, 'ts':20},{'ch1':92, 'ch2':94, 'ch3':95, 'ts':30},\n",
    "                                             {'ch1':92, 'ch2':94, 'ch3':95, 'ts':40}])\n",
    "    accel_buffer = my_iterator(TimestampedInfiniteSequence(accelerometer_sensor_read, buffer_len = 2)).__next__\n",
    "\n",
    "    # change to an iterator on slices, from 10 to 10\n",
    "    plc_read = iter([{'var_a':False, 'var_b':False,'ts':0},{'var_a':False, 'var_b':False,'ts':5}, {'var_a':True, 'var_b':False,'ts':10}, \n",
    "                        {'var_a':True, 'var_b':True,'ts':15},{'var_a':True, 'var_b':True,'ts':20},\n",
    "                        {'var_a':True, 'var_b':True,'ts':25},{'var_a':False, 'var_b':True,'ts':30},\n",
    "                        {'var_a':False, 'var_b':True,'ts':35},{'var_a':False, 'var_b':True,'ts':40}])\n",
    "    plc_buffer = my_iterator(TimestampedInfiniteSequence(plc_read, buffer_len = 3)).__next__\n",
    "    \n",
    "    # pb: what to do with different sample rates? events at the same time! {event_a, event_b}\n",
    "    return Slabs(\n",
    "        accel=accel_buffer,\n",
    "        plc=plc_buffer,\n",
    "        store_last_plc = lambda plc: set_last_plc(plc[-1]),\n",
    "        plc_event= lambda plc: list(detect_difference(plc)),\n",
    "        #demux = lambda accel, plc: filter_on_predicate(accel, event_switch, plc),\n",
    "        #buffer = lambda demux: windowed(demux, n=2)\n",
    "    )\n",
    "\n",
    "def detect_difference(arr):\n",
    "    if last_plc['var_a'] != arr[0]['var_a']:\n",
    "        yield 'event_a'\n",
    "    for x,y in zip(arr, arr[1:]):\n",
    "        if x['var_a'] != y['var_a']:\n",
    "            yield 'event_a'\n",
    "\n",
    "def set_last_plc(value):\n",
    "    global last_plc    \n",
    "    last_plc = value\n",
    "\n",
    "\n",
    "\n",
    "s = make_a_slabs_iter()\n",
    "next(s)\n",
    "#next(s)"
   ]
  },
  {
   "cell_type": "code",
   "execution_count": 5,
   "metadata": {},
   "outputs": [
    {
     "name": "stdout",
     "output_type": "stream",
     "text": [
      "i=10, i+step=20\n",
      "i=10, i+step=20\n"
     ]
    },
    {
     "data": {
      "text/plain": [
       "{'accel': [{'ch1': 1, 'ch2': 2, 'ch3': 3, 'ts': 10}],\n",
       " 'plc': [{'var_a': True, 'var_b': False, 'ts': 10},\n",
       "  {'var_a': True, 'var_b': True, 'ts': 15}],\n",
       " 'store_last_plc': None,\n",
       " 'plc_event': []}"
      ]
     },
     "execution_count": 5,
     "metadata": {},
     "output_type": "execute_result"
    }
   ],
   "source": [
    "next(s)"
   ]
  },
  {
   "cell_type": "code",
   "execution_count": 6,
   "metadata": {},
   "outputs": [],
   "source": [
    "# sample rate must be the same\n",
    "# events can occur at the same time\n",
    "# Valentin: use creek"
   ]
  },
  {
   "cell_type": "code",
   "execution_count": 7,
   "metadata": {},
   "outputs": [],
   "source": [
    "accelerometer_sensor_iter = iter([{'ch1':1, 'ch2':2, 'ch3':3, 'ts':0},{'ch1':1, 'ch2':2, 'ch3':3, 'ts':10}, {'ch1':-2, 'ch2':22, 'ch3':43, 'ts':20},{'ch1':92, 'ch2':94, 'ch3':95, 'ts':30},{'ch1':92, 'ch2':94, 'ch3':95, 'ts':40}])\n",
    "accel_buffer = TimestampedInfiniteSequence(accelerometer_sensor_iter, buffer_len = 3)\n",
    "\n",
    "#plc_sensor_iter = iter([{'var_a':False, 'var_b':False,'ts':5}, {'var_a':True, 'var_b':False,'ts':21}, {'var_a':False, 'var_b':True,'ts':32}])\n",
    "plc_sensor_iter = iter([{'var_a':False, 'var_b':False,'ts':5}, {'var_a':True, 'var_b':False,'ts':10}, \n",
    "                        {'var_a':False, 'var_b':True,'ts':15},{'var_a':False, 'var_b':True,'ts':20},\n",
    "                        {'var_a':False, 'var_b':True,'ts':25},{'var_a':False, 'var_b':True,'ts':30},\n",
    "                        {'var_a':False, 'var_b':True,'ts':35},{'var_a':False, 'var_b':True,'ts':40}])\n",
    "\n",
    "plc_buffer = TimestampedInfiniteSequence(plc_sensor_iter, buffer_len = 3)\n"
   ]
  },
  {
   "cell_type": "code",
   "execution_count": 8,
   "metadata": {},
   "outputs": [
    {
     "data": {
      "image/svg+xml": [
       "<?xml version=\"1.0\" encoding=\"UTF-8\" standalone=\"no\"?>\n",
       "<!DOCTYPE svg PUBLIC \"-//W3C//DTD SVG 1.1//EN\"\n",
       " \"http://www.w3.org/Graphics/SVG/1.1/DTD/svg11.dtd\">\n",
       "<!-- Generated by graphviz version 2.50.0 (0)\n",
       " -->\n",
       "<!-- Pages: 1 -->\n",
       "<svg width=\"258pt\" height=\"476pt\"\n",
       " viewBox=\"0.00 0.00 257.50 476.00\" xmlns=\"http://www.w3.org/2000/svg\" xmlns:xlink=\"http://www.w3.org/1999/xlink\">\n",
       "<g id=\"graph0\" class=\"graph\" transform=\"scale(1 1) rotate(0) translate(4 472)\">\n",
       "<polygon fill=\"white\" stroke=\"transparent\" points=\"-4,4 -4,-472 253.5,-472 253.5,4 -4,4\"/>\n",
       "<!-- audio -->\n",
       "<g id=\"node1\" class=\"node\">\n",
       "<title>audio</title>\n",
       "<text text-anchor=\"middle\" x=\"84\" y=\"-302.3\" font-family=\"Times,serif\" font-size=\"14.00\">audio</text>\n",
       "</g>\n",
       "<!-- myfunc -->\n",
       "<g id=\"node8\" class=\"node\">\n",
       "<title>myfunc</title>\n",
       "<polygon fill=\"none\" stroke=\"black\" points=\"113.5,-252 54.5,-252 54.5,-216 113.5,-216 113.5,-252\"/>\n",
       "<text text-anchor=\"middle\" x=\"84\" y=\"-230.3\" font-family=\"Times,serif\" font-size=\"14.00\">myfunc</text>\n",
       "</g>\n",
       "<!-- audio&#45;&gt;myfunc -->\n",
       "<g id=\"edge6\" class=\"edge\">\n",
       "<title>audio&#45;&gt;myfunc</title>\n",
       "<path fill=\"none\" stroke=\"black\" d=\"M84,-287.7C84,-279.98 84,-270.71 84,-262.11\"/>\n",
       "<polygon fill=\"black\" stroke=\"black\" points=\"87.5,-262.1 84,-252.1 80.5,-262.1 87.5,-262.1\"/>\n",
       "</g>\n",
       "<!-- my_func2 -->\n",
       "<g id=\"node12\" class=\"node\">\n",
       "<title>my_func2</title>\n",
       "<polygon fill=\"none\" stroke=\"black\" points=\"204,-252 132,-252 132,-216 204,-216 204,-252\"/>\n",
       "<text text-anchor=\"middle\" x=\"168\" y=\"-230.3\" font-family=\"Times,serif\" font-size=\"14.00\">my_func2</text>\n",
       "</g>\n",
       "<!-- audio&#45;&gt;my_func2 -->\n",
       "<g id=\"edge11\" class=\"edge\">\n",
       "<title>audio&#45;&gt;my_func2</title>\n",
       "<path fill=\"none\" stroke=\"black\" d=\"M104.76,-287.7C115.24,-278.97 128.11,-268.24 139.5,-258.75\"/>\n",
       "<polygon fill=\"black\" stroke=\"black\" points=\"142.03,-261.19 147.47,-252.1 137.55,-255.82 142.03,-261.19\"/>\n",
       "</g>\n",
       "<!-- audio_source -->\n",
       "<g id=\"node2\" class=\"node\">\n",
       "<title>audio_source</title>\n",
       "<text text-anchor=\"middle\" x=\"59\" y=\"-446.3\" font-family=\"Times,serif\" font-size=\"14.00\">audio_source</text>\n",
       "</g>\n",
       "<!-- audio_sensor_read -->\n",
       "<g id=\"node3\" class=\"node\">\n",
       "<title>audio_sensor_read</title>\n",
       "<polygon fill=\"none\" stroke=\"black\" points=\"118,-396 0,-396 0,-360 118,-360 118,-396\"/>\n",
       "<text text-anchor=\"middle\" x=\"59\" y=\"-374.3\" font-family=\"Times,serif\" font-size=\"14.00\">audio_sensor_read</text>\n",
       "</g>\n",
       "<!-- audio_source&#45;&gt;audio_sensor_read -->\n",
       "<g id=\"edge2\" class=\"edge\">\n",
       "<title>audio_source&#45;&gt;audio_sensor_read</title>\n",
       "<path fill=\"none\" stroke=\"black\" d=\"M59,-431.7C59,-423.98 59,-414.71 59,-406.11\"/>\n",
       "<polygon fill=\"black\" stroke=\"black\" points=\"62.5,-406.1 59,-396.1 55.5,-406.1 62.5,-406.1\"/>\n",
       "</g>\n",
       "<!-- audio_sensor_read&#45;&gt;audio -->\n",
       "<g id=\"edge1\" class=\"edge\">\n",
       "<title>audio_sensor_read&#45;&gt;audio</title>\n",
       "<path fill=\"none\" stroke=\"black\" d=\"M65.18,-359.7C68,-351.81 71.39,-342.3 74.52,-333.55\"/>\n",
       "<polygon fill=\"black\" stroke=\"black\" points=\"77.82,-334.7 77.89,-324.1 71.23,-332.34 77.82,-334.7\"/>\n",
       "</g>\n",
       "<!-- light -->\n",
       "<g id=\"node4\" class=\"node\">\n",
       "<title>light</title>\n",
       "<text text-anchor=\"middle\" x=\"168\" y=\"-302.3\" font-family=\"Times,serif\" font-size=\"14.00\">light</text>\n",
       "</g>\n",
       "<!-- light&#45;&gt;myfunc -->\n",
       "<g id=\"edge7\" class=\"edge\">\n",
       "<title>light&#45;&gt;myfunc</title>\n",
       "<path fill=\"none\" stroke=\"black\" d=\"M147.24,-287.7C136.76,-278.97 123.89,-268.24 112.5,-258.75\"/>\n",
       "<polygon fill=\"black\" stroke=\"black\" points=\"114.45,-255.82 104.53,-252.1 109.97,-261.19 114.45,-255.82\"/>\n",
       "</g>\n",
       "<!-- light&#45;&gt;my_func2 -->\n",
       "<g id=\"edge12\" class=\"edge\">\n",
       "<title>light&#45;&gt;my_func2</title>\n",
       "<path fill=\"none\" stroke=\"black\" d=\"M168,-287.7C168,-279.98 168,-270.71 168,-262.11\"/>\n",
       "<polygon fill=\"black\" stroke=\"black\" points=\"171.5,-262.1 168,-252.1 164.5,-262.1 171.5,-262.1\"/>\n",
       "</g>\n",
       "<!-- light_source -->\n",
       "<g id=\"node5\" class=\"node\">\n",
       "<title>light_source</title>\n",
       "<text text-anchor=\"middle\" x=\"193\" y=\"-446.3\" font-family=\"Times,serif\" font-size=\"14.00\">light_source</text>\n",
       "</g>\n",
       "<!-- light_sensor_read -->\n",
       "<g id=\"node6\" class=\"node\">\n",
       "<title>light_sensor_read</title>\n",
       "<polygon fill=\"none\" stroke=\"black\" points=\"249.5,-396 136.5,-396 136.5,-360 249.5,-360 249.5,-396\"/>\n",
       "<text text-anchor=\"middle\" x=\"193\" y=\"-374.3\" font-family=\"Times,serif\" font-size=\"14.00\">light_sensor_read</text>\n",
       "</g>\n",
       "<!-- light_source&#45;&gt;light_sensor_read -->\n",
       "<g id=\"edge4\" class=\"edge\">\n",
       "<title>light_source&#45;&gt;light_sensor_read</title>\n",
       "<path fill=\"none\" stroke=\"black\" d=\"M193,-431.7C193,-423.98 193,-414.71 193,-406.11\"/>\n",
       "<polygon fill=\"black\" stroke=\"black\" points=\"196.5,-406.1 193,-396.1 189.5,-406.1 196.5,-406.1\"/>\n",
       "</g>\n",
       "<!-- light_sensor_read&#45;&gt;light -->\n",
       "<g id=\"edge3\" class=\"edge\">\n",
       "<title>light_sensor_read&#45;&gt;light</title>\n",
       "<path fill=\"none\" stroke=\"black\" d=\"M186.82,-359.7C184,-351.81 180.61,-342.3 177.48,-333.55\"/>\n",
       "<polygon fill=\"black\" stroke=\"black\" points=\"180.77,-332.34 174.11,-324.1 174.18,-334.7 180.77,-332.34\"/>\n",
       "</g>\n",
       "<!-- result -->\n",
       "<g id=\"node7\" class=\"node\">\n",
       "<title>result</title>\n",
       "<text text-anchor=\"middle\" x=\"84\" y=\"-158.3\" font-family=\"Times,serif\" font-size=\"14.00\">result</text>\n",
       "</g>\n",
       "<!-- f -->\n",
       "<g id=\"node10\" class=\"node\">\n",
       "<title>f</title>\n",
       "<polygon fill=\"none\" stroke=\"black\" points=\"111,-108 57,-108 57,-72 111,-72 111,-108\"/>\n",
       "<text text-anchor=\"middle\" x=\"84\" y=\"-86.3\" font-family=\"Times,serif\" font-size=\"14.00\">f</text>\n",
       "</g>\n",
       "<!-- result&#45;&gt;f -->\n",
       "<g id=\"edge9\" class=\"edge\">\n",
       "<title>result&#45;&gt;f</title>\n",
       "<path fill=\"none\" stroke=\"black\" d=\"M84,-143.7C84,-135.98 84,-126.71 84,-118.11\"/>\n",
       "<polygon fill=\"black\" stroke=\"black\" points=\"87.5,-118.1 84,-108.1 80.5,-118.1 87.5,-118.1\"/>\n",
       "</g>\n",
       "<!-- myfunc&#45;&gt;result -->\n",
       "<g id=\"edge5\" class=\"edge\">\n",
       "<title>myfunc&#45;&gt;result</title>\n",
       "<path fill=\"none\" stroke=\"black\" d=\"M84,-215.7C84,-207.98 84,-198.71 84,-190.11\"/>\n",
       "<polygon fill=\"black\" stroke=\"black\" points=\"87.5,-190.1 84,-180.1 80.5,-190.1 87.5,-190.1\"/>\n",
       "</g>\n",
       "<!-- final -->\n",
       "<g id=\"node9\" class=\"node\">\n",
       "<title>final</title>\n",
       "<text text-anchor=\"middle\" x=\"84\" y=\"-14.3\" font-family=\"Times,serif\" font-size=\"14.00\">final</text>\n",
       "</g>\n",
       "<!-- f&#45;&gt;final -->\n",
       "<g id=\"edge8\" class=\"edge\">\n",
       "<title>f&#45;&gt;final</title>\n",
       "<path fill=\"none\" stroke=\"black\" d=\"M84,-71.7C84,-63.98 84,-54.71 84,-46.11\"/>\n",
       "<polygon fill=\"black\" stroke=\"black\" points=\"87.5,-46.1 84,-36.1 80.5,-46.1 87.5,-46.1\"/>\n",
       "</g>\n",
       "<!-- dead_node -->\n",
       "<g id=\"node11\" class=\"node\">\n",
       "<title>dead_node</title>\n",
       "<text text-anchor=\"middle\" x=\"168\" y=\"-158.3\" font-family=\"Times,serif\" font-size=\"14.00\">dead_node</text>\n",
       "</g>\n",
       "<!-- my_func2&#45;&gt;dead_node -->\n",
       "<g id=\"edge10\" class=\"edge\">\n",
       "<title>my_func2&#45;&gt;dead_node</title>\n",
       "<path fill=\"none\" stroke=\"black\" d=\"M168,-215.7C168,-207.98 168,-198.71 168,-190.11\"/>\n",
       "<polygon fill=\"black\" stroke=\"black\" points=\"171.5,-190.1 168,-180.1 164.5,-190.1 171.5,-190.1\"/>\n",
       "</g>\n",
       "</g>\n",
       "</svg>\n"
      ],
      "text/plain": [
       "<graphviz.graphs.Digraph at 0x7ff6b749a230>"
      ]
     },
     "execution_count": 8,
     "metadata": {},
     "output_type": "execute_result"
    }
   ],
   "source": [
    "from meshed import code_to_dag\n",
    "\n",
    "@code_to_dag\n",
    "def user_story():\n",
    "    audio = audio_sensor_read(audio_source)\n",
    "    light = light_sensor_read(light_source)\n",
    "    result = myfunc(audio, light)\n",
    "    final = f(result)\n",
    "    dead_node = my_func2(audio, light)\n",
    "    \n",
    "\n",
    "user_story.dot_digraph()"
   ]
  },
  {
   "cell_type": "code",
   "execution_count": 9,
   "metadata": {},
   "outputs": [],
   "source": [
    "s = make_a_slabs_iter()"
   ]
  },
  {
   "cell_type": "code",
   "execution_count": 10,
   "metadata": {},
   "outputs": [
    {
     "name": "stdout",
     "output_type": "stream",
     "text": [
      "i=0, i+step=10\n",
      "i=0, i+step=10\n"
     ]
    },
    {
     "ename": "KeyError",
     "evalue": "'buffer'",
     "output_type": "error",
     "traceback": [
      "\u001b[0;31m---------------------------------------------------------------------------\u001b[0m",
      "\u001b[0;31mKeyError\u001b[0m                                  Traceback (most recent call last)",
      "Cell \u001b[0;32mIn[10], line 1\u001b[0m\n\u001b[0;32m----> 1\u001b[0m \u001b[39mlist\u001b[39m(\u001b[39mnext\u001b[39;49m(s)[\u001b[39m'\u001b[39;49m\u001b[39mbuffer\u001b[39;49m\u001b[39m'\u001b[39;49m])\n",
      "\u001b[0;31mKeyError\u001b[0m: 'buffer'"
     ]
    }
   ],
   "source": [
    "list(next(s)['buffer'])"
   ]
  },
  {
   "attachments": {},
   "cell_type": "markdown",
   "metadata": {},
   "source": [
    "# Using rxpy"
   ]
  },
  {
   "cell_type": "code",
   "execution_count": 11,
   "metadata": {},
   "outputs": [
    {
     "ename": "ModuleNotFoundError",
     "evalue": "No module named 'reactivex'",
     "output_type": "error",
     "traceback": [
      "\u001b[0;31m---------------------------------------------------------------------------\u001b[0m",
      "\u001b[0;31mModuleNotFoundError\u001b[0m                       Traceback (most recent call last)",
      "Cell \u001b[0;32mIn[11], line 1\u001b[0m\n\u001b[0;32m----> 1\u001b[0m \u001b[39mimport\u001b[39;00m \u001b[39mreactivex\u001b[39;00m \u001b[39mas\u001b[39;00m \u001b[39mrx\u001b[39;00m\n\u001b[1;32m      2\u001b[0m \u001b[39mfrom\u001b[39;00m \u001b[39mreactivex\u001b[39;00m \u001b[39mimport\u001b[39;00m operators \u001b[39mas\u001b[39;00m ops\n\u001b[1;32m      5\u001b[0m letters \u001b[39m=\u001b[39m rx\u001b[39m.\u001b[39mfrom_([\u001b[39m\"\u001b[39m\u001b[39mAlpha\u001b[39m\u001b[39m\"\u001b[39m, \u001b[39m\"\u001b[39m\u001b[39mBeta\u001b[39m\u001b[39m\"\u001b[39m, \u001b[39m\"\u001b[39m\u001b[39mGamma\u001b[39m\u001b[39m\"\u001b[39m, \u001b[39m\"\u001b[39m\u001b[39mDelta\u001b[39m\u001b[39m\"\u001b[39m, \u001b[39m\"\u001b[39m\u001b[39mEpsilon\u001b[39m\u001b[39m\"\u001b[39m])\n",
      "\u001b[0;31mModuleNotFoundError\u001b[0m: No module named 'reactivex'"
     ]
    }
   ],
   "source": [
    "import reactivex as rx\n",
    "from reactivex import operators as ops\n",
    "\n",
    "\n",
    "letters = rx.from_([\"Alpha\", \"Beta\", \"Gamma\", \"Delta\", \"Epsilon\"])\n",
    "numbers = rx.from_([1,2,3,4,5])"
   ]
  },
  {
   "cell_type": "code",
   "execution_count": 12,
   "metadata": {},
   "outputs": [
    {
     "ename": "NameError",
     "evalue": "name 'numbers' is not defined",
     "output_type": "error",
     "traceback": [
      "\u001b[0;31m---------------------------------------------------------------------------\u001b[0m",
      "\u001b[0;31mNameError\u001b[0m                                 Traceback (most recent call last)",
      "Cell \u001b[0;32mIn[12], line 1\u001b[0m\n\u001b[0;32m----> 1\u001b[0m numbers\u001b[39m.\u001b[39msubscribe(\u001b[39mlambda\u001b[39;00m x: \u001b[39mprint\u001b[39m(x))\n",
      "\u001b[0;31mNameError\u001b[0m: name 'numbers' is not defined"
     ]
    }
   ],
   "source": [
    "numbers.subscribe(lambda x: print(x))"
   ]
  },
  {
   "cell_type": "code",
   "execution_count": 13,
   "metadata": {},
   "outputs": [
    {
     "ename": "NameError",
     "evalue": "name 'letters' is not defined",
     "output_type": "error",
     "traceback": [
      "\u001b[0;31m---------------------------------------------------------------------------\u001b[0m",
      "\u001b[0;31mNameError\u001b[0m                                 Traceback (most recent call last)",
      "Cell \u001b[0;32mIn[13], line 1\u001b[0m\n\u001b[0;32m----> 1\u001b[0m letters\u001b[39m.\u001b[39mpipe(ops\u001b[39m.\u001b[39mskip_until(numbers\u001b[39m.\u001b[39msubscribe(\u001b[39mprint\u001b[39m)))\u001b[39m.\u001b[39msubscribe(\u001b[39mprint\u001b[39m)\n",
      "\u001b[0;31mNameError\u001b[0m: name 'letters' is not defined"
     ]
    }
   ],
   "source": [
    "letters.pipe(ops.skip_until(numbers.subscribe(print))).subscribe(print)\n",
    "\n",
    "# letters.pipe(ops.skip_until(lambda s: len(s)), ops.filter(lambda i: i >= 5)).subscribe(\n",
    "#     lambda value: print(\"Received {0}\".format(value))\n",
    "# )"
   ]
  },
  {
   "cell_type": "code",
   "execution_count": null,
   "metadata": {},
   "outputs": [],
   "source": []
  },
  {
   "attachments": {},
   "cell_type": "markdown",
   "metadata": {},
   "source": [
    "# Using actual data"
   ]
  },
  {
   "attachments": {},
   "cell_type": "markdown",
   "metadata": {},
   "source": [
    "# plc data:  wav file\n",
    "# channel data: wav file"
   ]
  },
  {
   "cell_type": "code",
   "execution_count": 14,
   "metadata": {},
   "outputs": [],
   "source": [
    "# reactive programming in slabs\n",
    "# start with reading the plc\n",
    "# do  the async stuff\n",
    "# you buffer the plc\n",
    "# how to solve the backpressure problem?\n",
    "# if None: we do not ignore the input (slabs is a function)\n",
    "# handling the signals: check the notes\n",
    "# in meshed: get exceptions"
   ]
  },
  {
   "cell_type": "code",
   "execution_count": 15,
   "metadata": {},
   "outputs": [],
   "source": [
    "import soundfile as sf\n",
    "from hear.tools import AudioSegments, AffineConverter\n",
    "\n",
    "#segs = AudioSegments(src_to_wfsr=sf.read, index_to_seconds_scale=1 / 1e6) #index by microseconds\n",
    "segs = AudioSegments(src_to_wfsr=sf.read, index_to_seconds_scale=1/50) #index by microseconds\n"
   ]
  },
  {
   "cell_type": "code",
   "execution_count": 16,
   "metadata": {},
   "outputs": [],
   "source": [
    "# data\n",
    "plc_filepath = 'data/PLC.wav'\n",
    "accel_filepath = 'data/1621346260226336_ch2.wav'"
   ]
  },
  {
   "cell_type": "code",
   "execution_count": 17,
   "metadata": {},
   "outputs": [
    {
     "data": {
      "text/plain": [
       "59650"
      ]
     },
     "execution_count": 17,
     "metadata": {},
     "output_type": "execute_result"
    }
   ],
   "source": [
    "# 59650 samples, at 50 hz = 1193 seconds, ie 19 minutes 53 seconds\n",
    "plc_data = segs[plc_filepath]\n",
    "len(plc_data)"
   ]
  },
  {
   "cell_type": "code",
   "execution_count": 18,
   "metadata": {},
   "outputs": [
    {
     "data": {
      "text/plain": [
       "1"
      ]
     },
     "execution_count": 18,
     "metadata": {},
     "output_type": "execute_result"
    }
   ],
   "source": [
    "# we can query data with bt, tt\n",
    "len(plc_data[0:1])\n"
   ]
  },
  {
   "cell_type": "code",
   "execution_count": 19,
   "metadata": {},
   "outputs": [],
   "source": [
    "# from local data to generator\n",
    "\n",
    "def my_iterator(obj, step = 10):\n",
    "    for i in range(0, 30, step):\n",
    "        print(f'{i=}, {i+step=}')\n",
    "        yield obj[i:i+step]\n",
    "\n",
    "def mk_data(filepath, channel_name='plc'):\n",
    "    wf, sr = sf.read(filepath)\n",
    "    \n",
    "    index_to_seconds_scale = 1000*1 / sr\n",
    "    index_to_seconds_offset = 0\n",
    "    indexer = AffineConverter(\n",
    "            scale=index_to_seconds_scale, offset=index_to_seconds_offset\n",
    "        )\n",
    "    for i, sample in enumerate(wf):\n",
    "        yield {channel_name:sample, 'ts':indexer(i)}"
   ]
  },
  {
   "cell_type": "code",
   "execution_count": 20,
   "metadata": {},
   "outputs": [
    {
     "name": "stdout",
     "output_type": "stream",
     "text": [
      "{'plc': 0.0, 'ts': 0.0}\n",
      "{'plc': 0.0, 'ts': 20.0}\n",
      "{'plc': 0.0, 'ts': 40.0}\n",
      "{'plc': 0.0, 'ts': 60.0}\n",
      "{'plc': 0.0, 'ts': 80.0}\n",
      "{'plc': 0.0, 'ts': 100.0}\n",
      "{'plc': 0.0, 'ts': 120.0}\n",
      "{'plc': 0.0, 'ts': 140.0}\n",
      "{'plc': 0.0, 'ts': 160.0}\n",
      "{'plc': 0.0, 'ts': 180.0}\n"
     ]
    }
   ],
   "source": [
    "plc_iter = mk_data(plc_filepath, channel_name='plc')\n",
    "for i in range(10):\n",
    "    print(next(plc_iter))"
   ]
  },
  {
   "cell_type": "code",
   "execution_count": 21,
   "metadata": {},
   "outputs": [
    {
     "name": "stdout",
     "output_type": "stream",
     "text": [
      "{'accel': -0.035858154296875, 'ts': 0.0}\n",
      "{'accel': -0.022705078125, 'ts': 0.078125}\n",
      "{'accel': 0.004241943359375, 'ts': 0.15625}\n",
      "{'accel': 0.0084228515625, 'ts': 0.234375}\n",
      "{'accel': 0.000823974609375, 'ts': 0.3125}\n",
      "{'accel': 0.00164794921875, 'ts': 0.390625}\n",
      "{'accel': -0.01666259765625, 'ts': 0.46875}\n",
      "{'accel': -0.00811767578125, 'ts': 0.546875}\n",
      "{'accel': 0.00689697265625, 'ts': 0.625}\n",
      "{'accel': -0.0010986328125, 'ts': 0.703125}\n"
     ]
    }
   ],
   "source": [
    "accel_iter = mk_data(accel_filepath, channel_name='accel')\n",
    "for i in range(10):\n",
    "    print(next(accel_iter))"
   ]
  },
  {
   "cell_type": "code",
   "execution_count": 22,
   "metadata": {},
   "outputs": [],
   "source": [
    "# check creek more carefully"
   ]
  },
  {
   "cell_type": "code",
   "execution_count": 23,
   "metadata": {},
   "outputs": [],
   "source": [
    "accelerometer_sensor_read = mk_data(plc_filepath, channel_name='accel')\n",
    "plc_sensor_read = mk_data(plc_filepath, channel_name='plc')\n",
    "\n",
    "\n",
    "#slab[10:30]-> all that happens between 10 and 30\n",
    "#slab[30:50]\n",
    "\n",
    "plc_buffer = my_iterator(TimestampedInfiniteSequence(plc_sensor_read, buffer_len = 20), step =10)\n",
    "\n",
    "    # # change to an iterator on slices, from 10 to 10\n",
    "    # plc_read = iter([{'var_a':False, 'var_b':False,'ts':0},{'var_a':False, 'var_b':False,'ts':5}, {'var_a':True, 'var_b':False,'ts':10}, \n",
    "    #                     {'var_a':True, 'var_b':True,'ts':15},{'var_a':True, 'var_b':True,'ts':20},\n",
    "    #                     {'var_a':True, 'var_b':True,'ts':25},{'var_a':False, 'var_b':True,'ts':30},\n",
    "    #                     {'var_a':False, 'var_b':True,'ts':35},{'var_a':False, 'var_b':True,'ts':40}])\n",
    "    # plc_buffer = my_iterator(TimestampedInfiniteSequence(plc_read, buffer_len = 3)).__next__\n",
    "    \n",
    "    # # pb: what to do with different sample rates? events at the same time! {event_a, event_b}\n",
    "    # return Slabs(\n",
    "    #     accel=accel_buffer,\n",
    "    #     plc=plc_buffer,\n",
    "    #     result=accel+plc\n",
    "    #     store_last_plc = lambda plc: set_last_plc(plc[-1]),\n",
    "    #     plc_event= lambda plc: list(detect_difference(plc)),\n",
    "    #     #demux = lambda accel, plc: filter_on_predicate(accel, event_switch, plc),\n",
    "    #     #buffer = lambda demux: windowed(demux, n=2)\n",
    "    # )"
   ]
  },
  {
   "cell_type": "code",
   "execution_count": 24,
   "metadata": {},
   "outputs": [],
   "source": [
    "plc_sensor_read = mk_data(plc_filepath, channel_name='plc')\n",
    "\n",
    "ts_data = iter(TimestampedInfiniteSequence(plc_sensor_read, buffer_len = 200))\n"
   ]
  },
  {
   "cell_type": "code",
   "execution_count": 25,
   "metadata": {},
   "outputs": [
    {
     "data": {
      "text/plain": [
       "{'plc': 0.0, 'ts': 0.0}"
      ]
     },
     "execution_count": 25,
     "metadata": {},
     "output_type": "execute_result"
    }
   ],
   "source": [
    "next(ts_data)"
   ]
  },
  {
   "attachments": {},
   "cell_type": "markdown",
   "metadata": {},
   "source": [
    "## "
   ]
  },
  {
   "cell_type": "code",
   "execution_count": 26,
   "metadata": {},
   "outputs": [
    {
     "data": {
      "text/plain": [
       "<generator object mk_data at 0x7ff6bbc61a80>"
      ]
     },
     "execution_count": 26,
     "metadata": {},
     "output_type": "execute_result"
    }
   ],
   "source": [
    "plc_sensor_read"
   ]
  },
  {
   "cell_type": "code",
   "execution_count": 27,
   "metadata": {},
   "outputs": [
    {
     "name": "stdout",
     "output_type": "stream",
     "text": [
      "i=0, i+step=10\n",
      "i=10, i+step=20\n",
      "i=20, i+step=30\n"
     ]
    },
    {
     "data": {
      "text/plain": [
       "[[{'plc': 0.0, 'ts': 0.0}], [], [{'plc': 0.0, 'ts': 20.0}]]"
      ]
     },
     "execution_count": 27,
     "metadata": {},
     "output_type": "execute_result"
    }
   ],
   "source": [
    "list(plc_buffer)"
   ]
  },
  {
   "cell_type": "code",
   "execution_count": 28,
   "metadata": {},
   "outputs": [
    {
     "ename": "TypeError",
     "evalue": "'TimestampedInfiniteSequence' object is not an iterator",
     "output_type": "error",
     "traceback": [
      "\u001b[0;31m---------------------------------------------------------------------------\u001b[0m",
      "\u001b[0;31mTypeError\u001b[0m                                 Traceback (most recent call last)",
      "Cell \u001b[0;32mIn[28], line 2\u001b[0m\n\u001b[1;32m      1\u001b[0m \u001b[39m# change the step size to maybe 100ms\u001b[39;00m\n\u001b[0;32m----> 2\u001b[0m \u001b[39mnext\u001b[39;49m(accel_buffer)\n",
      "\u001b[0;31mTypeError\u001b[0m: 'TimestampedInfiniteSequence' object is not an iterator"
     ]
    }
   ],
   "source": [
    "# change the step size to maybe 100ms\n",
    "next(accel_buffer)"
   ]
  },
  {
   "cell_type": "code",
   "execution_count": 29,
   "metadata": {},
   "outputs": [],
   "source": [
    "plc_buffer = TimestampedInfiniteSequence(plc_sensor_iter, buffer_len = 3)\n"
   ]
  },
  {
   "attachments": {},
   "cell_type": "markdown",
   "metadata": {},
   "source": [
    "# Using Andie's stream"
   ]
  },
  {
   "cell_type": "code",
   "execution_count": 30,
   "metadata": {},
   "outputs": [],
   "source": [
    "# careful to use floats with the wfs. \n",
    "# rescale the signal\n",
    "# buffer: keep last two values of signal"
   ]
  },
  {
   "cell_type": "code",
   "execution_count": 57,
   "metadata": {},
   "outputs": [],
   "source": [
    "def extract_edge_indices_from_bool_segment(bool_segment: np.ndarray, \n",
    "    last_sample_of_previous_segment: bool, edge_type: str) -> list:\n",
    "    #bool_segment = np.diff(bool_segment, prepend= last_sample_of_previous_segment)\n",
    "    int_segment = bool_segment.astype(int)\n",
    "    prepend = int(last_sample_of_previous_segment)\n",
    "    edges = np.diff(int_segment, prepend = prepend)\n",
    "    if edge_type == 'rising':\n",
    "        edge_value = 1\n",
    "    elif edge_type == 'descending':\n",
    "        edge_value = -1\n",
    "    return (edges==edge_value).nonzero()"
   ]
  },
  {
   "cell_type": "code",
   "execution_count": 56,
   "metadata": {},
   "outputs": [
    {
     "ename": "NameError",
     "evalue": "name 'PlcEvent' is not defined",
     "output_type": "error",
     "traceback": [
      "\u001b[0;31m---------------------------------------------------------------------------\u001b[0m",
      "\u001b[0;31mNameError\u001b[0m                                 Traceback (most recent call last)",
      "Cell \u001b[0;32mIn[56], line 67\u001b[0m\n\u001b[1;32m     61\u001b[0m         \u001b[39mself\u001b[39m\u001b[39m.\u001b[39mlast_sample_of_previous_segment \u001b[39m=\u001b[39m plc_data[\u001b[39m-\u001b[39m\u001b[39m1\u001b[39m]\n\u001b[1;32m     62\u001b[0m         \u001b[39m# get the ts of an audio segment based on the indices of some samples\u001b[39;00m\n\u001b[1;32m     63\u001b[0m         \u001b[39m# use may be AffineConverter \u001b[39;00m\n\u001b[0;32m---> 67\u001b[0m plc_event \u001b[39m=\u001b[39m PlcEvent()\n\u001b[1;32m     69\u001b[0m \u001b[39mdef\u001b[39;00m \u001b[39mextract_event_ts_from_plc_segment\u001b[39m(plc_segment):\n\u001b[1;32m     70\u001b[0m     \u001b[39mreturn\u001b[39;00m plc_event\u001b[39m.\u001b[39mprocess_segment(plc_segment)\n",
      "\u001b[0;31mNameError\u001b[0m: name 'PlcEvent' is not defined"
     ]
    }
   ],
   "source": [
    "import time\n",
    "from functools import partial\n",
    "from pprint import pprint\n",
    "\n",
    "from audiostream2py.file import WavFileSourceReader\n",
    "from audiostream2py.data import AudioSegment\n",
    "from meshed.slabs import Slabs\n",
    "import numpy as np\n",
    "\n",
    "#from plunk.ap.snippets import PLUNK_ROOT_PATH\n",
    "\n",
    "#plc_file = PLUNK_ROOT_PATH / 'sb/slabsiter_experiments/data/PLC.wav'\n",
    "#accel_file = PLUNK_ROOT_PATH / 'sb/slabsiter_experiments/data/1621346260226336_ch2.wav'\n",
    "\n",
    "plc_file = 'data/PLC.wav'\n",
    "accel_file = 'data/1621346260226336_ch2.wav'\n",
    "\n",
    "#assert plc_file.is_file(), f'File not found: {plc_file}'\n",
    "#assert accel_file.is_file(), f'File not found: {accel_file}'\n",
    "\n",
    "def plc_segment_to_bool_segment(plc_segment: AudioSegment) -> np.ndarray:\n",
    "    return np.frombuffer(plc_segment.waveform, dtype=np.int16) != 0\n",
    "\n",
    "def get_last_sample_from_bool_segment(bool_segment: np.ndarray) -> bool:\n",
    "    return bool_segment[-1]\n",
    "\n",
    "# def extract_edge_indices_from_bool_segment(bool_segment: np.ndarray, \n",
    "#     last_sample_of_previous_segment: bool, edge_type: str) -> list:\n",
    "#     bool_segment = np.insert(bool_segment, 0, last_sample_of_previous_segment)\n",
    "#     int_segment = bool_segment.astype(int)\n",
    "#     edges = np.diff(int_segment)\n",
    "#     if edge_type == 'rising':\n",
    "#         edge_value = 1\n",
    "#     elif edge_type == '':\n",
    "#         pass\n",
    "\n",
    "def extract_edge_indices_from_bool_segment(bool_segment: np.ndarray, \n",
    "    last_sample_of_previous_segment: bool, edge_type: str) -> list:\n",
    "    #bool_segment = np.diff(bool_segment, prepend= last_sample_of_previous_segment)\n",
    "    int_segment = bool_segment.astype(int)\n",
    "    prepend = int(last_sample_of_previous_segment)\n",
    "    edges = np.diff(int_segment, prepend = prepend)\n",
    "    if edge_type == 'rising':\n",
    "        edge_value = 1\n",
    "    elif edge_type == 'descending':\n",
    "        edge_value = -1\n",
    "    return (edges==edge_value).nonzero()\n",
    "        \n",
    "\n",
    "class BoolSegmentEdgeExtractor:\n",
    "    def __init__(self):\n",
    "        self.last_sample_of_previous_segment = False\n",
    "    \n",
    "    def extract_edge_indices(self, bool_segment: np.ndarray, edge_type: str) -> list:\n",
    "        bool_segment = np.insert(bool_segment, 0, self.last_sample_of_previous_segment)\n",
    "        self.last_sample_of_previous_segment = bool_segment[-1]\n",
    "\n",
    "        int_segment = bool_segment.astype(int)\n",
    "        is_rising_edge = np.diff()\n",
    "        rising_edge_indices = np.nonzero(is_rising_edge == 1)[0]\n",
    "        self.last_sample_of_previous_segment = plc_data[-1]\n",
    "        # get the ts of an audio segment based on the indices of some samples\n",
    "        # use may be AffineConverter \n",
    "        \n",
    "\n",
    "\n",
    "plc_event = PlcEvent()\n",
    "\n",
    "def extract_event_ts_from_plc_segment(plc_segment):\n",
    "    return plc_event.process_segment(plc_segment)\n",
    "\n",
    "def find_wf_at_event(wf_buffer, plc_event: AudioSegment):\n",
    "    if plc_event is None:\n",
    "        return\n",
    "    event_start = plc_event.start_date\n",
    "    event_end = plc_event.end_date\n",
    "    return np.frombuffer(wf_buffer[event_start:event_end].waveform, dtype=np.int16)\n",
    "    #return wf_buffer[event_start:event_end].waveform\n",
    "\n",
    "\n",
    "plc_source = WavFileSourceReader(plc_file, frames_per_buffer=5, start_date=0)\n",
    "accel_source = WavFileSourceReader(accel_file, frames_per_buffer=12800, start_date=0)\n",
    "\n",
    "print('plc info:')\n",
    "pprint(plc_source.info)\n",
    "print('accel info:')\n",
    "pprint(accel_source.info)\n",
    "\n",
    "with accel_source.stream_buffer(maxlen=None) as accel_buffer:\n",
    "    accel_reader = accel_buffer.mk_reader()\n",
    "    \n",
    "    with plc_source.stream_buffer(maxlen=None) as plc_buffer:\n",
    "        plc_reader = plc_buffer.mk_reader()\n",
    "        time.sleep(1)\n",
    "        next_plc = partial(plc_reader.next, ignore_no_item_found=True)\n",
    "\n",
    "        slabs = Slabs(\n",
    "            wf_buffer = lambda: accel_reader,\n",
    "            plc_segment = next_plc,\n",
    "            event_ts = extract_event_ts_from_plc_segment,\n",
    "            wf=find_wf_at_event, # needs to be changed\n",
    "            fvs = lambda wf: np.std(wf) if wf is not None else None,\n",
    "        )\n",
    "\n",
    "        for s in slabs:\n",
    "            # print(f'{s=}')\n",
    "            #if fvs is not None,:\n",
    "            #    print(f'{s.get('fvs')}')\n",
    "            if (fvs := s.get('fvs')) is not None: \n",
    "                print(fvs)\n",
    "                break"
   ]
  },
  {
   "cell_type": "code",
   "execution_count": 32,
   "metadata": {},
   "outputs": [
    {
     "data": {
      "text/plain": [
       "array([0, 2])"
      ]
     },
     "execution_count": 32,
     "metadata": {},
     "output_type": "execute_result"
    }
   ],
   "source": [
    "test = np.array([0, 10, 0, 10, 10, 0])\n",
    "test = (test!=0).astype(int)\n",
    "is_rising_edge = np.diff(test)\n",
    "rising_edge_indices = np.nonzero(is_rising_edge == 1)[0]\n",
    "rising_edge_indices"
   ]
  },
  {
   "cell_type": "code",
   "execution_count": 33,
   "metadata": {},
   "outputs": [],
   "source": [
    "from audiostream2py.file import WavFileSourceReader\n"
   ]
  },
  {
   "attachments": {},
   "cell_type": "markdown",
   "metadata": {},
   "source": [
    "# Scrap"
   ]
  },
  {
   "cell_type": "code",
   "execution_count": 34,
   "metadata": {},
   "outputs": [],
   "source": [
    "plc_source = WavFileSourceReader(plc_file, frames_per_buffer=5, start_date=0)\n"
   ]
  },
  {
   "cell_type": "code",
   "execution_count": 36,
   "metadata": {},
   "outputs": [
    {
     "data": {
      "text/plain": [
       "['buffer_reader_class',\n",
       " 'bytes_per_frame',\n",
       " 'close',\n",
       " 'enter',\n",
       " 'exit',\n",
       " 'file',\n",
       " 'frames_per_buffer',\n",
       " 'get_timestamp',\n",
       " 'info',\n",
       " 'key',\n",
       " 'open',\n",
       " 'read',\n",
       " 'set_sleep_time_on_iter_none',\n",
       " 'sleep_time_on_read_none_s',\n",
       " 'sr',\n",
       " 'start_date',\n",
       " 'stream_buffer',\n",
       " 'timestamp_seconds_to_unit_conversion']"
      ]
     },
     "execution_count": 36,
     "metadata": {},
     "output_type": "execute_result"
    }
   ],
   "source": [
    "[method for method in dir(plc_source) if not method.startswith('_') ]"
   ]
  },
  {
   "cell_type": "code",
   "execution_count": 37,
   "metadata": {},
   "outputs": [
    {
     "data": {
      "text/plain": [
       "{'file': 'data/PLC.wav',\n",
       " 'frames_per_buffer': 5,\n",
       " 'start_date': 0,\n",
       " '_fp': <wave.Wave_read at 0x7ff6bbcd78b0>,\n",
       " '_index': 0,\n",
       " '_next_bt': 0}"
      ]
     },
     "execution_count": 37,
     "metadata": {},
     "output_type": "execute_result"
    }
   ],
   "source": [
    "vars(plc_source)"
   ]
  },
  {
   "cell_type": "code",
   "execution_count": 39,
   "metadata": {},
   "outputs": [
    {
     "name": "stdout",
     "output_type": "stream",
     "text": [
      "plc info:\n",
      "{'bt': 0,\n",
      " 'channels': 1,\n",
      " 'frames_per_buffer': 5,\n",
      " 'n_frames': 59650,\n",
      " 'rate': 50,\n",
      " 'width': 2}\n",
      "accel info:\n",
      "{'bt': 0,\n",
      " 'channels': 1,\n",
      " 'frames_per_buffer': 12800,\n",
      " 'n_frames': 15270400,\n",
      " 'rate': 12800,\n",
      " 'width': 2}\n",
      "s={'wf_buffer': <audiostream2py.reader.AudioBufferReader object at 0x7ff6b8f8d780>, 'plc_segment': AudioSegment(0, 100000.0, status_flags=0)}\n"
     ]
    }
   ],
   "source": [
    "plc_source = WavFileSourceReader(plc_file, frames_per_buffer=5, start_date=0)\n",
    "accel_source = WavFileSourceReader(accel_file, frames_per_buffer=12800, start_date=0)\n",
    "\n",
    "print('plc info:')\n",
    "pprint(plc_source.info)\n",
    "print('accel info:')\n",
    "pprint(accel_source.info)\n",
    "\n",
    "with accel_source.stream_buffer(maxlen=None) as accel_buffer:\n",
    "    accel_reader = accel_buffer.mk_reader()\n",
    "    \n",
    "    with plc_source.stream_buffer(maxlen=None) as plc_buffer:\n",
    "        plc_reader = plc_buffer.mk_reader()\n",
    "        time.sleep(1)\n",
    "        next_plc = partial(plc_reader.next, ignore_no_item_found=True)\n",
    "\n",
    "        slabs = Slabs(\n",
    "            wf_buffer = lambda: accel_reader,\n",
    "            plc_segment = next_plc,\n",
    "            #event_ts = extract_event_ts_from_plc_segment,\n",
    "            #wf=find_wf_at_event, # needs to be changed\n",
    "            #fvs = lambda wf: np.std(wf) if wf is not None else None,\n",
    "        )\n",
    "\n",
    "        for s in slabs:\n",
    "            print(f'{s=}')\n",
    "            stored = s.get('plc_segment')\n",
    "            break\n",
    "            #if fvs is not None,:\n",
    "            #    print(f'{s.get('fvs')}')\n",
    "            # if (fvs := s.get('fvs')) is not None: \n",
    "            #     print(fvs)\n",
    "            #     break"
   ]
  },
  {
   "cell_type": "code",
   "execution_count": 49,
   "metadata": {},
   "outputs": [
    {
     "data": {
      "text/plain": [
       "(1, 20000.0)"
      ]
     },
     "execution_count": 49,
     "metadata": {},
     "output_type": "execute_result"
    }
   ],
   "source": [
    "stored.nearest_sample_index_and_time(0.5)"
   ]
  },
  {
   "cell_type": "code",
   "execution_count": 44,
   "metadata": {},
   "outputs": [
    {
     "data": {
      "text/plain": [
       "array([False, False, False, False, False])"
      ]
     },
     "execution_count": 44,
     "metadata": {},
     "output_type": "execute_result"
    }
   ],
   "source": [
    "plc_segment_to_bool_segment(stored)"
   ]
  },
  {
   "cell_type": "code",
   "execution_count": 46,
   "metadata": {},
   "outputs": [
    {
     "data": {
      "text/plain": [
       "b'\\x00\\x00\\x00\\x00\\x00\\x00\\x00\\x00\\x00\\x00'"
      ]
     },
     "execution_count": 46,
     "metadata": {},
     "output_type": "execute_result"
    }
   ],
   "source": [
    "stored.waveform"
   ]
  },
  {
   "cell_type": "code",
   "execution_count": 50,
   "metadata": {},
   "outputs": [
    {
     "data": {
      "text/plain": [
       "0"
      ]
     },
     "execution_count": 50,
     "metadata": {},
     "output_type": "execute_result"
    }
   ],
   "source": [
    "stored.start_date"
   ]
  },
  {
   "cell_type": "code",
   "execution_count": 51,
   "metadata": {},
   "outputs": [
    {
     "data": {
      "text/plain": [
       "100000.0"
      ]
     },
     "execution_count": 51,
     "metadata": {},
     "output_type": "execute_result"
    }
   ],
   "source": [
    "stored.end_date"
   ]
  },
  {
   "cell_type": "code",
   "execution_count": 52,
   "metadata": {},
   "outputs": [
    {
     "ename": "AttributeError",
     "evalue": "'AffineConverter' object has no attribute 'to_index'",
     "output_type": "error",
     "traceback": [
      "\u001b[0;31m---------------------------------------------------------------------------\u001b[0m",
      "\u001b[0;31mAttributeError\u001b[0m                            Traceback (most recent call last)",
      "Cell \u001b[0;32mIn[52], line 1\u001b[0m\n\u001b[0;32m----> 1\u001b[0m AffineConverter(scale\u001b[39m=\u001b[39;49m\u001b[39m1\u001b[39;49m\u001b[39m/\u001b[39;49m\u001b[39m50\u001b[39;49m, offset\u001b[39m=\u001b[39;49m\u001b[39m0\u001b[39;49m)\u001b[39m.\u001b[39;49mto_index(\u001b[39m0.5\u001b[39m)\n",
      "\u001b[0;31mAttributeError\u001b[0m: 'AffineConverter' object has no attribute 'to_index'"
     ]
    }
   ],
   "source": [
    "AffineConverter(scale=1/50, offset=0).to_index(0.5)"
   ]
  },
  {
   "cell_type": "code",
   "execution_count": 53,
   "metadata": {},
   "outputs": [
    {
     "name": "stdout",
     "output_type": "stream",
     "text": [
      "\u001b[0;31mInit signature:\u001b[0m \u001b[0mAffineConverter\u001b[0m\u001b[0;34m(\u001b[0m\u001b[0mscale\u001b[0m\u001b[0;34m=\u001b[0m\u001b[0;36m1.0\u001b[0m\u001b[0;34m,\u001b[0m \u001b[0moffset\u001b[0m\u001b[0;34m=\u001b[0m\u001b[0;36m0.0\u001b[0m\u001b[0;34m)\u001b[0m\u001b[0;34m\u001b[0m\u001b[0;34m\u001b[0m\u001b[0m\n",
      "\u001b[0;31mSource:\u001b[0m        \n",
      "\u001b[0;32mclass\u001b[0m \u001b[0mAffineConverter\u001b[0m\u001b[0;34m(\u001b[0m\u001b[0mobject\u001b[0m\u001b[0;34m)\u001b[0m\u001b[0;34m:\u001b[0m\u001b[0;34m\u001b[0m\n",
      "\u001b[0;34m\u001b[0m    \u001b[0;34m\"\"\"\u001b[0m\n",
      "\u001b[0;34m    Getting a callable that will perform an affine conversion.\u001b[0m\n",
      "\u001b[0;34m    Note, it does it as\u001b[0m\n",
      "\u001b[0;34m        (val - offset) * scale\u001b[0m\n",
      "\u001b[0;34m    (Note slope-intercept style (though there is the .from_slope_and_intercept constructor method for that)\u001b[0m\n",
      "\u001b[0;34m\u001b[0m\n",
      "\u001b[0;34m    Inverse is available through the inv method, performing:\u001b[0m\n",
      "\u001b[0;34m        val / scale + offset\u001b[0m\n",
      "\u001b[0;34m\u001b[0m\n",
      "\u001b[0;34m    >>> convert = AffineConverter(scale=0.5, offset=1)\u001b[0m\n",
      "\u001b[0;34m    >>> convert(0)\u001b[0m\n",
      "\u001b[0;34m    -0.5\u001b[0m\n",
      "\u001b[0;34m    >>> convert(10)\u001b[0m\n",
      "\u001b[0;34m    4.5\u001b[0m\n",
      "\u001b[0;34m    >>> convert.inv(4)\u001b[0m\n",
      "\u001b[0;34m    9.0\u001b[0m\n",
      "\u001b[0;34m    >>> convert.inv(4.5)\u001b[0m\n",
      "\u001b[0;34m    10.0\u001b[0m\n",
      "\u001b[0;34m    \"\"\"\u001b[0m\u001b[0;34m\u001b[0m\n",
      "\u001b[0;34m\u001b[0m\u001b[0;34m\u001b[0m\n",
      "\u001b[0;34m\u001b[0m    \u001b[0;32mdef\u001b[0m \u001b[0m__init__\u001b[0m\u001b[0;34m(\u001b[0m\u001b[0mself\u001b[0m\u001b[0;34m,\u001b[0m \u001b[0mscale\u001b[0m\u001b[0;34m=\u001b[0m\u001b[0;36m1.0\u001b[0m\u001b[0;34m,\u001b[0m \u001b[0moffset\u001b[0m\u001b[0;34m=\u001b[0m\u001b[0;36m0.0\u001b[0m\u001b[0;34m)\u001b[0m\u001b[0;34m:\u001b[0m\u001b[0;34m\u001b[0m\n",
      "\u001b[0;34m\u001b[0m        \u001b[0mself\u001b[0m\u001b[0;34m.\u001b[0m\u001b[0mscale\u001b[0m \u001b[0;34m=\u001b[0m \u001b[0mscale\u001b[0m\u001b[0;34m\u001b[0m\n",
      "\u001b[0;34m\u001b[0m        \u001b[0mself\u001b[0m\u001b[0;34m.\u001b[0m\u001b[0moffset\u001b[0m \u001b[0;34m=\u001b[0m \u001b[0moffset\u001b[0m\u001b[0;34m\u001b[0m\n",
      "\u001b[0;34m\u001b[0m\u001b[0;34m\u001b[0m\n",
      "\u001b[0;34m\u001b[0m    \u001b[0;34m@\u001b[0m\u001b[0mclassmethod\u001b[0m\u001b[0;34m\u001b[0m\n",
      "\u001b[0;34m\u001b[0m    \u001b[0;32mdef\u001b[0m \u001b[0mfrom_slope_and_intercept\u001b[0m\u001b[0;34m(\u001b[0m\u001b[0mcls\u001b[0m\u001b[0;34m,\u001b[0m \u001b[0mslope\u001b[0m\u001b[0;34m=\u001b[0m\u001b[0;36m1.0\u001b[0m\u001b[0;34m,\u001b[0m \u001b[0mintercept\u001b[0m\u001b[0;34m=\u001b[0m\u001b[0;36m0.0\u001b[0m\u001b[0;34m)\u001b[0m\u001b[0;34m:\u001b[0m\u001b[0;34m\u001b[0m\n",
      "\u001b[0;34m\u001b[0m        \u001b[0mcls\u001b[0m\u001b[0;34m(\u001b[0m\u001b[0moffset\u001b[0m\u001b[0;34m=\u001b[0m\u001b[0;34m-\u001b[0m\u001b[0mintercept\u001b[0m \u001b[0;34m/\u001b[0m \u001b[0mslope\u001b[0m\u001b[0;34m,\u001b[0m \u001b[0mscale\u001b[0m\u001b[0;34m=\u001b[0m\u001b[0mslope\u001b[0m\u001b[0;34m)\u001b[0m\u001b[0;34m\u001b[0m\n",
      "\u001b[0;34m\u001b[0m\u001b[0;34m\u001b[0m\n",
      "\u001b[0;34m\u001b[0m    \u001b[0;32mdef\u001b[0m \u001b[0m__call__\u001b[0m\u001b[0;34m(\u001b[0m\u001b[0mself\u001b[0m\u001b[0;34m,\u001b[0m \u001b[0mx\u001b[0m\u001b[0;34m)\u001b[0m\u001b[0;34m:\u001b[0m\u001b[0;34m\u001b[0m\n",
      "\u001b[0;34m\u001b[0m        \u001b[0;32mreturn\u001b[0m \u001b[0;34m(\u001b[0m\u001b[0mx\u001b[0m \u001b[0;34m-\u001b[0m \u001b[0mself\u001b[0m\u001b[0;34m.\u001b[0m\u001b[0moffset\u001b[0m\u001b[0;34m)\u001b[0m \u001b[0;34m*\u001b[0m \u001b[0mself\u001b[0m\u001b[0;34m.\u001b[0m\u001b[0mscale\u001b[0m\u001b[0;34m\u001b[0m\n",
      "\u001b[0;34m\u001b[0m\u001b[0;34m\u001b[0m\n",
      "\u001b[0;34m\u001b[0m    \u001b[0;32mdef\u001b[0m \u001b[0minv\u001b[0m\u001b[0;34m(\u001b[0m\u001b[0mself\u001b[0m\u001b[0;34m,\u001b[0m \u001b[0mx\u001b[0m\u001b[0;34m)\u001b[0m\u001b[0;34m:\u001b[0m\u001b[0;34m\u001b[0m\n",
      "\u001b[0;34m\u001b[0m        \u001b[0;32mreturn\u001b[0m \u001b[0mx\u001b[0m \u001b[0;34m/\u001b[0m \u001b[0mself\u001b[0m\u001b[0;34m.\u001b[0m\u001b[0mscale\u001b[0m \u001b[0;34m+\u001b[0m \u001b[0mself\u001b[0m\u001b[0;34m.\u001b[0m\u001b[0moffset\u001b[0m\u001b[0;34m\u001b[0m\n",
      "\u001b[0;34m\u001b[0m\u001b[0;34m\u001b[0m\n",
      "\u001b[0;34m\u001b[0m    \u001b[0;32mdef\u001b[0m \u001b[0mmap\u001b[0m\u001b[0;34m(\u001b[0m\u001b[0mself\u001b[0m\u001b[0;34m,\u001b[0m \u001b[0mseq\u001b[0m\u001b[0;34m)\u001b[0m\u001b[0;34m:\u001b[0m\u001b[0;34m\u001b[0m\n",
      "\u001b[0;34m\u001b[0m        \u001b[0;32mreturn\u001b[0m \u001b[0;34m(\u001b[0m\u001b[0mself\u001b[0m\u001b[0;34m(\u001b[0m\u001b[0mx\u001b[0m\u001b[0;34m)\u001b[0m \u001b[0;32mfor\u001b[0m \u001b[0mx\u001b[0m \u001b[0;32min\u001b[0m \u001b[0mseq\u001b[0m\u001b[0;34m)\u001b[0m\u001b[0;34m\u001b[0m\n",
      "\u001b[0;34m\u001b[0m\u001b[0;34m\u001b[0m\n",
      "\u001b[0;34m\u001b[0m    \u001b[0;32mdef\u001b[0m \u001b[0minvmap\u001b[0m\u001b[0;34m(\u001b[0m\u001b[0mself\u001b[0m\u001b[0;34m,\u001b[0m \u001b[0mseq\u001b[0m\u001b[0;34m)\u001b[0m\u001b[0;34m:\u001b[0m\u001b[0;34m\u001b[0m\n",
      "\u001b[0;34m\u001b[0m        \u001b[0;32mreturn\u001b[0m \u001b[0;34m(\u001b[0m\u001b[0mself\u001b[0m\u001b[0;34m.\u001b[0m\u001b[0minv\u001b[0m\u001b[0;34m(\u001b[0m\u001b[0mx\u001b[0m\u001b[0;34m)\u001b[0m \u001b[0;32mfor\u001b[0m \u001b[0mx\u001b[0m \u001b[0;32min\u001b[0m \u001b[0mseq\u001b[0m\u001b[0;34m)\u001b[0m\u001b[0;34m\u001b[0m\u001b[0;34m\u001b[0m\u001b[0m\n",
      "\u001b[0;31mFile:\u001b[0m           ~/Desktop/dev/otosense/hear/hear/audio_segments.py\n",
      "\u001b[0;31mType:\u001b[0m           type\n",
      "\u001b[0;31mSubclasses:\u001b[0m     "
     ]
    }
   ],
   "source": [
    "AffineConverter??\n",
    "(val-offset)*scale"
   ]
  },
  {
   "cell_type": "code",
   "execution_count": 54,
   "metadata": {},
   "outputs": [
    {
     "name": "stdout",
     "output_type": "stream",
     "text": [
      "\u001b[0;31mInit signature:\u001b[0m\n",
      "\u001b[0mWavFileSourceReader\u001b[0m\u001b[0;34m(\u001b[0m\u001b[0;34m\u001b[0m\n",
      "\u001b[0;34m\u001b[0m    \u001b[0mfile\u001b[0m\u001b[0;34m:\u001b[0m \u001b[0mUnion\u001b[0m\u001b[0;34m[\u001b[0m\u001b[0mstr\u001b[0m\u001b[0;34m,\u001b[0m \u001b[0mbytes\u001b[0m\u001b[0;34m,\u001b[0m \u001b[0mpathlib\u001b[0m\u001b[0;34m.\u001b[0m\u001b[0mPath\u001b[0m\u001b[0;34m,\u001b[0m \u001b[0m_io\u001b[0m\u001b[0;34m.\u001b[0m\u001b[0mBytesIO\u001b[0m\u001b[0;34m]\u001b[0m\u001b[0;34m,\u001b[0m\u001b[0;34m\u001b[0m\n",
      "\u001b[0;34m\u001b[0m    \u001b[0;34m*\u001b[0m\u001b[0;34m,\u001b[0m\u001b[0;34m\u001b[0m\n",
      "\u001b[0;34m\u001b[0m    \u001b[0mframes_per_buffer\u001b[0m\u001b[0;34m=\u001b[0m\u001b[0;36m1024\u001b[0m\u001b[0;34m,\u001b[0m\u001b[0;34m\u001b[0m\n",
      "\u001b[0;34m\u001b[0m    \u001b[0mstart_date\u001b[0m\u001b[0;34m=\u001b[0m\u001b[0;36m0\u001b[0m\u001b[0;34m,\u001b[0m\u001b[0;34m\u001b[0m\n",
      "\u001b[0;34m\u001b[0m\u001b[0;34m)\u001b[0m\u001b[0;34m\u001b[0m\u001b[0;34m\u001b[0m\u001b[0m\n",
      "\u001b[0;31mDocstring:\u001b[0m     \n",
      "(deprecated) Abstract class interface to be used by StreamBuffer.\n",
      "\n",
      ">>> from stream2py import SourceReader\n",
      ">>>\n",
      ">>> class SimpleCounterString(SourceReader):\n",
      "...     '''Count in range returning a string formatted as f\"s{count}\"'''\n",
      "...     def __init__(self, start, stop):\n",
      "...         assert start < stop\n",
      "...         self.start = start\n",
      "...         self.stop = stop\n",
      "...         self.range_iterator = None\n",
      "...         self.open_count = 0\n",
      "...\n",
      "...     def open(self):\n",
      "...         self.open_count += 1\n",
      "...         self.range_iterator = iter(range(self.start, self.stop))\n",
      "...\n",
      "...     def read(self):\n",
      "...         value = next(self.range_iterator, None)\n",
      "...         if value is not None:\n",
      "...             return f's{value}'\n",
      "...         else:\n",
      "...             return None\n",
      "...\n",
      "...     def close(self):\n",
      "...         del self.range_iterator\n",
      "...         self.range_iterator = None\n",
      "...\n",
      "...     @property\n",
      "...     def info(self):\n",
      "...         return dict(start=self.start, stop=self.stop, open_count=self.open_count)\n",
      "...\n",
      "...     def key(self, data):\n",
      "...         return int(data[1:])\n",
      "...\n",
      ">>> source_reader = SimpleCounterString(start=0, stop=10)\n",
      ">>> source_reader.open()\n",
      ">>> source_reader.info\n",
      "{'start': 0, 'stop': 10, 'open_count': 1}\n",
      ">>> source_reader.read()\n",
      "'s0'\n",
      ">>> source_reader.close()\n",
      ">>> with source_reader:\n",
      "...     source_reader.info\n",
      "...     source_reader.read()\n",
      "...     source_reader.read()\n",
      "...     source_reader.read()\n",
      "{'start': 0, 'stop': 10, 'open_count': 2}\n",
      "'s0'\n",
      "'s1'\n",
      "'s2'\n",
      "\u001b[0;31mSource:\u001b[0m        \n",
      "\u001b[0;32mclass\u001b[0m \u001b[0mWavFileSourceReader\u001b[0m\u001b[0;34m(\u001b[0m\u001b[0mSourceReader\u001b[0m\u001b[0;34m)\u001b[0m\u001b[0;34m:\u001b[0m\u001b[0;34m\u001b[0m\n",
      "\u001b[0;34m\u001b[0m    \u001b[0mbuffer_reader_class\u001b[0m \u001b[0;34m=\u001b[0m \u001b[0mAudioBufferReader\u001b[0m  \u001b[0;31m# BufferReader specific to AudioSegment\u001b[0m\u001b[0;34m\u001b[0m\n",
      "\u001b[0;34m\u001b[0m\u001b[0;34m\u001b[0m\n",
      "\u001b[0;34m\u001b[0m    \u001b[0;32mdef\u001b[0m \u001b[0m__init__\u001b[0m\u001b[0;34m(\u001b[0m\u001b[0;34m\u001b[0m\n",
      "\u001b[0;34m\u001b[0m        \u001b[0mself\u001b[0m\u001b[0;34m,\u001b[0m\u001b[0;34m\u001b[0m\n",
      "\u001b[0;34m\u001b[0m        \u001b[0mfile\u001b[0m\u001b[0;34m:\u001b[0m \u001b[0mUnion\u001b[0m\u001b[0;34m[\u001b[0m\u001b[0mstr\u001b[0m\u001b[0;34m,\u001b[0m \u001b[0mbytes\u001b[0m\u001b[0;34m,\u001b[0m \u001b[0mPath\u001b[0m\u001b[0;34m,\u001b[0m \u001b[0mBytesIO\u001b[0m\u001b[0;34m]\u001b[0m\u001b[0;34m,\u001b[0m\u001b[0;34m\u001b[0m\n",
      "\u001b[0;34m\u001b[0m        \u001b[0;34m*\u001b[0m\u001b[0;34m,\u001b[0m\u001b[0;34m\u001b[0m\n",
      "\u001b[0;34m\u001b[0m        \u001b[0mframes_per_buffer\u001b[0m\u001b[0;34m=\u001b[0m\u001b[0;36m1024\u001b[0m\u001b[0;34m,\u001b[0m\u001b[0;34m\u001b[0m\n",
      "\u001b[0;34m\u001b[0m        \u001b[0mstart_date\u001b[0m\u001b[0;34m=\u001b[0m\u001b[0;36m0\u001b[0m\u001b[0;34m\u001b[0m\n",
      "\u001b[0;34m\u001b[0m    \u001b[0;34m)\u001b[0m\u001b[0;34m:\u001b[0m\u001b[0;34m\u001b[0m\n",
      "\u001b[0;34m\u001b[0m        \u001b[0msuper\u001b[0m\u001b[0;34m(\u001b[0m\u001b[0;34m)\u001b[0m\u001b[0;34m.\u001b[0m\u001b[0m__init__\u001b[0m\u001b[0;34m(\u001b[0m\u001b[0;34m)\u001b[0m\u001b[0;34m\u001b[0m\n",
      "\u001b[0;34m\u001b[0m        \u001b[0mself\u001b[0m\u001b[0;34m.\u001b[0m\u001b[0mfile\u001b[0m \u001b[0;34m=\u001b[0m \u001b[0mresolve_file\u001b[0m\u001b[0;34m(\u001b[0m\u001b[0mfile\u001b[0m\u001b[0;34m)\u001b[0m\u001b[0;34m\u001b[0m\n",
      "\u001b[0;34m\u001b[0m        \u001b[0mself\u001b[0m\u001b[0;34m.\u001b[0m\u001b[0mframes_per_buffer\u001b[0m \u001b[0;34m=\u001b[0m \u001b[0mframes_per_buffer\u001b[0m\u001b[0;34m\u001b[0m\n",
      "\u001b[0;34m\u001b[0m        \u001b[0mself\u001b[0m\u001b[0;34m.\u001b[0m\u001b[0mstart_date\u001b[0m \u001b[0;34m=\u001b[0m \u001b[0mstart_date\u001b[0m\u001b[0;34m\u001b[0m\n",
      "\u001b[0;34m\u001b[0m        \u001b[0mself\u001b[0m\u001b[0;34m.\u001b[0m\u001b[0m_fp\u001b[0m\u001b[0;34m:\u001b[0m \u001b[0mwave\u001b[0m\u001b[0;34m.\u001b[0m\u001b[0mWave_read\u001b[0m \u001b[0;34m=\u001b[0m \u001b[0mwave\u001b[0m\u001b[0;34m.\u001b[0m\u001b[0mopen\u001b[0m\u001b[0;34m(\u001b[0m\u001b[0mself\u001b[0m\u001b[0;34m.\u001b[0m\u001b[0mfile\u001b[0m\u001b[0;34m,\u001b[0m \u001b[0;34m'rb'\u001b[0m\u001b[0;34m)\u001b[0m\u001b[0;34m\u001b[0m\n",
      "\u001b[0;34m\u001b[0m\u001b[0;34m\u001b[0m\n",
      "\u001b[0;34m\u001b[0m        \u001b[0mself\u001b[0m\u001b[0;34m.\u001b[0m\u001b[0m_index\u001b[0m \u001b[0;34m=\u001b[0m \u001b[0;36m0\u001b[0m\u001b[0;34m\u001b[0m\n",
      "\u001b[0;34m\u001b[0m        \u001b[0mself\u001b[0m\u001b[0;34m.\u001b[0m\u001b[0m_next_bt\u001b[0m \u001b[0;34m=\u001b[0m \u001b[0mself\u001b[0m\u001b[0;34m.\u001b[0m\u001b[0mstart_date\u001b[0m\u001b[0;34m\u001b[0m\n",
      "\u001b[0;34m\u001b[0m\u001b[0;34m\u001b[0m\n",
      "\u001b[0;34m\u001b[0m    \u001b[0;34m@\u001b[0m\u001b[0mproperty\u001b[0m\u001b[0;34m\u001b[0m\n",
      "\u001b[0;34m\u001b[0m    \u001b[0;32mdef\u001b[0m \u001b[0minfo\u001b[0m\u001b[0;34m(\u001b[0m\u001b[0mself\u001b[0m\u001b[0;34m)\u001b[0m \u001b[0;34m->\u001b[0m \u001b[0mdict\u001b[0m\u001b[0;34m:\u001b[0m\u001b[0;34m\u001b[0m\n",
      "\u001b[0;34m\u001b[0m        \u001b[0;32mreturn\u001b[0m \u001b[0;34m{\u001b[0m\u001b[0;34m\u001b[0m\n",
      "\u001b[0;34m\u001b[0m            \u001b[0;34m'channels'\u001b[0m\u001b[0;34m:\u001b[0m \u001b[0mself\u001b[0m\u001b[0;34m.\u001b[0m\u001b[0m_fp\u001b[0m\u001b[0;34m.\u001b[0m\u001b[0mgetnchannels\u001b[0m\u001b[0;34m(\u001b[0m\u001b[0;34m)\u001b[0m\u001b[0;34m,\u001b[0m\u001b[0;34m\u001b[0m\n",
      "\u001b[0;34m\u001b[0m            \u001b[0;34m'width'\u001b[0m\u001b[0;34m:\u001b[0m \u001b[0mself\u001b[0m\u001b[0;34m.\u001b[0m\u001b[0m_fp\u001b[0m\u001b[0;34m.\u001b[0m\u001b[0mgetsampwidth\u001b[0m\u001b[0;34m(\u001b[0m\u001b[0;34m)\u001b[0m\u001b[0;34m,\u001b[0m\u001b[0;34m\u001b[0m\n",
      "\u001b[0;34m\u001b[0m            \u001b[0;34m'rate'\u001b[0m\u001b[0;34m:\u001b[0m \u001b[0mself\u001b[0m\u001b[0;34m.\u001b[0m\u001b[0m_fp\u001b[0m\u001b[0;34m.\u001b[0m\u001b[0mgetframerate\u001b[0m\u001b[0;34m(\u001b[0m\u001b[0;34m)\u001b[0m\u001b[0;34m,\u001b[0m\u001b[0;34m\u001b[0m\n",
      "\u001b[0;34m\u001b[0m            \u001b[0;34m'n_frames'\u001b[0m\u001b[0;34m:\u001b[0m \u001b[0mself\u001b[0m\u001b[0;34m.\u001b[0m\u001b[0m_fp\u001b[0m\u001b[0;34m.\u001b[0m\u001b[0mgetnframes\u001b[0m\u001b[0;34m(\u001b[0m\u001b[0;34m)\u001b[0m\u001b[0;34m,\u001b[0m\u001b[0;34m\u001b[0m\n",
      "\u001b[0;34m\u001b[0m            \u001b[0;34m'frames_per_buffer'\u001b[0m\u001b[0;34m:\u001b[0m \u001b[0mself\u001b[0m\u001b[0;34m.\u001b[0m\u001b[0mframes_per_buffer\u001b[0m\u001b[0;34m,\u001b[0m\u001b[0;34m\u001b[0m\n",
      "\u001b[0;34m\u001b[0m            \u001b[0;34m'bt'\u001b[0m\u001b[0;34m:\u001b[0m \u001b[0mself\u001b[0m\u001b[0;34m.\u001b[0m\u001b[0mstart_date\u001b[0m\u001b[0;34m,\u001b[0m\u001b[0;34m\u001b[0m\n",
      "\u001b[0;34m\u001b[0m        \u001b[0;34m}\u001b[0m\u001b[0;34m\u001b[0m\n",
      "\u001b[0;34m\u001b[0m\u001b[0;34m\u001b[0m\n",
      "\u001b[0;34m\u001b[0m    \u001b[0;32mdef\u001b[0m \u001b[0mopen\u001b[0m\u001b[0;34m(\u001b[0m\u001b[0mself\u001b[0m\u001b[0;34m)\u001b[0m \u001b[0;34m->\u001b[0m \u001b[0;32mNone\u001b[0m\u001b[0;34m:\u001b[0m\u001b[0;34m\u001b[0m\n",
      "\u001b[0;34m\u001b[0m        \u001b[0mself\u001b[0m\u001b[0;34m.\u001b[0m\u001b[0m_fp\u001b[0m\u001b[0;34m.\u001b[0m\u001b[0mrewind\u001b[0m\u001b[0;34m(\u001b[0m\u001b[0;34m)\u001b[0m\u001b[0;34m\u001b[0m\n",
      "\u001b[0;34m\u001b[0m        \u001b[0mself\u001b[0m\u001b[0;34m.\u001b[0m\u001b[0m_index\u001b[0m \u001b[0;34m=\u001b[0m \u001b[0;36m0\u001b[0m\u001b[0;34m\u001b[0m\n",
      "\u001b[0;34m\u001b[0m        \u001b[0mself\u001b[0m\u001b[0;34m.\u001b[0m\u001b[0m_next_bt\u001b[0m \u001b[0;34m=\u001b[0m \u001b[0mself\u001b[0m\u001b[0;34m.\u001b[0m\u001b[0mstart_date\u001b[0m\u001b[0;34m\u001b[0m\n",
      "\u001b[0;34m\u001b[0m\u001b[0;34m\u001b[0m\n",
      "\u001b[0;34m\u001b[0m    \u001b[0;32mdef\u001b[0m \u001b[0mclose\u001b[0m\u001b[0;34m(\u001b[0m\u001b[0mself\u001b[0m\u001b[0;34m)\u001b[0m \u001b[0;34m->\u001b[0m \u001b[0;32mNone\u001b[0m\u001b[0;34m:\u001b[0m\u001b[0;34m\u001b[0m\n",
      "\u001b[0;34m\u001b[0m        \u001b[0;32mpass\u001b[0m\u001b[0;34m\u001b[0m\n",
      "\u001b[0;34m\u001b[0m\u001b[0;34m\u001b[0m\n",
      "\u001b[0;34m\u001b[0m    \u001b[0;34m@\u001b[0m\u001b[0mcached_property\u001b[0m\u001b[0;34m\u001b[0m\n",
      "\u001b[0;34m\u001b[0m    \u001b[0;32mdef\u001b[0m \u001b[0msr\u001b[0m\u001b[0;34m(\u001b[0m\u001b[0mself\u001b[0m\u001b[0;34m)\u001b[0m \u001b[0;34m->\u001b[0m \u001b[0mint\u001b[0m\u001b[0;34m:\u001b[0m\u001b[0;34m\u001b[0m\n",
      "\u001b[0;34m\u001b[0m        \u001b[0;32mreturn\u001b[0m \u001b[0mself\u001b[0m\u001b[0;34m.\u001b[0m\u001b[0m_fp\u001b[0m\u001b[0;34m.\u001b[0m\u001b[0mgetframerate\u001b[0m\u001b[0;34m(\u001b[0m\u001b[0;34m)\u001b[0m\u001b[0;34m\u001b[0m\n",
      "\u001b[0;34m\u001b[0m\u001b[0;34m\u001b[0m\n",
      "\u001b[0;34m\u001b[0m    \u001b[0;34m@\u001b[0m\u001b[0mcached_property\u001b[0m\u001b[0;34m\u001b[0m\n",
      "\u001b[0;34m\u001b[0m    \u001b[0;32mdef\u001b[0m \u001b[0mbytes_per_frame\u001b[0m\u001b[0;34m(\u001b[0m\u001b[0mself\u001b[0m\u001b[0;34m)\u001b[0m \u001b[0;34m->\u001b[0m \u001b[0mint\u001b[0m\u001b[0;34m:\u001b[0m\u001b[0;34m\u001b[0m\n",
      "\u001b[0;34m\u001b[0m        \u001b[0mwidth\u001b[0m \u001b[0;34m=\u001b[0m \u001b[0mself\u001b[0m\u001b[0;34m.\u001b[0m\u001b[0m_fp\u001b[0m\u001b[0;34m.\u001b[0m\u001b[0mgetsampwidth\u001b[0m\u001b[0;34m(\u001b[0m\u001b[0;34m)\u001b[0m\u001b[0;34m\u001b[0m\n",
      "\u001b[0;34m\u001b[0m        \u001b[0mn_channels\u001b[0m \u001b[0;34m=\u001b[0m \u001b[0mself\u001b[0m\u001b[0;34m.\u001b[0m\u001b[0m_fp\u001b[0m\u001b[0;34m.\u001b[0m\u001b[0mgetnchannels\u001b[0m\u001b[0;34m(\u001b[0m\u001b[0;34m)\u001b[0m\u001b[0;34m\u001b[0m\n",
      "\u001b[0;34m\u001b[0m        \u001b[0;32mreturn\u001b[0m \u001b[0mwidth\u001b[0m \u001b[0;34m*\u001b[0m \u001b[0mn_channels\u001b[0m\u001b[0;34m\u001b[0m\n",
      "\u001b[0;34m\u001b[0m\u001b[0;34m\u001b[0m\n",
      "\u001b[0;34m\u001b[0m    \u001b[0;32mdef\u001b[0m \u001b[0mread\u001b[0m\u001b[0;34m(\u001b[0m\u001b[0mself\u001b[0m\u001b[0;34m)\u001b[0m \u001b[0;34m->\u001b[0m \u001b[0mAudioSegment\u001b[0m\u001b[0;34m:\u001b[0m\u001b[0;34m\u001b[0m\n",
      "\u001b[0;34m\u001b[0m        \u001b[0mdata\u001b[0m \u001b[0;34m=\u001b[0m \u001b[0mself\u001b[0m\u001b[0;34m.\u001b[0m\u001b[0m_fp\u001b[0m\u001b[0;34m.\u001b[0m\u001b[0mreadframes\u001b[0m\u001b[0;34m(\u001b[0m\u001b[0mself\u001b[0m\u001b[0;34m.\u001b[0m\u001b[0mframes_per_buffer\u001b[0m\u001b[0;34m)\u001b[0m\u001b[0;34m\u001b[0m\n",
      "\u001b[0;34m\u001b[0m        \u001b[0;32mif\u001b[0m \u001b[0mlen\u001b[0m\u001b[0;34m(\u001b[0m\u001b[0mdata\u001b[0m\u001b[0;34m)\u001b[0m \u001b[0;34m==\u001b[0m \u001b[0;36m0\u001b[0m\u001b[0;34m:\u001b[0m\u001b[0;34m\u001b[0m\n",
      "\u001b[0;34m\u001b[0m            \u001b[0;32mreturn\u001b[0m \u001b[0;32mNone\u001b[0m\u001b[0;34m\u001b[0m\n",
      "\u001b[0;34m\u001b[0m\u001b[0;34m\u001b[0m\n",
      "\u001b[0;34m\u001b[0m        \u001b[0mn_frames\u001b[0m \u001b[0;34m=\u001b[0m \u001b[0mint\u001b[0m\u001b[0;34m(\u001b[0m\u001b[0mlen\u001b[0m\u001b[0;34m(\u001b[0m\u001b[0mdata\u001b[0m\u001b[0;34m)\u001b[0m \u001b[0;34m/\u001b[0m \u001b[0mself\u001b[0m\u001b[0;34m.\u001b[0m\u001b[0mbytes_per_frame\u001b[0m\u001b[0;34m)\u001b[0m\u001b[0;34m\u001b[0m\n",
      "\u001b[0;34m\u001b[0m        \u001b[0mbt\u001b[0m \u001b[0;34m=\u001b[0m \u001b[0mself\u001b[0m\u001b[0;34m.\u001b[0m\u001b[0m_next_bt\u001b[0m\u001b[0;34m\u001b[0m\n",
      "\u001b[0;34m\u001b[0m        \u001b[0mtt\u001b[0m \u001b[0;34m=\u001b[0m \u001b[0mbt\u001b[0m \u001b[0;34m+\u001b[0m \u001b[0mn_frames\u001b[0m \u001b[0;34m*\u001b[0m \u001b[0;36m1e6\u001b[0m \u001b[0;34m/\u001b[0m \u001b[0mself\u001b[0m\u001b[0;34m.\u001b[0m\u001b[0msr\u001b[0m\u001b[0;34m\u001b[0m\n",
      "\u001b[0;34m\u001b[0m        \u001b[0mself\u001b[0m\u001b[0;34m.\u001b[0m\u001b[0m_next_bt\u001b[0m \u001b[0;34m=\u001b[0m \u001b[0mtt\u001b[0m\u001b[0;34m\u001b[0m\n",
      "\u001b[0;34m\u001b[0m        \u001b[0;32mreturn\u001b[0m \u001b[0mAudioSegment\u001b[0m\u001b[0;34m(\u001b[0m\u001b[0;34m\u001b[0m\n",
      "\u001b[0;34m\u001b[0m            \u001b[0mstart_date\u001b[0m\u001b[0;34m=\u001b[0m\u001b[0mbt\u001b[0m\u001b[0;34m,\u001b[0m\u001b[0;34m\u001b[0m\n",
      "\u001b[0;34m\u001b[0m            \u001b[0mend_date\u001b[0m\u001b[0;34m=\u001b[0m\u001b[0mtt\u001b[0m\u001b[0;34m,\u001b[0m\u001b[0;34m\u001b[0m\n",
      "\u001b[0;34m\u001b[0m            \u001b[0mwaveform\u001b[0m\u001b[0;34m=\u001b[0m\u001b[0mdata\u001b[0m\u001b[0;34m,\u001b[0m\u001b[0;34m\u001b[0m\n",
      "\u001b[0;34m\u001b[0m            \u001b[0mframe_count\u001b[0m\u001b[0;34m=\u001b[0m\u001b[0mn_frames\u001b[0m\u001b[0;34m,\u001b[0m\u001b[0;34m\u001b[0m\n",
      "\u001b[0;34m\u001b[0m            \u001b[0mstatus_flags\u001b[0m\u001b[0;34m=\u001b[0m\u001b[0mPaStatusFlags\u001b[0m\u001b[0;34m.\u001b[0m\u001b[0mpaNoError\u001b[0m\u001b[0;34m,\u001b[0m\u001b[0;34m\u001b[0m\n",
      "\u001b[0;34m\u001b[0m        \u001b[0;34m)\u001b[0m\u001b[0;34m\u001b[0m\n",
      "\u001b[0;34m\u001b[0m\u001b[0;34m\u001b[0m\n",
      "\u001b[0;34m\u001b[0m    \u001b[0;32mdef\u001b[0m \u001b[0mkey\u001b[0m\u001b[0;34m(\u001b[0m\u001b[0mself\u001b[0m\u001b[0;34m,\u001b[0m \u001b[0mdata\u001b[0m\u001b[0;34m:\u001b[0m \u001b[0mAudioSegment\u001b[0m\u001b[0;34m)\u001b[0m \u001b[0;34m->\u001b[0m \u001b[0mComparableType\u001b[0m\u001b[0;34m:\u001b[0m\u001b[0;34m\u001b[0m\n",
      "\u001b[0;34m\u001b[0m        \u001b[0;34m\"\"\"AudioSegment is a ComparableType\u001b[0m\n",
      "\u001b[0;34m\u001b[0m\n",
      "\u001b[0;34m        :param data: {'bt': timestamp, 'wf': waveform, 'status_flags': status_flags}\u001b[0m\n",
      "\u001b[0;34m        :return: AudioSegment\u001b[0m\n",
      "\u001b[0;34m        \"\"\"\u001b[0m\u001b[0;34m\u001b[0m\n",
      "\u001b[0;34m\u001b[0m        \u001b[0;32mreturn\u001b[0m \u001b[0mdata\u001b[0m\u001b[0;34m.\u001b[0m\u001b[0mstart_date\u001b[0m\u001b[0;34m\u001b[0m\n",
      "\u001b[0;34m\u001b[0m\u001b[0;34m\u001b[0m\n",
      "\u001b[0;34m\u001b[0m    \u001b[0;32mdef\u001b[0m \u001b[0m__del__\u001b[0m\u001b[0;34m(\u001b[0m\u001b[0mself\u001b[0m\u001b[0;34m)\u001b[0m\u001b[0;34m:\u001b[0m\u001b[0;34m\u001b[0m\n",
      "\u001b[0;34m\u001b[0m        \u001b[0mself\u001b[0m\u001b[0;34m.\u001b[0m\u001b[0m_fp\u001b[0m\u001b[0;34m.\u001b[0m\u001b[0mclose\u001b[0m\u001b[0;34m(\u001b[0m\u001b[0;34m)\u001b[0m\u001b[0;34m\u001b[0m\u001b[0;34m\u001b[0m\u001b[0m\n",
      "\u001b[0;31mFile:\u001b[0m           ~/Desktop/dev/otosense/audiostream2py/audiostream2py/file.py\n",
      "\u001b[0;31mType:\u001b[0m           _ProtocolMeta\n",
      "\u001b[0;31mSubclasses:\u001b[0m     "
     ]
    }
   ],
   "source": [
    "WavFileSourceReader??"
   ]
  },
  {
   "cell_type": "code",
   "execution_count": 59,
   "metadata": {},
   "outputs": [
    {
     "data": {
      "text/plain": [
       "(array([1, 5]),)"
      ]
     },
     "execution_count": 59,
     "metadata": {},
     "output_type": "execute_result"
    }
   ],
   "source": [
    "arr = np.array([False, True, True, False, False, True])\n",
    "extract_edge_indices_from_bool_segment(arr, last_sample_of_previous_segment=True, edge_type='rising')\n",
    "    "
   ]
  },
  {
   "cell_type": "code",
   "execution_count": 60,
   "metadata": {},
   "outputs": [],
   "source": [
    "bool_segment_1 = np.array([False, False, False, True, True, True, False, False, False])\n",
    "bool_segment_2 = np.array([False, False, False, True, True, True, False, False, False, True])\n",
    "result_1 = extract_edge_indices_from_bool_segment(bool_segment_1, False, 'rising')\n",
    "result_2 = extract_edge_indices_from_bool_segment(bool_segment_2, False, 'descending')"
   ]
  },
  {
   "cell_type": "code",
   "execution_count": 61,
   "metadata": {},
   "outputs": [
    {
     "data": {
      "text/plain": [
       "(array([3]),)"
      ]
     },
     "execution_count": 61,
     "metadata": {},
     "output_type": "execute_result"
    }
   ],
   "source": [
    "result_1"
   ]
  },
  {
   "cell_type": "code",
   "execution_count": 62,
   "metadata": {},
   "outputs": [
    {
     "data": {
      "text/plain": [
       "(array([6]),)"
      ]
     },
     "execution_count": 62,
     "metadata": {},
     "output_type": "execute_result"
    }
   ],
   "source": [
    "result_2"
   ]
  },
  {
   "cell_type": "code",
   "execution_count": 63,
   "metadata": {},
   "outputs": [],
   "source": [
    "from plunk.sb.slabsiter_experiments.utils import (\n",
    "    extract_edge_indices_from_bool_segment,\n",
    ")"
   ]
  },
  {
   "cell_type": "code",
   "execution_count": 64,
   "metadata": {},
   "outputs": [],
   "source": [
    "bool_segment_1 = np.array([False, False, False, True, True, True, False, False, False])\n",
    "bool_segment_2 = np.array([False, False, False, True, True, True, False, False, False, True])\n",
    "result_1 = extract_edge_indices_from_bool_segment(bool_segment_1, False, 'rising')\n",
    "result_2 = extract_edge_indices_from_bool_segment(bool_segment_2, False, 'descending')"
   ]
  },
  {
   "cell_type": "code",
   "execution_count": 65,
   "metadata": {},
   "outputs": [
    {
     "data": {
      "text/plain": [
       "[3]"
      ]
     },
     "execution_count": 65,
     "metadata": {},
     "output_type": "execute_result"
    }
   ],
   "source": [
    "result_1"
   ]
  },
  {
   "cell_type": "code",
   "execution_count": 66,
   "metadata": {},
   "outputs": [
    {
     "data": {
      "text/plain": [
       "[6]"
      ]
     },
     "execution_count": 66,
     "metadata": {},
     "output_type": "execute_result"
    }
   ],
   "source": [
    "result_2"
   ]
  },
  {
   "cell_type": "code",
   "execution_count": null,
   "metadata": {},
   "outputs": [],
   "source": []
  }
 ],
 "metadata": {
  "kernelspec": {
   "display_name": "otopy310",
   "language": "python",
   "name": "python3"
  },
  "language_info": {
   "codemirror_mode": {
    "name": "ipython",
    "version": 3
   },
   "file_extension": ".py",
   "mimetype": "text/x-python",
   "name": "python",
   "nbconvert_exporter": "python",
   "pygments_lexer": "ipython3",
   "version": "3.10.0"
  },
  "orig_nbformat": 4,
  "vscode": {
   "interpreter": {
    "hash": "1b1583496da055986182577c8a7f701c9cd62d32bb22c260ed492920d961d72e"
   }
  }
 },
 "nbformat": 4,
 "nbformat_minor": 2
}
