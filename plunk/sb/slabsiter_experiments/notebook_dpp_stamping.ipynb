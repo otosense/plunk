{
 "cells": [
  {
   "cell_type": "code",
   "execution_count": 3,
   "metadata": {},
   "outputs": [
    {
     "data": {
      "text/plain": [
       "{'audio': [1, 2, 3],\n",
       " 'light': 126,\n",
       " 'movement': None,\n",
       " 'should_turn_movement_sensor_on': False,\n",
       " 'human_presence_score': None,\n",
       " 'should_notify': None,\n",
       " 'notify': None}"
      ]
     },
     "execution_count": 3,
     "metadata": {},
     "output_type": "execute_result"
    }
   ],
   "source": [
    "from meshed.slabs import Slabs\n",
    "\n",
    "from statistics import stdev\n",
    "vol = stdev\n",
    "should_turn_movement_sensor_on = lambda audio, light: vol(audio) * light > 50000\n",
    "\n",
    "def make_a_slabs_iter():\n",
    "\n",
    "    # Mocking the sensor readers\n",
    "    audio_sensor_read = iter([[1, 2, 3], [-96, 87, -92], [320, -96, 99]]).__next__\n",
    "    light_sensor_read = iter([126, 501, 523]).__next__\n",
    "    movement_sensor_read = iter([None, None, True]).__next__\n",
    "\n",
    "    return Slabs(\n",
    "        # The first three components get data from the sensors.\n",
    "        # The *_read objects are all callable, returning the next\n",
    "        # chunk of data for that sensor, if any.\n",
    "        audio=audio_sensor_read,\n",
    "        light=light_sensor_read,\n",
    "        movement=movement_sensor_read,\n",
    "        # The next\n",
    "        should_turn_movement_sensor_on = lambda audio, light: vol(audio) * light > 50000,\n",
    "        human_presence_score = lambda audio, light, movement: movement and sum([vol(audio), light]),\n",
    "        should_notify = lambda human_presence_score: human_presence_score and human_presence_score > 700,\n",
    "        notify = lambda should_notify: print('someone is there') if should_notify else None\n",
    "    )\n",
    "\n",
    "\n",
    "si = make_a_slabs_iter()\n",
    "next(si)  \n",
    "    "
   ]
  },
  {
   "cell_type": "code",
   "execution_count": 4,
   "metadata": {},
   "outputs": [
    {
     "data": {
      "text/plain": [
       "{'audio': [-96, 87, -92],\n",
       " 'light': 501,\n",
       " 'movement': None,\n",
       " 'should_turn_movement_sensor_on': True,\n",
       " 'human_presence_score': None,\n",
       " 'should_notify': None,\n",
       " 'notify': None}"
      ]
     },
     "execution_count": 4,
     "metadata": {},
     "output_type": "execute_result"
    }
   ],
   "source": [
    "next(si)"
   ]
  },
  {
   "cell_type": "code",
   "execution_count": 5,
   "metadata": {},
   "outputs": [
    {
     "name": "stdout",
     "output_type": "stream",
     "text": [
      "someone is there\n"
     ]
    },
    {
     "data": {
      "text/plain": [
       "{'audio': [320, -96, 99],\n",
       " 'light': 523,\n",
       " 'movement': True,\n",
       " 'should_turn_movement_sensor_on': True,\n",
       " 'human_presence_score': 731.1353726143957,\n",
       " 'should_notify': True,\n",
       " 'notify': None}"
      ]
     },
     "execution_count": 5,
     "metadata": {},
     "output_type": "execute_result"
    }
   ],
   "source": [
    "next(si)"
   ]
  },
  {
   "cell_type": "markdown",
   "metadata": {},
   "source": [
    "# Slabs for stamping press"
   ]
  },
  {
   "cell_type": "code",
   "execution_count": 89,
   "metadata": {},
   "outputs": [
    {
     "name": "stdout",
     "output_type": "stream",
     "text": [
      "i=0, i+step=10\n",
      "i=0, i+step=10\n"
     ]
    },
    {
     "data": {
      "text/plain": [
       "{'accel': [{'ch1': 1, 'ch2': 2, 'ch3': 3, 'ts': 0}],\n",
       " 'plc': [{'var_a': False, 'var_b': False, 'ts': 0},\n",
       "  {'var_a': False, 'var_b': False, 'ts': 5}],\n",
       " 'store_last_plc': None,\n",
       " 'plc_event': []}"
      ]
     },
     "execution_count": 89,
     "metadata": {},
     "output_type": "execute_result"
    }
   ],
   "source": [
    "from meshed.slabs import Slabs\n",
    "from more_itertools import windowed\n",
    "\n",
    "from typing import Callable\n",
    "\n",
    "last_plc = None\n",
    "def filter_on_predicate(data, pred: Callable, event):\n",
    "    if event is None:\n",
    "        return 'out1'\n",
    "    if pred(event):\n",
    "        return data\n",
    "    else: \n",
    "        return 'out1'\n",
    "\n",
    "def event_switch(event):\n",
    "    event['event_a']\n",
    "\n",
    "def demux(accel, plc):\n",
    "    result = 'out_1'\n",
    "    if plc['event_a']:\n",
    "        result = accel\n",
    "    return filter_on_predicate(accel, event_switch, plc)\n",
    "\n",
    "\n",
    "def my_iterator(obj, step = 10):\n",
    "    for i in range(0, 30, step):\n",
    "        print(f'{i=}, {i+step=}')\n",
    "        yield obj[i:i+step]\n",
    "\n",
    "def make_a_slabs_iter():\n",
    "    # Sensor readers, slabs of 1 sec\n",
    "    # use next_slice of creek InfiniteStream instead of iter\n",
    "    #accelerometer_sensor_read = iter([{'ch1':1, 'ch2':2, 'ch3':3, 'ts':001}, {'ch1':-2, 'ch2':22, 'ch3':43, 'ts':002},\n",
    "    #                                  {'ch1':92, 'ch2':94, 'ch3':95, 'ts':003}]).__next__\n",
    "    accelerometer_sensor_read = iter([{'ch1':1, 'ch2':2, 'ch3':3, 'ts':0},{'ch1':1, 'ch2':2, 'ch3':3, 'ts':10}, \n",
    "                                             {'ch1':-2, 'ch2':22, 'ch3':43, 'ts':20},{'ch1':92, 'ch2':94, 'ch3':95, 'ts':30},\n",
    "                                             {'ch1':92, 'ch2':94, 'ch3':95, 'ts':40}])\n",
    "    accel_buffer = my_iterator(TimestampedInfiniteSequence(accelerometer_sensor_read, buffer_len = 2)).__next__\n",
    "\n",
    "    # change to an iterator on slices, from 10 to 10\n",
    "    plc_read = iter([{'var_a':False, 'var_b':False,'ts':0},{'var_a':False, 'var_b':False,'ts':5}, {'var_a':True, 'var_b':False,'ts':10}, \n",
    "                        {'var_a':True, 'var_b':True,'ts':15},{'var_a':True, 'var_b':True,'ts':20},\n",
    "                        {'var_a':True, 'var_b':True,'ts':25},{'var_a':False, 'var_b':True,'ts':30},\n",
    "                        {'var_a':False, 'var_b':True,'ts':35},{'var_a':False, 'var_b':True,'ts':40}])\n",
    "    plc_buffer = my_iterator(TimestampedInfiniteSequence(plc_read, buffer_len = 3)).__next__\n",
    "    \n",
    "    # pb: what to do with different sample rates? events at the same time! {event_a, event_b}\n",
    "    return Slabs(\n",
    "        accel=accel_buffer,\n",
    "        plc=plc_buffer,\n",
    "        store_last_plc = lambda plc: set_last_plc(plc[-1]),\n",
    "        plc_event= lambda plc: list(detect_difference(plc)),\n",
    "        #demux = lambda accel, plc: filter_on_predicate(accel, event_switch, plc),\n",
    "        #buffer = lambda demux: windowed(demux, n=2)\n",
    "    )\n",
    "\n",
    "def detect_difference(arr):\n",
    "    if last_plc['var_a'] != arr[0]['var_a']:\n",
    "        yield 'event_a'\n",
    "    for x,y in zip(arr, arr[1:]):\n",
    "        if x['var_a'] != y['var_a']:\n",
    "            yield 'event_a'\n",
    "\n",
    "def set_last_plc(value):\n",
    "    global last_plc    \n",
    "    last_plc = value\n",
    "\n",
    "\n",
    "\n",
    "s = make_a_slabs_iter()\n",
    "next(s)\n",
    "#next(s)"
   ]
  },
  {
   "cell_type": "code",
   "execution_count": 90,
   "metadata": {},
   "outputs": [
    {
     "name": "stdout",
     "output_type": "stream",
     "text": [
      "i=10, i+step=20\n",
      "i=10, i+step=20\n"
     ]
    },
    {
     "data": {
      "text/plain": [
       "{'accel': [{'ch1': 1, 'ch2': 2, 'ch3': 3, 'ts': 10}],\n",
       " 'plc': [{'var_a': True, 'var_b': False, 'ts': 10},\n",
       "  {'var_a': True, 'var_b': True, 'ts': 15}],\n",
       " 'store_last_plc': None,\n",
       " 'plc_event': []}"
      ]
     },
     "execution_count": 90,
     "metadata": {},
     "output_type": "execute_result"
    }
   ],
   "source": [
    "next(s)"
   ]
  },
  {
   "cell_type": "code",
   "execution_count": 91,
   "metadata": {},
   "outputs": [
    {
     "name": "stdout",
     "output_type": "stream",
     "text": [
      "i=20, i+step=30\n",
      "i=20, i+step=30\n"
     ]
    },
    {
     "data": {
      "text/plain": [
       "{'accel': [{'ch1': -2, 'ch2': 22, 'ch3': 43, 'ts': 20}],\n",
       " 'plc': [{'var_a': True, 'var_b': True, 'ts': 20},\n",
       "  {'var_a': True, 'var_b': True, 'ts': 25}],\n",
       " 'store_last_plc': None,\n",
       " 'plc_event': []}"
      ]
     },
     "execution_count": 91,
     "metadata": {},
     "output_type": "execute_result"
    }
   ],
   "source": [
    "next(s)"
   ]
  },
  {
   "cell_type": "code",
   "execution_count": 92,
   "metadata": {},
   "outputs": [
    {
     "ename": "StopIteration",
     "evalue": "",
     "output_type": "error",
     "traceback": [
      "\u001b[0;31m---------------------------------------------------------------------------\u001b[0m",
      "\u001b[0;31mStopIteration\u001b[0m                             Traceback (most recent call last)",
      "\u001b[1;32m/Users/sylvain/Desktop/dev/otosense/plunk/plunk/sb/slabsiter_experiments/notebook_dpp_stamping.ipynb Cell 8\u001b[0m in \u001b[0;36m<cell line: 1>\u001b[0;34m()\u001b[0m\n\u001b[0;32m----> <a href='vscode-notebook-cell:/Users/sylvain/Desktop/dev/otosense/plunk/plunk/sb/slabsiter_experiments/notebook_dpp_stamping.ipynb#X32sZmlsZQ%3D%3D?line=0'>1</a>\u001b[0m \u001b[39mnext\u001b[39;49m(s)\n",
      "File \u001b[0;32m~/Desktop/dev/otosense/meshed/meshed/slabs.py:388\u001b[0m, in \u001b[0;36mSlabs.__next__\u001b[0;34m(self)\u001b[0m\n\u001b[1;32m    383\u001b[0m \u001b[39mdef\u001b[39;00m \u001b[39m__next__\u001b[39m(\u001b[39mself\u001b[39m):\n\u001b[1;32m    384\u001b[0m     \u001b[39m\"\"\"Get the next slab by calling _call_on_scope on an new empty scope.\u001b[39;00m\n\u001b[1;32m    385\u001b[0m \u001b[39m    At least one of the components will have to be argument-less and provide\u001b[39;00m\n\u001b[1;32m    386\u001b[0m \u001b[39m    some data for other components to get their inputs from, if any are needed.\u001b[39;00m\n\u001b[1;32m    387\u001b[0m \u001b[39m    \"\"\"\u001b[39;00m\n\u001b[0;32m--> 388\u001b[0m     \u001b[39mreturn\u001b[39;00m \u001b[39mself\u001b[39;49m\u001b[39m.\u001b[39;49m_call_on_scope(scope\u001b[39m=\u001b[39;49m\u001b[39mself\u001b[39;49m\u001b[39m.\u001b[39;49mscope_factory())\n",
      "File \u001b[0;32m~/Desktop/dev/otosense/meshed/meshed/slabs.py:380\u001b[0m, in \u001b[0;36mSlabs._call_on_scope\u001b[0;34m(self, scope)\u001b[0m\n\u001b[1;32m    376\u001b[0m \u001b[39m# for each component\u001b[39;00m\n\u001b[1;32m    377\u001b[0m \u001b[39mfor\u001b[39;00m name, component \u001b[39min\u001b[39;00m \u001b[39mself\u001b[39m\u001b[39m.\u001b[39mcomponents\u001b[39m.\u001b[39mitems():\n\u001b[1;32m    378\u001b[0m     \u001b[39m# call the component using scope to source any arguments it needs\u001b[39;00m\n\u001b[1;32m    379\u001b[0m     \u001b[39m# and write the result in scope, under the component's name.\u001b[39;00m\n\u001b[0;32m--> 380\u001b[0m     scope[name] \u001b[39m=\u001b[39m _call_from_dict(scope, component, \u001b[39mself\u001b[39;49m\u001b[39m.\u001b[39;49msigs[name])\n\u001b[1;32m    381\u001b[0m \u001b[39mreturn\u001b[39;00m scope\n",
      "File \u001b[0;32m~/Desktop/dev/otosense/meshed/meshed/slabs.py:176\u001b[0m, in \u001b[0;36m_call_from_dict\u001b[0;34m(kwargs, func, sig)\u001b[0m\n\u001b[1;32m    150\u001b[0m \u001b[39m\"\"\"A i2.call_forgivingly optimized for our purpose\u001b[39;00m\n\u001b[1;32m    151\u001b[0m \n\u001b[1;32m    152\u001b[0m \u001b[39mThe sig argument needs to be the Sig(func) to work correctly.\u001b[39;00m\n\u001b[0;32m   (...)\u001b[0m\n\u001b[1;32m    167\u001b[0m \n\u001b[1;32m    168\u001b[0m \u001b[39m\"\"\"\u001b[39;00m\n\u001b[1;32m    169\u001b[0m args, kwargs \u001b[39m=\u001b[39m sig\u001b[39m.\u001b[39margs_and_kwargs_from_kwargs(\n\u001b[1;32m    170\u001b[0m     kwargs,\n\u001b[1;32m    171\u001b[0m     allow_excess\u001b[39m=\u001b[39m\u001b[39mTrue\u001b[39;00m,\n\u001b[0;32m   (...)\u001b[0m\n\u001b[1;32m    174\u001b[0m     apply_defaults\u001b[39m=\u001b[39m\u001b[39mTrue\u001b[39;00m,\n\u001b[1;32m    175\u001b[0m )\n\u001b[0;32m--> 176\u001b[0m \u001b[39mreturn\u001b[39;00m func(\u001b[39m*\u001b[39;49margs, \u001b[39m*\u001b[39;49m\u001b[39m*\u001b[39;49mkwargs)\n",
      "\u001b[0;31mStopIteration\u001b[0m: "
     ]
    }
   ],
   "source": [
    "next(s)"
   ]
  },
  {
   "cell_type": "code",
   "execution_count": 9,
   "metadata": {},
   "outputs": [],
   "source": [
    "# sample rate must be the same\n",
    "# events can occur at the same time\n",
    "# Valentin: use creek"
   ]
  },
  {
   "cell_type": "code",
   "execution_count": 13,
   "metadata": {},
   "outputs": [],
   "source": [
    "#Valentin's code\n",
    "from dataclasses import dataclass\n",
    "from typing import Iterator\n",
    "from creek.infinite_sequence import BufferedGetter, OverlapsPastError\n",
    "from itertools import islice\n",
    "\n",
    "\n",
    "@dataclass\n",
    "class TimestampedInfiniteSequence:\n",
    "\n",
    "    iterator: Iterator\n",
    "    buffer_len: int\n",
    "\n",
    "    def __post_init__(self):\n",
    "        self.buffer_getter = BufferedGetter(self.buffer_len)\n",
    "\n",
    "    def __getitem__(self, item):\n",
    "        if isinstance(item, slice):\n",
    "            items = list(self.buffer_getter)\n",
    "            \n",
    "            if not len(items):\n",
    "                self.buffer_getter.extend(islice(self.iterator, 1))\n",
    "                return self.__getitem__(item)\n",
    "            #buffer = AudioData.concatenate(items)\n",
    "            if item.stop > items[-1]['ts']: #item must have a ts attribute\n",
    "                self.buffer_getter.extend(islice(self.iterator, 1))\n",
    "                return self.__getitem__(item)\n",
    "            if item.start < items[0]['ts']:\n",
    "                raise OverlapsPastError(\n",
    "                    f'wrong range'\n",
    "                    #f'You asked for {item}, but the buffer only contains the index range: {items.start_date}:{items.end_date}'\n",
    "                )\n",
    "            \n",
    "            def query(i: dict):\n",
    "                #print(f'{item.start=}, {item.stop=}, {i[\"ts\"]=}')\n",
    "                return item.start <= i['ts'] < item.stop\n",
    "            \n",
    "            return self.buffer_getter[query]\n",
    "        elif isinstance(item, int):\n",
    "            return self[slice(item, item + 1)][0]"
   ]
  },
  {
   "cell_type": "code",
   "execution_count": 14,
   "metadata": {},
   "outputs": [],
   "source": [
    "accelerometer_sensor_iter = iter([{'ch1':1, 'ch2':2, 'ch3':3, 'ts':0},{'ch1':1, 'ch2':2, 'ch3':3, 'ts':10}, {'ch1':-2, 'ch2':22, 'ch3':43, 'ts':20},{'ch1':92, 'ch2':94, 'ch3':95, 'ts':30},{'ch1':92, 'ch2':94, 'ch3':95, 'ts':40}])\n",
    "accel_buffer = TimestampedInfiniteSequence(accelerometer_sensor_iter, buffer_len = 3)\n",
    "\n",
    "#plc_sensor_iter = iter([{'var_a':False, 'var_b':False,'ts':5}, {'var_a':True, 'var_b':False,'ts':21}, {'var_a':False, 'var_b':True,'ts':32}])\n",
    "plc_sensor_iter = iter([{'var_a':False, 'var_b':False,'ts':5}, {'var_a':True, 'var_b':False,'ts':10}, \n",
    "                        {'var_a':False, 'var_b':True,'ts':15},{'var_a':False, 'var_b':True,'ts':20},\n",
    "                        {'var_a':False, 'var_b':True,'ts':25},{'var_a':False, 'var_b':True,'ts':30},\n",
    "                        {'var_a':False, 'var_b':True,'ts':35},{'var_a':False, 'var_b':True,'ts':40}])\n",
    "\n",
    "plc_buffer = TimestampedInfiniteSequence(plc_sensor_iter, buffer_len = 3)\n"
   ]
  },
  {
   "cell_type": "code",
   "execution_count": 15,
   "metadata": {},
   "outputs": [
    {
     "name": "stdout",
     "output_type": "stream",
     "text": [
      "[{'ch1': -2, 'ch2': 22, 'ch3': 43, 'ts': 20}]\n"
     ]
    }
   ],
   "source": [
    "# check the ranges\n",
    "print(accel_buffer[20:30])"
   ]
  },
  {
   "cell_type": "code",
   "execution_count": 16,
   "metadata": {},
   "outputs": [
    {
     "name": "stdout",
     "output_type": "stream",
     "text": [
      "[{'var_a': False, 'var_b': True, 'ts': 20}, {'var_a': False, 'var_b': True, 'ts': 25}]\n"
     ]
    }
   ],
   "source": [
    "print(plc_buffer[20:30])"
   ]
  },
  {
   "cell_type": "code",
   "execution_count": 17,
   "metadata": {},
   "outputs": [],
   "source": [
    "from meshed import code_to_dag\n",
    "\n",
    "@code_to_dag\n",
    "def user_story():\n",
    "    audio = audio_sensor_read(audio_source)\n",
    "    light = light_sensor_read(light_source)\n",
    "    result = myfunc(audio, light)\n",
    "    final = f(result)\n",
    "    dead_node = my_func2(audio, light)\n",
    "    \n",
    "\n"
   ]
  },
  {
   "cell_type": "code",
   "execution_count": 18,
   "metadata": {},
   "outputs": [
    {
     "data": {
      "image/svg+xml": "<?xml version=\"1.0\" encoding=\"UTF-8\" standalone=\"no\"?>\n<!DOCTYPE svg PUBLIC \"-//W3C//DTD SVG 1.1//EN\"\n \"http://www.w3.org/Graphics/SVG/1.1/DTD/svg11.dtd\">\n<!-- Generated by graphviz version 2.40.1 (20161225.0304)\n -->\n<!-- Title: %3 Pages: 1 -->\n<svg width=\"264pt\" height=\"476pt\"\n viewBox=\"0.00 0.00 263.50 476.00\" xmlns=\"http://www.w3.org/2000/svg\" xmlns:xlink=\"http://www.w3.org/1999/xlink\">\n<g id=\"graph0\" class=\"graph\" transform=\"scale(1 1) rotate(0) translate(4 472)\">\n<title>%3</title>\n<polygon fill=\"#ffffff\" stroke=\"transparent\" points=\"-4,4 -4,-472 259.5,-472 259.5,4 -4,4\"/>\n<!-- audio -->\n<g id=\"node1\" class=\"node\">\n<title>audio</title>\n<text text-anchor=\"middle\" x=\"86.5\" y=\"-302.3\" font-family=\"Times,serif\" font-size=\"14.00\" fill=\"#000000\">audio</text>\n</g>\n<!-- myfunc -->\n<g id=\"node8\" class=\"node\">\n<title>myfunc</title>\n<polygon fill=\"none\" stroke=\"#000000\" points=\"116,-252 57,-252 57,-216 116,-216 116,-252\"/>\n<text text-anchor=\"middle\" x=\"86.5\" y=\"-230.3\" font-family=\"Times,serif\" font-size=\"14.00\" fill=\"#000000\">myfunc</text>\n</g>\n<!-- audio&#45;&gt;myfunc -->\n<g id=\"edge6\" class=\"edge\">\n<title>audio&#45;&gt;myfunc</title>\n<path fill=\"none\" stroke=\"#000000\" d=\"M86.5,-287.8314C86.5,-280.131 86.5,-270.9743 86.5,-262.4166\"/>\n<polygon fill=\"#000000\" stroke=\"#000000\" points=\"90.0001,-262.4132 86.5,-252.4133 83.0001,-262.4133 90.0001,-262.4132\"/>\n</g>\n<!-- my_func2 -->\n<g id=\"node12\" class=\"node\">\n<title>my_func2</title>\n<polygon fill=\"none\" stroke=\"#000000\" points=\"207,-252 134,-252 134,-216 207,-216 207,-252\"/>\n<text text-anchor=\"middle\" x=\"170.5\" y=\"-230.3\" font-family=\"Times,serif\" font-size=\"14.00\" fill=\"#000000\">my_func2</text>\n</g>\n<!-- audio&#45;&gt;my_func2 -->\n<g id=\"edge11\" class=\"edge\">\n<title>audio&#45;&gt;my_func2</title>\n<path fill=\"none\" stroke=\"#000000\" d=\"M107.6967,-287.8314C117.9434,-279.0485 130.4003,-268.3712 141.5097,-258.8489\"/>\n<polygon fill=\"#000000\" stroke=\"#000000\" points=\"143.9952,-261.3282 149.31,-252.1628 139.4397,-256.0134 143.9952,-261.3282\"/>\n</g>\n<!-- audio_source -->\n<g id=\"node2\" class=\"node\">\n<title>audio_source</title>\n<text text-anchor=\"middle\" x=\"60.5\" y=\"-446.3\" font-family=\"Times,serif\" font-size=\"14.00\" fill=\"#000000\">audio_source</text>\n</g>\n<!-- audio_sensor_read -->\n<g id=\"node3\" class=\"node\">\n<title>audio_sensor_read</title>\n<polygon fill=\"none\" stroke=\"#000000\" points=\"121,-396 0,-396 0,-360 121,-360 121,-396\"/>\n<text text-anchor=\"middle\" x=\"60.5\" y=\"-374.3\" font-family=\"Times,serif\" font-size=\"14.00\" fill=\"#000000\">audio_sensor_read</text>\n</g>\n<!-- audio_source&#45;&gt;audio_sensor_read -->\n<g id=\"edge2\" class=\"edge\">\n<title>audio_source&#45;&gt;audio_sensor_read</title>\n<path fill=\"none\" stroke=\"#000000\" d=\"M60.5,-431.8314C60.5,-424.131 60.5,-414.9743 60.5,-406.4166\"/>\n<polygon fill=\"#000000\" stroke=\"#000000\" points=\"64.0001,-406.4132 60.5,-396.4133 57.0001,-406.4133 64.0001,-406.4132\"/>\n</g>\n<!-- audio_sensor_read&#45;&gt;audio -->\n<g id=\"edge1\" class=\"edge\">\n<title>audio_sensor_read&#45;&gt;audio</title>\n<path fill=\"none\" stroke=\"#000000\" d=\"M67.0609,-359.8314C69.9027,-351.9617 73.2937,-342.5712 76.4419,-333.8533\"/>\n<polygon fill=\"#000000\" stroke=\"#000000\" points=\"79.7462,-335.0076 79.8508,-324.4133 73.1623,-332.63 79.7462,-335.0076\"/>\n</g>\n<!-- light -->\n<g id=\"node4\" class=\"node\">\n<title>light</title>\n<text text-anchor=\"middle\" x=\"170.5\" y=\"-302.3\" font-family=\"Times,serif\" font-size=\"14.00\" fill=\"#000000\">light</text>\n</g>\n<!-- light&#45;&gt;myfunc -->\n<g id=\"edge7\" class=\"edge\">\n<title>light&#45;&gt;myfunc</title>\n<path fill=\"none\" stroke=\"#000000\" d=\"M149.3033,-287.8314C139.0566,-279.0485 126.5997,-268.3712 115.4903,-258.8489\"/>\n<polygon fill=\"#000000\" stroke=\"#000000\" points=\"117.5603,-256.0134 107.69,-252.1628 113.0048,-261.3282 117.5603,-256.0134\"/>\n</g>\n<!-- light&#45;&gt;my_func2 -->\n<g id=\"edge12\" class=\"edge\">\n<title>light&#45;&gt;my_func2</title>\n<path fill=\"none\" stroke=\"#000000\" d=\"M170.5,-287.8314C170.5,-280.131 170.5,-270.9743 170.5,-262.4166\"/>\n<polygon fill=\"#000000\" stroke=\"#000000\" points=\"174.0001,-262.4132 170.5,-252.4133 167.0001,-262.4133 174.0001,-262.4132\"/>\n</g>\n<!-- light_source -->\n<g id=\"node5\" class=\"node\">\n<title>light_source</title>\n<text text-anchor=\"middle\" x=\"197.5\" y=\"-446.3\" font-family=\"Times,serif\" font-size=\"14.00\" fill=\"#000000\">light_source</text>\n</g>\n<!-- light_sensor_read -->\n<g id=\"node6\" class=\"node\">\n<title>light_sensor_read</title>\n<polygon fill=\"none\" stroke=\"#000000\" points=\"255.5,-396 139.5,-396 139.5,-360 255.5,-360 255.5,-396\"/>\n<text text-anchor=\"middle\" x=\"197.5\" y=\"-374.3\" font-family=\"Times,serif\" font-size=\"14.00\" fill=\"#000000\">light_sensor_read</text>\n</g>\n<!-- light_source&#45;&gt;light_sensor_read -->\n<g id=\"edge4\" class=\"edge\">\n<title>light_source&#45;&gt;light_sensor_read</title>\n<path fill=\"none\" stroke=\"#000000\" d=\"M197.5,-431.8314C197.5,-424.131 197.5,-414.9743 197.5,-406.4166\"/>\n<polygon fill=\"#000000\" stroke=\"#000000\" points=\"201.0001,-406.4132 197.5,-396.4133 194.0001,-406.4133 201.0001,-406.4132\"/>\n</g>\n<!-- light_sensor_read&#45;&gt;light -->\n<g id=\"edge3\" class=\"edge\">\n<title>light_sensor_read&#45;&gt;light</title>\n<path fill=\"none\" stroke=\"#000000\" d=\"M190.6868,-359.8314C187.7356,-351.9617 184.2142,-342.5712 180.945,-333.8533\"/>\n<polygon fill=\"#000000\" stroke=\"#000000\" points=\"184.1934,-332.5476 177.405,-324.4133 177.6391,-335.0055 184.1934,-332.5476\"/>\n</g>\n<!-- result -->\n<g id=\"node7\" class=\"node\">\n<title>result</title>\n<text text-anchor=\"middle\" x=\"86.5\" y=\"-158.3\" font-family=\"Times,serif\" font-size=\"14.00\" fill=\"#000000\">result</text>\n</g>\n<!-- f -->\n<g id=\"node10\" class=\"node\">\n<title>f</title>\n<polygon fill=\"none\" stroke=\"#000000\" points=\"113.5,-108 59.5,-108 59.5,-72 113.5,-72 113.5,-108\"/>\n<text text-anchor=\"middle\" x=\"86.5\" y=\"-86.3\" font-family=\"Times,serif\" font-size=\"14.00\" fill=\"#000000\">f</text>\n</g>\n<!-- result&#45;&gt;f -->\n<g id=\"edge9\" class=\"edge\">\n<title>result&#45;&gt;f</title>\n<path fill=\"none\" stroke=\"#000000\" d=\"M86.5,-143.8314C86.5,-136.131 86.5,-126.9743 86.5,-118.4166\"/>\n<polygon fill=\"#000000\" stroke=\"#000000\" points=\"90.0001,-118.4132 86.5,-108.4133 83.0001,-118.4133 90.0001,-118.4132\"/>\n</g>\n<!-- myfunc&#45;&gt;result -->\n<g id=\"edge5\" class=\"edge\">\n<title>myfunc&#45;&gt;result</title>\n<path fill=\"none\" stroke=\"#000000\" d=\"M86.5,-215.8314C86.5,-208.131 86.5,-198.9743 86.5,-190.4166\"/>\n<polygon fill=\"#000000\" stroke=\"#000000\" points=\"90.0001,-190.4132 86.5,-180.4133 83.0001,-190.4133 90.0001,-190.4132\"/>\n</g>\n<!-- final -->\n<g id=\"node9\" class=\"node\">\n<title>final</title>\n<text text-anchor=\"middle\" x=\"86.5\" y=\"-14.3\" font-family=\"Times,serif\" font-size=\"14.00\" fill=\"#000000\">final</text>\n</g>\n<!-- f&#45;&gt;final -->\n<g id=\"edge8\" class=\"edge\">\n<title>f&#45;&gt;final</title>\n<path fill=\"none\" stroke=\"#000000\" d=\"M86.5,-71.8314C86.5,-64.131 86.5,-54.9743 86.5,-46.4166\"/>\n<polygon fill=\"#000000\" stroke=\"#000000\" points=\"90.0001,-46.4132 86.5,-36.4133 83.0001,-46.4133 90.0001,-46.4132\"/>\n</g>\n<!-- dead_node -->\n<g id=\"node11\" class=\"node\">\n<title>dead_node</title>\n<text text-anchor=\"middle\" x=\"170.5\" y=\"-158.3\" font-family=\"Times,serif\" font-size=\"14.00\" fill=\"#000000\">dead_node</text>\n</g>\n<!-- my_func2&#45;&gt;dead_node -->\n<g id=\"edge10\" class=\"edge\">\n<title>my_func2&#45;&gt;dead_node</title>\n<path fill=\"none\" stroke=\"#000000\" d=\"M170.5,-215.8314C170.5,-208.131 170.5,-198.9743 170.5,-190.4166\"/>\n<polygon fill=\"#000000\" stroke=\"#000000\" points=\"174.0001,-190.4132 170.5,-180.4133 167.0001,-190.4133 174.0001,-190.4132\"/>\n</g>\n</g>\n</svg>\n",
      "text/plain": [
       "<graphviz.dot.Digraph at 0x7f859d6b8220>"
      ]
     },
     "execution_count": 18,
     "metadata": {},
     "output_type": "execute_result"
    }
   ],
   "source": [
    "user_story.dot_digraph()"
   ]
  },
  {
   "cell_type": "code",
   "execution_count": 52,
   "metadata": {},
   "outputs": [],
   "source": [
    "s = make_a_slabs_iter()"
   ]
  },
  {
   "cell_type": "code",
   "execution_count": 54,
   "metadata": {},
   "outputs": [
    {
     "data": {
      "text/plain": [
       "[('ch1', 'ch2'), ('ch2', 'ch3')]"
      ]
     },
     "execution_count": 54,
     "metadata": {},
     "output_type": "execute_result"
    }
   ],
   "source": [
    "list(next(s)['buffer'])"
   ]
  },
  {
   "cell_type": "code",
   "execution_count": 36,
   "metadata": {},
   "outputs": [],
   "source": [
    "from more_itertools import windowed"
   ]
  },
  {
   "cell_type": "code",
   "execution_count": 37,
   "metadata": {},
   "outputs": [
    {
     "data": {
      "text/plain": [
       "[(1, 2, 3), (2, 3, 4), (3, 4, 5)]"
      ]
     },
     "execution_count": 37,
     "metadata": {},
     "output_type": "execute_result"
    }
   ],
   "source": [
    "all_windows = windowed([1, 2, 3, 4, 5], 3)\n",
    "list(all_windows)\n",
    "[(1, 2, 3), (2, 3, 4), (3, 4, 5)]"
   ]
  },
  {
   "cell_type": "code",
   "execution_count": null,
   "metadata": {},
   "outputs": [],
   "source": []
  },
  {
   "attachments": {},
   "cell_type": "markdown",
   "metadata": {},
   "source": [
    "# Using rxpy"
   ]
  },
  {
   "cell_type": "code",
   "execution_count": 8,
   "metadata": {},
   "outputs": [],
   "source": [
    "import reactivex as rx\n",
    "from reactivex import operators as ops\n",
    "\n",
    "\n",
    "letters = rx.from_([\"Alpha\", \"Beta\", \"Gamma\", \"Delta\", \"Epsilon\"])\n",
    "numbers = rx.from_([1,2,3,4,5])"
   ]
  },
  {
   "cell_type": "code",
   "execution_count": 11,
   "metadata": {},
   "outputs": [
    {
     "name": "stdout",
     "output_type": "stream",
     "text": [
      "1\n",
      "2\n",
      "3\n",
      "4\n",
      "5\n"
     ]
    },
    {
     "data": {
      "text/plain": [
       "<reactivex.disposable.disposable.Disposable at 0x7f859d38ab80>"
      ]
     },
     "execution_count": 11,
     "metadata": {},
     "output_type": "execute_result"
    }
   ],
   "source": [
    "numbers.subscribe(lambda x: print(x))"
   ]
  },
  {
   "cell_type": "code",
   "execution_count": 12,
   "metadata": {},
   "outputs": [
    {
     "name": "stdout",
     "output_type": "stream",
     "text": [
      "1\n",
      "2\n",
      "3\n",
      "4\n",
      "5\n"
     ]
    },
    {
     "ename": "AttributeError",
     "evalue": "'Disposable' object has no attribute 'subscribe'",
     "output_type": "error",
     "traceback": [
      "\u001b[0;31m---------------------------------------------------------------------------\u001b[0m",
      "\u001b[0;31mAttributeError\u001b[0m                            Traceback (most recent call last)",
      "\u001b[1;32m/Users/sylvain/Desktop/dev/otosense/plunk/plunk/sb/slabsiter_experiments/notebook_dpp_stamping.ipynb Cell 24\u001b[0m in \u001b[0;36m<cell line: 1>\u001b[0;34m()\u001b[0m\n\u001b[0;32m----> <a href='vscode-notebook-cell:/Users/sylvain/Desktop/dev/otosense/plunk/plunk/sb/slabsiter_experiments/notebook_dpp_stamping.ipynb#X36sZmlsZQ%3D%3D?line=0'>1</a>\u001b[0m letters\u001b[39m.\u001b[39;49mpipe(ops\u001b[39m.\u001b[39;49mskip_until(numbers\u001b[39m.\u001b[39;49msubscribe(\u001b[39mprint\u001b[39;49m)))\u001b[39m.\u001b[39;49msubscribe(\u001b[39mprint\u001b[39;49m)\n",
      "File \u001b[0;32m~/opt/anaconda3/envs/otopy38/lib/python3.8/site-packages/reactivex/observable/observable.py:142\u001b[0m, in \u001b[0;36mObservable.subscribe\u001b[0;34m(self, on_next, on_error, on_completed, scheduler)\u001b[0m\n\u001b[1;32m    140\u001b[0m current_thread_scheduler \u001b[39m=\u001b[39m CurrentThreadScheduler\u001b[39m.\u001b[39msingleton()\n\u001b[1;32m    141\u001b[0m \u001b[39mif\u001b[39;00m current_thread_scheduler\u001b[39m.\u001b[39mschedule_required():\n\u001b[0;32m--> 142\u001b[0m     current_thread_scheduler\u001b[39m.\u001b[39;49mschedule(set_disposable)\n\u001b[1;32m    143\u001b[0m \u001b[39melse\u001b[39;00m:\n\u001b[1;32m    144\u001b[0m     set_disposable()\n",
      "File \u001b[0;32m~/opt/anaconda3/envs/otopy38/lib/python3.8/site-packages/reactivex/scheduler/trampolinescheduler.py:49\u001b[0m, in \u001b[0;36mTrampolineScheduler.schedule\u001b[0;34m(self, action, state)\u001b[0m\n\u001b[1;32m     35\u001b[0m \u001b[39mdef\u001b[39;00m \u001b[39mschedule\u001b[39m(\n\u001b[1;32m     36\u001b[0m     \u001b[39mself\u001b[39m, action: abc\u001b[39m.\u001b[39mScheduledAction[_TState], state: Optional[_TState] \u001b[39m=\u001b[39m \u001b[39mNone\u001b[39;00m\n\u001b[1;32m     37\u001b[0m ) \u001b[39m-\u001b[39m\u001b[39m>\u001b[39m abc\u001b[39m.\u001b[39mDisposableBase:\n\u001b[1;32m     38\u001b[0m     \u001b[39m\"\"\"Schedules an action to be executed.\u001b[39;00m\n\u001b[1;32m     39\u001b[0m \n\u001b[1;32m     40\u001b[0m \u001b[39m    Args:\u001b[39;00m\n\u001b[0;32m   (...)\u001b[0m\n\u001b[1;32m     46\u001b[0m \u001b[39m        (best effort).\u001b[39;00m\n\u001b[1;32m     47\u001b[0m \u001b[39m    \"\"\"\u001b[39;00m\n\u001b[0;32m---> 49\u001b[0m     \u001b[39mreturn\u001b[39;00m \u001b[39mself\u001b[39;49m\u001b[39m.\u001b[39;49mschedule_absolute(\u001b[39mself\u001b[39;49m\u001b[39m.\u001b[39;49mnow, action, state\u001b[39m=\u001b[39;49mstate)\n",
      "File \u001b[0;32m~/opt/anaconda3/envs/otopy38/lib/python3.8/site-packages/reactivex/scheduler/trampolinescheduler.py:95\u001b[0m, in \u001b[0;36mTrampolineScheduler.schedule_absolute\u001b[0;34m(self, duetime, action, state)\u001b[0m\n\u001b[1;32m     92\u001b[0m     log\u001b[39m.\u001b[39mwarning(\u001b[39m\"\u001b[39m\u001b[39mDo not schedule blocking work!\u001b[39m\u001b[39m\"\u001b[39m)\n\u001b[1;32m     93\u001b[0m item: ScheduledItem \u001b[39m=\u001b[39m ScheduledItem(\u001b[39mself\u001b[39m, state, action, dt)\n\u001b[0;32m---> 95\u001b[0m \u001b[39mself\u001b[39;49m\u001b[39m.\u001b[39;49mget_trampoline()\u001b[39m.\u001b[39;49mrun(item)\n\u001b[1;32m     97\u001b[0m \u001b[39mreturn\u001b[39;00m item\u001b[39m.\u001b[39mdisposable\n",
      "File \u001b[0;32m~/opt/anaconda3/envs/otopy38/lib/python3.8/site-packages/reactivex/scheduler/trampoline.py:30\u001b[0m, in \u001b[0;36mTrampoline.run\u001b[0;34m(self, item)\u001b[0m\n\u001b[1;32m     28\u001b[0m         \u001b[39mreturn\u001b[39;00m\n\u001b[1;32m     29\u001b[0m \u001b[39mtry\u001b[39;00m:\n\u001b[0;32m---> 30\u001b[0m     \u001b[39mself\u001b[39;49m\u001b[39m.\u001b[39;49m_run()\n\u001b[1;32m     31\u001b[0m \u001b[39mfinally\u001b[39;00m:\n\u001b[1;32m     32\u001b[0m     \u001b[39mwith\u001b[39;00m \u001b[39mself\u001b[39m\u001b[39m.\u001b[39m_lock:\n",
      "File \u001b[0;32m~/opt/anaconda3/envs/otopy38/lib/python3.8/site-packages/reactivex/scheduler/trampoline.py:51\u001b[0m, in \u001b[0;36mTrampoline._run\u001b[0;34m(self)\u001b[0m\n\u001b[1;32m     49\u001b[0m     item \u001b[39m=\u001b[39m ready\u001b[39m.\u001b[39mpopleft()\n\u001b[1;32m     50\u001b[0m     \u001b[39mif\u001b[39;00m \u001b[39mnot\u001b[39;00m item\u001b[39m.\u001b[39mis_cancelled():\n\u001b[0;32m---> 51\u001b[0m         item\u001b[39m.\u001b[39;49minvoke()\n\u001b[1;32m     53\u001b[0m \u001b[39mwith\u001b[39;00m \u001b[39mself\u001b[39m\u001b[39m.\u001b[39m_lock:\n\u001b[1;32m     54\u001b[0m     \u001b[39mif\u001b[39;00m \u001b[39mlen\u001b[39m(\u001b[39mself\u001b[39m\u001b[39m.\u001b[39m_queue) \u001b[39m==\u001b[39m \u001b[39m0\u001b[39m:\n",
      "File \u001b[0;32m~/opt/anaconda3/envs/otopy38/lib/python3.8/site-packages/reactivex/scheduler/scheduleditem.py:27\u001b[0m, in \u001b[0;36mScheduledItem.invoke\u001b[0;34m(self)\u001b[0m\n\u001b[1;32m     26\u001b[0m \u001b[39mdef\u001b[39;00m \u001b[39minvoke\u001b[39m(\u001b[39mself\u001b[39m) \u001b[39m-\u001b[39m\u001b[39m>\u001b[39m \u001b[39mNone\u001b[39;00m:\n\u001b[0;32m---> 27\u001b[0m     ret \u001b[39m=\u001b[39m \u001b[39mself\u001b[39;49m\u001b[39m.\u001b[39;49mscheduler\u001b[39m.\u001b[39;49minvoke_action(\u001b[39mself\u001b[39;49m\u001b[39m.\u001b[39;49maction, state\u001b[39m=\u001b[39;49m\u001b[39mself\u001b[39;49m\u001b[39m.\u001b[39;49mstate)\n\u001b[1;32m     28\u001b[0m     \u001b[39mself\u001b[39m\u001b[39m.\u001b[39mdisposable\u001b[39m.\u001b[39mdisposable \u001b[39m=\u001b[39m ret\n",
      "File \u001b[0;32m~/opt/anaconda3/envs/otopy38/lib/python3.8/site-packages/reactivex/scheduler/scheduler.py:105\u001b[0m, in \u001b[0;36mScheduler.invoke_action\u001b[0;34m(self, action, state)\u001b[0m\n\u001b[1;32m     90\u001b[0m \u001b[39mdef\u001b[39;00m \u001b[39minvoke_action\u001b[39m(\n\u001b[1;32m     91\u001b[0m     \u001b[39mself\u001b[39m, action: abc\u001b[39m.\u001b[39mScheduledAction[_TState], state: Optional[_TState] \u001b[39m=\u001b[39m \u001b[39mNone\u001b[39;00m\n\u001b[1;32m     92\u001b[0m ) \u001b[39m-\u001b[39m\u001b[39m>\u001b[39m abc\u001b[39m.\u001b[39mDisposableBase:\n\u001b[1;32m     93\u001b[0m     \u001b[39m\"\"\"Invoke the given given action. This is typically called by instances\u001b[39;00m\n\u001b[1;32m     94\u001b[0m \u001b[39m    of ScheduledItem.\u001b[39;00m\n\u001b[1;32m     95\u001b[0m \n\u001b[0;32m   (...)\u001b[0m\n\u001b[1;32m    102\u001b[0m \u001b[39m        (no-op) disposable otherwise.\u001b[39;00m\n\u001b[1;32m    103\u001b[0m \u001b[39m    \"\"\"\u001b[39;00m\n\u001b[0;32m--> 105\u001b[0m     ret \u001b[39m=\u001b[39m action(\u001b[39mself\u001b[39;49m, state)\n\u001b[1;32m    106\u001b[0m     \u001b[39mif\u001b[39;00m \u001b[39misinstance\u001b[39m(ret, abc\u001b[39m.\u001b[39mDisposableBase):\n\u001b[1;32m    107\u001b[0m         \u001b[39mreturn\u001b[39;00m ret\n",
      "File \u001b[0;32m~/opt/anaconda3/envs/otopy38/lib/python3.8/site-packages/reactivex/observable/observable.py:127\u001b[0m, in \u001b[0;36mObservable.subscribe.<locals>.set_disposable\u001b[0;34m(_, __)\u001b[0m\n\u001b[1;32m    125\u001b[0m     subscriber \u001b[39m=\u001b[39m \u001b[39mself\u001b[39m\u001b[39m.\u001b[39m_subscribe_core(auto_detach_observer, scheduler)\n\u001b[1;32m    126\u001b[0m \u001b[39mexcept\u001b[39;00m \u001b[39mException\u001b[39;00m \u001b[39mas\u001b[39;00m ex:  \u001b[39m# By design. pylint: disable=W0703\u001b[39;00m\n\u001b[0;32m--> 127\u001b[0m     \u001b[39mif\u001b[39;00m \u001b[39mnot\u001b[39;00m auto_detach_observer\u001b[39m.\u001b[39;49mfail(ex):\n\u001b[1;32m    128\u001b[0m         \u001b[39mraise\u001b[39;00m\n\u001b[1;32m    129\u001b[0m \u001b[39melse\u001b[39;00m:\n",
      "File \u001b[0;32m~/opt/anaconda3/envs/otopy38/lib/python3.8/site-packages/reactivex/observer/autodetachobserver.py:64\u001b[0m, in \u001b[0;36mAutoDetachObserver.fail\u001b[0;34m(self, exn)\u001b[0m\n\u001b[1;32m     61\u001b[0m     \u001b[39mreturn\u001b[39;00m \u001b[39mFalse\u001b[39;00m\n\u001b[1;32m     63\u001b[0m \u001b[39mself\u001b[39m\u001b[39m.\u001b[39mis_stopped \u001b[39m=\u001b[39m \u001b[39mTrue\u001b[39;00m\n\u001b[0;32m---> 64\u001b[0m \u001b[39mself\u001b[39;49m\u001b[39m.\u001b[39;49m_on_error(exn)\n\u001b[1;32m     65\u001b[0m \u001b[39mreturn\u001b[39;00m \u001b[39mTrue\u001b[39;00m\n",
      "File \u001b[0;32m~/opt/anaconda3/envs/otopy38/lib/python3.8/site-packages/reactivex/internal/basic.py:34\u001b[0m, in \u001b[0;36mdefault_error\u001b[0;34m(err)\u001b[0m\n\u001b[1;32m     32\u001b[0m \u001b[39mdef\u001b[39;00m \u001b[39mdefault_error\u001b[39m(err: Union[\u001b[39mException\u001b[39;00m, \u001b[39mstr\u001b[39m]) \u001b[39m-\u001b[39m\u001b[39m>\u001b[39m NoReturn:\n\u001b[1;32m     33\u001b[0m     \u001b[39mif\u001b[39;00m \u001b[39misinstance\u001b[39m(err, \u001b[39mBaseException\u001b[39;00m):\n\u001b[0;32m---> 34\u001b[0m         \u001b[39mraise\u001b[39;00m err\n\u001b[1;32m     36\u001b[0m     \u001b[39mraise\u001b[39;00m \u001b[39mException\u001b[39;00m(err)\n",
      "File \u001b[0;32m~/opt/anaconda3/envs/otopy38/lib/python3.8/site-packages/reactivex/observable/observable.py:125\u001b[0m, in \u001b[0;36mObservable.subscribe.<locals>.set_disposable\u001b[0;34m(_, __)\u001b[0m\n\u001b[1;32m    121\u001b[0m \u001b[39mdef\u001b[39;00m \u001b[39mset_disposable\u001b[39m(\n\u001b[1;32m    122\u001b[0m     _: Optional[abc\u001b[39m.\u001b[39mSchedulerBase] \u001b[39m=\u001b[39m \u001b[39mNone\u001b[39;00m, __: Any \u001b[39m=\u001b[39m \u001b[39mNone\u001b[39;00m\n\u001b[1;32m    123\u001b[0m ) \u001b[39m-\u001b[39m\u001b[39m>\u001b[39m \u001b[39mNone\u001b[39;00m:\n\u001b[1;32m    124\u001b[0m     \u001b[39mtry\u001b[39;00m:\n\u001b[0;32m--> 125\u001b[0m         subscriber \u001b[39m=\u001b[39m \u001b[39mself\u001b[39;49m\u001b[39m.\u001b[39;49m_subscribe_core(auto_detach_observer, scheduler)\n\u001b[1;32m    126\u001b[0m     \u001b[39mexcept\u001b[39;00m \u001b[39mException\u001b[39;00m \u001b[39mas\u001b[39;00m ex:  \u001b[39m# By design. pylint: disable=W0703\u001b[39;00m\n\u001b[1;32m    127\u001b[0m         \u001b[39mif\u001b[39;00m \u001b[39mnot\u001b[39;00m auto_detach_observer\u001b[39m.\u001b[39mfail(ex):\n",
      "File \u001b[0;32m~/opt/anaconda3/envs/otopy38/lib/python3.8/site-packages/reactivex/observable/observable.py:49\u001b[0m, in \u001b[0;36mObservable._subscribe_core\u001b[0;34m(self, observer, scheduler)\u001b[0m\n\u001b[1;32m     44\u001b[0m \u001b[39mdef\u001b[39;00m \u001b[39m_subscribe_core\u001b[39m(\n\u001b[1;32m     45\u001b[0m     \u001b[39mself\u001b[39m,\n\u001b[1;32m     46\u001b[0m     observer: abc\u001b[39m.\u001b[39mObserverBase[_T_out],\n\u001b[1;32m     47\u001b[0m     scheduler: Optional[abc\u001b[39m.\u001b[39mSchedulerBase] \u001b[39m=\u001b[39m \u001b[39mNone\u001b[39;00m,\n\u001b[1;32m     48\u001b[0m ) \u001b[39m-\u001b[39m\u001b[39m>\u001b[39m abc\u001b[39m.\u001b[39mDisposableBase:\n\u001b[0;32m---> 49\u001b[0m     \u001b[39mreturn\u001b[39;00m \u001b[39mself\u001b[39;49m\u001b[39m.\u001b[39;49m_subscribe(observer, scheduler) \u001b[39mif\u001b[39;00m \u001b[39mself\u001b[39m\u001b[39m.\u001b[39m_subscribe \u001b[39melse\u001b[39;00m Disposable()\n",
      "File \u001b[0;32m~/opt/anaconda3/envs/otopy38/lib/python3.8/site-packages/reactivex/operators/_skipuntil.py:61\u001b[0m, in \u001b[0;36mskip_until_.<locals>.skip_until.<locals>.subscribe\u001b[0;34m(observer, scheduler)\u001b[0m\n\u001b[1;32m     58\u001b[0m \u001b[39mdef\u001b[39;00m \u001b[39mon_completed2\u001b[39m():\n\u001b[1;32m     59\u001b[0m     right_subscription\u001b[39m.\u001b[39mdispose()\n\u001b[0;32m---> 61\u001b[0m right_subscription\u001b[39m.\u001b[39mdisposable \u001b[39m=\u001b[39m obs\u001b[39m.\u001b[39;49msubscribe(\n\u001b[1;32m     62\u001b[0m     on_next2, observer\u001b[39m.\u001b[39mon_error, on_completed2, scheduler\u001b[39m=\u001b[39mscheduler\n\u001b[1;32m     63\u001b[0m )\n\u001b[1;32m     65\u001b[0m \u001b[39mreturn\u001b[39;00m subscriptions\n",
      "\u001b[0;31mAttributeError\u001b[0m: 'Disposable' object has no attribute 'subscribe'"
     ]
    }
   ],
   "source": [
    "letters.pipe(ops.skip_until(numbers.subscribe(print))).subscribe(print)"
   ]
  },
  {
   "cell_type": "code",
   "execution_count": null,
   "metadata": {},
   "outputs": [],
   "source": [
    "letters.pipe(ops.skip_until(lambda s: len(s)), ops.filter(lambda i: i >= 5)).subscribe(\n",
    "    lambda value: print(\"Received {0}\".format(value))\n",
    ")"
   ]
  },
  {
   "cell_type": "code",
   "execution_count": null,
   "metadata": {},
   "outputs": [],
   "source": [
    "ops"
   ]
  },
  {
   "cell_type": "code",
   "execution_count": 3,
   "metadata": {},
   "outputs": [
    {
     "ename": "AttributeError",
     "evalue": "'Observable' object has no attribute 'take_while'",
     "output_type": "error",
     "traceback": [
      "\u001b[0;31m---------------------------------------------------------------------------\u001b[0m",
      "\u001b[0;31mAttributeError\u001b[0m                            Traceback (most recent call last)",
      "\u001b[1;32m/Users/sylvain/Desktop/dev/otosense/plunk/plunk/sb/slabsiter_experiments/notebook_dpp_stamping.ipynb Cell 23\u001b[0m in \u001b[0;36m<cell line: 1>\u001b[0;34m()\u001b[0m\n\u001b[0;32m----> <a href='vscode-notebook-cell:/Users/sylvain/Desktop/dev/otosense/plunk/plunk/sb/slabsiter_experiments/notebook_dpp_stamping.ipynb#X33sZmlsZQ%3D%3D?line=0'>1</a>\u001b[0m letters\u001b[39m.\u001b[39;49mtake_while(\u001b[39mlambda\u001b[39;00m s: \u001b[39mnot\u001b[39;00m re\u001b[39m.\u001b[39mmatch(\u001b[39mr\u001b[39m\u001b[39m\"\u001b[39m\u001b[39m.*ta\u001b[39m\u001b[39m\"\u001b[39m, s))\u001b[39m.\u001b[39msubscribe(\u001b[39mprint\u001b[39m)\n",
      "\u001b[0;31mAttributeError\u001b[0m: 'Observable' object has no attribute 'take_while'"
     ]
    }
   ],
   "source": [
    "letters.take_while(lambda s: not re.match(r\".*ta\", s)).subscribe(print)"
   ]
  },
  {
   "cell_type": "code",
   "execution_count": null,
   "metadata": {},
   "outputs": [],
   "source": []
  },
  {
   "attachments": {},
   "cell_type": "markdown",
   "metadata": {},
   "source": [
    "# Scrap"
   ]
  },
  {
   "cell_type": "code",
   "execution_count": null,
   "metadata": {},
   "outputs": [],
   "source": [
    "# reactive programming in slabs\n",
    "# start with reading the plc\n",
    "# do  the async stuff\n",
    "# you buffer the plc\n",
    "# how to solve the backpressure problem?\n",
    "# if None: we do not ignore the input (slabs is a function)\n",
    "# handling the signals: check the notes\n",
    "# in meshed: get exceptions"
   ]
  }
 ],
 "metadata": {
  "kernelspec": {
   "display_name": "otopy310",
   "language": "python",
   "name": "python3"
  },
  "language_info": {
   "codemirror_mode": {
    "name": "ipython",
    "version": 3
   },
   "file_extension": ".py",
   "mimetype": "text/x-python",
   "name": "python",
   "nbconvert_exporter": "python",
   "pygments_lexer": "ipython3",
   "version": "3.8.11"
  },
  "orig_nbformat": 4,
  "vscode": {
   "interpreter": {
    "hash": "1b1583496da055986182577c8a7f701c9cd62d32bb22c260ed492920d961d72e"
   }
  }
 },
 "nbformat": 4,
 "nbformat_minor": 2
}
