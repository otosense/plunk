{
   "cells": [
      {
         "attachments": {},
         "cell_type": "markdown",
         "metadata": {},
         "source": [
            "# Make a slabs_iter"
         ]
      },
      {
         "cell_type": "code",
         "execution_count": 2,
         "metadata": {},
         "outputs": [
            {
               "data": {
                  "text/plain": [
                     "{'audio': [1, 2, 3],\n",
                     " 'light': 126,\n",
                     " 'movement': None,\n",
                     " 'should_turn_movement_sensor_on': False,\n",
                     " 'human_presence_score': None,\n",
                     " 'should_notify': None,\n",
                     " 'notify': None}"
                  ]
               },
               "execution_count": 2,
               "metadata": {},
               "output_type": "execute_result"
            }
         ],
         "source": [
            "# from the documentation of slabs \n",
            "\n",
            "from meshed.slabs import Slabs\n",
            "\n",
            "from statistics import stdev\n",
            "vol = stdev\n",
            "should_turn_movement_sensor_on = lambda audio, light: vol(audio) * light > 50000\n",
            "\n",
            "def make_a_slabs_iter():\n",
            "\n",
            "    # Mocking the sensor readers\n",
            "    audio_sensor_read = iter([[1, 2, 3], [-96, 87, -92], [320, -96, 99]]).__next__\n",
            "    light_sensor_read = iter([126, 501, 523]).__next__\n",
            "    movement_sensor_read = iter([None, None, True]).__next__\n",
            "\n",
            "    return Slabs(\n",
            "        # The first three components get data from the sensors.\n",
            "        # The *_read objects are all callable, returning the next\n",
            "        # chunk of data for that sensor, if any.\n",
            "        audio=audio_sensor_read,\n",
            "        light=light_sensor_read,\n",
            "        movement=movement_sensor_read,\n",
            "        # The next\n",
            "        should_turn_movement_sensor_on = lambda audio, light: vol(audio) * light > 50000,\n",
            "        human_presence_score = lambda audio, light, movement: movement and sum([vol(audio), light]),\n",
            "        should_notify = lambda human_presence_score: human_presence_score and human_presence_score > 700,\n",
            "        notify = lambda should_notify: print('someone is there') if should_notify else None\n",
            "    )\n",
            "\n",
            "\n",
            "si = make_a_slabs_iter()\n",
            "next(si)  \n",
            "    "
         ]
      },
      {
         "cell_type": "code",
         "execution_count": 3,
         "metadata": {},
         "outputs": [
            {
               "data": {
                  "text/plain": [
                     "{'audio': [-96, 87, -92],\n",
                     " 'light': 501,\n",
                     " 'movement': None,\n",
                     " 'should_turn_movement_sensor_on': True,\n",
                     " 'human_presence_score': None,\n",
                     " 'should_notify': None,\n",
                     " 'notify': None}"
                  ]
               },
               "execution_count": 3,
               "metadata": {},
               "output_type": "execute_result"
            }
         ],
         "source": [
            "next(si)"
         ]
      },
      {
         "attachments": {},
         "cell_type": "markdown",
         "metadata": {},
         "source": [
            "# Slabs for stamping press"
         ]
      },
      {
         "cell_type": "code",
         "execution_count": 1,
         "metadata": {},
         "outputs": [],
         "source": [
            "#Valentin's code\n",
            "from dataclasses import dataclass\n",
            "from typing import Iterator\n",
            "from creek.infinite_sequence import BufferedGetter, OverlapsPastError\n",
            "from itertools import islice\n",
            "\n",
            "\n",
            "@dataclass\n",
            "class TimestampedInfiniteSequence:\n",
            "\n",
            "    iterator: Iterator\n",
            "    buffer_len: int\n",
            "\n",
            "    def __post_init__(self):\n",
            "        self.buffer_getter = BufferedGetter(self.buffer_len)\n",
            "\n",
            "    def __getitem__(self, item):\n",
            "        if isinstance(item, slice):\n",
            "            items = list(self.buffer_getter)\n",
            "            \n",
            "            if not len(items):\n",
            "                self.buffer_getter.extend(islice(self.iterator, 1))\n",
            "                return self.__getitem__(item)\n",
            "            #buffer = AudioData.concatenate(items)\n",
            "            if item.stop > items[-1]['ts']: #item must have a ts attribute\n",
            "                self.buffer_getter.extend(islice(self.iterator, 1))\n",
            "                return self.__getitem__(item)\n",
            "            if item.start < items[0]['ts']:\n",
            "                raise OverlapsPastError(\n",
            "                    f'wrong range'\n",
            "                    #f'You asked for {item}, but the buffer only contains the index range: {items.start_date}:{items.end_date}'\n",
            "                )\n",
            "            \n",
            "            def query(i: dict):\n",
            "                #print(f'{item.start=}, {item.stop=}, {i[\"ts\"]=}')\n",
            "                return item.start <= i['ts'] < item.stop\n",
            "            \n",
            "            return self.buffer_getter[query]\n",
            "        elif isinstance(item, int):\n",
            "            return self[slice(item, item + 1)][0]"
         ]
      },
      {
         "cell_type": "code",
         "execution_count": 25,
         "metadata": {},
         "outputs": [
            {
               "name": "stdout",
               "output_type": "stream",
               "text": [
                  "i=0, i+step=10\n",
                  "i=0, i+step=10\n"
               ]
            },
            {
               "data": {
                  "text/plain": [
                     "{'accel': [{'ch1': 1, 'ch2': 2, 'ch3': 3, 'ts': 0}],\n",
                     " 'plc': [{'var_a': False, 'var_b': False, 'ts': 0},\n",
                     "  {'var_a': False, 'var_b': False, 'ts': 5}],\n",
                     " 'store_last_plc': None,\n",
                     " 'plc_event': []}"
                  ]
               },
               "execution_count": 25,
               "metadata": {},
               "output_type": "execute_result"
            }
         ],
         "source": [
            "from meshed.slabs import Slabs\n",
            "from more_itertools import windowed\n",
            "\n",
            "from typing import Callable\n",
            "\n",
            "last_plc = None\n",
            "def filter_on_predicate(data, pred: Callable, event):\n",
            "    if event is None:\n",
            "        return 'out1'\n",
            "    if pred(event):\n",
            "        return data\n",
            "    else: \n",
            "        return 'out1'\n",
            "\n",
            "def event_switch(event):\n",
            "    event['event_a']\n",
            "\n",
            "def demux(accel, plc):\n",
            "    result = 'out_1'\n",
            "    if plc['event_a']:\n",
            "        result = accel\n",
            "    return filter_on_predicate(accel, event_switch, plc)\n",
            "\n",
            "\n",
            "def my_iterator(obj, step = 10):\n",
            "    for i in range(0, 30, step):\n",
            "        print(f'{i=}, {i+step=}')\n",
            "        yield obj[i:i+step]\n",
            "\n",
            "def make_a_slabs_iter():\n",
            "    # Sensor readers, slabs of 1 sec\n",
            "    # use next_slice of creek InfiniteStream instead of iter\n",
            "    #accelerometer_sensor_read = iter([{'ch1':1, 'ch2':2, 'ch3':3, 'ts':001}, {'ch1':-2, 'ch2':22, 'ch3':43, 'ts':002},\n",
            "    #                                  {'ch1':92, 'ch2':94, 'ch3':95, 'ts':003}]).__next__\n",
            "    accelerometer_sensor_read = iter([{'ch1':1, 'ch2':2, 'ch3':3, 'ts':0},{'ch1':1, 'ch2':2, 'ch3':3, 'ts':10}, \n",
            "                                             {'ch1':-2, 'ch2':22, 'ch3':43, 'ts':20},{'ch1':92, 'ch2':94, 'ch3':95, 'ts':30},\n",
            "                                             {'ch1':92, 'ch2':94, 'ch3':95, 'ts':40}])\n",
            "    accel_buffer = my_iterator(TimestampedInfiniteSequence(accelerometer_sensor_read, buffer_len = 2)).__next__\n",
            "\n",
            "    # change to an iterator on slices, from 10 to 10\n",
            "    plc_read = iter([{'var_a':False, 'var_b':False,'ts':0},{'var_a':False, 'var_b':False,'ts':5}, {'var_a':True, 'var_b':False,'ts':10}, \n",
            "                        {'var_a':True, 'var_b':True,'ts':15},{'var_a':True, 'var_b':True,'ts':20},\n",
            "                        {'var_a':True, 'var_b':True,'ts':25},{'var_a':False, 'var_b':True,'ts':30},\n",
            "                        {'var_a':False, 'var_b':True,'ts':35},{'var_a':False, 'var_b':True,'ts':40}])\n",
            "    plc_buffer = my_iterator(TimestampedInfiniteSequence(plc_read, buffer_len = 3)).__next__\n",
            "    \n",
            "    # pb: what to do with different sample rates? events at the same time! {event_a, event_b}\n",
            "    return Slabs(\n",
            "        accel=accel_buffer,\n",
            "        plc=plc_buffer,\n",
            "        store_last_plc = lambda plc: set_last_plc(plc[-1]),\n",
            "        plc_event= lambda plc: list(detect_difference(plc)),\n",
            "        #demux = lambda accel, plc: filter_on_predicate(accel, event_switch, plc),\n",
            "        #buffer = lambda demux: windowed(demux, n=2)\n",
            "    )\n",
            "\n",
            "def detect_difference(arr):\n",
            "    if last_plc['var_a'] != arr[0]['var_a']:\n",
            "        yield 'event_a'\n",
            "    for x,y in zip(arr, arr[1:]):\n",
            "        if x['var_a'] != y['var_a']:\n",
            "            yield 'event_a'\n",
            "\n",
            "def set_last_plc(value):\n",
            "    global last_plc    \n",
            "    last_plc = value\n",
            "\n",
            "\n",
            "\n",
            "s = make_a_slabs_iter()\n",
            "next(s)\n",
            "#next(s)"
         ]
      },
      {
         "cell_type": "code",
         "execution_count": 3,
         "metadata": {},
         "outputs": [
            {
               "name": "stdout",
               "output_type": "stream",
               "text": [
                  "i=10, i+step=20\n",
                  "i=10, i+step=20\n"
               ]
            },
            {
               "data": {
                  "text/plain": [
                     "{'accel': [{'ch1': 1, 'ch2': 2, 'ch3': 3, 'ts': 10}],\n",
                     " 'plc': [{'var_a': True, 'var_b': False, 'ts': 10},\n",
                     "  {'var_a': True, 'var_b': True, 'ts': 15}],\n",
                     " 'store_last_plc': None,\n",
                     " 'plc_event': []}"
                  ]
               },
               "execution_count": 3,
               "metadata": {},
               "output_type": "execute_result"
            }
         ],
         "source": [
            "next(s)"
         ]
      },
      {
         "cell_type": "code",
         "execution_count": 9,
         "metadata": {},
         "outputs": [],
         "source": [
            "# sample rate must be the same\n",
            "# events can occur at the same time\n",
            "# Valentin: use creek"
         ]
      },
      {
         "cell_type": "code",
         "execution_count": 83,
         "metadata": {},
         "outputs": [],
         "source": [
            "accelerometer_sensor_iter = iter([{'ch1':1, 'ch2':2, 'ch3':3, 'ts':0},{'ch1':1, 'ch2':2, 'ch3':3, 'ts':10}, {'ch1':-2, 'ch2':22, 'ch3':43, 'ts':20},{'ch1':92, 'ch2':94, 'ch3':95, 'ts':30},{'ch1':92, 'ch2':94, 'ch3':95, 'ts':40}])\n",
            "accel_buffer = TimestampedInfiniteSequence(accelerometer_sensor_iter, buffer_len = 3)\n",
            "\n",
            "#plc_sensor_iter = iter([{'var_a':False, 'var_b':False,'ts':5}, {'var_a':True, 'var_b':False,'ts':21}, {'var_a':False, 'var_b':True,'ts':32}])\n",
            "plc_sensor_iter = iter([{'var_a':False, 'var_b':False,'ts':5}, {'var_a':True, 'var_b':False,'ts':10}, \n",
            "                        {'var_a':False, 'var_b':True,'ts':15},{'var_a':False, 'var_b':True,'ts':20},\n",
            "                        {'var_a':False, 'var_b':True,'ts':25},{'var_a':False, 'var_b':True,'ts':30},\n",
            "                        {'var_a':False, 'var_b':True,'ts':35},{'var_a':False, 'var_b':True,'ts':40}])\n",
            "\n",
            "plc_buffer = TimestampedInfiniteSequence(plc_sensor_iter, buffer_len = 3)\n"
         ]
      },
      {
         "cell_type": "code",
         "execution_count": 84,
         "metadata": {},
         "outputs": [
            {
               "data": {
                  "image/svg+xml": [
                     "<?xml version=\"1.0\" encoding=\"UTF-8\" standalone=\"no\"?>\n",
                     "<!DOCTYPE svg PUBLIC \"-//W3C//DTD SVG 1.1//EN\"\n",
                     " \"http://www.w3.org/Graphics/SVG/1.1/DTD/svg11.dtd\">\n",
                     "<!-- Generated by graphviz version 2.50.0 (0)\n",
                     " -->\n",
                     "<!-- Pages: 1 -->\n",
                     "<svg width=\"258pt\" height=\"476pt\"\n",
                     " viewBox=\"0.00 0.00 257.50 476.00\" xmlns=\"http://www.w3.org/2000/svg\" xmlns:xlink=\"http://www.w3.org/1999/xlink\">\n",
                     "<g id=\"graph0\" class=\"graph\" transform=\"scale(1 1) rotate(0) translate(4 472)\">\n",
                     "<polygon fill=\"white\" stroke=\"transparent\" points=\"-4,4 -4,-472 253.5,-472 253.5,4 -4,4\"/>\n",
                     "<!-- audio -->\n",
                     "<g id=\"node1\" class=\"node\">\n",
                     "<title>audio</title>\n",
                     "<text text-anchor=\"middle\" x=\"84\" y=\"-302.3\" font-family=\"Times,serif\" font-size=\"14.00\">audio</text>\n",
                     "</g>\n",
                     "<!-- myfunc -->\n",
                     "<g id=\"node8\" class=\"node\">\n",
                     "<title>myfunc</title>\n",
                     "<polygon fill=\"none\" stroke=\"black\" points=\"113.5,-252 54.5,-252 54.5,-216 113.5,-216 113.5,-252\"/>\n",
                     "<text text-anchor=\"middle\" x=\"84\" y=\"-230.3\" font-family=\"Times,serif\" font-size=\"14.00\">myfunc</text>\n",
                     "</g>\n",
                     "<!-- audio&#45;&gt;myfunc -->\n",
                     "<g id=\"edge6\" class=\"edge\">\n",
                     "<title>audio&#45;&gt;myfunc</title>\n",
                     "<path fill=\"none\" stroke=\"black\" d=\"M84,-287.7C84,-279.98 84,-270.71 84,-262.11\"/>\n",
                     "<polygon fill=\"black\" stroke=\"black\" points=\"87.5,-262.1 84,-252.1 80.5,-262.1 87.5,-262.1\"/>\n",
                     "</g>\n",
                     "<!-- my_func2 -->\n",
                     "<g id=\"node12\" class=\"node\">\n",
                     "<title>my_func2</title>\n",
                     "<polygon fill=\"none\" stroke=\"black\" points=\"204,-252 132,-252 132,-216 204,-216 204,-252\"/>\n",
                     "<text text-anchor=\"middle\" x=\"168\" y=\"-230.3\" font-family=\"Times,serif\" font-size=\"14.00\">my_func2</text>\n",
                     "</g>\n",
                     "<!-- audio&#45;&gt;my_func2 -->\n",
                     "<g id=\"edge11\" class=\"edge\">\n",
                     "<title>audio&#45;&gt;my_func2</title>\n",
                     "<path fill=\"none\" stroke=\"black\" d=\"M104.76,-287.7C115.24,-278.97 128.11,-268.24 139.5,-258.75\"/>\n",
                     "<polygon fill=\"black\" stroke=\"black\" points=\"142.03,-261.19 147.47,-252.1 137.55,-255.82 142.03,-261.19\"/>\n",
                     "</g>\n",
                     "<!-- audio_source -->\n",
                     "<g id=\"node2\" class=\"node\">\n",
                     "<title>audio_source</title>\n",
                     "<text text-anchor=\"middle\" x=\"59\" y=\"-446.3\" font-family=\"Times,serif\" font-size=\"14.00\">audio_source</text>\n",
                     "</g>\n",
                     "<!-- audio_sensor_read -->\n",
                     "<g id=\"node3\" class=\"node\">\n",
                     "<title>audio_sensor_read</title>\n",
                     "<polygon fill=\"none\" stroke=\"black\" points=\"118,-396 0,-396 0,-360 118,-360 118,-396\"/>\n",
                     "<text text-anchor=\"middle\" x=\"59\" y=\"-374.3\" font-family=\"Times,serif\" font-size=\"14.00\">audio_sensor_read</text>\n",
                     "</g>\n",
                     "<!-- audio_source&#45;&gt;audio_sensor_read -->\n",
                     "<g id=\"edge2\" class=\"edge\">\n",
                     "<title>audio_source&#45;&gt;audio_sensor_read</title>\n",
                     "<path fill=\"none\" stroke=\"black\" d=\"M59,-431.7C59,-423.98 59,-414.71 59,-406.11\"/>\n",
                     "<polygon fill=\"black\" stroke=\"black\" points=\"62.5,-406.1 59,-396.1 55.5,-406.1 62.5,-406.1\"/>\n",
                     "</g>\n",
                     "<!-- audio_sensor_read&#45;&gt;audio -->\n",
                     "<g id=\"edge1\" class=\"edge\">\n",
                     "<title>audio_sensor_read&#45;&gt;audio</title>\n",
                     "<path fill=\"none\" stroke=\"black\" d=\"M65.18,-359.7C68,-351.81 71.39,-342.3 74.52,-333.55\"/>\n",
                     "<polygon fill=\"black\" stroke=\"black\" points=\"77.82,-334.7 77.89,-324.1 71.23,-332.34 77.82,-334.7\"/>\n",
                     "</g>\n",
                     "<!-- light -->\n",
                     "<g id=\"node4\" class=\"node\">\n",
                     "<title>light</title>\n",
                     "<text text-anchor=\"middle\" x=\"168\" y=\"-302.3\" font-family=\"Times,serif\" font-size=\"14.00\">light</text>\n",
                     "</g>\n",
                     "<!-- light&#45;&gt;myfunc -->\n",
                     "<g id=\"edge7\" class=\"edge\">\n",
                     "<title>light&#45;&gt;myfunc</title>\n",
                     "<path fill=\"none\" stroke=\"black\" d=\"M147.24,-287.7C136.76,-278.97 123.89,-268.24 112.5,-258.75\"/>\n",
                     "<polygon fill=\"black\" stroke=\"black\" points=\"114.45,-255.82 104.53,-252.1 109.97,-261.19 114.45,-255.82\"/>\n",
                     "</g>\n",
                     "<!-- light&#45;&gt;my_func2 -->\n",
                     "<g id=\"edge12\" class=\"edge\">\n",
                     "<title>light&#45;&gt;my_func2</title>\n",
                     "<path fill=\"none\" stroke=\"black\" d=\"M168,-287.7C168,-279.98 168,-270.71 168,-262.11\"/>\n",
                     "<polygon fill=\"black\" stroke=\"black\" points=\"171.5,-262.1 168,-252.1 164.5,-262.1 171.5,-262.1\"/>\n",
                     "</g>\n",
                     "<!-- light_source -->\n",
                     "<g id=\"node5\" class=\"node\">\n",
                     "<title>light_source</title>\n",
                     "<text text-anchor=\"middle\" x=\"193\" y=\"-446.3\" font-family=\"Times,serif\" font-size=\"14.00\">light_source</text>\n",
                     "</g>\n",
                     "<!-- light_sensor_read -->\n",
                     "<g id=\"node6\" class=\"node\">\n",
                     "<title>light_sensor_read</title>\n",
                     "<polygon fill=\"none\" stroke=\"black\" points=\"249.5,-396 136.5,-396 136.5,-360 249.5,-360 249.5,-396\"/>\n",
                     "<text text-anchor=\"middle\" x=\"193\" y=\"-374.3\" font-family=\"Times,serif\" font-size=\"14.00\">light_sensor_read</text>\n",
                     "</g>\n",
                     "<!-- light_source&#45;&gt;light_sensor_read -->\n",
                     "<g id=\"edge4\" class=\"edge\">\n",
                     "<title>light_source&#45;&gt;light_sensor_read</title>\n",
                     "<path fill=\"none\" stroke=\"black\" d=\"M193,-431.7C193,-423.98 193,-414.71 193,-406.11\"/>\n",
                     "<polygon fill=\"black\" stroke=\"black\" points=\"196.5,-406.1 193,-396.1 189.5,-406.1 196.5,-406.1\"/>\n",
                     "</g>\n",
                     "<!-- light_sensor_read&#45;&gt;light -->\n",
                     "<g id=\"edge3\" class=\"edge\">\n",
                     "<title>light_sensor_read&#45;&gt;light</title>\n",
                     "<path fill=\"none\" stroke=\"black\" d=\"M186.82,-359.7C184,-351.81 180.61,-342.3 177.48,-333.55\"/>\n",
                     "<polygon fill=\"black\" stroke=\"black\" points=\"180.77,-332.34 174.11,-324.1 174.18,-334.7 180.77,-332.34\"/>\n",
                     "</g>\n",
                     "<!-- result -->\n",
                     "<g id=\"node7\" class=\"node\">\n",
                     "<title>result</title>\n",
                     "<text text-anchor=\"middle\" x=\"84\" y=\"-158.3\" font-family=\"Times,serif\" font-size=\"14.00\">result</text>\n",
                     "</g>\n",
                     "<!-- f -->\n",
                     "<g id=\"node10\" class=\"node\">\n",
                     "<title>f</title>\n",
                     "<polygon fill=\"none\" stroke=\"black\" points=\"111,-108 57,-108 57,-72 111,-72 111,-108\"/>\n",
                     "<text text-anchor=\"middle\" x=\"84\" y=\"-86.3\" font-family=\"Times,serif\" font-size=\"14.00\">f</text>\n",
                     "</g>\n",
                     "<!-- result&#45;&gt;f -->\n",
                     "<g id=\"edge9\" class=\"edge\">\n",
                     "<title>result&#45;&gt;f</title>\n",
                     "<path fill=\"none\" stroke=\"black\" d=\"M84,-143.7C84,-135.98 84,-126.71 84,-118.11\"/>\n",
                     "<polygon fill=\"black\" stroke=\"black\" points=\"87.5,-118.1 84,-108.1 80.5,-118.1 87.5,-118.1\"/>\n",
                     "</g>\n",
                     "<!-- myfunc&#45;&gt;result -->\n",
                     "<g id=\"edge5\" class=\"edge\">\n",
                     "<title>myfunc&#45;&gt;result</title>\n",
                     "<path fill=\"none\" stroke=\"black\" d=\"M84,-215.7C84,-207.98 84,-198.71 84,-190.11\"/>\n",
                     "<polygon fill=\"black\" stroke=\"black\" points=\"87.5,-190.1 84,-180.1 80.5,-190.1 87.5,-190.1\"/>\n",
                     "</g>\n",
                     "<!-- final -->\n",
                     "<g id=\"node9\" class=\"node\">\n",
                     "<title>final</title>\n",
                     "<text text-anchor=\"middle\" x=\"84\" y=\"-14.3\" font-family=\"Times,serif\" font-size=\"14.00\">final</text>\n",
                     "</g>\n",
                     "<!-- f&#45;&gt;final -->\n",
                     "<g id=\"edge8\" class=\"edge\">\n",
                     "<title>f&#45;&gt;final</title>\n",
                     "<path fill=\"none\" stroke=\"black\" d=\"M84,-71.7C84,-63.98 84,-54.71 84,-46.11\"/>\n",
                     "<polygon fill=\"black\" stroke=\"black\" points=\"87.5,-46.1 84,-36.1 80.5,-46.1 87.5,-46.1\"/>\n",
                     "</g>\n",
                     "<!-- dead_node -->\n",
                     "<g id=\"node11\" class=\"node\">\n",
                     "<title>dead_node</title>\n",
                     "<text text-anchor=\"middle\" x=\"168\" y=\"-158.3\" font-family=\"Times,serif\" font-size=\"14.00\">dead_node</text>\n",
                     "</g>\n",
                     "<!-- my_func2&#45;&gt;dead_node -->\n",
                     "<g id=\"edge10\" class=\"edge\">\n",
                     "<title>my_func2&#45;&gt;dead_node</title>\n",
                     "<path fill=\"none\" stroke=\"black\" d=\"M168,-215.7C168,-207.98 168,-198.71 168,-190.11\"/>\n",
                     "<polygon fill=\"black\" stroke=\"black\" points=\"171.5,-190.1 168,-180.1 164.5,-190.1 171.5,-190.1\"/>\n",
                     "</g>\n",
                     "</g>\n",
                     "</svg>\n"
                  ],
                  "text/plain": [
                     "<graphviz.graphs.Digraph at 0x7f9000c630d0>"
                  ]
               },
               "execution_count": 84,
               "metadata": {},
               "output_type": "execute_result"
            }
         ],
         "source": [
            "from meshed import code_to_dag\n",
            "\n",
            "@code_to_dag\n",
            "def user_story():\n",
            "    audio = audio_sensor_read(audio_source)\n",
            "    light = light_sensor_read(light_source)\n",
            "    result = myfunc(audio, light)\n",
            "    final = f(result)\n",
            "    dead_node = my_func2(audio, light)\n",
            "    \n",
            "\n",
            "user_story.dot_digraph()"
         ]
      },
      {
         "cell_type": "code",
         "execution_count": 52,
         "metadata": {},
         "outputs": [],
         "source": [
            "s = make_a_slabs_iter()"
         ]
      },
      {
         "cell_type": "code",
         "execution_count": 54,
         "metadata": {},
         "outputs": [
            {
               "data": {
                  "text/plain": [
                     "[('ch1', 'ch2'), ('ch2', 'ch3')]"
                  ]
               },
               "execution_count": 54,
               "metadata": {},
               "output_type": "execute_result"
            }
         ],
         "source": [
            "list(next(s)['buffer'])"
         ]
      },
      {
         "attachments": {},
         "cell_type": "markdown",
         "metadata": {},
         "source": [
            "# Using rxpy"
         ]
      },
      {
         "cell_type": "code",
         "execution_count": 8,
         "metadata": {},
         "outputs": [],
         "source": [
            "import reactivex as rx\n",
            "from reactivex import operators as ops\n",
            "\n",
            "\n",
            "letters = rx.from_([\"Alpha\", \"Beta\", \"Gamma\", \"Delta\", \"Epsilon\"])\n",
            "numbers = rx.from_([1,2,3,4,5])"
         ]
      },
      {
         "cell_type": "code",
         "execution_count": 11,
         "metadata": {},
         "outputs": [
            {
               "name": "stdout",
               "output_type": "stream",
               "text": [
                  "1\n",
                  "2\n",
                  "3\n",
                  "4\n",
                  "5\n"
               ]
            },
            {
               "data": {
                  "text/plain": [
                     "<reactivex.disposable.disposable.Disposable at 0x7f859d38ab80>"
                  ]
               },
               "execution_count": 11,
               "metadata": {},
               "output_type": "execute_result"
            }
         ],
         "source": [
            "numbers.subscribe(lambda x: print(x))"
         ]
      },
      {
         "cell_type": "code",
         "execution_count": 12,
         "metadata": {},
         "outputs": [
            {
               "name": "stdout",
               "output_type": "stream",
               "text": [
                  "1\n",
                  "2\n",
                  "3\n",
                  "4\n",
                  "5\n"
               ]
            },
            {
               "ename": "AttributeError",
               "evalue": "'Disposable' object has no attribute 'subscribe'",
               "output_type": "error",
               "traceback": [
                  "\u001b[0;31m---------------------------------------------------------------------------\u001b[0m",
                  "\u001b[0;31mAttributeError\u001b[0m                            Traceback (most recent call last)",
                  "\u001b[1;32m/Users/sylvain/Desktop/dev/otosense/plunk/plunk/sb/slabsiter_experiments/notebook_dpp_stamping.ipynb Cell 24\u001b[0m in \u001b[0;36m<cell line: 1>\u001b[0;34m()\u001b[0m\n\u001b[0;32m----> <a href='vscode-notebook-cell:/Users/sylvain/Desktop/dev/otosense/plunk/plunk/sb/slabsiter_experiments/notebook_dpp_stamping.ipynb#X36sZmlsZQ%3D%3D?line=0'>1</a>\u001b[0m letters\u001b[39m.\u001b[39;49mpipe(ops\u001b[39m.\u001b[39;49mskip_until(numbers\u001b[39m.\u001b[39;49msubscribe(\u001b[39mprint\u001b[39;49m)))\u001b[39m.\u001b[39;49msubscribe(\u001b[39mprint\u001b[39;49m)\n",
                  "File \u001b[0;32m~/opt/anaconda3/envs/otopy38/lib/python3.8/site-packages/reactivex/observable/observable.py:142\u001b[0m, in \u001b[0;36mObservable.subscribe\u001b[0;34m(self, on_next, on_error, on_completed, scheduler)\u001b[0m\n\u001b[1;32m    140\u001b[0m current_thread_scheduler \u001b[39m=\u001b[39m CurrentThreadScheduler\u001b[39m.\u001b[39msingleton()\n\u001b[1;32m    141\u001b[0m \u001b[39mif\u001b[39;00m current_thread_scheduler\u001b[39m.\u001b[39mschedule_required():\n\u001b[0;32m--> 142\u001b[0m     current_thread_scheduler\u001b[39m.\u001b[39;49mschedule(set_disposable)\n\u001b[1;32m    143\u001b[0m \u001b[39melse\u001b[39;00m:\n\u001b[1;32m    144\u001b[0m     set_disposable()\n",
                  "File \u001b[0;32m~/opt/anaconda3/envs/otopy38/lib/python3.8/site-packages/reactivex/scheduler/trampolinescheduler.py:49\u001b[0m, in \u001b[0;36mTrampolineScheduler.schedule\u001b[0;34m(self, action, state)\u001b[0m\n\u001b[1;32m     35\u001b[0m \u001b[39mdef\u001b[39;00m \u001b[39mschedule\u001b[39m(\n\u001b[1;32m     36\u001b[0m     \u001b[39mself\u001b[39m, action: abc\u001b[39m.\u001b[39mScheduledAction[_TState], state: Optional[_TState] \u001b[39m=\u001b[39m \u001b[39mNone\u001b[39;00m\n\u001b[1;32m     37\u001b[0m ) \u001b[39m-\u001b[39m\u001b[39m>\u001b[39m abc\u001b[39m.\u001b[39mDisposableBase:\n\u001b[1;32m     38\u001b[0m     \u001b[39m\"\"\"Schedules an action to be executed.\u001b[39;00m\n\u001b[1;32m     39\u001b[0m \n\u001b[1;32m     40\u001b[0m \u001b[39m    Args:\u001b[39;00m\n\u001b[0;32m   (...)\u001b[0m\n\u001b[1;32m     46\u001b[0m \u001b[39m        (best effort).\u001b[39;00m\n\u001b[1;32m     47\u001b[0m \u001b[39m    \"\"\"\u001b[39;00m\n\u001b[0;32m---> 49\u001b[0m     \u001b[39mreturn\u001b[39;00m \u001b[39mself\u001b[39;49m\u001b[39m.\u001b[39;49mschedule_absolute(\u001b[39mself\u001b[39;49m\u001b[39m.\u001b[39;49mnow, action, state\u001b[39m=\u001b[39;49mstate)\n",
                  "File \u001b[0;32m~/opt/anaconda3/envs/otopy38/lib/python3.8/site-packages/reactivex/scheduler/trampolinescheduler.py:95\u001b[0m, in \u001b[0;36mTrampolineScheduler.schedule_absolute\u001b[0;34m(self, duetime, action, state)\u001b[0m\n\u001b[1;32m     92\u001b[0m     log\u001b[39m.\u001b[39mwarning(\u001b[39m\"\u001b[39m\u001b[39mDo not schedule blocking work!\u001b[39m\u001b[39m\"\u001b[39m)\n\u001b[1;32m     93\u001b[0m item: ScheduledItem \u001b[39m=\u001b[39m ScheduledItem(\u001b[39mself\u001b[39m, state, action, dt)\n\u001b[0;32m---> 95\u001b[0m \u001b[39mself\u001b[39;49m\u001b[39m.\u001b[39;49mget_trampoline()\u001b[39m.\u001b[39;49mrun(item)\n\u001b[1;32m     97\u001b[0m \u001b[39mreturn\u001b[39;00m item\u001b[39m.\u001b[39mdisposable\n",
                  "File \u001b[0;32m~/opt/anaconda3/envs/otopy38/lib/python3.8/site-packages/reactivex/scheduler/trampoline.py:30\u001b[0m, in \u001b[0;36mTrampoline.run\u001b[0;34m(self, item)\u001b[0m\n\u001b[1;32m     28\u001b[0m         \u001b[39mreturn\u001b[39;00m\n\u001b[1;32m     29\u001b[0m \u001b[39mtry\u001b[39;00m:\n\u001b[0;32m---> 30\u001b[0m     \u001b[39mself\u001b[39;49m\u001b[39m.\u001b[39;49m_run()\n\u001b[1;32m     31\u001b[0m \u001b[39mfinally\u001b[39;00m:\n\u001b[1;32m     32\u001b[0m     \u001b[39mwith\u001b[39;00m \u001b[39mself\u001b[39m\u001b[39m.\u001b[39m_lock:\n",
                  "File \u001b[0;32m~/opt/anaconda3/envs/otopy38/lib/python3.8/site-packages/reactivex/scheduler/trampoline.py:51\u001b[0m, in \u001b[0;36mTrampoline._run\u001b[0;34m(self)\u001b[0m\n\u001b[1;32m     49\u001b[0m     item \u001b[39m=\u001b[39m ready\u001b[39m.\u001b[39mpopleft()\n\u001b[1;32m     50\u001b[0m     \u001b[39mif\u001b[39;00m \u001b[39mnot\u001b[39;00m item\u001b[39m.\u001b[39mis_cancelled():\n\u001b[0;32m---> 51\u001b[0m         item\u001b[39m.\u001b[39;49minvoke()\n\u001b[1;32m     53\u001b[0m \u001b[39mwith\u001b[39;00m \u001b[39mself\u001b[39m\u001b[39m.\u001b[39m_lock:\n\u001b[1;32m     54\u001b[0m     \u001b[39mif\u001b[39;00m \u001b[39mlen\u001b[39m(\u001b[39mself\u001b[39m\u001b[39m.\u001b[39m_queue) \u001b[39m==\u001b[39m \u001b[39m0\u001b[39m:\n",
                  "File \u001b[0;32m~/opt/anaconda3/envs/otopy38/lib/python3.8/site-packages/reactivex/scheduler/scheduleditem.py:27\u001b[0m, in \u001b[0;36mScheduledItem.invoke\u001b[0;34m(self)\u001b[0m\n\u001b[1;32m     26\u001b[0m \u001b[39mdef\u001b[39;00m \u001b[39minvoke\u001b[39m(\u001b[39mself\u001b[39m) \u001b[39m-\u001b[39m\u001b[39m>\u001b[39m \u001b[39mNone\u001b[39;00m:\n\u001b[0;32m---> 27\u001b[0m     ret \u001b[39m=\u001b[39m \u001b[39mself\u001b[39;49m\u001b[39m.\u001b[39;49mscheduler\u001b[39m.\u001b[39;49minvoke_action(\u001b[39mself\u001b[39;49m\u001b[39m.\u001b[39;49maction, state\u001b[39m=\u001b[39;49m\u001b[39mself\u001b[39;49m\u001b[39m.\u001b[39;49mstate)\n\u001b[1;32m     28\u001b[0m     \u001b[39mself\u001b[39m\u001b[39m.\u001b[39mdisposable\u001b[39m.\u001b[39mdisposable \u001b[39m=\u001b[39m ret\n",
                  "File \u001b[0;32m~/opt/anaconda3/envs/otopy38/lib/python3.8/site-packages/reactivex/scheduler/scheduler.py:105\u001b[0m, in \u001b[0;36mScheduler.invoke_action\u001b[0;34m(self, action, state)\u001b[0m\n\u001b[1;32m     90\u001b[0m \u001b[39mdef\u001b[39;00m \u001b[39minvoke_action\u001b[39m(\n\u001b[1;32m     91\u001b[0m     \u001b[39mself\u001b[39m, action: abc\u001b[39m.\u001b[39mScheduledAction[_TState], state: Optional[_TState] \u001b[39m=\u001b[39m \u001b[39mNone\u001b[39;00m\n\u001b[1;32m     92\u001b[0m ) \u001b[39m-\u001b[39m\u001b[39m>\u001b[39m abc\u001b[39m.\u001b[39mDisposableBase:\n\u001b[1;32m     93\u001b[0m     \u001b[39m\"\"\"Invoke the given given action. This is typically called by instances\u001b[39;00m\n\u001b[1;32m     94\u001b[0m \u001b[39m    of ScheduledItem.\u001b[39;00m\n\u001b[1;32m     95\u001b[0m \n\u001b[0;32m   (...)\u001b[0m\n\u001b[1;32m    102\u001b[0m \u001b[39m        (no-op) disposable otherwise.\u001b[39;00m\n\u001b[1;32m    103\u001b[0m \u001b[39m    \"\"\"\u001b[39;00m\n\u001b[0;32m--> 105\u001b[0m     ret \u001b[39m=\u001b[39m action(\u001b[39mself\u001b[39;49m, state)\n\u001b[1;32m    106\u001b[0m     \u001b[39mif\u001b[39;00m \u001b[39misinstance\u001b[39m(ret, abc\u001b[39m.\u001b[39mDisposableBase):\n\u001b[1;32m    107\u001b[0m         \u001b[39mreturn\u001b[39;00m ret\n",
                  "File \u001b[0;32m~/opt/anaconda3/envs/otopy38/lib/python3.8/site-packages/reactivex/observable/observable.py:127\u001b[0m, in \u001b[0;36mObservable.subscribe.<locals>.set_disposable\u001b[0;34m(_, __)\u001b[0m\n\u001b[1;32m    125\u001b[0m     subscriber \u001b[39m=\u001b[39m \u001b[39mself\u001b[39m\u001b[39m.\u001b[39m_subscribe_core(auto_detach_observer, scheduler)\n\u001b[1;32m    126\u001b[0m \u001b[39mexcept\u001b[39;00m \u001b[39mException\u001b[39;00m \u001b[39mas\u001b[39;00m ex:  \u001b[39m# By design. pylint: disable=W0703\u001b[39;00m\n\u001b[0;32m--> 127\u001b[0m     \u001b[39mif\u001b[39;00m \u001b[39mnot\u001b[39;00m auto_detach_observer\u001b[39m.\u001b[39;49mfail(ex):\n\u001b[1;32m    128\u001b[0m         \u001b[39mraise\u001b[39;00m\n\u001b[1;32m    129\u001b[0m \u001b[39melse\u001b[39;00m:\n",
                  "File \u001b[0;32m~/opt/anaconda3/envs/otopy38/lib/python3.8/site-packages/reactivex/observer/autodetachobserver.py:64\u001b[0m, in \u001b[0;36mAutoDetachObserver.fail\u001b[0;34m(self, exn)\u001b[0m\n\u001b[1;32m     61\u001b[0m     \u001b[39mreturn\u001b[39;00m \u001b[39mFalse\u001b[39;00m\n\u001b[1;32m     63\u001b[0m \u001b[39mself\u001b[39m\u001b[39m.\u001b[39mis_stopped \u001b[39m=\u001b[39m \u001b[39mTrue\u001b[39;00m\n\u001b[0;32m---> 64\u001b[0m \u001b[39mself\u001b[39;49m\u001b[39m.\u001b[39;49m_on_error(exn)\n\u001b[1;32m     65\u001b[0m \u001b[39mreturn\u001b[39;00m \u001b[39mTrue\u001b[39;00m\n",
                  "File \u001b[0;32m~/opt/anaconda3/envs/otopy38/lib/python3.8/site-packages/reactivex/internal/basic.py:34\u001b[0m, in \u001b[0;36mdefault_error\u001b[0;34m(err)\u001b[0m\n\u001b[1;32m     32\u001b[0m \u001b[39mdef\u001b[39;00m \u001b[39mdefault_error\u001b[39m(err: Union[\u001b[39mException\u001b[39;00m, \u001b[39mstr\u001b[39m]) \u001b[39m-\u001b[39m\u001b[39m>\u001b[39m NoReturn:\n\u001b[1;32m     33\u001b[0m     \u001b[39mif\u001b[39;00m \u001b[39misinstance\u001b[39m(err, \u001b[39mBaseException\u001b[39;00m):\n\u001b[0;32m---> 34\u001b[0m         \u001b[39mraise\u001b[39;00m err\n\u001b[1;32m     36\u001b[0m     \u001b[39mraise\u001b[39;00m \u001b[39mException\u001b[39;00m(err)\n",
                  "File \u001b[0;32m~/opt/anaconda3/envs/otopy38/lib/python3.8/site-packages/reactivex/observable/observable.py:125\u001b[0m, in \u001b[0;36mObservable.subscribe.<locals>.set_disposable\u001b[0;34m(_, __)\u001b[0m\n\u001b[1;32m    121\u001b[0m \u001b[39mdef\u001b[39;00m \u001b[39mset_disposable\u001b[39m(\n\u001b[1;32m    122\u001b[0m     _: Optional[abc\u001b[39m.\u001b[39mSchedulerBase] \u001b[39m=\u001b[39m \u001b[39mNone\u001b[39;00m, __: Any \u001b[39m=\u001b[39m \u001b[39mNone\u001b[39;00m\n\u001b[1;32m    123\u001b[0m ) \u001b[39m-\u001b[39m\u001b[39m>\u001b[39m \u001b[39mNone\u001b[39;00m:\n\u001b[1;32m    124\u001b[0m     \u001b[39mtry\u001b[39;00m:\n\u001b[0;32m--> 125\u001b[0m         subscriber \u001b[39m=\u001b[39m \u001b[39mself\u001b[39;49m\u001b[39m.\u001b[39;49m_subscribe_core(auto_detach_observer, scheduler)\n\u001b[1;32m    126\u001b[0m     \u001b[39mexcept\u001b[39;00m \u001b[39mException\u001b[39;00m \u001b[39mas\u001b[39;00m ex:  \u001b[39m# By design. pylint: disable=W0703\u001b[39;00m\n\u001b[1;32m    127\u001b[0m         \u001b[39mif\u001b[39;00m \u001b[39mnot\u001b[39;00m auto_detach_observer\u001b[39m.\u001b[39mfail(ex):\n",
                  "File \u001b[0;32m~/opt/anaconda3/envs/otopy38/lib/python3.8/site-packages/reactivex/observable/observable.py:49\u001b[0m, in \u001b[0;36mObservable._subscribe_core\u001b[0;34m(self, observer, scheduler)\u001b[0m\n\u001b[1;32m     44\u001b[0m \u001b[39mdef\u001b[39;00m \u001b[39m_subscribe_core\u001b[39m(\n\u001b[1;32m     45\u001b[0m     \u001b[39mself\u001b[39m,\n\u001b[1;32m     46\u001b[0m     observer: abc\u001b[39m.\u001b[39mObserverBase[_T_out],\n\u001b[1;32m     47\u001b[0m     scheduler: Optional[abc\u001b[39m.\u001b[39mSchedulerBase] \u001b[39m=\u001b[39m \u001b[39mNone\u001b[39;00m,\n\u001b[1;32m     48\u001b[0m ) \u001b[39m-\u001b[39m\u001b[39m>\u001b[39m abc\u001b[39m.\u001b[39mDisposableBase:\n\u001b[0;32m---> 49\u001b[0m     \u001b[39mreturn\u001b[39;00m \u001b[39mself\u001b[39;49m\u001b[39m.\u001b[39;49m_subscribe(observer, scheduler) \u001b[39mif\u001b[39;00m \u001b[39mself\u001b[39m\u001b[39m.\u001b[39m_subscribe \u001b[39melse\u001b[39;00m Disposable()\n",
                  "File \u001b[0;32m~/opt/anaconda3/envs/otopy38/lib/python3.8/site-packages/reactivex/operators/_skipuntil.py:61\u001b[0m, in \u001b[0;36mskip_until_.<locals>.skip_until.<locals>.subscribe\u001b[0;34m(observer, scheduler)\u001b[0m\n\u001b[1;32m     58\u001b[0m \u001b[39mdef\u001b[39;00m \u001b[39mon_completed2\u001b[39m():\n\u001b[1;32m     59\u001b[0m     right_subscription\u001b[39m.\u001b[39mdispose()\n\u001b[0;32m---> 61\u001b[0m right_subscription\u001b[39m.\u001b[39mdisposable \u001b[39m=\u001b[39m obs\u001b[39m.\u001b[39;49msubscribe(\n\u001b[1;32m     62\u001b[0m     on_next2, observer\u001b[39m.\u001b[39mon_error, on_completed2, scheduler\u001b[39m=\u001b[39mscheduler\n\u001b[1;32m     63\u001b[0m )\n\u001b[1;32m     65\u001b[0m \u001b[39mreturn\u001b[39;00m subscriptions\n",
                  "\u001b[0;31mAttributeError\u001b[0m: 'Disposable' object has no attribute 'subscribe'"
               ]
            }
         ],
         "source": [
            "letters.pipe(ops.skip_until(numbers.subscribe(print))).subscribe(print)\n",
            "\n",
            "# letters.pipe(ops.skip_until(lambda s: len(s)), ops.filter(lambda i: i >= 5)).subscribe(\n",
            "#     lambda value: print(\"Received {0}\".format(value))\n",
            "# )"
         ]
      },
      {
         "cell_type": "code",
         "execution_count": null,
         "metadata": {},
         "outputs": [],
         "source": []
      },
      {
         "attachments": {},
         "cell_type": "markdown",
         "metadata": {},
         "source": [
            "# Using actual data"
         ]
      },
      {
         "attachments": {},
         "cell_type": "markdown",
         "metadata": {},
         "source": [
            "# plc data:  wav file\n",
            "# channel data: wav file"
         ]
      },
      {
         "cell_type": "code",
         "execution_count": 1,
         "metadata": {},
         "outputs": [],
         "source": [
            "# reactive programming in slabs\n",
            "# start with reading the plc\n",
            "# do  the async stuff\n",
            "# you buffer the plc\n",
            "# how to solve the backpressure problem?\n",
            "# if None: we do not ignore the input (slabs is a function)\n",
            "# handling the signals: check the notes\n",
            "# in meshed: get exceptions"
         ]
      },
      {
         "cell_type": "code",
         "execution_count": 2,
         "metadata": {},
         "outputs": [],
         "source": [
            "import soundfile as sf\n",
            "from hear.tools import AudioSegments, AffineConverter\n",
            "\n",
            "#segs = AudioSegments(src_to_wfsr=sf.read, index_to_seconds_scale=1 / 1e6) #index by microseconds\n",
            "segs = AudioSegments(src_to_wfsr=sf.read, index_to_seconds_scale=1/50) #index by microseconds\n"
         ]
      },
      {
         "cell_type": "code",
         "execution_count": 3,
         "metadata": {},
         "outputs": [],
         "source": [
            "# data\n",
            "plc_filepath = 'data/PLC.wav'\n",
            "accel_filepath = 'data/1621346260226336_ch2.wav'"
         ]
      },
      {
         "cell_type": "code",
         "execution_count": 4,
         "metadata": {},
         "outputs": [
            {
               "data": {
                  "text/plain": [
                     "59650"
                  ]
               },
               "execution_count": 4,
               "metadata": {},
               "output_type": "execute_result"
            }
         ],
         "source": [
            "# 59650 samples, at 50 hz = 1193 seconds, ie 19 minutes 53 seconds\n",
            "plc_data = segs[plc_filepath]\n",
            "len(plc_data)"
         ]
      },
      {
         "cell_type": "code",
         "execution_count": 5,
         "metadata": {},
         "outputs": [
            {
               "data": {
                  "text/plain": [
                     "1"
                  ]
               },
               "execution_count": 5,
               "metadata": {},
               "output_type": "execute_result"
            }
         ],
         "source": [
            "# we can query data with bt, tt\n",
            "len(plc_data[0:1])\n"
         ]
      },
      {
         "cell_type": "code",
         "execution_count": 22,
         "metadata": {},
         "outputs": [],
         "source": [
            "# from local data to generator\n",
            "\n",
            "def my_iterator(obj, step = 10):\n",
            "    for i in range(0, 30, step):\n",
            "        print(f'{i=}, {i+step=}')\n",
            "        yield obj[i:i+step]\n",
            "\n",
            "def mk_data(filepath, channel_name='plc'):\n",
            "    wf, sr = sf.read(filepath)\n",
            "    \n",
            "    index_to_seconds_scale = 1000*1 / sr\n",
            "    index_to_seconds_offset = 0\n",
            "    indexer = AffineConverter(\n",
            "            scale=index_to_seconds_scale, offset=index_to_seconds_offset\n",
            "        )\n",
            "    for i, sample in enumerate(wf):\n",
            "        yield {channel_name:sample, 'ts':indexer(i)}"
         ]
      },
      {
         "cell_type": "code",
         "execution_count": 61,
         "metadata": {},
         "outputs": [
            {
               "name": "stdout",
               "output_type": "stream",
               "text": [
                  "{'plc': 0.0, 'ts': 0.0}\n",
                  "{'plc': 0.0, 'ts': 20.0}\n",
                  "{'plc': 0.0, 'ts': 40.0}\n",
                  "{'plc': 0.0, 'ts': 60.0}\n",
                  "{'plc': 0.0, 'ts': 80.0}\n",
                  "{'plc': 0.0, 'ts': 100.0}\n",
                  "{'plc': 0.0, 'ts': 120.0}\n",
                  "{'plc': 0.0, 'ts': 140.0}\n",
                  "{'plc': 0.0, 'ts': 160.0}\n",
                  "{'plc': 0.0, 'ts': 180.0}\n"
               ]
            }
         ],
         "source": [
            "plc_iter = mk_data(plc_filepath, channel_name='plc')\n",
            "for i in range(10):\n",
            "    print(next(plc_iter))"
         ]
      },
      {
         "cell_type": "code",
         "execution_count": 39,
         "metadata": {},
         "outputs": [
            {
               "name": "stdout",
               "output_type": "stream",
               "text": [
                  "{'accel': -0.035858154296875, 'ts': 0.0}\n",
                  "{'accel': -0.022705078125, 'ts': 0.078125}\n",
                  "{'accel': 0.004241943359375, 'ts': 0.15625}\n",
                  "{'accel': 0.0084228515625, 'ts': 0.234375}\n",
                  "{'accel': 0.000823974609375, 'ts': 0.3125}\n",
                  "{'accel': 0.00164794921875, 'ts': 0.390625}\n",
                  "{'accel': -0.01666259765625, 'ts': 0.46875}\n",
                  "{'accel': -0.00811767578125, 'ts': 0.546875}\n",
                  "{'accel': 0.00689697265625, 'ts': 0.625}\n",
                  "{'accel': -0.0010986328125, 'ts': 0.703125}\n"
               ]
            }
         ],
         "source": [
            "accel_iter = mk_data(accel_filepath, channel_name='accel')\n",
            "for i in range(10):\n",
            "    print(next(accel_iter))"
         ]
      },
      {
         "cell_type": "code",
         "execution_count": 38,
         "metadata": {},
         "outputs": [],
         "source": [
            "# check creek more carefully"
         ]
      },
      {
         "cell_type": "code",
         "execution_count": 63,
         "metadata": {},
         "outputs": [],
         "source": [
            "accelerometer_sensor_read = mk_data(plc_filepath, channel_name='accel')\n",
            "plc_sensor_read = mk_data(plc_filepath, channel_name='plc')\n",
            "\n",
            "\n",
            "#slab[10:30]-> all that happens between 10 and 30\n",
            "#slab[30:50]\n",
            "\n",
            "plc_buffer = my_iterator(TimestampedInfiniteSequence(plc_sensor_read, buffer_len = 20), step =10)\n",
            "\n",
            "    # # change to an iterator on slices, from 10 to 10\n",
            "    # plc_read = iter([{'var_a':False, 'var_b':False,'ts':0},{'var_a':False, 'var_b':False,'ts':5}, {'var_a':True, 'var_b':False,'ts':10}, \n",
            "    #                     {'var_a':True, 'var_b':True,'ts':15},{'var_a':True, 'var_b':True,'ts':20},\n",
            "    #                     {'var_a':True, 'var_b':True,'ts':25},{'var_a':False, 'var_b':True,'ts':30},\n",
            "    #                     {'var_a':False, 'var_b':True,'ts':35},{'var_a':False, 'var_b':True,'ts':40}])\n",
            "    # plc_buffer = my_iterator(TimestampedInfiniteSequence(plc_read, buffer_len = 3)).__next__\n",
            "    \n",
            "    # # pb: what to do with different sample rates? events at the same time! {event_a, event_b}\n",
            "    # return Slabs(\n",
            "    #     accel=accel_buffer,\n",
            "    #     plc=plc_buffer,\n",
            "    #     result=accel+plc\n",
            "    #     store_last_plc = lambda plc: set_last_plc(plc[-1]),\n",
            "    #     plc_event= lambda plc: list(detect_difference(plc)),\n",
            "    #     #demux = lambda accel, plc: filter_on_predicate(accel, event_switch, plc),\n",
            "    #     #buffer = lambda demux: windowed(demux, n=2)\n",
            "    # )"
         ]
      },
      {
         "cell_type": "code",
         "execution_count": 81,
         "metadata": {},
         "outputs": [],
         "source": [
            "plc_sensor_read = mk_data(plc_filepath, channel_name='plc')\n",
            "\n",
            "ts_data = iter(TimestampedInfiniteSequence(plc_sensor_read, buffer_len = 200))\n"
         ]
      },
      {
         "cell_type": "code",
         "execution_count": 82,
         "metadata": {},
         "outputs": [
            {
               "data": {
                  "text/plain": [
                     "{'plc': 0.0, 'ts': 0.0}"
                  ]
               },
               "execution_count": 82,
               "metadata": {},
               "output_type": "execute_result"
            }
         ],
         "source": [
            "next(ts_data)"
         ]
      },
      {
         "attachments": {},
         "cell_type": "markdown",
         "metadata": {},
         "source": [
            "## "
         ]
      },
      {
         "cell_type": "code",
         "execution_count": 74,
         "metadata": {},
         "outputs": [
            {
               "data": {
                  "text/plain": [
                     "<generator object mk_data at 0x7f8feec31070>"
                  ]
               },
               "execution_count": 74,
               "metadata": {},
               "output_type": "execute_result"
            }
         ],
         "source": [
            "plc_sensor_read"
         ]
      },
      {
         "cell_type": "code",
         "execution_count": 64,
         "metadata": {},
         "outputs": [
            {
               "name": "stdout",
               "output_type": "stream",
               "text": [
                  "i=0, i+step=10\n",
                  "i=10, i+step=20\n",
                  "i=20, i+step=30\n"
               ]
            },
            {
               "data": {
                  "text/plain": [
                     "[[{'plc': 0.0, 'ts': 0.0}], [], [{'plc': 0.0, 'ts': 20.0}]]"
                  ]
               },
               "execution_count": 64,
               "metadata": {},
               "output_type": "execute_result"
            }
         ],
         "source": [
            "list(plc_buffer)"
         ]
      },
      {
         "cell_type": "code",
         "execution_count": 37,
         "metadata": {},
         "outputs": [
            {
               "name": "stdout",
               "output_type": "stream",
               "text": [
                  "i=0, i+step=10\n"
               ]
            },
            {
               "data": {
                  "text/plain": [
                     "[{'plc': 0.0, 'ts': 0.0}]"
                  ]
               },
               "execution_count": 37,
               "metadata": {},
               "output_type": "execute_result"
            }
         ],
         "source": [
            "# change the step size to maybe 100ms\n",
            "next(accel_buffer)"
         ]
      },
      {
         "cell_type": "code",
         "execution_count": 32,
         "metadata": {},
         "outputs": [
            {
               "ename": "NameError",
               "evalue": "name 'plc_sensor_iter' is not defined",
               "output_type": "error",
               "traceback": [
                  "\u001b[0;31m---------------------------------------------------------------------------\u001b[0m",
                  "\u001b[0;31mNameError\u001b[0m                                 Traceback (most recent call last)",
                  "\u001b[1;32m/Users/sylvain/Desktop/dev/otosense/plunk/plunk/sb/slabsiter_experiments/notebook_dpp_stamping.ipynb Cell 29\u001b[0m in \u001b[0;36m<cell line: 1>\u001b[0;34m()\u001b[0m\n\u001b[0;32m----> <a href='vscode-notebook-cell:/Users/sylvain/Desktop/dev/otosense/plunk/plunk/sb/slabsiter_experiments/notebook_dpp_stamping.ipynb#X54sZmlsZQ%3D%3D?line=0'>1</a>\u001b[0m plc_buffer \u001b[39m=\u001b[39m TimestampedInfiniteSequence(plc_sensor_iter, buffer_len \u001b[39m=\u001b[39m \u001b[39m3\u001b[39m)\n",
                  "\u001b[0;31mNameError\u001b[0m: name 'plc_sensor_iter' is not defined"
               ]
            }
         ],
         "source": [
            "plc_buffer = TimestampedInfiniteSequence(plc_sensor_iter, buffer_len = 3)\n"
         ]
      },
      {
         "attachments": {},
         "cell_type": "markdown",
         "metadata": {},
         "source": [
            "# Using Andie's stream"
         ]
      },
      {
         "attachments": {},
         "cell_type": "markdown",
         "metadata": {},
         "source": [
            "### Notes"
         ]
      },
      {
         "cell_type": "code",
         "execution_count": 6,
         "metadata": {},
         "outputs": [],
         "source": [
            "# careful to use floats with the wfs. \n",
            "# rescale the signal\n",
            "# buffer: keep last two values of signal"
         ]
      },
      {
         "attachments": {},
         "cell_type": "markdown",
         "metadata": {},
         "source": [
            "### Imports"
         ]
      },
      {
         "cell_type": "code",
         "execution_count": 7,
         "metadata": {},
         "outputs": [],
         "source": [
            "import time\n",
            "from functools import partial\n",
            "from pprint import pprint\n",
            "from typing import Literal, Sequence, Generator\n",
            "\n",
            "from audiostream2py.file import WavFileSourceReader\n",
            "from audiostream2py.data import AudioSegment\n",
            "from meshed.slabs import Slabs\n",
            "import numpy as np\n",
            "\n",
            "from meshed.makers import iterize\n",
            "\n",
            "#from plunk.ap.snippets import PLUNK_ROOT_PATH"
         ]
      },
      {
         "attachments": {},
         "cell_type": "markdown",
         "metadata": {},
         "source": [
            "### Data source"
         ]
      },
      {
         "cell_type": "code",
         "execution_count": 23,
         "metadata": {},
         "outputs": [
            {
               "name": "stdout",
               "output_type": "stream",
               "text": [
                  "plc info:\n",
                  "{'bt': 0,\n",
                  " 'channels': 1,\n",
                  " 'frames_per_buffer': 5,\n",
                  " 'n_frames': 59650,\n",
                  " 'rate': 50,\n",
                  " 'width': 2}\n",
                  "accel info:\n",
                  "{'bt': 0,\n",
                  " 'channels': 1,\n",
                  " 'frames_per_buffer': 12800,\n",
                  " 'n_frames': 15270400,\n",
                  " 'rate': 12800,\n",
                  " 'width': 2}\n"
               ]
            }
         ],
         "source": [
            "#plc_file = PLUNK_ROOT_PATH / 'sb/slabsiter_experiments/data/PLC.wav'\n",
            "#accel_file = PLUNK_ROOT_PATH / 'sb/slabsiter_experiments/data/1621346260226336_ch2.wav'\n",
            "\n",
            "plc_file = 'data/PLC.wav'\n",
            "accel_file = 'data/1621346260226336_ch2.wav'\n",
            "\n",
            "#assert plc_file.is_file(), f'File not found: {plc_file}'\n",
            "#assert accel_file.is_file(), f'File not found: {accel_file}'\n",
            "\n",
            "plc_source = WavFileSourceReader(plc_file, frames_per_buffer=5, start_date=0)\n",
            "accel_source = WavFileSourceReader(accel_file, frames_per_buffer=12800, start_date=0)\n",
            "\n",
            "print('plc info:')\n",
            "pprint(plc_source.info)\n",
            "print('accel info:')\n",
            "pprint(accel_source.info)"
         ]
      },
      {
         "attachments": {},
         "cell_type": "markdown",
         "metadata": {},
         "source": [
            "### Classes"
         ]
      },
      {
         "cell_type": "code",
         "execution_count": 9,
         "metadata": {},
         "outputs": [
            {
               "ename": "TypeError",
               "evalue": "Too few arguments for numpy.ndarray",
               "output_type": "error",
               "traceback": [
                  "\u001b[0;31m---------------------------------------------------------------------------\u001b[0m",
                  "\u001b[0;31mTypeError\u001b[0m                                 Traceback (most recent call last)",
                  "Cell \u001b[0;32mIn[9], line 1\u001b[0m\n\u001b[0;32m----> 1\u001b[0m \u001b[39mclass\u001b[39;00m \u001b[39mBoolSegmentEdgeDetector\u001b[39;00m:\n\u001b[1;32m      2\u001b[0m     last_sample_of_previous_segment \u001b[39m=\u001b[39m \u001b[39mNone\u001b[39;00m\n\u001b[1;32m      4\u001b[0m     \u001b[39mdef\u001b[39;00m \u001b[39mdetect_edge_indices\u001b[39m(\n\u001b[1;32m      5\u001b[0m         \u001b[39mself\u001b[39m, bool_segment: np\u001b[39m.\u001b[39mndarray[\u001b[39mbool\u001b[39m], edge_type: Literal[\u001b[39m'\u001b[39m\u001b[39mrising\u001b[39m\u001b[39m'\u001b[39m, \u001b[39m'\u001b[39m\u001b[39mfalling\u001b[39m\u001b[39m'\u001b[39m, \u001b[39m'\u001b[39m\u001b[39mboth\u001b[39m\u001b[39m'\u001b[39m]\n\u001b[1;32m      6\u001b[0m     ) \u001b[39m-\u001b[39m\u001b[39m>\u001b[39m \u001b[39mlist\u001b[39m:\n",
                  "Cell \u001b[0;32mIn[9], line 5\u001b[0m, in \u001b[0;36mBoolSegmentEdgeDetector\u001b[0;34m()\u001b[0m\n\u001b[1;32m      1\u001b[0m \u001b[39mclass\u001b[39;00m \u001b[39mBoolSegmentEdgeDetector\u001b[39;00m:\n\u001b[1;32m      2\u001b[0m     last_sample_of_previous_segment \u001b[39m=\u001b[39m \u001b[39mNone\u001b[39;00m\n\u001b[1;32m      4\u001b[0m     \u001b[39mdef\u001b[39;00m \u001b[39mdetect_edge_indices\u001b[39m(\n\u001b[0;32m----> 5\u001b[0m         \u001b[39mself\u001b[39m, bool_segment: np\u001b[39m.\u001b[39;49mndarray[\u001b[39mbool\u001b[39;49m], edge_type: Literal[\u001b[39m'\u001b[39m\u001b[39mrising\u001b[39m\u001b[39m'\u001b[39m, \u001b[39m'\u001b[39m\u001b[39mfalling\u001b[39m\u001b[39m'\u001b[39m, \u001b[39m'\u001b[39m\u001b[39mboth\u001b[39m\u001b[39m'\u001b[39m]\n\u001b[1;32m      6\u001b[0m     ) \u001b[39m-\u001b[39m\u001b[39m>\u001b[39m \u001b[39mlist\u001b[39m:\n\u001b[1;32m      7\u001b[0m         \u001b[39mif\u001b[39;00m edge_type \u001b[39mnot\u001b[39;00m \u001b[39min\u001b[39;00m [\u001b[39m'\u001b[39m\u001b[39mrising\u001b[39m\u001b[39m'\u001b[39m, \u001b[39m'\u001b[39m\u001b[39mfalling\u001b[39m\u001b[39m'\u001b[39m, \u001b[39m'\u001b[39m\u001b[39mboth\u001b[39m\u001b[39m'\u001b[39m]:\n\u001b[1;32m      8\u001b[0m             \u001b[39mraise\u001b[39;00m \u001b[39mValueError\u001b[39;00m(\n\u001b[1;32m      9\u001b[0m                 \u001b[39m\"\u001b[39m\u001b[39mValid values for edge_type parameter are \u001b[39m\u001b[39m'\u001b[39m\u001b[39mrising\u001b[39m\u001b[39m'\u001b[39m\u001b[39m, \u001b[39m\u001b[39m'\u001b[39m\u001b[39mfalling\u001b[39m\u001b[39m'\u001b[39m\u001b[39m, and \u001b[39m\u001b[39m'\u001b[39m\u001b[39mboth\u001b[39m\u001b[39m'\u001b[39m\u001b[39m.\u001b[39m\u001b[39m\"\u001b[39m\n\u001b[1;32m     10\u001b[0m             )\n",
                  "\u001b[0;31mTypeError\u001b[0m: Too few arguments for numpy.ndarray"
               ]
            }
         ],
         "source": [
            "class BoolSegmentEdgeDetector:\n",
            "    last_sample_of_previous_segment = None\n",
            "    \n",
            "    def detect_edge_indices(\n",
            "        self, bool_segment: np.ndarray[bool], edge_type: Literal['rising', 'falling', 'both']\n",
            "    ) -> list:\n",
            "        if edge_type not in ['rising', 'falling', 'both']:\n",
            "            raise ValueError(\n",
            "                \"Valid values for edge_type parameter are 'rising', 'falling', and 'both'.\"\n",
            "            )\n",
            "        if self.last_sample_of_previous_segment is not None:\n",
            "            bool_segment = np.insert(bool_segment, 0, self.last_sample_of_previous_segment)\n",
            "        self.last_sample_of_previous_segment = bool_segment[-1]\n",
            "\n",
            "        int_segment = bool_segment.astype(int)\n",
            "        edges = np.diff(int_segment)\n",
            "        if edge_type == 'rising':\n",
            "            return np.nonzero(edges == 1)[0].tolist()\n",
            "        elif edge_type == 'falling':\n",
            "            return np.nonzero(edges == -1)[0].tolist()\n",
            "        else:\n",
            "            return np.nonzero(edges)[0].tolist()\n",
            "\n",
            "\n",
            "class AudioSegmentBuffer:\n",
            "    write_state = False\n",
            "    buffered_segment = AudioSegment.empty()\n",
            "\n",
            "    def read_values(self, ts):\n",
            "        if not self.write_state:\n",
            "            self.write_state = True\n",
            "            return None\n",
            "        values = self.buffered_segment[:ts]\n",
            "        self.buffered_segment = self.buffered_segment[ts:]\n",
            "        return values\n",
            "\n",
            "    def write_values(self, incoming_segment: AudioSegment):\n",
            "        if self.write_state:\n",
            "            self.buffered_segment += incoming_segment\n"
         ]
      },
      {
         "cell_type": "code",
         "execution_count": 22,
         "metadata": {},
         "outputs": [],
         "source": [
            "import numpy as np\n",
            "import numpy.typing as npt\n",
            "\n",
            "# def as_array(a: npt.ArrayLike[bool]) -> np.ndarray:\n",
            "#     return np.array(a)\n",
            "\n",
            "def as_array(a: np.ndarray) -> np.ndarray:\n",
            "    return np.array(a)"
         ]
      },
      {
         "attachments": {},
         "cell_type": "markdown",
         "metadata": {},
         "source": [
            "### Generic functions"
         ]
      },
      {
         "cell_type": "code",
         "execution_count": 27,
         "metadata": {},
         "outputs": [
            {
               "ename": "ValueError",
               "evalue": "The truth value of an array with more than one element is ambiguous. Use a.any() or a.all()",
               "output_type": "error",
               "traceback": [
                  "\u001b[0;31m---------------------------------------------------------------------------\u001b[0m",
                  "\u001b[0;31mValueError\u001b[0m                                Traceback (most recent call last)",
                  "Cell \u001b[0;32mIn[27], line 2\u001b[0m\n\u001b[1;32m      1\u001b[0m a \u001b[39m=\u001b[39m np\u001b[39m.\u001b[39marray([\u001b[39m1\u001b[39m,\u001b[39m2\u001b[39m,\u001b[39m0\u001b[39m,\u001b[39m1\u001b[39m,\u001b[39m2\u001b[39m,\u001b[39m0\u001b[39m])\n\u001b[0;32m----> 2\u001b[0m \u001b[39mbool\u001b[39;49m(a)\n",
                  "\u001b[0;31mValueError\u001b[0m: The truth value of an array with more than one element is ambiguous. Use a.any() or a.all()"
               ]
            }
         ],
         "source": [
            "a = np.array([1,2,0,1,2,0])\n",
            "bool(a)"
         ]
      },
      {
         "cell_type": "code",
         "execution_count": 1,
         "metadata": {},
         "outputs": [
            {
               "ename": "NameError",
               "evalue": "name 'AudioSegment' is not defined",
               "output_type": "error",
               "traceback": [
                  "\u001b[0;31m---------------------------------------------------------------------------\u001b[0m",
                  "\u001b[0;31mNameError\u001b[0m                                 Traceback (most recent call last)",
                  "Cell \u001b[0;32mIn[1], line 1\u001b[0m\n\u001b[0;32m----> 1\u001b[0m \u001b[39mdef\u001b[39;00m \u001b[39mget_bytes_of_audio_segment\u001b[39m(audio_segment: AudioSegment) \u001b[39m-\u001b[39m\u001b[39m>\u001b[39m \u001b[39mbytes\u001b[39m:\n\u001b[1;32m      2\u001b[0m     \u001b[39mreturn\u001b[39;00m audio_segment\u001b[39m.\u001b[39mwaveform\n\u001b[1;32m      4\u001b[0m \u001b[39mdef\u001b[39;00m \u001b[39mconvert_bytes_to_array\u001b[39m(bytes_: \u001b[39mbytes\u001b[39m, dtype: \u001b[39mtype\u001b[39m) \u001b[39m-\u001b[39m\u001b[39m>\u001b[39m np\u001b[39m.\u001b[39mndarray:\n",
                  "\u001b[0;31mNameError\u001b[0m: name 'AudioSegment' is not defined"
               ]
            }
         ],
         "source": [
            "def get_bytes_of_audio_segment(audio_segment: AudioSegment) -> bytes:\n",
            "    return audio_segment.waveform\n",
            "\n",
            "def convert_bytes_to_array(bytes_: bytes, dtype: type) -> np.ndarray:\n",
            "    return np.frombuffer(bytes_, dtype=dtype)\n",
            "\n",
            "def convert_array_to_bool(array: np.ndarray) -> np.ndarray:\n",
            "    return array != 0  \n",
            "\n",
            "def instantiate_rising_edge_detector() -> callable:\n",
            "    return partial(BoolSegmentEdgeDetector().detect_edge_indices(edge_type='rising'))\n",
            "\n",
            "def get_index_of_event(event_detector: callable, data_segment: np.ndarray) -> list[int]:\n",
            "    return event_detector(data_segment)\n",
            "\n",
            "# Should we use generators starting from here? How to separate that concern??\n",
            "\n",
            "def get_audio_ts_from_index(audio_segment: AudioSegment, index: int) -> tuple:\n",
            "    return audio_segment.get_ts_of_frame_index(index)\n",
            "\n",
            "def get_bt_of_ts(ts: tuple):\n",
            "    return ts[0]\n",
            "\n",
            "def instanciate_audio_segment_buffer():\n",
            "    return AudioSegmentBuffer()\n",
            "\n",
            "def write_to_buffer(buffer, audio_segment: AudioSegment) -> None:\n",
            "    buffer.write_values(audio_segment)\n",
            "\n",
            "def read_buffer(buffer, ts) -> AudioSegment:\n",
            "    return buffer.read_values(ts)\n",
            "\n",
            "def convert_bytes_to_floats(bytes_: bytes):\n",
            "    pass\n",
            "    # Use recode here\n",
            "    # wf = np.array(decode_pcm_bytes(wf_bytes)\n",
            "\n",
            "def first_featurizer(audio_segments: list[AudioSegment]) -> list[float]:\n",
            "    pass\n",
            "\n",
            "# def find_wf_at_event(wf_buffer, plc_event: AudioSegment):\n",
            "#     if plc_event is None:\n",
            "#         return\n",
            "#     event_start = plc_event.start_date\n",
            "#     event_end = plc_event.end_date\n",
            "#     return np.frombuffer(wf_buffer[event_start:event_end].waveform, dtype=np.int16)\n",
            "#     #return wf_buffer[event_start:event_end].waveform\n"
         ]
      },
      {
         "cell_type": "code",
         "execution_count": 53,
         "metadata": {},
         "outputs": [],
         "source": [
            "from creek import BufferStats\n",
            "from collections import deque\n",
            "from recode import decode_pcm_bytes\n",
            "\n",
            "\n",
            "def identity(x):\n",
            "    return x\n",
            "bs = BufferStats(values = (-1,-1),maxlen=2, func=identity) #, add_new_val=deque.appendleft)\n"
         ]
      },
      {
         "cell_type": "code",
         "execution_count": 63,
         "metadata": {},
         "outputs": [],
         "source": [
            "def simple_plot(arr):\n",
            "    length = len(arr)\n",
            "    result = [[\"0\"]*length, [\"0\"]*length]   \n",
            "    for i, val in enumerate(arr):\n",
            "        if val:\n",
            "            result[0][i] = \"*\"\n",
            "            result[1][i] = \"*\"\n",
            "    result.append([\"-\"]*length)\n",
            "    print('\\n'.join([''.join(row) for row in result]))"
         ]
      },
      {
         "cell_type": "code",
         "execution_count": 75,
         "metadata": {},
         "outputs": [
            {
               "name": "stdout",
               "output_type": "stream",
               "text": [
                  "segment=[0 0 0 0 0] edges=[0 0 0 0 0] rising_edges_count_mod_2=0\n",
                  "segment=[0 0 0 0 0] edges=[0 0 0 0 0] rising_edges_count_mod_2=0\n",
                  "segment=[0 0 0 0 0] edges=[0 0 0 0 0] rising_edges_count_mod_2=0\n",
                  "segment=[0 0 0 0 0] edges=[0 0 0 0 0] rising_edges_count_mod_2=0\n",
                  "segment=[0 0 0 0 0] edges=[0 0 0 0 0] rising_edges_count_mod_2=0\n",
                  "segment=[0 0 0 0 0] edges=[0 0 0 0 0] rising_edges_count_mod_2=0\n",
                  "segment=[0 0 0 0 0] edges=[0 0 0 0 0] rising_edges_count_mod_2=0\n",
                  "segment=[0 0 0 0 0] edges=[0 0 0 0 0] rising_edges_count_mod_2=0\n",
                  "segment=[0 0 0 0 0] edges=[0 0 0 0 0] rising_edges_count_mod_2=0\n",
                  "segment=[0 0 0 0 0] edges=[0 0 0 0 0] rising_edges_count_mod_2=0\n",
                  "segment=[0 0 0 0 0] edges=[0 0 0 0 0] rising_edges_count_mod_2=0\n",
                  "segment=[0 0 0 0 1] edges=[0 0 0 0 1] rising_edges_count_mod_2=1\n",
                  "segment=[1 0 0 0 0] edges=[ 0 -1  0  0  0] rising_edges_count_mod_2=0\n",
                  "segment=[0 0 0 0 0] edges=[0 0 0 0 0] rising_edges_count_mod_2=0\n",
                  "segment=[0 0 0 0 0] edges=[0 0 0 0 0] rising_edges_count_mod_2=0\n",
                  "segment=[0 0 0 0 0] edges=[0 0 0 0 0] rising_edges_count_mod_2=0\n"
               ]
            }
         ],
         "source": [
            "from creek import BufferStats\n",
            "from collections import deque\n",
            "from recode import decode_pcm_bytes\n",
            "\n",
            "\n",
            "def simple_plot(arr):\n",
            "    length = len(arr)\n",
            "    result = [[\"0\"]*length, [\"0\"]*length]   \n",
            "    for i, val in enumerate(arr):\n",
            "        if val:\n",
            "            result[0][i] = \"*\"\n",
            "            result[1][i] = \"*\"\n",
            "    result.append([\"-\"]*length)\n",
            "    print('\\n'.join([''.join(row) for row in result]))\n",
            "\n",
            "def identity(x):\n",
            "    return x\n",
            "bs = BufferStats(values = (-1,-1),maxlen=2, func=identity) #, add_new_val=deque.appendleft)\n",
            "\n",
            "# SLABS\n",
            "counter = 0\n",
            "with accel_source.stream_buffer(maxlen=None) as accel_buffer:\n",
            "    accel_reader = accel_buffer.mk_reader()\n",
            "    \n",
            "    with plc_source.stream_buffer(maxlen=None) as plc_buffer:\n",
            "        plc_reader = plc_buffer.mk_reader()\n",
            "        time.sleep(1)\n",
            "        next_plc = partial(plc_reader.next, ignore_no_item_found=True)\n",
            "\n",
            "        slabs = Slabs(\n",
            "            wf_buffer = lambda: accel_reader,\n",
            "            # output = my_func(input)\n",
            "            plc_segment = next_plc,\n",
            "            last_plc = lambda plc_segment: plc_segment.waveform[-1] ,\n",
            "            view_segment = lambda plc_segment: plc_segment.waveform,\n",
            "            int_segment = lambda plc_segment: np.array(decode_pcm_bytes(plc_segment.waveform)),\n",
            "            bool_segment = lambda int_segment: (int_segment != 0).astype(int),\n",
            "            buffered_last = lambda bool_segment: bs(bool_segment[-1]), #(previous_last, current_last),\n",
            "\n",
            "            edges = lambda bool_segment, buffered_last: np.diff(bool_segment, prepend=buffered_last[0]),\n",
            "            edges_ones_idx = lambda edges: [i for i, x in enumerate(edges) if x == 1],\n",
            "            ts_for_edge_one = lambda edges_ones_idx, plc_segment: [get_audio_ts_from_indices(plc_segment, i) for i in edges_ones_idx],\n",
            "            #rising_edges_count_mod_2 = lambda edges: sum(x % 2 for x in edges if x==1),\n",
            "            #bool_plot = lambda bool_segment: simple_plot(bool_segment),\n",
            "\n",
            "            #sink = lambda last_plc: print(last_plc)\n",
            "        )\n",
            "\n",
            "        for s in slabs:\n",
            "            counter +=1\n",
            "            print(f'segment={s.get(\"bool_segment\")} edges={s.get(\"edges\")} edges_ones_idx={s.get(\"edges_ones_idx\")} ts_for_edge_one={s.get(\"ts_for_edge_one\")}')\n",
            "            #print(f'{s.get(\"edges\")}')\n",
            "\n",
            "            if counter>15:\n",
            "                break\n",
            "            #if fvs is not None,:\n",
            "            #    print(f'{s.get('fvs')}')\n",
            "            # if (fvs := s.get('fvs')) is not None: \n",
            "            #     print(fvs)"
         ]
      },
      {
         "cell_type": "code",
         "execution_count": 67,
         "metadata": {},
         "outputs": [
            {
               "data": {
                  "text/plain": [
                     "array([False, False,  True])"
                  ]
               },
               "execution_count": 67,
               "metadata": {},
               "output_type": "execute_result"
            }
         ],
         "source": [
            "np.diff([False, False, False,  True])"
         ]
      },
      {
         "cell_type": "code",
         "execution_count": 51,
         "metadata": {},
         "outputs": [],
         "source": []
      },
      {
         "cell_type": "code",
         "execution_count": 52,
         "metadata": {},
         "outputs": [
            {
               "data": {
                  "text/plain": [
                     "[0, 0, 0, 0, 0]"
                  ]
               },
               "execution_count": 52,
               "metadata": {},
               "output_type": "execute_result"
            }
         ],
         "source": [
            "decode_pcm_bytes(b'\\x00\\x00\\x00\\x00\\x00\\x00\\x00\\x00\\x00\\x00'\n",
            ")"
         ]
      },
      {
         "cell_type": "code",
         "execution_count": null,
         "metadata": {},
         "outputs": [],
         "source": []
      }
   ],
   "metadata": {
      "kernelspec": {
         "display_name": "otopy310",
         "language": "python",
         "name": "python3"
      },
      "language_info": {
         "codemirror_mode": {
            "name": "ipython",
            "version": 3
         },
         "file_extension": ".py",
         "mimetype": "text/x-python",
         "name": "python",
         "nbconvert_exporter": "python",
         "pygments_lexer": "ipython3",
         "version": "3.10.0"
      },
      "orig_nbformat": 4,
      "vscode": {
         "interpreter": {
            "hash": "1b1583496da055986182577c8a7f701c9cd62d32bb22c260ed492920d961d72e"
         }
      }
   },
   "nbformat": 4,
   "nbformat_minor": 2
}
