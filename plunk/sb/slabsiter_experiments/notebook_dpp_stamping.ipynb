{
 "cells": [
  {
   "cell_type": "code",
   "execution_count": 3,
   "metadata": {},
   "outputs": [
    {
     "data": {
      "text/plain": [
       "{'audio': [1, 2, 3],\n",
       " 'light': 126,\n",
       " 'movement': None,\n",
       " 'should_turn_movement_sensor_on': False,\n",
       " 'human_presence_score': None,\n",
       " 'should_notify': None,\n",
       " 'notify': None}"
      ]
     },
     "execution_count": 3,
     "metadata": {},
     "output_type": "execute_result"
    }
   ],
   "source": [
    "from meshed.slabs import Slabs\n",
    "\n",
    "from statistics import stdev\n",
    "vol = stdev\n",
    "should_turn_movement_sensor_on = lambda audio, light: vol(audio) * light > 50000\n",
    "\n",
    "def make_a_slabs_iter():\n",
    "\n",
    "    # Mocking the sensor readers\n",
    "    audio_sensor_read = iter([[1, 2, 3], [-96, 87, -92], [320, -96, 99]]).__next__\n",
    "    light_sensor_read = iter([126, 501, 523]).__next__\n",
    "    movement_sensor_read = iter([None, None, True]).__next__\n",
    "\n",
    "    return Slabs(\n",
    "        # The first three components get data from the sensors.\n",
    "        # The *_read objects are all callable, returning the next\n",
    "        # chunk of data for that sensor, if any.\n",
    "        audio=audio_sensor_read,\n",
    "        light=light_sensor_read,\n",
    "        movement=movement_sensor_read,\n",
    "        # The next\n",
    "        should_turn_movement_sensor_on = lambda audio, light: vol(audio) * light > 50000,\n",
    "        human_presence_score = lambda audio, light, movement: movement and sum([vol(audio), light]),\n",
    "        should_notify = lambda human_presence_score: human_presence_score and human_presence_score > 700,\n",
    "        notify = lambda should_notify: print('someone is there') if should_notify else None\n",
    "    )\n",
    "\n",
    "\n",
    "si = make_a_slabs_iter()\n",
    "next(si)  \n",
    "    "
   ]
  },
  {
   "cell_type": "code",
   "execution_count": 4,
   "metadata": {},
   "outputs": [
    {
     "data": {
      "text/plain": [
       "{'audio': [-96, 87, -92],\n",
       " 'light': 501,\n",
       " 'movement': None,\n",
       " 'should_turn_movement_sensor_on': True,\n",
       " 'human_presence_score': None,\n",
       " 'should_notify': None,\n",
       " 'notify': None}"
      ]
     },
     "execution_count": 4,
     "metadata": {},
     "output_type": "execute_result"
    }
   ],
   "source": [
    "next(si)"
   ]
  },
  {
   "cell_type": "code",
   "execution_count": 5,
   "metadata": {},
   "outputs": [
    {
     "name": "stdout",
     "output_type": "stream",
     "text": [
      "someone is there\n"
     ]
    },
    {
     "data": {
      "text/plain": [
       "{'audio': [320, -96, 99],\n",
       " 'light': 523,\n",
       " 'movement': True,\n",
       " 'should_turn_movement_sensor_on': True,\n",
       " 'human_presence_score': 731.1353726143957,\n",
       " 'should_notify': True,\n",
       " 'notify': None}"
      ]
     },
     "execution_count": 5,
     "metadata": {},
     "output_type": "execute_result"
    }
   ],
   "source": [
    "next(si)"
   ]
  },
  {
   "cell_type": "markdown",
   "metadata": {},
   "source": [
    "# Slabs for stamping press"
   ]
  },
  {
   "cell_type": "code",
   "execution_count": 57,
   "metadata": {},
   "outputs": [
    {
     "data": {
      "text/plain": [
       "{'accel': {'ch1': -2, 'ch2': 22, 'ch3': 43},\n",
       " 'plc': {'kind': 'event_a', 'bt': 2},\n",
       " 'demux': {'ch1': -2, 'ch2': 22, 'ch3': 43},\n",
       " 'buffer': <generator object windowed at 0x7fa6058e94d0>}"
      ]
     },
     "execution_count": 57,
     "metadata": {},
     "output_type": "execute_result"
    }
   ],
   "source": [
    "from meshed.slabs import Slabs\n",
    "from more_itertools import windowed\n",
    "\n",
    "from typing import Callable\n",
    "\n",
    "def filter_on_predicate(data, pred: Callable, event):\n",
    "    if pred(event):\n",
    "        return data\n",
    "    else: \n",
    "        return None\n",
    "\n",
    "def event_switch(event):\n",
    "    return event and event['kind']=='event_a'\n",
    "\n",
    "def make_a_slabs_iter():\n",
    "    # Sensor readers\n",
    "    accelerometer_sensor_read = iter([{'ch1':1, 'ch2':2, 'ch3':3}, {'ch1':-2, 'ch2':22, 'ch3':43},\n",
    "                                      {'ch1':92, 'ch2':94, 'ch3':95}]).__next__\n",
    "    plc_read = iter([None, {'kind':'event_a', 'bt':2}, {'kind':'event_b', 'tt':15}]).__next__\n",
    "\n",
    "    return Slabs(\n",
    "        accel=accelerometer_sensor_read,\n",
    "        plc=plc_read,\n",
    "        demux = lambda accel, plc: filter_on_predicate(accel, event_switch, plc),\n",
    "        buffer = lambda demux: windowed(demux, n=2)\n",
    "    )\n",
    "\n",
    "s = make_a_slabs_iter()\n",
    "next(s)\n",
    "next(s)"
   ]
  },
  {
   "cell_type": "code",
   "execution_count": 52,
   "metadata": {},
   "outputs": [],
   "source": [
    "s = make_a_slabs_iter()"
   ]
  },
  {
   "cell_type": "code",
   "execution_count": 54,
   "metadata": {},
   "outputs": [
    {
     "data": {
      "text/plain": [
       "[('ch1', 'ch2'), ('ch2', 'ch3')]"
      ]
     },
     "execution_count": 54,
     "metadata": {},
     "output_type": "execute_result"
    }
   ],
   "source": [
    "list(next(s)['buffer'])"
   ]
  },
  {
   "cell_type": "code",
   "execution_count": 36,
   "metadata": {},
   "outputs": [],
   "source": [
    "from more_itertools import windowed"
   ]
  },
  {
   "cell_type": "code",
   "execution_count": 37,
   "metadata": {},
   "outputs": [
    {
     "data": {
      "text/plain": [
       "[(1, 2, 3), (2, 3, 4), (3, 4, 5)]"
      ]
     },
     "execution_count": 37,
     "metadata": {},
     "output_type": "execute_result"
    }
   ],
   "source": [
    "all_windows = windowed([1, 2, 3, 4, 5], 3)\n",
    "list(all_windows)\n",
    "[(1, 2, 3), (2, 3, 4), (3, 4, 5)]"
   ]
  },
  {
   "cell_type": "code",
   "execution_count": null,
   "metadata": {},
   "outputs": [],
   "source": []
  }
 ],
 "metadata": {
  "kernelspec": {
   "display_name": "otopy310",
   "language": "python",
   "name": "python3"
  },
  "language_info": {
   "codemirror_mode": {
    "name": "ipython",
    "version": 3
   },
   "file_extension": ".py",
   "mimetype": "text/x-python",
   "name": "python",
   "nbconvert_exporter": "python",
   "pygments_lexer": "ipython3",
   "version": "3.10.0"
  },
  "orig_nbformat": 4,
  "vscode": {
   "interpreter": {
    "hash": "1b1583496da055986182577c8a7f701c9cd62d32bb22c260ed492920d961d72e"
   }
  }
 },
 "nbformat": 4,
 "nbformat_minor": 2
}
