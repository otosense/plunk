{
 "cells": [
  {
   "cell_type": "code",
   "execution_count": 3,
   "metadata": {},
   "outputs": [
    {
     "data": {
      "text/plain": [
       "{'audio': [1, 2, 3],\n",
       " 'light': 126,\n",
       " 'movement': None,\n",
       " 'should_turn_movement_sensor_on': False,\n",
       " 'human_presence_score': None,\n",
       " 'should_notify': None,\n",
       " 'notify': None}"
      ]
     },
     "execution_count": 3,
     "metadata": {},
     "output_type": "execute_result"
    }
   ],
   "source": [
    "from meshed.slabs import Slabs\n",
    "\n",
    "from statistics import stdev\n",
    "vol = stdev\n",
    "should_turn_movement_sensor_on = lambda audio, light: vol(audio) * light > 50000\n",
    "\n",
    "def make_a_slabs_iter():\n",
    "\n",
    "    # Mocking the sensor readers\n",
    "    audio_sensor_read = iter([[1, 2, 3], [-96, 87, -92], [320, -96, 99]]).__next__\n",
    "    light_sensor_read = iter([126, 501, 523]).__next__\n",
    "    movement_sensor_read = iter([None, None, True]).__next__\n",
    "\n",
    "    return Slabs(\n",
    "        # The first three components get data from the sensors.\n",
    "        # The *_read objects are all callable, returning the next\n",
    "        # chunk of data for that sensor, if any.\n",
    "        audio=audio_sensor_read,\n",
    "        light=light_sensor_read,\n",
    "        movement=movement_sensor_read,\n",
    "        # The next\n",
    "        should_turn_movement_sensor_on = lambda audio, light: vol(audio) * light > 50000,\n",
    "        human_presence_score = lambda audio, light, movement: movement and sum([vol(audio), light]),\n",
    "        should_notify = lambda human_presence_score: human_presence_score and human_presence_score > 700,\n",
    "        notify = lambda should_notify: print('someone is there') if should_notify else None\n",
    "    )\n",
    "\n",
    "\n",
    "si = make_a_slabs_iter()\n",
    "next(si)  \n",
    "    "
   ]
  },
  {
   "cell_type": "code",
   "execution_count": 4,
   "metadata": {},
   "outputs": [
    {
     "data": {
      "text/plain": [
       "{'audio': [-96, 87, -92],\n",
       " 'light': 501,\n",
       " 'movement': None,\n",
       " 'should_turn_movement_sensor_on': True,\n",
       " 'human_presence_score': None,\n",
       " 'should_notify': None,\n",
       " 'notify': None}"
      ]
     },
     "execution_count": 4,
     "metadata": {},
     "output_type": "execute_result"
    }
   ],
   "source": [
    "next(si)"
   ]
  },
  {
   "cell_type": "code",
   "execution_count": 5,
   "metadata": {},
   "outputs": [
    {
     "name": "stdout",
     "output_type": "stream",
     "text": [
      "someone is there\n"
     ]
    },
    {
     "data": {
      "text/plain": [
       "{'audio': [320, -96, 99],\n",
       " 'light': 523,\n",
       " 'movement': True,\n",
       " 'should_turn_movement_sensor_on': True,\n",
       " 'human_presence_score': 731.1353726143957,\n",
       " 'should_notify': True,\n",
       " 'notify': None}"
      ]
     },
     "execution_count": 5,
     "metadata": {},
     "output_type": "execute_result"
    }
   ],
   "source": [
    "next(si)"
   ]
  },
  {
   "cell_type": "markdown",
   "metadata": {},
   "source": [
    "# Slabs for stamping press"
   ]
  },
  {
   "cell_type": "code",
   "execution_count": 1,
   "metadata": {},
   "outputs": [
    {
     "data": {
      "text/plain": [
       "{'accel': {'ch1': -2, 'ch2': 22, 'ch3': 43},\n",
       " 'plc': {'kind': 'event_a', 'bt': 2},\n",
       " 'demux': {'ch1': -2, 'ch2': 22, 'ch3': 43},\n",
       " 'buffer': <generator object windowed at 0x7f7a107d66d0>}"
      ]
     },
     "execution_count": 1,
     "metadata": {},
     "output_type": "execute_result"
    }
   ],
   "source": [
    "from meshed.slabs import Slabs\n",
    "from more_itertools import windowed\n",
    "\n",
    "from typing import Callable\n",
    "\n",
    "\n",
    "def filter_on_predicate(data, pred: Callable, event):\n",
    "    if event is None:\n",
    "        return 'out1'\n",
    "    if pred(event):\n",
    "        return data\n",
    "    else: \n",
    "        return 'out1'\n",
    "\n",
    "def event_switch(event):\n",
    "    event['event_a']\n",
    "\n",
    "def demux(accel, plc):\n",
    "    result = 'out_1'\n",
    "    if plc['event_a']:\n",
    "        result = accel\n",
    "    return filter_on_predicate(accel, event_switch, plc)\n",
    "\n",
    "def make_a_slabs_iter():\n",
    "    # Sensor readers, slabs of 1 sec\n",
    "    # use next_slice of creek InfiniteStream instead of iter\n",
    "    accelerometer_sensor_read = iter([{'ch1':1, 'ch2':2, 'ch3':3, 'ts':001}, {'ch1':-2, 'ch2':22, 'ch3':43, 'ts':002},\n",
    "                                      {'ch1':92, 'ch2':94, 'ch3':95, 'ts':003}]).__next__\n",
    "    \n",
    "    plc_read = iter([{'event_a':False, 'event_b':False,'ts':003}, {'event_a':True, 'event_b':False,'ts':004}, {'event_a':False, 'event_b':True,'ts':005}]).__next__\n",
    "    # pb: what to do with different sample rates? events at the same time! {event_a, event_b}\n",
    "    return Slabs(\n",
    "        accel=accelerometer_sensor_read,\n",
    "        plc=plc_read,\n",
    "        demux = lambda accel, plc: filter_on_predicate(accel, event_switch, plc),\n",
    "        buffer = lambda demux: windowed(demux, n=2)\n",
    "    )\n",
    "\n",
    "\n",
    "s = make_a_slabs_iter()\n",
    "next(s)\n",
    "next(s)"
   ]
  },
  {
   "cell_type": "code",
   "execution_count": 9,
   "metadata": {},
   "outputs": [],
   "source": [
    "# sample rate must be the same\n",
    "# events can occur at the same time\n",
    "# Valentin: use creek"
   ]
  },
  {
   "cell_type": "code",
   "execution_count": 33,
   "metadata": {},
   "outputs": [],
   "source": [
    "#Valentin's code\n",
    "from dataclasses import dataclass\n",
    "from typing import Iterator\n",
    "from creek.infinite_sequence import BufferedGetter, OverlapsPastError\n",
    "from itertools import islice\n",
    "\n",
    "\n",
    "@dataclass\n",
    "class TimestampedInfiniteSequence:\n",
    "\n",
    "    iterator: Iterator\n",
    "    buffer_len: int\n",
    "\n",
    "    def __post_init__(self):\n",
    "        self.buffer_getter = BufferedGetter(self.buffer_len)\n",
    "\n",
    "    def __getitem__(self, item):\n",
    "        if isinstance(item, slice):\n",
    "            items = list(self.buffer_getter)\n",
    "            \n",
    "            if not len(items):\n",
    "                self.buffer_getter.extend(islice(self.iterator, 1))\n",
    "                return self.__getitem__(item)\n",
    "            #buffer = AudioData.concatenate(items)\n",
    "            if item.stop > items[-1]['ts']: #item must have a ts attribute\n",
    "                self.buffer_getter.extend(islice(self.iterator, 1))\n",
    "                return self.__getitem__(item)\n",
    "            if item.start < items[0]['ts']:\n",
    "                raise OverlapsPastError(\n",
    "                    f'wrong range'\n",
    "                    #f'You asked for {item}, but the buffer only contains the index range: {items.start_date}:{items.end_date}'\n",
    "                )\n",
    "            \n",
    "            def query(i: dict):\n",
    "                return item.start <= i['ts'] <= item.stop\n",
    "            \n",
    "            return self.buffer_getter[query]\n",
    "        elif isinstance(item, int):\n",
    "            return self[slice(item, item + 1)][0]"
   ]
  },
  {
   "cell_type": "code",
   "execution_count": 51,
   "metadata": {},
   "outputs": [],
   "source": [
    "accelerometer_sensor_iter = iter([{'ch1':1, 'ch2':2, 'ch3':3, 'ts':10}, {'ch1':-2, 'ch2':22, 'ch3':43, 'ts':20},{'ch1':92, 'ch2':94, 'ch3':95, 'ts':30},{'ch1':92, 'ch2':94, 'ch3':95, 'ts':40}])\n",
    "accel_buffer = TimestampedInfiniteSequence(accelerometer_sensor_iter, buffer_len = 3)\n",
    "\n",
    "#plc_sensor_iter = iter([{'var_a':False, 'var_b':False,'ts':5}, {'var_a':True, 'var_b':False,'ts':21}, {'var_a':False, 'var_b':True,'ts':32}])\n",
    "plc_sensor_iter = iter([{'var_a':False, 'var_b':False,'ts':5}, {'var_a':True, 'var_b':False,'ts':10}, \n",
    "                        {'var_a':False, 'var_b':True,'ts':15},{'var_a':False, 'var_b':True,'ts':20},\n",
    "                        {'var_a':False, 'var_b':True,'ts':25},{'var_a':False, 'var_b':True,'ts':30},\n",
    "                        {'var_a':False, 'var_b':True,'ts':35},{'var_a':False, 'var_b':True,'ts':40}])\n",
    "\n",
    "plc_buffer = TimestampedInfiniteSequence(plc_sensor_iter, buffer_len = 3)\n"
   ]
  },
  {
   "cell_type": "code",
   "execution_count": 52,
   "metadata": {},
   "outputs": [
    {
     "name": "stdout",
     "output_type": "stream",
     "text": [
      "[{'ch1': -2, 'ch2': 22, 'ch3': 43, 'ts': 20}, {'ch1': 92, 'ch2': 94, 'ch3': 95, 'ts': 30}]\n"
     ]
    }
   ],
   "source": [
    "# check the ranges\n",
    "print(accel_buffer[20:30])"
   ]
  },
  {
   "cell_type": "code",
   "execution_count": 53,
   "metadata": {},
   "outputs": [
    {
     "name": "stdout",
     "output_type": "stream",
     "text": [
      "[{'var_a': False, 'var_b': True, 'ts': 20}, {'var_a': False, 'var_b': True, 'ts': 25}, {'var_a': False, 'var_b': True, 'ts': 30}]\n"
     ]
    }
   ],
   "source": [
    "print(plc_buffer[20:30])"
   ]
  },
  {
   "cell_type": "code",
   "execution_count": 7,
   "metadata": {},
   "outputs": [],
   "source": [
    "from meshed import code_to_dag\n",
    "\n",
    "@code_to_dag\n",
    "def user_story():\n",
    "    audio = audio_sensor_read(audio_source)\n",
    "    light = light_sensor_read(light_source)\n",
    "    result = myfunc(audio, light)\n",
    "    final = f(result)\n",
    "    dead_node = my_func2(audio, light)\n",
    "    \n",
    "\n"
   ]
  },
  {
   "cell_type": "code",
   "execution_count": 8,
   "metadata": {},
   "outputs": [
    {
     "data": {
      "image/svg+xml": "<?xml version=\"1.0\" encoding=\"UTF-8\" standalone=\"no\"?>\n<!DOCTYPE svg PUBLIC \"-//W3C//DTD SVG 1.1//EN\"\n \"http://www.w3.org/Graphics/SVG/1.1/DTD/svg11.dtd\">\n<!-- Generated by graphviz version 2.40.1 (20161225.0304)\n -->\n<!-- Title: %3 Pages: 1 -->\n<svg width=\"264pt\" height=\"476pt\"\n viewBox=\"0.00 0.00 263.50 476.00\" xmlns=\"http://www.w3.org/2000/svg\" xmlns:xlink=\"http://www.w3.org/1999/xlink\">\n<g id=\"graph0\" class=\"graph\" transform=\"scale(1 1) rotate(0) translate(4 472)\">\n<title>%3</title>\n<polygon fill=\"#ffffff\" stroke=\"transparent\" points=\"-4,4 -4,-472 259.5,-472 259.5,4 -4,4\"/>\n<!-- audio -->\n<g id=\"node1\" class=\"node\">\n<title>audio</title>\n<text text-anchor=\"middle\" x=\"86.5\" y=\"-302.3\" font-family=\"Times,serif\" font-size=\"14.00\" fill=\"#000000\">audio</text>\n</g>\n<!-- myfunc -->\n<g id=\"node8\" class=\"node\">\n<title>myfunc</title>\n<polygon fill=\"none\" stroke=\"#000000\" points=\"116,-252 57,-252 57,-216 116,-216 116,-252\"/>\n<text text-anchor=\"middle\" x=\"86.5\" y=\"-230.3\" font-family=\"Times,serif\" font-size=\"14.00\" fill=\"#000000\">myfunc</text>\n</g>\n<!-- audio&#45;&gt;myfunc -->\n<g id=\"edge6\" class=\"edge\">\n<title>audio&#45;&gt;myfunc</title>\n<path fill=\"none\" stroke=\"#000000\" d=\"M86.5,-287.8314C86.5,-280.131 86.5,-270.9743 86.5,-262.4166\"/>\n<polygon fill=\"#000000\" stroke=\"#000000\" points=\"90.0001,-262.4132 86.5,-252.4133 83.0001,-262.4133 90.0001,-262.4132\"/>\n</g>\n<!-- my_func2 -->\n<g id=\"node12\" class=\"node\">\n<title>my_func2</title>\n<polygon fill=\"none\" stroke=\"#000000\" points=\"207,-252 134,-252 134,-216 207,-216 207,-252\"/>\n<text text-anchor=\"middle\" x=\"170.5\" y=\"-230.3\" font-family=\"Times,serif\" font-size=\"14.00\" fill=\"#000000\">my_func2</text>\n</g>\n<!-- audio&#45;&gt;my_func2 -->\n<g id=\"edge11\" class=\"edge\">\n<title>audio&#45;&gt;my_func2</title>\n<path fill=\"none\" stroke=\"#000000\" d=\"M107.6967,-287.8314C117.9434,-279.0485 130.4003,-268.3712 141.5097,-258.8489\"/>\n<polygon fill=\"#000000\" stroke=\"#000000\" points=\"143.9952,-261.3282 149.31,-252.1628 139.4397,-256.0134 143.9952,-261.3282\"/>\n</g>\n<!-- audio_source -->\n<g id=\"node2\" class=\"node\">\n<title>audio_source</title>\n<text text-anchor=\"middle\" x=\"60.5\" y=\"-446.3\" font-family=\"Times,serif\" font-size=\"14.00\" fill=\"#000000\">audio_source</text>\n</g>\n<!-- audio_sensor_read -->\n<g id=\"node3\" class=\"node\">\n<title>audio_sensor_read</title>\n<polygon fill=\"none\" stroke=\"#000000\" points=\"121,-396 0,-396 0,-360 121,-360 121,-396\"/>\n<text text-anchor=\"middle\" x=\"60.5\" y=\"-374.3\" font-family=\"Times,serif\" font-size=\"14.00\" fill=\"#000000\">audio_sensor_read</text>\n</g>\n<!-- audio_source&#45;&gt;audio_sensor_read -->\n<g id=\"edge2\" class=\"edge\">\n<title>audio_source&#45;&gt;audio_sensor_read</title>\n<path fill=\"none\" stroke=\"#000000\" d=\"M60.5,-431.8314C60.5,-424.131 60.5,-414.9743 60.5,-406.4166\"/>\n<polygon fill=\"#000000\" stroke=\"#000000\" points=\"64.0001,-406.4132 60.5,-396.4133 57.0001,-406.4133 64.0001,-406.4132\"/>\n</g>\n<!-- audio_sensor_read&#45;&gt;audio -->\n<g id=\"edge1\" class=\"edge\">\n<title>audio_sensor_read&#45;&gt;audio</title>\n<path fill=\"none\" stroke=\"#000000\" d=\"M67.0609,-359.8314C69.9027,-351.9617 73.2937,-342.5712 76.4419,-333.8533\"/>\n<polygon fill=\"#000000\" stroke=\"#000000\" points=\"79.7462,-335.0076 79.8508,-324.4133 73.1623,-332.63 79.7462,-335.0076\"/>\n</g>\n<!-- light -->\n<g id=\"node4\" class=\"node\">\n<title>light</title>\n<text text-anchor=\"middle\" x=\"170.5\" y=\"-302.3\" font-family=\"Times,serif\" font-size=\"14.00\" fill=\"#000000\">light</text>\n</g>\n<!-- light&#45;&gt;myfunc -->\n<g id=\"edge7\" class=\"edge\">\n<title>light&#45;&gt;myfunc</title>\n<path fill=\"none\" stroke=\"#000000\" d=\"M149.3033,-287.8314C139.0566,-279.0485 126.5997,-268.3712 115.4903,-258.8489\"/>\n<polygon fill=\"#000000\" stroke=\"#000000\" points=\"117.5603,-256.0134 107.69,-252.1628 113.0048,-261.3282 117.5603,-256.0134\"/>\n</g>\n<!-- light&#45;&gt;my_func2 -->\n<g id=\"edge12\" class=\"edge\">\n<title>light&#45;&gt;my_func2</title>\n<path fill=\"none\" stroke=\"#000000\" d=\"M170.5,-287.8314C170.5,-280.131 170.5,-270.9743 170.5,-262.4166\"/>\n<polygon fill=\"#000000\" stroke=\"#000000\" points=\"174.0001,-262.4132 170.5,-252.4133 167.0001,-262.4133 174.0001,-262.4132\"/>\n</g>\n<!-- light_source -->\n<g id=\"node5\" class=\"node\">\n<title>light_source</title>\n<text text-anchor=\"middle\" x=\"197.5\" y=\"-446.3\" font-family=\"Times,serif\" font-size=\"14.00\" fill=\"#000000\">light_source</text>\n</g>\n<!-- light_sensor_read -->\n<g id=\"node6\" class=\"node\">\n<title>light_sensor_read</title>\n<polygon fill=\"none\" stroke=\"#000000\" points=\"255.5,-396 139.5,-396 139.5,-360 255.5,-360 255.5,-396\"/>\n<text text-anchor=\"middle\" x=\"197.5\" y=\"-374.3\" font-family=\"Times,serif\" font-size=\"14.00\" fill=\"#000000\">light_sensor_read</text>\n</g>\n<!-- light_source&#45;&gt;light_sensor_read -->\n<g id=\"edge4\" class=\"edge\">\n<title>light_source&#45;&gt;light_sensor_read</title>\n<path fill=\"none\" stroke=\"#000000\" d=\"M197.5,-431.8314C197.5,-424.131 197.5,-414.9743 197.5,-406.4166\"/>\n<polygon fill=\"#000000\" stroke=\"#000000\" points=\"201.0001,-406.4132 197.5,-396.4133 194.0001,-406.4133 201.0001,-406.4132\"/>\n</g>\n<!-- light_sensor_read&#45;&gt;light -->\n<g id=\"edge3\" class=\"edge\">\n<title>light_sensor_read&#45;&gt;light</title>\n<path fill=\"none\" stroke=\"#000000\" d=\"M190.6868,-359.8314C187.7356,-351.9617 184.2142,-342.5712 180.945,-333.8533\"/>\n<polygon fill=\"#000000\" stroke=\"#000000\" points=\"184.1934,-332.5476 177.405,-324.4133 177.6391,-335.0055 184.1934,-332.5476\"/>\n</g>\n<!-- result -->\n<g id=\"node7\" class=\"node\">\n<title>result</title>\n<text text-anchor=\"middle\" x=\"86.5\" y=\"-158.3\" font-family=\"Times,serif\" font-size=\"14.00\" fill=\"#000000\">result</text>\n</g>\n<!-- f -->\n<g id=\"node10\" class=\"node\">\n<title>f</title>\n<polygon fill=\"none\" stroke=\"#000000\" points=\"113.5,-108 59.5,-108 59.5,-72 113.5,-72 113.5,-108\"/>\n<text text-anchor=\"middle\" x=\"86.5\" y=\"-86.3\" font-family=\"Times,serif\" font-size=\"14.00\" fill=\"#000000\">f</text>\n</g>\n<!-- result&#45;&gt;f -->\n<g id=\"edge9\" class=\"edge\">\n<title>result&#45;&gt;f</title>\n<path fill=\"none\" stroke=\"#000000\" d=\"M86.5,-143.8314C86.5,-136.131 86.5,-126.9743 86.5,-118.4166\"/>\n<polygon fill=\"#000000\" stroke=\"#000000\" points=\"90.0001,-118.4132 86.5,-108.4133 83.0001,-118.4133 90.0001,-118.4132\"/>\n</g>\n<!-- myfunc&#45;&gt;result -->\n<g id=\"edge5\" class=\"edge\">\n<title>myfunc&#45;&gt;result</title>\n<path fill=\"none\" stroke=\"#000000\" d=\"M86.5,-215.8314C86.5,-208.131 86.5,-198.9743 86.5,-190.4166\"/>\n<polygon fill=\"#000000\" stroke=\"#000000\" points=\"90.0001,-190.4132 86.5,-180.4133 83.0001,-190.4133 90.0001,-190.4132\"/>\n</g>\n<!-- final -->\n<g id=\"node9\" class=\"node\">\n<title>final</title>\n<text text-anchor=\"middle\" x=\"86.5\" y=\"-14.3\" font-family=\"Times,serif\" font-size=\"14.00\" fill=\"#000000\">final</text>\n</g>\n<!-- f&#45;&gt;final -->\n<g id=\"edge8\" class=\"edge\">\n<title>f&#45;&gt;final</title>\n<path fill=\"none\" stroke=\"#000000\" d=\"M86.5,-71.8314C86.5,-64.131 86.5,-54.9743 86.5,-46.4166\"/>\n<polygon fill=\"#000000\" stroke=\"#000000\" points=\"90.0001,-46.4132 86.5,-36.4133 83.0001,-46.4133 90.0001,-46.4132\"/>\n</g>\n<!-- dead_node -->\n<g id=\"node11\" class=\"node\">\n<title>dead_node</title>\n<text text-anchor=\"middle\" x=\"170.5\" y=\"-158.3\" font-family=\"Times,serif\" font-size=\"14.00\" fill=\"#000000\">dead_node</text>\n</g>\n<!-- my_func2&#45;&gt;dead_node -->\n<g id=\"edge10\" class=\"edge\">\n<title>my_func2&#45;&gt;dead_node</title>\n<path fill=\"none\" stroke=\"#000000\" d=\"M170.5,-215.8314C170.5,-208.131 170.5,-198.9743 170.5,-190.4166\"/>\n<polygon fill=\"#000000\" stroke=\"#000000\" points=\"174.0001,-190.4132 170.5,-180.4133 167.0001,-190.4133 174.0001,-190.4132\"/>\n</g>\n</g>\n</svg>\n",
      "text/plain": [
       "<graphviz.dot.Digraph at 0x7f7a1183c1c0>"
      ]
     },
     "execution_count": 8,
     "metadata": {},
     "output_type": "execute_result"
    }
   ],
   "source": [
    "user_story.dot_digraph()"
   ]
  },
  {
   "cell_type": "code",
   "execution_count": 52,
   "metadata": {},
   "outputs": [],
   "source": [
    "s = make_a_slabs_iter()"
   ]
  },
  {
   "cell_type": "code",
   "execution_count": 54,
   "metadata": {},
   "outputs": [
    {
     "data": {
      "text/plain": [
       "[('ch1', 'ch2'), ('ch2', 'ch3')]"
      ]
     },
     "execution_count": 54,
     "metadata": {},
     "output_type": "execute_result"
    }
   ],
   "source": [
    "list(next(s)['buffer'])"
   ]
  },
  {
   "cell_type": "code",
   "execution_count": 36,
   "metadata": {},
   "outputs": [],
   "source": [
    "from more_itertools import windowed"
   ]
  },
  {
   "cell_type": "code",
   "execution_count": 37,
   "metadata": {},
   "outputs": [
    {
     "data": {
      "text/plain": [
       "[(1, 2, 3), (2, 3, 4), (3, 4, 5)]"
      ]
     },
     "execution_count": 37,
     "metadata": {},
     "output_type": "execute_result"
    }
   ],
   "source": [
    "all_windows = windowed([1, 2, 3, 4, 5], 3)\n",
    "list(all_windows)\n",
    "[(1, 2, 3), (2, 3, 4), (3, 4, 5)]"
   ]
  },
  {
   "cell_type": "code",
   "execution_count": null,
   "metadata": {},
   "outputs": [],
   "source": []
  },
  {
   "attachments": {},
   "cell_type": "markdown",
   "metadata": {},
   "source": [
    "# Scrap"
   ]
  },
  {
   "cell_type": "code",
   "execution_count": 6,
   "metadata": {},
   "outputs": [],
   "source": [
    "def foo(x):\n",
    "    return x\n",
    "\n",
    "all_funcs = [\n",
    "    foo\n",
    "]\n",
    "\n",
    "def transform(func):\n",
    "    def wrapped(*args, **kwargs):\n",
    "        print(\"starting\")\n",
    "        func(*args, **kwargs)\n",
    "        print(\"done\")\n",
    "    return wrapped\n",
    "\n",
    "def apply(func, func_list):\n",
    "    return map(func, func_list)\n",
    "all_funcs = list(apply(transform, all_funcs))"
   ]
  },
  {
   "cell_type": "code",
   "execution_count": 7,
   "metadata": {},
   "outputs": [
    {
     "data": {
      "text/plain": [
       "[<function __main__.transform.<locals>.wrapped(*args, **kwargs)>]"
      ]
     },
     "execution_count": 7,
     "metadata": {},
     "output_type": "execute_result"
    }
   ],
   "source": [
    "all_funcs"
   ]
  },
  {
   "cell_type": "code",
   "execution_count": null,
   "metadata": {},
   "outputs": [],
   "source": []
  }
 ],
 "metadata": {
  "kernelspec": {
   "display_name": "otopy310",
   "language": "python",
   "name": "python3"
  },
  "language_info": {
   "codemirror_mode": {
    "name": "ipython",
    "version": 3
   },
   "file_extension": ".py",
   "mimetype": "text/x-python",
   "name": "python",
   "nbconvert_exporter": "python",
   "pygments_lexer": "ipython3",
   "version": "3.8.11"
  },
  "orig_nbformat": 4,
  "vscode": {
   "interpreter": {
    "hash": "1b1583496da055986182577c8a7f701c9cd62d32bb22c260ed492920d961d72e"
   }
  }
 },
 "nbformat": 4,
 "nbformat_minor": 2
}
