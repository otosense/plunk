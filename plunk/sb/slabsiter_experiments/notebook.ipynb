{
 "cells": [
  {
   "cell_type": "code",
   "execution_count": 13,
   "metadata": {},
   "outputs": [],
   "source": [
    "from slink.sequences import dict_generator, DictChain, IterativeDictProcessing, Repeater, _call_from_dict\n",
    "from know.base import SlabsIter"
   ]
  },
  {
   "cell_type": "code",
   "execution_count": 30,
   "metadata": {},
   "outputs": [
    {
     "name": "stdout",
     "output_type": "stream",
     "text": [
      "[{'x': 7, 'y': 0}, {'x': 7, 'y': 1}, {'x': 7, 'y': 2}]\n"
     ]
    }
   ],
   "source": [
    "import itertools\n",
    "\n",
    "counter = itertools.count()\n",
    "\n",
    "def count():\n",
    "    return next(counter)\n",
    "    f = DictChain(\n",
    "        x=lambda: 7,\n",
    "        _1=Repeater(3),\n",
    "    )\n",
    "\n",
    "[{\"x\": 7}, {\"x\": 7}, {\"x\": 7}]\n",
    "f = DictChain(\n",
    "    x=lambda: 7,\n",
    "    _1=Repeater(3),\n",
    "    y=lambda: next(counter),  # will return 0, then 1, then 2,\n",
    ")\n",
    "print(list(f()))\n",
    "# [{'x': 7, 'y': 0}, {'x': 7, 'y': 1}, {'x': 7, 'y': 2}]"
   ]
  },
  {
   "cell_type": "code",
   "execution_count": 47,
   "metadata": {},
   "outputs": [],
   "source": [
    "import itertools\n",
    "s = SlabsIter(x=lambda: 7,y=lambda: next(counter),z=Repeater('hey', 3)\n",
    "\n",
    "    )"
   ]
  },
  {
   "cell_type": "code",
   "execution_count": 48,
   "metadata": {},
   "outputs": [
    {
     "data": {
      "text/plain": [
       "[{'x': 7, 'y': 6, 'z': 'hey'},\n",
       " {'x': 7, 'y': 7, 'z': 'hey'},\n",
       " {'x': 7, 'y': 8, 'z': 'hey'}]"
      ]
     },
     "execution_count": 48,
     "metadata": {},
     "output_type": "execute_result"
    }
   ],
   "source": [
    "list(s) "
   ]
  },
  {
   "cell_type": "code",
   "execution_count": 45,
   "metadata": {},
   "outputs": [],
   "source": [
    "class Repeater:\n",
    "    def __init__(self, obj, n_iter):\n",
    "        self.obj = obj\n",
    "        self.n_iter=n_iter\n",
    "        self.iterator = itertools.repeat(self.obj, self.n_iter)\n",
    "    \n",
    "    def __iter__(self):\n",
    "        return self.iterator\n",
    "\n",
    "    def __next__(self):\n",
    "        return next(self.iterator)\n",
    "\n",
    "    def __call__(self):\n",
    "        return next(self)\n"
   ]
  },
  {
   "cell_type": "markdown",
   "metadata": {},
   "source": [
    "# Rewrite IterativeDictProcessing"
   ]
  },
  {
   "cell_type": "code",
   "execution_count": 49,
   "metadata": {},
   "outputs": [
    {
     "data": {
      "text/plain": [
       "{'session': 2,\n",
       " 'phase': 20,\n",
       " 'something_dependent': 22,\n",
       " 'something_independent': 'hi'}"
      ]
     },
     "execution_count": 49,
     "metadata": {},
     "output_type": "execute_result"
    }
   ],
   "source": [
    "f = IterativeDictProcessing(\n",
    "         phase=lambda session: session * 10,\n",
    "         something_dependent=lambda session, phase: session + phase,\n",
    "         something_independent=lambda: 'hi'\n",
    "     )\n",
    "f({'session': 2})\n",
    "#{'session': 2, 'phase': 20, 'something_dependent': 22, 'something_independent': 'hi'}"
   ]
  },
  {
   "cell_type": "code",
   "execution_count": 70,
   "metadata": {},
   "outputs": [],
   "source": [
    "from meshed import DAG\n",
    "from i2 import Sig\n",
    "\n",
    "def phase(session):\n",
    "    return session*10\n",
    "def something_dependent(session, phase): \n",
    "    return session + phase\n",
    "def something_independent():\n",
    "    return 'hi'\n",
    "\n",
    "class IterativeDictProcessingDAG:\n",
    "    def __init__(self, *funcs):\n",
    "        self.dag = DAG([*funcs])\n",
    "\n",
    "    def __call__(self, **kwargs):\n",
    "         _call_from_dict(kwargs=kwargs, func=self.dag, sig=Sig(self.dag))\n",
    "         return self.dag.last_scope\n",
    "\n",
    "dd = IterativeDictProcessingDAG(phase, something_dependent, something_independent)\n",
    "assert dd(session= 201)=={'session': 201,\n",
    " 'something_independent': 'hi',\n",
    " 'phase': 2010,\n",
    " 'something_dependent': 2211}"
   ]
  },
  {
   "cell_type": "code",
   "execution_count": 69,
   "metadata": {},
   "outputs": [
    {
     "data": {
      "text/plain": [
       "{'session': 201,\n",
       " 'something_independent': 'hi',\n",
       " 'phase': 2010,\n",
       " 'something_dependent': 2211}"
      ]
     },
     "execution_count": 69,
     "metadata": {},
     "output_type": "execute_result"
    }
   ],
   "source": [
    "dd = IterativeDictProcessingDAG(phase, something_dependent, something_independent)\n",
    "dd(session= 201)"
   ]
  },
  {
   "cell_type": "code",
   "execution_count": 47,
   "metadata": {},
   "outputs": [
    {
     "data": {
      "text/plain": [
       "20"
      ]
     },
     "execution_count": 47,
     "metadata": {},
     "output_type": "execute_result"
    }
   ],
   "source": [
    "d=DAG(phase, something_dependent, something_independent)\n",
    "_call_from_dict(kwargs=dict(session= 2), func=d, sig=Sig(d))\n",
    "#d.last_scope"
   ]
  },
  {
   "cell_type": "code",
   "execution_count": 46,
   "metadata": {},
   "outputs": [
    {
     "data": {
      "text/plain": [
       "{'func_nodes': [FuncNode(session -> phase_ -> phase)],\n",
       " 'cache_last_scope': <function __main__.something_dependent(session, phase)>,\n",
       " 'parameter_merge': <function __main__.something_independent()>,\n",
       " 'new_scope': dict,\n",
       " 'name': None,\n",
       " 'extract_output_from_scope': <function meshed.util.extract_values(d: dict, keys: Iterable)>,\n",
       " 'graph': {'session': [FuncNode(session -> phase_ -> phase)],\n",
       "  FuncNode(session -> phase_ -> phase): ['phase']},\n",
       " 'nodes': ['session', FuncNode(session -> phase_ -> phase), 'phase'],\n",
       " 'var_nodes': ['session', 'phase'],\n",
       " '__signature__': <Sig (session)>,\n",
       " 'roots': ('session',),\n",
       " 'leafs': ('phase',),\n",
       " 'last_scope': {'session': 2, 'phase': 20},\n",
       " '__name__': 'DAG'}"
      ]
     },
     "execution_count": 46,
     "metadata": {},
     "output_type": "execute_result"
    }
   ],
   "source": [
    "vars(d)"
   ]
  },
  {
   "cell_type": "code",
   "execution_count": 50,
   "metadata": {},
   "outputs": [],
   "source": [
    "st = SlabsIter(\n",
    "  phase=lambda session: session * 10,\n",
    "         something_dependent=lambda session, phase: session + phase,\n",
    "         something_independent=lambda: 'hi'\n",
    "\n",
    ")"
   ]
  },
  {
   "cell_type": "code",
   "execution_count": 1,
   "metadata": {},
   "outputs": [],
   "source": [
    "from meshed import DAG"
   ]
  },
  {
   "cell_type": "code",
   "execution_count": 63,
   "metadata": {},
   "outputs": [],
   "source": [
    "def phase(session):\n",
    "    return session*10\n",
    "def something_dependent(session, phase): \n",
    "    return session + phase\n",
    "def something_independent():\n",
    "    return 'hi'\n",
    "\n",
    "d = DAG(\n",
    "    phase,\n",
    "    something_dependent,\n",
    "    something_independent\n",
    "\n",
    ")"
   ]
  },
  {
   "cell_type": "code",
   "execution_count": 64,
   "metadata": {},
   "outputs": [
    {
     "data": {
      "text/plain": [
       "2010"
      ]
     },
     "execution_count": 64,
     "metadata": {},
     "output_type": "execute_result"
    }
   ],
   "source": [
    " from i2 import Sig\n",
    " _call_from_dict(kwargs=dict(session=201), func=d, sig=Sig(d))"
   ]
  },
  {
   "cell_type": "code",
   "execution_count": 65,
   "metadata": {},
   "outputs": [
    {
     "data": {
      "text/plain": [
       "{'func_nodes': [FuncNode(session -> phase_ -> phase)],\n",
       " 'cache_last_scope': <function __main__.something_dependent(session, phase)>,\n",
       " 'parameter_merge': <function __main__.something_independent()>,\n",
       " 'new_scope': dict,\n",
       " 'name': None,\n",
       " 'extract_output_from_scope': <function meshed.util.extract_values(d: dict, keys: Iterable)>,\n",
       " 'graph': {'session': [FuncNode(session -> phase_ -> phase)],\n",
       "  FuncNode(session -> phase_ -> phase): ['phase']},\n",
       " 'nodes': ['session', FuncNode(session -> phase_ -> phase), 'phase'],\n",
       " 'var_nodes': ['session', 'phase'],\n",
       " '__signature__': <Sig (session)>,\n",
       " 'roots': ('session',),\n",
       " 'leafs': ('phase',),\n",
       " 'last_scope': {'session': 201, 'phase': 2010},\n",
       " '__name__': 'DAG'}"
      ]
     },
     "execution_count": 65,
     "metadata": {},
     "output_type": "execute_result"
    }
   ],
   "source": [
    "vars(d)"
   ]
  },
  {
   "cell_type": "code",
   "execution_count": 58,
   "metadata": {},
   "outputs": [
    {
     "data": {
      "text/plain": [
       "{'session': 201,\n",
       " 'something_independent': 'hi',\n",
       " 'phase': 2010,\n",
       " 'something_dependent': 2211}"
      ]
     },
     "execution_count": 58,
     "metadata": {},
     "output_type": "execute_result"
    }
   ],
   "source": [
    "d.last_scope"
   ]
  },
  {
   "cell_type": "markdown",
   "metadata": {},
   "source": [
    "# Scrap"
   ]
  },
  {
   "cell_type": "code",
   "execution_count": 71,
   "metadata": {},
   "outputs": [
    {
     "name": "stdout",
     "output_type": "stream",
     "text": [
      "Python 3.10.0\n"
     ]
    }
   ],
   "source": [
    "!python --version\n"
   ]
  },
  {
   "cell_type": "code",
   "execution_count": 72,
   "metadata": {},
   "outputs": [
    {
     "data": {
      "text/plain": [
       "('foo_', 'foo_')"
      ]
     },
     "execution_count": 72,
     "metadata": {},
     "output_type": "execute_result"
    }
   ],
   "source": [
    "from meshed import DAG, FuncNode\n",
    "\n",
    "def foo(x):\n",
    "    return x + 1\n",
    "\n",
    "t = foo\n",
    "\n",
    "def foo(y):\n",
    "    return y * 2\n",
    "\n",
    "tt = foo\n",
    "\n",
    "d = DAG([t, tt])\n",
    "d.func_nodes\n",
    "f, ff = d.func_nodes\n",
    "f.func_label, ff.func_label"
   ]
  },
  {
   "cell_type": "code",
   "execution_count": 73,
   "metadata": {},
   "outputs": [
    {
     "ename": "ValueError",
     "evalue": "Some of your node names and/or outs where used more than once. They shouldn't. These are the names I find offensive: ['foo_', 'foo']",
     "output_type": "error",
     "traceback": [
      "\u001b[0;31m---------------------------------------------------------------------------\u001b[0m",
      "\u001b[0;31mValueError\u001b[0m                                Traceback (most recent call last)",
      "\u001b[1;32m/Users/sylvain/Desktop/dev/otosense/plunk/plunk/sb/slabsiter_experiments/notebook.ipynb Cell 21\u001b[0m in \u001b[0;36m<cell line: 1>\u001b[0;34m()\u001b[0m\n\u001b[0;32m----> <a href='vscode-notebook-cell:/Users/sylvain/Desktop/dev/otosense/plunk/plunk/sb/slabsiter_experiments/notebook.ipynb#X34sZmlsZQ%3D%3D?line=0'>1</a>\u001b[0m d\u001b[39m.\u001b[39;49mdot_digraph()\n",
      "File \u001b[0;32m~/Desktop/dev/otosense/meshed/meshed/dag.py:1280\u001b[0m, in \u001b[0;36mDAG.dot_digraph\u001b[0;34m(self, *args, **kwargs)\u001b[0m\n\u001b[1;32m   1275\u001b[0m     \u001b[39mraise\u001b[39;00m \u001b[39mModuleNotFoundError\u001b[39;00m(\n\u001b[1;32m   1276\u001b[0m         \u001b[39mf\u001b[39m\u001b[39m'\u001b[39m\u001b[39m{\u001b[39;00me\u001b[39m}\u001b[39;00m\u001b[39m\\n\u001b[39;00m\u001b[39mYou may not have graphviz installed. \u001b[39m\u001b[39m'\u001b[39m\n\u001b[1;32m   1277\u001b[0m         \u001b[39mf\u001b[39m\u001b[39m'\u001b[39m\u001b[39mSee https://pypi.org/project/graphviz/.\u001b[39m\u001b[39m'\u001b[39m\n\u001b[1;32m   1278\u001b[0m     )\n\u001b[1;32m   1279\u001b[0m \u001b[39m# Note: Since graphviz 0.18, need to have a newline in body lines!\u001b[39;00m\n\u001b[0;32m-> 1280\u001b[0m body \u001b[39m=\u001b[39m \u001b[39mlist\u001b[39;49m(\u001b[39mmap\u001b[39;49m(_add_new_line_if_none, \u001b[39mself\u001b[39;49m\u001b[39m.\u001b[39;49mdot_digraph_body(\u001b[39m*\u001b[39;49margs, \u001b[39m*\u001b[39;49m\u001b[39m*\u001b[39;49mkwargs)))\n\u001b[1;32m   1281\u001b[0m \u001b[39mreturn\u001b[39;00m graphviz\u001b[39m.\u001b[39mDigraph(body\u001b[39m=\u001b[39mbody)\n",
      "File \u001b[0;32m~/Desktop/dev/otosense/meshed/meshed/dag.py:1259\u001b[0m, in \u001b[0;36mDAG.dot_digraph_body\u001b[0;34m(self, start_lines, end_lines, vnode_shape, fnode_shape, func_display)\u001b[0m\n\u001b[1;32m   1255\u001b[0m     end_lines \u001b[39m=\u001b[39m end_lines\u001b[39m.\u001b[39msplit()\n\u001b[1;32m   1256\u001b[0m kwargs \u001b[39m=\u001b[39m \u001b[39mdict\u001b[39m(\n\u001b[1;32m   1257\u001b[0m     vnode_shape\u001b[39m=\u001b[39mvnode_shape, fnode_shape\u001b[39m=\u001b[39mfnode_shape, func_display\u001b[39m=\u001b[39mfunc_display\n\u001b[1;32m   1258\u001b[0m )\n\u001b[0;32m-> 1259\u001b[0m \u001b[39myield from\u001b[39;00m dot_lines_of_func_nodes(\n\u001b[1;32m   1260\u001b[0m     \u001b[39mself\u001b[39m\u001b[39m.\u001b[39mfunc_nodes, start_lines\u001b[39m=\u001b[39mstart_lines, end_lines\u001b[39m=\u001b[39mend_lines, \u001b[39m*\u001b[39m\u001b[39m*\u001b[39mkwargs\n\u001b[1;32m   1261\u001b[0m )\n",
      "File \u001b[0;32m~/Desktop/dev/otosense/meshed/meshed/dag.py:1439\u001b[0m, in \u001b[0;36mdot_lines_of_func_nodes\u001b[0;34m(func_nodes, start_lines, end_lines, **kwargs)\u001b[0m\n\u001b[1;32m   1356\u001b[0m \u001b[39mr\u001b[39m\u001b[39m\"\"\"Got lines generator for the graphviz.DiGraph(body=list(...))\u001b[39;00m\n\u001b[1;32m   1357\u001b[0m \n\u001b[1;32m   1358\u001b[0m \u001b[39m>>> def add(a, b=1):\u001b[39;00m\n\u001b[0;32m   (...)\u001b[0m\n\u001b[1;32m   1436\u001b[0m \n\u001b[1;32m   1437\u001b[0m \u001b[39m\"\"\"\u001b[39;00m\n\u001b[1;32m   1438\u001b[0m \u001b[39myield from\u001b[39;00m start_lines\n\u001b[0;32m-> 1439\u001b[0m validate_that_func_node_names_are_sane(func_nodes)\n\u001b[1;32m   1440\u001b[0m \u001b[39mfor\u001b[39;00m func_node \u001b[39min\u001b[39;00m func_nodes:\n\u001b[1;32m   1441\u001b[0m     \u001b[39myield from\u001b[39;00m dot_lines_of_func_node(func_node, \u001b[39m*\u001b[39m\u001b[39m*\u001b[39mkwargs)\n",
      "File \u001b[0;32m~/Desktop/dev/otosense/meshed/meshed/base.py:358\u001b[0m, in \u001b[0;36mvalidate_that_func_node_names_are_sane\u001b[0;34m(func_nodes)\u001b[0m\n\u001b[1;32m    356\u001b[0m c \u001b[39m=\u001b[39m Counter(node_names \u001b[39m+\u001b[39m outs)\n\u001b[1;32m    357\u001b[0m offending_names \u001b[39m=\u001b[39m [name \u001b[39mfor\u001b[39;00m name, count \u001b[39min\u001b[39;00m c\u001b[39m.\u001b[39mitems() \u001b[39mif\u001b[39;00m count \u001b[39m>\u001b[39m \u001b[39m1\u001b[39m]\n\u001b[0;32m--> 358\u001b[0m \u001b[39mraise\u001b[39;00m \u001b[39mValueError\u001b[39;00m(\n\u001b[1;32m    359\u001b[0m     \u001b[39mf\u001b[39m\u001b[39m'\u001b[39m\u001b[39mSome of your node names and/or outs where used more than once. \u001b[39m\u001b[39m'\u001b[39m\n\u001b[1;32m    360\u001b[0m     \u001b[39mf\u001b[39m\u001b[39m\"\u001b[39m\u001b[39mThey shouldn\u001b[39m\u001b[39m'\u001b[39m\u001b[39mt. These are the names I find offensive: \u001b[39m\u001b[39m{\u001b[39;00moffending_names\u001b[39m}\u001b[39;00m\u001b[39m\"\u001b[39m\n\u001b[1;32m    361\u001b[0m )\n",
      "\u001b[0;31mValueError\u001b[0m: Some of your node names and/or outs where used more than once. They shouldn't. These are the names I find offensive: ['foo_', 'foo']"
     ]
    }
   ],
   "source": [
    "d.dot_digraph()"
   ]
  },
  {
   "cell_type": "code",
   "execution_count": 4,
   "metadata": {},
   "outputs": [],
   "source": [
    "None or None or None"
   ]
  },
  {
   "cell_type": "code",
   "execution_count": 11,
   "metadata": {},
   "outputs": [
    {
     "data": {
      "text/plain": [
       "13.0"
      ]
     },
     "execution_count": 11,
     "metadata": {},
     "output_type": "execute_result"
    }
   ],
   "source": [
    "float(13 or 0)"
   ]
  },
  {
   "cell_type": "code",
   "execution_count": 14,
   "metadata": {},
   "outputs": [],
   "source": [
    "from typing import Optional, Union\n",
    "\n",
    "def f(x:Optional[Union[int, float]]):\n",
    "    return x"
   ]
  },
  {
   "cell_type": "code",
   "execution_count": 15,
   "metadata": {},
   "outputs": [
    {
     "data": {
      "text/plain": [
       "'gg'"
      ]
     },
     "execution_count": 15,
     "metadata": {},
     "output_type": "execute_result"
    }
   ],
   "source": [
    "f(\"gg\")"
   ]
  },
  {
   "cell_type": "code",
   "execution_count": 17,
   "metadata": {},
   "outputs": [
    {
     "ename": "ModuleNotFoundError",
     "evalue": "No module named 'stogui.pipeline_maker'",
     "output_type": "error",
     "traceback": [
      "\u001b[0;31m---------------------------------------------------------------------------\u001b[0m",
      "\u001b[0;31mModuleNotFoundError\u001b[0m                       Traceback (most recent call last)",
      "\u001b[1;32m/Users/sylvain/Desktop/dev/otosense/plunk/plunk/sb/slabsiter_experiments/notebook.ipynb Cell 26\u001b[0m in \u001b[0;36m<cell line: 1>\u001b[0;34m()\u001b[0m\n\u001b[0;32m----> <a href='vscode-notebook-cell:/Users/sylvain/Desktop/dev/otosense/plunk/plunk/sb/slabsiter_experiments/notebook.ipynb#X34sZmlsZQ%3D%3D?line=0'>1</a>\u001b[0m \u001b[39mfrom\u001b[39;00m \u001b[39mstogui\u001b[39;00m\u001b[39m.\u001b[39;00m\u001b[39mpipeline_maker\u001b[39;00m \u001b[39mimport\u001b[39;00m pipeline_maker\n",
      "\u001b[0;31mModuleNotFoundError\u001b[0m: No module named 'stogui.pipeline_maker'"
     ]
    }
   ],
   "source": [
    "from stogui.pipeline_maker import pipeline_maker"
   ]
  },
  {
   "cell_type": "code",
   "execution_count": null,
   "metadata": {},
   "outputs": [],
   "source": []
  }
 ],
 "metadata": {
  "kernelspec": {
   "display_name": "Python 3.10.0 ('otopy310')",
   "language": "python",
   "name": "python3"
  },
  "language_info": {
   "codemirror_mode": {
    "name": "ipython",
    "version": 3
   },
   "file_extension": ".py",
   "mimetype": "text/x-python",
   "name": "python",
   "nbconvert_exporter": "python",
   "pygments_lexer": "ipython3",
   "version": "3.10.0"
  },
  "orig_nbformat": 4,
  "vscode": {
   "interpreter": {
    "hash": "1b1583496da055986182577c8a7f701c9cd62d32bb22c260ed492920d961d72e"
   }
  }
 },
 "nbformat": 4,
 "nbformat_minor": 2
}
