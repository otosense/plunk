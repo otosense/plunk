{
 "cells": [
  {
   "cell_type": "code",
   "execution_count": 13,
   "metadata": {},
   "outputs": [],
   "source": [
    "from slink.sequences import dict_generator, DictChain, IterativeDictProcessing, Repeater, _call_from_dict\n",
    "from know.base import SlabsIter"
   ]
  },
  {
   "cell_type": "code",
   "execution_count": 30,
   "metadata": {},
   "outputs": [
    {
     "name": "stdout",
     "output_type": "stream",
     "text": [
      "[{'x': 7, 'y': 0}, {'x': 7, 'y': 1}, {'x': 7, 'y': 2}]\n"
     ]
    }
   ],
   "source": [
    "import itertools\n",
    "\n",
    "counter = itertools.count()\n",
    "\n",
    "def count():\n",
    "    return next(counter)\n",
    "    f = DictChain(\n",
    "        x=lambda: 7,\n",
    "        _1=Repeater(3),\n",
    "    )\n",
    "\n",
    "[{\"x\": 7}, {\"x\": 7}, {\"x\": 7}]\n",
    "f = DictChain(\n",
    "    x=lambda: 7,\n",
    "    _1=Repeater(3),\n",
    "    y=lambda: next(counter),  # will return 0, then 1, then 2,\n",
    ")\n",
    "print(list(f()))\n",
    "# [{'x': 7, 'y': 0}, {'x': 7, 'y': 1}, {'x': 7, 'y': 2}]"
   ]
  },
  {
   "cell_type": "code",
   "execution_count": 47,
   "metadata": {},
   "outputs": [],
   "source": [
    "import itertools\n",
    "s = SlabsIter(x=lambda: 7,y=lambda: next(counter),z=Repeater('hey', 3)\n",
    "\n",
    "    )"
   ]
  },
  {
   "cell_type": "code",
   "execution_count": 48,
   "metadata": {},
   "outputs": [
    {
     "data": {
      "text/plain": [
       "[{'x': 7, 'y': 6, 'z': 'hey'},\n",
       " {'x': 7, 'y': 7, 'z': 'hey'},\n",
       " {'x': 7, 'y': 8, 'z': 'hey'}]"
      ]
     },
     "execution_count": 48,
     "metadata": {},
     "output_type": "execute_result"
    }
   ],
   "source": [
    "list(s) "
   ]
  },
  {
   "cell_type": "code",
   "execution_count": 45,
   "metadata": {},
   "outputs": [],
   "source": [
    "class Repeater:\n",
    "    def __init__(self, obj, n_iter):\n",
    "        self.obj = obj\n",
    "        self.n_iter=n_iter\n",
    "        self.iterator = itertools.repeat(self.obj, self.n_iter)\n",
    "    \n",
    "    def __iter__(self):\n",
    "        return self.iterator\n",
    "\n",
    "    def __next__(self):\n",
    "        return next(self.iterator)\n",
    "\n",
    "    def __call__(self):\n",
    "        return next(self)\n"
   ]
  },
  {
   "cell_type": "markdown",
   "metadata": {},
   "source": [
    "# Rewrite IterativeDictProcessing"
   ]
  },
  {
   "cell_type": "code",
   "execution_count": 49,
   "metadata": {},
   "outputs": [
    {
     "data": {
      "text/plain": [
       "{'session': 2,\n",
       " 'phase': 20,\n",
       " 'something_dependent': 22,\n",
       " 'something_independent': 'hi'}"
      ]
     },
     "execution_count": 49,
     "metadata": {},
     "output_type": "execute_result"
    }
   ],
   "source": [
    "f = IterativeDictProcessing(\n",
    "         phase=lambda session: session * 10,\n",
    "         something_dependent=lambda session, phase: session + phase,\n",
    "         something_independent=lambda: 'hi'\n",
    "     )\n",
    "f({'session': 2})\n",
    "#{'session': 2, 'phase': 20, 'something_dependent': 22, 'something_independent': 'hi'}"
   ]
  },
  {
   "cell_type": "code",
   "execution_count": 70,
   "metadata": {},
   "outputs": [],
   "source": [
    "from meshed import DAG\n",
    "from i2 import Sig\n",
    "\n",
    "def phase(session):\n",
    "    return session*10\n",
    "def something_dependent(session, phase): \n",
    "    return session + phase\n",
    "def something_independent():\n",
    "    return 'hi'\n",
    "\n",
    "class IterativeDictProcessingDAG:\n",
    "    def __init__(self, *funcs):\n",
    "        self.dag = DAG([*funcs])\n",
    "\n",
    "    def __call__(self, **kwargs):\n",
    "         _call_from_dict(kwargs=kwargs, func=self.dag, sig=Sig(self.dag))\n",
    "         return self.dag.last_scope\n",
    "\n",
    "dd = IterativeDictProcessingDAG(phase, something_dependent, something_independent)\n",
    "assert dd(session= 201)=={'session': 201,\n",
    " 'something_independent': 'hi',\n",
    " 'phase': 2010,\n",
    " 'something_dependent': 2211}"
   ]
  },
  {
   "cell_type": "code",
   "execution_count": 69,
   "metadata": {},
   "outputs": [
    {
     "data": {
      "text/plain": [
       "{'session': 201,\n",
       " 'something_independent': 'hi',\n",
       " 'phase': 2010,\n",
       " 'something_dependent': 2211}"
      ]
     },
     "execution_count": 69,
     "metadata": {},
     "output_type": "execute_result"
    }
   ],
   "source": [
    "dd = IterativeDictProcessingDAG(phase, something_dependent, something_independent)\n",
    "dd(session= 201)"
   ]
  },
  {
   "cell_type": "code",
   "execution_count": 47,
   "metadata": {},
   "outputs": [
    {
     "data": {
      "text/plain": [
       "20"
      ]
     },
     "execution_count": 47,
     "metadata": {},
     "output_type": "execute_result"
    }
   ],
   "source": [
    "d=DAG(phase, something_dependent, something_independent)\n",
    "_call_from_dict(kwargs=dict(session= 2), func=d, sig=Sig(d))\n",
    "#d.last_scope"
   ]
  },
  {
   "cell_type": "code",
   "execution_count": 46,
   "metadata": {},
   "outputs": [
    {
     "data": {
      "text/plain": [
       "{'func_nodes': [FuncNode(session -> phase_ -> phase)],\n",
       " 'cache_last_scope': <function __main__.something_dependent(session, phase)>,\n",
       " 'parameter_merge': <function __main__.something_independent()>,\n",
       " 'new_scope': dict,\n",
       " 'name': None,\n",
       " 'extract_output_from_scope': <function meshed.util.extract_values(d: dict, keys: Iterable)>,\n",
       " 'graph': {'session': [FuncNode(session -> phase_ -> phase)],\n",
       "  FuncNode(session -> phase_ -> phase): ['phase']},\n",
       " 'nodes': ['session', FuncNode(session -> phase_ -> phase), 'phase'],\n",
       " 'var_nodes': ['session', 'phase'],\n",
       " '__signature__': <Sig (session)>,\n",
       " 'roots': ('session',),\n",
       " 'leafs': ('phase',),\n",
       " 'last_scope': {'session': 2, 'phase': 20},\n",
       " '__name__': 'DAG'}"
      ]
     },
     "execution_count": 46,
     "metadata": {},
     "output_type": "execute_result"
    }
   ],
   "source": [
    "vars(d)"
   ]
  },
  {
   "cell_type": "code",
   "execution_count": 50,
   "metadata": {},
   "outputs": [],
   "source": [
    "st = SlabsIter(\n",
    "  phase=lambda session: session * 10,\n",
    "         something_dependent=lambda session, phase: session + phase,\n",
    "         something_independent=lambda: 'hi'\n",
    "\n",
    ")"
   ]
  },
  {
   "cell_type": "code",
   "execution_count": 1,
   "metadata": {},
   "outputs": [],
   "source": [
    "from meshed import DAG"
   ]
  },
  {
   "cell_type": "code",
   "execution_count": 63,
   "metadata": {},
   "outputs": [],
   "source": [
    "def phase(session):\n",
    "    return session*10\n",
    "def something_dependent(session, phase): \n",
    "    return session + phase\n",
    "def something_independent():\n",
    "    return 'hi'\n",
    "\n",
    "d = DAG(\n",
    "    phase,\n",
    "    something_dependent,\n",
    "    something_independent\n",
    "\n",
    ")"
   ]
  },
  {
   "cell_type": "code",
   "execution_count": 64,
   "metadata": {},
   "outputs": [
    {
     "data": {
      "text/plain": [
       "2010"
      ]
     },
     "execution_count": 64,
     "metadata": {},
     "output_type": "execute_result"
    }
   ],
   "source": [
    " from i2 import Sig\n",
    " _call_from_dict(kwargs=dict(session=201), func=d, sig=Sig(d))"
   ]
  },
  {
   "cell_type": "code",
   "execution_count": 65,
   "metadata": {},
   "outputs": [
    {
     "data": {
      "text/plain": [
       "{'func_nodes': [FuncNode(session -> phase_ -> phase)],\n",
       " 'cache_last_scope': <function __main__.something_dependent(session, phase)>,\n",
       " 'parameter_merge': <function __main__.something_independent()>,\n",
       " 'new_scope': dict,\n",
       " 'name': None,\n",
       " 'extract_output_from_scope': <function meshed.util.extract_values(d: dict, keys: Iterable)>,\n",
       " 'graph': {'session': [FuncNode(session -> phase_ -> phase)],\n",
       "  FuncNode(session -> phase_ -> phase): ['phase']},\n",
       " 'nodes': ['session', FuncNode(session -> phase_ -> phase), 'phase'],\n",
       " 'var_nodes': ['session', 'phase'],\n",
       " '__signature__': <Sig (session)>,\n",
       " 'roots': ('session',),\n",
       " 'leafs': ('phase',),\n",
       " 'last_scope': {'session': 201, 'phase': 2010},\n",
       " '__name__': 'DAG'}"
      ]
     },
     "execution_count": 65,
     "metadata": {},
     "output_type": "execute_result"
    }
   ],
   "source": [
    "vars(d)"
   ]
  },
  {
   "cell_type": "code",
   "execution_count": 58,
   "metadata": {},
   "outputs": [
    {
     "data": {
      "text/plain": [
       "{'session': 201,\n",
       " 'something_independent': 'hi',\n",
       " 'phase': 2010,\n",
       " 'something_dependent': 2211}"
      ]
     },
     "execution_count": 58,
     "metadata": {},
     "output_type": "execute_result"
    }
   ],
   "source": [
    "d.last_scope"
   ]
  },
  {
   "cell_type": "code",
   "execution_count": null,
   "metadata": {},
   "outputs": [],
   "source": []
  }
 ],
 "metadata": {
  "kernelspec": {
   "display_name": "Python 3.10.0 ('otopy310')",
   "language": "python",
   "name": "python3"
  },
  "language_info": {
   "codemirror_mode": {
    "name": "ipython",
    "version": 3
   },
   "file_extension": ".py",
   "mimetype": "text/x-python",
   "name": "python",
   "nbconvert_exporter": "python",
   "pygments_lexer": "ipython3",
   "version": "3.10.0"
  },
  "orig_nbformat": 4,
  "vscode": {
   "interpreter": {
    "hash": "1b1583496da055986182577c8a7f701c9cd62d32bb22c260ed492920d961d72e"
   }
  }
 },
 "nbformat": 4,
 "nbformat_minor": 2
}
