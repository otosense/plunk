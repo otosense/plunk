{
 "cells": [
  {
   "cell_type": "code",
   "execution_count": 13,
   "metadata": {},
   "outputs": [],
   "source": [
    "from slink.sequences import dict_generator, DictChain, IterativeDictProcessing, Repeater, _call_from_dict\n",
    "from know.base import Slabs"
   ]
  },
  {
   "cell_type": "code",
   "execution_count": 30,
   "metadata": {},
   "outputs": [
    {
     "name": "stdout",
     "output_type": "stream",
     "text": [
      "[{'x': 7, 'y': 0}, {'x': 7, 'y': 1}, {'x': 7, 'y': 2}]\n"
     ]
    }
   ],
   "source": [
    "import itertools\n",
    "\n",
    "counter = itertools.count()\n",
    "\n",
    "def count():\n",
    "    return next(counter)\n",
    "    f = DictChain(\n",
    "        x=lambda: 7,\n",
    "        _1=Repeater(3),\n",
    "    )\n",
    "\n",
    "[{\"x\": 7}, {\"x\": 7}, {\"x\": 7}]\n",
    "f = DictChain(\n",
    "    x=lambda: 7,\n",
    "    _1=Repeater(3),\n",
    "    y=lambda: next(counter),  # will return 0, then 1, then 2,\n",
    ")\n",
    "print(list(f()))\n",
    "# [{'x': 7, 'y': 0}, {'x': 7, 'y': 1}, {'x': 7, 'y': 2}]"
   ]
  },
  {
   "cell_type": "code",
   "execution_count": 47,
   "metadata": {},
   "outputs": [],
   "source": [
    "import itertools\n",
    "s = Slabs(x=lambda: 7,y=lambda: next(counter),z=Repeater('hey', 3)\n",
    "\n",
    "    )"
   ]
  },
  {
   "cell_type": "code",
   "execution_count": 48,
   "metadata": {},
   "outputs": [
    {
     "data": {
      "text/plain": [
       "[{'x': 7, 'y': 6, 'z': 'hey'},\n",
       " {'x': 7, 'y': 7, 'z': 'hey'},\n",
       " {'x': 7, 'y': 8, 'z': 'hey'}]"
      ]
     },
     "execution_count": 48,
     "metadata": {},
     "output_type": "execute_result"
    }
   ],
   "source": [
    "list(s) "
   ]
  },
  {
   "cell_type": "code",
   "execution_count": 45,
   "metadata": {},
   "outputs": [],
   "source": [
    "class Repeater:\n",
    "    def __init__(self, obj, n_iter):\n",
    "        self.obj = obj\n",
    "        self.n_iter=n_iter\n",
    "        self.iterator = itertools.repeat(self.obj, self.n_iter)\n",
    "    \n",
    "    def __iter__(self):\n",
    "        return self.iterator\n",
    "\n",
    "    def __next__(self):\n",
    "        return next(self.iterator)\n",
    "\n",
    "    def __call__(self):\n",
    "        return next(self)\n"
   ]
  },
  {
   "cell_type": "markdown",
   "metadata": {},
   "source": [
    "# Rewrite IterativeDictProcessing"
   ]
  },
  {
   "cell_type": "code",
   "execution_count": 49,
   "metadata": {},
   "outputs": [
    {
     "data": {
      "text/plain": [
       "{'session': 2,\n",
       " 'phase': 20,\n",
       " 'something_dependent': 22,\n",
       " 'something_independent': 'hi'}"
      ]
     },
     "execution_count": 49,
     "metadata": {},
     "output_type": "execute_result"
    }
   ],
   "source": [
    "f = IterativeDictProcessing(\n",
    "         phase=lambda session: session * 10,\n",
    "         something_dependent=lambda session, phase: session + phase,\n",
    "         something_independent=lambda: 'hi'\n",
    "     )\n",
    "f({'session': 2})\n",
    "#{'session': 2, 'phase': 20, 'something_dependent': 22, 'something_independent': 'hi'}"
   ]
  },
  {
   "cell_type": "code",
   "execution_count": 70,
   "metadata": {},
   "outputs": [],
   "source": [
    "from meshed import DAG\n",
    "from i2 import Sig\n",
    "\n",
    "def phase(session):\n",
    "    return session*10\n",
    "def something_dependent(session, phase): \n",
    "    return session + phase\n",
    "def something_independent():\n",
    "    return 'hi'\n",
    "\n",
    "class IterativeDictProcessingDAG:\n",
    "    def __init__(self, *funcs):\n",
    "        self.dag = DAG([*funcs])\n",
    "\n",
    "    def __call__(self, **kwargs):\n",
    "         _call_from_dict(kwargs=kwargs, func=self.dag, sig=Sig(self.dag))\n",
    "         return self.dag.last_scope\n",
    "\n",
    "dd = IterativeDictProcessingDAG(phase, something_dependent, something_independent)\n",
    "assert dd(session= 201)=={'session': 201,\n",
    " 'something_independent': 'hi',\n",
    " 'phase': 2010,\n",
    " 'something_dependent': 2211}"
   ]
  },
  {
   "cell_type": "code",
   "execution_count": 69,
   "metadata": {},
   "outputs": [
    {
     "data": {
      "text/plain": [
       "{'session': 201,\n",
       " 'something_independent': 'hi',\n",
       " 'phase': 2010,\n",
       " 'something_dependent': 2211}"
      ]
     },
     "execution_count": 69,
     "metadata": {},
     "output_type": "execute_result"
    }
   ],
   "source": [
    "dd = IterativeDictProcessingDAG(phase, something_dependent, something_independent)\n",
    "dd(session= 201)"
   ]
  },
  {
   "cell_type": "code",
   "execution_count": 47,
   "metadata": {},
   "outputs": [
    {
     "data": {
      "text/plain": [
       "20"
      ]
     },
     "execution_count": 47,
     "metadata": {},
     "output_type": "execute_result"
    }
   ],
   "source": [
    "d=DAG(phase, something_dependent, something_independent)\n",
    "_call_from_dict(kwargs=dict(session= 2), func=d, sig=Sig(d))\n",
    "#d.last_scope"
   ]
  },
  {
   "cell_type": "code",
   "execution_count": 46,
   "metadata": {},
   "outputs": [
    {
     "data": {
      "text/plain": [
       "{'func_nodes': [FuncNode(session -> phase_ -> phase)],\n",
       " 'cache_last_scope': <function __main__.something_dependent(session, phase)>,\n",
       " 'parameter_merge': <function __main__.something_independent()>,\n",
       " 'new_scope': dict,\n",
       " 'name': None,\n",
       " 'extract_output_from_scope': <function meshed.util.extract_values(d: dict, keys: Iterable)>,\n",
       " 'graph': {'session': [FuncNode(session -> phase_ -> phase)],\n",
       "  FuncNode(session -> phase_ -> phase): ['phase']},\n",
       " 'nodes': ['session', FuncNode(session -> phase_ -> phase), 'phase'],\n",
       " 'var_nodes': ['session', 'phase'],\n",
       " '__signature__': <Sig (session)>,\n",
       " 'roots': ('session',),\n",
       " 'leafs': ('phase',),\n",
       " 'last_scope': {'session': 2, 'phase': 20},\n",
       " '__name__': 'DAG'}"
      ]
     },
     "execution_count": 46,
     "metadata": {},
     "output_type": "execute_result"
    }
   ],
   "source": [
    "vars(d)"
   ]
  },
  {
   "cell_type": "code",
   "execution_count": 50,
   "metadata": {},
   "outputs": [],
   "source": [
    "st = Slabs(\n",
    "  phase=lambda session: session * 10,\n",
    "         something_dependent=lambda session, phase: session + phase,\n",
    "         something_independent=lambda: 'hi'\n",
    "\n",
    ")"
   ]
  },
  {
   "cell_type": "code",
   "execution_count": 1,
   "metadata": {},
   "outputs": [],
   "source": [
    "from meshed import DAG"
   ]
  },
  {
   "cell_type": "code",
   "execution_count": 63,
   "metadata": {},
   "outputs": [],
   "source": [
    "def phase(session):\n",
    "    return session*10\n",
    "def something_dependent(session, phase): \n",
    "    return session + phase\n",
    "def something_independent():\n",
    "    return 'hi'\n",
    "\n",
    "d = DAG(\n",
    "    phase,\n",
    "    something_dependent,\n",
    "    something_independent\n",
    "\n",
    ")"
   ]
  },
  {
   "cell_type": "code",
   "execution_count": 64,
   "metadata": {},
   "outputs": [
    {
     "data": {
      "text/plain": [
       "2010"
      ]
     },
     "execution_count": 64,
     "metadata": {},
     "output_type": "execute_result"
    }
   ],
   "source": [
    " from i2 import Sig\n",
    " _call_from_dict(kwargs=dict(session=201), func=d, sig=Sig(d))"
   ]
  },
  {
   "cell_type": "code",
   "execution_count": 65,
   "metadata": {},
   "outputs": [
    {
     "data": {
      "text/plain": [
       "{'func_nodes': [FuncNode(session -> phase_ -> phase)],\n",
       " 'cache_last_scope': <function __main__.something_dependent(session, phase)>,\n",
       " 'parameter_merge': <function __main__.something_independent()>,\n",
       " 'new_scope': dict,\n",
       " 'name': None,\n",
       " 'extract_output_from_scope': <function meshed.util.extract_values(d: dict, keys: Iterable)>,\n",
       " 'graph': {'session': [FuncNode(session -> phase_ -> phase)],\n",
       "  FuncNode(session -> phase_ -> phase): ['phase']},\n",
       " 'nodes': ['session', FuncNode(session -> phase_ -> phase), 'phase'],\n",
       " 'var_nodes': ['session', 'phase'],\n",
       " '__signature__': <Sig (session)>,\n",
       " 'roots': ('session',),\n",
       " 'leafs': ('phase',),\n",
       " 'last_scope': {'session': 201, 'phase': 2010},\n",
       " '__name__': 'DAG'}"
      ]
     },
     "execution_count": 65,
     "metadata": {},
     "output_type": "execute_result"
    }
   ],
   "source": [
    "vars(d)"
   ]
  },
  {
   "cell_type": "code",
   "execution_count": 58,
   "metadata": {},
   "outputs": [
    {
     "data": {
      "text/plain": [
       "{'session': 201,\n",
       " 'something_independent': 'hi',\n",
       " 'phase': 2010,\n",
       " 'something_dependent': 2211}"
      ]
     },
     "execution_count": 58,
     "metadata": {},
     "output_type": "execute_result"
    }
   ],
   "source": [
    "d.last_scope"
   ]
  },
  {
   "cell_type": "markdown",
   "metadata": {},
   "source": [
    "# Scrap"
   ]
  },
  {
   "cell_type": "code",
   "execution_count": 71,
   "metadata": {},
   "outputs": [
    {
     "name": "stdout",
     "output_type": "stream",
     "text": [
      "Python 3.10.0\n"
     ]
    }
   ],
   "source": [
    "!python --version\n"
   ]
  },
  {
   "cell_type": "code",
   "execution_count": 72,
   "metadata": {},
   "outputs": [
    {
     "data": {
      "text/plain": [
       "('foo_', 'foo_')"
      ]
     },
     "execution_count": 72,
     "metadata": {},
     "output_type": "execute_result"
    }
   ],
   "source": [
    "from meshed import DAG, FuncNode\n",
    "\n",
    "def foo(x):\n",
    "    return x + 1\n",
    "\n",
    "t = foo\n",
    "\n",
    "def foo(y):\n",
    "    return y * 2\n",
    "\n",
    "tt = foo\n",
    "\n",
    "d = DAG([t, tt])\n",
    "d.func_nodes\n",
    "f, ff = d.func_nodes\n",
    "f.func_label, ff.func_label"
   ]
  },
  {
   "cell_type": "code",
   "execution_count": 73,
   "metadata": {},
   "outputs": [
    {
     "ename": "ValueError",
     "evalue": "Some of your node names and/or outs where used more than once. They shouldn't. These are the names I find offensive: ['foo_', 'foo']",
     "output_type": "error",
     "traceback": [
      "\u001b[0;31m---------------------------------------------------------------------------\u001b[0m",
      "\u001b[0;31mValueError\u001b[0m                                Traceback (most recent call last)",
      "\u001b[1;32m/Users/sylvain/Desktop/dev/otosense/plunk/plunk/sb/slabsiter_experiments/notebook.ipynb Cell 21\u001b[0m in \u001b[0;36m<cell line: 1>\u001b[0;34m()\u001b[0m\n\u001b[0;32m----> <a href='vscode-notebook-cell:/Users/sylvain/Desktop/dev/otosense/plunk/plunk/sb/slabsiter_experiments/notebook.ipynb#X34sZmlsZQ%3D%3D?line=0'>1</a>\u001b[0m d\u001b[39m.\u001b[39;49mdot_digraph()\n",
      "File \u001b[0;32m~/Desktop/dev/otosense/meshed/meshed/dag.py:1280\u001b[0m, in \u001b[0;36mDAG.dot_digraph\u001b[0;34m(self, *args, **kwargs)\u001b[0m\n\u001b[1;32m   1275\u001b[0m     \u001b[39mraise\u001b[39;00m \u001b[39mModuleNotFoundError\u001b[39;00m(\n\u001b[1;32m   1276\u001b[0m         \u001b[39mf\u001b[39m\u001b[39m'\u001b[39m\u001b[39m{\u001b[39;00me\u001b[39m}\u001b[39;00m\u001b[39m\\n\u001b[39;00m\u001b[39mYou may not have graphviz installed. \u001b[39m\u001b[39m'\u001b[39m\n\u001b[1;32m   1277\u001b[0m         \u001b[39mf\u001b[39m\u001b[39m'\u001b[39m\u001b[39mSee https://pypi.org/project/graphviz/.\u001b[39m\u001b[39m'\u001b[39m\n\u001b[1;32m   1278\u001b[0m     )\n\u001b[1;32m   1279\u001b[0m \u001b[39m# Note: Since graphviz 0.18, need to have a newline in body lines!\u001b[39;00m\n\u001b[0;32m-> 1280\u001b[0m body \u001b[39m=\u001b[39m \u001b[39mlist\u001b[39;49m(\u001b[39mmap\u001b[39;49m(_add_new_line_if_none, \u001b[39mself\u001b[39;49m\u001b[39m.\u001b[39;49mdot_digraph_body(\u001b[39m*\u001b[39;49margs, \u001b[39m*\u001b[39;49m\u001b[39m*\u001b[39;49mkwargs)))\n\u001b[1;32m   1281\u001b[0m \u001b[39mreturn\u001b[39;00m graphviz\u001b[39m.\u001b[39mDigraph(body\u001b[39m=\u001b[39mbody)\n",
      "File \u001b[0;32m~/Desktop/dev/otosense/meshed/meshed/dag.py:1259\u001b[0m, in \u001b[0;36mDAG.dot_digraph_body\u001b[0;34m(self, start_lines, end_lines, vnode_shape, fnode_shape, func_display)\u001b[0m\n\u001b[1;32m   1255\u001b[0m     end_lines \u001b[39m=\u001b[39m end_lines\u001b[39m.\u001b[39msplit()\n\u001b[1;32m   1256\u001b[0m kwargs \u001b[39m=\u001b[39m \u001b[39mdict\u001b[39m(\n\u001b[1;32m   1257\u001b[0m     vnode_shape\u001b[39m=\u001b[39mvnode_shape, fnode_shape\u001b[39m=\u001b[39mfnode_shape, func_display\u001b[39m=\u001b[39mfunc_display\n\u001b[1;32m   1258\u001b[0m )\n\u001b[0;32m-> 1259\u001b[0m \u001b[39myield from\u001b[39;00m dot_lines_of_func_nodes(\n\u001b[1;32m   1260\u001b[0m     \u001b[39mself\u001b[39m\u001b[39m.\u001b[39mfunc_nodes, start_lines\u001b[39m=\u001b[39mstart_lines, end_lines\u001b[39m=\u001b[39mend_lines, \u001b[39m*\u001b[39m\u001b[39m*\u001b[39mkwargs\n\u001b[1;32m   1261\u001b[0m )\n",
      "File \u001b[0;32m~/Desktop/dev/otosense/meshed/meshed/dag.py:1439\u001b[0m, in \u001b[0;36mdot_lines_of_func_nodes\u001b[0;34m(func_nodes, start_lines, end_lines, **kwargs)\u001b[0m\n\u001b[1;32m   1356\u001b[0m \u001b[39mr\u001b[39m\u001b[39m\"\"\"Got lines generator for the graphviz.DiGraph(body=list(...))\u001b[39;00m\n\u001b[1;32m   1357\u001b[0m \n\u001b[1;32m   1358\u001b[0m \u001b[39m>>> def add(a, b=1):\u001b[39;00m\n\u001b[0;32m   (...)\u001b[0m\n\u001b[1;32m   1436\u001b[0m \n\u001b[1;32m   1437\u001b[0m \u001b[39m\"\"\"\u001b[39;00m\n\u001b[1;32m   1438\u001b[0m \u001b[39myield from\u001b[39;00m start_lines\n\u001b[0;32m-> 1439\u001b[0m validate_that_func_node_names_are_sane(func_nodes)\n\u001b[1;32m   1440\u001b[0m \u001b[39mfor\u001b[39;00m func_node \u001b[39min\u001b[39;00m func_nodes:\n\u001b[1;32m   1441\u001b[0m     \u001b[39myield from\u001b[39;00m dot_lines_of_func_node(func_node, \u001b[39m*\u001b[39m\u001b[39m*\u001b[39mkwargs)\n",
      "File \u001b[0;32m~/Desktop/dev/otosense/meshed/meshed/base.py:358\u001b[0m, in \u001b[0;36mvalidate_that_func_node_names_are_sane\u001b[0;34m(func_nodes)\u001b[0m\n\u001b[1;32m    356\u001b[0m c \u001b[39m=\u001b[39m Counter(node_names \u001b[39m+\u001b[39m outs)\n\u001b[1;32m    357\u001b[0m offending_names \u001b[39m=\u001b[39m [name \u001b[39mfor\u001b[39;00m name, count \u001b[39min\u001b[39;00m c\u001b[39m.\u001b[39mitems() \u001b[39mif\u001b[39;00m count \u001b[39m>\u001b[39m \u001b[39m1\u001b[39m]\n\u001b[0;32m--> 358\u001b[0m \u001b[39mraise\u001b[39;00m \u001b[39mValueError\u001b[39;00m(\n\u001b[1;32m    359\u001b[0m     \u001b[39mf\u001b[39m\u001b[39m'\u001b[39m\u001b[39mSome of your node names and/or outs where used more than once. \u001b[39m\u001b[39m'\u001b[39m\n\u001b[1;32m    360\u001b[0m     \u001b[39mf\u001b[39m\u001b[39m\"\u001b[39m\u001b[39mThey shouldn\u001b[39m\u001b[39m'\u001b[39m\u001b[39mt. These are the names I find offensive: \u001b[39m\u001b[39m{\u001b[39;00moffending_names\u001b[39m}\u001b[39;00m\u001b[39m\"\u001b[39m\n\u001b[1;32m    361\u001b[0m )\n",
      "\u001b[0;31mValueError\u001b[0m: Some of your node names and/or outs where used more than once. They shouldn't. These are the names I find offensive: ['foo_', 'foo']"
     ]
    }
   ],
   "source": [
    "d.dot_digraph()"
   ]
  },
  {
   "cell_type": "code",
   "execution_count": 4,
   "metadata": {},
   "outputs": [],
   "source": [
    "None or None or None"
   ]
  },
  {
   "cell_type": "code",
   "execution_count": 11,
   "metadata": {},
   "outputs": [
    {
     "data": {
      "text/plain": [
       "13.0"
      ]
     },
     "execution_count": 11,
     "metadata": {},
     "output_type": "execute_result"
    }
   ],
   "source": [
    "float(13 or 0)"
   ]
  },
  {
   "cell_type": "code",
   "execution_count": 14,
   "metadata": {},
   "outputs": [],
   "source": [
    "from typing import Optional, Union\n",
    "\n",
    "def f(x:Optional[Union[int, float]]):\n",
    "    return x"
   ]
  },
  {
   "cell_type": "code",
   "execution_count": 15,
   "metadata": {},
   "outputs": [
    {
     "data": {
      "text/plain": [
       "'gg'"
      ]
     },
     "execution_count": 15,
     "metadata": {},
     "output_type": "execute_result"
    }
   ],
   "source": [
    "f(\"gg\")"
   ]
  },
  {
   "cell_type": "markdown",
   "metadata": {},
   "source": [
    "# Windows determination"
   ]
  },
  {
   "cell_type": "code",
   "execution_count": 6,
   "metadata": {},
   "outputs": [
    {
     "data": {
      "text/plain": [
       "89.10000000000001"
      ]
     },
     "execution_count": 6,
     "metadata": {},
     "output_type": "execute_result"
    }
   ],
   "source": [
    "import numpy as np\n",
    "\n",
    "a = np.arange(100)[::-1]\n",
    "np.percentile(a, 90)"
   ]
  },
  {
   "cell_type": "code",
   "execution_count": 8,
   "metadata": {},
   "outputs": [
    {
     "data": {
      "text/plain": [
       "array([99, 98, 97, 96, 95, 94, 93, 92, 91, 90, 89, 88, 87, 86, 85, 84, 83,\n",
       "       82, 81, 80, 79, 78, 77, 76, 75, 74, 73, 72, 71, 70, 69, 68, 67, 66,\n",
       "       65, 64, 63, 62, 61, 60, 59, 58, 57, 56, 55, 54, 53, 52, 51, 50, 49,\n",
       "       48, 47, 46, 45, 44, 43, 42, 41, 40, 39, 38, 37, 36, 35, 34, 33, 32,\n",
       "       31, 30, 29, 28, 27, 26, 25, 24, 23, 22, 21, 20, 19, 18, 17, 16, 15,\n",
       "       14, 13, 12, 11, 10,  9,  8,  7,  6,  5,  4,  3,  2,  1,  0])"
      ]
     },
     "execution_count": 8,
     "metadata": {},
     "output_type": "execute_result"
    }
   ],
   "source": [
    "a"
   ]
  },
  {
   "cell_type": "code",
   "execution_count": 9,
   "metadata": {},
   "outputs": [
    {
     "data": {
      "text/plain": [
       "(array([10, 11, 12, 13, 14, 15, 16, 17, 18, 19, 20, 21, 22, 23, 24, 25, 26,\n",
       "        27, 28, 29, 30, 31, 32, 33, 34, 35, 36, 37, 38, 39, 40, 41, 42, 43,\n",
       "        44, 45, 46, 47, 48, 49, 50, 51, 52, 53, 54, 55, 56, 57, 58, 59, 60,\n",
       "        61, 62, 63, 64, 65, 66, 67, 68, 69, 70, 71, 72, 73, 74, 75, 76, 77,\n",
       "        78, 79, 80, 81, 82, 83, 84, 85, 86, 87, 88, 89, 90, 91, 92, 93, 94,\n",
       "        95, 96, 97, 98, 99]),)"
      ]
     },
     "execution_count": 9,
     "metadata": {},
     "output_type": "execute_result"
    }
   ],
   "source": [
    "np.nonzero(a<90)"
   ]
  },
  {
   "cell_type": "code",
   "execution_count": 12,
   "metadata": {},
   "outputs": [
    {
     "name": "stdout",
     "output_type": "stream",
     "text": [
      "Collecting more_itertools\n",
      "  Downloading more_itertools-9.0.0-py3-none-any.whl (52 kB)\n",
      "\u001b[K     |████████████████████████████████| 52 kB 2.9 MB/s eta 0:00:011\n",
      "\u001b[?25hInstalling collected packages: more-itertools\n",
      "Successfully installed more-itertools-9.0.0\n"
     ]
    }
   ],
   "source": [
    "!pip install more_itertools"
   ]
  },
  {
   "cell_type": "code",
   "execution_count": 28,
   "metadata": {},
   "outputs": [
    {
     "name": "stdout",
     "output_type": "stream",
     "text": [
      "[1]\n",
      "[10, 11, 12]\n",
      "[20]\n",
      "[30, 31, 32, 33]\n",
      "[40]\n"
     ]
    },
    {
     "data": {
      "text/plain": [
       "array([ 9.1, 33.7])"
      ]
     },
     "execution_count": 28,
     "metadata": {},
     "output_type": "execute_result"
    }
   ],
   "source": [
    "from i2 import Pipe\n",
    "from more_itertools import consecutive_groups\n",
    "\n",
    "def indices_for_percentile(arr, low=0, high = 100):\n",
    "    return np.percentile(arr, [low, high])\n",
    "\n",
    "def consecutive_indices(arr):\n",
    "    return list(map(list, consecutive_groups(arr)))\n",
    "\n",
    "def filter \n"
   ]
  },
  {
   "cell_type": "code",
   "execution_count": 29,
   "metadata": {},
   "outputs": [],
   "source": [
    "from py2store.utils.affine_conversion import get_affine_converter_and_inverse\n",
    "affine_converter, inverse_affine_converter = get_affine_converter_and_inverse(scale=0.5,offset=0,target_type_cast=int)"
   ]
  },
  {
   "cell_type": "code",
   "execution_count": 89,
   "metadata": {},
   "outputs": [],
   "source": [
    "def apply_func_to_index_groups(func, arr, idx_groups):\n",
    "    \"\"\"\n",
    "    Applies func to the slices of array arr specified by the groups\n",
    "    \"\"\"\n",
    "    result = [func(arr[gp]) for gp in idx_groups]\n",
    "\n",
    "    return result\n",
    "\n",
    "\n",
    "DFLT_WINDOW_OUTLIER = 30\n",
    "DFLT_NUM_OUTLIERS = 3\n",
    "\n",
    "\n",
    "def arg_top_max(arr, num_elements):\n",
    "    \"\"\"\n",
    "    returns the largest num_elements from the array arr\n",
    "    \"\"\"\n",
    "    result = [arr.index(i) for i in sorted(arr, reverse=True)][:num_elements]\n",
    "    return result\n",
    "\n",
    "\n",
    "from more_itertools import consecutive_groups\n",
    "\n",
    "\n",
    "def indices_for_percentile(arr, low=0, high=100):\n",
    "    return np.percentile(arr, [low, high])\n",
    "\n",
    "\n",
    "def consecutive_indices(arr):\n",
    "    return list(map(list, consecutive_groups(arr)))\n",
    "\n",
    "\n",
    "def get_groups_extremities_all(\n",
    "    arr,\n",
    "    groups_indices,\n",
    "    func=np.mean,\n",
    "    num_outliers=DFLT_NUM_OUTLIERS,\n",
    "):\n",
    "\n",
    "    means = apply_func_to_index_groups(func, arr, groups_indices)\n",
    "    arg = arg_top_max(means, num_outliers)\n",
    "    print(f'{arg=}')\n",
    "    result = [\n",
    "        (groups_indices[idx][0], groups_indices[idx][-1])\n",
    "        for idx, _ in enumerate(means)\n",
    "        if idx in arg\n",
    "    ]\n",
    "    return result"
   ]
  },
  {
   "cell_type": "code",
   "execution_count": 90,
   "metadata": {},
   "outputs": [
    {
     "name": "stdout",
     "output_type": "stream",
     "text": [
      "arg=[1]\n"
     ]
    },
    {
     "data": {
      "text/plain": [
       "[(8, 9)]"
      ]
     },
     "execution_count": 90,
     "metadata": {},
     "output_type": "execute_result"
    }
   ],
   "source": [
    "arr = np.array([1,2,3,10,21,22,23,24, 11,12,21,22,23,24])\n",
    "groups_indices = [[0,1,2,],[8,9]]\n",
    "res = get_groups_extremities_all(arr, groups_indices, num_outliers = 1)\n",
    "means = apply_func_to_index_groups(np.mean, arr, groups_indices)\n",
    "res"
   ]
  },
  {
   "cell_type": "code",
   "execution_count": 4,
   "metadata": {},
   "outputs": [],
   "source": [
    "import numpy as np\n",
    "scores = np.array([0.6168595277532382, 0.6741733106012293, -1.1139169777195816, 0.654833844230351, 0.7373844747674398, 0.9688590169960354, -1.1139169777195816, -1.1139169777195816, 0.6168595277532359, 0.5831228257696716, 0.7089085119956521, -1.1139167716234863, -1.1139169777195816, -1.1139169777195816, 0.9630594985895795, 0.5279981100083243, -1.1139168094428245, -1.1139164871127434, 0.8989789586641862, -1.1139168094428245, -1.1139169777195816, -1.1139166411660673, 0.6741733106012372, 0.5279981100083327, -1.1139169777195816, 1.128614673878595, 0.6713320675092165, 0.913420715274694, -1.1139167116506667, 0.6713320675092106, 0.9931506430014206, -1.1139169777195816, 0.8383911894890441, -1.1139167895804476, 0.9309466022703364, -1.1139167716234863, -1.1139169777195816, 0.7727545346156318, 0.6886873215386187, 0.673167029538433, -1.1139167716234863, -1.1139169777195816, -1.1139167397403094, -1.1139168094428245, -1.1139169777195816, 0.9484133385697017, -1.1139169777195816, 0.660556709135128, 1.3790782178349172, 0.6753110767558935, 1.2093454260764394, 0.5321920751043577, 1.4247140118210364, 1.459134867190119, 0.9913370096958833, 0.8997272803338141, -1.1139169777195816, -1.1139168587299455, 0.6731670295384468, -1.1139169777195816, -1.1139169777195816, 0.7561476623861142, -1.1139169777195816, -1.1139168094428245, 0.5321920751043426, 0.6753110767558858, -1.1139167716234863, -1.1139166308081596, 0.5831228257696591, -1.1139169777195816, 1.3436791061793483, 0.9237991779531787, -1.1139169777195816, 1.0462710025207165, -1.1139166411660673, 1.0131871154789447, 1.1908641445222095, 1.5206163220822664])"
   ]
  },
  {
   "cell_type": "code",
   "execution_count": 73,
   "metadata": {},
   "outputs": [
    {
     "data": {
      "text/plain": [
       "[2.0, 11.5]"
      ]
     },
     "execution_count": 73,
     "metadata": {},
     "output_type": "execute_result"
    }
   ],
   "source": [
    "arg_top_max([2.0, 11.5],3)"
   ]
  },
  {
   "cell_type": "code",
   "execution_count": 79,
   "metadata": {},
   "outputs": [
    {
     "data": {
      "text/plain": [
       "[1, 0]"
      ]
     },
     "execution_count": 79,
     "metadata": {},
     "output_type": "execute_result"
    }
   ],
   "source": [
    "result = [means.index(i) for i in sorted(means, reverse=True)][:2]\n",
    "result\n"
   ]
  },
  {
   "cell_type": "code",
   "execution_count": 93,
   "metadata": {},
   "outputs": [
    {
     "data": {
      "text/plain": [
       "[<matplotlib.lines.Line2D at 0x7fafa2474cd0>]"
      ]
     },
     "execution_count": 93,
     "metadata": {},
     "output_type": "execute_result"
    },
    {
     "data": {
      "image/png": "[encoded data removed]",
      "text/plain": [
       "<Figure size 432x288 with 1 Axes>"
      ]
     },
     "metadata": {
      "needs_background": "light"
     },
     "output_type": "display_data"
    }
   ],
   "source": [
    "import matplotlib.pyplot as plt\n",
    "plt.plot(scores)"
   ]
  },
  {
   "cell_type": "code",
   "execution_count": 1,
   "metadata": {},
   "outputs": [
    {
     "name": "stderr",
     "output_type": "stream",
     "text": [
      "<frozen importlib._bootstrap>:219: RuntimeWarning: scipy._lib.messagestream.MessageStream size changed, may indicate binary incompatibility. Expected 56 from C header, got 64 from PyObject\n",
      "/Users/sylvain/opt/anaconda3/envs/otopy38/lib/python3.8/site-packages/paramiko/transport.py:219: CryptographyDeprecationWarning: Blowfish has been deprecated\n",
      "  \"class\": algorithms.Blowfish,\n",
      "OMP: Info #271: omp_set_nested routine deprecated, please use omp_set_max_active_levels instead.\n"
     ]
    }
   ],
   "source": [
    "from plunk.sb.front_demo.user_story1.utils.tools import (\n",
    "    DFLT_CHUNKER,\n",
    "    DFLT_FEATURIZER,\n",
    "    DFLT_CHK_SIZE,\n",
    "    chunker,\n",
    "    featurizer,\n",
    "    WaveForm,\n",
    "    Stroll,\n",
    "    clean_dict,\n",
    "    scores_to_intervals,\n",
    "    pyplot_with_intervals,\n",
    "    indices_for_percentile,\n",
    "    consecutive_indices,\n",
    "    get_groups_extremities_all,\n",
    "    apply_func_to_index_groups,\n",
    "    arg_top_max,\n",
    "    consecutive_groups\n",
    ")"
   ]
  },
  {
   "cell_type": "code",
   "execution_count": 4,
   "metadata": {},
   "outputs": [],
   "source": [
    "import numpy as np\n",
    "scores=np.array([0.6168595277532382, 0.6741733106012293, -1.1139169777195816, 0.654833844230351, 0.7373844747674398, 0.9688590169960354, -1.1139169777195816, -1.1139169777195816, 0.6168595277532359, 0.5831228257696716, 0.7089085119956521, -1.1139167716234863, -1.1139169777195816, -1.1139169777195816, 0.9630594985895795, 0.5279981100083243, -1.1139168094428245, -1.1139164871127434, 0.8989789586641862, -1.1139168094428245, -1.1139169777195816, -1.1139166411660673, 0.6741733106012372, 0.5279981100083327, -1.1139169777195816, 1.128614673878595, 0.6713320675092165, 0.913420715274694, -1.1139167116506667, 0.6713320675092106, 0.9931506430014206, -1.1139169777195816, 0.8383911894890441, -1.1139167895804476, 0.9309466022703364, -1.1139167716234863, -1.1139169777195816, 0.7727545346156318, 0.6886873215386187, 0.673167029538433, -1.1139167716234863, -1.1139169777195816, -1.1139167397403094, -1.1139168094428245, -1.1139169777195816, 0.9484133385697017, -1.1139169777195816, 0.660556709135128, 1.3790782178349172, 0.6753110767558935, 1.2093454260764394, 0.5321920751043577, 1.4247140118210364, 1.459134867190119, 0.9913370096958833, 0.8997272803338141, -1.1139169777195816, -1.1139168587299455, 0.6731670295384468, -1.1139169777195816, -1.1139169777195816, 0.7561476623861142, -1.1139169777195816, -1.1139168094428245, 0.5321920751043426, 0.6753110767558858, -1.1139167716234863, -1.1139166308081596, 0.5831228257696591, -1.1139169777195816, 1.3436791061793483, 0.9237991779531787, -1.1139169777195816, 1.0462710025207165, -1.1139166411660673, 1.0131871154789447, 1.1908641445222095, 1.5206163220822664])"
   ]
  },
  {
   "cell_type": "code",
   "execution_count": 5,
   "metadata": {},
   "outputs": [
    {
     "data": {
      "text/plain": [
       "array([25, 48, 50, 52, 53, 70, 76, 77])"
      ]
     },
     "execution_count": 5,
     "metadata": {},
     "output_type": "execute_result"
    }
   ],
   "source": [
    "[low, high] = list(indices_for_percentile(scores, low=0, high=90))\n",
    "arr_selected = np.nonzero(scores>=high)[0]\n",
    "arr_selected\n"
   ]
  },
  {
   "cell_type": "code",
   "execution_count": 6,
   "metadata": {},
   "outputs": [
    {
     "data": {
      "text/plain": [
       "[[25], [48], [50], [52, 53], [70], [76, 77]]"
      ]
     },
     "execution_count": 6,
     "metadata": {},
     "output_type": "execute_result"
    }
   ],
   "source": [
    "groups_indices = consecutive_indices(arr_selected)\n",
    "groups_indices"
   ]
  },
  {
   "cell_type": "code",
   "execution_count": 7,
   "metadata": {},
   "outputs": [
    {
     "name": "stdout",
     "output_type": "stream",
     "text": [
      "means=[1.128614673878595, 1.3790782178349172, 1.2093454260764394, 1.4419244395055777, 1.3436791061793483, 1.355740233302238]\n",
      "arg=[3, 1, 5]\n"
     ]
    },
    {
     "data": {
      "text/plain": [
       "[(48, 48), (52, 53), (76, 77)]"
      ]
     },
     "execution_count": 7,
     "metadata": {},
     "output_type": "execute_result"
    }
   ],
   "source": [
    "result = get_groups_extremities_all(\n",
    "    scores,\n",
    "    groups_indices,\n",
    "    func=np.mean,\n",
    "    num_outliers=3,\n",
    ")\n",
    "result"
   ]
  },
  {
   "cell_type": "code",
   "execution_count": 8,
   "metadata": {},
   "outputs": [
    {
     "name": "stdout",
     "output_type": "stream",
     "text": [
      "means=[1.128614673878595, 1.3790782178349172, 1.2093454260764394, 1.4419244395055777, 1.3436791061793483, 1.355740233302238]\n",
      "arg=[3, 1, 5]\n"
     ]
    },
    {
     "data": {
      "text/plain": [
       "[(48, 48), (52, 53), (76, 77)]"
      ]
     },
     "execution_count": 8,
     "metadata": {},
     "output_type": "execute_result"
    }
   ],
   "source": [
    "scores_to_intervals(scores, 90, 3)"
   ]
  },
  {
   "cell_type": "code",
   "execution_count": 9,
   "metadata": {},
   "outputs": [],
   "source": [
    "def pyplot_with_intervals(X, intervals=None):\n",
    "    # xs = df['TIME']\n",
    "    min_x = np.mean(X)\n",
    "    xs = list(range(len(X)))\n",
    "    ys = X\n",
    "    fig, ax = plt.subplots(figsize=(7, 2))\n",
    "    ax.plot(xs, ys, linewidth=1)\n",
    "    # ax.axhline(y=cutoff, xmin=0, xmax=1, c=\"r\")\n",
    "    if intervals:\n",
    "        for i, interval in enumerate(intervals):\n",
    "            start, end = interval\n",
    "            plt.axvspan(start, end, facecolor=\"g\", alpha=0.5)\n",
    "\n",
    "            ax.annotate(f\"{i}\", xy=(start, min_x), ha=\"left\", va=\"top\")\n",
    "\n",
    "    return fig"
   ]
  },
  {
   "cell_type": "code",
   "execution_count": 11,
   "metadata": {},
   "outputs": [
    {
     "data": {
      "image/png": "[encoded data removed]",
      "text/plain": [
       "<Figure size 504x144 with 1 Axes>"
      ]
     },
     "execution_count": 11,
     "metadata": {},
     "output_type": "execute_result"
    },
    {
     "data": {
      "image/png": "[encoded data removed]",
      "text/plain": [
       "<Figure size 504x144 with 1 Axes>"
      ]
     },
     "metadata": {
      "needs_background": "light"
     },
     "output_type": "display_data"
    }
   ],
   "source": [
    "import matplotlib.pyplot as plt\n",
    "intervals = [(48, 48), (52, 53), (76, 77)]\n",
    "pyplot_with_intervals(scores, intervals)"
   ]
  },
  {
   "cell_type": "code",
   "execution_count": 60,
   "metadata": {},
   "outputs": [
    {
     "name": "stdout",
     "output_type": "stream",
     "text": [
      "means=[1.3320058461981164]\n",
      "arg=[0]\n"
     ]
    },
    {
     "data": {
      "text/plain": [
       "[1.3320058461981164]"
      ]
     },
     "execution_count": 60,
     "metadata": {},
     "output_type": "execute_result"
    }
   ],
   "source": [
    "get_groups_extremities_all2(\n",
    "    scores,\n",
    "    groups_indices,\n",
    "    func=np.mean,\n",
    "    num_outliers=3,\n",
    ")"
   ]
  },
  {
   "cell_type": "code",
   "execution_count": 61,
   "metadata": {},
   "outputs": [],
   "source": [
    "def consecutive_indices2(arr):\n",
    "    return list(map(list, consecutive_groups(arr)))"
   ]
  },
  {
   "cell_type": "code",
   "execution_count": 62,
   "metadata": {},
   "outputs": [],
   "source": [
    "arr = np.array([1,3,4,5,6,7,8,0,1])"
   ]
  },
  {
   "cell_type": "code",
   "execution_count": 65,
   "metadata": {},
   "outputs": [],
   "source": [
    "groups_indices=consecutive_indices2(arr)"
   ]
  },
  {
   "cell_type": "code",
   "execution_count": 67,
   "metadata": {},
   "outputs": [
    {
     "data": {
      "text/plain": [
       "[3.0, 4.5, 2.0]"
      ]
     },
     "execution_count": 67,
     "metadata": {},
     "output_type": "execute_result"
    }
   ],
   "source": [
    "means = apply_func_to_index_groups(np.mean, arr, groups_indices)\n",
    "means\n"
   ]
  },
  {
   "cell_type": "markdown",
   "metadata": {},
   "source": [
    "# Routing forest"
   ]
  },
  {
   "cell_type": "code",
   "execution_count": 14,
   "metadata": {},
   "outputs": [],
   "source": [
    "from i2.routing_forest import RoutingForest, CondNode, SwitchCaseNode"
   ]
  },
  {
   "cell_type": "code",
   "execution_count": 15,
   "metadata": {},
   "outputs": [
    {
     "ename": "NameError",
     "evalue": "name 'could_be_int' is not defined",
     "output_type": "error",
     "traceback": [
      "\u001b[0;31m---------------------------------------------------------------------------\u001b[0m",
      "\u001b[0;31mNameError\u001b[0m                                 Traceback (most recent call last)",
      "\u001b[1;32m/Users/sylvain/Desktop/dev/otosense/plunk/plunk/sb/slabsiter_experiments/notebook.ipynb Cell 54\u001b[0m in \u001b[0;36m<cell line: 1>\u001b[0;34m()\u001b[0m\n\u001b[1;32m      <a href='vscode-notebook-cell:/Users/sylvain/Desktop/dev/otosense/plunk/plunk/sb/slabsiter_experiments/notebook.ipynb#Y110sZmlsZQ%3D%3D?line=0'>1</a>\u001b[0m st \u001b[39m=\u001b[39m RoutingForest(\n\u001b[1;32m      <a href='vscode-notebook-cell:/Users/sylvain/Desktop/dev/otosense/plunk/plunk/sb/slabsiter_experiments/notebook.ipynb#Y110sZmlsZQ%3D%3D?line=1'>2</a>\u001b[0m     [\n\u001b[1;32m      <a href='vscode-notebook-cell:/Users/sylvain/Desktop/dev/otosense/plunk/plunk/sb/slabsiter_experiments/notebook.ipynb#Y110sZmlsZQ%3D%3D?line=2'>3</a>\u001b[0m         CondNode(\n\u001b[0;32m----> <a href='vscode-notebook-cell:/Users/sylvain/Desktop/dev/otosense/plunk/plunk/sb/slabsiter_experiments/notebook.ipynb#Y110sZmlsZQ%3D%3D?line=3'>4</a>\u001b[0m             cond\u001b[39m=\u001b[39mcould_be_int,\n\u001b[1;32m      <a href='vscode-notebook-cell:/Users/sylvain/Desktop/dev/otosense/plunk/plunk/sb/slabsiter_experiments/notebook.ipynb#Y110sZmlsZQ%3D%3D?line=4'>5</a>\u001b[0m             then\u001b[39m=\u001b[39mRoutingForest(\n\u001b[1;32m      <a href='vscode-notebook-cell:/Users/sylvain/Desktop/dev/otosense/plunk/plunk/sb/slabsiter_experiments/notebook.ipynb#Y110sZmlsZQ%3D%3D?line=5'>6</a>\u001b[0m                 [\n\u001b[1;32m      <a href='vscode-notebook-cell:/Users/sylvain/Desktop/dev/otosense/plunk/plunk/sb/slabsiter_experiments/notebook.ipynb#Y110sZmlsZQ%3D%3D?line=6'>7</a>\u001b[0m                     CondNode(\n\u001b[1;32m      <a href='vscode-notebook-cell:/Users/sylvain/Desktop/dev/otosense/plunk/plunk/sb/slabsiter_experiments/notebook.ipynb#Y110sZmlsZQ%3D%3D?line=7'>8</a>\u001b[0m                         cond\u001b[39m=\u001b[39m\u001b[39mlambda\u001b[39;00m x: \u001b[39mint\u001b[39m(x) \u001b[39m>\u001b[39m\u001b[39m=\u001b[39m \u001b[39m10\u001b[39m,\n\u001b[1;32m      <a href='vscode-notebook-cell:/Users/sylvain/Desktop/dev/otosense/plunk/plunk/sb/slabsiter_experiments/notebook.ipynb#Y110sZmlsZQ%3D%3D?line=8'>9</a>\u001b[0m                         then\u001b[39m=\u001b[39mFinalNode(\u001b[39m'\u001b[39m\u001b[39mMore than a digit\u001b[39m\u001b[39m'\u001b[39m),\n\u001b[1;32m     <a href='vscode-notebook-cell:/Users/sylvain/Desktop/dev/otosense/plunk/plunk/sb/slabsiter_experiments/notebook.ipynb#Y110sZmlsZQ%3D%3D?line=9'>10</a>\u001b[0m                     ),\n\u001b[1;32m     <a href='vscode-notebook-cell:/Users/sylvain/Desktop/dev/otosense/plunk/plunk/sb/slabsiter_experiments/notebook.ipynb#Y110sZmlsZQ%3D%3D?line=10'>11</a>\u001b[0m                     CondNode(\n\u001b[1;32m     <a href='vscode-notebook-cell:/Users/sylvain/Desktop/dev/otosense/plunk/plunk/sb/slabsiter_experiments/notebook.ipynb#Y110sZmlsZQ%3D%3D?line=11'>12</a>\u001b[0m                         cond\u001b[39m=\u001b[39m\u001b[39mlambda\u001b[39;00m x: (\u001b[39mint\u001b[39m(x) \u001b[39m%\u001b[39m \u001b[39m2\u001b[39m) \u001b[39m==\u001b[39m \u001b[39m1\u001b[39m,\n\u001b[1;32m     <a href='vscode-notebook-cell:/Users/sylvain/Desktop/dev/otosense/plunk/plunk/sb/slabsiter_experiments/notebook.ipynb#Y110sZmlsZQ%3D%3D?line=12'>13</a>\u001b[0m                         then\u001b[39m=\u001b[39mFinalNode(\u001b[39m\"\u001b[39m\u001b[39mThat\u001b[39m\u001b[39m'\u001b[39m\u001b[39ms odd!\u001b[39m\u001b[39m\"\u001b[39m),\n\u001b[1;32m     <a href='vscode-notebook-cell:/Users/sylvain/Desktop/dev/otosense/plunk/plunk/sb/slabsiter_experiments/notebook.ipynb#Y110sZmlsZQ%3D%3D?line=13'>14</a>\u001b[0m                     ),\n\u001b[1;32m     <a href='vscode-notebook-cell:/Users/sylvain/Desktop/dev/otosense/plunk/plunk/sb/slabsiter_experiments/notebook.ipynb#Y110sZmlsZQ%3D%3D?line=14'>15</a>\u001b[0m                 ]\n\u001b[1;32m     <a href='vscode-notebook-cell:/Users/sylvain/Desktop/dev/otosense/plunk/plunk/sb/slabsiter_experiments/notebook.ipynb#Y110sZmlsZQ%3D%3D?line=15'>16</a>\u001b[0m             ),\n\u001b[1;32m     <a href='vscode-notebook-cell:/Users/sylvain/Desktop/dev/otosense/plunk/plunk/sb/slabsiter_experiments/notebook.ipynb#Y110sZmlsZQ%3D%3D?line=16'>17</a>\u001b[0m         ),\n\u001b[1;32m     <a href='vscode-notebook-cell:/Users/sylvain/Desktop/dev/otosense/plunk/plunk/sb/slabsiter_experiments/notebook.ipynb#Y110sZmlsZQ%3D%3D?line=17'>18</a>\u001b[0m         CondNode(cond\u001b[39m=\u001b[39mcould_be_float, then\u001b[39m=\u001b[39mFinalNode(\u001b[39m'\u001b[39m\u001b[39mcould be seen as a float\u001b[39m\u001b[39m'\u001b[39m)),\n\u001b[1;32m     <a href='vscode-notebook-cell:/Users/sylvain/Desktop/dev/otosense/plunk/plunk/sb/slabsiter_experiments/notebook.ipynb#Y110sZmlsZQ%3D%3D?line=18'>19</a>\u001b[0m     ]\n\u001b[1;32m     <a href='vscode-notebook-cell:/Users/sylvain/Desktop/dev/otosense/plunk/plunk/sb/slabsiter_experiments/notebook.ipynb#Y110sZmlsZQ%3D%3D?line=19'>20</a>\u001b[0m )\n\u001b[1;32m     <a href='vscode-notebook-cell:/Users/sylvain/Desktop/dev/otosense/plunk/plunk/sb/slabsiter_experiments/notebook.ipynb#Y110sZmlsZQ%3D%3D?line=20'>21</a>\u001b[0m \u001b[39massert\u001b[39;00m \u001b[39mlist\u001b[39m(st(\u001b[39m'\u001b[39m\u001b[39mnothing I can do with that\u001b[39m\u001b[39m'\u001b[39m)) \u001b[39m==\u001b[39m []\n\u001b[1;32m     <a href='vscode-notebook-cell:/Users/sylvain/Desktop/dev/otosense/plunk/plunk/sb/slabsiter_experiments/notebook.ipynb#Y110sZmlsZQ%3D%3D?line=21'>22</a>\u001b[0m \u001b[39massert\u001b[39;00m \u001b[39mlist\u001b[39m(st(\u001b[39m8\u001b[39m)) \u001b[39m==\u001b[39m [\u001b[39m'\u001b[39m\u001b[39mcould be seen as a float\u001b[39m\u001b[39m'\u001b[39m]\n",
      "\u001b[0;31mNameError\u001b[0m: name 'could_be_int' is not defined"
     ]
    }
   ],
   "source": [
    ">>> st = RoutingForest(\n",
    "...     [\n",
    "...         CondNode(\n",
    "...             cond=could_be_int,\n",
    "...             then=RoutingForest(\n",
    "...                 [\n",
    "...                     CondNode(\n",
    "...                         cond=lambda x: int(x) >= 10,\n",
    "...                         then=FinalNode('More than a digit'),\n",
    "...                     ),\n",
    "...                     CondNode(\n",
    "...                         cond=lambda x: (int(x) % 2) == 1,\n",
    "...                         then=FinalNode(\"That's odd!\"),\n",
    "...                     ),\n",
    "...                 ]\n",
    "...             ),\n",
    "...         ),\n",
    "...         CondNode(cond=could_be_float, then=FinalNode('could be seen as a float')),\n",
    "...     ]\n",
    "... )\n",
    ">>> assert list(st('nothing I can do with that')) == []\n",
    ">>> assert list(st(8)) == ['could be seen as a float']\n",
    "could_be_int\n",
    "could_be_float\n",
    ">>> assert list(st(9)) == [\"That's odd!\", 'could be seen as a float']\n",
    "could_be_int\n",
    "could_be_float\n",
    ">>> assert list(st(10)) == ['More than a digit', 'could be seen as a float']\n",
    "could_be_int\n",
    "could_be_float\n",
    ">>> assert list(st(11)) == [\n",
    "...     'More than a digit',\n",
    "...     \"That's odd!\",\n",
    "...     'could be seen as a float',\n",
    "... ]\n",
    "could_be_int\n",
    "could_be_float\n",
    ">>>\n",
    ">>> print(\n",
    "...     '### RoutingForest ########################################################################################'\n",
    "... )\n",
    "### RoutingForest ########################################################################################\n",
    ">>> rf = RoutingForest(\n",
    "...     [\n",
    "...         SwitchCaseNode(\n",
    "...             switch=lambda x: x % 5,\n",
    "...             cases={0: FinalNode('zero_mod_5'), 1: FinalNode('one_mod_5')},\n",
    "...             default=FinalNode('default_mod_5'),\n",
    "...         ),\n",
    "...         SwitchCaseNode(\n",
    "...             switch=lambda x: x % 2,\n",
    "...             cases={0: FinalNode('even'), 1: FinalNode('odd')},\n",
    "...             default=FinalNode('that is not an int'),\n",
    "...         ),\n",
    "...     ]\n",
    "... )"
   ]
  },
  {
   "cell_type": "code",
   "execution_count": 16,
   "metadata": {},
   "outputs": [],
   "source": [
    "def dummy(x:int)->int:\n",
    "    return 2*x\n",
    "\n",
    "def foo(x:int, y: str)->str:\n",
    "    return x*y"
   ]
  },
  {
   "cell_type": "code",
   "execution_count": 17,
   "metadata": {},
   "outputs": [
    {
     "data": {
      "text/plain": [
       "['__annotations__',\n",
       " '__call__',\n",
       " '__class__',\n",
       " '__closure__',\n",
       " '__code__',\n",
       " '__defaults__',\n",
       " '__delattr__',\n",
       " '__dict__',\n",
       " '__dir__',\n",
       " '__doc__',\n",
       " '__eq__',\n",
       " '__format__',\n",
       " '__ge__',\n",
       " '__get__',\n",
       " '__getattribute__',\n",
       " '__globals__',\n",
       " '__gt__',\n",
       " '__hash__',\n",
       " '__init__',\n",
       " '__init_subclass__',\n",
       " '__kwdefaults__',\n",
       " '__le__',\n",
       " '__lt__',\n",
       " '__module__',\n",
       " '__name__',\n",
       " '__ne__',\n",
       " '__new__',\n",
       " '__qualname__',\n",
       " '__reduce__',\n",
       " '__reduce_ex__',\n",
       " '__repr__',\n",
       " '__setattr__',\n",
       " '__sizeof__',\n",
       " '__str__',\n",
       " '__subclasshook__']"
      ]
     },
     "execution_count": 17,
     "metadata": {},
     "output_type": "execute_result"
    }
   ],
   "source": []
  },
  {
   "cell_type": "code",
   "execution_count": 19,
   "metadata": {},
   "outputs": [
    {
     "data": {
      "text/plain": [
       "{'x': int, 'return': int}"
      ]
     },
     "execution_count": 19,
     "metadata": {},
     "output_type": "execute_result"
    }
   ],
   "source": [
    "# one possibility: get from a dict all the necessary crudification\n",
    "@default_crudify\n",
    "\n",
    "# problem: functions with same (generic) names for arguments: example \"arr\", \"iterable\"\n",
    "\n",
    "\n",
    "# problem: how to signal that an output should be crudified\n",
    "def func(x:int)->Outputable:\n",
    "    "
   ]
  },
  {
   "cell_type": "code",
   "execution_count": null,
   "metadata": {},
   "outputs": [],
   "source": [
    "# config maker:\n",
    "put it inside the app itself and document all the functions, one by one?\n"
   ]
  },
  {
   "cell_type": "markdown",
   "metadata": {},
   "source": [
    "# Treating the outputs"
   ]
  },
  {
   "cell_type": "markdown",
   "metadata": {},
   "source": [
    "* Zope interface\n",
    "* function: name_of_arg, together with func_name, module_name\n",
    "* mapping with name of the function\n"
   ]
  },
  {
   "cell_type": "code",
   "execution_count": null,
   "metadata": {},
   "outputs": [],
   "source": [
    "# bulk crudifier\n",
    "d={'send_inputs_to_store':dict(), #use  func_name.arg_name , if only arg_name it's generic\n",
    "'send_outputs_to_store':dict()}  #use func names "
   ]
  },
  {
   "cell_type": "code",
   "execution_count": 2,
   "metadata": {},
   "outputs": [
    {
     "name": "stdout",
     "output_type": "stream",
     "text": [
      "2\n"
     ]
    }
   ],
   "source": [
    "# what if we have an int, a float? \n",
    "from numbers import Number\n",
    "t = 2\n",
    "print(t)"
   ]
  },
  {
   "cell_type": "code",
   "execution_count": 6,
   "metadata": {},
   "outputs": [
    {
     "name": "stdout",
     "output_type": "stream",
     "text": [
      "(func, *, send_inputs_to_store={'arg': 'arg_store'}, send_outputs_to_store={'foo': 'foo_store'})\n",
      "(func)\n"
     ]
    }
   ],
   "source": [
    "from functools import partial\n",
    "from i2 import Sig\n",
    "\n",
    "def convention_based_crudify1(func, send_inputs_to_store=(), send_outputs_to_store=()):\n",
    "    send_inputs_to_store = dict(send_inputs_to_store)\n",
    "    send_outputs_to_store = dict(send_outputs_to_store)\n",
    "\n",
    "\n",
    "def convention_based_crudify2(send_inputs_to_store, send_outputs_to_store, func):\n",
    "    pass\n",
    "\n",
    "\n",
    "f = partial(convention_based_crudify1, send_inputs_to_store={'arg': 'arg_store'}, send_outputs_to_store={'foo': 'foo_store'})\n",
    "print(Sig(f))\n",
    "\n",
    "g = partial(convention_based_crudify2, {'arg': 'arg_store'}, {'foo': 'foo_store'})\n",
    "print(Sig(g))"
   ]
  },
  {
   "cell_type": "code",
   "execution_count": null,
   "metadata": {},
   "outputs": [],
   "source": [
    "from math import std\n",
    "\n",
    "def featurizer(chk, n=1):\n",
    "    return std(chk) * n\n",
    "\n",
    "\n",
    "featurize = partial(map, featurizer)\n"
   ]
  },
  {
   "cell_type": "code",
   "execution_count": null,
   "metadata": {},
   "outputs": [],
   "source": []
  },
  {
   "cell_type": "code",
   "execution_count": null,
   "metadata": {},
   "outputs": [],
   "source": [
    "send_inputs_to_store = {\n",
    "    'ARGNAME': 'INPUT_STORE',\n",
    "    'FUNCNAME.ARGNAME': 'INPUT_STORE',\n",
    "    ...\n",
    "}\n",
    "\n",
    "send_outputs_to_store = {\n",
    "    'FUNC_NAME': 'OUTPUT_STORE',\n",
    "    ...\n",
    "}"
   ]
  },
  {
   "cell_type": "code",
   "execution_count": 4,
   "metadata": {},
   "outputs": [],
   "source": [
    "from s3dol import get_s3_client, S3BucketBaseReader"
   ]
  },
  {
   "cell_type": "code",
   "execution_count": 2,
   "metadata": {},
   "outputs": [],
   "source": [
    "client = get_s3_client()"
   ]
  },
  {
   "cell_type": "code",
   "execution_count": 3,
   "metadata": {},
   "outputs": [
    {
     "data": {
      "text/plain": [
       "<botocore.client.S3 at 0x7fc950ee8a60>"
      ]
     },
     "execution_count": 3,
     "metadata": {},
     "output_type": "execute_result"
    }
   ],
   "source": [
    "client"
   ]
  },
  {
   "cell_type": "code",
   "execution_count": 17,
   "metadata": {},
   "outputs": [],
   "source": [
    "bucket_name ='s3://drillnoise/DrillDataset/'\n",
    "bucket_name ='drillnoise'\n",
    "\n",
    "#r = S3BucketBaseReader(S3BucketBaseReader.mk_client(**resources_kwargs), bucket='bucket_name', prefix='my_stuff/')\n",
    "r = S3BucketBaseReader(client, bucket=bucket_name)"
   ]
  },
  {
   "cell_type": "code",
   "execution_count": 18,
   "metadata": {},
   "outputs": [
    {
     "data": {
      "text/plain": [
       "S3BucketBaseReader(client=<botocore.client.S3 object at 0x7fc950ee8a60>, bucket='drillnoise', prefix='', with_files=True, with_directories=True)"
      ]
     },
     "execution_count": 18,
     "metadata": {},
     "output_type": "execute_result"
    }
   ],
   "source": [
    "r"
   ]
  },
  {
   "cell_type": "code",
   "execution_count": 19,
   "metadata": {},
   "outputs": [
    {
     "data": {
      "text/plain": [
       "KeysView(S3BucketBaseReader(client=<botocore.client.S3 object at 0x7fc950ee8a60>, bucket='drillnoise', prefix='', with_files=True, with_directories=True))"
      ]
     },
     "execution_count": 19,
     "metadata": {},
     "output_type": "execute_result"
    }
   ],
   "source": [
    "r.keys()"
   ]
  },
  {
   "cell_type": "code",
   "execution_count": 20,
   "metadata": {},
   "outputs": [
    {
     "data": {
      "text/plain": [
       "['DrillDataset/']"
      ]
     },
     "execution_count": 20,
     "metadata": {},
     "output_type": "execute_result"
    }
   ],
   "source": [
    "list(r)"
   ]
  },
  {
   "cell_type": "code",
   "execution_count": 28,
   "metadata": {},
   "outputs": [
    {
     "data": {
      "text/plain": [
       "<botocore.response.StreamingBody at 0x7fc93301a1c0>"
      ]
     },
     "execution_count": 28,
     "metadata": {},
     "output_type": "execute_result"
    }
   ],
   "source": [
    "r['DrillDataset/Anomaly/fault_10.wav']['Body']"
   ]
  },
  {
   "cell_type": "code",
   "execution_count": null,
   "metadata": {},
   "outputs": [],
   "source": []
  }
 ],
 "metadata": {
  "kernelspec": {
   "display_name": "Python 3.8.11 ('otopy38')",
   "language": "python",
   "name": "python3"
  },
  "language_info": {
   "codemirror_mode": {
    "name": "ipython",
    "version": 3
   },
   "file_extension": ".py",
   "mimetype": "text/x-python",
   "name": "python",
   "nbconvert_exporter": "python",
   "pygments_lexer": "ipython3",
   "version": "3.8.11"
  },
  "orig_nbformat": 4,
  "vscode": {
   "interpreter": {
    "hash": "1a569799154504b406baf5195ac89fceebc6fb1ed8aa567618566bf3d18c8582"
   }
  }
 },
 "nbformat": 4,
 "nbformat_minor": 2
}
