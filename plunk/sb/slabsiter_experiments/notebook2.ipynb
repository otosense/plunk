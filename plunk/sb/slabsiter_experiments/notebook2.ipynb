{
 "cells": [
  {
   "cell_type": "markdown",
   "metadata": {},
   "source": [
    "# Design Notes"
   ]
  },
  {
   "cell_type": "markdown",
   "metadata": {},
   "source": [
    "## Main goal of pipeline maker"
   ]
  },
  {
   "cell_type": "markdown",
   "metadata": {},
   "source": [
    "* We want the user to specify a **collection of objects**\n",
    "* more concretely: \n",
    "  * connect a **datasource** to an existing dacc, in a normalized form (say, a dacc using WfStore, AnnotStore)\n",
    "  * datasource can be anything, but the (raw) values we want are numpy arrays (int16). \n",
    "  The keys can be deduced from the items, after a sequence of transformations (see mk_item2kv_for, and other functions in dol for example). \n",
    "  Another tool to use : dol/filt_iter on store\n",
    "  We can use the interface of dol/Files to get the raw material (example: FileBytesReader)\n",
    "\n",
    "* At the **GUI level**: user makes a collection by adding funcs\n",
    "  * 'select one' : from pre-existing dropdown list\n",
    "  * 'make one' and select after (will use crude: we select through the crude name)\n",
    "\n",
    "* At the **backend level**:\n",
    "  * two stores are provided: one store of funcs (populated with 2-3 funcs say), one store of factories.\n",
    "  * make a collection of functions through the GUI (in the form of SlabsIter or not)\n",
    "  * the user needs to populate the items. Behind the scenes we provide functions to create the list of objects that we can select. Those functions can be provided as keys, of a mall. If very large, the collection of keys is accessed via a smartlist. The function that creates the items could be as simple as dunder iter for the store.\n",
    "  * making one element: we provide a store of factories. Those have certain signatures, that will determine the front rendering of each. For example: one factory needs some params to be entered by the user, so front creates a page showing the arguments of the factory. User enters arguments, then click to save in (dill) store of functions.\n",
    "  * In summary: there are 2 stores, store of funcs, store of factories\n",
    "\n",
    "* **Remark**: crude:\n",
    "  does not appear at the level of the React components. \n",
    "\n",
    "* **example**:\n",
    "    make a pipeline to create a SlabsIter example (ie a store exists, and is transformed by adding more stuff to it)\n",
    "  "
   ]
  },
  {
   "cell_type": "markdown",
   "metadata": {},
   "source": [
    "# A SlabsIter example"
   ]
  },
  {
   "cell_type": "markdown",
   "metadata": {},
   "source": [
    "* random generator: provided directly\n",
    "* clipper: clip above fixed value\n",
    "* threshold maker: a factory\n",
    "(* jump finder: a factory (define jump))\n"
   ]
  },
  {
   "cell_type": "code",
   "execution_count": 39,
   "metadata": {},
   "outputs": [],
   "source": [
    "import numpy as np\n",
    "from functools import partial\n",
    "from know.base import SlabsIter\n",
    "\n",
    "\n",
    "DFLT_SIZE = 5\n",
    "DFLT_WIDTH = 10\n",
    "\n",
    "def random_gen(width= DFLT_WIDTH, size = DFLT_SIZE):\n",
    "    while True:\n",
    "        yield np.random.randint(width, size=size)\n",
    "\n",
    "def clipper(arr, a_min=0, a_max=10):\n",
    "    return np.clip(arr, a_min, a_max)\n",
    "\n",
    "def threshold_factory():\n",
    "    max_val = int(input())\n",
    "    return partial(clipper, a_min=0, a_max = max_val)\n",
    "\n",
    "\n",
    "data = random_gen().__next__\n",
    "clipper_4 = partial(clipper, a_min=0, a_max = 4)\n",
    "\n",
    "funcs_store = {'clipper': clipper_4}\n",
    "factories_store = {'threshold': threshold_factory}\n",
    "\n",
    "transform = funcs_store['clipper']\n"
   ]
  },
  {
   "cell_type": "code",
   "execution_count": 40,
   "metadata": {},
   "outputs": [],
   "source": [
    "s = SlabsIter(\n",
    "    data = data, \n",
    "    transform = lambda data: data>3\n",
    ")"
   ]
  },
  {
   "cell_type": "code",
   "execution_count": 41,
   "metadata": {},
   "outputs": [
    {
     "data": {
      "text/plain": [
       "{'data': array([0, 8, 3, 4, 5]),\n",
       " 'transform': array([False,  True, False,  True,  True])}"
      ]
     },
     "execution_count": 41,
     "metadata": {},
     "output_type": "execute_result"
    }
   ],
   "source": [
    "next(s)"
   ]
  },
  {
   "cell_type": "code",
   "execution_count": 42,
   "metadata": {},
   "outputs": [
    {
     "data": {
      "text/plain": [
       "array([0, 6, 4, 0, 6])"
      ]
     },
     "execution_count": 42,
     "metadata": {},
     "output_type": "execute_result"
    }
   ],
   "source": [
    "data()"
   ]
  },
  {
   "cell_type": "code",
   "execution_count": 43,
   "metadata": {},
   "outputs": [
    {
     "data": {
      "text/plain": [
       "array([0, 8, 3, 7, 8])"
      ]
     },
     "execution_count": 43,
     "metadata": {},
     "output_type": "execute_result"
    }
   ],
   "source": [
    "data()"
   ]
  },
  {
   "cell_type": "code",
   "execution_count": null,
   "metadata": {},
   "outputs": [],
   "source": []
  }
 ],
 "metadata": {
  "kernelspec": {
   "display_name": "Python 3.10.0 ('otopy310')",
   "language": "python",
   "name": "python3"
  },
  "language_info": {
   "codemirror_mode": {
    "name": "ipython",
    "version": 3
   },
   "file_extension": ".py",
   "mimetype": "text/x-python",
   "name": "python",
   "nbconvert_exporter": "python",
   "pygments_lexer": "ipython3",
   "version": "3.10.0"
  },
  "orig_nbformat": 4,
  "vscode": {
   "interpreter": {
    "hash": "1b1583496da055986182577c8a7f701c9cd62d32bb22c260ed492920d961d72e"
   }
  }
 },
 "nbformat": 4,
 "nbformat_minor": 2
}
