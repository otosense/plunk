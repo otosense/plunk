{
 "cells": [
  {
   "cell_type": "code",
   "execution_count": 2,
   "metadata": {},
   "outputs": [],
   "source": [
    "import time\n",
    "from functools import partial\n",
    "from pprint import pprint\n",
    "from typing import Literal, Sequence, Generator\n",
    "\n",
    "from audiostream2py.file import WavFileSourceReader\n",
    "from audiostream2py.data import AudioSegment\n",
    "from meshed.slabs import Slabs\n",
    "import numpy as np\n",
    "\n",
    "from meshed.makers import iterize"
   ]
  },
  {
   "cell_type": "code",
   "execution_count": 3,
   "metadata": {},
   "outputs": [
    {
     "name": "stdout",
     "output_type": "stream",
     "text": [
      "plc info:\n",
      "{'bt': 0,\n",
      " 'channels': 1,\n",
      " 'frames_per_buffer': 5,\n",
      " 'n_frames': 59650,\n",
      " 'rate': 50,\n",
      " 'width': 2}\n",
      "accel info:\n",
      "{'bt': 0,\n",
      " 'channels': 1,\n",
      " 'frames_per_buffer': 12800,\n",
      " 'n_frames': 15270400,\n",
      " 'rate': 12800,\n",
      " 'width': 2}\n"
     ]
    }
   ],
   "source": [
    "#plc_file = PLUNK_ROOT_PATH / 'sb/slabsiter_experiments/data/PLC.wav'\n",
    "#accel_file = PLUNK_ROOT_PATH / 'sb/slabsiter_experiments/data/1621346260226336_ch2.wav'\n",
    "\n",
    "plc_file = 'data/PLC.wav'\n",
    "accel_file = 'data/1621346260226336_ch2.wav'\n",
    "\n",
    "#assert plc_file.is_file(), f'File not found: {plc_file}'\n",
    "#assert accel_file.is_file(), f'File not found: {accel_file}'\n",
    "\n",
    "plc_source = WavFileSourceReader(plc_file, frames_per_buffer=5, start_date=0)\n",
    "accel_source = WavFileSourceReader(accel_file, frames_per_buffer=12800, start_date=0)\n",
    "\n",
    "print('plc info:')\n",
    "pprint(plc_source.info)\n",
    "print('accel info:')\n",
    "pprint(accel_source.info)"
   ]
  },
  {
   "cell_type": "code",
   "execution_count": 5,
   "metadata": {},
   "outputs": [
    {
     "ename": "AttributeError",
     "evalue": "type object 'AudioSegment' has no attribute 'empty'",
     "output_type": "error",
     "traceback": [
      "\u001b[0;31m---------------------------------------------------------------------------\u001b[0m",
      "\u001b[0;31mAttributeError\u001b[0m                            Traceback (most recent call last)",
      "Cell \u001b[0;32mIn[5], line 25\u001b[0m\n\u001b[1;32m     21\u001b[0m         \u001b[39melse\u001b[39;00m:\n\u001b[1;32m     22\u001b[0m             \u001b[39mreturn\u001b[39;00m np\u001b[39m.\u001b[39mnonzero(edges)[\u001b[39m0\u001b[39m]\u001b[39m.\u001b[39mtolist()\n\u001b[0;32m---> 25\u001b[0m \u001b[39mclass\u001b[39;00m \u001b[39mAudioSegmentBuffer\u001b[39;00m:\n\u001b[1;32m     26\u001b[0m     write_state \u001b[39m=\u001b[39m \u001b[39mFalse\u001b[39;00m\n\u001b[1;32m     27\u001b[0m     buffered_segment \u001b[39m=\u001b[39m AudioSegment\u001b[39m.\u001b[39mempty()\n",
      "Cell \u001b[0;32mIn[5], line 27\u001b[0m, in \u001b[0;36mAudioSegmentBuffer\u001b[0;34m()\u001b[0m\n\u001b[1;32m     25\u001b[0m \u001b[39mclass\u001b[39;00m \u001b[39mAudioSegmentBuffer\u001b[39;00m:\n\u001b[1;32m     26\u001b[0m     write_state \u001b[39m=\u001b[39m \u001b[39mFalse\u001b[39;00m\n\u001b[0;32m---> 27\u001b[0m     buffered_segment \u001b[39m=\u001b[39m AudioSegment\u001b[39m.\u001b[39;49mempty()\n\u001b[1;32m     29\u001b[0m     \u001b[39mdef\u001b[39;00m \u001b[39mread_values\u001b[39m(\u001b[39mself\u001b[39m, ts):\n\u001b[1;32m     30\u001b[0m         \u001b[39mif\u001b[39;00m \u001b[39mnot\u001b[39;00m \u001b[39mself\u001b[39m\u001b[39m.\u001b[39mwrite_state:\n",
      "\u001b[0;31mAttributeError\u001b[0m: type object 'AudioSegment' has no attribute 'empty'"
     ]
    }
   ],
   "source": [
    "class BoolSegmentEdgeDetector:\n",
    "    last_sample_of_previous_segment = None\n",
    "    \n",
    "    def detect_edge_indices(\n",
    "        self, bool_segment: np.ndarray, edge_type: Literal['rising', 'falling', 'both']\n",
    "    ) -> list:\n",
    "        if edge_type not in ['rising', 'falling', 'both']:\n",
    "            raise ValueError(\n",
    "                \"Valid values for edge_type parameter are 'rising', 'falling', and 'both'.\"\n",
    "            )\n",
    "        if self.last_sample_of_previous_segment is not None:\n",
    "            bool_segment = np.insert(bool_segment, 0, self.last_sample_of_previous_segment)\n",
    "        self.last_sample_of_previous_segment = bool_segment[-1]\n",
    "\n",
    "        int_segment = bool_segment.astype(int)\n",
    "        edges = np.diff(int_segment)\n",
    "        if edge_type == 'rising':\n",
    "            return np.nonzero(edges == 1)[0].tolist()\n",
    "        elif edge_type == 'falling':\n",
    "            return np.nonzero(edges == -1)[0].tolist()\n",
    "        else:\n",
    "            return np.nonzero(edges)[0].tolist()\n",
    "\n",
    "\n",
    "class AudioSegmentBuffer:\n",
    "    write_state = False\n",
    "    buffered_segment = AudioSegment.empty()\n",
    "\n",
    "    def read_values(self, ts):\n",
    "        if not self.write_state:\n",
    "            self.write_state = True\n",
    "            return None\n",
    "        values = self.buffered_segment[:ts]\n",
    "        self.buffered_segment = self.buffered_segment[ts:]\n",
    "        return values\n",
    "\n",
    "    def write_values(self, incoming_segment: AudioSegment):\n",
    "        if self.write_state:\n",
    "            self.buffered_segment += incoming_segment"
   ]
  },
  {
   "cell_type": "code",
   "execution_count": 32,
   "metadata": {},
   "outputs": [],
   "source": [
    "from typing import Union\n",
    "\n",
    "def get_bytes_of_audio_segment(audio_segment: AudioSegment) -> bytes:\n",
    "    return audio_segment.waveform\n",
    "\n",
    "def convert_bytes_to_array(bytes_: bytes, dtype: type) -> np.ndarray:\n",
    "    return np.frombuffer(bytes_, dtype=dtype)\n",
    "\n",
    "def convert_array_to_bool(array: np.ndarray) -> np.ndarray:\n",
    "    return array != 0  \n",
    "\n",
    "def instantiate_rising_edge_detector() -> callable:\n",
    "    return partial(BoolSegmentEdgeDetector().detect_edge_indices(edge_type='rising'))\n",
    "\n",
    "def get_index_of_event(event_detector: callable, data_segment: np.ndarray) -> list[int]:\n",
    "    return event_detector(data_segment)\n",
    "\n",
    "# Should we use generators starting from here? How to separate that concern??\n",
    "\n",
    "def get_audio_ts_from_index(audio_segment: AudioSegment, index: int) -> tuple:\n",
    "    return audio_segment.get_ts_of_frame_index(index)\n",
    "\n",
    "def get_ts_of_index(audio_segment, ind: int) -> tuple[Union[int, float]]:\n",
    "        if not 0 <= ind < len(audio_segment.waveform):\n",
    "            raise IndexError(f'The index must be between 0 and {len(audio_segment.waveform)-1}.')\n",
    "        bt = audio_segment.bt + ind/len(audio_segment.waveform) * (audio_segment.tt-audio_segment.bt)\n",
    "        tt = audio_segment.bt + (ind+1)/len(audio_segment.waveform) * (audio_segment.tt-audio_segment.bt)\n",
    "        return (bt, tt)\n",
    "\n",
    "def get_bt_of_ts(ts: tuple):\n",
    "    return ts[0]\n",
    "\n",
    "def instanciate_audio_segment_buffer():\n",
    "    return AudioSegmentBuffer()\n",
    "\n",
    "def write_to_buffer(buffer, audio_segment: AudioSegment) -> None:\n",
    "    buffer.write_values(audio_segment)\n",
    "\n",
    "def read_buffer(buffer, ts) -> AudioSegment:\n",
    "    return buffer.read_values(ts)\n",
    "\n",
    "def convert_bytes_to_floats(bytes_: bytes):\n",
    "    pass\n",
    "    # Use recode here\n",
    "    # wf = np.array(decode_pcm_bytes(wf_bytes)\n",
    "\n",
    "def first_featurizer(audio_segments: list[AudioSegment]) -> list[float]:\n",
    "    pass"
   ]
  },
  {
   "cell_type": "code",
   "execution_count": 33,
   "metadata": {},
   "outputs": [],
   "source": [
    "from creek import BufferStats\n",
    "from collections import deque\n",
    "from recode import decode_pcm_bytes\n",
    "\n",
    "\n",
    "def identity(x):\n",
    "    return x\n",
    "bs = BufferStats(values = (-1,-1),maxlen=2, func=identity)"
   ]
  },
  {
   "cell_type": "code",
   "execution_count": 43,
   "metadata": {},
   "outputs": [
    {
     "name": "stdout",
     "output_type": "stream",
     "text": [
      "segment=[0 0 0 0 0] edges=[0 0 0 0 0] edges_ones_idx=[] ts_for_rising_edge=[] ts_for_falling_edge=[]\n",
      "segment=[0 0 0 0 0] edges=[0 0 0 0 0] edges_ones_idx=[] ts_for_rising_edge=[] ts_for_falling_edge=[]\n",
      "segment=[0 0 0 0 0] edges=[0 0 0 0 0] edges_ones_idx=[] ts_for_rising_edge=[] ts_for_falling_edge=[]\n",
      "segment=[0 0 0 0 0] edges=[0 0 0 0 0] edges_ones_idx=[] ts_for_rising_edge=[] ts_for_falling_edge=[]\n",
      "segment=[0 0 0 0 0] edges=[0 0 0 0 0] edges_ones_idx=[] ts_for_rising_edge=[] ts_for_falling_edge=[]\n",
      "segment=[0 0 0 0 0] edges=[0 0 0 0 0] edges_ones_idx=[] ts_for_rising_edge=[] ts_for_falling_edge=[]\n",
      "segment=[0 0 0 0 0] edges=[0 0 0 0 0] edges_ones_idx=[] ts_for_rising_edge=[] ts_for_falling_edge=[]\n",
      "segment=[0 0 0 0 0] edges=[0 0 0 0 0] edges_ones_idx=[] ts_for_rising_edge=[] ts_for_falling_edge=[]\n",
      "segment=[0 0 0 0 0] edges=[0 0 0 0 0] edges_ones_idx=[] ts_for_rising_edge=[] ts_for_falling_edge=[]\n",
      "segment=[0 0 0 0 0] edges=[0 0 0 0 0] edges_ones_idx=[] ts_for_rising_edge=[] ts_for_falling_edge=[]\n",
      "segment=[0 0 0 0 0] edges=[0 0 0 0 0] edges_ones_idx=[] ts_for_rising_edge=[] ts_for_falling_edge=[]\n",
      "segment=[0 0 0 0 1] edges=[0 0 0 0 1] edges_ones_idx=[4] ts_for_rising_edge=[('rising', (1140000.0, 1150000.0))] ts_for_falling_edge=[]\n",
      "segment=[1 0 0 0 0] edges=[ 0 -1  0  0  0] edges_ones_idx=[] ts_for_rising_edge=[] ts_for_falling_edge=[('falling', (1210000.0, 1220000.0))]\n",
      "segment=[0 0 0 0 0] edges=[0 0 0 0 0] edges_ones_idx=[] ts_for_rising_edge=[] ts_for_falling_edge=[]\n",
      "segment=[0 0 0 0 0] edges=[0 0 0 0 0] edges_ones_idx=[] ts_for_rising_edge=[] ts_for_falling_edge=[]\n",
      "segment=[0 0 0 0 0] edges=[0 0 0 0 0] edges_ones_idx=[] ts_for_rising_edge=[] ts_for_falling_edge=[]\n"
     ]
    }
   ],
   "source": [
    "# SLABS\n",
    "counter = 0\n",
    "with accel_source.stream_buffer(maxlen=None) as accel_buffer:\n",
    "    accel_reader = accel_buffer.mk_reader()\n",
    "    \n",
    "    with plc_source.stream_buffer(maxlen=None) as plc_buffer:\n",
    "        plc_reader = plc_buffer.mk_reader()\n",
    "        time.sleep(.1)\n",
    "        next_plc = partial(plc_reader.next, ignore_no_item_found=True)\n",
    "\n",
    "        slabs = Slabs(\n",
    "            wf_buffer = lambda: accel_reader,\n",
    "            plc_segment = next_plc,\n",
    "            last_plc = lambda plc_segment: plc_segment.waveform[-1] ,\n",
    "            view_segment = lambda plc_segment: plc_segment.waveform,\n",
    "            int_segment = lambda plc_segment: np.array(decode_pcm_bytes(plc_segment.waveform)),\n",
    "            bool_segment = lambda int_segment: (int_segment != 0).astype(int),\n",
    "            buffered_last = lambda bool_segment: bs(bool_segment[-1]), #(previous_last, current_last),\n",
    "\n",
    "            edges = lambda bool_segment, buffered_last: np.diff(bool_segment, prepend=buffered_last[0]),\n",
    "            edges_rising_idx = lambda edges: [i for i, x in enumerate(edges) if x == 1],\n",
    "            edges_falling_idx = lambda edges: [i for i, x in enumerate(edges) if x == -1],\n",
    "\n",
    "            ts_for_rising_edge = lambda edges_rising_idx, plc_segment: [('rising',get_ts_of_index(plc_segment, i)) for i in edges_rising_idx],\n",
    "            ts_for_falling_edge = lambda edges_falling_idx, plc_segment: [('falling',get_ts_of_index(plc_segment, i)) for i in edges_falling_idx],\n",
    "            begin_ts = lambda plc_segment: get_ts_of_index(plc_segment, 0),\n",
    "            end_ts = lambda plc_segment: get_ts_of_index(plc_segment, len(plc_segment.waveform)-1),\n",
    "            \n",
    "            #rising_edges_count_mod_2 = lambda edges: sum(x % 2 for x in edges if x==1),\n",
    "            #bool_plot = lambda bool_segment: simple_plot(bool_segment),\n",
    "\n",
    "            #sink = lambda last_plc: print(last_plc)\n",
    "        )\n",
    "\n",
    "        for s in slabs:\n",
    "            counter +=1\n",
    "            print(f'segment={s.get(\"bool_segment\")} edges={s.get(\"edges\")} edges_ones_idx={s.get(\"edges_rising_idx\")} ts_for_rising_edge={s.get(\"ts_for_rising_edge\")} ts_for_falling_edge={s.get(\"ts_for_falling_edge\")}')\n",
    "\n",
    "            if counter>15:\n",
    "                break\n",
    "            #if fvs is not None,:\n",
    "            #    print(f'{s.get('fvs')}')\n",
    "            # if (fvs := s.get('fvs')) is not None: \n",
    "            #     print(fvs)"
   ]
  },
  {
   "cell_type": "code",
   "execution_count": 28,
   "metadata": {},
   "outputs": [
    {
     "data": {
      "text/plain": [
       "b'\\x00\\x00\\x00\\x00\\x00\\x00\\x00\\x00\\x00\\x00'"
      ]
     },
     "execution_count": 28,
     "metadata": {},
     "output_type": "execute_result"
    }
   ],
   "source": [
    "next(plc_reader).waveform"
   ]
  },
  {
   "cell_type": "code",
   "execution_count": null,
   "metadata": {},
   "outputs": [],
   "source": [
    "def intervals_sequence(ts_for_rising_edge, ts_for_falling_edge):\n",
    "    pass\n",
    "\n",
    "def add_to_buffer(ts_for_rising_edge, ts_for_falling_edge, begin_ts, end_ts):\n",
    "    pass"
   ]
  },
  {
   "cell_type": "code",
   "execution_count": 39,
   "metadata": {},
   "outputs": [
    {
     "data": {
      "text/plain": [
       "[('rising', (0, 0.0001)),\n",
       " ('falling', (0.0003, 0.0004)),\n",
       " ('rising', (0.0004, 0.0005)),\n",
       " ('falling', (0.0006, 0.0007)),\n",
       " ('rising', (0.0007, 0.0008)),\n",
       " ('falling', (0.0009, 0.001))]"
      ]
     },
     "execution_count": 39,
     "metadata": {},
     "output_type": "execute_result"
    }
   ],
   "source": [
    "ts_for_rising_edge = [('rising', (0, 0.0001)), ('rising', (0.0004, 0.0005)), ('rising', (0.0007, 0.0008))]\n",
    "ts_for_falling_edge = [('falling', (0.0003, 0.0004)), ('falling', (0.0006, 0.0007)), ('falling', (0.0009, 0.0010))]\n",
    "\n",
    "def order_ts_for_edge(ts_for_rising_edge, ts_for_falling_edge):\n",
    "    ts_for_edge = ts_for_rising_edge + ts_for_falling_edge\n",
    "    return sorted(ts_for_edge, key=lambda x: x[1][0])\n",
    "\n",
    "def added_to_buffer(ts_for_rising_edge, ts_for_falling_edge, begin_ts, end_ts, write_state):\n",
    "    if (not ts_for_rising_edge and not ts_for_falling_edge) and write_state:\n",
    "        return [(begin_ts, end_ts)]\n",
    "    ts_for_edge = order_ts_for_edge(ts_for_rising_edge, ts_for_falling_edge)\n",
    "    if ts_for_edge and ts_for_edge[0][0] == 'falling':\n",
    "        return [(begin_ts, ts_for_edge[0][1][1])]\n",
    "    return None\n",
    "\n",
    "def update_buffer(buffer, new_buffer):\n",
    "    if buffer:\n",
    "        return buffer + new_buffer\n",
    "    else:\n",
    "        return buffer \n",
    "\n",
    "def release_buffer(ts_for_edge):\n",
    "    return ts_for_edge and ts_for_edge[0][0] == 'falling'\n",
    "\n",
    "def release_buffer():\n",
    "    pass\n",
    "\n",
    "order_ts_for_edge(ts_for_rising_edge, ts_for_falling_edge)"
   ]
  },
  {
   "cell_type": "code",
   "execution_count": 40,
   "metadata": {},
   "outputs": [
    {
     "name": "stdout",
     "output_type": "stream",
     "text": [
      "\u001b[0;31mInit signature:\u001b[0m\n",
      "\u001b[0mBufferStats\u001b[0m\u001b[0;34m(\u001b[0m\u001b[0;34m\u001b[0m\n",
      "\u001b[0;34m\u001b[0m    \u001b[0mvalues\u001b[0m\u001b[0;34m=\u001b[0m\u001b[0;34m(\u001b[0m\u001b[0;34m)\u001b[0m\u001b[0;34m,\u001b[0m\u001b[0;34m\u001b[0m\n",
      "\u001b[0;34m\u001b[0m    \u001b[0mmaxlen\u001b[0m\u001b[0;34m:\u001b[0m \u001b[0mint\u001b[0m \u001b[0;34m=\u001b[0m \u001b[0;34m<\u001b[0m\u001b[0mobject\u001b[0m \u001b[0mobject\u001b[0m \u001b[0mat\u001b[0m \u001b[0;36m0x7fc8181da930\u001b[0m\u001b[0;34m>\u001b[0m\u001b[0;34m,\u001b[0m\u001b[0;34m\u001b[0m\n",
      "\u001b[0;34m\u001b[0m    \u001b[0mfunc\u001b[0m\u001b[0;34m:\u001b[0m \u001b[0mCallable\u001b[0m \u001b[0;34m=\u001b[0m \u001b[0;34m<\u001b[0m\u001b[0mbuilt\u001b[0m\u001b[0;34m-\u001b[0m\u001b[0;32min\u001b[0m \u001b[0mfunction\u001b[0m \u001b[0msum\u001b[0m\u001b[0;34m>\u001b[0m\u001b[0;34m,\u001b[0m\u001b[0;34m\u001b[0m\n",
      "\u001b[0;34m\u001b[0m    \u001b[0madd_new_val\u001b[0m\u001b[0;34m:\u001b[0m \u001b[0mCallable\u001b[0m \u001b[0;34m=\u001b[0m \u001b[0;34m<\u001b[0m\u001b[0mmethod\u001b[0m \u001b[0;34m'append'\u001b[0m \u001b[0mof\u001b[0m \u001b[0;34m'collections.deque'\u001b[0m \u001b[0mobjects\u001b[0m\u001b[0;34m>\u001b[0m\u001b[0;34m,\u001b[0m\u001b[0;34m\u001b[0m\n",
      "\u001b[0;34m\u001b[0m\u001b[0;34m)\u001b[0m\u001b[0;34m\u001b[0m\u001b[0;34m\u001b[0m\u001b[0m\n",
      "\u001b[0;31mSource:\u001b[0m        \n",
      "\u001b[0;32mclass\u001b[0m \u001b[0mBufferStats\u001b[0m\u001b[0;34m(\u001b[0m\u001b[0mdeque\u001b[0m\u001b[0;34m)\u001b[0m\u001b[0;34m:\u001b[0m\u001b[0;34m\u001b[0m\n",
      "\u001b[0;34m\u001b[0m    \u001b[0;34m\"\"\"A callable (fifo) buffer. Calls add input to it, but also returns some results\u001b[0m\n",
      "\u001b[0;34m    computed from it's contents.\u001b[0m\n",
      "\u001b[0;34m\u001b[0m\n",
      "\u001b[0;34m    What \"add\" means is configurable (through ``add_new_val`` arg). Default\u001b[0m\n",
      "\u001b[0;34m    is append, but can be extend etc.\u001b[0m\n",
      "\u001b[0;34m\u001b[0m\n",
      "\u001b[0;34m    >>> bs = BufferStats(maxlen=4, func=sum)\u001b[0m\n",
      "\u001b[0;34m    >>> list(map(bs, range(7)))\u001b[0m\n",
      "\u001b[0;34m    [0, 1, 3, 6, 10, 14, 18]\u001b[0m\n",
      "\u001b[0;34m\u001b[0m\n",
      "\u001b[0;34m    See what happens when you feed the same sequence again:\u001b[0m\n",
      "\u001b[0;34m\u001b[0m\n",
      "\u001b[0;34m    >>> list(map(bs, range(7)))\u001b[0m\n",
      "\u001b[0;34m    [15, 12, 9, 6, 10, 14, 18]\u001b[0m\n",
      "\u001b[0;34m\u001b[0m\n",
      "\u001b[0;34m    More examples:\u001b[0m\n",
      "\u001b[0;34m\u001b[0m\n",
      "\u001b[0;34m    >>> list(map(BufferStats(maxlen=4, func=''.join), 'abcdefgh'))\u001b[0m\n",
      "\u001b[0;34m    ['a', 'ab', 'abc', 'abcd', 'bcde', 'cdef', 'defg', 'efgh']\u001b[0m\n",
      "\u001b[0;34m\u001b[0m\n",
      "\u001b[0;34m    >>> from math import prod\u001b[0m\n",
      "\u001b[0;34m    >>> list(map(BufferStats(maxlen=4, func=prod), range(7)))\u001b[0m\n",
      "\u001b[0;34m    [0, 0, 0, 0, 24, 120, 360]\u001b[0m\n",
      "\u001b[0;34m\u001b[0m\n",
      "\u001b[0;34m    With a different ``add_new_val`` choice.\u001b[0m\n",
      "\u001b[0;34m\u001b[0m\n",
      "\u001b[0;34m    >>> bs = BufferStats(maxlen=4, func=''.join, add_new_val=deque.appendleft)\u001b[0m\n",
      "\u001b[0;34m    >>> list(map(bs, 'abcdefgh'))\u001b[0m\n",
      "\u001b[0;34m    ['a', 'ba', 'cba', 'dcba', 'edcb', 'fedc', 'gfed', 'hgfe']\u001b[0m\n",
      "\u001b[0;34m\u001b[0m\n",
      "\u001b[0;34m    With ``add_new_val=deque.extend``, data can be fed in chunks.\u001b[0m\n",
      "\u001b[0;34m    In the following, also see how we use iterize to get a function that\u001b[0m\n",
      "\u001b[0;34m    takes an iterator and returns an iterator\u001b[0m\n",
      "\u001b[0;34m\u001b[0m\n",
      "\u001b[0;34m    >>> from creek.util import iterize\u001b[0m\n",
      "\u001b[0;34m    >>> window_stats = iterize(BufferStats(\u001b[0m\n",
      "\u001b[0;34m    ...     maxlen=4, func=''.join, add_new_val=deque.extend)\u001b[0m\n",
      "\u001b[0;34m    ... )\u001b[0m\n",
      "\u001b[0;34m    >>> chks = ['a', 'bc', 'def', 'gh']\u001b[0m\n",
      "\u001b[0;34m    >>> for x in window_stats(chks):\u001b[0m\n",
      "\u001b[0;34m    ...     print(x)\u001b[0m\n",
      "\u001b[0;34m    a\u001b[0m\n",
      "\u001b[0;34m    abc\u001b[0m\n",
      "\u001b[0;34m    cdef\u001b[0m\n",
      "\u001b[0;34m    efgh\u001b[0m\n",
      "\u001b[0;34m\u001b[0m\n",
      "\u001b[0;34m    Note: To those who might think that they can optimize this for special\u001b[0m\n",
      "\u001b[0;34m    cases: Yes you can.\u001b[0m\n",
      "\u001b[0;34m    But SHOULD you? Is it worth the increase in complexity and reduction in\u001b[0m\n",
      "\u001b[0;34m    flexibility?\u001b[0m\n",
      "\u001b[0;34m    See https://github.com/thorwhalen/umpyre/blob/master/misc/performance_of_rolling_window_stats.md\u001b[0m\n",
      "\u001b[0;34m\u001b[0m\n",
      "\u001b[0;34m    \"\"\"\u001b[0m\u001b[0;34m\u001b[0m\n",
      "\u001b[0;34m\u001b[0m\u001b[0;34m\u001b[0m\n",
      "\u001b[0;34m\u001b[0m    \u001b[0;31m# __name__ = 'BufferStats'\u001b[0m\u001b[0;34m\u001b[0m\n",
      "\u001b[0;34m\u001b[0m\u001b[0;34m\u001b[0m\n",
      "\u001b[0;34m\u001b[0m    \u001b[0;32mdef\u001b[0m \u001b[0m__init__\u001b[0m\u001b[0;34m(\u001b[0m\u001b[0;34m\u001b[0m\n",
      "\u001b[0;34m\u001b[0m        \u001b[0mself\u001b[0m\u001b[0;34m,\u001b[0m\u001b[0;34m\u001b[0m\n",
      "\u001b[0;34m\u001b[0m        \u001b[0mvalues\u001b[0m\u001b[0;34m=\u001b[0m\u001b[0;34m(\u001b[0m\u001b[0;34m)\u001b[0m\u001b[0;34m,\u001b[0m\u001b[0;34m\u001b[0m\n",
      "\u001b[0;34m\u001b[0m        \u001b[0mmaxlen\u001b[0m\u001b[0;34m:\u001b[0m \u001b[0mint\u001b[0m \u001b[0;34m=\u001b[0m \u001b[0m_no_value_specified_sentinel\u001b[0m\u001b[0;34m,\u001b[0m\u001b[0;34m\u001b[0m\n",
      "\u001b[0;34m\u001b[0m        \u001b[0mfunc\u001b[0m\u001b[0;34m:\u001b[0m \u001b[0mCallable\u001b[0m \u001b[0;34m=\u001b[0m \u001b[0msum\u001b[0m\u001b[0;34m,\u001b[0m\u001b[0;34m\u001b[0m\n",
      "\u001b[0;34m\u001b[0m        \u001b[0madd_new_val\u001b[0m\u001b[0;34m:\u001b[0m \u001b[0mCallable\u001b[0m \u001b[0;34m=\u001b[0m \u001b[0mdeque\u001b[0m\u001b[0;34m.\u001b[0m\u001b[0mappend\u001b[0m\u001b[0;34m,\u001b[0m\u001b[0;34m\u001b[0m\n",
      "\u001b[0;34m\u001b[0m        \u001b[0;31m# *,\u001b[0m\u001b[0;34m\u001b[0m\n",
      "\u001b[0;34m\u001b[0m        \u001b[0;31m# func_cond=always_true,\u001b[0m\u001b[0;34m\u001b[0m\n",
      "\u001b[0;34m\u001b[0m    \u001b[0;34m)\u001b[0m\u001b[0;34m:\u001b[0m\u001b[0;34m\u001b[0m\n",
      "\u001b[0;34m\u001b[0m        \u001b[0;34m\"\"\"\u001b[0m\n",
      "\u001b[0;34m\u001b[0m\n",
      "\u001b[0;34m        :param maxlen: Size of the buffer\u001b[0m\n",
      "\u001b[0;34m        :param func: The function to be computed (on buffer contents) and\u001b[0m\n",
      "\u001b[0;34m        returned when buffer is \"called\"\u001b[0m\n",
      "\u001b[0;34m        :param add_new_val: The function that adds values on the buffer.\u001b[0m\n",
      "\u001b[0;34m        Signature must be (self, new_val)\u001b[0m\n",
      "\u001b[0;34m            Is usually a deque method (``deque.append`` by default, but could\u001b[0m\n",
      "\u001b[0;34m            be ``deque.extend``, ``deque.appendleft`` etc.).\u001b[0m\n",
      "\u001b[0;34m            Can also be any other function that\u001b[0m\n",
      "\u001b[0;34m            has a valid (self, new_val) signature.\u001b[0m\n",
      "\u001b[0;34m        \"\"\"\u001b[0m\u001b[0;34m\u001b[0m\n",
      "\u001b[0;34m\u001b[0m        \u001b[0;32mif\u001b[0m \u001b[0mmaxlen\u001b[0m \u001b[0;32mis\u001b[0m \u001b[0m_no_value_specified_sentinel\u001b[0m\u001b[0;34m:\u001b[0m\u001b[0;34m\u001b[0m\n",
      "\u001b[0;34m\u001b[0m            \u001b[0;32mraise\u001b[0m \u001b[0mTypeError\u001b[0m\u001b[0;34m(\u001b[0m\u001b[0;34m'You are required to specify maxlen'\u001b[0m\u001b[0;34m)\u001b[0m\u001b[0;34m\u001b[0m\n",
      "\u001b[0;34m\u001b[0m        \u001b[0;32mif\u001b[0m \u001b[0;32mnot\u001b[0m \u001b[0misinstance\u001b[0m\u001b[0;34m(\u001b[0m\u001b[0mmaxlen\u001b[0m\u001b[0;34m,\u001b[0m \u001b[0mint\u001b[0m\u001b[0;34m)\u001b[0m\u001b[0;34m:\u001b[0m\u001b[0;34m\u001b[0m\n",
      "\u001b[0;34m\u001b[0m            \u001b[0;32mraise\u001b[0m \u001b[0mTypeError\u001b[0m\u001b[0;34m(\u001b[0m\u001b[0;34mf'maxlen must be an integer, was: {maxlen}'\u001b[0m\u001b[0;34m)\u001b[0m\u001b[0;34m\u001b[0m\n",
      "\u001b[0;34m\u001b[0m\u001b[0;34m\u001b[0m\n",
      "\u001b[0;34m\u001b[0m        \u001b[0msuper\u001b[0m\u001b[0;34m(\u001b[0m\u001b[0;34m)\u001b[0m\u001b[0;34m.\u001b[0m\u001b[0m__init__\u001b[0m\u001b[0;34m(\u001b[0m\u001b[0mvalues\u001b[0m\u001b[0;34m,\u001b[0m \u001b[0mmaxlen\u001b[0m\u001b[0;34m=\u001b[0m\u001b[0mmaxlen\u001b[0m\u001b[0;34m)\u001b[0m\u001b[0;34m\u001b[0m\n",
      "\u001b[0;34m\u001b[0m        \u001b[0mself\u001b[0m\u001b[0;34m.\u001b[0m\u001b[0mfunc\u001b[0m \u001b[0;34m=\u001b[0m \u001b[0mfunc\u001b[0m\u001b[0;34m\u001b[0m\n",
      "\u001b[0;34m\u001b[0m        \u001b[0;32mif\u001b[0m \u001b[0misinstance\u001b[0m\u001b[0;34m(\u001b[0m\u001b[0madd_new_val\u001b[0m\u001b[0;34m,\u001b[0m \u001b[0mstr\u001b[0m\u001b[0;34m)\u001b[0m\u001b[0;34m:\u001b[0m\u001b[0;34m\u001b[0m\n",
      "\u001b[0;34m\u001b[0m            \u001b[0;31m# assume add_new_val is a method of deque:\u001b[0m\u001b[0;34m\u001b[0m\n",
      "\u001b[0;34m\u001b[0m            \u001b[0madd_new_val\u001b[0m \u001b[0;34m=\u001b[0m \u001b[0mgetattr\u001b[0m\u001b[0;34m(\u001b[0m\u001b[0mself\u001b[0m\u001b[0;34m,\u001b[0m \u001b[0madd_new_val\u001b[0m\u001b[0;34m)\u001b[0m\u001b[0;34m\u001b[0m\n",
      "\u001b[0;34m\u001b[0m        \u001b[0mself\u001b[0m\u001b[0;34m.\u001b[0m\u001b[0madd_new_val\u001b[0m \u001b[0;34m=\u001b[0m \u001b[0madd_new_val\u001b[0m\u001b[0;34m\u001b[0m\n",
      "\u001b[0;34m\u001b[0m        \u001b[0mself\u001b[0m\u001b[0;34m.\u001b[0m\u001b[0m__name__\u001b[0m \u001b[0;34m=\u001b[0m \u001b[0;34m'BufferStats'\u001b[0m\u001b[0;34m\u001b[0m\n",
      "\u001b[0;34m\u001b[0m        \u001b[0;31m# self.func_cond = func_cond\u001b[0m\u001b[0;34m\u001b[0m\n",
      "\u001b[0;34m\u001b[0m\u001b[0;34m\u001b[0m\n",
      "\u001b[0;34m\u001b[0m    \u001b[0;32mdef\u001b[0m \u001b[0m__call__\u001b[0m\u001b[0;34m(\u001b[0m\u001b[0mself\u001b[0m\u001b[0;34m,\u001b[0m \u001b[0mnew_val\u001b[0m\u001b[0;34m)\u001b[0m \u001b[0;34m->\u001b[0m \u001b[0mStats\u001b[0m\u001b[0;34m:\u001b[0m\u001b[0;34m\u001b[0m\n",
      "\u001b[0;34m\u001b[0m        \u001b[0mself\u001b[0m\u001b[0;34m.\u001b[0m\u001b[0madd_new_val\u001b[0m\u001b[0;34m(\u001b[0m\u001b[0mself\u001b[0m\u001b[0;34m,\u001b[0m \u001b[0mnew_val\u001b[0m\u001b[0;34m)\u001b[0m  \u001b[0;31m# add the new value\u001b[0m\u001b[0;34m\u001b[0m\n",
      "\u001b[0;34m\u001b[0m        \u001b[0;32mreturn\u001b[0m \u001b[0mself\u001b[0m\u001b[0;34m.\u001b[0m\u001b[0mfunc\u001b[0m\u001b[0;34m(\u001b[0m\u001b[0mself\u001b[0m\u001b[0;34m)\u001b[0m\u001b[0;34m\u001b[0m\n",
      "\u001b[0;34m\u001b[0m        \u001b[0;31m# if self.func_cond(self):\u001b[0m\u001b[0;34m\u001b[0m\n",
      "\u001b[0;34m\u001b[0m        \u001b[0;31m#     return self.func(self)\u001b[0m\u001b[0;34m\u001b[0m\u001b[0;34m\u001b[0m\u001b[0m\n",
      "\u001b[0;31mFile:\u001b[0m           ~/Desktop/dev/otosense/creek/creek/tools.py\n",
      "\u001b[0;31mType:\u001b[0m           type\n",
      "\u001b[0;31mSubclasses:\u001b[0m     "
     ]
    }
   ],
   "source": [
    "BufferStats??"
   ]
  },
  {
   "cell_type": "code",
   "execution_count": 13,
   "metadata": {},
   "outputs": [],
   "source": [
    "class accumulate:\n",
    "    def __init__(self, func, start_value, **kwargs):\n",
    "        self.func = func\n",
    "        self.kwargs = kwargs\n",
    "        self.start_value = start_value\n",
    "        self.state = start_value\n",
    "\n",
    "    def __call__(self, x):\n",
    "        self.state = self.func(self.state, x, **self.kwargs)\n",
    "        return self.state"
   ]
  },
  {
   "cell_type": "code",
   "execution_count": 18,
   "metadata": {},
   "outputs": [],
   "source": [
    "def adder(x,y):\n",
    "    return x + y"
   ]
  },
  {
   "cell_type": "code",
   "execution_count": 15,
   "metadata": {},
   "outputs": [],
   "source": [
    "arr = [1,2,3,4,5]"
   ]
  },
  {
   "cell_type": "code",
   "execution_count": 19,
   "metadata": {},
   "outputs": [],
   "source": [
    "acc = accumulate(adder, 0)"
   ]
  },
  {
   "cell_type": "code",
   "execution_count": 20,
   "metadata": {},
   "outputs": [
    {
     "data": {
      "text/plain": [
       "[1, 3, 6, 10, 15]"
      ]
     },
     "execution_count": 20,
     "metadata": {},
     "output_type": "execute_result"
    }
   ],
   "source": [
    "list(map(acc, arr))"
   ]
  },
  {
   "cell_type": "code",
   "execution_count": null,
   "metadata": {},
   "outputs": [],
   "source": []
  }
 ],
 "metadata": {
  "kernelspec": {
   "display_name": "Python 3",
   "language": "python",
   "name": "python3"
  },
  "language_info": {
   "codemirror_mode": {
    "name": "ipython",
    "version": 3
   },
   "file_extension": ".py",
   "mimetype": "text/x-python",
   "name": "python",
   "nbconvert_exporter": "python",
   "pygments_lexer": "ipython3",
   "version": "3.10.0"
  },
  "orig_nbformat": 4
 },
 "nbformat": 4,
 "nbformat_minor": 2
}
