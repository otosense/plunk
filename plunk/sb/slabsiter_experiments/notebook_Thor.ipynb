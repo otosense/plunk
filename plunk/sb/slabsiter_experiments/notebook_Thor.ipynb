{
 "cells": [
  {
   "attachments": {},
   "cell_type": "markdown",
   "metadata": {},
   "source": [
    "# Load data"
   ]
  },
  {
   "cell_type": "code",
   "execution_count": 1,
   "metadata": {},
   "outputs": [],
   "source": [
    "import time\n",
    "from functools import partial\n",
    "from pprint import pprint\n",
    "from typing import Literal\n",
    "\n",
    "from audiostream2py.file import WavFileSourceReader #check if Charlie's branch is used\n",
    "from audiostream2py.data import AudioSegment\n",
    "from meshed.slabs import Slabs\n",
    "import numpy as np\n",
    "\n",
    "from pyckup import grab\n"
   ]
  },
  {
   "cell_type": "code",
   "execution_count": 2,
   "metadata": {},
   "outputs": [],
   "source": [
    "\n",
    "\n",
    "plc_url = 'https://www.dropbox.com/s/pwjw0o5ox91nvi2/PLC.wav?dl=0'\n",
    "wf_url = 'https://www.dropbox.com/s/lxo226rft2h94nf/wf.wav?dl=0'\n",
    "\n",
    "#wf = graze(wf_url)\n",
    "plc_bytes = grab(plc_url)\n",
    "wf_bytes = grab(wf_url)"
   ]
  },
  {
   "cell_type": "code",
   "execution_count": 3,
   "metadata": {},
   "outputs": [],
   "source": [
    "#plc_file = PLUNK_ROOT_PATH / 'sb/slabsiter_experiments/data/PLC.wav'\n",
    "#accel_file = PLUNK_ROOT_PATH / 'sb/slabsiter_experiments/data/1621346260226336_ch2.wav'\n",
    "\n",
    "#plc_file = 'data/PLC.wav'\n",
    "#accel_file = 'data/1621346260226336_ch2.wav'\n",
    "\n",
    "plc_file = plc_bytes\n",
    "accel_file = wf_bytes\n",
    "\n",
    "#assert plc_file.is_file(), f'File not found: {plc_file}'\n",
    "#assert accel_file.is_file(), f'File not found: {accel_file}'\n",
    "\n",
    "plc_source = WavFileSourceReader(plc_file, frames_per_buffer=5, start_date=0)\n",
    "accel_source = WavFileSourceReader(accel_file, frames_per_buffer=12800, start_date=0)\n",
    "\n",
    "# print('plc info:')\n",
    "# pprint(plc_source.info)\n",
    "# print('accel info:')\n",
    "# pprint(accel_source.info)"
   ]
  },
  {
   "cell_type": "code",
   "execution_count": 60,
   "metadata": {},
   "outputs": [],
   "source": [
    "# Charlie's code\n",
    "class BoolSegmentEdgeDetector:\n",
    "    last_sample_of_previous_segment = None\n",
    "    \n",
    "    def detect_edge_indices(\n",
    "        self, bool_segment: np.ndarray, edge_type: Literal['rising', 'falling', 'both']\n",
    "    ) -> list:\n",
    "        if edge_type not in ['rising', 'falling', 'both']:\n",
    "            raise ValueError(\n",
    "                \"Valid values for edge_type parameter are 'rising', 'falling', and 'both'.\"\n",
    "            )\n",
    "        if self.last_sample_of_previous_segment is not None:\n",
    "            bool_segment = np.insert(bool_segment, 0, self.last_sample_of_previous_segment)\n",
    "        self.last_sample_of_previous_segment = bool_segment[-1]\n",
    "\n",
    "        int_segment = bool_segment.astype(int)\n",
    "        edges = np.diff(int_segment)\n",
    "        if edge_type == 'rising':\n",
    "            return np.nonzero(edges == 1)[0].tolist()\n",
    "        elif edge_type == 'falling':\n",
    "            return np.nonzero(edges == -1)[0].tolist()\n",
    "        else:\n",
    "            return np.nonzero(edges)[0].tolist()\n",
    "\n",
    "def safe_concatenate(seg1, seg2):\n",
    "    if not seg1:\n",
    "        return seg2\n",
    "    elif not seg2:\n",
    "        return seg1\n",
    "    else:\n",
    "        #return np.concatenate((seg1, seg2))\n",
    "        return seg1 + seg2\n",
    "\n",
    "def add_segments(segment1: AudioSegment, segment2: AudioSegment) -> AudioSegment: \n",
    "\n",
    "    if segment1 is None or segment1.is_empty():\n",
    "        return segment2\n",
    "    elif segment2 is None or segment2.is_empty():\n",
    "        return segment1\n",
    "    else:\n",
    "        start = segment1.start_date\n",
    "        end = segment1.end_date\n",
    "        #print(f'{segment1.waveform.shape=} {segment2.waveform.shape=}')\n",
    "        waveform = safe_concatenate(segment1.waveform, segment2.waveform)\n",
    "        frame_count = segment1.frame_count + segment2.frame_count\n",
    "        status_flags = segment2.status_flags\n",
    "        return AudioSegment(start, end, waveform, frame_count, status_flags)\n",
    "\n",
    "class AudioSegmentBuffer:\n",
    "    write_state = False\n",
    "    buffered_segment = AudioSegment.empty()\n",
    "\n",
    "    def read_values(self, ts):\n",
    "        if not self.write_state:\n",
    "            self.write_state = True\n",
    "            return None\n",
    "        values = self.buffered_segment[:ts]\n",
    "        self.buffered_segment = self.buffered_segment[ts:]\n",
    "        \n",
    "        return values\n",
    "    \n",
    "    def flush(self):\n",
    "        self.write_state = False\n",
    "        result = self.buffered_segment\n",
    "        self.buffered_segment = AudioSegment.empty()\n",
    "        return result\n",
    "\n",
    "    def write_values(self, incoming_segment: AudioSegment):\n",
    "        if self.write_state:\n",
    "            self.buffered_segment = add_segments(self.buffered_segment, incoming_segment)\n",
    "            #self.buffered_segment += incoming_segment"
   ]
  },
  {
   "cell_type": "code",
   "execution_count": 41,
   "metadata": {},
   "outputs": [
    {
     "data": {
      "text/plain": [
       "True"
      ]
     },
     "execution_count": 41,
     "metadata": {},
     "output_type": "execute_result"
    }
   ],
   "source": [
    "void_segment   = AudioSegment.empty()\n",
    "void_segment.is_empty()\n",
    "#seg = void_segment.waveform\n",
    "#np.concatenate((seg, seg))\n",
    "\n"
   ]
  },
  {
   "cell_type": "code",
   "execution_count": 28,
   "metadata": {},
   "outputs": [
    {
     "data": {
      "text/plain": [
       "b''"
      ]
     },
     "execution_count": 28,
     "metadata": {},
     "output_type": "execute_result"
    }
   ],
   "source": [
    "safe_concatenate(seg, seg)"
   ]
  },
  {
   "cell_type": "code",
   "execution_count": 46,
   "metadata": {},
   "outputs": [],
   "source": [
    "from typing import Union, Tuple, List\n",
    "\n",
    "def get_bytes_of_audio_segment(audio_segment: AudioSegment) -> bytes:\n",
    "    return audio_segment.waveform\n",
    "\n",
    "def convert_bytes_to_array(bytes_: bytes, dtype: type) -> np.ndarray:\n",
    "    return np.frombuffer(bytes_, dtype=dtype)\n",
    "\n",
    "def convert_array_to_bool(array: np.ndarray) -> np.ndarray:\n",
    "    return array != 0  \n",
    "\n",
    "def instantiate_rising_edge_detector() -> callable:\n",
    "    return partial(BoolSegmentEdgeDetector().detect_edge_indices,edge_type='rising')\n",
    "\n",
    "def get_index_of_event(event_detector: callable, data_segment: np.ndarray) -> list[int]: #this is the apply function\n",
    "    return event_detector(data_segment)\n",
    "\n",
    "# Should we use generators starting from here? How to separate that concern??\n",
    "\n",
    "def get_audio_ts_from_index(audio_segment: AudioSegment, index: int) -> tuple:\n",
    "    return audio_segment.get_ts_of_frame_index(index)\n",
    "\n",
    "def get_ts_of_index(audio_segment, ind: int) -> Tuple[Union[int, float]]:\n",
    "        if not 0 <= ind < len(audio_segment.waveform):\n",
    "            raise IndexError(f'The index must be between 0 and {len(audio_segment.waveform)-1}.')\n",
    "        bt = audio_segment.bt + ind/len(audio_segment.waveform) * (audio_segment.tt-audio_segment.bt)\n",
    "        tt = audio_segment.bt + (ind+1)/len(audio_segment.waveform) * (audio_segment.tt-audio_segment.bt)\n",
    "        return (bt, tt)\n",
    "\n",
    "def get_bt_of_ts(ts: tuple):\n",
    "    return ts[0]\n",
    "\n",
    "def instanciate_audio_segment_buffer():\n",
    "    return AudioSegmentBuffer()\n",
    "\n",
    "def write_to_buffer(buffer, audio_segment: AudioSegment) -> None:\n",
    "    buffer.write_values(audio_segment)\n",
    "\n",
    "def read_buffer(buffer, ts) -> AudioSegment:\n",
    "    if ts:\n",
    "        ts_item = ts[0]\n",
    "        values = buffer.read_values(ts_item)\n",
    "        return values\n",
    "    return None\n",
    "    #return buffer.read_values(ts)\n",
    "\n",
    "def convert_bytes_to_floats(bytes_: bytes):\n",
    "    pass\n",
    "    # Use recode here\n",
    "    # wf = np.array(decode_pcm_bytes(wf_bytes)\n",
    "\n",
    "def first_featurizer(audio_segments: list[AudioSegment]) -> list[float]:\n",
    "    pass"
   ]
  },
  {
   "cell_type": "code",
   "execution_count": 6,
   "metadata": {},
   "outputs": [],
   "source": [
    "from creek import BufferStats\n",
    "from collections import deque\n",
    "from recode import decode_pcm_bytes\n",
    "\n",
    "\n",
    "def identity(x):\n",
    "    return x\n",
    "bs = BufferStats(values = (-1,-1),maxlen=2, func=identity)"
   ]
  },
  {
   "cell_type": "code",
   "execution_count": 7,
   "metadata": {},
   "outputs": [
    {
     "data": {
      "text/plain": [
       "[1]"
      ]
     },
     "execution_count": 7,
     "metadata": {},
     "output_type": "execute_result"
    }
   ],
   "source": [
    "edge_detector = instantiate_rising_edge_detector()\n",
    "edge_detector(np.array([True, False, True]))"
   ]
  },
  {
   "cell_type": "code",
   "execution_count": 108,
   "metadata": {},
   "outputs": [],
   "source": [
    "from meshed.util import if_then_else\n",
    "\n",
    "# def add_buffer_and_possibly_release(wf_chunk, plc_chunk, buffer):\n",
    "#     add_to_buffer(wf_chunk, buffer)\n",
    "#     print(plc_chunk['a'])\n",
    "#     if plc_chunk['a'] == 4:\n",
    "#         return release_buffer(buffer)\n",
    "\n",
    "def clear_deque_and_release():\n",
    "    result = list(rising_events)\n",
    "    rising_events.clear()\n",
    "    return result\n",
    "\n",
    "cond_func = partial(\n",
    "    if_then_else,\n",
    "    if_func=lambda rising_deque: len(list(rising_deque)) >=2,\n",
    "    #then_func=clear_deque_and_release,\n",
    "    then_func=lambda : \"deque is full\",\n",
    "    else_func=lambda : \"deque is not full\"\n",
    ")\n",
    "\n",
    "def add_to_deque_and_return(d, items):\n",
    "    d.extend(items)\n",
    "    return d\n",
    "\n"
   ]
  },
  {
   "cell_type": "code",
   "execution_count": 109,
   "metadata": {},
   "outputs": [
    {
     "ename": "TypeError",
     "evalue": "<lambda>() got an unexpected keyword argument 'kwargs'",
     "output_type": "error",
     "traceback": [
      "\u001b[0;31m---------------------------------------------------------------------------\u001b[0m",
      "\u001b[0;31mTypeError\u001b[0m                                 Traceback (most recent call last)",
      "Cell \u001b[0;32mIn[109], line 50\u001b[0m\n\u001b[1;32m     14\u001b[0m rising_events \u001b[39m=\u001b[39m deque()\n\u001b[1;32m     16\u001b[0m slabs \u001b[39m=\u001b[39m Slabs(\n\u001b[1;32m     17\u001b[0m     wf_buffer \u001b[39m=\u001b[39m \u001b[39mlambda\u001b[39;00m: accel_reader,\n\u001b[1;32m     18\u001b[0m     wf_segment \u001b[39m=\u001b[39m next_wf,\n\u001b[0;32m   (...)\u001b[0m\n\u001b[1;32m     47\u001b[0m     \u001b[39m#sink = lambda last_plc: print(last_plc)\u001b[39;00m\n\u001b[1;32m     48\u001b[0m )\n\u001b[0;32m---> 50\u001b[0m \u001b[39mfor\u001b[39;00m s \u001b[39min\u001b[39;00m slabs:\n\u001b[1;32m     51\u001b[0m     counter \u001b[39m+\u001b[39m\u001b[39m=\u001b[39m\u001b[39m1\u001b[39m\n\u001b[1;32m     52\u001b[0m     \u001b[39m#if len(edges_charlie := s.get('edges_charlie')) > 0:\u001b[39;00m\n\u001b[1;32m     53\u001b[0m         \u001b[39m#print(last_msg)\u001b[39;00m\n\u001b[1;32m     54\u001b[0m         \u001b[39m#print(f'wf_buffer = {s.get(\"wf_buffer\")} segment={s.get(\"bool_segment\")} edges={s.get(\"edges\")} edges_rising_charlie={s.get(\"edges_charlie\")} bt_rising={s.get(\"bt_rising\")} written={s.get(\"written_to_buffer\")} read={s.get(\"read_from_buffer\")}')\u001b[39;00m\n\u001b[0;32m   (...)\u001b[0m\n\u001b[1;32m     58\u001b[0m     \u001b[39m#last_msg = f'segment={s.get(\"bool_segment\")} edges={s.get(\"edges\")} edges_rising_charlie={s.get(\"edges_charlie\")}'\u001b[39;00m\n\u001b[1;32m     59\u001b[0m     \u001b[39m#print(f'edges_rising_charlie={s.get(\"edges_charlie\")} read_from_buffer= {s.get(\"read_from_buffer\")} written_segment = {s.get(\"written_to_buffer\")}')\u001b[39;00m\n",
      "File \u001b[0;32m~/Desktop/dev/otosense/meshed/meshed/slabs.py:403\u001b[0m, in \u001b[0;36mSlabs.__iter__\u001b[0;34m(self)\u001b[0m\n\u001b[1;32m    401\u001b[0m \u001b[39mwhile\u001b[39;00m \u001b[39mTrue\u001b[39;00m:  \u001b[39m# loop until you encounter a handled exception\u001b[39;00m\n\u001b[1;32m    402\u001b[0m     \u001b[39mtry\u001b[39;00m:\n\u001b[0;32m--> 403\u001b[0m         \u001b[39myield\u001b[39;00m \u001b[39mnext\u001b[39;49m(\u001b[39mself\u001b[39;49m)\n\u001b[1;32m    404\u001b[0m     \u001b[39mexcept\u001b[39;00m \u001b[39mself\u001b[39m\u001b[39m.\u001b[39m_handled_exception_types \u001b[39mas\u001b[39;00m exc_val:\n\u001b[1;32m    405\u001b[0m         handler_output \u001b[39m=\u001b[39m _handle_exception(\n\u001b[1;32m    406\u001b[0m             \u001b[39mself\u001b[39m, exc_val, \u001b[39mself\u001b[39m\u001b[39m.\u001b[39mhandle_exceptions\n\u001b[1;32m    407\u001b[0m         )\n",
      "File \u001b[0;32m~/Desktop/dev/otosense/meshed/meshed/slabs.py:394\u001b[0m, in \u001b[0;36mSlabs.__next__\u001b[0;34m(self)\u001b[0m\n\u001b[1;32m    389\u001b[0m \u001b[39mdef\u001b[39;00m \u001b[39m__next__\u001b[39m(\u001b[39mself\u001b[39m):\n\u001b[1;32m    390\u001b[0m \u001b[39m    \u001b[39m\u001b[39m\"\"\"Get the next slab by calling _call_on_scope on an new empty scope.\u001b[39;00m\n\u001b[1;32m    391\u001b[0m \u001b[39m    At least one of the components will have to be argument-less and provide\u001b[39;00m\n\u001b[1;32m    392\u001b[0m \u001b[39m    some data for other components to get their inputs from, if any are needed.\u001b[39;00m\n\u001b[1;32m    393\u001b[0m \u001b[39m    \"\"\"\u001b[39;00m\n\u001b[0;32m--> 394\u001b[0m     \u001b[39mreturn\u001b[39;00m \u001b[39mself\u001b[39;49m\u001b[39m.\u001b[39;49m_call_on_scope(scope\u001b[39m=\u001b[39;49m\u001b[39mself\u001b[39;49m\u001b[39m.\u001b[39;49mscope_factory())\n",
      "File \u001b[0;32m~/Desktop/dev/otosense/meshed/meshed/slabs.py:386\u001b[0m, in \u001b[0;36mSlabs._call_on_scope\u001b[0;34m(self, scope)\u001b[0m\n\u001b[1;32m    382\u001b[0m \u001b[39m# for each component\u001b[39;00m\n\u001b[1;32m    383\u001b[0m \u001b[39mfor\u001b[39;00m name, component \u001b[39min\u001b[39;00m \u001b[39mself\u001b[39m\u001b[39m.\u001b[39mcomponents\u001b[39m.\u001b[39mitems():\n\u001b[1;32m    384\u001b[0m     \u001b[39m# call the component using scope to source any arguments it needs\u001b[39;00m\n\u001b[1;32m    385\u001b[0m     \u001b[39m# and write the result in scope, under the component's name.\u001b[39;00m\n\u001b[0;32m--> 386\u001b[0m     scope[name] \u001b[39m=\u001b[39m _call_from_dict(scope, component, \u001b[39mself\u001b[39;49m\u001b[39m.\u001b[39;49msigs[name])\n\u001b[1;32m    387\u001b[0m \u001b[39mreturn\u001b[39;00m scope\n",
      "File \u001b[0;32m~/Desktop/dev/otosense/meshed/meshed/slabs.py:182\u001b[0m, in \u001b[0;36m_call_from_dict\u001b[0;34m(kwargs, func, sig)\u001b[0m\n\u001b[1;32m    156\u001b[0m \u001b[39m\u001b[39m\u001b[39m\"\"\"A i2.call_forgivingly optimized for our purpose\u001b[39;00m\n\u001b[1;32m    157\u001b[0m \n\u001b[1;32m    158\u001b[0m \u001b[39mThe sig argument needs to be the Sig(func) to work correctly.\u001b[39;00m\n\u001b[0;32m   (...)\u001b[0m\n\u001b[1;32m    173\u001b[0m \n\u001b[1;32m    174\u001b[0m \u001b[39m\"\"\"\u001b[39;00m\n\u001b[1;32m    175\u001b[0m args, kwargs \u001b[39m=\u001b[39m sig\u001b[39m.\u001b[39margs_and_kwargs_from_kwargs(\n\u001b[1;32m    176\u001b[0m     kwargs,\n\u001b[1;32m    177\u001b[0m     allow_excess\u001b[39m=\u001b[39m\u001b[39mTrue\u001b[39;00m,\n\u001b[0;32m   (...)\u001b[0m\n\u001b[1;32m    180\u001b[0m     apply_defaults\u001b[39m=\u001b[39m\u001b[39mTrue\u001b[39;00m,\n\u001b[1;32m    181\u001b[0m )\n\u001b[0;32m--> 182\u001b[0m \u001b[39mreturn\u001b[39;00m func(\u001b[39m*\u001b[39;49margs, \u001b[39m*\u001b[39;49m\u001b[39m*\u001b[39;49mkwargs)\n",
      "File \u001b[0;32m~/Desktop/dev/otosense/meshed/meshed/util.py:25\u001b[0m, in \u001b[0;36mif_then_else\u001b[0;34m(if_func, then_func, else_func, *args, **kwargs)\u001b[0m\n\u001b[1;32m     13\u001b[0m \u001b[39mdef\u001b[39;00m \u001b[39mif_then_else\u001b[39m(if_func, then_func, else_func, \u001b[39m*\u001b[39margs, \u001b[39m*\u001b[39m\u001b[39m*\u001b[39mkwargs):\n\u001b[1;32m     14\u001b[0m \u001b[39m    \u001b[39m\u001b[39m\"\"\"\u001b[39;00m\n\u001b[1;32m     15\u001b[0m \u001b[39m    Tool to \"functionalize\" the if-then-else logic.\u001b[39;00m\n\u001b[1;32m     16\u001b[0m \n\u001b[0;32m   (...)\u001b[0m\n\u001b[1;32m     23\u001b[0m \n\u001b[1;32m     24\u001b[0m \u001b[39m    \"\"\"\u001b[39;00m\n\u001b[0;32m---> 25\u001b[0m     \u001b[39mif\u001b[39;00m if_func(\u001b[39m*\u001b[39;49margs, \u001b[39m*\u001b[39;49m\u001b[39m*\u001b[39;49mkwargs):\n\u001b[1;32m     26\u001b[0m         \u001b[39mreturn\u001b[39;00m then_func(\u001b[39m*\u001b[39margs, \u001b[39m*\u001b[39m\u001b[39m*\u001b[39mkwargs)\n\u001b[1;32m     27\u001b[0m     \u001b[39melse\u001b[39;00m:\n",
      "\u001b[0;31mTypeError\u001b[0m: <lambda>() got an unexpected keyword argument 'kwargs'"
     ]
    }
   ],
   "source": [
    "# SLABS\n",
    "counter = 0\n",
    "with accel_source.stream_buffer(maxlen=None) as accel_buffer:\n",
    "    accel_reader = accel_buffer.mk_reader()\n",
    "    \n",
    "    with plc_source.stream_buffer(maxlen=None) as plc_buffer:\n",
    "        plc_reader = plc_buffer.mk_reader()\n",
    "        time.sleep(.1)\n",
    "        next_plc = partial(plc_reader.next, ignore_no_item_found=True)\n",
    "        next_wf = partial(accel_reader.next, ignore_no_item_found=True)\n",
    "\n",
    "        audio_buffer = instanciate_audio_segment_buffer()\n",
    "        edge_detector = instantiate_rising_edge_detector()\n",
    "        rising_events = deque()\n",
    "\n",
    "        slabs = Slabs(\n",
    "            wf_buffer = lambda: accel_reader,\n",
    "            wf_segment = next_wf,\n",
    "            plc_segment = next_plc,\n",
    "            #last_plc = lambda plc_segment: plc_segment.waveform[-1] ,\n",
    "            # view_segment = lambda plc_segment: plc_segment.waveform,\n",
    "            #value_segment = lambda wf_buffer: wf_buffer.waveform,\n",
    "            int_segment = lambda plc_segment: np.array(decode_pcm_bytes(plc_segment.waveform)),\n",
    "            bool_segment = lambda int_segment: (int_segment != 0).astype(int),\n",
    "            #buffered_last = lambda bool_segment: bs(bool_segment[-1]), #(previous_last, current_last),\n",
    "            edges_charlie = lambda bool_segment: edge_detector(bool_segment),\n",
    "            #edges = lambda bool_segment, buffered_last: np.diff(bool_segment, prepend=buffered_last[1]),\n",
    "            #edges_rising_idx = lambda edges: [i for i, x in enumerate(edges) if x == 1],\n",
    "            #edges_falling_idx = lambda edges: [i for i, x in enumerate(edges) if x == -1],\n",
    "\n",
    "            ts_rising = lambda edges_charlie, plc_segment: [('rising',get_ts_of_index(plc_segment, i)) for i in edges_charlie],\n",
    "            bt_rising = lambda ts_rising: [get_bt_of_ts(ts[1]) for ts in ts_rising],\n",
    "            rising_deque = lambda bt_rising: add_to_deque_and_return(rising_events, bt_rising),\n",
    "            read_from_buffer = lambda bt_rising: read_buffer(audio_buffer, bt_rising), #what to do with a list of ts?\n",
    "            written_to_buffer = lambda wf_segment: write_to_buffer(audio_buffer, wf_segment),\n",
    "            view_current_buffer = lambda: audio_buffer.buffered_segment,\n",
    "            release_buffer = lambda rising_deque: \"deque is full\" if rising_deque and len(list(rising_deque))>=2 else \"deque is not full\",\n",
    "            release_deque =cond_func,\n",
    "            #read_from_buffer = lambda bt_rising: read_buffer(audio_buffer, bt_rising),\n",
    "            #ts_for_falling_edge = lambda edges_falling_idx, plc_segment: [('falling',get_ts_of_index(plc_segment, i)) for i in edges_falling_idx],\n",
    "            #begin_ts = lambda plc_segment: get_ts_of_index(plc_segment, 0),\n",
    "            #end_ts = lambda plc_segment: get_ts_of_index(plc_segment, len(plc_segment.waveform)-1),\n",
    "            \n",
    "            #rising_edges_count_mod_2 = lambda edges: sum(x % 2 for x in edges if x==1),\n",
    "            #bool_plot = lambda bool_segment: simple_plot(bool_segment),\n",
    "\n",
    "            #sink = lambda last_plc: print(last_plc)\n",
    "        )\n",
    "\n",
    "        for s in slabs:\n",
    "            counter +=1\n",
    "            #if len(edges_charlie := s.get('edges_charlie')) > 0:\n",
    "                #print(last_msg)\n",
    "                #print(f'wf_buffer = {s.get(\"wf_buffer\")} segment={s.get(\"bool_segment\")} edges={s.get(\"edges\")} edges_rising_charlie={s.get(\"edges_charlie\")} bt_rising={s.get(\"bt_rising\")} written={s.get(\"written_to_buffer\")} read={s.get(\"read_from_buffer\")}')\n",
    "\n",
    "                #print(f'wf_segment = {s.get(\"wf_segment\").waveform[-5:]}')\n",
    "                #print(f'segment={s.get(\"bool_segment\")} edges={s.get(\"edges\")} edges_ones_idx={s.get(\"edges_rising_idx\")} edges_rising_charlie={s.get(\"edges_charlie\")}')\n",
    "            #last_msg = f'segment={s.get(\"bool_segment\")} edges={s.get(\"edges\")} edges_rising_charlie={s.get(\"edges_charlie\")}'\n",
    "            #print(f'edges_rising_charlie={s.get(\"edges_charlie\")} read_from_buffer= {s.get(\"read_from_buffer\")} written_segment = {s.get(\"written_to_buffer\")}')\n",
    "            print(f'current_buffer={s.get(\"view_current_buffer\")}')\n",
    "            print(f'release_buffer={s.get(\"release_buffer\")} ')\n",
    "            print(f'rising_deque={s.get(\"rising_deque\")} ')\n",
    "            print(f'release_deque={s.get(\"release_deque\")} ')\n",
    "\n",
    "\n",
    "            if written_to_buffer := s.get('written_to_buffer'):\n",
    "                print(written_to_buffer)\n",
    "            if counter>105:\n",
    "                break\n",
    "            #if fvs is not None,:\n",
    "            #    print(f'{s.get('fvs')}')\n",
    "            # if (fvs := s.get('fvs')) is not None: \n",
    "            #     print(fvs)\n",
    "\n"
   ]
  },
  {
   "cell_type": "code",
   "execution_count": 96,
   "metadata": {},
   "outputs": [
    {
     "data": {
      "text/plain": [
       "deque([1140000.0, 4130000.0, 7120000.0, 10110000.0])"
      ]
     },
     "execution_count": 96,
     "metadata": {},
     "output_type": "execute_result"
    }
   ],
   "source": [
    "rising_events"
   ]
  },
  {
   "cell_type": "code",
   "execution_count": 77,
   "metadata": {},
   "outputs": [
    {
     "data": {
      "text/plain": [
       "[<matplotlib.lines.Line2D at 0x7fa12e24ac50>]"
      ]
     },
     "execution_count": 77,
     "metadata": {},
     "output_type": "execute_result"
    },
    {
     "data": {
      "image/png": "[encoded data removed]",
      "text/plain": [
       "<Figure size 640x480 with 1 Axes>"
      ]
     },
     "metadata": {},
     "output_type": "display_data"
    }
   ],
   "source": [
    "import matplotlib.pyplot as plt\n",
    "def get_bytes_of_audio_segment(audio_segment: AudioSegment) -> bytes:\n",
    "    return audio_segment.waveform\n",
    "\n",
    "def convert_bytes_to_array(bytes_: bytes, dtype: type) -> np.ndarray:\n",
    "    return np.frombuffer(bytes_, dtype=dtype)\n",
    "\n",
    "res = convert_bytes_to_array(audio_buffer.buffered_segment.waveform, dtype=np.int16)\n",
    "plt.plot(res)"
   ]
  },
  {
   "cell_type": "code",
   "execution_count": 73,
   "metadata": {},
   "outputs": [
    {
     "data": {
      "text/plain": [
       "AudioSegment(start_date=106000000.0, end_date=107000000.0, frame_count=12800, status_flags=0)"
      ]
     },
     "execution_count": 73,
     "metadata": {},
     "output_type": "execute_result"
    }
   ],
   "source": [
    "accel_reader.next()"
   ]
  },
  {
   "attachments": {},
   "cell_type": "markdown",
   "metadata": {},
   "source": [
    "# Simplified slabs"
   ]
  },
  {
   "cell_type": "code",
   "execution_count": null,
   "metadata": {},
   "outputs": [],
   "source": [
    "def to_bool_segment(plc_segment):\n",
    "    int_segment = np.array(decode_pcm_bytes(plc_segment.waveform))\n",
    "    bool_segment =  (int_segment != 0).astype(int)\n",
    "    return bool_segment"
   ]
  },
  {
   "cell_type": "code",
   "execution_count": 1,
   "metadata": {},
   "outputs": [
    {
     "ename": "NameError",
     "evalue": "name 'accel_source' is not defined",
     "output_type": "error",
     "traceback": [
      "\u001b[0;31m---------------------------------------------------------------------------\u001b[0m",
      "\u001b[0;31mNameError\u001b[0m                                 Traceback (most recent call last)",
      "Cell \u001b[0;32mIn[1], line 3\u001b[0m\n\u001b[1;32m      1\u001b[0m \u001b[39m# SLABS\u001b[39;00m\n\u001b[1;32m      2\u001b[0m counter \u001b[39m=\u001b[39m \u001b[39m0\u001b[39m\n\u001b[0;32m----> 3\u001b[0m \u001b[39mwith\u001b[39;00m accel_source\u001b[39m.\u001b[39mstream_buffer(maxlen\u001b[39m=\u001b[39m\u001b[39mNone\u001b[39;00m) \u001b[39mas\u001b[39;00m accel_buffer:\n\u001b[1;32m      4\u001b[0m     accel_reader \u001b[39m=\u001b[39m accel_buffer\u001b[39m.\u001b[39mmk_reader()\n\u001b[1;32m      6\u001b[0m     \u001b[39mwith\u001b[39;00m plc_source\u001b[39m.\u001b[39mstream_buffer(maxlen\u001b[39m=\u001b[39m\u001b[39mNone\u001b[39;00m) \u001b[39mas\u001b[39;00m plc_buffer:\n",
      "\u001b[0;31mNameError\u001b[0m: name 'accel_source' is not defined"
     ]
    }
   ],
   "source": [
    "# SLABS\n",
    "counter = 0\n",
    "with accel_source.stream_buffer(maxlen=None) as accel_buffer:\n",
    "    accel_reader = accel_buffer.mk_reader()\n",
    "    \n",
    "    with plc_source.stream_buffer(maxlen=None) as plc_buffer:\n",
    "        plc_reader = plc_buffer.mk_reader()\n",
    "        time.sleep(.1)\n",
    "        next_plc = partial(plc_reader.next, ignore_no_item_found=True)\n",
    "\n",
    "        slabs = Slabs(\n",
    "            wf_buffer = lambda: accel_reader,\n",
    "            plc_segment = next_plc,\n",
    "            last_plc = lambda plc_segment: plc_segment.waveform[-1] ,\n",
    "            #view_segment = lambda plc_segment: plc_segment.waveform,\n",
    "            int_segment = lambda plc_segment: np.array(decode_pcm_bytes(plc_segment.waveform)),\n",
    "            bool_segment = lambda int_segment: (int_segment != 0).astype(int),\n",
    "            buffered_last = lambda bool_segment: bs(bool_segment[-1]), #(previous_last, current_last),\n",
    "\n",
    "            edges = lambda bool_segment, buffered_last: np.diff(bool_segment, prepend=buffered_last[0]),\n",
    "            edges_rising_idx = lambda edges: [i for i, x in enumerate(edges) if x == 1],\n",
    "            edges_falling_idx = lambda edges: [i for i, x in enumerate(edges) if x == -1],\n",
    "\n",
    "            ts_for_rising_edge = lambda edges_rising_idx, plc_segment: [('rising',get_ts_of_index(plc_segment, i)) for i in edges_rising_idx],\n",
    "            ts_for_falling_edge = lambda edges_falling_idx, plc_segment: [('falling',get_ts_of_index(plc_segment, i)) for i in edges_falling_idx],\n",
    "            begin_ts = lambda plc_segment: get_ts_of_index(plc_segment, 0),\n",
    "            end_ts = lambda plc_segment: get_ts_of_index(plc_segment, len(plc_segment.waveform)-1),\n",
    "            \n",
    "            #rising_edges_count_mod_2 = lambda edges: sum(x % 2 for x in edges if x==1),\n",
    "            #bool_plot = lambda bool_segment: simple_plot(bool_segment),\n",
    "\n",
    "            #sink = lambda last_plc: print(last_plc)\n",
    "        )\n",
    "\n",
    "        for s in slabs:\n",
    "            counter +=1\n",
    "            print(f'segment={s.get(\"bool_segment\")} edges={s.get(\"edges\")} edges_ones_idx={s.get(\"edges_rising_idx\")}')\n",
    "            if counter>15:\n",
    "                break\n",
    "            #if fvs is not None,:\n",
    "            #    print(f'{s.get('fvs')}')\n",
    "            # if (fvs := s.get('fvs')) is not None: \n",
    "            #     print(fvs)"
   ]
  },
  {
   "cell_type": "code",
   "execution_count": 19,
   "metadata": {},
   "outputs": [
    {
     "data": {
      "image/svg+xml": [
       "<?xml version=\"1.0\" encoding=\"UTF-8\" standalone=\"no\"?>\n",
       "<!DOCTYPE svg PUBLIC \"-//W3C//DTD SVG 1.1//EN\"\n",
       " \"http://www.w3.org/Graphics/SVG/1.1/DTD/svg11.dtd\">\n",
       "<!-- Generated by graphviz version 2.50.0 (0)\n",
       " -->\n",
       "<!-- Pages: 1 -->\n",
       "<svg width=\"402pt\" height=\"813pt\"\n",
       " viewBox=\"0.00 0.00 402.00 813.00\" xmlns=\"http://www.w3.org/2000/svg\" xmlns:xlink=\"http://www.w3.org/1999/xlink\">\n",
       "<g id=\"graph0\" class=\"graph\" transform=\"scale(1 1) rotate(0) translate(4 809)\">\n",
       "<polygon fill=\"white\" stroke=\"transparent\" points=\"-4,4 -4,-809 398,-809 398,4 -4,4\"/>\n",
       "<!-- wf_buffer -->\n",
       "<g id=\"node1\" class=\"node\">\n",
       "<title>wf_buffer</title>\n",
       "<polygon fill=\"none\" stroke=\"black\" points=\"71,-805 0,-805 0,-769 71,-769 71,-805\"/>\n",
       "<text text-anchor=\"middle\" x=\"35.5\" y=\"-783.3\" font-family=\"Times,serif\" font-size=\"14.00\">wf_buffer</text>\n",
       "</g>\n",
       "<!-- plc_segment -->\n",
       "<g id=\"node2\" class=\"node\">\n",
       "<title>plc_segment</title>\n",
       "<polygon fill=\"none\" stroke=\"black\" points=\"219.5,-718 133.5,-718 133.5,-682 219.5,-682 219.5,-718\"/>\n",
       "<text text-anchor=\"middle\" x=\"176.5\" y=\"-696.3\" font-family=\"Times,serif\" font-size=\"14.00\">plc_segment</text>\n",
       "</g>\n",
       "<!-- wf_buffer&#45;&gt;plc_segment -->\n",
       "<g id=\"edge1\" class=\"edge\">\n",
       "<title>wf_buffer&#45;&gt;plc_segment</title>\n",
       "<path fill=\"none\" stroke=\"black\" d=\"M64.03,-768.8C85.73,-755.72 115.75,-737.62 139.32,-723.41\"/>\n",
       "<polygon fill=\"black\" stroke=\"black\" points=\"141.25,-726.34 148.01,-718.18 137.64,-720.34 141.25,-726.34\"/>\n",
       "<text text-anchor=\"middle\" x=\"118\" y=\"-739.8\" font-family=\"Times,serif\" font-size=\"14.00\">n</text>\n",
       "</g>\n",
       "<!-- last_plc -->\n",
       "<g id=\"node3\" class=\"node\">\n",
       "<title>last_plc</title>\n",
       "<polygon fill=\"none\" stroke=\"black\" points=\"206,-631 147,-631 147,-595 206,-595 206,-631\"/>\n",
       "<text text-anchor=\"middle\" x=\"176.5\" y=\"-609.3\" font-family=\"Times,serif\" font-size=\"14.00\">last_plc</text>\n",
       "</g>\n",
       "<!-- plc_segment&#45;&gt;last_plc -->\n",
       "<g id=\"edge5\" class=\"edge\">\n",
       "<title>plc_segment&#45;&gt;last_plc</title>\n",
       "<path fill=\"none\" stroke=\"black\" d=\"M176.5,-681.8C176.5,-670.16 176.5,-654.55 176.5,-641.24\"/>\n",
       "<polygon fill=\"black\" stroke=\"black\" points=\"180,-641.18 176.5,-631.18 173,-641.18 180,-641.18\"/>\n",
       "<text text-anchor=\"middle\" x=\"211.5\" y=\"-652.8\" font-family=\"Times,serif\" font-size=\"14.00\">plc_segment</text>\n",
       "</g>\n",
       "<!-- view_segment -->\n",
       "<g id=\"node4\" class=\"node\">\n",
       "<title>view_segment</title>\n",
       "<polygon fill=\"none\" stroke=\"black\" points=\"224,-544 129,-544 129,-508 224,-508 224,-544\"/>\n",
       "<text text-anchor=\"middle\" x=\"176.5\" y=\"-522.3\" font-family=\"Times,serif\" font-size=\"14.00\">view_segment</text>\n",
       "</g>\n",
       "<!-- last_plc&#45;&gt;view_segment -->\n",
       "<g id=\"edge6\" class=\"edge\">\n",
       "<title>last_plc&#45;&gt;view_segment</title>\n",
       "<path fill=\"none\" stroke=\"black\" d=\"M176.5,-594.8C176.5,-583.16 176.5,-567.55 176.5,-554.24\"/>\n",
       "<polygon fill=\"black\" stroke=\"black\" points=\"180,-554.18 176.5,-544.18 173,-554.18 180,-554.18\"/>\n",
       "<text text-anchor=\"middle\" x=\"211.5\" y=\"-565.8\" font-family=\"Times,serif\" font-size=\"14.00\">plc_segment</text>\n",
       "</g>\n",
       "<!-- int_segment -->\n",
       "<g id=\"node5\" class=\"node\">\n",
       "<title>int_segment</title>\n",
       "<polygon fill=\"none\" stroke=\"black\" points=\"218,-457 135,-457 135,-421 218,-421 218,-457\"/>\n",
       "<text text-anchor=\"middle\" x=\"176.5\" y=\"-435.3\" font-family=\"Times,serif\" font-size=\"14.00\">int_segment</text>\n",
       "</g>\n",
       "<!-- view_segment&#45;&gt;int_segment -->\n",
       "<g id=\"edge7\" class=\"edge\">\n",
       "<title>view_segment&#45;&gt;int_segment</title>\n",
       "<path fill=\"none\" stroke=\"black\" d=\"M176.5,-507.8C176.5,-496.16 176.5,-480.55 176.5,-467.24\"/>\n",
       "<polygon fill=\"black\" stroke=\"black\" points=\"180,-467.18 176.5,-457.18 173,-467.18 180,-467.18\"/>\n",
       "<text text-anchor=\"middle\" x=\"211.5\" y=\"-478.8\" font-family=\"Times,serif\" font-size=\"14.00\">plc_segment</text>\n",
       "</g>\n",
       "<!-- bool_segment -->\n",
       "<g id=\"node6\" class=\"node\">\n",
       "<title>bool_segment</title>\n",
       "<polygon fill=\"none\" stroke=\"black\" points=\"223,-370 130,-370 130,-334 223,-334 223,-370\"/>\n",
       "<text text-anchor=\"middle\" x=\"176.5\" y=\"-348.3\" font-family=\"Times,serif\" font-size=\"14.00\">bool_segment</text>\n",
       "</g>\n",
       "<!-- int_segment&#45;&gt;bool_segment -->\n",
       "<g id=\"edge8\" class=\"edge\">\n",
       "<title>int_segment&#45;&gt;bool_segment</title>\n",
       "<path fill=\"none\" stroke=\"black\" d=\"M176.5,-420.8C176.5,-409.16 176.5,-393.55 176.5,-380.24\"/>\n",
       "<polygon fill=\"black\" stroke=\"black\" points=\"180,-380.18 176.5,-370.18 173,-380.18 180,-380.18\"/>\n",
       "<text text-anchor=\"middle\" x=\"210\" y=\"-391.8\" font-family=\"Times,serif\" font-size=\"14.00\">int_segment</text>\n",
       "</g>\n",
       "<!-- buffered_last -->\n",
       "<g id=\"node7\" class=\"node\">\n",
       "<title>buffered_last</title>\n",
       "<text text-anchor=\"middle\" x=\"176.5\" y=\"-261.3\" font-family=\"Times,serif\" font-size=\"14.00\">buffered_last</text>\n",
       "</g>\n",
       "<!-- bool_segment&#45;&gt;buffered_last -->\n",
       "<g id=\"edge9\" class=\"edge\">\n",
       "<title>bool_segment&#45;&gt;buffered_last</title>\n",
       "<path fill=\"none\" stroke=\"black\" d=\"M176.5,-333.8C176.5,-322.16 176.5,-306.55 176.5,-293.24\"/>\n",
       "<polygon fill=\"black\" stroke=\"black\" points=\"180,-293.18 176.5,-283.18 173,-293.18 180,-293.18\"/>\n",
       "<text text-anchor=\"middle\" x=\"215\" y=\"-304.8\" font-family=\"Times,serif\" font-size=\"14.00\">bool_segment</text>\n",
       "</g>\n",
       "<!-- edges -->\n",
       "<g id=\"node8\" class=\"node\">\n",
       "<title>edges</title>\n",
       "<polygon fill=\"none\" stroke=\"black\" points=\"203.5,-196 149.5,-196 149.5,-160 203.5,-160 203.5,-196\"/>\n",
       "<text text-anchor=\"middle\" x=\"176.5\" y=\"-174.3\" font-family=\"Times,serif\" font-size=\"14.00\">edges</text>\n",
       "</g>\n",
       "<!-- buffered_last&#45;&gt;edges -->\n",
       "<g id=\"edge10\" class=\"edge\">\n",
       "<title>buffered_last&#45;&gt;edges</title>\n",
       "<path fill=\"none\" stroke=\"black\" d=\"M146.41,-246.83C140.39,-241.89 134.89,-235.93 131.5,-229 126.28,-218.32 132.32,-208.23 141.5,-199.95\"/>\n",
       "<polygon fill=\"black\" stroke=\"black\" points=\"143.71,-202.66 149.38,-193.71 139.36,-197.17 143.71,-202.66\"/>\n",
       "<text text-anchor=\"middle\" x=\"170\" y=\"-217.8\" font-family=\"Times,serif\" font-size=\"14.00\">bool_segment</text>\n",
       "</g>\n",
       "<!-- buffered_last&#45;&gt;edges -->\n",
       "<g id=\"edge11\" class=\"edge\">\n",
       "<title>buffered_last&#45;&gt;edges</title>\n",
       "<path fill=\"none\" stroke=\"black\" d=\"M196.7,-246.93C201.49,-241.72 205.94,-235.6 208.5,-229 211.84,-220.39 208.93,-211.69 203.72,-204\"/>\n",
       "<polygon fill=\"black\" stroke=\"black\" points=\"206.37,-201.71 197.36,-196.12 200.92,-206.1 206.37,-201.71\"/>\n",
       "</g>\n",
       "<!-- edges_rising_idx -->\n",
       "<g id=\"node9\" class=\"node\">\n",
       "<title>edges_rising_idx</title>\n",
       "<polygon fill=\"none\" stroke=\"black\" points=\"231,-109 122,-109 122,-73 231,-73 231,-109\"/>\n",
       "<text text-anchor=\"middle\" x=\"176.5\" y=\"-87.3\" font-family=\"Times,serif\" font-size=\"14.00\">edges_rising_idx</text>\n",
       "</g>\n",
       "<!-- edges&#45;&gt;edges_rising_idx -->\n",
       "<g id=\"edge12\" class=\"edge\">\n",
       "<title>edges&#45;&gt;edges_rising_idx</title>\n",
       "<path fill=\"none\" stroke=\"black\" d=\"M176.5,-159.8C176.5,-148.16 176.5,-132.55 176.5,-119.24\"/>\n",
       "<polygon fill=\"black\" stroke=\"black\" points=\"180,-119.18 176.5,-109.18 173,-119.18 180,-119.18\"/>\n",
       "<text text-anchor=\"middle\" x=\"192\" y=\"-130.8\" font-family=\"Times,serif\" font-size=\"14.00\">edges</text>\n",
       "</g>\n",
       "<!-- output -->\n",
       "<g id=\"node13\" class=\"node\">\n",
       "<title>output</title>\n",
       "<text text-anchor=\"middle\" x=\"176.5\" y=\"-14.3\" font-family=\"Times,serif\" font-size=\"14.00\">output</text>\n",
       "</g>\n",
       "<!-- edges_rising_idx&#45;&gt;output -->\n",
       "<g id=\"edge13\" class=\"edge\">\n",
       "<title>edges_rising_idx&#45;&gt;output</title>\n",
       "<path fill=\"none\" stroke=\"black\" d=\"M176.5,-72.81C176.5,-64.79 176.5,-55.05 176.5,-46.07\"/>\n",
       "<polygon fill=\"black\" stroke=\"black\" points=\"180,-46.03 176.5,-36.03 173,-46.03 180,-46.03\"/>\n",
       "</g>\n",
       "<!-- peek -->\n",
       "<g id=\"node10\" class=\"node\">\n",
       "<title>peek</title>\n",
       "<text text-anchor=\"middle\" x=\"116.5\" y=\"-783.3\" font-family=\"Times,serif\" font-size=\"14.00\">peek=</text>\n",
       "</g>\n",
       "<!-- peek&#45;&gt;plc_segment -->\n",
       "<g id=\"edge2\" class=\"edge\">\n",
       "<title>peek&#45;&gt;plc_segment</title>\n",
       "<path fill=\"none\" stroke=\"black\" d=\"M128.64,-768.8C137.18,-756.7 148.76,-740.3 158.38,-726.67\"/>\n",
       "<polygon fill=\"black\" stroke=\"black\" points=\"161.47,-728.36 164.38,-718.18 155.75,-724.33 161.47,-728.36\"/>\n",
       "</g>\n",
       "<!-- ignore_no_item_found -->\n",
       "<g id=\"node11\" class=\"node\">\n",
       "<title>ignore_no_item_found</title>\n",
       "<text text-anchor=\"middle\" x=\"236.5\" y=\"-783.3\" font-family=\"Times,serif\" font-size=\"14.00\">ignore_no_item_found=</text>\n",
       "</g>\n",
       "<!-- ignore_no_item_found&#45;&gt;plc_segment -->\n",
       "<g id=\"edge3\" class=\"edge\">\n",
       "<title>ignore_no_item_found&#45;&gt;plc_segment</title>\n",
       "<path fill=\"none\" stroke=\"black\" d=\"M224.36,-768.8C215.82,-756.7 204.24,-740.3 194.62,-726.67\"/>\n",
       "<polygon fill=\"black\" stroke=\"black\" points=\"197.25,-724.33 188.62,-718.18 191.53,-728.36 197.25,-724.33\"/>\n",
       "</g>\n",
       "<!-- strict_n -->\n",
       "<g id=\"node12\" class=\"node\">\n",
       "<title>strict_n</title>\n",
       "<text text-anchor=\"middle\" x=\"361.5\" y=\"-783.3\" font-family=\"Times,serif\" font-size=\"14.00\">strict_n=</text>\n",
       "</g>\n",
       "<!-- strict_n&#45;&gt;plc_segment -->\n",
       "<g id=\"edge4\" class=\"edge\">\n",
       "<title>strict_n&#45;&gt;plc_segment</title>\n",
       "<path fill=\"none\" stroke=\"black\" d=\"M328.85,-771C299.49,-757.51 256.03,-737.54 223.03,-722.38\"/>\n",
       "<polygon fill=\"black\" stroke=\"black\" points=\"224.14,-719.04 213.59,-718.04 221.21,-725.4 224.14,-719.04\"/>\n",
       "</g>\n",
       "</g>\n",
       "</svg>\n"
      ],
      "text/plain": [
       "<graphviz.graphs.Digraph at 0x7fa1c4106d10>"
      ]
     },
     "execution_count": 19,
     "metadata": {},
     "output_type": "execute_result"
    }
   ],
   "source": [
    "slabs.dot_digraph()"
   ]
  },
  {
   "cell_type": "code",
   "execution_count": null,
   "metadata": {},
   "outputs": [],
   "source": [
    "def intervals_sequence(ts_for_rising_edge, ts_for_falling_edge):\n",
    "    pass\n",
    "\n",
    "def add_to_buffer(ts_for_rising_edge, ts_for_falling_edge, begin_ts, end_ts):\n",
    "    pass"
   ]
  },
  {
   "cell_type": "code",
   "execution_count": null,
   "metadata": {},
   "outputs": [],
   "source": [
    "ts_for_rising_edge = [('rising', (0, 0.0001)), ('rising', (0.0004, 0.0005)), ('rising', (0.0007, 0.0008))]\n",
    "ts_for_falling_edge = [('falling', (0.0003, 0.0004)), ('falling', (0.0006, 0.0007)), ('falling', (0.0009, 0.0010))]\n",
    "\n",
    "def order_ts_for_edge(ts_for_rising_edge, ts_for_falling_edge):\n",
    "    ts_for_edge = ts_for_rising_edge + ts_for_falling_edge\n",
    "    return sorted(ts_for_edge, key=lambda x: x[1][0])\n",
    "\n",
    "def added_to_buffer(ts_for_rising_edge, ts_for_falling_edge, begin_ts, end_ts, write_state):\n",
    "    if (not ts_for_rising_edge and not ts_for_falling_edge) and write_state:\n",
    "        return [(begin_ts, end_ts)]\n",
    "    ts_for_edge = order_ts_for_edge(ts_for_rising_edge, ts_for_falling_edge)\n",
    "    if ts_for_edge and ts_for_edge[0][0] == 'falling':\n",
    "        return [(begin_ts, ts_for_edge[0][1][1])]\n",
    "    return None\n",
    "\n",
    "def update_buffer(buffer, new_buffer):\n",
    "    if buffer:\n",
    "        return buffer + new_buffer\n",
    "    else:\n",
    "        return buffer \n",
    "\n",
    "def release_buffer(ts_for_edge):\n",
    "    return ts_for_edge and ts_for_edge[0][0] == 'falling'\n",
    "\n",
    "def release_buffer():\n",
    "    pass\n",
    "\n",
    "order_ts_for_edge(ts_for_rising_edge, ts_for_falling_edge)"
   ]
  },
  {
   "cell_type": "code",
   "execution_count": null,
   "metadata": {},
   "outputs": [],
   "source": [
    "BufferStats??"
   ]
  },
  {
   "cell_type": "code",
   "execution_count": null,
   "metadata": {},
   "outputs": [],
   "source": [
    "class accumulate:\n",
    "    def __init__(self, func, start_value, **kwargs):\n",
    "        self.func = func\n",
    "        self.kwargs = kwargs\n",
    "        self.start_value = start_value\n",
    "        self.state = start_value\n",
    "\n",
    "    def __call__(self, x):\n",
    "        self.state = self.func(self.state, x, **self.kwargs)\n",
    "        return self.state"
   ]
  },
  {
   "cell_type": "code",
   "execution_count": null,
   "metadata": {},
   "outputs": [],
   "source": [
    "def adder(x,y):\n",
    "    return x + y"
   ]
  },
  {
   "cell_type": "code",
   "execution_count": null,
   "metadata": {},
   "outputs": [],
   "source": [
    "arr = [1,2,3,4,5]"
   ]
  },
  {
   "cell_type": "code",
   "execution_count": null,
   "metadata": {},
   "outputs": [],
   "source": [
    "acc = accumulate(adder, 0)"
   ]
  },
  {
   "cell_type": "code",
   "execution_count": null,
   "metadata": {},
   "outputs": [],
   "source": [
    "list(map(acc, arr))"
   ]
  },
  {
   "attachments": {},
   "cell_type": "markdown",
   "metadata": {},
   "source": [
    "# Session with Thor 05/06/2023"
   ]
  },
  {
   "cell_type": "code",
   "execution_count": 23,
   "metadata": {},
   "outputs": [
    {
     "name": "stdout",
     "output_type": "stream",
     "text": [
      "1\n",
      "None\n",
      "None\n",
      "3\n",
      "None\n",
      "None\n",
      "1\n",
      "None\n",
      "None\n",
      "3\n",
      "None\n",
      "None\n",
      "1\n",
      "None\n",
      "None\n",
      "3\n",
      "None\n",
      "None\n",
      "1\n",
      "None\n",
      "None\n",
      "3\n",
      "None\n",
      "None\n",
      "1\n",
      "None\n",
      "None\n",
      "3\n",
      "None\n",
      "None\n"
     ]
    }
   ],
   "source": []
  },
  {
   "cell_type": "code",
   "execution_count": 22,
   "metadata": {},
   "outputs": [
    {
     "data": {
      "image/svg+xml": [
       "<?xml version=\"1.0\" encoding=\"UTF-8\" standalone=\"no\"?>\n",
       "<!DOCTYPE svg PUBLIC \"-//W3C//DTD SVG 1.1//EN\"\n",
       " \"http://www.w3.org/Graphics/SVG/1.1/DTD/svg11.dtd\">\n",
       "<!-- Generated by graphviz version 2.50.0 (0)\n",
       " -->\n",
       "<!-- Pages: 1 -->\n",
       "<svg width=\"243pt\" height=\"188pt\"\n",
       " viewBox=\"0.00 0.00 242.50 188.00\" xmlns=\"http://www.w3.org/2000/svg\" xmlns:xlink=\"http://www.w3.org/1999/xlink\">\n",
       "<g id=\"graph0\" class=\"graph\" transform=\"scale(1 1) rotate(0) translate(4 184)\">\n",
       "<polygon fill=\"white\" stroke=\"transparent\" points=\"-4,4 -4,-184 238.5,-184 238.5,4 -4,4\"/>\n",
       "<!-- returned_value -->\n",
       "<g id=\"node1\" class=\"node\">\n",
       "<title>returned_value</title>\n",
       "<text text-anchor=\"middle\" x=\"125.5\" y=\"-14.3\" font-family=\"Times,serif\" font-size=\"14.00\">returned_value</text>\n",
       "</g>\n",
       "<!-- wf_chunk -->\n",
       "<g id=\"node2\" class=\"node\">\n",
       "<title>wf_chunk</title>\n",
       "<text text-anchor=\"middle\" x=\"35.5\" y=\"-158.3\" font-family=\"Times,serif\" font-size=\"14.00\">wf_chunk</text>\n",
       "</g>\n",
       "<!-- cond_func -->\n",
       "<g id=\"node5\" class=\"node\">\n",
       "<title>cond_func</title>\n",
       "<polygon fill=\"none\" stroke=\"black\" points=\"162.5,-108 88.5,-108 88.5,-72 162.5,-72 162.5,-108\"/>\n",
       "<text text-anchor=\"middle\" x=\"125.5\" y=\"-86.3\" font-family=\"Times,serif\" font-size=\"14.00\">cond_func</text>\n",
       "</g>\n",
       "<!-- wf_chunk&#45;&gt;cond_func -->\n",
       "<g id=\"edge2\" class=\"edge\">\n",
       "<title>wf_chunk&#45;&gt;cond_func</title>\n",
       "<path fill=\"none\" stroke=\"black\" d=\"M57.75,-143.7C69.08,-134.88 83.03,-124.03 95.32,-114.47\"/>\n",
       "<polygon fill=\"black\" stroke=\"black\" points=\"97.76,-117.01 103.51,-108.1 93.47,-111.48 97.76,-117.01\"/>\n",
       "</g>\n",
       "<!-- plc_chunk -->\n",
       "<g id=\"node3\" class=\"node\">\n",
       "<title>plc_chunk</title>\n",
       "<text text-anchor=\"middle\" x=\"125.5\" y=\"-158.3\" font-family=\"Times,serif\" font-size=\"14.00\">plc_chunk</text>\n",
       "</g>\n",
       "<!-- plc_chunk&#45;&gt;cond_func -->\n",
       "<g id=\"edge3\" class=\"edge\">\n",
       "<title>plc_chunk&#45;&gt;cond_func</title>\n",
       "<path fill=\"none\" stroke=\"black\" d=\"M125.5,-143.7C125.5,-135.98 125.5,-126.71 125.5,-118.11\"/>\n",
       "<polygon fill=\"black\" stroke=\"black\" points=\"129,-118.1 125.5,-108.1 122,-118.1 129,-118.1\"/>\n",
       "</g>\n",
       "<!-- buffer -->\n",
       "<g id=\"node4\" class=\"node\">\n",
       "<title>buffer</title>\n",
       "<text text-anchor=\"middle\" x=\"207.5\" y=\"-158.3\" font-family=\"Times,serif\" font-size=\"14.00\">buffer</text>\n",
       "</g>\n",
       "<!-- buffer&#45;&gt;cond_func -->\n",
       "<g id=\"edge4\" class=\"edge\">\n",
       "<title>buffer&#45;&gt;cond_func</title>\n",
       "<path fill=\"none\" stroke=\"black\" d=\"M187.23,-143.7C177,-134.97 164.44,-124.24 153.32,-114.75\"/>\n",
       "<polygon fill=\"black\" stroke=\"black\" points=\"155.41,-111.94 145.54,-108.1 150.87,-117.26 155.41,-111.94\"/>\n",
       "</g>\n",
       "<!-- cond_func&#45;&gt;returned_value -->\n",
       "<g id=\"edge1\" class=\"edge\">\n",
       "<title>cond_func&#45;&gt;returned_value</title>\n",
       "<path fill=\"none\" stroke=\"black\" d=\"M125.5,-71.7C125.5,-63.98 125.5,-54.71 125.5,-46.11\"/>\n",
       "<polygon fill=\"black\" stroke=\"black\" points=\"129,-46.1 125.5,-36.1 122,-46.1 129,-46.1\"/>\n",
       "</g>\n",
       "</g>\n",
       "</svg>\n"
      ],
      "text/plain": [
       "<graphviz.graphs.Digraph at 0x7fa1c92e03a0>"
      ]
     },
     "execution_count": 22,
     "metadata": {},
     "output_type": "execute_result"
    }
   ],
   "source": [
    "from collections import deque\n",
    "from itertools import chain, cycle\n",
    "from slang import fixed_step_chunker\n",
    "from meshed import code_to_dag\n",
    "\n",
    "wf_chunks = fixed_step_chunker(range(100), chk_size=5)\n",
    "plc_chunks = cycle(\n",
    "    [{'a': 1, 'b': 2}, {'a': 2, 'b': 4}, {'a': 3, 'b': 6}, {'a': 4, 'b': 8}]\n",
    ")\n",
    "\n",
    "\n",
    "is_odd = lambda x: (x % 2) == 1\n",
    "\n",
    "\n",
    "add_to_buffer = lambda wf_chunk, buffer: buffer.append(wf_chunk)\n",
    "\n",
    "# release the whole buffer\n",
    "def release_buffer(buffer):\n",
    "    buffer_contents = list(chain.from_iterable(buffer))\n",
    "    buffer.clear()\n",
    "    return buffer_contents\n",
    "\n",
    "\n",
    "buffer = deque(maxlen=50)\n",
    "\n",
    "wf_chunk = next(iter(wf_chunks))\n",
    "plc_chunk = next(iter(plc_chunks))\n",
    "\n",
    "add_to_buffer([1,2,3], buffer)\n",
    "add_to_buffer([10,20], buffer) \n",
    "assert list(buffer) == [[1, 2, 3], [10, 20]]\n",
    "release_buffer(buffer) == [1, 2, 3, 10, 20]\n",
    "\n",
    "def dag_func(wf_chunk, plc_chunk, buffer):\n",
    "    \"\"\"if is_odd(plc_chunk['a']) then add wf_chunk to buffer\n",
    "    and if is_odd(plc_chunk['a']) == 4 then release the buffer\"\"\"\n",
    "    # wf_chunk = next(iter(wf_chunks))\n",
    "    # plc_chunk = next(iter(plc_chunks))\n",
    "    if is_odd(plc_chunk['a']):\n",
    "        add_to_buffer(wf_chunk, buffer)\n",
    "        if plc_chunk['a'] == 4:\n",
    "            return release_buffer(buffer)\n",
    "\n",
    "\n",
    "from functools import partial\n",
    "from meshed.util import if_then_else\n",
    "\n",
    "def add_buffer_and_possibly_release(wf_chunk, plc_chunk, buffer):\n",
    "    add_to_buffer(wf_chunk, buffer)\n",
    "    print(plc_chunk['a'])\n",
    "    if plc_chunk['a'] == 4:\n",
    "        return release_buffer(buffer)\n",
    "\n",
    "\n",
    "cond_func = partial(\n",
    "    if_then_else,\n",
    "    if_func=lambda wf_chunk, plc_chunk, buffer: is_odd(plc_chunk['a']),\n",
    "    then_func=add_buffer_and_possibly_release,\n",
    "    else_func=lambda wf_chunk, plc_chunk, buffer: None\n",
    ")\n",
    "\n",
    "\n",
    "@code_to_dag\n",
    "def dag():\n",
    "    returned_value = cond_func(wf_chunk, plc_chunk, buffer)\n",
    "\n",
    "\n",
    "dag.dot_digraph()"
   ]
  },
  {
   "cell_type": "code",
   "execution_count": 24,
   "metadata": {},
   "outputs": [
    {
     "name": "stdout",
     "output_type": "stream",
     "text": [
      "1\n",
      "None\n",
      "None\n",
      "3\n",
      "None\n",
      "None\n",
      "1\n",
      "None\n",
      "None\n",
      "3\n",
      "None\n",
      "None\n",
      "1\n",
      "None\n",
      "None\n",
      "3\n",
      "None\n",
      "None\n",
      "1\n",
      "None\n",
      "None\n",
      "3\n",
      "None\n",
      "None\n",
      "1\n",
      "None\n",
      "None\n",
      "3\n",
      "None\n",
      "None\n"
     ]
    }
   ],
   "source": [
    "from slang import fixed_step_chunker\n",
    "from itertools import cycle\n",
    "from functools import partial\n",
    "from meshed.util import if_then_else\n",
    "\n",
    "wf_chunks = fixed_step_chunker(range(100), chk_size=5)\n",
    "plc_chunks = cycle(\n",
    "    [{'a': 1, 'b': 2}, {'a': 2, 'b': 4}, {'a': 3, 'b': 6}, {'a': 4, 'b': 8}]\n",
    ")\n",
    "\n",
    "buffer = deque(maxlen=30)\n",
    "\n",
    "\n",
    "cond_func = partial(\n",
    "    if_then_else,\n",
    "    lambda wf_chunk, plc_chunk, buffer: is_odd(plc_chunk['a']),\n",
    "    add_buffer_and_possibly_release,\n",
    "    lambda wf_chunk, plc_chunk, buffer: None\n",
    ")\n",
    "\n",
    "for wf_chunk, plc_chunk in zip(wf_chunks, plc_chunks):\n",
    "    # print(plc_chunk)\n",
    "    print(cond_func(wf_chunk, plc_chunk, buffer))\n",
    "\n",
    "\n",
    "def return_none_if_any_input_none(func, *args, **kwargs):\n",
    "    def func_wrapper(*args, **kwargs):\n",
    "        if any(arg is None for arg in args) or any(kwarg is None for kwarg in kwargs.values()):\n",
    "            return None\n",
    "        else:\n",
    "            return func(*args, **kwargs)\n",
    "        \n",
    "    return func_wrapper"
   ]
  },
  {
   "cell_type": "code",
   "execution_count": 143,
   "metadata": {},
   "outputs": [],
   "source": [
    "from itertools import cycle\n",
    "\n",
    "plc_reader = iter([1,0,0,1,0,0,0,0,0,0,1,0,0,0,0,0,1])\n",
    "next_plc = plc_reader.__next__\n",
    "audio_sensor_read = cycle([[1, 2, 3], [-96, 87, -92], [320, -96, 99]]).__next__\n",
    "\n",
    "cond_func = partial(\n",
    "    if_then_else,\n",
    "    lambda events: len(list(events)) >= 2,\n",
    "    lambda x:\"deque full\",\n",
    "    lambda x:\"deque not full\"\n",
    ")\n",
    "\n",
    "events_deque = deque(maxlen=10)\n",
    "\n",
    "def append_and_return(x, events_deque):\n",
    "    if x==1:\n",
    "        events_deque.append(x)\n",
    "    return events_deque\n",
    "\n",
    "slabs = Slabs(\n",
    "    plc_segment = next_plc,\n",
    "    events = lambda plc_segment:append_and_return(plc_segment, events_deque),\n",
    "    audio_segment = audio_sensor_read,\n",
    "    deque_full = lambda events:cond_func(events),\n",
    ")\n",
    "def consume(slabs, n_int=5):\n",
    "    for i in range(n_int):\n",
    "        print(next(slabs))\n",
    "        \n",
    "\n"
   ]
  },
  {
   "cell_type": "code",
   "execution_count": 144,
   "metadata": {},
   "outputs": [
    {
     "data": {
      "text/plain": [
       "<Sig (*args, **kwargs)>"
      ]
     },
     "execution_count": 144,
     "metadata": {},
     "output_type": "execute_result"
    }
   ],
   "source": [
    "from i2 import Sig\n",
    "Sig(cond_func)"
   ]
  },
  {
   "cell_type": "code",
   "execution_count": 145,
   "metadata": {},
   "outputs": [
    {
     "name": "stdout",
     "output_type": "stream",
     "text": [
      "{'plc_segment': 1, 'events': deque([1], maxlen=10), 'audio_segment': [1, 2, 3], 'deque_full': 'deque not full'}\n",
      "{'plc_segment': 0, 'events': deque([1], maxlen=10), 'audio_segment': [-96, 87, -92], 'deque_full': 'deque not full'}\n",
      "{'plc_segment': 0, 'events': deque([1], maxlen=10), 'audio_segment': [320, -96, 99], 'deque_full': 'deque not full'}\n",
      "{'plc_segment': 1, 'events': deque([1, 1], maxlen=10), 'audio_segment': [1, 2, 3], 'deque_full': 'deque full'}\n",
      "{'plc_segment': 0, 'events': deque([1, 1], maxlen=10), 'audio_segment': [-96, 87, -92], 'deque_full': 'deque full'}\n",
      "{'plc_segment': 0, 'events': deque([1, 1], maxlen=10), 'audio_segment': [320, -96, 99], 'deque_full': 'deque full'}\n",
      "{'plc_segment': 0, 'events': deque([1, 1], maxlen=10), 'audio_segment': [1, 2, 3], 'deque_full': 'deque full'}\n",
      "{'plc_segment': 0, 'events': deque([1, 1], maxlen=10), 'audio_segment': [-96, 87, -92], 'deque_full': 'deque full'}\n",
      "{'plc_segment': 0, 'events': deque([1, 1], maxlen=10), 'audio_segment': [320, -96, 99], 'deque_full': 'deque full'}\n",
      "{'plc_segment': 0, 'events': deque([1, 1], maxlen=10), 'audio_segment': [1, 2, 3], 'deque_full': 'deque full'}\n"
     ]
    }
   ],
   "source": [
    "consume(slabs,10)"
   ]
  },
  {
   "cell_type": "code",
   "execution_count": 128,
   "metadata": {},
   "outputs": [
    {
     "data": {
      "text/plain": [
       "[1, 2, 3]"
      ]
     },
     "execution_count": 128,
     "metadata": {},
     "output_type": "execute_result"
    }
   ],
   "source": [
    "audio_sensor_read = cycle([[1, 2, 3], [-96, 87, -92], [320, -96, 99]])\n",
    "next(audio_sensor_read)"
   ]
  },
  {
   "cell_type": "code",
   "execution_count": null,
   "metadata": {},
   "outputs": [],
   "source": []
  }
 ],
 "metadata": {
  "kernelspec": {
   "display_name": "Python 3",
   "language": "python",
   "name": "python3"
  },
  "language_info": {
   "codemirror_mode": {
    "name": "ipython",
    "version": 3
   },
   "file_extension": ".py",
   "mimetype": "text/x-python",
   "name": "python",
   "nbconvert_exporter": "python",
   "pygments_lexer": "ipython3",
   "version": "3.10.0"
  },
  "orig_nbformat": 4
 },
 "nbformat": 4,
 "nbformat_minor": 2
}
