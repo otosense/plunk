{
 "cells": [
  {
   "cell_type": "markdown",
   "metadata": {},
   "source": [
    "* load wfstore\n",
    "* load annots Store\n",
    "* choose chunker\n",
    "* choose featurizer\n",
    "* choose train/test split: mark sessions as train or test\n"
   ]
  },
  {
   "cell_type": "markdown",
   "metadata": {},
   "source": [
    "# Using pipeline maker"
   ]
  },
  {
   "cell_type": "code",
   "execution_count": 9,
   "metadata": {},
   "outputs": [],
   "source": [
    "import os\n",
    "import soundfile as sf\n",
    "import pandas as pd\n",
    "import zipfile\n",
    "from io import BytesIO\n",
    "from pathlib import Path\n",
    "\n",
    "from dol.appendable import add_append_functionality_to_store_cls\n",
    "from dol import Store\n",
    "from dol import FilesOfZip, wrap_kvs, filt_iter\n",
    "\n",
    "from py2store import FilesOfZip\n",
    "from hear import WavLocalFileStore\n",
    "from dol import FuncReader\n",
    "\n",
    "\n",
    "\n",
    "def my_obj_of_data(b):\n",
    "    return sf.read(BytesIO(b), dtype=\"float32\")[0]\n",
    "\n",
    "@wrap_kvs(obj_of_data=my_obj_of_data)\n",
    "@filt_iter(filt=lambda x: not x.startswith(\"__MACOSX\") and x.endswith(\".wav\"))\n",
    "class WfZipStore(FilesOfZip):\n",
    "    \"\"\"Waveform access. Keys are .wav filenames and values are numpy arrays of int16 waveform.\"\"\"\n",
    "\n",
    "    pass\n",
    "\n",
    "\n",
    "def key_to_ext(k):\n",
    "    _, ext = os.path.splitext(k)\n",
    "    if ext.startswith(\".\"):\n",
    "        ext = ext[1:]\n",
    "    return ext\n",
    "\n",
    "\n",
    "def processor_from_ext(ext):\n",
    "    if ext.startswith(\".\"):\n",
    "        ext = ext[1:]\n",
    "    if ext in {\"zip\"}:\n",
    "        pass\n",
    "    elif ext in {\"wav\"}:\n",
    "        pass\n",
    "\n",
    "def is_zip_file(filepath):\n",
    "    return zipfile.is_zipfile(filepath)\n",
    "\n",
    "def is_dir(filepath):\n",
    "    return os.path.isdir(filepath)\n",
    "\n",
    "def key_maker(name, prefix):\n",
    "    return f'{prefix}_{name}'\n",
    "\n",
    "def wf_store_factory(filepath):\n",
    "    key = key_maker(name = filepath, prefix='wf_store')\n",
    "    tag = 'wf_store'\n",
    "\n",
    "    if is_dir(filepath):\n",
    "        data = WavLocalFileStore(filepath)\n",
    "\n",
    "         \n",
    "    elif is_zip_file(filepath):\n",
    "        data = WfZipStore(filepath)\n",
    "\n",
    "    return mk_store_item(key, tag, data)\n",
    "\n",
    "def annot_store_factory(filepath):\n",
    "    key = key_maker(name = filepath, prefix='annot_store')\n",
    "    tag = 'annot_store'\n",
    "\n",
    "    data = pd.read_csv(filepath)\n",
    "\n",
    "    return mk_store_item(key, tag, data)\n",
    "\n",
    "def mk_store_item(key, tag, data):\n",
    "    return dict(key = key, tag = tag, data=data)\n",
    "\n",
    "def append_to_store(store, item):\n",
    "    store.append(item)\n",
    "\n",
    "def dacc_factory():\n",
    "    pass\n",
    "\n",
    "factory_store = {'wf_factory': wf_store_factory, 'dacc':None, 'annot_factory':annot_store_factory}\n",
    "\n",
    "#factory_store = FuncReader([wf_store_factory, dacc_factory])\n",
    "\n",
    "store_cls = Store\n",
    "item2kv = lambda item: (item['key'], item['data'])\n",
    "\n",
    "appendable_store_cls = add_append_functionality_to_store_cls(store_cls, item2kv=item2kv)"
   ]
  },
  {
   "cell_type": "code",
   "execution_count": 10,
   "metadata": {},
   "outputs": [],
   "source": [
    "# example\n",
    "rootdir = '/Users/sylvain/Dropbox/Otosense/VacuumEdgeImpulse/'\n",
    "annot_filepath = '/Users/sylvain/Dropbox/sipyb/Testing/data/annots_vacuum.csv'\n",
    "#is_dir(rootdir)"
   ]
  },
  {
   "cell_type": "code",
   "execution_count": 16,
   "metadata": {},
   "outputs": [],
   "source": [
    "# mock functions\n",
    "def mk_global_store():\n",
    "    return appendable_store_cls()\n",
    "\n",
    "def select_wf_factory():\n",
    "    return {'key':'wf_store_factory', 'data':wf_store_factory}\n",
    "\n",
    "def select_annot_factory():\n",
    "    return {'key':'annot_store_factory', 'data':annot_store_factory}"
   ]
  },
  {
   "cell_type": "code",
   "execution_count": 17,
   "metadata": {},
   "outputs": [],
   "source": [
    "# user story: make a global store and add a wfstore to it\n",
    "\n",
    "global_store = mk_global_store()\n",
    "wf_factory = select_wf_factory()\n",
    "global_store.append(wf_factory)\n",
    "annot_factory = select_annot_factory()\n",
    "global_store.append(annot_factory)\n"
   ]
  },
  {
   "cell_type": "code",
   "execution_count": 18,
   "metadata": {},
   "outputs": [
    {
     "data": {
      "text/plain": [
       "{'wf_store_factory': <function wf_store_factory at 0x7fcf00737400>, 'annot_store_factory': <function annot_store_factory at 0x7fcf01494160>}"
      ]
     },
     "execution_count": 18,
     "metadata": {},
     "output_type": "execute_result"
    }
   ],
   "source": [
    "global_store"
   ]
  },
  {
   "cell_type": "markdown",
   "metadata": {},
   "source": [
    "# Without using pipeline maker"
   ]
  },
  {
   "cell_type": "markdown",
   "metadata": {},
   "source": []
  },
  {
   "cell_type": "markdown",
   "metadata": {},
   "source": [
    "* load wfstore\n",
    "* load annots Store\n",
    "* choose chunker\n",
    "* choose featurizer\n",
    "* choose model\n",
    "* train model\n"
   ]
  },
  {
   "cell_type": "code",
   "execution_count": 21,
   "metadata": {},
   "outputs": [],
   "source": [
    "d = dict(key = 'example')"
   ]
  },
  {
   "cell_type": "code",
   "execution_count": 22,
   "metadata": {},
   "outputs": [
    {
     "ename": "TypeError",
     "evalue": "'dict' object is not callable",
     "output_type": "error",
     "traceback": [
      "\u001b[0;31m---------------------------------------------------------------------------\u001b[0m",
      "\u001b[0;31mTypeError\u001b[0m                                 Traceback (most recent call last)",
      "\u001b[1;32m/Users/sylvain/Desktop/dev/otosense/plunk/plunk/sb/front_experiments/streamlitfront_dataprep/notebook.ipynb Cell 12\u001b[0m in \u001b[0;36m<cell line: 1>\u001b[0;34m()\u001b[0m\n\u001b[0;32m----> <a href='vscode-notebook-cell:/Users/sylvain/Desktop/dev/otosense/plunk/plunk/sb/front_experiments/streamlitfront_dataprep/notebook.ipynb#X22sZmlsZQ%3D%3D?line=0'>1</a>\u001b[0m d()\n",
      "\u001b[0;31mTypeError\u001b[0m: 'dict' object is not callable"
     ]
    }
   ],
   "source": [
    "d()"
   ]
  },
  {
   "cell_type": "code",
   "execution_count": null,
   "metadata": {},
   "outputs": [],
   "source": []
  }
 ],
 "metadata": {
  "kernelspec": {
   "display_name": "Python 3.10.0 ('otopy310')",
   "language": "python",
   "name": "python3"
  },
  "language_info": {
   "codemirror_mode": {
    "name": "ipython",
    "version": 3
   },
   "file_extension": ".py",
   "mimetype": "text/x-python",
   "name": "python",
   "nbconvert_exporter": "python",
   "pygments_lexer": "ipython3",
   "version": "3.10.0"
  },
  "orig_nbformat": 4,
  "vscode": {
   "interpreter": {
    "hash": "1b1583496da055986182577c8a7f701c9cd62d32bb22c260ed492920d961d72e"
   }
  }
 },
 "nbformat": 4,
 "nbformat_minor": 2
}
