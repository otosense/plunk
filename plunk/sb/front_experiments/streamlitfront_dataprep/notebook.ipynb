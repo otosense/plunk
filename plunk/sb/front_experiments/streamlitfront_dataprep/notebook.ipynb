{
 "cells": [
  {
   "cell_type": "markdown",
   "metadata": {},
   "source": [
    "* load wfstore\n",
    "* load annots Store\n",
    "* choose chunker\n",
    "* choose featurizer\n",
    "* choose train/test split: mark sessions as train or test\n"
   ]
  },
  {
   "cell_type": "markdown",
   "metadata": {},
   "source": [
    "# Using pipeline maker"
   ]
  },
  {
   "cell_type": "code",
   "execution_count": 1,
   "metadata": {},
   "outputs": [
    {
     "name": "stderr",
     "output_type": "stream",
     "text": [
      "<frozen importlib._bootstrap>:219: RuntimeWarning: scipy._lib.messagestream.MessageStream size changed, may indicate binary incompatibility. Expected 56 from C header, got 64 from PyObject\n"
     ]
    }
   ],
   "source": [
    "import os\n",
    "import soundfile as sf\n",
    "import pandas as pd\n",
    "import zipfile\n",
    "from io import BytesIO\n",
    "from pathlib import Path\n",
    "\n",
    "from dol.appendable import add_append_functionality_to_store_cls\n",
    "from dol import Store\n",
    "from dol import FilesOfZip, wrap_kvs, filt_iter\n",
    "\n",
    "from py2store import FilesOfZip\n",
    "from hear import WavLocalFileStore\n",
    "from dol import FuncReader\n",
    "\n",
    "\n",
    "\n",
    "def my_obj_of_data(b):\n",
    "    return sf.read(BytesIO(b), dtype=\"float32\")[0]\n",
    "\n",
    "@wrap_kvs(obj_of_data=my_obj_of_data)\n",
    "@filt_iter(filt=lambda x: not x.startswith(\"__MACOSX\") and x.endswith(\".wav\"))\n",
    "class WfZipStore(FilesOfZip):\n",
    "    \"\"\"Waveform access. Keys are .wav filenames and values are numpy arrays of int16 waveform.\"\"\"\n",
    "\n",
    "    pass\n",
    "\n",
    "\n",
    "def key_to_ext(k):\n",
    "    _, ext = os.path.splitext(k)\n",
    "    if ext.startswith(\".\"):\n",
    "        ext = ext[1:]\n",
    "    return ext\n",
    "\n",
    "\n",
    "def processor_from_ext(ext):\n",
    "    if ext.startswith(\".\"):\n",
    "        ext = ext[1:]\n",
    "    if ext in {\"zip\"}:\n",
    "        pass\n",
    "    elif ext in {\"wav\"}:\n",
    "        pass\n",
    "\n",
    "def is_zip_file(filepath):\n",
    "    return zipfile.is_zipfile(filepath)\n",
    "\n",
    "def is_dir(filepath):\n",
    "    return os.path.isdir(filepath)\n",
    "\n",
    "def key_maker(name, prefix):\n",
    "    return f'{prefix}_{name}'\n",
    "\n",
    "def wf_store_factory(filepath):\n",
    "    key = key_maker(name = filepath, prefix='wf_store')\n",
    "    tag = 'wf_store'\n",
    "\n",
    "    if is_dir(filepath):\n",
    "        data = WavLocalFileStore(filepath)\n",
    "\n",
    "         \n",
    "    elif is_zip_file(filepath):\n",
    "        data = WfZipStore(filepath)\n",
    "\n",
    "    return mk_store_item(key, tag, data)\n",
    "\n",
    "def annot_store_factory(filepath):\n",
    "    key = key_maker(name = filepath, prefix='annot_store')\n",
    "    tag = 'annot_store'\n",
    "\n",
    "    data = pd.read_csv(filepath)\n",
    "\n",
    "    return mk_store_item(key, tag, data)\n",
    "\n",
    "def mk_store_item(key, tag, data):\n",
    "    return dict(key = key, tag = tag, data=data)\n",
    "\n",
    "def append_to_store(store, item):\n",
    "    store.append(item)\n",
    "\n",
    "def dacc_factory():\n",
    "    pass\n",
    "\n",
    "factory_store = {'wf_factory': wf_store_factory, 'dacc':None, 'annot_factory':annot_store_factory}\n",
    "\n",
    "#factory_store = FuncReader([wf_store_factory, dacc_factory])\n",
    "\n",
    "store_cls = Store\n",
    "item2kv = lambda item: (item['key'], item['data'])\n",
    "\n",
    "appendable_store_cls = add_append_functionality_to_store_cls(store_cls, item2kv=item2kv)"
   ]
  },
  {
   "cell_type": "code",
   "execution_count": 2,
   "metadata": {},
   "outputs": [],
   "source": [
    "# example\n",
    "rootdir = '/Users/sylvain/Dropbox/Otosense/VacuumEdgeImpulse/'\n",
    "annot_filepath = '/Users/sylvain/Dropbox/sipyb/Testing/data/annots_vacuum.csv'\n",
    "#is_dir(rootdir)"
   ]
  },
  {
   "cell_type": "code",
   "execution_count": 3,
   "metadata": {},
   "outputs": [],
   "source": [
    "# mock functions\n",
    "def mk_global_store():\n",
    "    return appendable_store_cls()\n",
    "\n",
    "def select_wf_factory():\n",
    "    return {'key':'wf_store_factory', 'data':wf_store_factory}\n",
    "\n",
    "def select_annot_factory():\n",
    "    return {'key':'annot_store_factory', 'data':annot_store_factory}"
   ]
  },
  {
   "cell_type": "code",
   "execution_count": 4,
   "metadata": {},
   "outputs": [],
   "source": [
    "# user story: make a global store and add a wfstore to it\n",
    "\n",
    "global_store = mk_global_store()\n",
    "wf_factory = select_wf_factory()\n",
    "global_store.append(wf_factory)\n",
    "annot_factory = select_annot_factory()\n",
    "global_store.append(annot_factory)\n"
   ]
  },
  {
   "cell_type": "code",
   "execution_count": 5,
   "metadata": {},
   "outputs": [
    {
     "data": {
      "text/plain": [
       "{'wf_store_factory': <function wf_store_factory at 0x7f897cc96b80>, 'annot_store_factory': <function annot_store_factory at 0x7f897cc96c10>}"
      ]
     },
     "execution_count": 5,
     "metadata": {},
     "output_type": "execute_result"
    }
   ],
   "source": [
    "global_store"
   ]
  },
  {
   "cell_type": "markdown",
   "metadata": {},
   "source": [
    "# Without using pipeline maker"
   ]
  },
  {
   "cell_type": "markdown",
   "metadata": {},
   "source": []
  },
  {
   "cell_type": "markdown",
   "metadata": {},
   "source": [
    "* load wfstore\n",
    "* load annots Store\n",
    "* choose chunker\n",
    "* choose featurizer\n",
    "* choose model\n",
    "* train model\n"
   ]
  },
  {
   "cell_type": "code",
   "execution_count": 6,
   "metadata": {},
   "outputs": [],
   "source": [
    "d = dict(key = 'example')"
   ]
  },
  {
   "cell_type": "code",
   "execution_count": 7,
   "metadata": {},
   "outputs": [
    {
     "ename": "TypeError",
     "evalue": "'dict' object is not callable",
     "output_type": "error",
     "traceback": [
      "\u001b[0;31m---------------------------------------------------------------------------\u001b[0m",
      "\u001b[0;31mTypeError\u001b[0m                                 Traceback (most recent call last)",
      "\u001b[1;32m/Users/sylvain/Desktop/dev/otosense/plunk/plunk/sb/front_experiments/streamlitfront_dataprep/notebook.ipynb Cell 12\u001b[0m in \u001b[0;36m<cell line: 1>\u001b[0;34m()\u001b[0m\n\u001b[0;32m----> <a href='vscode-notebook-cell:/Users/sylvain/Desktop/dev/otosense/plunk/plunk/sb/front_experiments/streamlitfront_dataprep/notebook.ipynb#X14sZmlsZQ%3D%3D?line=0'>1</a>\u001b[0m d()\n",
      "\u001b[0;31mTypeError\u001b[0m: 'dict' object is not callable"
     ]
    }
   ],
   "source": [
    "d()"
   ]
  },
  {
   "cell_type": "markdown",
   "metadata": {},
   "source": [
    "# Scrap"
   ]
  },
  {
   "cell_type": "code",
   "execution_count": null,
   "metadata": {},
   "outputs": [],
   "source": [
    "from meshed import dag\n",
    "from dol import filt_iter, wrap_kvs, Files, Pipe\n",
    "import recode\n",
    "\n",
    "P = Pipe(\n",
    "    Files,\n",
    "    filt_iter(filt = lambda x: x.endswith('.wav')),\n",
    "    wrap_kvs(obj_of_data=recode.decode_wav_bytes)\n",
    "\n",
    ")"
   ]
  },
  {
   "cell_type": "code",
   "execution_count": null,
   "metadata": {},
   "outputs": [
    {
     "ename": "NameError",
     "evalue": "name 'rootdir' is not defined",
     "output_type": "error",
     "traceback": [
      "\u001b[0;31m---------------------------------------------------------------------------\u001b[0m",
      "\u001b[0;31mNameError\u001b[0m                                 Traceback (most recent call last)",
      "\u001b[1;32m/Users/sylvain/Desktop/dev/otosense/plunk/plunk/sb/front_experiments/streamlitfront_dataprep/notebook.ipynb Cell 15\u001b[0m in \u001b[0;36m<cell line: 1>\u001b[0;34m()\u001b[0m\n\u001b[0;32m----> <a href='vscode-notebook-cell:/Users/sylvain/Desktop/dev/otosense/plunk/plunk/sb/front_experiments/streamlitfront_dataprep/notebook.ipynb#X22sZmlsZQ%3D%3D?line=0'>1</a>\u001b[0m p \u001b[39m=\u001b[39m P(rootdir)\n\u001b[1;32m      <a href='vscode-notebook-cell:/Users/sylvain/Desktop/dev/otosense/plunk/plunk/sb/front_experiments/streamlitfront_dataprep/notebook.ipynb#X22sZmlsZQ%3D%3D?line=1'>2</a>\u001b[0m \u001b[39mlist\u001b[39m(p)\n",
      "\u001b[0;31mNameError\u001b[0m: name 'rootdir' is not defined"
     ]
    }
   ],
   "source": [
    "p = P(rootdir)\n",
    "list(p)"
   ]
  },
  {
   "cell_type": "code",
   "execution_count": null,
   "metadata": {},
   "outputs": [
    {
     "ename": "NameError",
     "evalue": "name 'p' is not defined",
     "output_type": "error",
     "traceback": [
      "\u001b[0;31m---------------------------------------------------------------------------\u001b[0m",
      "\u001b[0;31mNameError\u001b[0m                                 Traceback (most recent call last)",
      "\u001b[1;32m/Users/sylvain/Desktop/dev/otosense/plunk/plunk/sb/front_experiments/streamlitfront_dataprep/notebook.ipynb Cell 16\u001b[0m in \u001b[0;36m<cell line: 1>\u001b[0;34m()\u001b[0m\n\u001b[0;32m----> <a href='vscode-notebook-cell:/Users/sylvain/Desktop/dev/otosense/plunk/plunk/sb/front_experiments/streamlitfront_dataprep/notebook.ipynb#X23sZmlsZQ%3D%3D?line=0'>1</a>\u001b[0m wf, sr \u001b[39m=\u001b[39m p[\u001b[39m'\u001b[39m\u001b[39mtrain/noise.DKITCHEN.24.3840000-4000000.wav.23q8e43a.ingestion-6bc8b65f8c-86d4w.wav\u001b[39m\u001b[39m'\u001b[39m]\n",
      "\u001b[0;31mNameError\u001b[0m: name 'p' is not defined"
     ]
    }
   ],
   "source": [
    "wf, sr = p['train/noise.DKITCHEN.24.3840000-4000000.wav.23q8e43a.ingestion-6bc8b65f8c-86d4w.wav']"
   ]
  },
  {
   "cell_type": "code",
   "execution_count": null,
   "metadata": {},
   "outputs": [
    {
     "name": "stderr",
     "output_type": "stream",
     "text": [
      "<frozen importlib._bootstrap>:219: RuntimeWarning: scipy._lib.messagestream.MessageStream size changed, may indicate binary incompatibility. Expected 56 from C header, got 64 from PyObject\n"
     ]
    }
   ],
   "source": [
    "from hum import disp_wf"
   ]
  },
  {
   "cell_type": "code",
   "execution_count": null,
   "metadata": {},
   "outputs": [
    {
     "ename": "NameError",
     "evalue": "name 'wf' is not defined",
     "output_type": "error",
     "traceback": [
      "\u001b[0;31m---------------------------------------------------------------------------\u001b[0m",
      "\u001b[0;31mNameError\u001b[0m                                 Traceback (most recent call last)",
      "\u001b[1;32m/Users/sylvain/Desktop/dev/otosense/plunk/plunk/sb/front_experiments/streamlitfront_dataprep/notebook.ipynb Cell 18\u001b[0m in \u001b[0;36m<cell line: 1>\u001b[0;34m()\u001b[0m\n\u001b[0;32m----> <a href='vscode-notebook-cell:/Users/sylvain/Desktop/dev/otosense/plunk/plunk/sb/front_experiments/streamlitfront_dataprep/notebook.ipynb#X25sZmlsZQ%3D%3D?line=0'>1</a>\u001b[0m disp_wf(wf)\n",
      "\u001b[0;31mNameError\u001b[0m: name 'wf' is not defined"
     ]
    }
   ],
   "source": [
    "disp_wf(wf)"
   ]
  },
  {
   "cell_type": "code",
   "execution_count": null,
   "metadata": {},
   "outputs": [
    {
     "ename": "NameError",
     "evalue": "name 'rootdir' is not defined",
     "output_type": "error",
     "traceback": [
      "\u001b[0;31m---------------------------------------------------------------------------\u001b[0m",
      "\u001b[0;31mNameError\u001b[0m                                 Traceback (most recent call last)",
      "\u001b[1;32m/Users/sylvain/Desktop/dev/otosense/plunk/plunk/sb/front_experiments/streamlitfront_dataprep/notebook.ipynb Cell 19\u001b[0m in \u001b[0;36m<cell line: 1>\u001b[0;34m()\u001b[0m\n\u001b[0;32m----> <a href='vscode-notebook-cell:/Users/sylvain/Desktop/dev/otosense/plunk/plunk/sb/front_experiments/streamlitfront_dataprep/notebook.ipynb#X26sZmlsZQ%3D%3D?line=0'>1</a>\u001b[0m \u001b[39mlist\u001b[39m(Files(rootdir))\n",
      "\u001b[0;31mNameError\u001b[0m: name 'rootdir' is not defined"
     ]
    }
   ],
   "source": [
    "list(Files(rootdir))"
   ]
  },
  {
   "cell_type": "markdown",
   "metadata": {},
   "source": [
    "# Make a dag and insert funcs"
   ]
  },
  {
   "cell_type": "markdown",
   "metadata": {},
   "source": [
    "## Make a mall of factories"
   ]
  },
  {
   "cell_type": "code",
   "execution_count": 114,
   "metadata": {},
   "outputs": [],
   "source": [
    "# step 1: make a mall of choices\n",
    "from plunk.sb.front_experiments.streamlitfront_dataprep.data_prep2 import (\n",
    "    data_from_wav_folder,\n",
    "    data_from_csv,\n",
    "    store_to_key_fvs,\n",
    "    key_fvs_to_tag_fvs,\n",
    "    mk_Xy\n",
    ")\n",
    "from odat.mdat.vacuum import (\n",
    "    DFLT_ANNOTS_COLS,\n",
    "    DFLT_CHUNKER,\n",
    "    DFLT_FEATURIZER,\n",
    ")\n",
    "\n",
    "DFLT_CHUNKER_MAKER = lambda:DFLT_CHUNKER\n",
    "DFLT_FEATURIZER_MAKER = lambda: DFLT_FEATURIZER\n",
    "\n",
    "\n",
    "m = {'wf_store_maker':[data_from_wav_folder], 'annots_store_maker':[data_from_csv], \n",
    "    'chunker':[DFLT_CHUNKER_MAKER],\n",
    "    'featurizer':[DFLT_FEATURIZER_MAKER]}\n",
    "\n",
    "#might need to revert a dict if choices are given as a list\n",
    "choices_list = [data_from_wav_folder, data_from_csv]\n",
    "\n",
    "choices = {'wf_store_maker':data_from_wav_folder, 'annots_store_maker':data_from_csv, \n",
    "    'chunker_maker':DFLT_CHUNKER_MAKER,\n",
    "    'featurizer_maker': DFLT_FEATURIZER_MAKER,\n",
    "    'store_to_key_fvs':store_to_key_fvs,\n",
    "    'key_fvs_to_tag_fvs':key_fvs_to_tag_fvs,\n",
    "    'mk_Xy':mk_Xy}"
   ]
  },
  {
   "cell_type": "code",
   "execution_count": 115,
   "metadata": {},
   "outputs": [],
   "source": [
    "# step 2: make a dag connecting these choices\n",
    "\n",
    "from meshed import DAG, code_to_dag\n",
    "@code_to_dag\n",
    "def user_story():\n",
    "    wf_store = wf_store_maker(wf_filepath) # explicit argument should not be here\n",
    "    annots_df = annots_store_maker(annot_filepath) #explicit argument should not be here\n",
    "    chunker = chunker_maker()\n",
    "    featurizer = featurizer_maker()\n",
    "    key_fvs = store_to_key_fvs(wf_store, chunker=chunker, featurizer=featurizer)\n",
    "    tag_fv_iterator = key_fvs_to_tag_fvs(key_fvs, annots_df)\n",
    "    X,y = mk_Xy(tag_fv_iterator)"
   ]
  },
  {
   "cell_type": "code",
   "execution_count": 116,
   "metadata": {},
   "outputs": [
    {
     "data": {
      "image/svg+xml": "<?xml version=\"1.0\" encoding=\"UTF-8\" standalone=\"no\"?>\n<!DOCTYPE svg PUBLIC \"-//W3C//DTD SVG 1.1//EN\"\n \"http://www.w3.org/Graphics/SVG/1.1/DTD/svg11.dtd\">\n<!-- Generated by graphviz version 2.40.1 (20161225.0304)\n -->\n<!-- Title: %3 Pages: 1 -->\n<svg width=\"420pt\" height=\"764pt\"\n viewBox=\"0.00 0.00 420.00 764.00\" xmlns=\"http://www.w3.org/2000/svg\" xmlns:xlink=\"http://www.w3.org/1999/xlink\">\n<g id=\"graph0\" class=\"graph\" transform=\"scale(1 1) rotate(0) translate(4 760)\">\n<title>%3</title>\n<polygon fill=\"#ffffff\" stroke=\"transparent\" points=\"-4,4 -4,-760 416,-760 416,4 -4,4\"/>\n<!-- wf_store -->\n<g id=\"node1\" class=\"node\">\n<title>wf_store</title>\n<text text-anchor=\"middle\" x=\"337.5\" y=\"-590.3\" font-family=\"Times,serif\" font-size=\"14.00\" fill=\"#000000\">wf_store</text>\n</g>\n<!-- store_to_key_fvs -->\n<g id=\"node12\" class=\"node\">\n<title>store_to_key_fvs</title>\n<polygon fill=\"none\" stroke=\"#000000\" points=\"276,-540 163,-540 163,-504 276,-504 276,-540\"/>\n<text text-anchor=\"middle\" x=\"219.5\" y=\"-518.3\" font-family=\"Times,serif\" font-size=\"14.00\" fill=\"#000000\">store_to_key_fvs</text>\n</g>\n<!-- wf_store&#45;&gt;store_to_key_fvs -->\n<g id=\"edge8\" class=\"edge\">\n<title>wf_store&#45;&gt;store_to_key_fvs</title>\n<path fill=\"none\" stroke=\"#000000\" d=\"M307.7236,-575.8314C292.6307,-566.6221 274.1243,-555.3301 257.9657,-545.4706\"/>\n<polygon fill=\"#000000\" stroke=\"#000000\" points=\"259.6263,-542.3838 249.2669,-540.1628 255.9802,-548.3593 259.6263,-542.3838\"/>\n</g>\n<!-- wf_filepath -->\n<g id=\"node2\" class=\"node\">\n<title>wf_filepath</title>\n<text text-anchor=\"middle\" x=\"358.5\" y=\"-734.3\" font-family=\"Times,serif\" font-size=\"14.00\" fill=\"#000000\">wf_filepath</text>\n</g>\n<!-- wf_store_maker -->\n<g id=\"node3\" class=\"node\">\n<title>wf_store_maker</title>\n<polygon fill=\"none\" stroke=\"#000000\" points=\"412,-684 305,-684 305,-648 412,-648 412,-684\"/>\n<text text-anchor=\"middle\" x=\"358.5\" y=\"-662.3\" font-family=\"Times,serif\" font-size=\"14.00\" fill=\"#000000\">wf_store_maker</text>\n</g>\n<!-- wf_filepath&#45;&gt;wf_store_maker -->\n<g id=\"edge2\" class=\"edge\">\n<title>wf_filepath&#45;&gt;wf_store_maker</title>\n<path fill=\"none\" stroke=\"#000000\" d=\"M358.5,-719.8314C358.5,-712.131 358.5,-702.9743 358.5,-694.4166\"/>\n<polygon fill=\"#000000\" stroke=\"#000000\" points=\"362.0001,-694.4132 358.5,-684.4133 355.0001,-694.4133 362.0001,-694.4132\"/>\n</g>\n<!-- wf_store_maker&#45;&gt;wf_store -->\n<g id=\"edge1\" class=\"edge\">\n<title>wf_store_maker&#45;&gt;wf_store</title>\n<path fill=\"none\" stroke=\"#000000\" d=\"M353.2008,-647.8314C350.9302,-640.0463 348.2254,-630.7729 345.706,-622.1347\"/>\n<polygon fill=\"#000000\" stroke=\"#000000\" points=\"349.0306,-621.0332 342.8705,-612.4133 342.3106,-622.9933 349.0306,-621.0332\"/>\n</g>\n<!-- annots_df -->\n<g id=\"node4\" class=\"node\">\n<title>annots_df</title>\n<text text-anchor=\"middle\" x=\"96.5\" y=\"-446.3\" font-family=\"Times,serif\" font-size=\"14.00\" fill=\"#000000\">annots_df</text>\n</g>\n<!-- key_fvs_to_tag_fvs -->\n<g id=\"node14\" class=\"node\">\n<title>key_fvs_to_tag_fvs</title>\n<polygon fill=\"none\" stroke=\"#000000\" points=\"202,-396 75,-396 75,-360 202,-360 202,-396\"/>\n<text text-anchor=\"middle\" x=\"138.5\" y=\"-374.3\" font-family=\"Times,serif\" font-size=\"14.00\" fill=\"#000000\">key_fvs_to_tag_fvs</text>\n</g>\n<!-- annots_df&#45;&gt;key_fvs_to_tag_fvs -->\n<g id=\"edge13\" class=\"edge\">\n<title>annots_df&#45;&gt;key_fvs_to_tag_fvs</title>\n<path fill=\"none\" stroke=\"#000000\" d=\"M107.0984,-431.8314C111.7877,-423.7925 117.4028,-414.1666 122.5798,-405.2918\"/>\n<polygon fill=\"#000000\" stroke=\"#000000\" points=\"125.7434,-406.8146 127.7589,-396.4133 119.6969,-403.2875 125.7434,-406.8146\"/>\n</g>\n<!-- annot_filepath -->\n<g id=\"node5\" class=\"node\">\n<title>annot_filepath</title>\n<text text-anchor=\"middle\" x=\"48.5\" y=\"-590.3\" font-family=\"Times,serif\" font-size=\"14.00\" fill=\"#000000\">annot_filepath</text>\n</g>\n<!-- annots_store_maker -->\n<g id=\"node6\" class=\"node\">\n<title>annots_store_maker</title>\n<polygon fill=\"none\" stroke=\"#000000\" points=\"134,-540 5,-540 5,-504 134,-504 134,-540\"/>\n<text text-anchor=\"middle\" x=\"69.5\" y=\"-518.3\" font-family=\"Times,serif\" font-size=\"14.00\" fill=\"#000000\">annots_store_maker</text>\n</g>\n<!-- annot_filepath&#45;&gt;annots_store_maker -->\n<g id=\"edge4\" class=\"edge\">\n<title>annot_filepath&#45;&gt;annots_store_maker</title>\n<path fill=\"none\" stroke=\"#000000\" d=\"M53.7992,-575.8314C56.0698,-568.0463 58.7746,-558.7729 61.294,-550.1347\"/>\n<polygon fill=\"#000000\" stroke=\"#000000\" points=\"64.6894,-550.9933 64.1295,-540.4133 57.9694,-549.0332 64.6894,-550.9933\"/>\n</g>\n<!-- annots_store_maker&#45;&gt;annots_df -->\n<g id=\"edge3\" class=\"edge\">\n<title>annots_store_maker&#45;&gt;annots_df</title>\n<path fill=\"none\" stroke=\"#000000\" d=\"M76.3132,-503.8314C79.2644,-495.9617 82.7858,-486.5712 86.055,-477.8533\"/>\n<polygon fill=\"#000000\" stroke=\"#000000\" points=\"89.3609,-479.0055 89.595,-468.4133 82.8066,-476.5476 89.3609,-479.0055\"/>\n</g>\n<!-- chunker -->\n<g id=\"node7\" class=\"node\">\n<title>chunker</title>\n<text text-anchor=\"middle\" x=\"146.5\" y=\"-590.3\" font-family=\"Times,serif\" font-size=\"14.00\" fill=\"#000000\">chunker</text>\n</g>\n<!-- chunker&#45;&gt;store_to_key_fvs -->\n<g id=\"edge9\" class=\"edge\">\n<title>chunker&#45;&gt;store_to_key_fvs</title>\n<path fill=\"none\" stroke=\"#000000\" d=\"M164.921,-575.8314C173.6529,-567.219 184.2317,-556.7851 193.7423,-547.4048\"/>\n<polygon fill=\"#000000\" stroke=\"#000000\" points=\"196.423,-549.6769 201.0849,-540.1628 191.5075,-544.6931 196.423,-549.6769\"/>\n</g>\n<!-- chunker_maker -->\n<g id=\"node8\" class=\"node\">\n<title>chunker_maker</title>\n<polygon fill=\"none\" stroke=\"#000000\" points=\"156.5,-684 52.5,-684 52.5,-648 156.5,-648 156.5,-684\"/>\n<text text-anchor=\"middle\" x=\"104.5\" y=\"-662.3\" font-family=\"Times,serif\" font-size=\"14.00\" fill=\"#000000\">chunker_maker</text>\n</g>\n<!-- chunker_maker&#45;&gt;chunker -->\n<g id=\"edge5\" class=\"edge\">\n<title>chunker_maker&#45;&gt;chunker</title>\n<path fill=\"none\" stroke=\"#000000\" d=\"M115.0984,-647.8314C119.7877,-639.7925 125.4028,-630.1666 130.5798,-621.2918\"/>\n<polygon fill=\"#000000\" stroke=\"#000000\" points=\"133.7434,-622.8146 135.7589,-612.4133 127.6969,-619.2875 133.7434,-622.8146\"/>\n</g>\n<!-- featurizer -->\n<g id=\"node9\" class=\"node\">\n<title>featurizer</title>\n<text text-anchor=\"middle\" x=\"230.5\" y=\"-590.3\" font-family=\"Times,serif\" font-size=\"14.00\" fill=\"#000000\">featurizer</text>\n</g>\n<!-- featurizer&#45;&gt;store_to_key_fvs -->\n<g id=\"edge10\" class=\"edge\">\n<title>featurizer&#45;&gt;store_to_key_fvs</title>\n<path fill=\"none\" stroke=\"#000000\" d=\"M227.7242,-575.8314C226.5478,-568.131 225.1489,-558.9743 223.8414,-550.4166\"/>\n<polygon fill=\"#000000\" stroke=\"#000000\" points=\"227.2833,-549.7699 222.3131,-540.4133 220.3636,-550.8272 227.2833,-549.7699\"/>\n</g>\n<!-- featurizer_maker -->\n<g id=\"node10\" class=\"node\">\n<title>featurizer_maker</title>\n<polygon fill=\"none\" stroke=\"#000000\" points=\"286.5,-684 174.5,-684 174.5,-648 286.5,-648 286.5,-684\"/>\n<text text-anchor=\"middle\" x=\"230.5\" y=\"-662.3\" font-family=\"Times,serif\" font-size=\"14.00\" fill=\"#000000\">featurizer_maker</text>\n</g>\n<!-- featurizer_maker&#45;&gt;featurizer -->\n<g id=\"edge6\" class=\"edge\">\n<title>featurizer_maker&#45;&gt;featurizer</title>\n<path fill=\"none\" stroke=\"#000000\" d=\"M230.5,-647.8314C230.5,-640.131 230.5,-630.9743 230.5,-622.4166\"/>\n<polygon fill=\"#000000\" stroke=\"#000000\" points=\"234.0001,-622.4132 230.5,-612.4133 227.0001,-622.4133 234.0001,-622.4132\"/>\n</g>\n<!-- key_fvs -->\n<g id=\"node11\" class=\"node\">\n<title>key_fvs</title>\n<text text-anchor=\"middle\" x=\"194.5\" y=\"-446.3\" font-family=\"Times,serif\" font-size=\"14.00\" fill=\"#000000\">key_fvs</text>\n</g>\n<!-- key_fvs&#45;&gt;key_fvs_to_tag_fvs -->\n<g id=\"edge12\" class=\"edge\">\n<title>key_fvs&#45;&gt;key_fvs_to_tag_fvs</title>\n<path fill=\"none\" stroke=\"#000000\" d=\"M180.3688,-431.8314C173.9189,-423.5386 166.1555,-413.557 159.0748,-404.4533\"/>\n<polygon fill=\"#000000\" stroke=\"#000000\" points=\"161.7236,-402.158 152.8214,-396.4133 156.1981,-406.4556 161.7236,-402.158\"/>\n</g>\n<!-- store_to_key_fvs&#45;&gt;key_fvs -->\n<g id=\"edge7\" class=\"edge\">\n<title>store_to_key_fvs&#45;&gt;key_fvs</title>\n<path fill=\"none\" stroke=\"#000000\" d=\"M213.1914,-503.8314C210.4883,-496.0463 207.2684,-486.7729 204.269,-478.1347\"/>\n<polygon fill=\"#000000\" stroke=\"#000000\" points=\"207.48,-476.7119 200.8935,-468.4133 200.8673,-479.0081 207.48,-476.7119\"/>\n</g>\n<!-- tag_fv_iterator -->\n<g id=\"node13\" class=\"node\">\n<title>tag_fv_iterator</title>\n<text text-anchor=\"middle\" x=\"138.5\" y=\"-302.3\" font-family=\"Times,serif\" font-size=\"14.00\" fill=\"#000000\">tag_fv_iterator</text>\n</g>\n<!-- mk_Xy -->\n<g id=\"node16\" class=\"node\">\n<title>mk_Xy</title>\n<polygon fill=\"none\" stroke=\"#000000\" points=\"168,-252 109,-252 109,-216 168,-216 168,-252\"/>\n<text text-anchor=\"middle\" x=\"138.5\" y=\"-230.3\" font-family=\"Times,serif\" font-size=\"14.00\" fill=\"#000000\">mk_Xy</text>\n</g>\n<!-- tag_fv_iterator&#45;&gt;mk_Xy -->\n<g id=\"edge15\" class=\"edge\">\n<title>tag_fv_iterator&#45;&gt;mk_Xy</title>\n<path fill=\"none\" stroke=\"#000000\" d=\"M138.5,-287.8314C138.5,-280.131 138.5,-270.9743 138.5,-262.4166\"/>\n<polygon fill=\"#000000\" stroke=\"#000000\" points=\"142.0001,-262.4132 138.5,-252.4133 135.0001,-262.4133 142.0001,-262.4132\"/>\n</g>\n<!-- key_fvs_to_tag_fvs&#45;&gt;tag_fv_iterator -->\n<g id=\"edge11\" class=\"edge\">\n<title>key_fvs_to_tag_fvs&#45;&gt;tag_fv_iterator</title>\n<path fill=\"none\" stroke=\"#000000\" d=\"M138.5,-359.8314C138.5,-352.131 138.5,-342.9743 138.5,-334.4166\"/>\n<polygon fill=\"#000000\" stroke=\"#000000\" points=\"142.0001,-334.4132 138.5,-324.4133 135.0001,-334.4133 142.0001,-334.4132\"/>\n</g>\n<!-- X__y -->\n<g id=\"node15\" class=\"node\">\n<title>X__y</title>\n<text text-anchor=\"middle\" x=\"138.5\" y=\"-158.3\" font-family=\"Times,serif\" font-size=\"14.00\" fill=\"#000000\">X__y</text>\n</g>\n<!-- X__0 -->\n<g id=\"node18\" class=\"node\">\n<title>X__0</title>\n<polygon fill=\"none\" stroke=\"#000000\" points=\"129.5,-108 75.5,-108 75.5,-72 129.5,-72 129.5,-108\"/>\n<text text-anchor=\"middle\" x=\"102.5\" y=\"-86.3\" font-family=\"Times,serif\" font-size=\"14.00\" fill=\"#000000\">X__0</text>\n</g>\n<!-- X__y&#45;&gt;X__0 -->\n<g id=\"edge17\" class=\"edge\">\n<title>X__y&#45;&gt;X__0</title>\n<path fill=\"none\" stroke=\"#000000\" d=\"M129.4157,-143.8314C125.4385,-135.8771 120.6845,-126.369 116.2861,-117.5723\"/>\n<polygon fill=\"#000000\" stroke=\"#000000\" points=\"119.3093,-115.7923 111.7066,-108.4133 113.0483,-118.9228 119.3093,-115.7923\"/>\n</g>\n<!-- y__1 -->\n<g id=\"node20\" class=\"node\">\n<title>y__1</title>\n<polygon fill=\"none\" stroke=\"#000000\" points=\"201.5,-108 147.5,-108 147.5,-72 201.5,-72 201.5,-108\"/>\n<text text-anchor=\"middle\" x=\"174.5\" y=\"-86.3\" font-family=\"Times,serif\" font-size=\"14.00\" fill=\"#000000\">y__1</text>\n</g>\n<!-- X__y&#45;&gt;y__1 -->\n<g id=\"edge19\" class=\"edge\">\n<title>X__y&#45;&gt;y__1</title>\n<path fill=\"none\" stroke=\"#000000\" d=\"M147.5843,-143.8314C151.5615,-135.8771 156.3155,-126.369 160.7139,-117.5723\"/>\n<polygon fill=\"#000000\" stroke=\"#000000\" points=\"163.9517,-118.9228 165.2934,-108.4133 157.6907,-115.7923 163.9517,-118.9228\"/>\n</g>\n<!-- mk_Xy&#45;&gt;X__y -->\n<g id=\"edge14\" class=\"edge\">\n<title>mk_Xy&#45;&gt;X__y</title>\n<path fill=\"none\" stroke=\"#000000\" d=\"M138.5,-215.8314C138.5,-208.131 138.5,-198.9743 138.5,-190.4166\"/>\n<polygon fill=\"#000000\" stroke=\"#000000\" points=\"142.0001,-190.4132 138.5,-180.4133 135.0001,-190.4133 142.0001,-190.4132\"/>\n</g>\n<!-- X -->\n<g id=\"node17\" class=\"node\">\n<title>X</title>\n<text text-anchor=\"middle\" x=\"102.5\" y=\"-14.3\" font-family=\"Times,serif\" font-size=\"14.00\" fill=\"#000000\">X</text>\n</g>\n<!-- X__0&#45;&gt;X -->\n<g id=\"edge16\" class=\"edge\">\n<title>X__0&#45;&gt;X</title>\n<path fill=\"none\" stroke=\"#000000\" d=\"M102.5,-71.8314C102.5,-64.131 102.5,-54.9743 102.5,-46.4166\"/>\n<polygon fill=\"#000000\" stroke=\"#000000\" points=\"106.0001,-46.4132 102.5,-36.4133 99.0001,-46.4133 106.0001,-46.4132\"/>\n</g>\n<!-- y -->\n<g id=\"node19\" class=\"node\">\n<title>y</title>\n<text text-anchor=\"middle\" x=\"174.5\" y=\"-14.3\" font-family=\"Times,serif\" font-size=\"14.00\" fill=\"#000000\">y</text>\n</g>\n<!-- y__1&#45;&gt;y -->\n<g id=\"edge18\" class=\"edge\">\n<title>y__1&#45;&gt;y</title>\n<path fill=\"none\" stroke=\"#000000\" d=\"M174.5,-71.8314C174.5,-64.131 174.5,-54.9743 174.5,-46.4166\"/>\n<polygon fill=\"#000000\" stroke=\"#000000\" points=\"178.0001,-46.4132 174.5,-36.4133 171.0001,-46.4133 178.0001,-46.4132\"/>\n</g>\n</g>\n</svg>\n",
      "text/plain": [
       "<graphviz.dot.Digraph at 0x7f894ff63250>"
      ]
     },
     "execution_count": 116,
     "metadata": {},
     "output_type": "execute_result"
    }
   ],
   "source": [
    "user_story.dot_digraph()"
   ]
  },
  {
   "cell_type": "code",
   "execution_count": 117,
   "metadata": {},
   "outputs": [
    {
     "ename": "SyntaxError",
     "evalue": "invalid syntax (2651481817.py, line 1)",
     "output_type": "error",
     "traceback": [
      "\u001b[0;36m  Input \u001b[0;32mIn [117]\u001b[0;36m\u001b[0m\n\u001b[0;31m    user_story.\u001b[0m\n\u001b[0m               ^\u001b[0m\n\u001b[0;31mSyntaxError\u001b[0m\u001b[0;31m:\u001b[0m invalid syntax\n"
     ]
    }
   ],
   "source": [
    "user_story."
   ]
  },
  {
   "cell_type": "code",
   "execution_count": 118,
   "metadata": {},
   "outputs": [
    {
     "name": "stdout",
     "output_type": "stream",
     "text": [
      "\u001b[0;31mSignature:\u001b[0m      \n",
      "\u001b[0mcode_to_dag\u001b[0m\u001b[0;34m(\u001b[0m\u001b[0;34m\u001b[0m\n",
      "\u001b[0;34m\u001b[0m    \u001b[0msrc\u001b[0m\u001b[0;34m=\u001b[0m\u001b[0;32mNone\u001b[0m\u001b[0;34m,\u001b[0m\u001b[0;34m\u001b[0m\n",
      "\u001b[0;34m\u001b[0m    \u001b[0;34m*\u001b[0m\u001b[0;34m,\u001b[0m\u001b[0;34m\u001b[0m\n",
      "\u001b[0;34m\u001b[0m    \u001b[0mfunc_src\u001b[0m\u001b[0;34m:\u001b[0m \u001b[0mUnion\u001b[0m\u001b[0;34m[\u001b[0m\u001b[0mCallable\u001b[0m\u001b[0;34m[\u001b[0m\u001b[0;34m[\u001b[0m\u001b[0mstr\u001b[0m\u001b[0;34m]\u001b[0m\u001b[0;34m,\u001b[0m \u001b[0mCallable\u001b[0m\u001b[0;34m]\u001b[0m\u001b[0;34m,\u001b[0m \u001b[0mMapping\u001b[0m\u001b[0;34m[\u001b[0m\u001b[0mstr\u001b[0m\u001b[0;34m,\u001b[0m \u001b[0mCallable\u001b[0m\u001b[0;34m]\u001b[0m\u001b[0;34m]\u001b[0m \u001b[0;34m=\u001b[0m \u001b[0;34m<\u001b[0m\u001b[0mfunction\u001b[0m \u001b[0mdlft_factory_to_func\u001b[0m \u001b[0mat\u001b[0m \u001b[0;36m0x7f895d8f99d0\u001b[0m\u001b[0;34m>\u001b[0m\u001b[0;34m,\u001b[0m\u001b[0;34m\u001b[0m\n",
      "\u001b[0;34m\u001b[0m    \u001b[0mname\u001b[0m\u001b[0;34m:\u001b[0m \u001b[0mstr\u001b[0m \u001b[0;34m=\u001b[0m \u001b[0;32mNone\u001b[0m\u001b[0;34m,\u001b[0m\u001b[0;34m\u001b[0m\n",
      "\u001b[0;34m\u001b[0m\u001b[0;34m)\u001b[0m \u001b[0;34m->\u001b[0m \u001b[0mmeshed\u001b[0m\u001b[0;34m.\u001b[0m\u001b[0mdag\u001b[0m\u001b[0;34m.\u001b[0m\u001b[0mDAG\u001b[0m\u001b[0;34m\u001b[0m\u001b[0;34m\u001b[0m\u001b[0m\n",
      "\u001b[0;31mCall signature:\u001b[0m  \u001b[0mcode_to_dag\u001b[0m\u001b[0;34m(\u001b[0m\u001b[0;34m*\u001b[0m\u001b[0margs\u001b[0m\u001b[0;34m,\u001b[0m \u001b[0;34m**\u001b[0m\u001b[0mkwargs\u001b[0m\u001b[0;34m)\u001b[0m\u001b[0;34m\u001b[0m\u001b[0;34m\u001b[0m\u001b[0m\n",
      "\u001b[0;31mType:\u001b[0m            partial\n",
      "\u001b[0;31mString form:\u001b[0m     functools.partial(<function _double_up_as_factory at 0x7f895d880820>, __decorator_func=<function code_to_dag at 0x7f895d8f9d30>)\n",
      "\u001b[0;31mFile:\u001b[0m            ~/Desktop/dev/otosense/meshed/meshed/makers.py\n",
      "\u001b[0;31mSource:\u001b[0m         \n",
      "\u001b[0;34m@\u001b[0m\u001b[0mdouble_up_as_factory\u001b[0m\u001b[0;34m\u001b[0m\n",
      "\u001b[0;34m\u001b[0m\u001b[0;32mdef\u001b[0m \u001b[0mcode_to_dag\u001b[0m\u001b[0;34m(\u001b[0m\u001b[0;34m\u001b[0m\n",
      "\u001b[0;34m\u001b[0m    \u001b[0msrc\u001b[0m\u001b[0;34m=\u001b[0m\u001b[0;32mNone\u001b[0m\u001b[0;34m,\u001b[0m \u001b[0;34m*\u001b[0m\u001b[0;34m,\u001b[0m \u001b[0mfunc_src\u001b[0m\u001b[0;34m:\u001b[0m \u001b[0mFuncSource\u001b[0m \u001b[0;34m=\u001b[0m \u001b[0mdlft_factory_to_func\u001b[0m\u001b[0;34m,\u001b[0m \u001b[0mname\u001b[0m\u001b[0;34m:\u001b[0m \u001b[0mstr\u001b[0m \u001b[0;34m=\u001b[0m \u001b[0;32mNone\u001b[0m\u001b[0;34m\u001b[0m\n",
      "\u001b[0;34m\u001b[0m\u001b[0;34m)\u001b[0m \u001b[0;34m->\u001b[0m \u001b[0mDAG\u001b[0m\u001b[0;34m:\u001b[0m\u001b[0;34m\u001b[0m\n",
      "\u001b[0;34m\u001b[0m    \u001b[0;34m\"\"\"Get a ``meshed.DAG`` from src code\"\"\"\u001b[0m\u001b[0;34m\u001b[0m\n",
      "\u001b[0;34m\u001b[0m    \u001b[0mfunc_src\u001b[0m \u001b[0;34m=\u001b[0m \u001b[0m_ensure_func_src\u001b[0m\u001b[0;34m(\u001b[0m\u001b[0mfunc_src\u001b[0m\u001b[0;34m)\u001b[0m\u001b[0;34m\u001b[0m\n",
      "\u001b[0;34m\u001b[0m    \u001b[0;31m# Get a name for the dag (if src is a str\u001b[0m\u001b[0;34m\u001b[0m\n",
      "\u001b[0;34m\u001b[0m    \u001b[0;32mif\u001b[0m \u001b[0mname\u001b[0m \u001b[0;32mis\u001b[0m \u001b[0;32mNone\u001b[0m\u001b[0;34m:\u001b[0m\u001b[0;34m\u001b[0m\n",
      "\u001b[0;34m\u001b[0m        \u001b[0;32mif\u001b[0m \u001b[0misinstance\u001b[0m\u001b[0;34m(\u001b[0m\u001b[0msrc\u001b[0m\u001b[0;34m,\u001b[0m \u001b[0mstr\u001b[0m\u001b[0;34m)\u001b[0m\u001b[0;34m:\u001b[0m\u001b[0;34m\u001b[0m\n",
      "\u001b[0;34m\u001b[0m            \u001b[0mname\u001b[0m \u001b[0;34m=\u001b[0m \u001b[0m_extract_name_from_single_func_def\u001b[0m\u001b[0;34m(\u001b[0m\u001b[0msrc\u001b[0m\u001b[0;34m,\u001b[0m \u001b[0;34m'dag_made_from_code_parsing'\u001b[0m\u001b[0;34m)\u001b[0m\u001b[0;34m\u001b[0m\n",
      "\u001b[0;34m\u001b[0m        \u001b[0;32melse\u001b[0m\u001b[0;34m:\u001b[0m\u001b[0;34m\u001b[0m\n",
      "\u001b[0;34m\u001b[0m            \u001b[0mname\u001b[0m \u001b[0;34m=\u001b[0m \u001b[0mname_of_obj\u001b[0m\u001b[0;34m(\u001b[0m\u001b[0msrc\u001b[0m\u001b[0;34m)\u001b[0m\u001b[0;34m\u001b[0m\n",
      "\u001b[0;34m\u001b[0m    \u001b[0;31m# Pass on to _code_to_fnodes to get func nodes iterable needed to make DAG\u001b[0m\u001b[0;34m\u001b[0m\n",
      "\u001b[0;34m\u001b[0m    \u001b[0mfnodes\u001b[0m \u001b[0;34m=\u001b[0m \u001b[0m_code_to_fnodes\u001b[0m\u001b[0;34m(\u001b[0m\u001b[0msrc\u001b[0m\u001b[0;34m,\u001b[0m \u001b[0mfunc_src\u001b[0m\u001b[0;34m)\u001b[0m\u001b[0;34m\u001b[0m\n",
      "\u001b[0;34m\u001b[0m    \u001b[0mfnodes\u001b[0m \u001b[0;34m=\u001b[0m \u001b[0mlist\u001b[0m\u001b[0;34m(\u001b[0m\u001b[0mfnodes\u001b[0m\u001b[0;34m)\u001b[0m\u001b[0;34m\u001b[0m\n",
      "\u001b[0;34m\u001b[0m    \u001b[0;32mreturn\u001b[0m \u001b[0mDAG\u001b[0m\u001b[0;34m(\u001b[0m\u001b[0mfnodes\u001b[0m\u001b[0;34m,\u001b[0m \u001b[0mname\u001b[0m\u001b[0;34m=\u001b[0m\u001b[0mname\u001b[0m\u001b[0;34m)\u001b[0m\u001b[0;34m\u001b[0m\u001b[0;34m\u001b[0m\u001b[0m\n",
      "\u001b[0;31mClass docstring:\u001b[0m\n",
      "partial(func, *args, **keywords) - new function with partial application\n",
      "of the given arguments and keywords.\n"
     ]
    }
   ],
   "source": [
    "code_to_dag??"
   ]
  },
  {
   "cell_type": "code",
   "execution_count": 119,
   "metadata": {},
   "outputs": [],
   "source": [
    "# Use funcnodes \n",
    "# FuncNode(\n",
    "#              func=my_chunker,\n",
    "#              name='chunker',\n",
    "#              bind=dict(sequence='sequence', chk_size='chk_size'),\n",
    "#              out='chks'\n",
    "#          ),"
   ]
  },
  {
   "cell_type": "code",
   "execution_count": 120,
   "metadata": {},
   "outputs": [],
   "source": [
    "from i2 import Sig\n",
    "metadata_dict={\n",
    "    'wf_store_maker':{'out':'wf_store', 'sig':Sig('wf_filepath')}\n",
    "}"
   ]
  },
  {
   "cell_type": "code",
   "execution_count": 121,
   "metadata": {},
   "outputs": [
    {
     "ename": "TypeError",
     "evalue": "module, class, method, function, traceback, frame, or code object was expected, got DAG",
     "output_type": "error",
     "traceback": [
      "\u001b[0;31m---------------------------------------------------------------------------\u001b[0m",
      "\u001b[0;31mTypeError\u001b[0m                                 Traceback (most recent call last)",
      "\u001b[1;32m/Users/sylvain/Desktop/dev/otosense/plunk/plunk/sb/front_experiments/streamlitfront_dataprep/notebook.ipynb Cell 29\u001b[0m in \u001b[0;36m<cell line: 3>\u001b[0;34m()\u001b[0m\n\u001b[1;32m      <a href='vscode-notebook-cell:/Users/sylvain/Desktop/dev/otosense/plunk/plunk/sb/front_experiments/streamlitfront_dataprep/notebook.ipynb#X36sZmlsZQ%3D%3D?line=0'>1</a>\u001b[0m \u001b[39m# If I remove the arguments wf_filepath and annot_filepath\u001b[39;00m\n\u001b[1;32m      <a href='vscode-notebook-cell:/Users/sylvain/Desktop/dev/otosense/plunk/plunk/sb/front_experiments/streamlitfront_dataprep/notebook.ipynb#X36sZmlsZQ%3D%3D?line=1'>2</a>\u001b[0m \u001b[39m# I hit the expected problem of same name for the arguments!\u001b[39;00m\n\u001b[0;32m----> <a href='vscode-notebook-cell:/Users/sylvain/Desktop/dev/otosense/plunk/plunk/sb/front_experiments/streamlitfront_dataprep/notebook.ipynb#X36sZmlsZQ%3D%3D?line=2'>3</a>\u001b[0m user_story \u001b[39m=\u001b[39mcode_to_dag(user_story, func_src\u001b[39m=\u001b[39;49mchoices) \u001b[39m#check code_to_dag to inject also output names\u001b[39;00m\n\u001b[1;32m      <a href='vscode-notebook-cell:/Users/sylvain/Desktop/dev/otosense/plunk/plunk/sb/front_experiments/streamlitfront_dataprep/notebook.ipynb#X36sZmlsZQ%3D%3D?line=3'>4</a>\u001b[0m user_story\u001b[39m.\u001b[39mdot_digraph()\n",
      "File \u001b[0;32m~/Desktop/dev/otosense/i2/i2/deco.py:139\u001b[0m, in \u001b[0;36m_double_up_as_factory\u001b[0;34m(wrapped, __decorator_func, *args, **kwargs)\u001b[0m\n\u001b[1;32m    137\u001b[0m     \u001b[39mreturn\u001b[39;00m partial(__decorator_func, \u001b[39m*\u001b[39m\u001b[39m*\u001b[39mkwargs)\n\u001b[1;32m    138\u001b[0m \u001b[39melse\u001b[39;00m:\n\u001b[0;32m--> 139\u001b[0m     \u001b[39mreturn\u001b[39;00m __decorator_func(wrapped, \u001b[39m*\u001b[39;49margs, \u001b[39m*\u001b[39;49m\u001b[39m*\u001b[39;49mkwargs)\n",
      "File \u001b[0;32m~/Desktop/dev/otosense/meshed/meshed/makers.py:513\u001b[0m, in \u001b[0;36mcode_to_dag\u001b[0;34m(src, func_src, name)\u001b[0m\n\u001b[1;32m    511\u001b[0m         name \u001b[39m=\u001b[39m name_of_obj(src)\n\u001b[1;32m    512\u001b[0m \u001b[39m# Pass on to _code_to_fnodes to get func nodes iterable needed to make DAG\u001b[39;00m\n\u001b[0;32m--> 513\u001b[0m fnodes \u001b[39m=\u001b[39m _code_to_fnodes(src, func_src)\n\u001b[1;32m    514\u001b[0m fnodes \u001b[39m=\u001b[39m \u001b[39mlist\u001b[39m(fnodes)\n\u001b[1;32m    515\u001b[0m \u001b[39mreturn\u001b[39;00m DAG(fnodes, name\u001b[39m=\u001b[39mname)\n",
      "File \u001b[0;32m~/Desktop/dev/otosense/meshed/meshed/makers.py:468\u001b[0m, in \u001b[0;36m_code_to_fnodes\u001b[0;34m(src, func_src)\u001b[0m\n\u001b[1;32m    466\u001b[0m \u001b[39mdef\u001b[39;00m \u001b[39m_code_to_fnodes\u001b[39m(src, func_src\u001b[39m=\u001b[39mdlft_factory_to_func):\n\u001b[1;32m    467\u001b[0m     \u001b[39m# Make all the funodes, but partial ones that don't have the func defined yet\u001b[39;00m\n\u001b[0;32m--> 468\u001b[0m     fnodes_factories \u001b[39m=\u001b[39m \u001b[39mlist\u001b[39;49m(src_to_func_node_factory(src))\n\u001b[1;32m    469\u001b[0m     \u001b[39m# \"Inject\" the actual functions\u001b[39;00m\n\u001b[1;32m    470\u001b[0m     \u001b[39mreturn\u001b[39;00m mk_fnodes_from_fn_factories(fnodes_factories, func_src)\n",
      "File \u001b[0;32m~/Desktop/dev/otosense/meshed/meshed/makers.py:388\u001b[0m, in \u001b[0;36msrc_to_func_node_factory\u001b[0;34m(src, exclude_names)\u001b[0m\n\u001b[1;32m    382\u001b[0m \u001b[39m\"\"\"\u001b[39;00m\n\u001b[1;32m    383\u001b[0m \u001b[39m:param src: Callable or string of callable.\u001b[39;00m\n\u001b[1;32m    384\u001b[0m \u001b[39m:param exclude_names: Names to exclude when making func_nodes\u001b[39;00m\n\u001b[1;32m    385\u001b[0m \u001b[39m:return:\u001b[39;00m\n\u001b[1;32m    386\u001b[0m \u001b[39m\"\"\"\u001b[39;00m\n\u001b[1;32m    387\u001b[0m exclude_names \u001b[39m=\u001b[39m \u001b[39mset\u001b[39m(exclude_names \u001b[39mor\u001b[39;00m \u001b[39mset\u001b[39m())\n\u001b[0;32m--> 388\u001b[0m \u001b[39mfor\u001b[39;00m i, target_value \u001b[39min\u001b[39;00m \u001b[39menumerate\u001b[39m(parse_assignment_steps(src), \u001b[39m1\u001b[39m):\n\u001b[1;32m    389\u001b[0m     \u001b[39mfor\u001b[39;00m node_kwargs \u001b[39min\u001b[39;00m parsed_to_node_kwargs(target_value):\n\u001b[1;32m    390\u001b[0m         node_kwargs[\u001b[39m'\u001b[39m\u001b[39mfunc_label\u001b[39m\u001b[39m'\u001b[39m] \u001b[39m=\u001b[39m node_kwargs[\u001b[39m'\u001b[39m\u001b[39mname\u001b[39m\u001b[39m'\u001b[39m]\n",
      "File \u001b[0;32m~/Desktop/dev/otosense/meshed/meshed/makers.py:361\u001b[0m, in \u001b[0;36mparse_assignment_steps\u001b[0;34m(src)\u001b[0m\n\u001b[1;32m    327\u001b[0m \u001b[39mdef\u001b[39;00m \u001b[39mparse_assignment_steps\u001b[39m(src):\n\u001b[1;32m    328\u001b[0m     \u001b[39m\"\"\"\u001b[39;00m\n\u001b[1;32m    329\u001b[0m \u001b[39m    Parse source code and generate tuples of information about it.\u001b[39;00m\n\u001b[1;32m    330\u001b[0m \n\u001b[0;32m   (...)\u001b[0m\n\u001b[1;32m    359\u001b[0m \n\u001b[1;32m    360\u001b[0m \u001b[39m    \"\"\"\u001b[39;00m\n\u001b[0;32m--> 361\u001b[0m     src \u001b[39m=\u001b[39m _ensure_src_string(src)\n\u001b[1;32m    362\u001b[0m     root \u001b[39m=\u001b[39m robust_ast_parse(src)\n\u001b[1;32m    363\u001b[0m     \u001b[39massert\u001b[39;00m \u001b[39mlen\u001b[39m(root\u001b[39m.\u001b[39mbody) \u001b[39m==\u001b[39m \u001b[39m1\u001b[39m\n",
      "File \u001b[0;32m~/Desktop/dev/otosense/meshed/meshed/makers.py:300\u001b[0m, in \u001b[0;36m_ensure_src_string\u001b[0;34m(src)\u001b[0m\n\u001b[1;32m    298\u001b[0m \u001b[39mdef\u001b[39;00m \u001b[39m_ensure_src_string\u001b[39m(src):\n\u001b[1;32m    299\u001b[0m     \u001b[39mif\u001b[39;00m callable(src):\n\u001b[0;32m--> 300\u001b[0m         src \u001b[39m=\u001b[39m inspect\u001b[39m.\u001b[39;49mgetsource(src)\n\u001b[1;32m    301\u001b[0m     \u001b[39mreturn\u001b[39;00m src\n",
      "File \u001b[0;32m~/opt/anaconda3/envs/otopy38/lib/python3.8/inspect.py:997\u001b[0m, in \u001b[0;36mgetsource\u001b[0;34m(object)\u001b[0m\n\u001b[1;32m    991\u001b[0m \u001b[39mdef\u001b[39;00m \u001b[39mgetsource\u001b[39m(\u001b[39mobject\u001b[39m):\n\u001b[1;32m    992\u001b[0m     \u001b[39m\"\"\"Return the text of the source code for an object.\u001b[39;00m\n\u001b[1;32m    993\u001b[0m \n\u001b[1;32m    994\u001b[0m \u001b[39m    The argument may be a module, class, method, function, traceback, frame,\u001b[39;00m\n\u001b[1;32m    995\u001b[0m \u001b[39m    or code object.  The source code is returned as a single string.  An\u001b[39;00m\n\u001b[1;32m    996\u001b[0m \u001b[39m    OSError is raised if the source code cannot be retrieved.\"\"\"\u001b[39;00m\n\u001b[0;32m--> 997\u001b[0m     lines, lnum \u001b[39m=\u001b[39m getsourcelines(\u001b[39mobject\u001b[39;49m)\n\u001b[1;32m    998\u001b[0m     \u001b[39mreturn\u001b[39;00m \u001b[39m'\u001b[39m\u001b[39m'\u001b[39m\u001b[39m.\u001b[39mjoin(lines)\n",
      "File \u001b[0;32m~/opt/anaconda3/envs/otopy38/lib/python3.8/inspect.py:979\u001b[0m, in \u001b[0;36mgetsourcelines\u001b[0;34m(object)\u001b[0m\n\u001b[1;32m    971\u001b[0m \u001b[39m\"\"\"Return a list of source lines and starting line number for an object.\u001b[39;00m\n\u001b[1;32m    972\u001b[0m \n\u001b[1;32m    973\u001b[0m \u001b[39mThe argument may be a module, class, method, function, traceback, frame,\u001b[39;00m\n\u001b[0;32m   (...)\u001b[0m\n\u001b[1;32m    976\u001b[0m \u001b[39moriginal source file the first line of code was found.  An OSError is\u001b[39;00m\n\u001b[1;32m    977\u001b[0m \u001b[39mraised if the source code cannot be retrieved.\"\"\"\u001b[39;00m\n\u001b[1;32m    978\u001b[0m \u001b[39mobject\u001b[39m \u001b[39m=\u001b[39m unwrap(\u001b[39mobject\u001b[39m)\n\u001b[0;32m--> 979\u001b[0m lines, lnum \u001b[39m=\u001b[39m findsource(\u001b[39mobject\u001b[39;49m)\n\u001b[1;32m    981\u001b[0m \u001b[39mif\u001b[39;00m istraceback(\u001b[39mobject\u001b[39m):\n\u001b[1;32m    982\u001b[0m     \u001b[39mobject\u001b[39m \u001b[39m=\u001b[39m \u001b[39mobject\u001b[39m\u001b[39m.\u001b[39mtb_frame\n",
      "File \u001b[0;32m~/opt/anaconda3/envs/otopy38/lib/python3.8/inspect.py:780\u001b[0m, in \u001b[0;36mfindsource\u001b[0;34m(object)\u001b[0m\n\u001b[1;32m    772\u001b[0m \u001b[39mdef\u001b[39;00m \u001b[39mfindsource\u001b[39m(\u001b[39mobject\u001b[39m):\n\u001b[1;32m    773\u001b[0m     \u001b[39m\"\"\"Return the entire source file and starting line number for an object.\u001b[39;00m\n\u001b[1;32m    774\u001b[0m \n\u001b[1;32m    775\u001b[0m \u001b[39m    The argument may be a module, class, method, function, traceback, frame,\u001b[39;00m\n\u001b[1;32m    776\u001b[0m \u001b[39m    or code object.  The source code is returned as a list of all the lines\u001b[39;00m\n\u001b[1;32m    777\u001b[0m \u001b[39m    in the file and the line number indexes a line in that list.  An OSError\u001b[39;00m\n\u001b[1;32m    778\u001b[0m \u001b[39m    is raised if the source code cannot be retrieved.\"\"\"\u001b[39;00m\n\u001b[0;32m--> 780\u001b[0m     file \u001b[39m=\u001b[39m getsourcefile(\u001b[39mobject\u001b[39;49m)\n\u001b[1;32m    781\u001b[0m     \u001b[39mif\u001b[39;00m file:\n\u001b[1;32m    782\u001b[0m         \u001b[39m# Invalidate cache if needed.\u001b[39;00m\n\u001b[1;32m    783\u001b[0m         linecache\u001b[39m.\u001b[39mcheckcache(file)\n",
      "File \u001b[0;32m~/opt/anaconda3/envs/otopy38/lib/python3.8/inspect.py:696\u001b[0m, in \u001b[0;36mgetsourcefile\u001b[0;34m(object)\u001b[0m\n\u001b[1;32m    692\u001b[0m \u001b[39mdef\u001b[39;00m \u001b[39mgetsourcefile\u001b[39m(\u001b[39mobject\u001b[39m):\n\u001b[1;32m    693\u001b[0m     \u001b[39m\"\"\"Return the filename that can be used to locate an object's source.\u001b[39;00m\n\u001b[1;32m    694\u001b[0m \u001b[39m    Return None if no way can be identified to get the source.\u001b[39;00m\n\u001b[1;32m    695\u001b[0m \u001b[39m    \"\"\"\u001b[39;00m\n\u001b[0;32m--> 696\u001b[0m     filename \u001b[39m=\u001b[39m getfile(\u001b[39mobject\u001b[39;49m)\n\u001b[1;32m    697\u001b[0m     all_bytecode_suffixes \u001b[39m=\u001b[39m importlib\u001b[39m.\u001b[39mmachinery\u001b[39m.\u001b[39mDEBUG_BYTECODE_SUFFIXES[:]\n\u001b[1;32m    698\u001b[0m     all_bytecode_suffixes \u001b[39m+\u001b[39m\u001b[39m=\u001b[39m importlib\u001b[39m.\u001b[39mmachinery\u001b[39m.\u001b[39mOPTIMIZED_BYTECODE_SUFFIXES[:]\n",
      "File \u001b[0;32m~/opt/anaconda3/envs/otopy38/lib/python3.8/inspect.py:676\u001b[0m, in \u001b[0;36mgetfile\u001b[0;34m(object)\u001b[0m\n\u001b[1;32m    674\u001b[0m \u001b[39mif\u001b[39;00m iscode(\u001b[39mobject\u001b[39m):\n\u001b[1;32m    675\u001b[0m     \u001b[39mreturn\u001b[39;00m \u001b[39mobject\u001b[39m\u001b[39m.\u001b[39mco_filename\n\u001b[0;32m--> 676\u001b[0m \u001b[39mraise\u001b[39;00m \u001b[39mTypeError\u001b[39;00m(\u001b[39m'\u001b[39m\u001b[39mmodule, class, method, function, traceback, frame, or \u001b[39m\u001b[39m'\u001b[39m\n\u001b[1;32m    677\u001b[0m                 \u001b[39m'\u001b[39m\u001b[39mcode object was expected, got \u001b[39m\u001b[39m{}\u001b[39;00m\u001b[39m'\u001b[39m\u001b[39m.\u001b[39mformat(\n\u001b[1;32m    678\u001b[0m                 \u001b[39mtype\u001b[39m(\u001b[39mobject\u001b[39m)\u001b[39m.\u001b[39m\u001b[39m__name__\u001b[39m))\n",
      "\u001b[0;31mTypeError\u001b[0m: module, class, method, function, traceback, frame, or code object was expected, got DAG"
     ]
    }
   ],
   "source": [
    "# If I remove the arguments wf_filepath and annot_filepath\n",
    "# I hit the expected problem of same name for the arguments!\n",
    "user_story =code_to_dag(user_story, func_src=choices) #check code_to_dag to inject also output names\n",
    "user_story.dot_digraph()"
   ]
  },
  {
   "cell_type": "code",
   "execution_count": 122,
   "metadata": {},
   "outputs": [
    {
     "data": {
      "text/plain": [
       "<Sig (wf_filepath, annot_filepath)>"
      ]
     },
     "execution_count": 122,
     "metadata": {},
     "output_type": "execute_result"
    }
   ],
   "source": [
    "# connect dag to inputs\n",
    "from i2 import Sig\n",
    "sig = Sig(user_story)\n",
    "sig"
   ]
  },
  {
   "cell_type": "code",
   "execution_count": 123,
   "metadata": {},
   "outputs": [],
   "source": [
    "# example\n",
    "wf_filepath = '/Users/sylvain/Dropbox/Otosense/VacuumEdgeImpulse/'\n",
    "annots_filepath = '/Users/sylvain/Dropbox/sipyb/Testing/data/annots_vacuum.csv'"
   ]
  },
  {
   "cell_type": "code",
   "execution_count": 124,
   "metadata": {},
   "outputs": [
    {
     "data": {
      "text/plain": [
       "('m', 'k')"
      ]
     },
     "execution_count": 124,
     "metadata": {},
     "output_type": "execute_result"
    }
   ],
   "source": [
    "user_story(wf_filepath, annots_filepath)"
   ]
  },
  {
   "cell_type": "code",
   "execution_count": 125,
   "metadata": {},
   "outputs": [],
   "source": [
    "# make an app from the dag"
   ]
  },
  {
   "cell_type": "markdown",
   "metadata": {},
   "source": [
    "# DAG maker"
   ]
  },
  {
   "cell_type": "code",
   "execution_count": 126,
   "metadata": {},
   "outputs": [
    {
     "ename": "SyntaxError",
     "evalue": "invalid syntax (3000472892.py, line 13)",
     "output_type": "error",
     "traceback": [
      "\u001b[0;36m  Input \u001b[0;32mIn [126]\u001b[0;36m\u001b[0m\n\u001b[0;31m    -> creates a DAG\u001b[0m\n\u001b[0m    ^\u001b[0m\n\u001b[0;31mSyntaxError\u001b[0m\u001b[0;31m:\u001b[0m invalid syntax\n"
     ]
    }
   ],
   "source": [
    "# Assemble a generic dag, from the types appearing in the signatures\n",
    "# Use types from atypes\n",
    "chunker: chunker #Generic one\n",
    "FixedSizeChunker\n",
    "FixedSizeChunker100\n",
    "ThresholdChunker\n",
    "WfStoreMaker\n",
    "AnnotStoreMaker\n",
    "featurizer\n",
    "FeaturizerVolume\n",
    "FeaturizerTileFFT\n",
    "\n",
    "-> creates a DAG \n",
    "-> DAG is displayed with inputs\n",
    "\n",
    "\n",
    "featurizer: featurizer\n",
    "\n",
    "metadata = {'FixedSizeChunker':{'out':'chks'}, \n",
    "            'FixedSizeChunker100:{'out':'chks'},\n",
    "            'ThresholdChunker': {'out':'chks'}\n",
    "            }"
   ]
  },
  {
   "cell_type": "code",
   "execution_count": 131,
   "metadata": {},
   "outputs": [],
   "source": [
    "metadata = {'FixedSizeChunker':{'func':FixedSizeChunker, 'out':'chks'}, \n",
    "            'FixedSizeChunker100':{'out':'chks'},\n",
    "            'ThresholdChunker': {'out':'chks'},\n",
    "            'FixedSizeChunkerMaker':{'func':DFLT_CHUNKER_MAKER,'out':'chunker'},\n",
    "            'FeaturizerMaker':{'func':DFLT_FEATURIZER_MAKER, 'out':'featurizer'},\n",
    "             'key_fvs_to_tag_fvs':{'func':key_fvs_to_tag_fvs},\n",
    "            'Featurizer':{'func':DFLT_FEATURIZER, 'out':'fvs'},\n",
    "            'store_to_key_fvs':{'func':store_to_key_fvs,'out':'key_fvs'},\n",
    "            'key_fvs_to_tag_fvs':{'func':key_fvs_to_tag_fvs,'out':'tag_fv_iterator'},\n",
    "            'WfStoreMaker':{'func':data_from_wav_folder, 'out':'wf_store', 'bind':{'filepath':'wf_filepath'}},\n",
    "            'AnnotsStoreMaker':{'func':data_from_csv, 'out':'annots_df'},\n",
    "            'mk_Xy':{'func':mk_Xy}\n",
    "            }"
   ]
  },
  {
   "cell_type": "code",
   "execution_count": 135,
   "metadata": {},
   "outputs": [],
   "source": [
    "# refactor with functions from meshed.makers\n",
    "\n",
    "from meshed import FuncNode\n",
    "\n",
    "FixedSizeChunker = DFLT_CHUNKER\n",
    "Featurizer = DFLT_FEATURIZER\n",
    "\n",
    "def funcnode_maker(name):\n",
    "    kwargs = metadata[name]\n",
    "    return FuncNode(**kwargs)\n",
    "\n",
    "def dag_maker(funcnames_list):\n",
    "    func_nodes = list(map(funcnode_maker, funcnames_list))\n",
    "    return DAG(func_nodes)"
   ]
  },
  {
   "cell_type": "code",
   "execution_count": 133,
   "metadata": {},
   "outputs": [],
   "source": [
    "#funcnode_maker('FixedSizeChunker')\n",
    "funcnames_list = ['FixedSizeChunkerMaker', 'FeaturizerMaker', 'WfStoreMaker', 'AnnotsStoreMaker', 'key_fvs_to_tag_fvs', 'store_to_key_fvs','key_fvs_to_tag_fvs', 'mk_Xy']"
   ]
  },
  {
   "cell_type": "code",
   "execution_count": 134,
   "metadata": {},
   "outputs": [
    {
     "data": {
      "image/svg+xml": "<?xml version=\"1.0\" encoding=\"UTF-8\" standalone=\"no\"?>\n<!DOCTYPE svg PUBLIC \"-//W3C//DTD SVG 1.1//EN\"\n \"http://www.w3.org/Graphics/SVG/1.1/DTD/svg11.dtd\">\n<!-- Generated by graphviz version 2.40.1 (20161225.0304)\n -->\n<!-- Title: %3 Pages: 1 -->\n<svg width=\"392pt\" height=\"620pt\"\n viewBox=\"0.00 0.00 391.50 620.00\" xmlns=\"http://www.w3.org/2000/svg\" xmlns:xlink=\"http://www.w3.org/1999/xlink\">\n<g id=\"graph0\" class=\"graph\" transform=\"scale(1 1) rotate(0) translate(4 616)\">\n<title>%3</title>\n<polygon fill=\"#ffffff\" stroke=\"transparent\" points=\"-4,4 -4,-616 387.5,-616 387.5,4 -4,4\"/>\n<!-- chunker -->\n<g id=\"node1\" class=\"node\">\n<title>chunker</title>\n<text text-anchor=\"middle\" x=\"316.5\" y=\"-446.3\" font-family=\"Times,serif\" font-size=\"14.00\" fill=\"#000000\">chunker=</text>\n</g>\n<!-- store_to_key_fvs -->\n<g id=\"node12\" class=\"node\">\n<title>store_to_key_fvs</title>\n<polygon fill=\"none\" stroke=\"#000000\" points=\"250,-396 137,-396 137,-360 250,-360 250,-396\"/>\n<text text-anchor=\"middle\" x=\"193.5\" y=\"-374.3\" font-family=\"Times,serif\" font-size=\"14.00\" fill=\"#000000\">store_to_key_fvs</text>\n</g>\n<!-- chunker&#45;&gt;store_to_key_fvs -->\n<g id=\"edge9\" class=\"edge\">\n<title>chunker&#45;&gt;store_to_key_fvs</title>\n<path fill=\"none\" stroke=\"#000000\" d=\"M285.4619,-431.8314C269.7295,-422.6221 250.4389,-411.3301 233.5956,-401.4706\"/>\n<polygon fill=\"#000000\" stroke=\"#000000\" points=\"234.9265,-398.1941 224.5282,-396.1628 231.3902,-404.2352 234.9265,-398.1941\"/>\n</g>\n<!-- lambda_023 -->\n<g id=\"node2\" class=\"node\">\n<title>lambda_023</title>\n<polygon fill=\"none\" stroke=\"#000000\" points=\"383.5,-540 297.5,-540 297.5,-504 383.5,-504 383.5,-540\"/>\n<text text-anchor=\"middle\" x=\"340.5\" y=\"-518.3\" font-family=\"Times,serif\" font-size=\"14.00\" fill=\"#000000\">lambda_023</text>\n</g>\n<!-- lambda_023&#45;&gt;chunker -->\n<g id=\"edge1\" class=\"edge\">\n<title>lambda_023&#45;&gt;chunker</title>\n<path fill=\"none\" stroke=\"#000000\" d=\"M334.4438,-503.8314C331.8488,-496.0463 328.7576,-486.7729 325.8782,-478.1347\"/>\n<polygon fill=\"#000000\" stroke=\"#000000\" points=\"329.1205,-476.7933 322.6378,-468.4133 322.4797,-479.0069 329.1205,-476.7933\"/>\n</g>\n<!-- featurizer -->\n<g id=\"node3\" class=\"node\">\n<title>featurizer</title>\n<text text-anchor=\"middle\" x=\"116.5\" y=\"-446.3\" font-family=\"Times,serif\" font-size=\"14.00\" fill=\"#000000\">featurizer=</text>\n</g>\n<!-- featurizer&#45;&gt;store_to_key_fvs -->\n<g id=\"edge10\" class=\"edge\">\n<title>featurizer&#45;&gt;store_to_key_fvs</title>\n<path fill=\"none\" stroke=\"#000000\" d=\"M135.9304,-431.8314C145.232,-423.1337 156.5204,-412.5783 166.6286,-403.1265\"/>\n<polygon fill=\"#000000\" stroke=\"#000000\" points=\"169.1621,-405.5493 174.0759,-396.1628 164.3811,-400.4363 169.1621,-405.5493\"/>\n</g>\n<!-- lambda_024 -->\n<g id=\"node4\" class=\"node\">\n<title>lambda_024</title>\n<polygon fill=\"none\" stroke=\"#000000\" points=\"115.5,-540 29.5,-540 29.5,-504 115.5,-504 115.5,-540\"/>\n<text text-anchor=\"middle\" x=\"72.5\" y=\"-518.3\" font-family=\"Times,serif\" font-size=\"14.00\" fill=\"#000000\">lambda_024</text>\n</g>\n<!-- lambda_024&#45;&gt;featurizer -->\n<g id=\"edge2\" class=\"edge\">\n<title>lambda_024&#45;&gt;featurizer</title>\n<path fill=\"none\" stroke=\"#000000\" d=\"M83.6031,-503.8314C88.5674,-495.7079 94.5222,-485.9637 99.9928,-477.0118\"/>\n<polygon fill=\"#000000\" stroke=\"#000000\" points=\"103.0194,-478.7712 105.2474,-468.4133 97.0464,-475.121 103.0194,-478.7712\"/>\n</g>\n<!-- wf_store -->\n<g id=\"node5\" class=\"node\">\n<title>wf_store</title>\n<text text-anchor=\"middle\" x=\"206.5\" y=\"-446.3\" font-family=\"Times,serif\" font-size=\"14.00\" fill=\"#000000\">wf_store</text>\n</g>\n<!-- wf_store&#45;&gt;store_to_key_fvs -->\n<g id=\"edge8\" class=\"edge\">\n<title>wf_store&#45;&gt;store_to_key_fvs</title>\n<path fill=\"none\" stroke=\"#000000\" d=\"M203.2196,-431.8314C201.8292,-424.131 200.1759,-414.9743 198.6308,-406.4166\"/>\n<polygon fill=\"#000000\" stroke=\"#000000\" points=\"202.0458,-405.6322 196.8246,-396.4133 195.1572,-406.8761 202.0458,-405.6322\"/>\n</g>\n<!-- wf_filepath -->\n<g id=\"node6\" class=\"node\">\n<title>wf_filepath</title>\n<text text-anchor=\"middle\" x=\"206.5\" y=\"-590.3\" font-family=\"Times,serif\" font-size=\"14.00\" fill=\"#000000\">wf_filepath</text>\n</g>\n<!-- data_from_wav_folder -->\n<g id=\"node7\" class=\"node\">\n<title>data_from_wav_folder</title>\n<polygon fill=\"none\" stroke=\"#000000\" points=\"279,-540 134,-540 134,-504 279,-504 279,-540\"/>\n<text text-anchor=\"middle\" x=\"206.5\" y=\"-518.3\" font-family=\"Times,serif\" font-size=\"14.00\" fill=\"#000000\">data_from_wav_folder</text>\n</g>\n<!-- wf_filepath&#45;&gt;data_from_wav_folder -->\n<g id=\"edge4\" class=\"edge\">\n<title>wf_filepath&#45;&gt;data_from_wav_folder</title>\n<path fill=\"none\" stroke=\"#000000\" d=\"M206.5,-575.8314C206.5,-568.131 206.5,-558.9743 206.5,-550.4166\"/>\n<polygon fill=\"#000000\" stroke=\"#000000\" points=\"210.0001,-550.4132 206.5,-540.4133 203.0001,-550.4133 210.0001,-550.4132\"/>\n</g>\n<!-- data_from_wav_folder&#45;&gt;wf_store -->\n<g id=\"edge3\" class=\"edge\">\n<title>data_from_wav_folder&#45;&gt;wf_store</title>\n<path fill=\"none\" stroke=\"#000000\" d=\"M206.5,-503.8314C206.5,-496.131 206.5,-486.9743 206.5,-478.4166\"/>\n<polygon fill=\"#000000\" stroke=\"#000000\" points=\"210.0001,-478.4132 206.5,-468.4133 203.0001,-478.4133 210.0001,-478.4132\"/>\n</g>\n<!-- annots_df -->\n<g id=\"node8\" class=\"node\">\n<title>annots_df</title>\n<text text-anchor=\"middle\" x=\"75.5\" y=\"-302.3\" font-family=\"Times,serif\" font-size=\"14.00\" fill=\"#000000\">annots_df</text>\n</g>\n<!-- key_fvs_to_tag_fvs -->\n<g id=\"node14\" class=\"node\">\n<title>key_fvs_to_tag_fvs</title>\n<polygon fill=\"none\" stroke=\"#000000\" points=\"181,-252 54,-252 54,-216 181,-216 181,-252\"/>\n<text text-anchor=\"middle\" x=\"117.5\" y=\"-230.3\" font-family=\"Times,serif\" font-size=\"14.00\" fill=\"#000000\">key_fvs_to_tag_fvs</text>\n</g>\n<!-- annots_df&#45;&gt;key_fvs_to_tag_fvs -->\n<g id=\"edge13\" class=\"edge\">\n<title>annots_df&#45;&gt;key_fvs_to_tag_fvs</title>\n<path fill=\"none\" stroke=\"#000000\" d=\"M86.0984,-287.8314C90.7877,-279.7925 96.4028,-270.1666 101.5798,-261.2918\"/>\n<polygon fill=\"#000000\" stroke=\"#000000\" points=\"104.7434,-262.8146 106.7589,-252.4133 98.6969,-259.2875 104.7434,-262.8146\"/>\n</g>\n<!-- filepath -->\n<g id=\"node9\" class=\"node\">\n<title>filepath</title>\n<text text-anchor=\"middle\" x=\"29.5\" y=\"-446.3\" font-family=\"Times,serif\" font-size=\"14.00\" fill=\"#000000\">filepath</text>\n</g>\n<!-- data_from_csv -->\n<g id=\"node10\" class=\"node\">\n<title>data_from_csv</title>\n<polygon fill=\"none\" stroke=\"#000000\" points=\"105.5,-396 5.5,-396 5.5,-360 105.5,-360 105.5,-396\"/>\n<text text-anchor=\"middle\" x=\"55.5\" y=\"-374.3\" font-family=\"Times,serif\" font-size=\"14.00\" fill=\"#000000\">data_from_csv</text>\n</g>\n<!-- filepath&#45;&gt;data_from_csv -->\n<g id=\"edge6\" class=\"edge\">\n<title>filepath&#45;&gt;data_from_csv</title>\n<path fill=\"none\" stroke=\"#000000\" d=\"M36.0609,-431.8314C38.9027,-423.9617 42.2937,-414.5712 45.4419,-405.8533\"/>\n<polygon fill=\"#000000\" stroke=\"#000000\" points=\"48.7462,-407.0076 48.8508,-396.4133 42.1623,-404.63 48.7462,-407.0076\"/>\n</g>\n<!-- data_from_csv&#45;&gt;annots_df -->\n<g id=\"edge5\" class=\"edge\">\n<title>data_from_csv&#45;&gt;annots_df</title>\n<path fill=\"none\" stroke=\"#000000\" d=\"M60.5468,-359.8314C62.7094,-352.0463 65.2853,-342.7729 67.6848,-334.1347\"/>\n<polygon fill=\"#000000\" stroke=\"#000000\" points=\"71.081,-334.9852 70.3852,-324.4133 64.3364,-333.1117 71.081,-334.9852\"/>\n</g>\n<!-- key_fvs -->\n<g id=\"node11\" class=\"node\">\n<title>key_fvs</title>\n<text text-anchor=\"middle\" x=\"170.5\" y=\"-302.3\" font-family=\"Times,serif\" font-size=\"14.00\" fill=\"#000000\">key_fvs</text>\n</g>\n<!-- key_fvs&#45;&gt;key_fvs_to_tag_fvs -->\n<g id=\"edge12\" class=\"edge\">\n<title>key_fvs&#45;&gt;key_fvs_to_tag_fvs</title>\n<path fill=\"none\" stroke=\"#000000\" d=\"M157.1259,-287.8314C151.0838,-279.6232 143.8237,-269.7606 137.1779,-260.7323\"/>\n<polygon fill=\"#000000\" stroke=\"#000000\" points=\"139.8011,-258.3918 131.0542,-252.4133 134.1637,-262.5415 139.8011,-258.3918\"/>\n</g>\n<!-- store_to_key_fvs&#45;&gt;key_fvs -->\n<g id=\"edge7\" class=\"edge\">\n<title>store_to_key_fvs&#45;&gt;key_fvs</title>\n<path fill=\"none\" stroke=\"#000000\" d=\"M187.6961,-359.8314C185.2092,-352.0463 182.2469,-342.7729 179.4875,-334.1347\"/>\n<polygon fill=\"#000000\" stroke=\"#000000\" points=\"182.7591,-332.874 176.382,-324.4133 176.091,-335.0041 182.7591,-332.874\"/>\n</g>\n<!-- tag_fv_iterator -->\n<g id=\"node13\" class=\"node\">\n<title>tag_fv_iterator</title>\n<text text-anchor=\"middle\" x=\"117.5\" y=\"-158.3\" font-family=\"Times,serif\" font-size=\"14.00\" fill=\"#000000\">tag_fv_iterator</text>\n</g>\n<!-- mk_Xy_ -->\n<g id=\"node16\" class=\"node\">\n<title>mk_Xy_</title>\n<polygon fill=\"none\" stroke=\"#000000\" points=\"150.5,-108 84.5,-108 84.5,-72 150.5,-72 150.5,-108\"/>\n<text text-anchor=\"middle\" x=\"117.5\" y=\"-86.3\" font-family=\"Times,serif\" font-size=\"14.00\" fill=\"#000000\">mk_Xy_</text>\n</g>\n<!-- tag_fv_iterator&#45;&gt;mk_Xy_ -->\n<g id=\"edge15\" class=\"edge\">\n<title>tag_fv_iterator&#45;&gt;mk_Xy_</title>\n<path fill=\"none\" stroke=\"#000000\" d=\"M117.5,-143.8314C117.5,-136.131 117.5,-126.9743 117.5,-118.4166\"/>\n<polygon fill=\"#000000\" stroke=\"#000000\" points=\"121.0001,-118.4132 117.5,-108.4133 114.0001,-118.4133 121.0001,-118.4132\"/>\n</g>\n<!-- key_fvs_to_tag_fvs&#45;&gt;tag_fv_iterator -->\n<g id=\"edge11\" class=\"edge\">\n<title>key_fvs_to_tag_fvs&#45;&gt;tag_fv_iterator</title>\n<path fill=\"none\" stroke=\"#000000\" d=\"M117.5,-215.8314C117.5,-208.131 117.5,-198.9743 117.5,-190.4166\"/>\n<polygon fill=\"#000000\" stroke=\"#000000\" points=\"121.0001,-190.4132 117.5,-180.4133 114.0001,-190.4133 121.0001,-190.4132\"/>\n</g>\n<!-- mk_Xy -->\n<g id=\"node15\" class=\"node\">\n<title>mk_Xy</title>\n<text text-anchor=\"middle\" x=\"117.5\" y=\"-14.3\" font-family=\"Times,serif\" font-size=\"14.00\" fill=\"#000000\">mk_Xy</text>\n</g>\n<!-- mk_Xy_&#45;&gt;mk_Xy -->\n<g id=\"edge14\" class=\"edge\">\n<title>mk_Xy_&#45;&gt;mk_Xy</title>\n<path fill=\"none\" stroke=\"#000000\" d=\"M117.5,-71.8314C117.5,-64.131 117.5,-54.9743 117.5,-46.4166\"/>\n<polygon fill=\"#000000\" stroke=\"#000000\" points=\"121.0001,-46.4132 117.5,-36.4133 114.0001,-46.4133 121.0001,-46.4132\"/>\n</g>\n</g>\n</svg>\n",
      "text/plain": [
       "<graphviz.dot.Digraph at 0x7f8979ad6b20>"
      ]
     },
     "execution_count": 134,
     "metadata": {},
     "output_type": "execute_result"
    }
   ],
   "source": [
    "dag = dag_maker(funcnames_list)\n",
    "dag.dot_digraph()"
   ]
  },
  {
   "cell_type": "markdown",
   "metadata": {},
   "source": [
    "You read the type of the object, then read from metadata dict the names of the inputs, outputs, then create a funcnode from that info"
   ]
  },
  {
   "cell_type": "code",
   "execution_count": 52,
   "metadata": {},
   "outputs": [],
   "source": [
    "from atypes.typ import Chunker, Featurizer\n",
    "\n",
    "def my_chunker(arr):\n",
    "    pass\n",
    "\n",
    "chker: Chunker = my_chunker\n",
    "\n",
    "def chunker_factory()->Chunker:\n",
    "    pass\n",
    "\n",
    "def dag_maker(func_list):\n",
    "    pass"
   ]
  },
  {
   "cell_type": "code",
   "execution_count": 7,
   "metadata": {},
   "outputs": [
    {
     "name": "stderr",
     "output_type": "stream",
     "text": [
      "<frozen importlib._bootstrap>:219: RuntimeWarning: scipy._lib.messagestream.MessageStream size changed, may indicate binary incompatibility. Expected 56 from C header, got 64 from PyObject\n"
     ]
    }
   ],
   "source": [
    "from plunk.sb.front_experiments.streamlitfront_dataprep.data_prep2 import (\n",
    "    # DFLT_WF_PATH,\n",
    "    DFLT_ANNOT_PATH,\n",
    "    data_from_wav_folder,\n",
    "    data_from_csv,\n",
    "    store_to_key_fvs,\n",
    "    key_fvs_to_tag_fvs,\n",
    "    mk_Xy,\n",
    ")"
   ]
  },
  {
   "cell_type": "code",
   "execution_count": 8,
   "metadata": {},
   "outputs": [
    {
     "name": "stdout",
     "output_type": "stream",
     "text": [
      "\u001b[0;31mSignature:\u001b[0m \u001b[0mkey_fvs_to_tag_fvs\u001b[0m\u001b[0;34m(\u001b[0m\u001b[0mkey_fvs\u001b[0m\u001b[0;34m,\u001b[0m \u001b[0mannots_df\u001b[0m\u001b[0;34m)\u001b[0m\u001b[0;34m\u001b[0m\u001b[0;34m\u001b[0m\u001b[0m\n",
      "\u001b[0;31mDocstring:\u001b[0m <no docstring>\n",
      "\u001b[0;31mSource:\u001b[0m   \n",
      "\u001b[0;32mdef\u001b[0m \u001b[0mkey_fvs_to_tag_fvs\u001b[0m\u001b[0;34m(\u001b[0m\u001b[0mkey_fvs\u001b[0m\u001b[0;34m,\u001b[0m \u001b[0mannots_df\u001b[0m\u001b[0;34m)\u001b[0m\u001b[0;34m:\u001b[0m\u001b[0;34m\u001b[0m\n",
      "\u001b[0;34m\u001b[0m    \u001b[0mfunc\u001b[0m \u001b[0;34m=\u001b[0m \u001b[0mpartial\u001b[0m\u001b[0;34m(\u001b[0m\u001b[0mkey_to_tag_from_annots\u001b[0m\u001b[0;34m,\u001b[0m \u001b[0mannots_df\u001b[0m\u001b[0;34m=\u001b[0m\u001b[0mannots_df\u001b[0m\u001b[0;34m)\u001b[0m\u001b[0;34m\u001b[0m\n",
      "\u001b[0;34m\u001b[0m    \u001b[0mtagger\u001b[0m \u001b[0;34m=\u001b[0m \u001b[0mpartial\u001b[0m\u001b[0;34m(\u001b[0m\u001b[0mapply_func_to_index\u001b[0m\u001b[0;34m,\u001b[0m \u001b[0mapply_to_idx\u001b[0m\u001b[0;34m=\u001b[0m\u001b[0;36m0\u001b[0m\u001b[0;34m,\u001b[0m \u001b[0mfunc\u001b[0m\u001b[0;34m=\u001b[0m\u001b[0mfunc\u001b[0m\u001b[0;34m)\u001b[0m\u001b[0;34m\u001b[0m\n",
      "\u001b[0;34m\u001b[0m\u001b[0;34m\u001b[0m\n",
      "\u001b[0;34m\u001b[0m    \u001b[0;32myield\u001b[0m \u001b[0;32mfrom\u001b[0m \u001b[0mmap\u001b[0m\u001b[0;34m(\u001b[0m\u001b[0mtagger\u001b[0m\u001b[0;34m,\u001b[0m \u001b[0mkey_fvs\u001b[0m\u001b[0;34m)\u001b[0m\u001b[0;34m\u001b[0m\u001b[0;34m\u001b[0m\u001b[0m\n",
      "\u001b[0;31mFile:\u001b[0m      ~/Desktop/dev/otosense/plunk/plunk/sb/front_experiments/streamlitfront_dataprep/data_prep2.py\n",
      "\u001b[0;31mType:\u001b[0m      function\n"
     ]
    }
   ],
   "source": [
    "key_fvs_to_tag_fvs??"
   ]
  },
  {
   "cell_type": "code",
   "execution_count": 22,
   "metadata": {},
   "outputs": [],
   "source": [
    "d= DAG()"
   ]
  },
  {
   "cell_type": "code",
   "execution_count": 23,
   "metadata": {},
   "outputs": [
    {
     "data": {
      "image/svg+xml": "<?xml version=\"1.0\" encoding=\"UTF-8\" standalone=\"no\"?>\n<!DOCTYPE svg PUBLIC \"-//W3C//DTD SVG 1.1//EN\"\n \"http://www.w3.org/Graphics/SVG/1.1/DTD/svg11.dtd\">\n<!-- Generated by graphviz version 2.40.1 (20161225.0304)\n -->\n<!-- Title: %3 Pages: 1 -->\n<svg width=\"8pt\" height=\"8pt\"\n viewBox=\"0.00 0.00 8.00 8.00\" xmlns=\"http://www.w3.org/2000/svg\" xmlns:xlink=\"http://www.w3.org/1999/xlink\">\n<g id=\"graph0\" class=\"graph\" transform=\"scale(1 1) rotate(0) translate(4 4)\">\n<title>%3</title>\n<polygon fill=\"#ffffff\" stroke=\"transparent\" points=\"-4,4 -4,-4 4,-4 4,4 -4,4\"/>\n</g>\n</svg>\n",
      "text/plain": [
       "<graphviz.dot.Digraph at 0x7f897b89cd90>"
      ]
     },
     "execution_count": 23,
     "metadata": {},
     "output_type": "execute_result"
    }
   ],
   "source": [
    "d.add_edge()"
   ]
  },
  {
   "cell_type": "code",
   "execution_count": null,
   "metadata": {},
   "outputs": [],
   "source": [
    "from taped import WfChunks\n",
    "import numpy as np\n",
    "\n",
    "\n",
    "\n",
    "def gen():\n",
    "    with WfChunks() as wf_chks:\n",
    "        for chk in wf_chks:\n",
    "            yield np.std(chk)"
   ]
  },
  {
   "cell_type": "code",
   "execution_count": 6,
   "metadata": {},
   "outputs": [
    {
     "ename": "SyntaxError",
     "evalue": "invalid syntax (dacc.py, line 5)",
     "output_type": "error",
     "traceback": [
      "Traceback \u001b[0;36m(most recent call last)\u001b[0m:\n",
      "  File \u001b[1;32m~/opt/anaconda3/envs/otopy38/lib/python3.8/site-packages/IPython/core/interactiveshell.py:3398\u001b[0m in \u001b[1;35mrun_code\u001b[0m\n    exec(code_obj, self.user_global_ns, self.user_ns)\n",
      "\u001b[0;36m  Input \u001b[0;32mIn [6]\u001b[0;36m in \u001b[0;35m<cell line: 1>\u001b[0;36m\u001b[0m\n\u001b[0;31m    from oscrap.ca.dacc import Dacc\u001b[0m\n",
      "\u001b[0;36m  File \u001b[0;32m~/Desktop/dev/otosense/oscrap/ca/dacc.py:5\u001b[0;36m\u001b[0m\n\u001b[0;31m    <<<<<<< HEAD\u001b[0m\n\u001b[0m    ^\u001b[0m\n\u001b[0;31mSyntaxError\u001b[0m\u001b[0;31m:\u001b[0m invalid syntax\n"
     ]
    }
   ],
   "source": [
    "from oscrap.ca.dacc import Dacc\n",
    "\n",
    "def dacc_to_seg_gen_func(\n",
    "    wfs_store,\n",
    "    annotation_gen,\n",
    "    annot_to_sref_bt_tt,\n",
    "    seg_and_annot_func,\n",
    "    annot_filter=lambda x: True,\n",
    "    flatten=True,\n",
    "    on_exception=None,\n",
    "):\n",
    "    \"\"\"\n",
    "    Util to turn the turn the segment_gen method of a dacc into a function usable in a FuncNode\n",
    "    \"\"\"\n",
    "    dacc = Dacc(wfs_store, annotation_gen)\n",
    "    return dacc.segment_gen(\n",
    "        annot_filter, annot_to_sref_bt_tt, seg_and_annot_func, flatten, on_exception\n",
    "    )"
   ]
  },
  {
   "cell_type": "code",
   "execution_count": null,
   "metadata": {},
   "outputs": [],
   "source": []
  },
  {
   "cell_type": "code",
   "execution_count": null,
   "metadata": {},
   "outputs": [],
   "source": []
  },
  {
   "cell_type": "markdown",
   "metadata": {},
   "source": []
  },
  {
   "cell_type": "code",
   "execution_count": 1,
   "metadata": {},
   "outputs": [],
   "source": [
    "from typing import Callable\n",
    "\n",
    "f = lambda x, y=0: x + y\n",
    "\n",
    "class SomeCallableClass(Callable):\n",
    "    def __init__(self, f):\n",
    "        self.func = f\n",
    "    def __call__(self, *args, **kwargs):\n",
    "        return self.func(*args, **kwargs)"
   ]
  },
  {
   "cell_type": "code",
   "execution_count": 2,
   "metadata": {},
   "outputs": [],
   "source": [
    "c= SomeCallableClass(f)"
   ]
  },
  {
   "cell_type": "code",
   "execution_count": 3,
   "metadata": {},
   "outputs": [
    {
     "data": {
      "text/plain": [
       "4"
      ]
     },
     "execution_count": 3,
     "metadata": {},
     "output_type": "execute_result"
    }
   ],
   "source": [
    "c(4)"
   ]
  },
  {
   "cell_type": "code",
   "execution_count": 4,
   "metadata": {},
   "outputs": [
    {
     "data": {
      "text/plain": [
       "['__annotations__',\n",
       " '__call__',\n",
       " '__class__',\n",
       " '__closure__',\n",
       " '__code__',\n",
       " '__defaults__',\n",
       " '__delattr__',\n",
       " '__dict__',\n",
       " '__dir__',\n",
       " '__doc__',\n",
       " '__eq__',\n",
       " '__format__',\n",
       " '__ge__',\n",
       " '__get__',\n",
       " '__getattribute__',\n",
       " '__globals__',\n",
       " '__gt__',\n",
       " '__hash__',\n",
       " '__init__',\n",
       " '__init_subclass__',\n",
       " '__kwdefaults__',\n",
       " '__le__',\n",
       " '__lt__',\n",
       " '__module__',\n",
       " '__name__',\n",
       " '__ne__',\n",
       " '__new__',\n",
       " '__qualname__',\n",
       " '__reduce__',\n",
       " '__reduce_ex__',\n",
       " '__repr__',\n",
       " '__setattr__',\n",
       " '__sizeof__',\n",
       " '__str__',\n",
       " '__subclasshook__']"
      ]
     },
     "execution_count": 4,
     "metadata": {},
     "output_type": "execute_result"
    }
   ],
   "source": [
    "dir(f)"
   ]
  },
  {
   "cell_type": "code",
   "execution_count": 5,
   "metadata": {},
   "outputs": [],
   "source": [
    "import types\n",
    "d = types.FunctionType(f.__code__, {})\n"
   ]
  },
  {
   "cell_type": "code",
   "execution_count": 6,
   "metadata": {},
   "outputs": [],
   "source": [
    "def func_maker(f): # this dynamically creates a function at module load time\n",
    "    def inner(*args, **kwargs): #this dynamically creates a function on execution of functor\n",
    "        return f(*args, **kwargs)\n",
    "\n",
    "    return inner"
   ]
  },
  {
   "cell_type": "code",
   "execution_count": 7,
   "metadata": {},
   "outputs": [],
   "source": [
    "cc = func_maker(f)"
   ]
  },
  {
   "cell_type": "code",
   "execution_count": 13,
   "metadata": {},
   "outputs": [
    {
     "data": {
      "text/plain": [
       "'my_func'"
      ]
     },
     "execution_count": 13,
     "metadata": {},
     "output_type": "execute_result"
    }
   ],
   "source": [
    "f.__name__"
   ]
  },
  {
   "cell_type": "code",
   "execution_count": 5,
   "metadata": {},
   "outputs": [],
   "source": [
    "import pickle\n",
    "f.__name__ = 'my_func'\n",
    "fff = pickle.loads(pickle.dumps(mf))\n",
    "assert fff(2, 3) == mf(2, 3) == f(2, 3)"
   ]
  },
  {
   "cell_type": "code",
   "execution_count": 3,
   "metadata": {},
   "outputs": [],
   "source": [
    "def mf(*args):\n",
    "    return f(*args)"
   ]
  },
  {
   "cell_type": "code",
   "execution_count": 5,
   "metadata": {},
   "outputs": [],
   "source": [
    "from i2.deco import FuncFactory\n",
    "from i2 import Sig\n",
    "from functools import partial"
   ]
  },
  {
   "cell_type": "code",
   "execution_count": 18,
   "metadata": {},
   "outputs": [
    {
     "data": {
      "text/plain": [
       "<Sig (y: int, z: int) -> Callable[..., Any]>"
      ]
     },
     "execution_count": 18,
     "metadata": {},
     "output_type": "execute_result"
    }
   ],
   "source": [
    "def foo(x:int, y:int, z:int):\n",
    "    return x+y\n",
    "\n",
    "factory = FuncFactory(foo)\n",
    "Sig(factory)\n",
    ">>> <Sig (y: int, z: int) -> Callable[..., Any]>"
   ]
  },
  {
   "cell_type": "code",
   "execution_count": 17,
   "metadata": {},
   "outputs": [
    {
     "data": {
      "text/plain": [
       "<Sig (*, x: int = 2, y: int, z: int = 3)>"
      ]
     },
     "execution_count": 17,
     "metadata": {},
     "output_type": "execute_result"
    }
   ],
   "source": [
    "Sig(factory(x=2, z=3))"
   ]
  },
  {
   "cell_type": "code",
   "execution_count": 15,
   "metadata": {},
   "outputs": [
    {
     "data": {
      "text/plain": [
       "<Sig (y: int, z: int) -> Callable[..., Any]>"
      ]
     },
     "execution_count": 15,
     "metadata": {},
     "output_type": "execute_result"
    }
   ],
   "source": [
    "Sig(factory)"
   ]
  },
  {
   "cell_type": "code",
   "execution_count": 7,
   "metadata": {},
   "outputs": [],
   "source": [
    "Factor = lambda func: lambda *args, **kwargs: partial(func, *args, **kwargs)"
   ]
  },
  {
   "cell_type": "code",
   "execution_count": 8,
   "metadata": {},
   "outputs": [
    {
     "data": {
      "text/plain": [
       "<Sig (*args, **kwargs)>"
      ]
     },
     "execution_count": 8,
     "metadata": {},
     "output_type": "execute_result"
    }
   ],
   "source": [
    "Sig(Factor(foo))"
   ]
  },
  {
   "cell_type": "code",
   "execution_count": 1,
   "metadata": {},
   "outputs": [],
   "source": [
    "from i2 import Pipe"
   ]
  },
  {
   "cell_type": "code",
   "execution_count": 2,
   "metadata": {},
   "outputs": [
    {
     "name": "stderr",
     "output_type": "stream",
     "text": [
      "<frozen importlib._bootstrap>:219: RuntimeWarning: scipy._lib.messagestream.MessageStream size changed, may indicate binary incompatibility. Expected 56 from C header, got 64 from PyObject\n"
     ]
    }
   ],
   "source": [
    "from plunk.sb.front_experiments.streamlitfront_dataprep.data_prep2 import (\n",
    "    # DFLT_WF_PATH,\n",
    "    # DFLT_ANNOT_PATH,\n",
    "    data_from_wav_folder,\n",
    "    data_from_csv,\n",
    "    store_to_key_fvs,\n",
    "    key_fvs_to_tag_fvs,\n",
    "    mk_Xy,\n",
    ")"
   ]
  },
  {
   "cell_type": "code",
   "execution_count": 6,
   "metadata": {},
   "outputs": [],
   "source": [
    "from know.boxes import *\n",
    "p = Pipe(FuncFactory(data_from_wav_folder))"
   ]
  },
  {
   "cell_type": "code",
   "execution_count": 7,
   "metadata": {},
   "outputs": [],
   "source": [
    "from i2 import Sig"
   ]
  },
  {
   "cell_type": "code",
   "execution_count": 8,
   "metadata": {},
   "outputs": [
    {
     "data": {
      "text/plain": [
       "<Sig () -> Callable[..., Any]>"
      ]
     },
     "execution_count": 8,
     "metadata": {},
     "output_type": "execute_result"
    }
   ],
   "source": [
    "sig = Sig(p)\n",
    "sig"
   ]
  },
  {
   "cell_type": "code",
   "execution_count": 9,
   "metadata": {},
   "outputs": [],
   "source": [
    "ff = FuncFactory(data_from_wav_folder)"
   ]
  },
  {
   "cell_type": "code",
   "execution_count": 10,
   "metadata": {},
   "outputs": [
    {
     "data": {
      "text/plain": [
       "<Sig () -> Callable[..., Any]>"
      ]
     },
     "execution_count": 10,
     "metadata": {},
     "output_type": "execute_result"
    }
   ],
   "source": [
    "Sig(ff)"
   ]
  },
  {
   "cell_type": "code",
   "execution_count": 11,
   "metadata": {},
   "outputs": [],
   "source": [
    "from slang import fixed_step_chunker, mk_chk_fft\n"
   ]
  },
  {
   "cell_type": "code",
   "execution_count": 12,
   "metadata": {},
   "outputs": [
    {
     "data": {
      "text/plain": [
       "<Sig (it, chk_size, chk_step=None, start_at=None, stop_at=None, return_tail=False)>"
      ]
     },
     "execution_count": 12,
     "metadata": {},
     "output_type": "execute_result"
    }
   ],
   "source": [
    "Sig(fixed_step_chunker)"
   ]
  },
  {
   "cell_type": "code",
   "execution_count": 17,
   "metadata": {},
   "outputs": [
    {
     "data": {
      "text/plain": [
       "<Sig (it, chk_size)>"
      ]
     },
     "execution_count": 17,
     "metadata": {},
     "output_type": "execute_result"
    }
   ],
   "source": [
    "from i2 import call_forgivingly\n",
    "chunker = lambda it, chk_size : fixed_step_chunker(it=it, chk_size=chk_size, chk_step=chk_size)\n",
    "Sig(chunker)"
   ]
  },
  {
   "cell_type": "code",
   "execution_count": 18,
   "metadata": {},
   "outputs": [],
   "source": [
    "chunker = lambda it, chk_size: fixed_step_chunker(\n",
    "    it=it, chk_size=chk_size, chk_step=chk_size\n",
    ")"
   ]
  },
  {
   "cell_type": "code",
   "execution_count": 20,
   "metadata": {},
   "outputs": [],
   "source": [
    "p = Pipe(data_from_wav_folder, chunker)"
   ]
  },
  {
   "cell_type": "code",
   "execution_count": 21,
   "metadata": {},
   "outputs": [
    {
     "data": {
      "text/plain": [
       "<Sig (filepath)>"
      ]
     },
     "execution_count": 21,
     "metadata": {},
     "output_type": "execute_result"
    }
   ],
   "source": [
    "Sig(p)"
   ]
  },
  {
   "cell_type": "code",
   "execution_count": null,
   "metadata": {},
   "outputs": [],
   "source": []
  }
 ],
 "metadata": {
  "kernelspec": {
   "display_name": "Python 3.8.11 ('otopy38')",
   "language": "python",
   "name": "python3"
  },
  "language_info": {
   "codemirror_mode": {
    "name": "ipython",
    "version": 3
   },
   "file_extension": ".py",
   "mimetype": "text/x-python",
   "name": "python",
   "nbconvert_exporter": "python",
   "pygments_lexer": "ipython3",
   "version": "3.8.11"
  },
  "orig_nbformat": 4,
  "vscode": {
   "interpreter": {
    "hash": "1a569799154504b406baf5195ac89fceebc6fb1ed8aa567618566bf3d18c8582"
   }
  }
 },
 "nbformat": 4,
 "nbformat_minor": 2
}
