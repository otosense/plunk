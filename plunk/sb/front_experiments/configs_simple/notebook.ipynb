{
 "cells": [
  {
   "cell_type": "code",
   "execution_count": 2,
   "metadata": {},
   "outputs": [
    {
     "data": {
      "text/plain": [
       "{'a': {'b': {'c': 12}, 'd': 32}}"
      ]
     },
     "execution_count": 2,
     "metadata": {},
     "output_type": "execute_result"
    }
   ],
   "source": [
    "from front.util import deep_merge\n",
    "\n",
    "d1 = {'a':{'b':{'c':12},'d':32}}\n",
    "d1"
   ]
  },
  {
   "cell_type": "code",
   "execution_count": 7,
   "metadata": {},
   "outputs": [],
   "source": [
    "d2 = {'a':{'b':'new value'}}\n",
    "d3 = {'a':{'b':{'d':'new value'}}}\n",
    "d4 = {'e':{'f':54}}\n"
   ]
  },
  {
   "cell_type": "code",
   "execution_count": 8,
   "metadata": {},
   "outputs": [
    {
     "data": {
      "text/plain": [
       "{'a': {'b': {'c': 12}, 'd': 32}, 'e': {'f': 54}}"
      ]
     },
     "execution_count": 8,
     "metadata": {},
     "output_type": "execute_result"
    }
   ],
   "source": [
    "deep_merge(d1,d2)\n",
    "deep_merge(d1,d3)\n",
    "deep_merge(d1,d4)"
   ]
  },
  {
   "cell_type": "code",
   "execution_count": 9,
   "metadata": {},
   "outputs": [
    {
     "ename": "AttributeError",
     "evalue": "'dict' object has no attribute 'a.b.c'",
     "output_type": "error",
     "traceback": [
      "\u001b[0;31m---------------------------------------------------------------------------\u001b[0m",
      "\u001b[0;31mAttributeError\u001b[0m                            Traceback (most recent call last)",
      "\u001b[1;32m/Users/sylvain/Desktop/dev/otosense/plunk/plunk/sb/front_experiments/configs_simple/notebook.ipynb Cell 4\u001b[0m in \u001b[0;36m<cell line: 2>\u001b[0;34m()\u001b[0m\n\u001b[1;32m      <a href='vscode-notebook-cell:/Users/sylvain/Desktop/dev/otosense/plunk/plunk/sb/front_experiments/configs_simple/notebook.ipynb#W3sZmlsZQ%3D%3D?line=0'>1</a>\u001b[0m data \u001b[39m=\u001b[39m {\u001b[39m'\u001b[39m\u001b[39ma\u001b[39m\u001b[39m'\u001b[39m: {\u001b[39m'\u001b[39m\u001b[39mb\u001b[39m\u001b[39m'\u001b[39m: {\u001b[39m'\u001b[39m\u001b[39mc\u001b[39m\u001b[39m'\u001b[39m: \u001b[39m'\u001b[39m\u001b[39mvalue\u001b[39m\u001b[39m'\u001b[39m}}}\n\u001b[0;32m----> <a href='vscode-notebook-cell:/Users/sylvain/Desktop/dev/otosense/plunk/plunk/sb/front_experiments/configs_simple/notebook.ipynb#W3sZmlsZQ%3D%3D?line=1'>2</a>\u001b[0m value \u001b[39m=\u001b[39m \u001b[39mgetattr\u001b[39;49m(data, \u001b[39m'\u001b[39;49m\u001b[39ma.b.c\u001b[39;49m\u001b[39m'\u001b[39;49m)\n\u001b[1;32m      <a href='vscode-notebook-cell:/Users/sylvain/Desktop/dev/otosense/plunk/plunk/sb/front_experiments/configs_simple/notebook.ipynb#W3sZmlsZQ%3D%3D?line=2'>3</a>\u001b[0m \u001b[39mprint\u001b[39m(value)\n",
      "\u001b[0;31mAttributeError\u001b[0m: 'dict' object has no attribute 'a.b.c'"
     ]
    }
   ],
   "source": [
    "data = {'a': {'b': {'c': 'value'}}}\n",
    "value = getattr(data, 'a.b.c')\n",
    "print(value) # Output: 'value'\n"
   ]
  },
  {
   "cell_type": "code",
   "execution_count": 15,
   "metadata": {},
   "outputs": [
    {
     "data": {
      "text/plain": [
       "'abc'"
      ]
     },
     "execution_count": 15,
     "metadata": {},
     "output_type": "execute_result"
    }
   ],
   "source": [
    "''.join(['a', 'b', 'c'])\n"
   ]
  },
  {
   "cell_type": "code",
   "execution_count": 17,
   "metadata": {},
   "outputs": [
    {
     "name": "stderr",
     "output_type": "stream",
     "text": [
      "/Users/sylvain/Desktop/dev/otosense/slang/slang/util.py:95: RuntimeWarning: invalid value encountered in cast\n",
      "  snip_of_unichr_code = (nan * ones(unichr_code_of_snip.max() + 1)).astype(int)\n",
      "<frozen importlib._bootstrap>:219: RuntimeWarning: scipy._lib.messagestream.MessageStream size changed, may indicate binary incompatibility. Expected 56 from C header, got 64 from PyObject\n",
      "/Users/sylvain/Desktop/dev/otosense/streamlitfront/streamlitfront/session_state.py:10: UserWarning: Use streamlit 1.11.1 if you want to use the old and deprecated dispatch_funcs function.\n",
      "  warn('Use streamlit 1.11.1 if you want to use the old and deprecated dispatch_funcs function.')\n"
     ]
    }
   ],
   "source": [
    "from know.boxes import *\n",
    "from front import APP_KEY, RENDERING_KEY, ELEMENT_KEY\n",
    "from streamlitfront import mk_app, binder as b\n",
    "from typing import Mapping\n",
    "from i2 import Sig\n",
    "from front.dag import crudify_funcs\n",
    "from meshed import code_to_dag\n",
    "\n",
    "from streamlitfront.elements import SelectBox\n",
    "\n",
    "\n",
    "def foo(x, y, z):\n",
    "    return int(x) + int(y) * int(z)\n",
    "\n",
    "\n",
    "@code_to_dag\n",
    "def dag():\n",
    "    res = first_func(x, y, z)\n",
    "    result = second_func(res)\n",
    "\n",
    "\n",
    "dag = dag.ch_funcs(first_func=foo, second_func=lambda res: result)"
   ]
  },
  {
   "cell_type": "code",
   "execution_count": 18,
   "metadata": {},
   "outputs": [
    {
     "data": {
      "text/plain": [
       "{'func_nodes': [FuncNode(x,y,z -> first_func -> res),\n",
       "  FuncNode(res -> second_func -> result)],\n",
       " 'cache_last_scope': True,\n",
       " 'parameter_merge': <function meshed.util.conservative_parameter_merge(params, same_kind=True, same_default=True, same_annotation=True)>,\n",
       " 'new_scope': dict,\n",
       " 'name': None,\n",
       " 'extract_output_from_scope': <function meshed.util.extract_values(d: dict, keys: Iterable)>,\n",
       " 'graph': {'x': [FuncNode(x,y,z -> first_func -> res)],\n",
       "  'y': [FuncNode(x,y,z -> first_func -> res)],\n",
       "  'z': [FuncNode(x,y,z -> first_func -> res)],\n",
       "  FuncNode(x,y,z -> first_func -> res): ['res'],\n",
       "  'res': [FuncNode(res -> second_func -> result)],\n",
       "  FuncNode(res -> second_func -> result): ['result']},\n",
       " 'nodes': ['x',\n",
       "  'y',\n",
       "  'z',\n",
       "  FuncNode(x,y,z -> first_func -> res),\n",
       "  'res',\n",
       "  FuncNode(res -> second_func -> result),\n",
       "  'result'],\n",
       " 'var_nodes': ['x', 'y', 'z', 'res', 'result'],\n",
       " '__signature__': <Sig (x, y, z)>,\n",
       " 'roots': ('x', 'y', 'z'),\n",
       " 'leafs': ('result',),\n",
       " 'last_scope': None,\n",
       " '__name__': 'DAG'}"
      ]
     },
     "execution_count": 18,
     "metadata": {},
     "output_type": "execute_result"
    }
   ],
   "source": [
    "vars(dag)"
   ]
  },
  {
   "cell_type": "code",
   "execution_count": 20,
   "metadata": {},
   "outputs": [],
   "source": [
    "from front.dag import crudify_funcs\n",
    "mall = dict()\n",
    "_funcs = crudify_funcs(var_nodes=\"res\", dag=dag, mall=mall)\n"
   ]
  },
  {
   "cell_type": "code",
   "execution_count": 22,
   "metadata": {},
   "outputs": [
    {
     "data": {
      "text/plain": [
       "2"
      ]
     },
     "execution_count": 22,
     "metadata": {},
     "output_type": "execute_result"
    }
   ],
   "source": [
    "len(_funcs)"
   ]
  },
  {
   "cell_type": "code",
   "execution_count": 23,
   "metadata": {},
   "outputs": [
    {
     "data": {
      "text/plain": [
       "<i2.Wrap <lambda>(res: Literal[])>"
      ]
     },
     "execution_count": 23,
     "metadata": {},
     "output_type": "execute_result"
    }
   ],
   "source": [
    "_funcs[1]"
   ]
  },
  {
   "cell_type": "code",
   "execution_count": 24,
   "metadata": {},
   "outputs": [],
   "source": [
    "from i2 import Wrap"
   ]
  },
  {
   "cell_type": "code",
   "execution_count": 25,
   "metadata": {},
   "outputs": [
    {
     "name": "stdout",
     "output_type": "stream",
     "text": [
      "\u001b[0;31mInit signature:\u001b[0m \u001b[0mWrap\u001b[0m\u001b[0;34m(\u001b[0m\u001b[0mfunc\u001b[0m\u001b[0;34m,\u001b[0m \u001b[0mingress\u001b[0m\u001b[0;34m=\u001b[0m\u001b[0;32mNone\u001b[0m\u001b[0;34m,\u001b[0m \u001b[0megress\u001b[0m\u001b[0;34m=\u001b[0m\u001b[0;32mNone\u001b[0m\u001b[0;34m,\u001b[0m \u001b[0;34m*\u001b[0m\u001b[0;34m,\u001b[0m \u001b[0mname\u001b[0m\u001b[0;34m=\u001b[0m\u001b[0;32mNone\u001b[0m\u001b[0;34m)\u001b[0m\u001b[0;34m\u001b[0m\u001b[0;34m\u001b[0m\u001b[0m\n",
      "\u001b[0;31mSource:\u001b[0m        \n",
      "\u001b[0;32mclass\u001b[0m \u001b[0mWrap\u001b[0m\u001b[0;34m(\u001b[0m\u001b[0m_Wrap\u001b[0m\u001b[0;34m)\u001b[0m\u001b[0;34m:\u001b[0m\u001b[0;34m\u001b[0m\n",
      "\u001b[0;34m\u001b[0m    \u001b[0;34m\"\"\"A function wrapper with interface modifiers.\u001b[0m\n",
      "\u001b[0;34m\u001b[0m\n",
      "\u001b[0;34m    :param func: The wrapped function\u001b[0m\n",
      "\u001b[0;34m    :param ingress: The incoming data transformer. It determines the argument properties\u001b[0m\n",
      "\u001b[0;34m        (name, kind, default and annotation) as well as the actual input of the\u001b[0m\n",
      "\u001b[0;34m        wrapped function.\u001b[0m\n",
      "\u001b[0;34m    :param egress: The outgoing data transformer. It also takes precedence over the\u001b[0m\n",
      "\u001b[0;34m        wrapped function to determine the return annotation of the ``Wrap`` instance\u001b[0m\n",
      "\u001b[0;34m    :param name: Name to give the wrapper (will use wrapped func name by default)\u001b[0m\n",
      "\u001b[0;34m    :return: A callable instance wrapping ``func``\u001b[0m\n",
      "\u001b[0;34m\u001b[0m\n",
      "\u001b[0;34m    Some examples:\u001b[0m\n",
      "\u001b[0;34m\u001b[0m\n",
      "\u001b[0;34m    >>> from inspect import signature\u001b[0m\n",
      "\u001b[0;34m    >>> from i2 import Sig\u001b[0m\n",
      "\u001b[0;34m\u001b[0m\n",
      "\u001b[0;34m    >>> def func(a, b):\u001b[0m\n",
      "\u001b[0;34m    ...     return a * b\u001b[0m\n",
      "\u001b[0;34m\u001b[0m\n",
      "\u001b[0;34m    >>> wrapped_func = wrap(func)  # no transformations: wrapped_func is the same as func\u001b[0m\n",
      "\u001b[0;34m    >>> assert wrapped_func(2, 'Hi') == func(2, 'Hi') == 'HiHi'\u001b[0m\n",
      "\u001b[0;34m\u001b[0m\n",
      "\u001b[0;34m    Modifying the first argument\u001b[0m\n",
      "\u001b[0;34m\u001b[0m\n",
      "\u001b[0;34m    >>> def ingress(a, b):\u001b[0m\n",
      "\u001b[0;34m    ...   return (2 * a, b), dict()\u001b[0m\n",
      "\u001b[0;34m    >>> wrapped_func = wrap(func, ingress=ingress)  # first variable is now multiplied by 2\u001b[0m\n",
      "\u001b[0;34m    >>> wrapped_func(2, 'Hi')\u001b[0m\n",
      "\u001b[0;34m    'HiHiHiHi'\u001b[0m\n",
      "\u001b[0;34m\u001b[0m\n",
      "\u001b[0;34m    Same using keyword args, we need to use tuple to represent an empty tuple\u001b[0m\n",
      "\u001b[0;34m\u001b[0m\n",
      "\u001b[0;34m    >>> def ingress(a, b):\u001b[0m\n",
      "\u001b[0;34m    ...   return tuple(), dict(a=2 * a, b=b) # Note that b MUST be present as well, or an error will be raised\u001b[0m\n",
      "\u001b[0;34m    >>> wrapped_func = wrap(func, ingress=ingress)  # first variable is now multiplied by 2\u001b[0m\n",
      "\u001b[0;34m    >>> wrapped_func(2, 'Hi')\u001b[0m\n",
      "\u001b[0;34m    'HiHiHiHi'\u001b[0m\n",
      "\u001b[0;34m\u001b[0m\n",
      "\u001b[0;34m    Using both args and kwargs\u001b[0m\n",
      "\u001b[0;34m\u001b[0m\n",
      "\u001b[0;34m    >>> def ingress(a, b):\u001b[0m\n",
      "\u001b[0;34m    ...   return (2 * a, ), dict(b=b)\u001b[0m\n",
      "\u001b[0;34m    >>> wrapped_func = wrap(func, ingress=ingress)  # first variable is now multiplied by 2\u001b[0m\n",
      "\u001b[0;34m    >>> wrapped_func(2, 'Hi')\u001b[0m\n",
      "\u001b[0;34m    'HiHiHiHi'\u001b[0m\n",
      "\u001b[0;34m\u001b[0m\n",
      "\u001b[0;34m    We can use ingress to ADD parameters to func\u001b[0m\n",
      "\u001b[0;34m\u001b[0m\n",
      "\u001b[0;34m    >>> def ingress(a, b, c):\u001b[0m\n",
      "\u001b[0;34m    ...   return (a, b + c), dict()\u001b[0m\n",
      "\u001b[0;34m    >>> wrapped_func = wrap(func, ingress=ingress)\u001b[0m\n",
      "\u001b[0;34m    >>> # now wrapped_func takes three arguments\u001b[0m\n",
      "\u001b[0;34m    >>> wrapped_func(2, 'Hi', 'world!')\u001b[0m\n",
      "\u001b[0;34m    'Hiworld!Hiworld!'\u001b[0m\n",
      "\u001b[0;34m\u001b[0m\n",
      "\u001b[0;34m    Egress is a bit more straightforward, it simply applies to the output of the\u001b[0m\n",
      "\u001b[0;34m    wrapped function. We can use ingress to ADD parameters to func\u001b[0m\n",
      "\u001b[0;34m\u001b[0m\n",
      "\u001b[0;34m    >>> def egress(output):\u001b[0m\n",
      "\u001b[0;34m    ...   return output + ' ITSME!!!'\u001b[0m\n",
      "\u001b[0;34m    >>> wrapped_func = wrap(func, ingress=ingress, egress=egress)\u001b[0m\n",
      "\u001b[0;34m    >>> # now wrapped_func takes three arguments\u001b[0m\n",
      "\u001b[0;34m    >>> wrapped_func(2, 'Hi', 'world!')\u001b[0m\n",
      "\u001b[0;34m    'Hiworld!Hiworld! ITSME!!!'\u001b[0m\n",
      "\u001b[0;34m\u001b[0m\n",
      "\u001b[0;34m    A more involved example:\u001b[0m\n",
      "\u001b[0;34m\u001b[0m\n",
      "\u001b[0;34m    >>> def ingress(a, b: str, c=\"hi\"):\u001b[0m\n",
      "\u001b[0;34m    ...     return (a + len(b) % 2,), dict(string=f\"{c} {b}\")\u001b[0m\n",
      "\u001b[0;34m    ...\u001b[0m\n",
      "\u001b[0;34m    >>> def func(times, string):\u001b[0m\n",
      "\u001b[0;34m    ...     return times * string\u001b[0m\n",
      "\u001b[0;34m    ...\u001b[0m\n",
      "\u001b[0;34m    >>> wrapped_func = wrap(func, ingress=ingress)\u001b[0m\n",
      "\u001b[0;34m    >>> assert wrapped_func(2, \"world! \", \"Hi\") == \"Hi world! Hi world! Hi world! \"\u001b[0m\n",
      "\u001b[0;34m    >>>\u001b[0m\n",
      "\u001b[0;34m    >>> wrapped_func = wrap(func, egress=len)\u001b[0m\n",
      "\u001b[0;34m    >>> assert wrapped_func(2, \"co\") == 4 == len(\"coco\") == len(func(2, \"co\"))\u001b[0m\n",
      "\u001b[0;34m    >>>\u001b[0m\n",
      "\u001b[0;34m    >>> wrapped_func = wrap(func, ingress=ingress, egress=len)\u001b[0m\n",
      "\u001b[0;34m    >>> assert (\u001b[0m\n",
      "\u001b[0;34m    ...     wrapped_func(2, \"world! \", \"Hi\")\u001b[0m\n",
      "\u001b[0;34m    ...     == 30\u001b[0m\n",
      "\u001b[0;34m    ...     == len(\"Hi world! Hi world! Hi world! \")\u001b[0m\n",
      "\u001b[0;34m    ... )\u001b[0m\n",
      "\u001b[0;34m\u001b[0m\n",
      "\u001b[0;34m    An ``ingress`` function links the interface of the wrapper to the interface of the\u001b[0m\n",
      "\u001b[0;34m    wrapped func; therefore it's definition often depends on information of both,\u001b[0m\n",
      "\u001b[0;34m    and for that reason, we provide the ability to specify the ingress not only\u001b[0m\n",
      "\u001b[0;34m    explicitly (as in the examples above), but through a factory -- a function that\u001b[0m\n",
      "\u001b[0;34m    will be called on ``func`` to produce the ingress that should be used to wrap it.\u001b[0m\n",
      "\u001b[0;34m\u001b[0m\n",
      "\u001b[0;34m    .. seealso::\u001b[0m\n",
      "\u001b[0;34m\u001b[0m\n",
      "\u001b[0;34m        ``wrap`` function.\u001b[0m\n",
      "\u001b[0;34m\u001b[0m\n",
      "\u001b[0;34m    \"\"\"\u001b[0m\u001b[0;34m\u001b[0m\n",
      "\u001b[0;34m\u001b[0m\u001b[0;34m\u001b[0m\n",
      "\u001b[0;34m\u001b[0m    \u001b[0;32mdef\u001b[0m \u001b[0m__init__\u001b[0m\u001b[0;34m(\u001b[0m\u001b[0mself\u001b[0m\u001b[0;34m,\u001b[0m \u001b[0mfunc\u001b[0m\u001b[0;34m,\u001b[0m \u001b[0mingress\u001b[0m\u001b[0;34m=\u001b[0m\u001b[0;32mNone\u001b[0m\u001b[0;34m,\u001b[0m \u001b[0megress\u001b[0m\u001b[0;34m=\u001b[0m\u001b[0;32mNone\u001b[0m\u001b[0;34m,\u001b[0m \u001b[0;34m*\u001b[0m\u001b[0;34m,\u001b[0m \u001b[0mname\u001b[0m\u001b[0;34m=\u001b[0m\u001b[0;32mNone\u001b[0m\u001b[0;34m)\u001b[0m\u001b[0;34m:\u001b[0m\u001b[0;34m\u001b[0m\n",
      "\u001b[0;34m\u001b[0m        \u001b[0msuper\u001b[0m\u001b[0;34m(\u001b[0m\u001b[0;34m)\u001b[0m\u001b[0;34m.\u001b[0m\u001b[0m__init__\u001b[0m\u001b[0;34m(\u001b[0m\u001b[0mfunc\u001b[0m\u001b[0;34m,\u001b[0m \u001b[0mingress\u001b[0m\u001b[0;34m,\u001b[0m \u001b[0megress\u001b[0m\u001b[0;34m,\u001b[0m \u001b[0mname\u001b[0m\u001b[0;34m=\u001b[0m\u001b[0mname\u001b[0m\u001b[0;34m)\u001b[0m\u001b[0;34m\u001b[0m\n",
      "\u001b[0;34m\u001b[0m        \u001b[0mingress_sig\u001b[0m \u001b[0;34m=\u001b[0m \u001b[0mSig\u001b[0m\u001b[0;34m(\u001b[0m\u001b[0mfunc\u001b[0m\u001b[0;34m)\u001b[0m\u001b[0;34m\u001b[0m\n",
      "\u001b[0;34m\u001b[0m\u001b[0;34m\u001b[0m\n",
      "\u001b[0;34m\u001b[0m        \u001b[0;32mif\u001b[0m \u001b[0mingress\u001b[0m \u001b[0;32mis\u001b[0m \u001b[0;32mNone\u001b[0m\u001b[0;34m:\u001b[0m\u001b[0;34m\u001b[0m\n",
      "\u001b[0;34m\u001b[0m            \u001b[0mself\u001b[0m\u001b[0;34m.\u001b[0m\u001b[0mingress\u001b[0m \u001b[0;34m=\u001b[0m \u001b[0mtransparent_ingress\u001b[0m\u001b[0;34m\u001b[0m\n",
      "\u001b[0;34m\u001b[0m            \u001b[0mself\u001b[0m\u001b[0;34m.\u001b[0m\u001b[0m__defaults__\u001b[0m\u001b[0;34m,\u001b[0m \u001b[0mself\u001b[0m\u001b[0;34m.\u001b[0m\u001b[0m__kwdefaults__\u001b[0m \u001b[0;34m=\u001b[0m \u001b[0m_defaults_and_kwdefaults_of_func\u001b[0m\u001b[0;34m(\u001b[0m\u001b[0;34m\u001b[0m\n",
      "\u001b[0;34m\u001b[0m                \u001b[0mfunc\u001b[0m\u001b[0;34m\u001b[0m\n",
      "\u001b[0;34m\u001b[0m            \u001b[0;34m)\u001b[0m\u001b[0;34m\u001b[0m\n",
      "\u001b[0;34m\u001b[0m        \u001b[0;32melse\u001b[0m\u001b[0;34m:\u001b[0m\u001b[0;34m\u001b[0m\n",
      "\u001b[0;34m\u001b[0m\u001b[0;34m\u001b[0m\n",
      "\u001b[0;34m\u001b[0m            \u001b[0;32mif\u001b[0m \u001b[0misinstance\u001b[0m\u001b[0;34m(\u001b[0m\u001b[0mingress\u001b[0m\u001b[0;34m,\u001b[0m \u001b[0mMakeFromFunc\u001b[0m\u001b[0;34m)\u001b[0m\u001b[0;34m:\u001b[0m\u001b[0;34m\u001b[0m\n",
      "\u001b[0;34m\u001b[0m                \u001b[0mself\u001b[0m\u001b[0;34m.\u001b[0m\u001b[0mingress\u001b[0m \u001b[0;34m=\u001b[0m \u001b[0mingress\u001b[0m  \u001b[0;31m# the ingress function is\u001b[0m\u001b[0;34m\u001b[0m\n",
      "\u001b[0;34m\u001b[0m                \u001b[0mfunc_to_ingress\u001b[0m \u001b[0;34m=\u001b[0m \u001b[0mingress\u001b[0m  \u001b[0;31m# it's not the ingress function itself\u001b[0m\u001b[0;34m\u001b[0m\n",
      "\u001b[0;34m\u001b[0m                \u001b[0;31m# ... but an ingress factory: Should make the ingress in function of func\u001b[0m\u001b[0;34m\u001b[0m\n",
      "\u001b[0;34m\u001b[0m                \u001b[0mself\u001b[0m\u001b[0;34m.\u001b[0m\u001b[0mingress\u001b[0m \u001b[0;34m=\u001b[0m \u001b[0mfunc_to_ingress\u001b[0m\u001b[0;34m(\u001b[0m\u001b[0mfunc\u001b[0m\u001b[0;34m)\u001b[0m\u001b[0;34m\u001b[0m\n",
      "\u001b[0;34m\u001b[0m            \u001b[0;32melse\u001b[0m\u001b[0;34m:\u001b[0m\u001b[0;34m\u001b[0m\n",
      "\u001b[0;34m\u001b[0m                \u001b[0;32massert\u001b[0m \u001b[0mcallable\u001b[0m\u001b[0;34m(\u001b[0m\u001b[0mingress\u001b[0m\u001b[0;34m)\u001b[0m\u001b[0;34m,\u001b[0m \u001b[0;34mf'Should be callable: {ingress}'\u001b[0m\u001b[0;34m\u001b[0m\n",
      "\u001b[0;34m\u001b[0m                \u001b[0mself\u001b[0m\u001b[0;34m.\u001b[0m\u001b[0mingress\u001b[0m \u001b[0;34m=\u001b[0m \u001b[0mingress\u001b[0m\u001b[0;34m\u001b[0m\n",
      "\u001b[0;34m\u001b[0m\u001b[0;34m\u001b[0m\n",
      "\u001b[0;34m\u001b[0m            \u001b[0mingress_sig\u001b[0m \u001b[0;34m=\u001b[0m \u001b[0mSig\u001b[0m\u001b[0;34m(\u001b[0m\u001b[0mself\u001b[0m\u001b[0;34m.\u001b[0m\u001b[0mingress\u001b[0m\u001b[0;34m)\u001b[0m\u001b[0;34m\u001b[0m\n",
      "\u001b[0;34m\u001b[0m            \u001b[0mself\u001b[0m\u001b[0;34m.\u001b[0m\u001b[0m__defaults__\u001b[0m\u001b[0;34m,\u001b[0m \u001b[0mself\u001b[0m\u001b[0;34m.\u001b[0m\u001b[0m__kwdefaults__\u001b[0m \u001b[0;34m=\u001b[0m \u001b[0m_defaults_and_kwdefaults_of_func\u001b[0m\u001b[0;34m(\u001b[0m\u001b[0;34m\u001b[0m\n",
      "\u001b[0;34m\u001b[0m                \u001b[0mself\u001b[0m\u001b[0;34m.\u001b[0m\u001b[0mingress\u001b[0m\u001b[0;34m\u001b[0m\n",
      "\u001b[0;34m\u001b[0m            \u001b[0;34m)\u001b[0m\u001b[0;34m\u001b[0m\n",
      "\u001b[0;34m\u001b[0m\u001b[0;34m\u001b[0m\n",
      "\u001b[0;34m\u001b[0m        \u001b[0mreturn_annotation\u001b[0m \u001b[0;34m=\u001b[0m \u001b[0mempty\u001b[0m\u001b[0;34m\u001b[0m\n",
      "\u001b[0;34m\u001b[0m\u001b[0;34m\u001b[0m\n",
      "\u001b[0;34m\u001b[0m        \u001b[0;32mif\u001b[0m \u001b[0megress\u001b[0m \u001b[0;32mis\u001b[0m \u001b[0;32mNone\u001b[0m\u001b[0;34m:\u001b[0m\u001b[0;34m\u001b[0m\n",
      "\u001b[0;34m\u001b[0m            \u001b[0mself\u001b[0m\u001b[0;34m.\u001b[0m\u001b[0megress\u001b[0m \u001b[0;34m=\u001b[0m \u001b[0mtransparent_egress\u001b[0m\u001b[0;34m\u001b[0m\n",
      "\u001b[0;34m\u001b[0m        \u001b[0;32melse\u001b[0m\u001b[0;34m:\u001b[0m\u001b[0;34m\u001b[0m\n",
      "\u001b[0;34m\u001b[0m            \u001b[0mself\u001b[0m\u001b[0;34m.\u001b[0m\u001b[0megress\u001b[0m \u001b[0;34m=\u001b[0m \u001b[0megress\u001b[0m\u001b[0;34m\u001b[0m\n",
      "\u001b[0;34m\u001b[0m            \u001b[0megress_return_annotation\u001b[0m \u001b[0;34m=\u001b[0m \u001b[0mSig\u001b[0m\u001b[0;34m(\u001b[0m\u001b[0megress\u001b[0m\u001b[0;34m)\u001b[0m\u001b[0;34m.\u001b[0m\u001b[0mreturn_annotation\u001b[0m\u001b[0;34m\u001b[0m\n",
      "\u001b[0;34m\u001b[0m            \u001b[0;32mif\u001b[0m \u001b[0megress_return_annotation\u001b[0m \u001b[0;32mis\u001b[0m \u001b[0;32mnot\u001b[0m \u001b[0mParameter\u001b[0m\u001b[0;34m.\u001b[0m\u001b[0mempty\u001b[0m\u001b[0;34m:\u001b[0m\u001b[0;34m\u001b[0m\n",
      "\u001b[0;34m\u001b[0m                \u001b[0mreturn_annotation\u001b[0m \u001b[0;34m=\u001b[0m \u001b[0megress_return_annotation\u001b[0m\u001b[0;34m\u001b[0m\n",
      "\u001b[0;34m\u001b[0m\u001b[0;34m\u001b[0m\n",
      "\u001b[0;34m\u001b[0m        \u001b[0mself\u001b[0m\u001b[0;34m.\u001b[0m\u001b[0m__signature__\u001b[0m \u001b[0;34m=\u001b[0m \u001b[0mSig\u001b[0m\u001b[0;34m(\u001b[0m\u001b[0mingress_sig\u001b[0m\u001b[0;34m,\u001b[0m \u001b[0mreturn_annotation\u001b[0m\u001b[0;34m=\u001b[0m\u001b[0mreturn_annotation\u001b[0m\u001b[0;34m)\u001b[0m\u001b[0;34m\u001b[0m\n",
      "\u001b[0;34m\u001b[0m\u001b[0;34m\u001b[0m\n",
      "\u001b[0;34m\u001b[0m    \u001b[0;32mdef\u001b[0m \u001b[0m__call__\u001b[0m\u001b[0;34m(\u001b[0m\u001b[0mself\u001b[0m\u001b[0;34m,\u001b[0m \u001b[0;34m*\u001b[0m\u001b[0mingress_args\u001b[0m\u001b[0;34m,\u001b[0m \u001b[0;34m**\u001b[0m\u001b[0mingress_kwargs\u001b[0m\u001b[0;34m)\u001b[0m\u001b[0;34m:\u001b[0m\u001b[0;34m\u001b[0m\n",
      "\u001b[0;34m\u001b[0m        \u001b[0mfunc_args\u001b[0m\u001b[0;34m,\u001b[0m \u001b[0mfunc_kwargs\u001b[0m \u001b[0;34m=\u001b[0m \u001b[0mself\u001b[0m\u001b[0;34m.\u001b[0m\u001b[0mingress\u001b[0m\u001b[0;34m(\u001b[0m\u001b[0;34m*\u001b[0m\u001b[0mingress_args\u001b[0m\u001b[0;34m,\u001b[0m \u001b[0;34m**\u001b[0m\u001b[0mingress_kwargs\u001b[0m\u001b[0;34m)\u001b[0m\u001b[0;34m\u001b[0m\n",
      "\u001b[0;34m\u001b[0m        \u001b[0;32mreturn\u001b[0m \u001b[0mself\u001b[0m\u001b[0;34m.\u001b[0m\u001b[0megress\u001b[0m\u001b[0;34m(\u001b[0m\u001b[0mself\u001b[0m\u001b[0;34m.\u001b[0m\u001b[0mfunc\u001b[0m\u001b[0;34m(\u001b[0m\u001b[0;34m*\u001b[0m\u001b[0mfunc_args\u001b[0m\u001b[0;34m,\u001b[0m \u001b[0;34m**\u001b[0m\u001b[0mfunc_kwargs\u001b[0m\u001b[0;34m)\u001b[0m\u001b[0;34m)\u001b[0m\u001b[0;34m\u001b[0m\u001b[0;34m\u001b[0m\u001b[0m\n",
      "\u001b[0;31mFile:\u001b[0m           ~/Desktop/dev/otosense/i2/i2/wrapper.py\n",
      "\u001b[0;31mType:\u001b[0m           type\n",
      "\u001b[0;31mSubclasses:\u001b[0m     \n"
     ]
    }
   ],
   "source": [
    "Wrap??"
   ]
  },
  {
   "cell_type": "code",
   "execution_count": null,
   "metadata": {},
   "outputs": [],
   "source": []
  }
 ],
 "metadata": {
  "kernelspec": {
   "display_name": "otopy38",
   "language": "python",
   "name": "python3"
  },
  "language_info": {
   "codemirror_mode": {
    "name": "ipython",
    "version": 3
   },
   "file_extension": ".py",
   "mimetype": "text/x-python",
   "name": "python",
   "nbconvert_exporter": "python",
   "pygments_lexer": "ipython3",
   "version": "3.8.11 (default, Aug  6 2021, 08:56:27) \n[Clang 10.0.0 ]"
  },
  "orig_nbformat": 4,
  "vscode": {
   "interpreter": {
    "hash": "1a569799154504b406baf5195ac89fceebc6fb1ed8aa567618566bf3d18c8582"
   }
  }
 },
 "nbformat": 4,
 "nbformat_minor": 2
}
