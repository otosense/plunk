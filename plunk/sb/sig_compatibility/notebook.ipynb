{
 "cells": [
  {
   "cell_type": "markdown",
   "source": [
    "# Signatures that are allowed"
   ],
   "metadata": {}
  },
  {
   "cell_type": "code",
   "execution_count": 4,
   "source": [
    "from inspect import signature\n",
    "def foo(a, /,b, *args, c,  d=10,**kwargs):\n",
    "    pass\n",
    "\n",
    "sig = signature(foo)\n",
    "for param in sig.parameters.values():\n",
    "    print(param.kind)\n",
    "    #if (param.kind == param.KEYWORD_ONLY and\n",
    "    #                   param.default is param.empty):\n",
    "    #    print('Parameter:', param)"
   ],
   "outputs": [
    {
     "output_type": "stream",
     "name": "stdout",
     "text": [
      "POSITIONAL_ONLY\n",
      "POSITIONAL_OR_KEYWORD\n",
      "VAR_POSITIONAL\n",
      "KEYWORD_ONLY\n",
      "KEYWORD_ONLY\n",
      "VAR_KEYWORD\n"
     ]
    }
   ],
   "metadata": {}
  },
  {
   "cell_type": "markdown",
   "source": [
    "# From signature_dict to possible ranges"
   ],
   "metadata": {}
  },
  {
   "cell_type": "code",
   "execution_count": 5,
   "source": [
    "# (a,b,/,c,d,e,*,f,g,**kwargs)\n",
    "\n"
   ],
   "outputs": [],
   "metadata": {}
  },
  {
   "cell_type": "code",
   "execution_count": 28,
   "source": [
    "\n",
    "from dataclasses import dataclass\n",
    "from typing import Optional\n",
    "from enum import Enum\n",
    "from collections import Counter\n",
    "from i2 import Sig\n",
    "from i2.signatures import PK , VP, VK, PO, KO\n",
    "\n",
    "\n",
    "def transform_key(d, func):\n",
    "    return {func(k):v for k,v in d.items()}\n",
    "\n",
    "kind_to_symbol = {PO: 'PO',\n",
    "         PK: 'PK',\n",
    "         VP:'VP',\n",
    "         KO:'KO',\n",
    "        VK: 'VK'}\n",
    "\n",
    "def param_kind_counter(func):\n",
    "    sig = Sig(func)\n",
    "    param_list = [param.kind for param in Sig(foo).parameters.values()]\n",
    "    cc = Counter(param_list)\n",
    "    res = transform_key(dict(cc), kind_to_symbol_func)\n",
    "    return res\n",
    "\n",
    "def kind_to_symbol_func(k):\n",
    "    return kind_to_symbol[k]\n",
    "\n",
    "\n",
    "@dataclass\n",
    "class DefinitionSig:\n",
    "    PO:Optional[int]=0\n",
    "    PK:Optional[int]=0\n",
    "    VP:Optional[int]=0\n",
    "    KO:Optional[int]=0\n",
    "    VK:Optional[int]=0\n",
    "        \n",
    "\n",
    "@dataclass\n",
    "class CallSig:\n",
    "    pos:int=0\n",
    "    k:int=0\n",
    "    \n",
    "def point_is_in_region(point, segment, region_type):\n",
    "    x,y = point\n",
    "    po, pk, ko = segment\n",
    "\n",
    "    if region_type==0:\n",
    "        return po<=x<=po+pk and x+y==sum(list(segment))\n",
    "        \n",
    "    if region_type==1:\n",
    "        return ko+pk>=y>=ko and  x+y>=sum(list(segment)) \n",
    "    if region_type==2:\n",
    "        return po<=x<=po+pk and x+y>=sum(list(segment))\n",
    "    if region_type==3:\n",
    "        return x>=po and y>=ko and x+y>=sum(list(segment))\n",
    "\n",
    "def segment_is_in_region(segment_1, segment_2, region_type):\n",
    "    po_1, pk_1, ko_1 = segment_1\n",
    "    point_a = (po_1, pk_1+ko_1)\n",
    "    point_b= (po_1+pk_1, ko_1)\n",
    "    \n",
    "    cond_a = point_is_in_region(point_a, segment_2, region_type)\n",
    "    cond_b = point_is_in_region(point_b, segment_2, region_type)\n",
    "    \n",
    "    return cond_a and cond_b\n",
    "    \n",
    "def segment_from_definition_sig(d: DefinitionSig):\n",
    "    segment = (d.PO, d.PK, d.KO)\n",
    "    return segment\n",
    "\n",
    "def region_type(d: DefinitionSig):\n",
    "    vp, vk = d.VP, d.VK\n",
    "    return 2*vk+vp\n",
    "\n",
    "\n",
    "def is_compatible_with(d: DefinitionSig, e:DefinitionSig):\n",
    "    region_type_d = region_type(d)\n",
    "    region_type_e = region_type(e)\n",
    "    if (region_type_d, region_type_e) in [(1,2), (2,1), (1,0), (2,0),(3,0),(3,1),(3,2)]:\n",
    "        return False\n",
    "    \n",
    "    segment_d = segment_from_definition_sig(d)\n",
    "    segment_e = segment_from_definition_sig(e)\n",
    "    return segment_is_in_region(segment_d, segment_e, region_type_e)\n",
    "\n",
    "def call_is_compatible(d:DefinitionSig, c=CallSig):\n",
    "    point_c = (c.pos, c.k)\n",
    "    region_type_d = region_type(d)\n",
    "    segment_d = segment_from_definition_sig(d)\n",
    "    \n",
    "    cond = point_is_in_region(point_c, segment_d, region_type_d)\n",
    "    \n",
    "    return cond"
   ],
   "outputs": [],
   "metadata": {}
  },
  {
   "cell_type": "code",
   "execution_count": 29,
   "source": [
    "param_kind_counter(foo)"
   ],
   "outputs": [
    {
     "output_type": "execute_result",
     "data": {
      "text/plain": [
       "{'PO': 1, 'PK': 1, 'VP': 1, 'KO': 2, 'VK': 1}"
      ]
     },
     "metadata": {},
     "execution_count": 29
    }
   ],
   "metadata": {}
  },
  {
   "cell_type": "code",
   "execution_count": 30,
   "source": [
    "# {'PO': 1, 'PK': 1, 'VP': 1, 'KO': 2, 'VK': 1}\n",
    "d= DefinitionSig(PO= 1, PK= 1, VP= 0, KO= 2, VK=1)\n"
   ],
   "outputs": [],
   "metadata": {}
  },
  {
   "cell_type": "code",
   "execution_count": 31,
   "source": [
    "c = CallSig(pos=1, k=2) # foo(a, b=2, c=3)"
   ],
   "outputs": [],
   "metadata": {}
  },
  {
   "cell_type": "code",
   "execution_count": 32,
   "source": [
    "# "
   ],
   "outputs": [],
   "metadata": {}
  },
  {
   "cell_type": "markdown",
   "source": [
    "# Types of regions"
   ],
   "metadata": {}
  },
  {
   "cell_type": "code",
   "execution_count": 33,
   "source": [
    "import numpy as np\n",
    "import matplotlib.pyplot as plt\n",
    "\n",
    "\n",
    "d = np.linspace(0,16,300)\n",
    "x,y = np.meshgrid(d,d)\n",
    "plt.imshow( ((y>=2) & (y<=4)&(5-x<=y)).astype(int) , \n",
    "                extent=(x.min(),x.max(),y.min(),y.max()),origin=\"lower\", cmap=\"Greys\", alpha = 0.3);\n",
    " "
   ],
   "outputs": [
    {
     "output_type": "display_data",
     "data": {
      "image/png": "[encoded data removed]",
      "text/plain": [
       "<Figure size 432x288 with 1 Axes>"
      ]
     },
     "metadata": {
      "needs_background": "light"
     }
    }
   ],
   "metadata": {}
  },
  {
   "cell_type": "code",
   "execution_count": 34,
   "source": [
    "# type 2\n",
    "d = np.linspace(0,16,300)\n",
    "x,y = np.meshgrid(d,d)\n",
    "plt.imshow( ((x>=2) & (x<=4)&(5-x<=y)).astype(int) , \n",
    "                extent=(0.,x.max(),0.,y.max()),origin=\"lower\", cmap=\"Greys\", alpha = 0.3);\n",
    " "
   ],
   "outputs": [
    {
     "output_type": "display_data",
     "data": {
      "image/png": "[encoded data removed]",
      "text/plain": [
       "<Figure size 432x288 with 1 Axes>"
      ]
     },
     "metadata": {
      "needs_background": "light"
     }
    }
   ],
   "metadata": {}
  },
  {
   "cell_type": "code",
   "execution_count": 35,
   "source": [
    "# type 3\n",
    "d = np.linspace(0,16,300)\n",
    "x,y = np.meshgrid(d,d)\n",
    "plt.imshow( ((x>=2) & (y>=1)&(7-x<=y)).astype(int) , \n",
    "                extent=(0.,x.max(),0.,y.max()),origin=\"lower\", cmap=\"Greys\", alpha = 0.3);\n",
    " "
   ],
   "outputs": [
    {
     "output_type": "display_data",
     "data": {
      "image/png": "[encoded data removed]",
      "text/plain": [
       "<Figure size 432x288 with 1 Axes>"
      ]
     },
     "metadata": {
      "needs_background": "light"
     }
    }
   ],
   "metadata": {}
  },
  {
   "cell_type": "code",
   "execution_count": null,
   "source": [],
   "outputs": [],
   "metadata": {}
  },
  {
   "cell_type": "markdown",
   "source": [
    "# Regions inclusions"
   ],
   "metadata": {}
  },
  {
   "cell_type": "markdown",
   "source": [
    "* Every function with a given signature (po,pk,vp,ko,vk) can be called in many different ways, using (p,k) (ie p positional and k keywords) arguments. \n",
    "* The possible allowed choices define a region in the plane (p,k).\n",
    "* Signature1 is compatible with Signature2 if every allowed way of calling func1 is an allowed way of calling func2: in other words region1 is included in region2\n",
    "* checking the inclusions of infinite regions would involve an infinite number of checks. However, the regions are convex and of a special shape: it is enough to check the inclusions of two corner points. In essence, we use the fact that regions are \"invariant under positive translations\" to the right or to the top."
   ],
   "metadata": {}
  },
  {
   "cell_type": "code",
   "execution_count": 37,
   "source": [
    "d= DefinitionSig(PO= 1, PK= 1, VP= 0, KO= 2, VK=1)\n",
    "\n",
    "e= DefinitionSig(PO= 1, PK= 1, VP= 0, KO= 2, VK=1)\n",
    "\n",
    "cc = CallSig(pos=2, k=1)"
   ],
   "outputs": [],
   "metadata": {}
  },
  {
   "cell_type": "code",
   "execution_count": 23,
   "source": [
    "call_is_compatible(d,cc)"
   ],
   "outputs": [
    {
     "output_type": "execute_result",
     "data": {
      "text/plain": [
       "False"
      ]
     },
     "metadata": {},
     "execution_count": 23
    }
   ],
   "metadata": {}
  },
  {
   "cell_type": "code",
   "execution_count": 24,
   "source": [
    "segment_from_definition_sig(d)\n",
    "region_type(d)"
   ],
   "outputs": [
    {
     "output_type": "execute_result",
     "data": {
      "text/plain": [
       "2"
      ]
     },
     "metadata": {},
     "execution_count": 24
    }
   ],
   "metadata": {}
  },
  {
   "cell_type": "code",
   "execution_count": 25,
   "source": [
    "is_compatible_with(d,e)"
   ],
   "outputs": [
    {
     "output_type": "execute_result",
     "data": {
      "text/plain": [
       "True"
      ]
     },
     "metadata": {},
     "execution_count": 25
    }
   ],
   "metadata": {}
  },
  {
   "cell_type": "markdown",
   "source": [
    "# More elegant reformulations"
   ],
   "metadata": {}
  },
  {
   "cell_type": "markdown",
   "source": [
    "## Complete set of inequalitites in the plane"
   ],
   "metadata": {}
  },
  {
   "cell_type": "markdown",
   "source": [
    "### (0,0) comparison"
   ],
   "metadata": {}
  },
  {
   "cell_type": "markdown",
   "source": [
    "$$ko_2 >= ko_1$$ and $$(ko_2+pk_2)<=(ko_1+pk_1)$$ and $$ko_2+pk_2+po_2 = ko_1+pk_1+po_1$$"
   ],
   "metadata": {}
  },
  {
   "cell_type": "markdown",
   "source": [
    "### (0,1) and (1,1) comparison"
   ],
   "metadata": {}
  },
  {
   "cell_type": "markdown",
   "source": [
    "$$ko_2 >= ko_1$$ and $$(ko_2+pk_2)<=(ko_1+pk_1)$$ and $$ko_2+pk_2+po_2 >= ko_1+pk_1+po_1$$"
   ],
   "metadata": {}
  },
  {
   "cell_type": "markdown",
   "source": [
    "### (0,2), (1,2), (2,2) comparison"
   ],
   "metadata": {}
  },
  {
   "cell_type": "markdown",
   "source": [
    "$$ko_2 >= ko_1$$ and $$po_2>=po_1$$ and $$ko_2+pk_2+po_2 >= ko_1+pk_1+po_1$$"
   ],
   "metadata": {}
  },
  {
   "cell_type": "markdown",
   "source": [
    "\n",
    "**Remark**: by doing linear invertible change of variables we can reduce to conditions like\n",
    "$$x_2 >= x_1$$ and $$y_2>=y_1$$ and $$z_2 >= z_1$$"
   ],
   "metadata": {}
  },
  {
   "cell_type": "markdown",
   "source": [
    "# Scrap"
   ],
   "metadata": {}
  },
  {
   "cell_type": "code",
   "execution_count": 1,
   "source": [
    "'keu'.upper()"
   ],
   "outputs": [
    {
     "output_type": "execute_result",
     "data": {
      "text/plain": [
       "'KEU'"
      ]
     },
     "metadata": {},
     "execution_count": 1
    }
   ],
   "metadata": {}
  },
  {
   "cell_type": "code",
   "execution_count": 3,
   "source": [
    "def f(a,b,c,d):\n",
    "    pass\n",
    "\n",
    "f(1,2,c=3,d=5)"
   ],
   "outputs": [],
   "metadata": {}
  },
  {
   "cell_type": "code",
   "execution_count": null,
   "source": [],
   "outputs": [],
   "metadata": {}
  }
 ],
 "metadata": {
  "kernelspec": {
   "name": "python3",
   "display_name": "Python 3.8.11 64-bit ('otopy38': conda)"
  },
  "language_info": {
   "codemirror_mode": {
    "name": "ipython",
    "version": 3
   },
   "file_extension": ".py",
   "mimetype": "text/x-python",
   "name": "python",
   "nbconvert_exporter": "python",
   "pygments_lexer": "ipython3",
   "version": "3.8.11"
  },
  "interpreter": {
   "hash": "094c189d81026d09b06c18854d442a49d96e55830a4824cf8c6f41ec19877a82"
  }
 },
 "nbformat": 4,
 "nbformat_minor": 5
}