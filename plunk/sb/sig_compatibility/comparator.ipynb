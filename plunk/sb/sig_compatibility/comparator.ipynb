{
 "cells": [
  {
   "cell_type": "markdown",
   "metadata": {},
   "source": [
    "# Comparators"
   ]
  },
  {
   "cell_type": "code",
   "execution_count": 1,
   "metadata": {},
   "outputs": [],
   "source": [
    "# Issue :  https://github.com/i2mint/i2/issues/50\n",
    "def matcher(sig1, sig2):\n",
    "    matches = []\n",
    "    remainder = []\n",
    "    return matches, remainder\n",
    "\n",
    "def param_comparator(param1, param2):\n",
    "    comparison = None\n",
    "    return comparison\n",
    "\n",
    "def collect(comparisons):\n",
    "    comparison_output = None\n",
    "    return comparison_output\n",
    "\n",
    "def aggreg(comparison, remainder):\n",
    "    #final output or error\n",
    "    output = None\n",
    "    return output"
   ]
  },
  {
   "cell_type": "code",
   "execution_count": 11,
   "metadata": {},
   "outputs": [],
   "source": [
    "def matcher_by_index(sig1, sig2):\n",
    "    from itertools import zip_longest\n",
    "    result = list(zip_longest(sig1.params, sig2.params, fillvalue=None))\n",
    "    min_length = min(len(sig1), len(sig2))\n",
    "    \n",
    "    return result[:min_length], result[min_length:]\n"
   ]
  },
  {
   "cell_type": "code",
   "execution_count": 12,
   "metadata": {},
   "outputs": [
    {
     "data": {
      "text/plain": [
       "([(<Param \"x\">, <Param \"a\">), (<Param \"y\">, <Param \"b\">)],\n",
       " [(<Param \"z\">, None)])"
      ]
     },
     "execution_count": 12,
     "metadata": {},
     "output_type": "execute_result"
    }
   ],
   "source": [
    "from i2 import Sig\n",
    "sig1 = Sig('x y z')\n",
    "sig2 = Sig('a b')\n",
    "matcher_by_index(sig1, sig2)"
   ]
  },
  {
   "cell_type": "code",
   "execution_count": 13,
   "metadata": {},
   "outputs": [
    {
     "data": {
      "text/plain": [
       "<Param \"x\">"
      ]
     },
     "execution_count": 13,
     "metadata": {},
     "output_type": "execute_result"
    }
   ],
   "source": [
    "sig1.params[0]"
   ]
  },
  {
   "cell_type": "code",
   "execution_count": 14,
   "metadata": {},
   "outputs": [
    {
     "data": {
      "text/plain": [
       "mappingproxy({'x': <Param \"x\">, 'y': <Param \"y\">, 'z': <Param \"z\">})"
      ]
     },
     "execution_count": 14,
     "metadata": {},
     "output_type": "execute_result"
    }
   ],
   "source": [
    "sig1.parameters"
   ]
  },
  {
   "cell_type": "code",
   "execution_count": null,
   "metadata": {},
   "outputs": [],
   "source": []
  }
 ],
 "metadata": {
  "kernelspec": {
   "display_name": "otopy38",
   "language": "python",
   "name": "python3"
  },
  "language_info": {
   "codemirror_mode": {
    "name": "ipython",
    "version": 3
   },
   "file_extension": ".py",
   "mimetype": "text/x-python",
   "name": "python",
   "nbconvert_exporter": "python",
   "pygments_lexer": "ipython3",
   "version": "3.8.11"
  },
  "orig_nbformat": 4,
  "vscode": {
   "interpreter": {
    "hash": "1a569799154504b406baf5195ac89fceebc6fb1ed8aa567618566bf3d18c8582"
   }
  }
 },
 "nbformat": 4,
 "nbformat_minor": 2
}
