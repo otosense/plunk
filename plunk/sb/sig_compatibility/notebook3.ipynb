{
 "cells": [
  {
   "cell_type": "code",
   "execution_count": 35,
   "source": [
    "# imports\n",
    "%reload_ext autoreload\n",
    "%autoreload 2\n",
    "\n",
    "from i2 import Sig\n",
    "from plunk.sb.sig_compatibility.sig_comp import param_kind_counter, DefinitionSig, CallSig, call_is_compatible, is_compatible_with"
   ],
   "outputs": [],
   "metadata": {}
  },
  {
   "cell_type": "markdown",
   "source": [
    "# Reminder about signatures"
   ],
   "metadata": {}
  },
  {
   "cell_type": "code",
   "execution_count": 36,
   "source": [
    "def foo(a, /,b, *args, c,  d=10,**kwargs):\n",
    "    pass\n",
    "\n",
    "sig = Sig(foo)\n",
    "\n",
    "# PO: positional-only, PK: positional or keyword, VP: variadic positional, KO: keyword only, VK: variadic keyword\n",
    "# get the counts of arguments, by kind\n",
    "assert param_kind_counter(sig) == {'PO': 1, 'PK': 1, 'VP': 1, 'KO': 2, 'VK': 1}"
   ],
   "outputs": [],
   "metadata": {}
  },
  {
   "cell_type": "code",
   "execution_count": 37,
   "source": [
    "# another way to encode arguments (without recording their names, only their counts)\n",
    "# {'PO': 1, 'PK': 1, 'VP': 1, 'KO': 2, 'VK': 1}\n",
    "d= DefinitionSig(PO= 1, PK= 1, VP= 0, KO= 2, VK=1)\n",
    "\n",
    "# encode the number of arguments by their types (positional or keyword) in a function call\n",
    "c = CallSig(pos=1, k=2) # as in the following function call: foo(a, b=2, c=3)"
   ],
   "outputs": [],
   "metadata": {}
  },
  {
   "cell_type": "markdown",
   "source": [
    "# Ways of calling a function"
   ],
   "metadata": {}
  },
  {
   "cell_type": "markdown",
   "source": [
    "* Every function with a given signature-size (po,pk,vp,ko,vk) can be called in many different ways, using (p,k) (ie p positional and k keywords) arguments. \n",
    "* The possible allowed choices define a region in the plane (p,k).\n",
    "* Signature1 is compatible with Signature2 if every allowed way of calling func1 is an allowed way of calling func2: a necessary condition is that  region1 is included in region2\n",
    "* checking the inclusions of infinite regions would involve an infinite number of checks. However, the regions are convex and of a special shape: it is enough to check the inclusions of two corner points. In essence, we use the fact that regions are \"invariant under positive translations\" to the right or to the top."
   ],
   "metadata": {}
  },
  {
   "cell_type": "markdown",
   "source": [
    "## Visualization of regions"
   ],
   "metadata": {}
  },
  {
   "cell_type": "code",
   "execution_count": 38,
   "source": [
    "import numpy as np\n",
    "import matplotlib.pyplot as plt\n",
    "\n",
    "\n",
    "d = np.linspace(0,8,300)\n",
    "x,y = np.meshgrid(d,d)\n",
    "plt.imshow( ((y>=2) & (y<=4)&(5-x<=y)).astype(int) , \n",
    "                extent=(x.min(),x.max(),y.min(),y.max()),origin=\"lower\", cmap=\"Greys\", alpha = 0.3);"
   ],
   "outputs": [
    {
     "output_type": "display_data",
     "data": {
      "image/png": "[encoded data removed]",
      "text/plain": [
       "<Figure size 432x288 with 1 Axes>"
      ]
     },
     "metadata": {
      "needs_background": "light"
     }
    }
   ],
   "metadata": {}
  },
  {
   "cell_type": "code",
   "execution_count": 39,
   "source": [
    "# type 2: ie vk=1 and vp=0, example of an infinite region\n",
    "# on the x axis: number of positional args in function call, on y-axis: number of keyword args in function call\n",
    "# here we could use: (pos, pos, at least 3 kw), or (pos, pos, pos, at least 2 kw), or (pos, pos, pos, pos, at least 1 kw)\n",
    "# allowed function calls can have \n",
    "\n",
    "d = np.linspace(0,7,300)\n",
    "x,y = np.meshgrid(d,d)\n",
    "plt.imshow( ((x>=2) & (x<=4)&(5-x<=y)).astype(int) , \n",
    "                extent=(0.,x.max(),0.,y.max()),origin=\"lower\", cmap=\"Greys\", alpha = 0.3);\n",
    " "
   ],
   "outputs": [
    {
     "output_type": "display_data",
     "data": {
      "image/png": "[encoded data removed]",
      "text/plain": [
       "<Figure size 432x288 with 1 Axes>"
      ]
     },
     "metadata": {
      "needs_background": "light"
     }
    }
   ],
   "metadata": {}
  },
  {
   "cell_type": "code",
   "execution_count": 40,
   "source": [
    "# type 3: all allowed combinations of type (pos, pos, ..., kw, kw, kw, ...) for a signature having vp and vk \n",
    "d = np.linspace(0,12,300)\n",
    "x,y = np.meshgrid(d,d)\n",
    "plt.imshow( ((x>=2) & (y>=1)&(7-x<=y)).astype(int) , \n",
    "                extent=(0.,x.max(),0.,y.max()),origin=\"lower\", cmap=\"Greys\", alpha = 0.3);"
   ],
   "outputs": [
    {
     "output_type": "display_data",
     "data": {
      "image/png": "[encoded data removed]",
      "text/plain": [
       "<Figure size 432x288 with 1 Axes>"
      ]
     },
     "metadata": {
      "needs_background": "light"
     }
    }
   ],
   "metadata": {}
  },
  {
   "cell_type": "markdown",
   "source": [],
   "metadata": {}
  },
  {
   "cell_type": "code",
   "execution_count": 41,
   "source": [
    "# example\n",
    "d= DefinitionSig(PO= 1, PK= 1, VP= 0, KO= 2, VK=1)\n",
    "e= DefinitionSig(PO= 1, PK= 1, VP= 0, KO= 2, VK=1)\n",
    "\n",
    "cc = CallSig(pos=2, k=1)"
   ],
   "outputs": [],
   "metadata": {}
  },
  {
   "cell_type": "code",
   "execution_count": 42,
   "source": [
    "# can we call a function having signature-size equal to d, with 2 positionals and 1 keyword? Nope, not enough keywords...\n",
    "assert call_is_compatible(d,cc)==False"
   ],
   "outputs": [],
   "metadata": {}
  },
  {
   "cell_type": "code",
   "execution_count": 44,
   "source": [
    "# is the region associated with d included in the region associated with e?\n",
    "assert is_compatible_with(d,e)"
   ],
   "outputs": [],
   "metadata": {}
  },
  {
   "cell_type": "markdown",
   "source": [
    "# Comparing the regions"
   ],
   "metadata": {}
  },
  {
   "cell_type": "markdown",
   "source": [
    "All regions inclusions are described by inequalities. Example: if both regions have no variadics, then region1 is inside region2 if and only if the following is true:"
   ],
   "metadata": {}
  },
  {
   "cell_type": "markdown",
   "source": [
    "$ko_2 >= ko_1$ and $(ko_2+pk_2)<=(ko_1+pk_1)$ and $ko_2+pk_2+po_2 = ko_1+pk_1+po_1$"
   ],
   "metadata": {}
  },
  {
   "cell_type": "markdown",
   "source": [
    "Same question for pairs (region_type_1, region_type_2) in the list (0,1),  (1,1) :"
   ],
   "metadata": {}
  },
  {
   "cell_type": "markdown",
   "source": [
    "$ko_2 >= ko_1$ and $(ko_2+pk_2)<=(ko_1+pk_1)$ and $ko_2+pk_2+po_2 >= ko_1+pk_1+po_1$"
   ],
   "metadata": {}
  },
  {
   "cell_type": "markdown",
   "source": [],
   "metadata": {}
  },
  {
   "cell_type": "markdown",
   "source": [
    "Same question for pairs (region_type_1, region_type_2) in the list (0,2), (1,2), (2,2) :"
   ],
   "metadata": {}
  },
  {
   "cell_type": "markdown",
   "source": [
    "$ko_2 >= ko_1$ and $po_2>=po_1$ and $ko_2+pk_2+po_2 >= ko_1+pk_1+po_1$"
   ],
   "metadata": {}
  },
  {
   "cell_type": "markdown",
   "source": [],
   "metadata": {}
  },
  {
   "cell_type": "markdown",
   "source": [
    "# The cases where comparison is automatic"
   ],
   "metadata": {}
  },
  {
   "cell_type": "markdown",
   "source": [
    "|   |  0 |  vp2 |  vk2 | vp2,vk2  |\n",
    "|---|---|---|---|---|\n",
    "|  **0** |  ? | ?  | ?  | ?  |\n",
    "|   **vp1**| F  |  ? | F  |  ? |\n",
    "|   **vk1**| F  | F  |  ? |  ? |\n",
    "|   **vp1,vk1**| F  | F  | F  | ? |"
   ],
   "metadata": {}
  },
  {
   "cell_type": "markdown",
   "source": [],
   "metadata": {}
  },
  {
   "cell_type": "markdown",
   "source": [
    "Only few cases need to be treated. The first 3 (where sig1 has no vp, no vk) can be treated by enumeration: we generate all possibilities (finitely many cases) and pass them to a simple function having sig2. The cases where vp2=vk2=1 can be treated as the cases below (vk1, vk2)."
   ],
   "metadata": {}
  },
  {
   "cell_type": "markdown",
   "source": [
    "# The \"standard\" verification"
   ],
   "metadata": {}
  },
  {
   "cell_type": "markdown",
   "source": [
    "I call \"perform the standard verification\" the following: generate inputs for the first function like this\n",
    "```\n",
    "(po positionals, n positionals, pk-n keyword, ko keyword) where 0<=n<=pk\n",
    "```\n",
    "\n",
    "and verify that func2 accepts them. Observe that this is the complete verification in the case where vp1=vk1=0. \n"
   ],
   "metadata": {}
  },
  {
   "cell_type": "markdown",
   "source": [
    "# The case vk1, vk2"
   ],
   "metadata": {}
  },
  {
   "cell_type": "markdown",
   "source": [
    "I claim that the standard verification is enough also for this case."
   ],
   "metadata": {}
  },
  {
   "cell_type": "markdown",
   "source": [
    "**Strategy**: \n",
    "The allowed calls for the first function are exactly of type:\n",
    "```\n",
    "General type: (po positionals, n positionals, pk-n keyword, ko keyword, any number of extra keyword) where 0<=n<=pk\n",
    "```\n",
    "\n",
    "Now if the second function allows all calls like the following (it is a finite collection):\n",
    "```\n",
    " Particular type: (po positionals, n positionals, pk-n keyword, ko keyword) \n",
    " ```\n",
    "it will allow also all calls of the General type\n",
    "\n",
    "because vk2>0.\n",
    " \n"
   ],
   "metadata": {}
  },
  {
   "cell_type": "markdown",
   "source": [
    "# The case vp1, vp2"
   ],
   "metadata": {}
  },
  {
   "cell_type": "markdown",
   "source": [
    "Again, I claim that the standard verification is enough also for this case."
   ],
   "metadata": {}
  },
  {
   "cell_type": "markdown",
   "source": [
    "**Strategy**: \n",
    "The allowed calls for the first function are of two types:\n",
    "```\n",
    "Type 1: (po positionals, n positionals, pk-n keyword, ko keyword) where 0<=n<=pk\n",
    "```\n",
    "```\n",
    "Type 2: (po +pk positionals, any number of extra positional, ko keyword)\n",
    "```\n",
    "Now if the second function allows all calls of type 1 (it is a finite collection):\n",
    "\n",
    "it will also allow all calls of type 2\n",
    "\n",
    "because of the condition vp2>0."
   ],
   "metadata": {}
  },
  {
   "cell_type": "markdown",
   "source": [
    "## The case vk2, vp2"
   ],
   "metadata": {}
  },
  {
   "cell_type": "markdown",
   "source": [
    "Same strategy as above (test the finitely many cases first)."
   ],
   "metadata": {}
  },
  {
   "cell_type": "markdown",
   "source": [],
   "metadata": {}
  }
 ],
 "metadata": {
  "orig_nbformat": 4,
  "language_info": {
   "name": "python",
   "version": "3.8.11",
   "mimetype": "text/x-python",
   "codemirror_mode": {
    "name": "ipython",
    "version": 3
   },
   "pygments_lexer": "ipython3",
   "nbconvert_exporter": "python",
   "file_extension": ".py"
  },
  "kernelspec": {
   "name": "python3",
   "display_name": "Python 3.8.11 64-bit ('otopy38': conda)"
  },
  "interpreter": {
   "hash": "094c189d81026d09b06c18854d442a49d96e55830a4824cf8c6f41ec19877a82"
  }
 },
 "nbformat": 4,
 "nbformat_minor": 2
}