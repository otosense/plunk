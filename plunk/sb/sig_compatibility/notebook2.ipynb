{
 "cells": [
  {
   "cell_type": "code",
   "execution_count": 1,
   "source": [
    "import plunk.sb.sig_compatibility.sig_comp as sc"
   ],
   "outputs": [],
   "metadata": {}
  },
  {
   "cell_type": "code",
   "execution_count": 2,
   "source": [
    "def foo(a, /,b, *args, c,  d=10,**kwargs):\n",
    "    pass"
   ],
   "outputs": [],
   "metadata": {}
  },
  {
   "cell_type": "code",
   "execution_count": 3,
   "source": [
    "d= sc.DefinitionSig(PO= 1, PK= 1, VP= 0, KO= 2, VK=1)\n"
   ],
   "outputs": [],
   "metadata": {}
  },
  {
   "cell_type": "code",
   "execution_count": 4,
   "source": [
    "d"
   ],
   "outputs": [
    {
     "output_type": "execute_result",
     "data": {
      "text/plain": [
       "DefinitionSig(PO=1, PK=1, VP=0, KO=2, VK=1)"
      ]
     },
     "metadata": {},
     "execution_count": 4
    }
   ],
   "metadata": {}
  },
  {
   "cell_type": "code",
   "execution_count": 5,
   "source": [
    "c = sc.CallSig(pos=1, k=2) # foo(a, b=2, c=3)"
   ],
   "outputs": [],
   "metadata": {}
  },
  {
   "cell_type": "code",
   "execution_count": 7,
   "source": [
    "d= sc.DefinitionSig(PO= 1, PK= 1, VP= 0, KO= 2, VK=1)\n",
    "\n",
    "e= sc.DefinitionSig(PO= 1, PK= 1, VP= 0, KO= 2, VK=1)\n",
    "\n",
    "cc = sc.CallSig(pos=2, k=1)"
   ],
   "outputs": [],
   "metadata": {}
  },
  {
   "cell_type": "code",
   "execution_count": 8,
   "source": [
    "sc.call_is_compatible(d,cc)"
   ],
   "outputs": [
    {
     "output_type": "execute_result",
     "data": {
      "text/plain": [
       "False"
      ]
     },
     "metadata": {},
     "execution_count": 8
    }
   ],
   "metadata": {}
  },
  {
   "cell_type": "code",
   "execution_count": 9,
   "source": [
    "sc.is_compatible_with(d,e)"
   ],
   "outputs": [
    {
     "output_type": "execute_result",
     "data": {
      "text/plain": [
       "True"
      ]
     },
     "metadata": {},
     "execution_count": 9
    }
   ],
   "metadata": {}
  },
  {
   "cell_type": "code",
   "execution_count": 10,
   "source": [],
   "outputs": [],
   "metadata": {}
  },
  {
   "cell_type": "code",
   "execution_count": 11,
   "source": [
    "from i2 import Sig\n",
    "sig = Sig(foo)"
   ],
   "outputs": [],
   "metadata": {}
  },
  {
   "cell_type": "code",
   "execution_count": 19,
   "source": [
    "for att in dir(sig):\n",
    "    if att.startswith('_') or callable(getattr(sig, att)):\n",
    "        continue\n",
    "    print(att, getattr(sig,att))"
   ],
   "outputs": [
    {
     "output_type": "stream",
     "name": "stdout",
     "text": [
      "KEYWORD_ONLY KEYWORD_ONLY\n",
      "POSITIONAL_ONLY POSITIONAL_ONLY\n",
      "POSITIONAL_OR_KEYWORD POSITIONAL_OR_KEYWORD\n",
      "VAR_KEYWORD VAR_KEYWORD\n",
      "VAR_POSITIONAL VAR_POSITIONAL\n",
      "annotations {}\n",
      "defaults {'d': 10}\n",
      "has_var_keyword True\n",
      "has_var_kinds True\n",
      "has_var_positional True\n",
      "index_of_var_keyword 5\n",
      "index_of_var_positional 2\n",
      "kinds {'a': <_ParameterKind.POSITIONAL_ONLY: 0>, 'b': <_ParameterKind.POSITIONAL_OR_KEYWORD: 1>, 'args': <_ParameterKind.VAR_POSITIONAL: 2>, 'c': <_ParameterKind.KEYWORD_ONLY: 3>, 'd': <_ParameterKind.KEYWORD_ONLY: 3>, 'kwargs': <_ParameterKind.VAR_KEYWORD: 4>}\n",
      "n_required 3\n",
      "name foo\n",
      "names ['a', 'b', 'args', 'c', 'd', 'kwargs']\n",
      "parameters OrderedDict([('a', <Parameter \"a\">), ('b', <Parameter \"b\">), ('args', <Parameter \"*args\">), ('c', <Parameter \"c\">), ('d', <Parameter \"d=10\">), ('kwargs', <Parameter \"**kwargs\">)])\n",
      "params [<Parameter \"a\">, <Parameter \"b\">, <Parameter \"*args\">, <Parameter \"c\">, <Parameter \"d=10\">, <Parameter \"**kwargs\">]\n",
      "var_keyword_name kwargs\n",
      "var_positional_name args\n"
     ]
    }
   ],
   "metadata": {}
  },
  {
   "cell_type": "code",
   "execution_count": 27,
   "source": [
    "from i2.signatures import PO, PK, VP, KO, VK\n",
    "from plunk.sb.sig_compatibility.sig_comp import kind_to_symbol_func, transform_key,var_names_by_kind\n",
    "def invert_dict(d):\n",
    "    inv_map = {}\n",
    "    for k, v in d.items():\n",
    "        inv_map[v] = inv_map.get(v, []) + [k]\n",
    "    return inv_map\n",
    "\n",
    "def var_names_by_kind(sig):\n",
    "    d = invert_dict(sig.kinds)\n",
    "    func = kind_to_symbol_func\n",
    "    result = transform_key(d, func)\n",
    "    return result\n",
    "\n"
   ],
   "outputs": [],
   "metadata": {}
  },
  {
   "cell_type": "code",
   "execution_count": 29,
   "source": [
    "var_names_by_kind(sig)"
   ],
   "outputs": [
    {
     "output_type": "execute_result",
     "data": {
      "text/plain": [
       "{'PO': ['a'], 'PK': ['b'], 'VP': ['args'], 'KO': ['c', 'd'], 'VK': ['kwargs']}"
      ]
     },
     "metadata": {},
     "execution_count": 29
    }
   ],
   "metadata": {}
  },
  {
   "cell_type": "code",
   "execution_count": null,
   "source": [
    "\n",
    "def transform_key(d, func):\n",
    "    return {func(k): v for k, v in d.items()}\n",
    "\n",
    "\n",
    "kind_to_symbol = {PO: \"PO\", PK: \"PK\", VP: \"VP\", KO: \"KO\", VK: \"VK\"}\n",
    "\n",
    "\n",
    "\n",
    "def kind_to_symbol_func(k):\n",
    "    return kind_to_symbol[k]\n"
   ],
   "outputs": [],
   "metadata": {}
  }
 ],
 "metadata": {
  "orig_nbformat": 4,
  "language_info": {
   "name": "python",
   "version": "3.8.11",
   "mimetype": "text/x-python",
   "codemirror_mode": {
    "name": "ipython",
    "version": 3
   },
   "pygments_lexer": "ipython3",
   "nbconvert_exporter": "python",
   "file_extension": ".py"
  },
  "kernelspec": {
   "name": "python3",
   "display_name": "Python 3.8.11 64-bit ('otopy38': conda)"
  },
  "interpreter": {
   "hash": "094c189d81026d09b06c18854d442a49d96e55830a4824cf8c6f41ec19877a82"
  }
 },
 "nbformat": 4,
 "nbformat_minor": 2
}