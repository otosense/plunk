{
 "cells": [
  {
   "cell_type": "code",
   "execution_count": 1,
   "source": [
    "%reload_ext autoreload\n",
    "%autoreload 2\n",
    "\n",
    "import plunk.sb.sig_compatibility.sig_comp as sc"
   ],
   "outputs": [],
   "metadata": {}
  },
  {
   "cell_type": "code",
   "execution_count": 19,
   "source": [
    "def foo(a, /,b, *args, c,  d=10,**kwargs):\n",
    "    pass"
   ],
   "outputs": [],
   "metadata": {}
  },
  {
   "cell_type": "code",
   "execution_count": 5,
   "source": [
    "d= sc.DefinitionSig(PO= 1, PK= 1, VP= 0, KO= 2, VK=1)\n"
   ],
   "outputs": [],
   "metadata": {}
  },
  {
   "cell_type": "code",
   "execution_count": 6,
   "source": [
    "d"
   ],
   "outputs": [
    {
     "output_type": "execute_result",
     "data": {
      "text/plain": [
       "DefinitionSig(PO=1, PK=1, VP=0, KO=2, VK=1)"
      ]
     },
     "metadata": {},
     "execution_count": 6
    }
   ],
   "metadata": {}
  },
  {
   "cell_type": "code",
   "execution_count": 7,
   "source": [
    "c = sc.CallSig(pos=1, k=2) # foo(a, b=2, c=3)"
   ],
   "outputs": [],
   "metadata": {}
  },
  {
   "cell_type": "code",
   "execution_count": 8,
   "source": [
    "d= sc.DefinitionSig(PO= 1, PK= 1, VP= 0, KO= 2, VK=1)\n",
    "\n",
    "e= sc.DefinitionSig(PO= 1, PK= 1, VP= 0, KO= 2, VK=1)\n",
    "\n",
    "cc = sc.CallSig(pos=2, k=1)"
   ],
   "outputs": [],
   "metadata": {}
  },
  {
   "cell_type": "code",
   "execution_count": 9,
   "source": [
    "sc.call_is_compatible(d,cc)"
   ],
   "outputs": [
    {
     "output_type": "execute_result",
     "data": {
      "text/plain": [
       "False"
      ]
     },
     "metadata": {},
     "execution_count": 9
    }
   ],
   "metadata": {}
  },
  {
   "cell_type": "code",
   "execution_count": 10,
   "source": [
    "sc.is_compatible_with(d,e)"
   ],
   "outputs": [
    {
     "output_type": "execute_result",
     "data": {
      "text/plain": [
       "True"
      ]
     },
     "metadata": {},
     "execution_count": 10
    }
   ],
   "metadata": {}
  },
  {
   "cell_type": "code",
   "execution_count": null,
   "source": [],
   "outputs": [],
   "metadata": {}
  },
  {
   "cell_type": "code",
   "execution_count": 11,
   "source": [
    "from i2 import Sig\n",
    "sig = Sig(foo)"
   ],
   "outputs": [],
   "metadata": {}
  },
  {
   "cell_type": "code",
   "execution_count": 12,
   "source": [
    "for att in dir(sig):\n",
    "    if att.startswith('_') or callable(getattr(sig, att)):\n",
    "        continue\n",
    "    print(att, getattr(sig,att))"
   ],
   "outputs": [
    {
     "output_type": "stream",
     "name": "stdout",
     "text": [
      "KEYWORD_ONLY KEYWORD_ONLY\n",
      "POSITIONAL_ONLY POSITIONAL_ONLY\n",
      "POSITIONAL_OR_KEYWORD POSITIONAL_OR_KEYWORD\n",
      "VAR_KEYWORD VAR_KEYWORD\n",
      "VAR_POSITIONAL VAR_POSITIONAL\n",
      "annotations {}\n",
      "defaults {'d': 10}\n",
      "has_var_keyword True\n",
      "has_var_kinds True\n",
      "has_var_positional True\n",
      "index_of_var_keyword 5\n",
      "index_of_var_positional 2\n",
      "kinds {'a': <_ParameterKind.POSITIONAL_ONLY: 0>, 'b': <_ParameterKind.POSITIONAL_OR_KEYWORD: 1>, 'args': <_ParameterKind.VAR_POSITIONAL: 2>, 'c': <_ParameterKind.KEYWORD_ONLY: 3>, 'd': <_ParameterKind.KEYWORD_ONLY: 3>, 'kwargs': <_ParameterKind.VAR_KEYWORD: 4>}\n",
      "n_required 3\n",
      "name foo\n",
      "names ['a', 'b', 'args', 'c', 'd', 'kwargs']\n",
      "parameters OrderedDict([('a', <Parameter \"a\">), ('b', <Parameter \"b\">), ('args', <Parameter \"*args\">), ('c', <Parameter \"c\">), ('d', <Parameter \"d=10\">), ('kwargs', <Parameter \"**kwargs\">)])\n",
      "params [<Parameter \"a\">, <Parameter \"b\">, <Parameter \"*args\">, <Parameter \"c\">, <Parameter \"d=10\">, <Parameter \"**kwargs\">]\n",
      "var_keyword_name kwargs\n",
      "var_positional_name args\n"
     ]
    }
   ],
   "metadata": {}
  },
  {
   "cell_type": "code",
   "execution_count": 17,
   "source": [
    "from i2.signatures import PO, PK, VP, KO, VK\n",
    "from plunk.sb.sig_compatibility.sig_comp import kind_to_symbol_func, transform_key,var_names_by_kind,kind_to_symbol, possible_named_args\n",
    "\n",
    "\n"
   ],
   "outputs": [
    {
     "output_type": "error",
     "ename": "ImportError",
     "evalue": "cannot import name 'possible_named_args' from 'plunk.sb.sig_compatibility.sig_comp' (/Users/sylvain/Desktop/dev/otosense/plunk/plunk/sb/sig_compatibility/sig_comp.py)",
     "traceback": [
      "\u001b[0;31m---------------------------------------------------------------------------\u001b[0m",
      "\u001b[0;31mImportError\u001b[0m                               Traceback (most recent call last)",
      "\u001b[0;32m<ipython-input-17-1ade4531e5ee>\u001b[0m in \u001b[0;36m<module>\u001b[0;34m\u001b[0m\n\u001b[1;32m      1\u001b[0m \u001b[0;32mfrom\u001b[0m \u001b[0mi2\u001b[0m\u001b[0;34m.\u001b[0m\u001b[0msignatures\u001b[0m \u001b[0;32mimport\u001b[0m \u001b[0mPO\u001b[0m\u001b[0;34m,\u001b[0m \u001b[0mPK\u001b[0m\u001b[0;34m,\u001b[0m \u001b[0mVP\u001b[0m\u001b[0;34m,\u001b[0m \u001b[0mKO\u001b[0m\u001b[0;34m,\u001b[0m \u001b[0mVK\u001b[0m\u001b[0;34m\u001b[0m\u001b[0;34m\u001b[0m\u001b[0m\n\u001b[0;32m----> 2\u001b[0;31m \u001b[0;32mfrom\u001b[0m \u001b[0mplunk\u001b[0m\u001b[0;34m.\u001b[0m\u001b[0msb\u001b[0m\u001b[0;34m.\u001b[0m\u001b[0msig_compatibility\u001b[0m\u001b[0;34m.\u001b[0m\u001b[0msig_comp\u001b[0m \u001b[0;32mimport\u001b[0m \u001b[0mkind_to_symbol_func\u001b[0m\u001b[0;34m,\u001b[0m \u001b[0mtransform_key\u001b[0m\u001b[0;34m,\u001b[0m\u001b[0mvar_names_by_kind\u001b[0m\u001b[0;34m,\u001b[0m\u001b[0mkind_to_symbol\u001b[0m\u001b[0;34m,\u001b[0m \u001b[0mpossible_named_args\u001b[0m\u001b[0;34m\u001b[0m\u001b[0;34m\u001b[0m\u001b[0m\n\u001b[0m\u001b[1;32m      3\u001b[0m \u001b[0;34m\u001b[0m\u001b[0m\n\u001b[1;32m      4\u001b[0m \u001b[0;34m\u001b[0m\u001b[0m\n",
      "\u001b[0;31mImportError\u001b[0m: cannot import name 'possible_named_args' from 'plunk.sb.sig_compatibility.sig_comp' (/Users/sylvain/Desktop/dev/otosense/plunk/plunk/sb/sig_compatibility/sig_comp.py)"
     ]
    }
   ],
   "metadata": {}
  },
  {
   "cell_type": "code",
   "execution_count": 14,
   "source": [
    "var_names_by_kind(sig)"
   ],
   "outputs": [
    {
     "output_type": "execute_result",
     "data": {
      "text/plain": [
       "{'PO': ['a'], 'PK': ['b'], 'VP': ['args'], 'KO': ['c', 'd'], 'VK': ['kwargs']}"
      ]
     },
     "metadata": {},
     "execution_count": 14
    }
   ],
   "metadata": {}
  },
  {
   "cell_type": "code",
   "execution_count": 15,
   "source": [
    "def possible_named_args(sig):\n",
    "    d = var_names_by_kind(sig)\n",
    "    return d['PK']+d['KO']\n"
   ],
   "outputs": [],
   "metadata": {}
  },
  {
   "cell_type": "code",
   "execution_count": 16,
   "source": [
    "possible_named_args(sig)"
   ],
   "outputs": [
    {
     "output_type": "execute_result",
     "data": {
      "text/plain": [
       "['b', 'c', 'd']"
      ]
     },
     "metadata": {},
     "execution_count": 16
    }
   ],
   "metadata": {}
  },
  {
   "cell_type": "markdown",
   "source": [
    "# sig from params"
   ],
   "metadata": {}
  },
  {
   "cell_type": "code",
   "execution_count": 3,
   "source": [
    "# (po1, po2, /, pk1, pk2, *, ko1, ko2)\n",
    "from i2.signatures import PO, PK, KO, VK, VP\n",
    "params = [\n",
    "                dict(name='po1', kind=PO),\n",
    "                dict(name='po2', kind=PO),\n",
    "                dict(name='pk1', kind=PK),\n",
    "                dict(name='pk2', kind=PK),\n",
    "                dict(name='ko1', kind=KO),\n",
    "                dict(name='ko2', kind=KO),\n",
    "            ]"
   ],
   "outputs": [],
   "metadata": {}
  },
  {
   "cell_type": "code",
   "execution_count": 52,
   "source": [
    "import random\n",
    "\n",
    "def to_zero_one(n):\n",
    "    return 1 if (n!=0) else 0\n",
    "\n",
    "def tuple_to_params(param_lengths):\n",
    "    assert len(param_lengths)==5\n",
    "    po, pk, vp, ko, vk = param_lengths\n",
    "    vp = to_zero_one(vp)\n",
    "    vk = to_zero_one(vk)\n",
    "\n",
    "def raises_error(func, *args, **kwargs)->bool:\n",
    "    try:\n",
    "        func(*args, **kwargs)\n",
    "        return True\n",
    "    except TypeError:\n",
    "        return False\n",
    "\n",
    "def generate_input_po(po_names):\n",
    "    po = len(po_names)\n",
    "    num = random.randint(0, po*2)\n",
    "    return tuple(random.randint(0,100) for _ in range(num))\n",
    "\n",
    "def generate_input_pk(pk_names):\n",
    "    pk = len(pk_names)\n",
    "    #random.shuffle(pk_names)\n",
    "    split = random.randint(0,pk)\n",
    "    print(split)\n",
    "    first = generate_input_po(pk_names[:split])\n",
    "    pool_names = [f'c_{i}' for i in range(2*(pk-split))]+pk_names[split:]\n",
    "    \n",
    "    second_vals =  generate_input_po(pk_names[split:])\n",
    "    n_vals = len(second_vals)\n",
    "\n",
    "    second  = {k:v for k,v in zip(pk_names[split:], second_vals) }\n",
    "    return first, second\n",
    "\n"
   ],
   "outputs": [],
   "metadata": {}
  },
  {
   "cell_type": "markdown",
   "source": [
    "func1 <= func2 = wrapper(func1)\n",
    "# define \"two signatures are compatible\" \n",
    "# too strong: params and return annots are equal (same length, names, kinds)\n",
    "# allowed calls included in allowed calls for 2\n"
   ],
   "metadata": {}
  },
  {
   "cell_type": "code",
   "execution_count": 53,
   "source": [
    "generate_input_pk(['a','b','c','d','e'])"
   ],
   "outputs": [
    {
     "output_type": "stream",
     "name": "stdout",
     "text": [
      "0\n"
     ]
    },
    {
     "output_type": "execute_result",
     "data": {
      "text/plain": [
       "((), {'a': 41, 'b': 47, 'c': 31, 'd': 47, 'e': 5})"
      ]
     },
     "metadata": {},
     "execution_count": 53
    }
   ],
   "metadata": {}
  },
  {
   "cell_type": "markdown",
   "source": [
    "# options: generate function from specs like (po, pk, vp, ko, vk)\n",
    "# sig to func\n",
    "(po, pk, vp, ko, vk) -> "
   ],
   "metadata": {}
  },
  {
   "cell_type": "code",
   "execution_count": 37,
   "source": [
    "random.shuffle(['a','b','c','d','e'])"
   ],
   "outputs": [],
   "metadata": {}
  },
  {
   "cell_type": "code",
   "execution_count": 42,
   "source": [
    "def f(a,b,c,d,e):\n",
    "    return a,b,c,d,e"
   ],
   "outputs": [],
   "metadata": {}
  },
  {
   "cell_type": "code",
   "execution_count": 45,
   "source": [
    "f(1,2,3,4, c=2)"
   ],
   "outputs": [
    {
     "output_type": "error",
     "ename": "TypeError",
     "evalue": "f() got multiple values for argument 'c'",
     "traceback": [
      "\u001b[0;31m---------------------------------------------------------------------------\u001b[0m",
      "\u001b[0;31mTypeError\u001b[0m                                 Traceback (most recent call last)",
      "\u001b[0;32m<ipython-input-45-86d1b2f08fbb>\u001b[0m in \u001b[0;36m<module>\u001b[0;34m\u001b[0m\n\u001b[0;32m----> 1\u001b[0;31m \u001b[0mf\u001b[0m\u001b[0;34m(\u001b[0m\u001b[0;36m1\u001b[0m\u001b[0;34m,\u001b[0m\u001b[0;36m2\u001b[0m\u001b[0;34m,\u001b[0m\u001b[0;36m3\u001b[0m\u001b[0;34m,\u001b[0m\u001b[0;36m4\u001b[0m\u001b[0;34m,\u001b[0m \u001b[0mc\u001b[0m\u001b[0;34m=\u001b[0m\u001b[0;36m2\u001b[0m\u001b[0;34m)\u001b[0m\u001b[0;34m\u001b[0m\u001b[0;34m\u001b[0m\u001b[0m\n\u001b[0m",
      "\u001b[0;31mTypeError\u001b[0m: f() got multiple values for argument 'c'"
     ]
    }
   ],
   "metadata": {}
  },
  {
   "cell_type": "code",
   "execution_count": 22,
   "source": [
    "sig.bind_partial(1,2,3)"
   ],
   "outputs": [
    {
     "output_type": "execute_result",
     "data": {
      "text/plain": [
       "<BoundArguments (a=1, b=2, args=(3,))>"
      ]
     },
     "metadata": {},
     "execution_count": 22
    }
   ],
   "metadata": {}
  },
  {
   "cell_type": "code",
   "execution_count": 12,
   "source": [
    "def myf(a00, a01, /, a12, a13, a14, a36):\n",
    "    return (a00, a01, a12, a13, a14, a36)"
   ],
   "outputs": [],
   "metadata": {}
  },
  {
   "cell_type": "code",
   "execution_count": 10,
   "source": [
    "from i2.tests.util import sig_to_inputs"
   ],
   "outputs": [],
   "metadata": {}
  },
  {
   "cell_type": "code",
   "execution_count": 11,
   "source": [
    "list(sig_to_inputs(myf))"
   ],
   "outputs": [
    {
     "output_type": "execute_result",
     "data": {
      "text/plain": [
       "[((0, 1), {'a12': 2, 'a13': 3, 'a14': 4, 'a36': 5}),\n",
       " ((0, 1, 2), {'a13': 3, 'a14': 4, 'a36': 5}),\n",
       " ((0, 1, 2, 3), {'a14': 4, 'a36': 5}),\n",
       " ((0, 1, 2, 3, 4), {'a36': 5}),\n",
       " ((0, 1, 2, 3, 4, 5), {})]"
      ]
     },
     "metadata": {},
     "execution_count": 11
    }
   ],
   "metadata": {}
  },
  {
   "cell_type": "code",
   "execution_count": 52,
   "source": [
    "from collections import Counter\n",
    "from i2.tests.util import sig_to_inputs\n",
    "from i2.signatures import VP, VK, PO, PK, KO\n",
    "\n",
    "def sig_to_func(sig):  # check Thor's function: could not find it\n",
    "    @Sig(sig)\n",
    "    def func(*args, **kwargs):\n",
    "        return args, kwargs\n",
    "\n",
    "    return func\n",
    "\n",
    "\n",
    "def variadic_compatibility(vp1, vp2, vk1, vk2):\n",
    "    early_return = False\n",
    "    early_result = None\n",
    "    if vp1 and not vp2:\n",
    "         early_return = True\n",
    "         early_result = False\n",
    "    if vk1 and not vk2:\n",
    "        early_return = True\n",
    "        early_result = False\n",
    "    if vp2 and vk2:\n",
    "        early_return = True\n",
    "        early_result = True\n",
    "    \n",
    "    return early_return, early_result\n",
    "\n",
    "def transform_key(d, func):\n",
    "    return {func(k): v for k, v in d.items()}\n",
    "\n",
    "\n",
    "kind_to_symbol = {PO: \"PO\", PK: \"PK\", VP: \"VP\", KO: \"KO\", VK: \"VK\"}\n",
    "\n",
    "\n",
    "def param_kind_counter(sig):\n",
    "    param_list = [param.kind for param in sig.parameters.values()]\n",
    "    cc = Counter(param_list)\n",
    "    res = transform_key(dict(cc), kind_to_symbol_func)\n",
    "    return res\n",
    "\n",
    "\n",
    "def kind_to_symbol_func(k):\n",
    "    return kind_to_symbol[k]\n",
    "\n",
    "\n",
    "def variadics_from_sig(sig):\n",
    "    d = param_kind_counter(sig)\n",
    "    vp = 'VP' in d\n",
    "    vk = 'VK' in d\n",
    "\n",
    "    return vp, vk\n",
    "\n",
    "def is_valid_input_for_func(func, input):\n",
    "    args, kwargs = input\n",
    "    try:\n",
    "        func(*args, **kwargs)\n",
    "        return True\n",
    "    except TypeError:\n",
    "        return False\n",
    "\n",
    "def remove_variadics_from_sig(sig):\n",
    "    non_variadics_params = [param for param in sig.params if param.kind not in var_param_kinds]\n",
    "    new_sig = Sig.from_params(non_variadics_params)\n",
    "\n",
    "    return new_sig\n",
    "\n",
    "def comp(sig1, sig2):\n",
    "    vp1, vk1 = variadics_from_sig(sig1)\n",
    "    vp2, vk2 = variadics_from_sig(sig2)\n",
    "    \n",
    "    early_return, early_result = variadic_compatibility(vp1, vp2, vk1, vk2)\n",
    "    if early_return:\n",
    "        return early_result\n",
    "    \n",
    "    new_sig1 = remove_variadics_from_sig(sig1)\n",
    "    new_sig2 = remove_variadics_from_sig(sig2)\n",
    "    func1 = sig_to_func(new_sig1)\n",
    "    func2 = sig_to_func(new_sig2)\n",
    "    inputs = sig_to_inputs(new_sig1)\n",
    "    # assert valid for func1 !\n",
    "    is_valid = all([is_valid_input_for_func(func2, input) for input in inputs])\n",
    "\n",
    "    return is_valid\n",
    "\n",
    "    "
   ],
   "outputs": [],
   "metadata": {}
  },
  {
   "cell_type": "markdown",
   "source": [],
   "metadata": {}
  },
  {
   "cell_type": "code",
   "execution_count": 53,
   "source": [
    "comp(sig1, sig1)\n",
    "#param_kind_counter(sig1)"
   ],
   "outputs": [
    {
     "output_type": "execute_result",
     "data": {
      "text/plain": [
       "True"
      ]
     },
     "metadata": {},
     "execution_count": 53
    }
   ],
   "metadata": {}
  },
  {
   "cell_type": "code",
   "execution_count": 13,
   "source": [],
   "outputs": [
    {
     "output_type": "stream",
     "name": "stdout",
     "text": [
      "\u001b[0;31mSignature:\u001b[0m \u001b[0mcomp\u001b[0m\u001b[0;34m(\u001b[0m\u001b[0msig1\u001b[0m\u001b[0;34m,\u001b[0m \u001b[0msig2\u001b[0m\u001b[0;34m)\u001b[0m\u001b[0;34m\u001b[0m\u001b[0;34m\u001b[0m\u001b[0m\n",
      "\u001b[0;31mDocstring:\u001b[0m <no docstring>\n",
      "\u001b[0;31mSource:\u001b[0m   \n",
      "\u001b[0;32mdef\u001b[0m \u001b[0mcomp\u001b[0m\u001b[0;34m(\u001b[0m\u001b[0msig1\u001b[0m\u001b[0;34m,\u001b[0m \u001b[0msig2\u001b[0m\u001b[0;34m)\u001b[0m\u001b[0;34m:\u001b[0m\u001b[0;34m\u001b[0m\n",
      "\u001b[0;34m\u001b[0m    \u001b[0mvp1\u001b[0m\u001b[0;34m,\u001b[0m \u001b[0mvk1\u001b[0m \u001b[0;34m=\u001b[0m \u001b[0mvariadics_from_sig\u001b[0m\u001b[0;34m(\u001b[0m\u001b[0msig1\u001b[0m\u001b[0;34m)\u001b[0m\u001b[0;34m\u001b[0m\n",
      "\u001b[0;34m\u001b[0m    \u001b[0mvp2\u001b[0m\u001b[0;34m,\u001b[0m \u001b[0mvk2\u001b[0m \u001b[0;34m=\u001b[0m \u001b[0mvariadics_from_sig\u001b[0m\u001b[0;34m(\u001b[0m\u001b[0msig2\u001b[0m\u001b[0;34m)\u001b[0m\u001b[0;34m\u001b[0m\n",
      "\u001b[0;34m\u001b[0m\u001b[0;34m\u001b[0m\n",
      "\u001b[0;34m\u001b[0m    \u001b[0mearly_return\u001b[0m\u001b[0;34m,\u001b[0m \u001b[0mearly_result\u001b[0m \u001b[0;34m=\u001b[0m \u001b[0mvariadic_compatibility\u001b[0m\u001b[0;34m(\u001b[0m\u001b[0mvp1\u001b[0m\u001b[0;34m,\u001b[0m \u001b[0mvp2\u001b[0m\u001b[0;34m,\u001b[0m \u001b[0mvk1\u001b[0m\u001b[0;34m,\u001b[0m \u001b[0mvk2\u001b[0m\u001b[0;34m)\u001b[0m\u001b[0;34m\u001b[0m\n",
      "\u001b[0;34m\u001b[0m    \u001b[0;32mif\u001b[0m \u001b[0mearly_return\u001b[0m\u001b[0;34m:\u001b[0m\u001b[0;34m\u001b[0m\n",
      "\u001b[0;34m\u001b[0m        \u001b[0;32mreturn\u001b[0m \u001b[0mearly_result\u001b[0m\u001b[0;34m\u001b[0m\n",
      "\u001b[0;34m\u001b[0m\u001b[0;34m\u001b[0m\n",
      "\u001b[0;34m\u001b[0m    \u001b[0mnew_sig1\u001b[0m \u001b[0;34m=\u001b[0m \u001b[0mremove_variadics_from_sig\u001b[0m\u001b[0;34m(\u001b[0m\u001b[0msig1\u001b[0m\u001b[0;34m)\u001b[0m\u001b[0;34m\u001b[0m\n",
      "\u001b[0;34m\u001b[0m    \u001b[0mnew_sig2\u001b[0m \u001b[0;34m=\u001b[0m \u001b[0mremove_variadics_from_sig\u001b[0m\u001b[0;34m(\u001b[0m\u001b[0msig2\u001b[0m\u001b[0;34m)\u001b[0m\u001b[0;34m\u001b[0m\n",
      "\u001b[0;34m\u001b[0m    \u001b[0mfunc1\u001b[0m \u001b[0;34m=\u001b[0m \u001b[0msig_to_func\u001b[0m\u001b[0;34m(\u001b[0m\u001b[0mnew_sig1\u001b[0m\u001b[0;34m)\u001b[0m\u001b[0;34m\u001b[0m\n",
      "\u001b[0;34m\u001b[0m    \u001b[0mfunc2\u001b[0m \u001b[0;34m=\u001b[0m \u001b[0msig_to_func\u001b[0m\u001b[0;34m(\u001b[0m\u001b[0mnew_sig2\u001b[0m\u001b[0;34m)\u001b[0m\u001b[0;34m\u001b[0m\n",
      "\u001b[0;34m\u001b[0m    \u001b[0minputs\u001b[0m \u001b[0;34m=\u001b[0m \u001b[0msig_to_inputs\u001b[0m\u001b[0;34m(\u001b[0m\u001b[0mnew_sig1\u001b[0m\u001b[0;34m)\u001b[0m\u001b[0;34m\u001b[0m\n",
      "\u001b[0;34m\u001b[0m    \u001b[0;31m# assert valid for func1 !\u001b[0m\u001b[0;34m\u001b[0m\n",
      "\u001b[0;34m\u001b[0m    \u001b[0mis_valid\u001b[0m \u001b[0;34m=\u001b[0m \u001b[0mall\u001b[0m\u001b[0;34m(\u001b[0m\u001b[0;34m[\u001b[0m\u001b[0mis_valid_input_for_func\u001b[0m\u001b[0;34m(\u001b[0m\u001b[0mfunc2\u001b[0m\u001b[0;34m,\u001b[0m \u001b[0minput\u001b[0m\u001b[0;34m)\u001b[0m \u001b[0;32mfor\u001b[0m \u001b[0minput\u001b[0m \u001b[0;32min\u001b[0m \u001b[0minputs\u001b[0m\u001b[0;34m]\u001b[0m\u001b[0;34m)\u001b[0m\u001b[0;34m\u001b[0m\n",
      "\u001b[0;34m\u001b[0m\u001b[0;34m\u001b[0m\n",
      "\u001b[0;34m\u001b[0m    \u001b[0;32mreturn\u001b[0m \u001b[0mis_valid\u001b[0m\u001b[0;34m\u001b[0m\u001b[0;34m\u001b[0m\u001b[0m\n",
      "\u001b[0;31mFile:\u001b[0m      ~/Desktop/dev/otosense/plunk/plunk/sb/sig_compatibility/sig_comp.py\n",
      "\u001b[0;31mType:\u001b[0m      function\n"
     ]
    }
   ],
   "metadata": {}
  },
  {
   "cell_type": "code",
   "execution_count": 1,
   "source": [
    "from plunk.sb.sig_compatibility.sig_comp import comp"
   ],
   "outputs": [],
   "metadata": {}
  },
  {
   "cell_type": "code",
   "execution_count": 2,
   "source": [
    "def myf(a00, a01, /, a12, a13, a14, a36):\n",
    "    return (a00, a01, a12, a13, a14, a36)"
   ],
   "outputs": [],
   "metadata": {}
  },
  {
   "cell_type": "code",
   "execution_count": 10,
   "source": [
    "from i2 import Sig\n",
    "from i2.tests.util import generate_params\n",
    "\n",
    "sig1 = Sig(generate_params([0, 0, 1, 1, 1, 3]))\n",
    "sig2 = Sig(generate_params([0, 1, 1, 1,  3, 3]))"
   ],
   "outputs": [],
   "metadata": {}
  },
  {
   "cell_type": "code",
   "execution_count": 11,
   "source": [
    "sig1, sig2"
   ],
   "outputs": [
    {
     "output_type": "execute_result",
     "data": {
      "text/plain": [
       "(<Sig (a00, a01, /, a12, a13, a14, *, a35)>,\n",
       " <Sig (a00, /, a11, a12, a13, *, a34, a35)>)"
      ]
     },
     "metadata": {},
     "execution_count": 11
    }
   ],
   "metadata": {}
  },
  {
   "cell_type": "markdown",
   "source": [],
   "metadata": {}
  },
  {
   "cell_type": "code",
   "execution_count": 12,
   "source": [
    "comp(sig1, sig2)"
   ],
   "outputs": [
    {
     "output_type": "execute_result",
     "data": {
      "text/plain": [
       "True"
      ]
     },
     "metadata": {},
     "execution_count": 12
    }
   ],
   "metadata": {}
  },
  {
   "cell_type": "code",
   "execution_count": null,
   "source": [],
   "outputs": [],
   "metadata": {}
  }
 ],
 "metadata": {
  "orig_nbformat": 4,
  "language_info": {
   "name": "python",
   "version": "3.8.11",
   "mimetype": "text/x-python",
   "codemirror_mode": {
    "name": "ipython",
    "version": 3
   },
   "pygments_lexer": "ipython3",
   "nbconvert_exporter": "python",
   "file_extension": ".py"
  },
  "kernelspec": {
   "name": "python3",
   "display_name": "Python 3.8.11 64-bit ('otopy38': conda)"
  },
  "interpreter": {
   "hash": "094c189d81026d09b06c18854d442a49d96e55830a4824cf8c6f41ec19877a82"
  }
 },
 "nbformat": 4,
 "nbformat_minor": 2
}