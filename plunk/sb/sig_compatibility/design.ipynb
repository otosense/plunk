{
 "cells": [
  {
   "cell_type": "markdown",
   "metadata": {},
   "source": [
    "# Background"
   ]
  },
  {
   "cell_type": "markdown",
   "metadata": {},
   "source": [
    "**Origin of the problem**: \n",
    "Starting from a function having as a signature a given inner_sig, we can wrap it into a function called wrapped_func\n",
    "```python\n",
    "@outer_sig\n",
    "def wrapped_func(*args, **kwargs):\n",
    "    return func(*args, **kwargs) \n",
    "```   \n",
    "\n",
    "This new function must accept all valid inputs for func. \n",
    "\n",
    "\n"
   ]
  },
  {
   "cell_type": "markdown",
   "metadata": {},
   "source": [
    "## Compatibility at the level of signatures"
   ]
  },
  {
   "cell_type": "markdown",
   "metadata": {},
   "source": [
    "We define an order relation on signatures as follows:\n",
    "$$sig_1 \\leq sig_2  \\Leftrightarrow \\textrm{every valid way of calling a function with signature } sig_1 \\textrm{ is a valid way of calling a function having signature } sig_2$$\n"
   ]
  },
  {
   "cell_type": "markdown",
   "metadata": {},
   "source": [
    "This is implemented by a function:\n",
    "```python\n",
    "is_call_compatible_with(\n",
    "    sig1: Sig, sig2: Sig, *, param_comparator: Callable = None\n",
    ") -> bool\n",
    "```"
   ]
  },
  {
   "cell_type": "markdown",
   "metadata": {},
   "source": [
    "The comparison is a boolean \"AND\" combination of 5 conditions:\n",
    "1) **validate_variadics**: sig1 can only have a VP if sig2 also has one\n",
    "and sig1 can only have a VK if sig2 also has one.\n",
    "\n",
    "2) **validate_param_counts**: \n",
    "sig1 cannot have more positional params than sig2\n",
    "and sig1 cannot have keyword params that do not exist in sig2.\n",
    "\n",
    "3) **validate_extra_params**:\n",
    "\n",
    "   * Any extra PO in sig2 must have a default value\n",
    "   * Any extra PK in sig2 must have its corresponding PO or KO in sig1, or a default value\n",
    "   * Any extra KO in sig2 must have a default value\n",
    "\n",
    "4) **validate_param_positions**: conditions related to the fact that once a param is called as keyword, all params after it must be of type \"keyword\".\n",
    "5) **validate_param_compatibility**:\n",
    "\n",
    "   * Every positional param in sig1 must be compatible with its\n",
    "    correspondant param in sig2 (at the same index).\n",
    "   * Every keyword param in sig1 must be compatible with its\n",
    "    correspondant param in sig2 (with the same name).\n",
    "    This function returns True by default.\n",
    "  "
   ]
  },
  {
   "cell_type": "code",
   "execution_count": null,
   "metadata": {},
   "outputs": [],
   "source": []
  }
 ],
 "metadata": {
  "interpreter": {
   "hash": "094c189d81026d09b06c18854d442a49d96e55830a4824cf8c6f41ec19877a82"
  },
  "kernelspec": {
   "display_name": "Python 3",
   "language": "python",
   "name": "python3"
  },
  "language_info": {
   "codemirror_mode": {
    "name": "ipython",
    "version": 3
   },
   "file_extension": ".py",
   "mimetype": "text/x-python",
   "name": "python",
   "nbconvert_exporter": "python",
   "pygments_lexer": "ipython3",
   "version": "3.8.11"
  }
 },
 "nbformat": 4,
 "nbformat_minor": 2
}
