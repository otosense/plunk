{
 "cells": [
  {
   "cell_type": "markdown",
   "source": [
    "# Background"
   ],
   "metadata": {}
  },
  {
   "cell_type": "markdown",
   "source": [
    "**Origin of the problem**: \n",
    "Starting from a function having as a signature a given inner_sig, we can wrap it into a function called wrapped_func\n",
    "```python\n",
    "@outer_sig\n",
    "def wrapped_func(*args, **kwargs):\n",
    "    return func(*args, **kwargs) \n",
    "```   \n",
    "\n",
    "This new function must accept all valid inputs for func. \n",
    "\n",
    "\n"
   ],
   "metadata": {}
  },
  {
   "cell_type": "markdown",
   "source": [
    "## Compatibility at the level of signatures"
   ],
   "metadata": {}
  },
  {
   "cell_type": "markdown",
   "source": [
    "We define an order relation on signatures as follows:\n",
    "$$sig_1 \\leq sig_2  \\Leftrightarrow \\textrm{every valid way of calling a function with signature } sig_1 \\textrm{ is a valid way of calling a function having signature } sig_2$$\n"
   ],
   "metadata": {}
  },
  {
   "cell_type": "markdown",
   "source": [
    "This is implemented by a function:\n",
    "```python\n",
    "is_call_compatible_with(\n",
    "    sig1: Sig, sig2: Sig, *, param_comparator: Callable = None\n",
    ") -> bool\n",
    "```"
   ],
   "metadata": {}
  },
  {
   "cell_type": "markdown",
   "source": [],
   "metadata": {}
  },
  {
   "cell_type": "markdown",
   "source": [
    "The comparison is a boolean \"AND\" combination of 5 conditions:\n",
    "1) **validate_variadics**: sig1 can only have a VP if sig2 also has one\n",
    "and sig1 can only have a VK if sig2 also has one.\n",
    "\n",
    "2) **validate_param_counts**: \n",
    "sig1 cannot have more positional params than sig2\n",
    "and sig1 cannot have keyword params that do not exist in sig2.\n",
    "\n",
    "3) **validate_extra_params**:\n",
    "    * Any extra PO in sig2 must have a default value\n",
    "    * Any extra PK in sig2 must have its corresponding PO or KO in sig1, or a default value\n",
    "        \n",
    "    * Any extra KO in sig2 must have a default value\n",
    "\n",
    "4) **validate_param_positions**: conditions related to the fact that once a param is called as keyword, all params after it must be of type \"keyword\".\n",
    "5) **validate_param_compatibility**:\n",
    "    * Every positional param in sig1 must be compatible with its\n",
    "    correspondant param in sig2 (at the same index).\n",
    "    * Every keyword param in sig1 must be compatible with its\n",
    "    correspondant param in sig2 (with the same name).\n",
    "  "
   ],
   "metadata": {}
  },
  {
   "cell_type": "markdown",
   "source": [],
   "metadata": {}
  },
  {
   "cell_type": "code",
   "execution_count": null,
   "source": [],
   "outputs": [],
   "metadata": {}
  },
  {
   "cell_type": "markdown",
   "source": [
    " validate_variadics()\n",
    "        and validate_param_counts()\n",
    "        and validate_extra_params()\n",
    "        and validate_param_positions()\n",
    "        and validate_param_compatibility()"
   ],
   "metadata": {}
  }
 ],
 "metadata": {
  "orig_nbformat": 4,
  "language_info": {
   "name": "python",
   "version": "3.8.11"
  },
  "kernelspec": {
   "name": "python3",
   "display_name": "Python 3.8.11 64-bit ('otopy38': conda)"
  },
  "interpreter": {
   "hash": "094c189d81026d09b06c18854d442a49d96e55830a4824cf8c6f41ec19877a82"
  }
 },
 "nbformat": 4,
 "nbformat_minor": 2
}