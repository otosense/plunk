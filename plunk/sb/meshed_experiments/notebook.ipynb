{
 "cells": [
  {
   "cell_type": "code",
   "execution_count": 1,
   "source": [
    "from i2.tests.util import mk_func_from_params\n",
    "from i2 import Sig\n",
    "\n",
    "f = mk_func_from_params('2244')\n",
    "assert str(Sig(f)) == '(*a20, *a21, **a42, **a43)'\n",
    "assert f(0,1,2,3, x=4, y=5) == \"a20=(0, 1, 2, 3), a21=(), a42={}, a43={'x': 4, 'y': 5}\""
   ],
   "outputs": [
    {
     "output_type": "error",
     "ename": "ValueError",
     "evalue": "You can't have several variadic keywords: ('a20', 'a21')",
     "traceback": [
      "\u001b[0;31m---------------------------------------------------------------------------\u001b[0m",
      "\u001b[0;31mValueError\u001b[0m                                Traceback (most recent call last)",
      "\u001b[0;32m<ipython-input-1-5c5600de77a8>\u001b[0m in \u001b[0;36m<module>\u001b[0;34m\u001b[0m\n\u001b[1;32m      2\u001b[0m \u001b[0;32mfrom\u001b[0m \u001b[0mi2\u001b[0m \u001b[0;32mimport\u001b[0m \u001b[0mSig\u001b[0m\u001b[0;34m\u001b[0m\u001b[0;34m\u001b[0m\u001b[0m\n\u001b[1;32m      3\u001b[0m \u001b[0;34m\u001b[0m\u001b[0m\n\u001b[0;32m----> 4\u001b[0;31m \u001b[0mf\u001b[0m \u001b[0;34m=\u001b[0m \u001b[0mmk_func_from_params\u001b[0m\u001b[0;34m(\u001b[0m\u001b[0;34m'2244'\u001b[0m\u001b[0;34m)\u001b[0m\u001b[0;34m\u001b[0m\u001b[0;34m\u001b[0m\u001b[0m\n\u001b[0m\u001b[1;32m      5\u001b[0m \u001b[0;32massert\u001b[0m \u001b[0mstr\u001b[0m\u001b[0;34m(\u001b[0m\u001b[0mSig\u001b[0m\u001b[0;34m(\u001b[0m\u001b[0mf\u001b[0m\u001b[0;34m)\u001b[0m\u001b[0;34m)\u001b[0m \u001b[0;34m==\u001b[0m \u001b[0;34m'(*a20, *a21, **a42, **a43)'\u001b[0m\u001b[0;34m\u001b[0m\u001b[0;34m\u001b[0m\u001b[0m\n\u001b[1;32m      6\u001b[0m \u001b[0;32massert\u001b[0m \u001b[0mf\u001b[0m\u001b[0;34m(\u001b[0m\u001b[0;36m0\u001b[0m\u001b[0;34m,\u001b[0m\u001b[0;36m1\u001b[0m\u001b[0;34m,\u001b[0m\u001b[0;36m2\u001b[0m\u001b[0;34m,\u001b[0m\u001b[0;36m3\u001b[0m\u001b[0;34m,\u001b[0m \u001b[0mx\u001b[0m\u001b[0;34m=\u001b[0m\u001b[0;36m4\u001b[0m\u001b[0;34m,\u001b[0m \u001b[0my\u001b[0m\u001b[0;34m=\u001b[0m\u001b[0;36m5\u001b[0m\u001b[0;34m)\u001b[0m \u001b[0;34m==\u001b[0m \u001b[0;34m\"a20=(0, 1, 2, 3), a21=(), a42={}, a43={'x': 4, 'y': 5}\"\u001b[0m\u001b[0;34m\u001b[0m\u001b[0;34m\u001b[0m\u001b[0m\n",
      "\u001b[0;32m~/Desktop/dev/otosense/i2/i2/tests/util.py\u001b[0m in \u001b[0;36mmk_func_from_params\u001b[0;34m(params, defaults, name, callback)\u001b[0m\n\u001b[1;32m    179\u001b[0m     \u001b[0mparams\u001b[0m \u001b[0;34m=\u001b[0m \u001b[0mgenerate_params\u001b[0m\u001b[0;34m(\u001b[0m\u001b[0mparams\u001b[0m\u001b[0;34m)\u001b[0m\u001b[0;34m\u001b[0m\u001b[0;34m\u001b[0m\u001b[0m\n\u001b[1;32m    180\u001b[0m     \u001b[0mparams\u001b[0m \u001b[0;34m=\u001b[0m \u001b[0minject_defaults\u001b[0m\u001b[0;34m(\u001b[0m\u001b[0mparams\u001b[0m\u001b[0;34m,\u001b[0m \u001b[0mdefaults\u001b[0m\u001b[0;34m=\u001b[0m\u001b[0mdefaults\u001b[0m \u001b[0;32mor\u001b[0m \u001b[0;34m{\u001b[0m\u001b[0;34m}\u001b[0m\u001b[0;34m)\u001b[0m\u001b[0;34m\u001b[0m\u001b[0;34m\u001b[0m\u001b[0m\n\u001b[0;32m--> 181\u001b[0;31m     \u001b[0msig\u001b[0m \u001b[0;34m=\u001b[0m \u001b[0mSig\u001b[0m\u001b[0;34m(\u001b[0m\u001b[0mparams\u001b[0m\u001b[0;34m)\u001b[0m\u001b[0;34m\u001b[0m\u001b[0;34m\u001b[0m\u001b[0m\n\u001b[0m\u001b[1;32m    182\u001b[0m \u001b[0;34m\u001b[0m\u001b[0m\n\u001b[1;32m    183\u001b[0m     \u001b[0;34m@\u001b[0m\u001b[0msig\u001b[0m\u001b[0;34m\u001b[0m\u001b[0;34m\u001b[0m\u001b[0m\n",
      "\u001b[0;32m~/Desktop/dev/otosense/i2/i2/signatures.py\u001b[0m in \u001b[0;36m__init__\u001b[0;34m(self, obj, name, return_annotation, __validate_parameters__)\u001b[0m\n\u001b[1;32m    921\u001b[0m         \u001b[0;32mif\u001b[0m \u001b[0mlen\u001b[0m\u001b[0;34m(\u001b[0m\u001b[0mself\u001b[0m\u001b[0;34m.\u001b[0m\u001b[0mnames_of_kind\u001b[0m\u001b[0;34m[\u001b[0m\u001b[0mParameter\u001b[0m\u001b[0;34m.\u001b[0m\u001b[0mVAR_POSITIONAL\u001b[0m\u001b[0;34m]\u001b[0m\u001b[0;34m)\u001b[0m \u001b[0;34m>\u001b[0m \u001b[0;36m1\u001b[0m\u001b[0;34m:\u001b[0m\u001b[0;34m\u001b[0m\u001b[0;34m\u001b[0m\u001b[0m\n\u001b[1;32m    922\u001b[0m             \u001b[0mvps\u001b[0m \u001b[0;34m=\u001b[0m \u001b[0mself\u001b[0m\u001b[0;34m.\u001b[0m\u001b[0mnames_of_kind\u001b[0m\u001b[0;34m[\u001b[0m\u001b[0mParameter\u001b[0m\u001b[0;34m.\u001b[0m\u001b[0mVAR_POSITIONAL\u001b[0m\u001b[0;34m]\u001b[0m\u001b[0;34m\u001b[0m\u001b[0;34m\u001b[0m\u001b[0m\n\u001b[0;32m--> 923\u001b[0;31m             \u001b[0;32mraise\u001b[0m \u001b[0mValueError\u001b[0m\u001b[0;34m(\u001b[0m\u001b[0;34mf\"You can't have several variadic keywords: {vps}\"\u001b[0m\u001b[0;34m)\u001b[0m\u001b[0;34m\u001b[0m\u001b[0;34m\u001b[0m\u001b[0m\n\u001b[0m\u001b[1;32m    924\u001b[0m         \u001b[0;32mif\u001b[0m \u001b[0mlen\u001b[0m\u001b[0;34m(\u001b[0m\u001b[0mself\u001b[0m\u001b[0;34m.\u001b[0m\u001b[0mnames_of_kind\u001b[0m\u001b[0;34m[\u001b[0m\u001b[0mParameter\u001b[0m\u001b[0;34m.\u001b[0m\u001b[0mVAR_KEYWORD\u001b[0m\u001b[0;34m]\u001b[0m\u001b[0;34m)\u001b[0m \u001b[0;34m>\u001b[0m \u001b[0;36m1\u001b[0m\u001b[0;34m:\u001b[0m\u001b[0;34m\u001b[0m\u001b[0;34m\u001b[0m\u001b[0m\n\u001b[1;32m    925\u001b[0m             \u001b[0mvks\u001b[0m \u001b[0;34m=\u001b[0m \u001b[0mself\u001b[0m\u001b[0;34m.\u001b[0m\u001b[0mnames_of_kind\u001b[0m\u001b[0;34m[\u001b[0m\u001b[0mParameter\u001b[0m\u001b[0;34m.\u001b[0m\u001b[0mVAR_KEYWORD\u001b[0m\u001b[0;34m]\u001b[0m\u001b[0;34m\u001b[0m\u001b[0;34m\u001b[0m\u001b[0m\n",
      "\u001b[0;31mValueError\u001b[0m: You can't have several variadic keywords: ('a20', 'a21')"
     ]
    }
   ],
   "metadata": {}
  },
  {
   "cell_type": "code",
   "execution_count": 1,
   "source": [
    "from meshed import DAG, FuncNode\n"
   ],
   "outputs": [],
   "metadata": {}
  },
  {
   "cell_type": "code",
   "execution_count": 6,
   "source": [
    "def f(a, **kwargs): # also test  the *args ! pb if f and g have kwargs (check \"mk_all_pk\" , or nice_kinds in i2)\n",
    "    print(kwargs)\n",
    "    return a"
   ],
   "outputs": [],
   "metadata": {}
  },
  {
   "cell_type": "code",
   "execution_count": 7,
   "source": [
    "f_node = FuncNode(func=f)\n",
    "d = DAG([f_node])  # breakpoint\n",
    "    # args = ['a'=1]\n",
    "    # kwargs = {'x'=3}\n",
    "\n",
    "    # d(*args, **kwargs\n",
    "scope = d.sig.kwargs_from_args_and_kwargs((), {\"a\": 1, \"x\": 3})"
   ],
   "outputs": [],
   "metadata": {}
  },
  {
   "cell_type": "code",
   "execution_count": 8,
   "source": [
    "scope"
   ],
   "outputs": [
    {
     "output_type": "execute_result",
     "data": {
      "text/plain": [
       "{'a': 1, 'kwargs': {'x': 3}}"
      ]
     },
     "metadata": {},
     "execution_count": 8
    }
   ],
   "metadata": {}
  },
  {
   "cell_type": "code",
   "execution_count": 12,
   "source": [
    "from i2 import kwargs_from_args_and_kwargs"
   ],
   "outputs": [
    {
     "output_type": "error",
     "ename": "ImportError",
     "evalue": "cannot import name 'kwargs_from_args_and_kwargs' from 'i2' (/Users/sylvain/Desktop/dev/otosense/i2/i2/__init__.py)",
     "traceback": [
      "\u001b[0;31m---------------------------------------------------------------------------\u001b[0m",
      "\u001b[0;31mImportError\u001b[0m                               Traceback (most recent call last)",
      "\u001b[0;32m<ipython-input-12-8cff832b28e7>\u001b[0m in \u001b[0;36m<module>\u001b[0;34m\u001b[0m\n\u001b[0;32m----> 1\u001b[0;31m \u001b[0;32mfrom\u001b[0m \u001b[0mi2\u001b[0m \u001b[0;32mimport\u001b[0m \u001b[0mkwargs_from_args_and_kwargs\u001b[0m\u001b[0;34m\u001b[0m\u001b[0;34m\u001b[0m\u001b[0m\n\u001b[0m",
      "\u001b[0;31mImportError\u001b[0m: cannot import name 'kwargs_from_args_and_kwargs' from 'i2' (/Users/sylvain/Desktop/dev/otosense/i2/i2/__init__.py)"
     ]
    }
   ],
   "metadata": {}
  },
  {
   "cell_type": "code",
   "execution_count": 17,
   "source": [
    "from i2 import Sig\n",
    ">>> def foo(w, /, x: float, y=\"YY\", *, z: str = \"ZZ\"):\n",
    "        pass     \n",
    ">>> sig = Sig(foo)\n",
    ">>> assert (sig.kwargs_from_args_and_kwargs((11, 22, \"you\"), dict(z=\"zoo\"))\n",
    "         == sig.kwargs_from_args_and_kwargs((11, 22), dict(y=\"you\", z=\"zoo\"))\n",
    "         == {\"w\": 11, \"x\": 22, \"y\": \"you\", \"z\": \"zoo\"}\n",
    "     )\n",
    "        "
   ],
   "outputs": [],
   "metadata": {}
  },
  {
   "cell_type": "code",
   "execution_count": 197,
   "source": [
    "from i2 import Sig\n",
    "def foo(w, /, x: float, y=\"YY\", *, z: str = \"ZZ\", **rest):\n",
    "        pass     \n",
    "sig = Sig(foo)\n",
    "#assert (sig.kwargs_from_args_and_kwargs((11, 22, \"you\"), dict(z=\"zoo\", other=\"stuff\"))\n",
    "#         == sig.kwargs_from_args_and_kwargs((11, 22), dict(y=\"you\", z=\"zoo\"))\n",
    "#         == {\"w\": 11, \"x\": 22, \"y\": \"you\", \"z\": \"zoo\"}\n",
    "#     )"
   ],
   "outputs": [],
   "metadata": {}
  },
  {
   "cell_type": "code",
   "execution_count": 198,
   "source": [
    "sig.kwargs_from_args_and_kwargs((11, 22, \"you\"), dict(z=\"zoo\", other=\"stuff\"))"
   ],
   "outputs": [
    {
     "output_type": "execute_result",
     "data": {
      "text/plain": [
       "{'w': 11, 'x': 22, 'y': 'you', 'z': 'zoo', 'rest': {'other': 'stuff'}}"
      ]
     },
     "metadata": {},
     "execution_count": 198
    }
   ],
   "metadata": {}
  },
  {
   "cell_type": "code",
   "execution_count": 199,
   "source": [
    "from i2.signatures import VK\n",
    "\n",
    "def maybe_first(items):\n",
    "    return items[0] if items else None\n",
    "    \n",
    "def name_of_var_kw_argument(sig):\n",
    "    var_kw_list = [param.name for param in sig.params if param.kind == VK] \n",
    "    result = maybe_first(var_kw_list)\n",
    "    return result\n",
    "\n",
    "def map_action_on_cond(kvs, cond, expand):\n",
    "    for k,v in kvs:\n",
    "        if cond(k):\n",
    "            yield from expand(v)\n",
    "        else:\n",
    "            yield k,v\n",
    "\n",
    "def flatten_if_var_kw(kvs, var_kw_name):\n",
    "    cond = lambda k:k==var_kw_name\n",
    "    expand = lambda k:k.items()\n",
    "\n",
    "    return map_action_on_cond(kvs, cond, expand)"
   ],
   "outputs": [],
   "metadata": {}
  },
  {
   "cell_type": "code",
   "execution_count": 208,
   "source": [
    "def kwargs_from_args_and_kwargs(\n",
    "        self,\n",
    "        args,\n",
    "        kwargs,\n",
    "        *,\n",
    "        apply_defaults=False,\n",
    "        allow_partial=False,\n",
    "        allow_excess=False,\n",
    "        ignore_kind=False,\n",
    "        post_process = False\n",
    "    ):\n",
    "        \"\"\"Extracts a dict of input argument values for target signature, from args\n",
    "        and kwargs.\n",
    "\n",
    "        When you need to manage how the arguments of a function are specified,\n",
    "        you need to take care of\n",
    "        multiple cases depending on whether they were specified as positional arguments\n",
    "        (`args`) or keyword arguments (`kwargs`).\n",
    "\n",
    "        The `kwargs_from_args_and_kwargs` (and it's sorta-inverse inverse,\n",
    "        `args_and_kwargs_from_kwargs`)\n",
    "        are there to help you manage this.\n",
    "\n",
    "        If you could rely on the the fact that only `kwargs` were given it would\n",
    "        reduce the complexity of your code.\n",
    "        This is why we have the `all_pk_signature` function in `signatures.py`.\n",
    "\n",
    "        We also need to have a means to make a `kwargs` only from the actual `(*args,\n",
    "        **kwargs)` used at runtime.\n",
    "        We have `Signature.bind` (and `bind_partial`) for that.\n",
    "\n",
    "        But these methods will fail if there is extra stuff in the `kwargs`.\n",
    "        Yet sometimes we'd like to have a `dict` that services several functions that\n",
    "        will extract their needs from it.\n",
    "\n",
    "        That's where  `Sig.extract_kwargs(*args, **kwargs)` is needed.\n",
    "        :param args: The args the function will be called with.\n",
    "        :param kwargs: The kwargs the function will be called with.\n",
    "        :param apply_defaults: (bool) Whether to apply signature defaults to the\n",
    "        non-specified argument names\n",
    "        :param allow_partial: (bool) True iff you want to allow partial signature\n",
    "        fulfillment.\n",
    "        :param allow_excess: (bool) Set to True iff you want to allow extra kwargs\n",
    "        items to be ignored.\n",
    "        :param ignore_kind: (bool) Set to True iff you want to ignore the position and\n",
    "        keyword only kinds,\n",
    "            in order to be able to accept args and kwargs in such a way that there can\n",
    "            be cross-over\n",
    "            (args that are supposed to be keyword only, and kwargs that are supposed\n",
    "            to be positional only)\n",
    "        :return: An {argname: argval, ...} dict\n",
    "\n",
    "        See also the sorta-inverse of this function: args_and_kwargs_from_kwargs\n",
    "\n",
    "        >>> def foo(w, /, x: float, y=\"YY\", *, z: str = \"ZZ\"):\n",
    "        ...     ...\n",
    "        >>> sig = Sig(foo)\n",
    "        >>> assert (\n",
    "        ...     sig.kwargs_from_args_and_kwargs((11, 22, \"you\"), dict(z=\"zoo\"))\n",
    "        ...     == sig.kwargs_from_args_and_kwargs((11, 22), dict(y=\"you\", z=\"zoo\"))\n",
    "        ...     == {\"w\": 11, \"x\": 22, \"y\": \"you\", \"z\": \"zoo\"}\n",
    "        ... )\n",
    "\n",
    "        By default, `apply_defaults=False`, which will lead to only get those\n",
    "        arguments you input.\n",
    "\n",
    "        >>> sig.kwargs_from_args_and_kwargs(args=(11,), kwargs={\"x\": 22})\n",
    "        {'w': 11, 'x': 22}\n",
    "\n",
    "        But if you specify `apply_defaults=True` non-specified non-require arguments\n",
    "        will be returned with their defaults:\n",
    "\n",
    "        >>> sig.kwargs_from_args_and_kwargs(\n",
    "        ...     args=(11,), kwargs={\"x\": 22}, apply_defaults=True\n",
    "        ... )\n",
    "        {'w': 11, 'x': 22, 'y': 'YY', 'z': 'ZZ'}\n",
    "\n",
    "        By default, `ignore_excess=False`, so specifying kwargs that are not in the\n",
    "        signature will lead to an exception.\n",
    "\n",
    "        >>> sig.kwargs_from_args_and_kwargs(\n",
    "        ...     args=(11,), kwargs={\"x\": 22, \"not_in_sig\": -1}\n",
    "        ... )\n",
    "        Traceback (most recent call last):\n",
    "            ...\n",
    "        TypeError: Got unexpected keyword arguments: not_in_sig\n",
    "\n",
    "        Specifying `allow_excess=True` will ignore such excess fields of kwargs.\n",
    "        This is useful when you want to source several functions from a same dict.\n",
    "\n",
    "        >>> sig.kwargs_from_args_and_kwargs(\n",
    "        ...     args=(11,), kwargs={\"x\": 22, \"not_in_sig\": -1}, allow_excess=True\n",
    "        ... )\n",
    "        {'w': 11, 'x': 22}\n",
    "\n",
    "        On the other side of `ignore_excess` you have `allow_partial` that will allow\n",
    "        you, if\n",
    "        set to `True`, to underspecify the params of a function (in view of being\n",
    "        completed later).\n",
    "\n",
    "        >>> sig.kwargs_from_args_and_kwargs(args=(), kwargs={\"x\": 22})\n",
    "        Traceback (most recent call last):\n",
    "          ...\n",
    "        TypeError: missing a required argument: 'w'\n",
    "\n",
    "        But if you specify `allow_partial=True`...\n",
    "\n",
    "        >>> sig.kwargs_from_args_and_kwargs(\n",
    "        ...     args=(), kwargs={\"x\": 22}, allow_partial=True\n",
    "        ... )\n",
    "        {'x': 22}\n",
    "\n",
    "        That's a lot of control (eight combinations total), but not everything is\n",
    "        controllable here:\n",
    "        Position only and keyword only kinds need to be respected:\n",
    "\n",
    "        >>> sig.kwargs_from_args_and_kwargs(args=(1, 2, 3, 4), kwargs={})\n",
    "        Traceback (most recent call last):\n",
    "          ...\n",
    "        TypeError: too many positional arguments\n",
    "        >>> sig.kwargs_from_args_and_kwargs(args=(), kwargs=dict(w=1, x=2, y=3, z=4))\n",
    "        Traceback (most recent call last):\n",
    "          ...\n",
    "        TypeError: 'w' parameter is positional only, but was passed as a keyword\n",
    "\n",
    "        But if you want to ignore the kind of parameter, just say so:\n",
    "\n",
    "        >>> sig.kwargs_from_args_and_kwargs(\n",
    "        ...     args=(1, 2, 3, 4), kwargs={}, ignore_kind=True\n",
    "        ... )\n",
    "        {'w': 1, 'x': 2, 'y': 3, 'z': 4}\n",
    "        >>> sig.kwargs_from_args_and_kwargs(\n",
    "        ...     args=(), kwargs=dict(w=1, x=2, y=3, z=4), ignore_kind=True\n",
    "        ... )\n",
    "        {'w': 1, 'x': 2, 'y': 3, 'z': 4}\n",
    "        \"\"\"\n",
    "        no_var_kw = not self.has_var_keyword\n",
    "        #no_var_kw = True\n",
    "\n",
    "\n",
    "        if ignore_kind:\n",
    "            sig = self.normalize_kind(\n",
    "                # except_kinds=frozenset()\n",
    "            )\n",
    "        else:\n",
    "            sig = self\n",
    "\n",
    "        # no_var_kw = not sig.has_var_keyword TODOD check this\n",
    "        if no_var_kw:  # has no var keyword kinds\n",
    "            sig_relevant_kwargs = {\n",
    "                name: kwargs[name] for name in sig if name in kwargs\n",
    "            }  # take only what you need\n",
    "        else:\n",
    "            sig_relevant_kwargs = kwargs  # take all the kwargs\n",
    "        binder = sig.bind_partial if allow_partial else sig.bind\n",
    "        if not self.has_var_positional and allow_excess:\n",
    "            max_allowed_num_of_posisional_args = sum(\n",
    "                k <= PK for k in self.kinds.values()\n",
    "            )\n",
    "            args = args[:max_allowed_num_of_posisional_args]\n",
    "\n",
    "        b = binder(*args, **sig_relevant_kwargs)\n",
    "        if apply_defaults:\n",
    "            b.apply_defaults()\n",
    "\n",
    "        if no_var_kw and not allow_excess:  # don't ignore excess kwargs\n",
    "            excess = kwargs.keys() - b.arguments\n",
    "            if excess:\n",
    "                excess_str = ', '.join(excess)\n",
    "                raise TypeError(f'Got unexpected keyword arguments: {excess_str}')\n",
    "        \n",
    "        \n",
    "        if post_process:\n",
    "            var_kw_name = name_of_var_kw_argument(self)\n",
    "\n",
    "            kvs = b.arguments.items()\n",
    "\n",
    "            flattened_kvs = flatten_if_var_kw(kvs, var_kw_name)\n",
    "            result = dict(flattened_kvs)\n",
    "\n",
    "        else:\n",
    "            result = b.arguments\n",
    "        return result\n",
    "        "
   ],
   "outputs": [],
   "metadata": {}
  },
  {
   "cell_type": "code",
   "execution_count": 209,
   "source": [
    "sig, sig.has_var_keyword"
   ],
   "outputs": [
    {
     "output_type": "execute_result",
     "data": {
      "text/plain": [
       "(<Sig (w, /, x: float, y='YY', *, z: str = 'ZZ', **rest)>, True)"
      ]
     },
     "metadata": {},
     "execution_count": 209
    }
   ],
   "metadata": {}
  },
  {
   "cell_type": "code",
   "execution_count": 211,
   "source": [
    "res = kwargs_from_args_and_kwargs(sig, (11, 22, \"you\"), dict(z=\"zoo\", other=\"stuff\"), post_process=True)\n",
    "res"
   ],
   "outputs": [
    {
     "output_type": "execute_result",
     "data": {
      "text/plain": [
       "{'w': 11, 'x': 22, 'y': 'you', 'z': 'zoo', 'other': 'stuff'}"
      ]
     },
     "metadata": {},
     "execution_count": 211
    }
   ],
   "metadata": {}
  },
  {
   "cell_type": "code",
   "execution_count": 1,
   "source": [
    "from meshed import code_to_dag\n",
    "\n",
    "@code_to_dag\n",
    "def dag():\n",
    "    w = f(a, b)\n",
    "    ww = g(c=w)\n",
    "    www = h(x=ww)\n",
    "\n",
    "dag.dot_digraph('rankdir=\"LR\"')"
   ],
   "outputs": [
    {
     "output_type": "execute_result",
     "data": {
      "image/svg+xml": "<?xml version=\"1.0\" encoding=\"UTF-8\" standalone=\"no\"?>\n<!DOCTYPE svg PUBLIC \"-//W3C//DTD SVG 1.1//EN\"\n \"http://www.w3.org/Graphics/SVG/1.1/DTD/svg11.dtd\">\n<!-- Generated by graphviz version 2.40.1 (20161225.0304)\n -->\n<!-- Title: %3 Pages: 1 -->\n<svg width=\"602pt\" height=\"98pt\"\n viewBox=\"0.00 0.00 602.00 98.00\" xmlns=\"http://www.w3.org/2000/svg\" xmlns:xlink=\"http://www.w3.org/1999/xlink\">\n<g id=\"graph0\" class=\"graph\" transform=\"scale(1 1) rotate(0) translate(4 94)\">\n<title>%3</title>\n<polygon fill=\"#ffffff\" stroke=\"transparent\" points=\"-4,4 -4,-94 598,-94 598,4 -4,4\"/>\n<!-- w -->\n<g id=\"node1\" class=\"node\">\n<title>w</title>\n<text text-anchor=\"middle\" x=\"207\" y=\"-41.3\" font-family=\"Times,serif\" font-size=\"14.00\" fill=\"#000000\">w</text>\n</g>\n<!-- g -->\n<g id=\"node6\" class=\"node\">\n<title>g</title>\n<polygon fill=\"none\" stroke=\"#000000\" points=\"324,-63 270,-63 270,-27 324,-27 324,-63\"/>\n<text text-anchor=\"middle\" x=\"297\" y=\"-41.3\" font-family=\"Times,serif\" font-size=\"14.00\" fill=\"#000000\">g</text>\n</g>\n<!-- w&#45;&gt;g -->\n<g id=\"edge5\" class=\"edge\">\n<title>w&#45;&gt;g</title>\n<path fill=\"none\" stroke=\"#000000\" d=\"M234.003,-45C242.0277,-45 250.9665,-45 259.5309,-45\"/>\n<polygon fill=\"#000000\" stroke=\"#000000\" points=\"259.7051,-48.5001 269.705,-45 259.705,-41.5001 259.7051,-48.5001\"/>\n</g>\n<!-- f -->\n<g id=\"node2\" class=\"node\">\n<title>f</title>\n<polygon fill=\"none\" stroke=\"#000000\" points=\"144,-63 90,-63 90,-27 144,-27 144,-63\"/>\n<text text-anchor=\"middle\" x=\"117\" y=\"-41.3\" font-family=\"Times,serif\" font-size=\"14.00\" fill=\"#000000\">f</text>\n</g>\n<!-- f&#45;&gt;w -->\n<g id=\"edge1\" class=\"edge\">\n<title>f&#45;&gt;w</title>\n<path fill=\"none\" stroke=\"#000000\" d=\"M144.003,-45C152.0277,-45 160.9665,-45 169.5309,-45\"/>\n<polygon fill=\"#000000\" stroke=\"#000000\" points=\"169.7051,-48.5001 179.705,-45 169.705,-41.5001 169.7051,-48.5001\"/>\n</g>\n<!-- a -->\n<g id=\"node3\" class=\"node\">\n<title>a</title>\n<text text-anchor=\"middle\" x=\"27\" y=\"-68.3\" font-family=\"Times,serif\" font-size=\"14.00\" fill=\"#000000\">a</text>\n</g>\n<!-- a&#45;&gt;f -->\n<g id=\"edge2\" class=\"edge\">\n<title>a&#45;&gt;f</title>\n<path fill=\"none\" stroke=\"#000000\" d=\"M54.003,-63.8991C62.204,-61.4388 71.3599,-58.692 80.095,-56.0715\"/>\n<polygon fill=\"#000000\" stroke=\"#000000\" points=\"81.1325,-59.4144 89.705,-53.1885 79.121,-52.7096 81.1325,-59.4144\"/>\n</g>\n<!-- b -->\n<g id=\"node4\" class=\"node\">\n<title>b</title>\n<text text-anchor=\"middle\" x=\"27\" y=\"-14.3\" font-family=\"Times,serif\" font-size=\"14.00\" fill=\"#000000\">b</text>\n</g>\n<!-- b&#45;&gt;f -->\n<g id=\"edge3\" class=\"edge\">\n<title>b&#45;&gt;f</title>\n<path fill=\"none\" stroke=\"#000000\" d=\"M54.003,-26.1009C62.204,-28.5612 71.3599,-31.308 80.095,-33.9285\"/>\n<polygon fill=\"#000000\" stroke=\"#000000\" points=\"79.121,-37.2904 89.705,-36.8115 81.1325,-30.5856 79.121,-37.2904\"/>\n</g>\n<!-- ww -->\n<g id=\"node5\" class=\"node\">\n<title>ww</title>\n<text text-anchor=\"middle\" x=\"387\" y=\"-41.3\" font-family=\"Times,serif\" font-size=\"14.00\" fill=\"#000000\">ww</text>\n</g>\n<!-- h -->\n<g id=\"node8\" class=\"node\">\n<title>h</title>\n<polygon fill=\"none\" stroke=\"#000000\" points=\"504,-63 450,-63 450,-27 504,-27 504,-63\"/>\n<text text-anchor=\"middle\" x=\"477\" y=\"-41.3\" font-family=\"Times,serif\" font-size=\"14.00\" fill=\"#000000\">h</text>\n</g>\n<!-- ww&#45;&gt;h -->\n<g id=\"edge7\" class=\"edge\">\n<title>ww&#45;&gt;h</title>\n<path fill=\"none\" stroke=\"#000000\" d=\"M414.003,-45C422.0277,-45 430.9665,-45 439.5309,-45\"/>\n<polygon fill=\"#000000\" stroke=\"#000000\" points=\"439.7051,-48.5001 449.705,-45 439.705,-41.5001 439.7051,-48.5001\"/>\n</g>\n<!-- g&#45;&gt;ww -->\n<g id=\"edge4\" class=\"edge\">\n<title>g&#45;&gt;ww</title>\n<path fill=\"none\" stroke=\"#000000\" d=\"M324.003,-45C332.0277,-45 340.9665,-45 349.5309,-45\"/>\n<polygon fill=\"#000000\" stroke=\"#000000\" points=\"349.7051,-48.5001 359.705,-45 349.705,-41.5001 349.7051,-48.5001\"/>\n</g>\n<!-- www -->\n<g id=\"node7\" class=\"node\">\n<title>www</title>\n<text text-anchor=\"middle\" x=\"567\" y=\"-41.3\" font-family=\"Times,serif\" font-size=\"14.00\" fill=\"#000000\">www</text>\n</g>\n<!-- h&#45;&gt;www -->\n<g id=\"edge6\" class=\"edge\">\n<title>h&#45;&gt;www</title>\n<path fill=\"none\" stroke=\"#000000\" d=\"M504.003,-45C512.0277,-45 520.9665,-45 529.5309,-45\"/>\n<polygon fill=\"#000000\" stroke=\"#000000\" points=\"529.7051,-48.5001 539.705,-45 529.705,-41.5001 529.7051,-48.5001\"/>\n</g>\n</g>\n</svg>\n",
      "text/plain": [
       "<graphviz.dot.Digraph at 0x7fa6a647caf0>"
      ]
     },
     "metadata": {},
     "execution_count": 1
    }
   ],
   "metadata": {}
  },
  {
   "cell_type": "code",
   "execution_count": 14,
   "source": [
    "dag[['w']:'ww'].dot_digraph('rankdir=\"LR\"')"
   ],
   "outputs": [
    {
     "output_type": "execute_result",
     "data": {
      "image/svg+xml": "<?xml version=\"1.0\" encoding=\"UTF-8\" standalone=\"no\"?>\n<!DOCTYPE svg PUBLIC \"-//W3C//DTD SVG 1.1//EN\"\n \"http://www.w3.org/Graphics/SVG/1.1/DTD/svg11.dtd\">\n<!-- Generated by graphviz version 2.40.1 (20161225.0304)\n -->\n<!-- Title: %3 Pages: 1 -->\n<svg width=\"422pt\" height=\"98pt\"\n viewBox=\"0.00 0.00 422.00 98.00\" xmlns=\"http://www.w3.org/2000/svg\" xmlns:xlink=\"http://www.w3.org/1999/xlink\">\n<g id=\"graph0\" class=\"graph\" transform=\"scale(1 1) rotate(0) translate(4 94)\">\n<title>%3</title>\n<polygon fill=\"#ffffff\" stroke=\"transparent\" points=\"-4,4 -4,-94 418,-94 418,4 -4,4\"/>\n<!-- w -->\n<g id=\"node1\" class=\"node\">\n<title>w</title>\n<text text-anchor=\"middle\" x=\"207\" y=\"-41.3\" font-family=\"Times,serif\" font-size=\"14.00\" fill=\"#000000\">w</text>\n</g>\n<!-- g -->\n<g id=\"node6\" class=\"node\">\n<title>g</title>\n<polygon fill=\"none\" stroke=\"#000000\" points=\"324,-63 270,-63 270,-27 324,-27 324,-63\"/>\n<text text-anchor=\"middle\" x=\"297\" y=\"-41.3\" font-family=\"Times,serif\" font-size=\"14.00\" fill=\"#000000\">g</text>\n</g>\n<!-- w&#45;&gt;g -->\n<g id=\"edge5\" class=\"edge\">\n<title>w&#45;&gt;g</title>\n<path fill=\"none\" stroke=\"#000000\" d=\"M234.003,-45C242.0277,-45 250.9665,-45 259.5309,-45\"/>\n<polygon fill=\"#000000\" stroke=\"#000000\" points=\"259.7051,-48.5001 269.705,-45 259.705,-41.5001 259.7051,-48.5001\"/>\n</g>\n<!-- f -->\n<g id=\"node2\" class=\"node\">\n<title>f</title>\n<polygon fill=\"none\" stroke=\"#000000\" points=\"144,-63 90,-63 90,-27 144,-27 144,-63\"/>\n<text text-anchor=\"middle\" x=\"117\" y=\"-41.3\" font-family=\"Times,serif\" font-size=\"14.00\" fill=\"#000000\">f</text>\n</g>\n<!-- f&#45;&gt;w -->\n<g id=\"edge1\" class=\"edge\">\n<title>f&#45;&gt;w</title>\n<path fill=\"none\" stroke=\"#000000\" d=\"M144.003,-45C152.0277,-45 160.9665,-45 169.5309,-45\"/>\n<polygon fill=\"#000000\" stroke=\"#000000\" points=\"169.7051,-48.5001 179.705,-45 169.705,-41.5001 169.7051,-48.5001\"/>\n</g>\n<!-- a -->\n<g id=\"node3\" class=\"node\">\n<title>a</title>\n<text text-anchor=\"middle\" x=\"27\" y=\"-68.3\" font-family=\"Times,serif\" font-size=\"14.00\" fill=\"#000000\">a</text>\n</g>\n<!-- a&#45;&gt;f -->\n<g id=\"edge2\" class=\"edge\">\n<title>a&#45;&gt;f</title>\n<path fill=\"none\" stroke=\"#000000\" d=\"M54.003,-63.8991C62.204,-61.4388 71.3599,-58.692 80.095,-56.0715\"/>\n<polygon fill=\"#000000\" stroke=\"#000000\" points=\"81.1325,-59.4144 89.705,-53.1885 79.121,-52.7096 81.1325,-59.4144\"/>\n</g>\n<!-- b -->\n<g id=\"node4\" class=\"node\">\n<title>b</title>\n<text text-anchor=\"middle\" x=\"27\" y=\"-14.3\" font-family=\"Times,serif\" font-size=\"14.00\" fill=\"#000000\">b</text>\n</g>\n<!-- b&#45;&gt;f -->\n<g id=\"edge3\" class=\"edge\">\n<title>b&#45;&gt;f</title>\n<path fill=\"none\" stroke=\"#000000\" d=\"M54.003,-26.1009C62.204,-28.5612 71.3599,-31.308 80.095,-33.9285\"/>\n<polygon fill=\"#000000\" stroke=\"#000000\" points=\"79.121,-37.2904 89.705,-36.8115 81.1325,-30.5856 79.121,-37.2904\"/>\n</g>\n<!-- ww -->\n<g id=\"node5\" class=\"node\">\n<title>ww</title>\n<text text-anchor=\"middle\" x=\"387\" y=\"-41.3\" font-family=\"Times,serif\" font-size=\"14.00\" fill=\"#000000\">ww</text>\n</g>\n<!-- g&#45;&gt;ww -->\n<g id=\"edge4\" class=\"edge\">\n<title>g&#45;&gt;ww</title>\n<path fill=\"none\" stroke=\"#000000\" d=\"M324.003,-45C332.0277,-45 340.9665,-45 349.5309,-45\"/>\n<polygon fill=\"#000000\" stroke=\"#000000\" points=\"349.7051,-48.5001 359.705,-45 349.705,-41.5001 349.7051,-48.5001\"/>\n</g>\n</g>\n</svg>\n",
      "text/plain": [
       "<graphviz.dot.Digraph at 0x7fa6a6430fd0>"
      ]
     },
     "metadata": {},
     "execution_count": 14
    }
   ],
   "metadata": {}
  },
  {
   "cell_type": "code",
   "execution_count": 8,
   "source": [
    "def getitem2(self, item):\n",
    "        \"\"\"Get a sub-dag from a specification of (var or fun) input and output nodes.\n",
    "        ``dag[input_nodes:output_nodes]`` is the sub-dag made of intersection of all\n",
    "        descendants of ``input_nodes``\n",
    "        (inclusive) and ancestors of ``output_nodes`` (inclusive), where additionally,\n",
    "        when a func node is contained, it takes with it the input and output nodes\n",
    "        it needs.\n",
    "        >>> def f(a): ...\n",
    "        >>> def g(f): ...\n",
    "        >>> def h(g): ...\n",
    "        >>> def i(h): ...\n",
    "        >>> dag = DAG([f, g, h, i])\n",
    "        See what this dag looks like (it's a simple pipeline):\n",
    "        >>> dag = DAG([f, g, h, i])\n",
    "        >>> print(dag.synopsis_string())\n",
    "        a -> f_ -> f\n",
    "        f -> g_ -> g\n",
    "        g -> h_ -> h\n",
    "        h -> i_ -> i\n",
    "        Get a subdag from ``g_`` (indicates the function here) to the end of ``dag``\n",
    "        >>> subdag = dag['g_':]\n",
    "        >>> print(subdag.synopsis_string())\n",
    "        f -> g_ -> g\n",
    "        g -> h_ -> h\n",
    "        h -> i_ -> i\n",
    "        From the beginning to ``h_``\n",
    "        >>> print(dag[:'h_'].synopsis_string())\n",
    "        a -> f_ -> f\n",
    "        f -> g_ -> g\n",
    "        g -> h_ -> h\n",
    "        From ``g_`` to ``h_`` (both inclusive)\n",
    "        >>> print(dag['g_':'h_'].synopsis_string())\n",
    "        f -> g_ -> g\n",
    "        g -> h_ -> h\n",
    "        Above we used function (node names) to specify what we wanted, but we can also\n",
    "        use names of input/output var-nodes. Do note the difference though.\n",
    "        The nodes you specify to get a sub-dag are INCLUSIVE, but when you\n",
    "        specify function nodes, you also get the input and output nodes of these\n",
    "        functions.\n",
    "        The ``dag['g_', 'h_']`` give us a sub-dag starting at ``f`` (the input node),\n",
    "        but when we ask ``dag['g', 'h_']`` instead, ``g`` being the output node of\n",
    "        function node ``g_``, we only get ``g -> h_ -> h``:\n",
    "        >>> print(dag['g':'h'].synopsis_string())\n",
    "        g -> h_ -> h\n",
    "        If we wanted to include ``f`` we'd have to specify it:\n",
    "        >>> print(dag['f':'h'].synopsis_string())\n",
    "        f -> g_ -> g\n",
    "        g -> h_ -> h\n",
    "        Those were for simple pipelines, but let's now look at a more complex dag.\n",
    "        We'll let the following examples self-comment:\n",
    "        >>> def f(u, v): ...\n",
    "        >>> def g(f): ...\n",
    "        >>> def h(f, w): ...\n",
    "        >>> def i(g, h): ...\n",
    "        >>> def j(h, x): ...\n",
    "        >>> def k(i): ...\n",
    "        >>> def l(i, j): ...\n",
    "        >>> dag = DAG([f, g, h, i, j, k, l])\n",
    "        >>> print(dag.synopsis_string())\n",
    "        u,v -> f_ -> f\n",
    "        f,w -> h_ -> h\n",
    "        h,x -> j_ -> j\n",
    "        f -> g_ -> g\n",
    "        g,h -> i_ -> i\n",
    "        i,j -> l_ -> l\n",
    "        i -> k_ -> k\n",
    "        A little util to get consistent prints:\n",
    "        >>> def print_sorted_synopsis(dag):\n",
    "        ...     t = sorted(dag.synopsis_string().split('\\\\n'))\n",
    "        ...     print('\\\\n'.join(t))\n",
    "        >>> print_sorted_synopsis(dag[['u', 'f']:'h'])\n",
    "        f,w -> h_ -> h\n",
    "        u,v -> f_ -> f\n",
    "        >>> print_sorted_synopsis(dag['u':'h'])\n",
    "        f,w -> h_ -> h\n",
    "        u,v -> f_ -> f\n",
    "        >>> print_sorted_synopsis(dag[['u', 'f']:['h', 'g']])\n",
    "        f -> g_ -> g\n",
    "        f,w -> h_ -> h\n",
    "        u,v -> f_ -> f\n",
    "        >>> print_sorted_synopsis(dag[['x', 'g']:'k'])\n",
    "        g,h -> i_ -> i\n",
    "        i -> k_ -> k\n",
    "        >>> print_sorted_synopsis(dag[['x', 'g']:['l', 'k']])\n",
    "        g,h -> i_ -> i\n",
    "        h,x -> j_ -> j\n",
    "        i -> k_ -> k\n",
    "        i,j -> l_ -> l\n",
    "        >>>\n",
    "        \"\"\"\n",
    "        return self._getitem(item)\n",
    "\n",
    "def _getitem(self, item):\n",
    "        ins, outs = self.process_item(item)\n",
    "        print(ins)\n",
    "        _descendants = set(\n",
    "            filter(FuncNode.has_as_instance, set(ins) | descendants(self.graph, ins))\n",
    "        )\n",
    "        _ancestors = set(\n",
    "            filter(FuncNode.has_as_instance, set(outs) | ancestors(self.graph, outs))\n",
    "        )\n",
    "        subgraph_nodes = _descendants.intersection(_ancestors)\n",
    "        # TODO: When clone ready, use to do `constructor = type(self)` instead of DAG\n",
    "        # constructor = type(self)  # instead of DAG\n",
    "        initial_nodes = self.func_nodes\n",
    "        ordered_subgraph_nodes = order_subset_from_list(initial_nodes, subgraph_nodes)\n",
    "\n",
    "        return DAG(\n",
    "            func_nodes=ordered_subgraph_nodes,\n",
    "            cache_last_scope=self.cache_last_scope,\n",
    "            parameter_merge=self.parameter_merge,\n",
    "        )"
   ],
   "outputs": [],
   "metadata": {}
  },
  {
   "cell_type": "code",
   "execution_count": 12,
   "source": [
    "type(dag).__getitem__ = getitem2"
   ],
   "outputs": [],
   "metadata": {}
  },
  {
   "cell_type": "code",
   "execution_count": 13,
   "source": [
    "dag['w':'ww']"
   ],
   "outputs": [
    {
     "output_type": "execute_result",
     "data": {
      "text/plain": [
       "DAG(func_nodes=[FuncNode(a,b -> f -> w), FuncNode(c=w -> g -> ww)], name=None)"
      ]
     },
     "metadata": {},
     "execution_count": 13
    }
   ],
   "metadata": {}
  },
  {
   "cell_type": "code",
   "execution_count": 20,
   "source": [
    "from meshed import DAG"
   ],
   "outputs": [],
   "metadata": {}
  },
  {
   "cell_type": "code",
   "execution_count": 23,
   "source": [
    "        >>> def f(a): ...\n",
    "        >>> def g(f): ...\n",
    "        >>> def h(g): ...\n",
    "        >>> def i(h): ...\n",
    "        >>> dag = DAG([f, g, h, i])\n",
    "        #See what this dag looks like (it's a simple pipeline):\n",
    "        >>> dag = DAG([f, g, h, i])\n",
    "        #>>> print(dag.synopsis_string())\n",
    "        #a -> f_ -> f\n",
    "        #f -> g_ -> g\n",
    "        #g -> h_ -> h\n",
    "        #h -> i_ -> i\n",
    "        #Get a subdag from ``g_`` (indicates the function here) to the end of ``dag``\n",
    "        >>> subdag = dag['g_':]\n",
    "        #>>> print(subdag.synopsis_string())\n",
    "        #f -> g_ -> g\n",
    "        #g -> h_ -> h\n",
    "        #h -> i_ -> i\n",
    "        #From the beginning to ``h_``\n",
    "        #>>> print(dag[:'h_'].synopsis_string())\n",
    "        #a -> f_ -> f\n",
    "        #f -> g_ -> g\n",
    "        #g -> h_ -> h\n",
    "        #From ``g_`` to ``h_`` (both inclusive)\n",
    "        #>>> print(dag['g_':'h_'].synopsis_string())\n",
    "        >>> print(dag['g':'h_'].synopsis_string())"
   ],
   "outputs": [
    {
     "output_type": "stream",
     "name": "stdout",
     "text": [
      "f -> g_ -> g\n",
      "g -> h_ -> h\n"
     ]
    }
   ],
   "metadata": {}
  },
  {
   "cell_type": "markdown",
   "source": [
    "# Check the Subdags"
   ],
   "metadata": {}
  },
  {
   "cell_type": "code",
   "execution_count": 25,
   "source": [
    "from scrap_dag import DAG as MDAG"
   ],
   "outputs": [],
   "metadata": {}
  },
  {
   "cell_type": "code",
   "execution_count": null,
   "source": [
    "#def w = f(a, b)\n",
    "#    ww = g(c=w)\n",
    "#    www = h(x=ww)"
   ],
   "outputs": [],
   "metadata": {}
  },
  {
   "cell_type": "markdown",
   "source": [
    "# get_node_matching"
   ],
   "metadata": {}
  },
  {
   "cell_type": "code",
   "execution_count": 2,
   "source": [
    "from meshed import code_to_dag\n",
    "\n",
    "@code_to_dag\n",
    "def dag():\n",
    "    w = f(a, b)\n",
    "    ww = g(c=w)\n",
    "    #www = h(x=ww)\n",
    "\n",
    "dag.dot_digraph('rankdir=\"LR\"')"
   ],
   "outputs": [
    {
     "output_type": "execute_result",
     "data": {
      "image/svg+xml": "<?xml version=\"1.0\" encoding=\"UTF-8\" standalone=\"no\"?>\n<!DOCTYPE svg PUBLIC \"-//W3C//DTD SVG 1.1//EN\"\n \"http://www.w3.org/Graphics/SVG/1.1/DTD/svg11.dtd\">\n<!-- Generated by graphviz version 2.40.1 (20161225.0304)\n -->\n<!-- Title: %3 Pages: 1 -->\n<svg width=\"422pt\" height=\"98pt\"\n viewBox=\"0.00 0.00 422.00 98.00\" xmlns=\"http://www.w3.org/2000/svg\" xmlns:xlink=\"http://www.w3.org/1999/xlink\">\n<g id=\"graph0\" class=\"graph\" transform=\"scale(1 1) rotate(0) translate(4 94)\">\n<title>%3</title>\n<polygon fill=\"#ffffff\" stroke=\"transparent\" points=\"-4,4 -4,-94 418,-94 418,4 -4,4\"/>\n<!-- w -->\n<g id=\"node1\" class=\"node\">\n<title>w</title>\n<text text-anchor=\"middle\" x=\"207\" y=\"-41.3\" font-family=\"Times,serif\" font-size=\"14.00\" fill=\"#000000\">w</text>\n</g>\n<!-- g -->\n<g id=\"node6\" class=\"node\">\n<title>g</title>\n<polygon fill=\"none\" stroke=\"#000000\" points=\"324,-63 270,-63 270,-27 324,-27 324,-63\"/>\n<text text-anchor=\"middle\" x=\"297\" y=\"-41.3\" font-family=\"Times,serif\" font-size=\"14.00\" fill=\"#000000\">g</text>\n</g>\n<!-- w&#45;&gt;g -->\n<g id=\"edge5\" class=\"edge\">\n<title>w&#45;&gt;g</title>\n<path fill=\"none\" stroke=\"#000000\" d=\"M234.003,-45C242.0277,-45 250.9665,-45 259.5309,-45\"/>\n<polygon fill=\"#000000\" stroke=\"#000000\" points=\"259.7051,-48.5001 269.705,-45 259.705,-41.5001 259.7051,-48.5001\"/>\n</g>\n<!-- f -->\n<g id=\"node2\" class=\"node\">\n<title>f</title>\n<polygon fill=\"none\" stroke=\"#000000\" points=\"144,-63 90,-63 90,-27 144,-27 144,-63\"/>\n<text text-anchor=\"middle\" x=\"117\" y=\"-41.3\" font-family=\"Times,serif\" font-size=\"14.00\" fill=\"#000000\">f</text>\n</g>\n<!-- f&#45;&gt;w -->\n<g id=\"edge1\" class=\"edge\">\n<title>f&#45;&gt;w</title>\n<path fill=\"none\" stroke=\"#000000\" d=\"M144.003,-45C152.0277,-45 160.9665,-45 169.5309,-45\"/>\n<polygon fill=\"#000000\" stroke=\"#000000\" points=\"169.7051,-48.5001 179.705,-45 169.705,-41.5001 169.7051,-48.5001\"/>\n</g>\n<!-- a -->\n<g id=\"node3\" class=\"node\">\n<title>a</title>\n<text text-anchor=\"middle\" x=\"27\" y=\"-68.3\" font-family=\"Times,serif\" font-size=\"14.00\" fill=\"#000000\">a</text>\n</g>\n<!-- a&#45;&gt;f -->\n<g id=\"edge2\" class=\"edge\">\n<title>a&#45;&gt;f</title>\n<path fill=\"none\" stroke=\"#000000\" d=\"M54.003,-63.8991C62.204,-61.4388 71.3599,-58.692 80.095,-56.0715\"/>\n<polygon fill=\"#000000\" stroke=\"#000000\" points=\"81.1325,-59.4144 89.705,-53.1885 79.121,-52.7096 81.1325,-59.4144\"/>\n</g>\n<!-- b -->\n<g id=\"node4\" class=\"node\">\n<title>b</title>\n<text text-anchor=\"middle\" x=\"27\" y=\"-14.3\" font-family=\"Times,serif\" font-size=\"14.00\" fill=\"#000000\">b</text>\n</g>\n<!-- b&#45;&gt;f -->\n<g id=\"edge3\" class=\"edge\">\n<title>b&#45;&gt;f</title>\n<path fill=\"none\" stroke=\"#000000\" d=\"M54.003,-26.1009C62.204,-28.5612 71.3599,-31.308 80.095,-33.9285\"/>\n<polygon fill=\"#000000\" stroke=\"#000000\" points=\"79.121,-37.2904 89.705,-36.8115 81.1325,-30.5856 79.121,-37.2904\"/>\n</g>\n<!-- ww -->\n<g id=\"node5\" class=\"node\">\n<title>ww</title>\n<text text-anchor=\"middle\" x=\"387\" y=\"-41.3\" font-family=\"Times,serif\" font-size=\"14.00\" fill=\"#000000\">ww</text>\n</g>\n<!-- g&#45;&gt;ww -->\n<g id=\"edge4\" class=\"edge\">\n<title>g&#45;&gt;ww</title>\n<path fill=\"none\" stroke=\"#000000\" d=\"M324.003,-45C332.0277,-45 340.9665,-45 349.5309,-45\"/>\n<polygon fill=\"#000000\" stroke=\"#000000\" points=\"349.7051,-48.5001 359.705,-45 349.705,-41.5001 349.7051,-48.5001\"/>\n</g>\n</g>\n</svg>\n",
      "text/plain": [
       "<graphviz.dot.Digraph at 0x7ff194232a00>"
      ]
     },
     "metadata": {},
     "execution_count": 2
    }
   ],
   "metadata": {}
  },
  {
   "cell_type": "code",
   "execution_count": 27,
   "source": [
    "from meshed import DAG\n",
    "\n",
    "@code_to_dag\n",
    "def dag():\n",
    "    w = f(a, b)\n",
    "    v = g(c,d)\n",
    "    ww = h(w,v)\n",
    "\n",
    "\n",
    "dag.dot_digraph('rankdir=\"LR\"')"
   ],
   "outputs": [
    {
     "output_type": "execute_result",
     "data": {
      "image/svg+xml": "<?xml version=\"1.0\" encoding=\"UTF-8\" standalone=\"no\"?>\n<!DOCTYPE svg PUBLIC \"-//W3C//DTD SVG 1.1//EN\"\n \"http://www.w3.org/Graphics/SVG/1.1/DTD/svg11.dtd\">\n<!-- Generated by graphviz version 2.40.1 (20161225.0304)\n -->\n<!-- Title: %3 Pages: 1 -->\n<svg width=\"422pt\" height=\"206pt\"\n viewBox=\"0.00 0.00 422.00 206.00\" xmlns=\"http://www.w3.org/2000/svg\" xmlns:xlink=\"http://www.w3.org/1999/xlink\">\n<g id=\"graph0\" class=\"graph\" transform=\"scale(1 1) rotate(0) translate(4 202)\">\n<title>%3</title>\n<polygon fill=\"#ffffff\" stroke=\"transparent\" points=\"-4,4 -4,-202 418,-202 418,4 -4,4\"/>\n<!-- v -->\n<g id=\"node1\" class=\"node\">\n<title>v</title>\n<text text-anchor=\"middle\" x=\"207\" y=\"-68.3\" font-family=\"Times,serif\" font-size=\"14.00\" fill=\"#000000\">v</text>\n</g>\n<!-- h -->\n<g id=\"node10\" class=\"node\">\n<title>h</title>\n<polygon fill=\"none\" stroke=\"#000000\" points=\"324,-117 270,-117 270,-81 324,-81 324,-117\"/>\n<text text-anchor=\"middle\" x=\"297\" y=\"-95.3\" font-family=\"Times,serif\" font-size=\"14.00\" fill=\"#000000\">h</text>\n</g>\n<!-- v&#45;&gt;h -->\n<g id=\"edge9\" class=\"edge\">\n<title>v&#45;&gt;h</title>\n<path fill=\"none\" stroke=\"#000000\" d=\"M234.003,-80.1009C242.204,-82.5612 251.3599,-85.308 260.095,-87.9285\"/>\n<polygon fill=\"#000000\" stroke=\"#000000\" points=\"259.121,-91.2904 269.705,-90.8115 261.1325,-84.5856 259.121,-91.2904\"/>\n</g>\n<!-- g -->\n<g id=\"node2\" class=\"node\">\n<title>g</title>\n<polygon fill=\"none\" stroke=\"#000000\" points=\"144,-90 90,-90 90,-54 144,-54 144,-90\"/>\n<text text-anchor=\"middle\" x=\"117\" y=\"-68.3\" font-family=\"Times,serif\" font-size=\"14.00\" fill=\"#000000\">g</text>\n</g>\n<!-- g&#45;&gt;v -->\n<g id=\"edge1\" class=\"edge\">\n<title>g&#45;&gt;v</title>\n<path fill=\"none\" stroke=\"#000000\" d=\"M144.003,-72C152.0277,-72 160.9665,-72 169.5309,-72\"/>\n<polygon fill=\"#000000\" stroke=\"#000000\" points=\"169.7051,-75.5001 179.705,-72 169.705,-68.5001 169.7051,-75.5001\"/>\n</g>\n<!-- c -->\n<g id=\"node3\" class=\"node\">\n<title>c</title>\n<text text-anchor=\"middle\" x=\"27\" y=\"-68.3\" font-family=\"Times,serif\" font-size=\"14.00\" fill=\"#000000\">c</text>\n</g>\n<!-- c&#45;&gt;g -->\n<g id=\"edge2\" class=\"edge\">\n<title>c&#45;&gt;g</title>\n<path fill=\"none\" stroke=\"#000000\" d=\"M54.003,-72C62.0277,-72 70.9665,-72 79.5309,-72\"/>\n<polygon fill=\"#000000\" stroke=\"#000000\" points=\"79.7051,-75.5001 89.705,-72 79.705,-68.5001 79.7051,-75.5001\"/>\n</g>\n<!-- d -->\n<g id=\"node4\" class=\"node\">\n<title>d</title>\n<text text-anchor=\"middle\" x=\"27\" y=\"-14.3\" font-family=\"Times,serif\" font-size=\"14.00\" fill=\"#000000\">d</text>\n</g>\n<!-- d&#45;&gt;g -->\n<g id=\"edge3\" class=\"edge\">\n<title>d&#45;&gt;g</title>\n<path fill=\"none\" stroke=\"#000000\" d=\"M54.003,-34.2018C62.4686,-39.2812 71.9516,-44.971 80.9389,-50.3634\"/>\n<polygon fill=\"#000000\" stroke=\"#000000\" points=\"79.3293,-53.4792 89.705,-55.623 82.9308,-47.4768 79.3293,-53.4792\"/>\n</g>\n<!-- w -->\n<g id=\"node5\" class=\"node\">\n<title>w</title>\n<text text-anchor=\"middle\" x=\"207\" y=\"-122.3\" font-family=\"Times,serif\" font-size=\"14.00\" fill=\"#000000\">w</text>\n</g>\n<!-- w&#45;&gt;h -->\n<g id=\"edge8\" class=\"edge\">\n<title>w&#45;&gt;h</title>\n<path fill=\"none\" stroke=\"#000000\" d=\"M234.003,-117.8991C242.204,-115.4388 251.3599,-112.692 260.095,-110.0715\"/>\n<polygon fill=\"#000000\" stroke=\"#000000\" points=\"261.1325,-113.4144 269.705,-107.1885 259.121,-106.7096 261.1325,-113.4144\"/>\n</g>\n<!-- f -->\n<g id=\"node6\" class=\"node\">\n<title>f</title>\n<polygon fill=\"none\" stroke=\"#000000\" points=\"144,-144 90,-144 90,-108 144,-108 144,-144\"/>\n<text text-anchor=\"middle\" x=\"117\" y=\"-122.3\" font-family=\"Times,serif\" font-size=\"14.00\" fill=\"#000000\">f</text>\n</g>\n<!-- f&#45;&gt;w -->\n<g id=\"edge4\" class=\"edge\">\n<title>f&#45;&gt;w</title>\n<path fill=\"none\" stroke=\"#000000\" d=\"M144.003,-126C152.0277,-126 160.9665,-126 169.5309,-126\"/>\n<polygon fill=\"#000000\" stroke=\"#000000\" points=\"169.7051,-129.5001 179.705,-126 169.705,-122.5001 169.7051,-129.5001\"/>\n</g>\n<!-- a -->\n<g id=\"node7\" class=\"node\">\n<title>a</title>\n<text text-anchor=\"middle\" x=\"27\" y=\"-176.3\" font-family=\"Times,serif\" font-size=\"14.00\" fill=\"#000000\">a</text>\n</g>\n<!-- a&#45;&gt;f -->\n<g id=\"edge5\" class=\"edge\">\n<title>a&#45;&gt;f</title>\n<path fill=\"none\" stroke=\"#000000\" d=\"M54.003,-163.7982C62.4686,-158.7188 71.9516,-153.029 80.9389,-147.6366\"/>\n<polygon fill=\"#000000\" stroke=\"#000000\" points=\"82.9308,-150.5232 89.705,-142.377 79.3293,-144.5208 82.9308,-150.5232\"/>\n</g>\n<!-- b -->\n<g id=\"node8\" class=\"node\">\n<title>b</title>\n<text text-anchor=\"middle\" x=\"27\" y=\"-122.3\" font-family=\"Times,serif\" font-size=\"14.00\" fill=\"#000000\">b</text>\n</g>\n<!-- b&#45;&gt;f -->\n<g id=\"edge6\" class=\"edge\">\n<title>b&#45;&gt;f</title>\n<path fill=\"none\" stroke=\"#000000\" d=\"M54.003,-126C62.0277,-126 70.9665,-126 79.5309,-126\"/>\n<polygon fill=\"#000000\" stroke=\"#000000\" points=\"79.7051,-129.5001 89.705,-126 79.705,-122.5001 79.7051,-129.5001\"/>\n</g>\n<!-- ww -->\n<g id=\"node9\" class=\"node\">\n<title>ww</title>\n<text text-anchor=\"middle\" x=\"387\" y=\"-95.3\" font-family=\"Times,serif\" font-size=\"14.00\" fill=\"#000000\">ww</text>\n</g>\n<!-- h&#45;&gt;ww -->\n<g id=\"edge7\" class=\"edge\">\n<title>h&#45;&gt;ww</title>\n<path fill=\"none\" stroke=\"#000000\" d=\"M324.003,-99C332.0277,-99 340.9665,-99 349.5309,-99\"/>\n<polygon fill=\"#000000\" stroke=\"#000000\" points=\"349.7051,-102.5001 359.705,-99 349.705,-95.5001 349.7051,-102.5001\"/>\n</g>\n</g>\n</svg>\n",
      "text/plain": [
       "<graphviz.dot.Digraph at 0x7ff1942a7b80>"
      ]
     },
     "metadata": {},
     "execution_count": 27
    }
   ],
   "metadata": {}
  },
  {
   "cell_type": "markdown",
   "source": [],
   "metadata": {}
  },
  {
   "cell_type": "code",
   "execution_count": 85,
   "source": [
    "dag.get_node_matching('ww')"
   ],
   "outputs": [
    {
     "output_type": "execute_result",
     "data": {
      "text/plain": [
       "'ww'"
      ]
     },
     "metadata": {},
     "execution_count": 85
    }
   ],
   "metadata": {}
  },
  {
   "cell_type": "code",
   "execution_count": 86,
   "source": [
    "dag._func_node_for['ww']"
   ],
   "outputs": [
    {
     "output_type": "execute_result",
     "data": {
      "text/plain": [
       "FuncNode(w,v -> h -> ww)"
      ]
     },
     "metadata": {},
     "execution_count": 86
    }
   ],
   "metadata": {}
  },
  {
   "cell_type": "code",
   "execution_count": 88,
   "source": [
    "dag.process_item(slice('w','ww'))"
   ],
   "outputs": [
    {
     "output_type": "execute_result",
     "data": {
      "text/plain": [
       "(['w'], ['ww'])"
      ]
     },
     "metadata": {},
     "execution_count": 88
    }
   ],
   "metadata": {}
  },
  {
   "cell_type": "code",
   "execution_count": 75,
   "source": [
    "from typing import Callable, Iterable\n",
    "from meshed.util import (\n",
    "    lambda_name,\n",
    "    ValidationError,)\n",
    "\n",
    "def process_item_mod(self, item):\n",
    "        assert isinstance(item, slice), f'must be a slice, was: {item}'\n",
    "\n",
    "        input_names, outs = item.start, item.stop\n",
    "\n",
    "        empty_slice = slice(None)\n",
    "\n",
    "        def ensure_variable_list(obj):\n",
    "            if obj is None:\n",
    "                return self.var_nodes\n",
    "            if isinstance(obj, str):\n",
    "                obj = obj.split()\n",
    "            if isinstance(obj, (str, Callable)):\n",
    "                # TODO: See if we can use _func_node_for instead\n",
    "                print('isinstance(obj, (str, Callable)?')\n",
    "                return [self._func_node_for(obj)]\n",
    "                #return [self.get_node_matching(obj)]\n",
    "            elif isinstance(obj, Iterable):\n",
    "                # TODO: See if we can use _func_node_for instead\n",
    "                #print('isinstance(obj, Iterable))?')\n",
    "\n",
    "                return list(map(self.get_node_matching, obj))\n",
    "                #func = lambda k:self._func_node_for[k]\n",
    "                #return list(map(func, obj))\n",
    "\n",
    "            else:\n",
    "                raise ValidationError(f'Unrecognized variables specification: {obj}')\n",
    "\n",
    "        # assert len(item) == 2, f\"Only items of size 1 or 2 are supported\"\n",
    "        input_names, outs = map(ensure_variable_list, [input_names, outs])\n",
    "        return input_names, outs"
   ],
   "outputs": [],
   "metadata": {}
  },
  {
   "cell_type": "markdown",
   "source": [
    "Careful: what happens if we use an output name? "
   ],
   "metadata": {}
  },
  {
   "cell_type": "code",
   "execution_count": 76,
   "source": [
    "dag.get_node_matching('w'), dag._func_node_for['w']"
   ],
   "outputs": [
    {
     "output_type": "execute_result",
     "data": {
      "text/plain": [
       "('w', FuncNode(a,b -> f -> w))"
      ]
     },
     "metadata": {},
     "execution_count": 76
    }
   ],
   "metadata": {}
  },
  {
   "cell_type": "code",
   "execution_count": 77,
   "source": [
    "process_item_mod(dag,slice('w',None))"
   ],
   "outputs": [
    {
     "output_type": "execute_result",
     "data": {
      "text/plain": [
       "(['w'], ['d', 'c', 'v', 'b', 'a', 'w', 'ww'])"
      ]
     },
     "metadata": {},
     "execution_count": 77
    }
   ],
   "metadata": {}
  },
  {
   "cell_type": "code",
   "execution_count": 79,
   "source": [
    "# shouldn't we return all leaves only (and not also the roots)?\n",
    "# Using get_node_matching\n",
    "#(['w'], ['d', 'c', 'v', 'b', 'a', 'w', 'ww'])\n",
    "# Using _func_node_for\n",
    "#assert str(process_item_mod(dag,slice('w',None))) == \"([FuncNode(a,b -> f -> w)], ['d', 'c', 'v', 'b', 'a', 'w', 'ww'])\""
   ],
   "outputs": [],
   "metadata": {}
  },
  {
   "cell_type": "code",
   "execution_count": 80,
   "source": [
    "subdag = dag['w':]"
   ],
   "outputs": [],
   "metadata": {}
  },
  {
   "cell_type": "code",
   "execution_count": 81,
   "source": [
    "subdag.dot_digraph('rankdir=\"LR\"')"
   ],
   "outputs": [
    {
     "output_type": "execute_result",
     "data": {
      "image/svg+xml": "<?xml version=\"1.0\" encoding=\"UTF-8\" standalone=\"no\"?>\n<!DOCTYPE svg PUBLIC \"-//W3C//DTD SVG 1.1//EN\"\n \"http://www.w3.org/Graphics/SVG/1.1/DTD/svg11.dtd\">\n<!-- Generated by graphviz version 2.40.1 (20161225.0304)\n -->\n<!-- Title: %3 Pages: 1 -->\n<svg width=\"242pt\" height=\"98pt\"\n viewBox=\"0.00 0.00 242.00 98.00\" xmlns=\"http://www.w3.org/2000/svg\" xmlns:xlink=\"http://www.w3.org/1999/xlink\">\n<g id=\"graph0\" class=\"graph\" transform=\"scale(1 1) rotate(0) translate(4 94)\">\n<title>%3</title>\n<polygon fill=\"#ffffff\" stroke=\"transparent\" points=\"-4,4 -4,-94 238,-94 238,4 -4,4\"/>\n<!-- ww -->\n<g id=\"node1\" class=\"node\">\n<title>ww</title>\n<text text-anchor=\"middle\" x=\"207\" y=\"-41.3\" font-family=\"Times,serif\" font-size=\"14.00\" fill=\"#000000\">ww</text>\n</g>\n<!-- h -->\n<g id=\"node2\" class=\"node\">\n<title>h</title>\n<polygon fill=\"none\" stroke=\"#000000\" points=\"144,-63 90,-63 90,-27 144,-27 144,-63\"/>\n<text text-anchor=\"middle\" x=\"117\" y=\"-41.3\" font-family=\"Times,serif\" font-size=\"14.00\" fill=\"#000000\">h</text>\n</g>\n<!-- h&#45;&gt;ww -->\n<g id=\"edge1\" class=\"edge\">\n<title>h&#45;&gt;ww</title>\n<path fill=\"none\" stroke=\"#000000\" d=\"M144.003,-45C152.0277,-45 160.9665,-45 169.5309,-45\"/>\n<polygon fill=\"#000000\" stroke=\"#000000\" points=\"169.7051,-48.5001 179.705,-45 169.705,-41.5001 169.7051,-48.5001\"/>\n</g>\n<!-- w -->\n<g id=\"node3\" class=\"node\">\n<title>w</title>\n<text text-anchor=\"middle\" x=\"27\" y=\"-68.3\" font-family=\"Times,serif\" font-size=\"14.00\" fill=\"#000000\">w</text>\n</g>\n<!-- w&#45;&gt;h -->\n<g id=\"edge2\" class=\"edge\">\n<title>w&#45;&gt;h</title>\n<path fill=\"none\" stroke=\"#000000\" d=\"M54.003,-63.8991C62.204,-61.4388 71.3599,-58.692 80.095,-56.0715\"/>\n<polygon fill=\"#000000\" stroke=\"#000000\" points=\"81.1325,-59.4144 89.705,-53.1885 79.121,-52.7096 81.1325,-59.4144\"/>\n</g>\n<!-- v -->\n<g id=\"node4\" class=\"node\">\n<title>v</title>\n<text text-anchor=\"middle\" x=\"27\" y=\"-14.3\" font-family=\"Times,serif\" font-size=\"14.00\" fill=\"#000000\">v</text>\n</g>\n<!-- v&#45;&gt;h -->\n<g id=\"edge3\" class=\"edge\">\n<title>v&#45;&gt;h</title>\n<path fill=\"none\" stroke=\"#000000\" d=\"M54.003,-26.1009C62.204,-28.5612 71.3599,-31.308 80.095,-33.9285\"/>\n<polygon fill=\"#000000\" stroke=\"#000000\" points=\"79.121,-37.2904 89.705,-36.8115 81.1325,-30.5856 79.121,-37.2904\"/>\n</g>\n</g>\n</svg>\n",
      "text/plain": [
       "<graphviz.dot.Digraph at 0x7ff1944557c0>"
      ]
     },
     "metadata": {},
     "execution_count": 81
    }
   ],
   "metadata": {}
  },
  {
   "cell_type": "code",
   "execution_count": null,
   "source": [
    "    def get_node_matching(self, pattern):\n",
    "        if isinstance(pattern, str):\n",
    "            if pattern in self.var_nodes:\n",
    "                return pattern\n",
    "            return self.func_node_for_name(pattern)\n",
    "        elif isinstance(pattern, Callable):\n",
    "            return self.func_node_for_func(pattern)\n",
    "        raise NotFound(f'No matching node: {pattern}')\n",
    "\n",
    "    def func_node_for_name(self, name):\n",
    "        return _find_unique_element(\n",
    "            name, self.func_nodes, lambda name, fn: name == fn.name\n",
    "        )\n",
    "\n",
    "    def func_node_for_func(self, func):\n",
    "        return _find_unique_element(\n",
    "            func, self.func_nodes, lambda func, fn: func == fn.func\n",
    "        )\n",
    "\n",
    "    # TODO: Reflect: Should we include functions as keys here? Makes existence of the\n",
    "    #  item depend on unicity of the function in the DAG, therefore dynamic, so instable?\n",
    "    @cached_property\n",
    "    def _func_node_for(self):\n",
    "        \"\"\"A dictionary mapping identifiers and functions to their FuncNode instances\n",
    "        in the DAG. The keys of this dictionary will include:\n",
    "\n",
    "        - identifiers (names) of the ``FuncNode`` instances\n",
    "        - ``out`` of ``FuncNode`` instances\n",
    "        - The ``.func`` of the ``FuncNode`` instances if it's unique.\n",
    "\n",
    "        >>> def foo(x): return x + 1\n",
    "        >>> def bar(x): return x * 2\n",
    "        >>> dag = DAG([\n",
    "        ...     FuncNode(foo, out='foo_output'),\n",
    "        ...     FuncNode(bar, name='B', out='b', bind={'x': 'foo_output'}),\n",
    "        ... ])\n",
    "\n",
    "        A ``FuncNode`` instance is indexed by both its identifier (``.name``) as well as\n",
    "        the identifier of it's output (``.out``):\n",
    "\n",
    "        >>> dag._func_node_for['foo_output']\n",
    "        FuncNode(x -> foo -> foo_output)\n",
    "        >>> dag._func_node_for['foo']\n",
    "        FuncNode(x -> foo -> foo_output)\n",
    "        >>> dag._func_node_for['b']\n",
    "        FuncNode(x=foo_output -> B -> b)\n",
    "        >>> dag._func_node_for['B']\n",
    "        FuncNode(x=foo_output -> B -> b)\n",
    "\n",
    "        If the function is hashable (most are) and unique within the ``DAG``, you\n",
    "        can also find the ``FuncNode`` via the ``.func`` it's wrapping:\n",
    "\n",
    "        >>> dag._func_node_for[foo]\n",
    "        FuncNode(x -> foo -> foo_output)\n",
    "        >>> dag._func_node_for[bar]\n",
    "        FuncNode(x=foo_output -> B -> b)\n",
    "\n",
    "        A word of warning though: The function index is provided as a convenience, but\n",
    "        using identifiers is preferable since referencing via the function object\n",
    "        depends on the other functions of the DAG, so could change if we add nodes.\n",
    "        \n",
    "        \"\"\"\n",
    "        d = dict()\n",
    "        for func_node in self.func_nodes:\n",
    "            d[func_node.out] = func_node\n",
    "            d[func_node.name] = func_node\n",
    "\n",
    "            try:\n",
    "                if func_node.func not in d:\n",
    "                    # if .func not in d already, remember the link\n",
    "                    d[func_node.func] = func_node\n",
    "                else:\n",
    "                    # if .func was already in there, mark it for removal\n",
    "                    # (but leaving the key present so that we know about the duplication)\n",
    "                    d[func_node.func] = None\n",
    "            except TypeError:\n",
    "                # ignore (and don't include func) if not hashable\n",
    "                pass\n",
    "\n",
    "        # remove the items marked for removal and return\n",
    "        return {k: v for k, v in d.items() if v is not None}"
   ],
   "outputs": [],
   "metadata": {}
  }
 ],
 "metadata": {
  "orig_nbformat": 4,
  "language_info": {
   "name": "python",
   "version": "3.8.11",
   "mimetype": "text/x-python",
   "codemirror_mode": {
    "name": "ipython",
    "version": 3
   },
   "pygments_lexer": "ipython3",
   "nbconvert_exporter": "python",
   "file_extension": ".py"
  },
  "kernelspec": {
   "name": "python3",
   "display_name": "Python 3.8.11 64-bit ('otopy38': conda)"
  },
  "interpreter": {
   "hash": "094c189d81026d09b06c18854d442a49d96e55830a4824cf8c6f41ec19877a82"
  }
 },
 "nbformat": 4,
 "nbformat_minor": 2
}