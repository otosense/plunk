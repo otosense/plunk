{
 "cells": [
  {
   "cell_type": "code",
   "execution_count": 1,
   "source": [
    "from meshed import DAG, FuncNode\n"
   ],
   "outputs": [],
   "metadata": {}
  },
  {
   "cell_type": "code",
   "execution_count": 6,
   "source": [
    "def f(a, **kwargs):\n",
    "    print(kwargs)\n",
    "    return a"
   ],
   "outputs": [],
   "metadata": {}
  },
  {
   "cell_type": "code",
   "execution_count": 7,
   "source": [
    "f_node = FuncNode(func=f)\n",
    "d = DAG([f_node])  # breakpoint\n",
    "    # args = ['a'=1]\n",
    "    # kwargs = {'x'=3}\n",
    "\n",
    "    # d(*args, **kwargs\n",
    "scope = d.sig.kwargs_from_args_and_kwargs((), {\"a\": 1, \"x\": 3})"
   ],
   "outputs": [],
   "metadata": {}
  },
  {
   "cell_type": "code",
   "execution_count": 8,
   "source": [
    "scope"
   ],
   "outputs": [
    {
     "output_type": "execute_result",
     "data": {
      "text/plain": [
       "{'a': 1, 'kwargs': {'x': 3}}"
      ]
     },
     "metadata": {},
     "execution_count": 8
    }
   ],
   "metadata": {}
  },
  {
   "cell_type": "code",
   "execution_count": 12,
   "source": [
    "from i2 import kwargs_from_args_and_kwargs"
   ],
   "outputs": [
    {
     "output_type": "error",
     "ename": "ImportError",
     "evalue": "cannot import name 'kwargs_from_args_and_kwargs' from 'i2' (/Users/sylvain/Desktop/dev/otosense/i2/i2/__init__.py)",
     "traceback": [
      "\u001b[0;31m---------------------------------------------------------------------------\u001b[0m",
      "\u001b[0;31mImportError\u001b[0m                               Traceback (most recent call last)",
      "\u001b[0;32m<ipython-input-12-8cff832b28e7>\u001b[0m in \u001b[0;36m<module>\u001b[0;34m\u001b[0m\n\u001b[0;32m----> 1\u001b[0;31m \u001b[0;32mfrom\u001b[0m \u001b[0mi2\u001b[0m \u001b[0;32mimport\u001b[0m \u001b[0mkwargs_from_args_and_kwargs\u001b[0m\u001b[0;34m\u001b[0m\u001b[0;34m\u001b[0m\u001b[0m\n\u001b[0m",
      "\u001b[0;31mImportError\u001b[0m: cannot import name 'kwargs_from_args_and_kwargs' from 'i2' (/Users/sylvain/Desktop/dev/otosense/i2/i2/__init__.py)"
     ]
    }
   ],
   "metadata": {}
  },
  {
   "cell_type": "code",
   "execution_count": 17,
   "source": [
    "from i2 import Sig\n",
    ">>> def foo(w, /, x: float, y=\"YY\", *, z: str = \"ZZ\"):\n",
    "        pass     \n",
    ">>> sig = Sig(foo)\n",
    ">>> assert (sig.kwargs_from_args_and_kwargs((11, 22, \"you\"), dict(z=\"zoo\"))\n",
    "         == sig.kwargs_from_args_and_kwargs((11, 22), dict(y=\"you\", z=\"zoo\"))\n",
    "         == {\"w\": 11, \"x\": 22, \"y\": \"you\", \"z\": \"zoo\"}\n",
    "     )\n",
    "        "
   ],
   "outputs": [],
   "metadata": {}
  },
  {
   "cell_type": "code",
   "execution_count": 197,
   "source": [
    "from i2 import Sig\n",
    "def foo(w, /, x: float, y=\"YY\", *, z: str = \"ZZ\", **rest):\n",
    "        pass     \n",
    "sig = Sig(foo)\n",
    "#assert (sig.kwargs_from_args_and_kwargs((11, 22, \"you\"), dict(z=\"zoo\", other=\"stuff\"))\n",
    "#         == sig.kwargs_from_args_and_kwargs((11, 22), dict(y=\"you\", z=\"zoo\"))\n",
    "#         == {\"w\": 11, \"x\": 22, \"y\": \"you\", \"z\": \"zoo\"}\n",
    "#     )"
   ],
   "outputs": [],
   "metadata": {}
  },
  {
   "cell_type": "code",
   "execution_count": 198,
   "source": [
    "sig.kwargs_from_args_and_kwargs((11, 22, \"you\"), dict(z=\"zoo\", other=\"stuff\"))"
   ],
   "outputs": [
    {
     "output_type": "execute_result",
     "data": {
      "text/plain": [
       "{'w': 11, 'x': 22, 'y': 'you', 'z': 'zoo', 'rest': {'other': 'stuff'}}"
      ]
     },
     "metadata": {},
     "execution_count": 198
    }
   ],
   "metadata": {}
  },
  {
   "cell_type": "code",
   "execution_count": 199,
   "source": [
    "from i2.signatures import VK\n",
    "\n",
    "def maybe_first(items):\n",
    "    return items[0] if items else None\n",
    "    \n",
    "def name_of_var_kw_argument(sig):\n",
    "    var_kw_list = [param.name for param in sig.params if param.kind == VK] \n",
    "    result = maybe_first(var_kw_list)\n",
    "    return result\n",
    "\n",
    "def map_action_on_cond(kvs, cond, expand):\n",
    "    for k,v in kvs:\n",
    "        if cond(k):\n",
    "            yield from expand(v)\n",
    "        else:\n",
    "            yield k,v\n",
    "\n",
    "def flatten_if_var_kw(kvs, var_kw_name):\n",
    "    cond = lambda k:k==var_kw_name\n",
    "    expand = lambda k:k.items()\n",
    "\n",
    "    return map_action_on_cond(kvs, cond, expand)"
   ],
   "outputs": [],
   "metadata": {}
  },
  {
   "cell_type": "code",
   "execution_count": 208,
   "source": [
    "def kwargs_from_args_and_kwargs(\n",
    "        self,\n",
    "        args,\n",
    "        kwargs,\n",
    "        *,\n",
    "        apply_defaults=False,\n",
    "        allow_partial=False,\n",
    "        allow_excess=False,\n",
    "        ignore_kind=False,\n",
    "        post_process = False\n",
    "    ):\n",
    "        \"\"\"Extracts a dict of input argument values for target signature, from args\n",
    "        and kwargs.\n",
    "\n",
    "        When you need to manage how the arguments of a function are specified,\n",
    "        you need to take care of\n",
    "        multiple cases depending on whether they were specified as positional arguments\n",
    "        (`args`) or keyword arguments (`kwargs`).\n",
    "\n",
    "        The `kwargs_from_args_and_kwargs` (and it's sorta-inverse inverse,\n",
    "        `args_and_kwargs_from_kwargs`)\n",
    "        are there to help you manage this.\n",
    "\n",
    "        If you could rely on the the fact that only `kwargs` were given it would\n",
    "        reduce the complexity of your code.\n",
    "        This is why we have the `all_pk_signature` function in `signatures.py`.\n",
    "\n",
    "        We also need to have a means to make a `kwargs` only from the actual `(*args,\n",
    "        **kwargs)` used at runtime.\n",
    "        We have `Signature.bind` (and `bind_partial`) for that.\n",
    "\n",
    "        But these methods will fail if there is extra stuff in the `kwargs`.\n",
    "        Yet sometimes we'd like to have a `dict` that services several functions that\n",
    "        will extract their needs from it.\n",
    "\n",
    "        That's where  `Sig.extract_kwargs(*args, **kwargs)` is needed.\n",
    "        :param args: The args the function will be called with.\n",
    "        :param kwargs: The kwargs the function will be called with.\n",
    "        :param apply_defaults: (bool) Whether to apply signature defaults to the\n",
    "        non-specified argument names\n",
    "        :param allow_partial: (bool) True iff you want to allow partial signature\n",
    "        fulfillment.\n",
    "        :param allow_excess: (bool) Set to True iff you want to allow extra kwargs\n",
    "        items to be ignored.\n",
    "        :param ignore_kind: (bool) Set to True iff you want to ignore the position and\n",
    "        keyword only kinds,\n",
    "            in order to be able to accept args and kwargs in such a way that there can\n",
    "            be cross-over\n",
    "            (args that are supposed to be keyword only, and kwargs that are supposed\n",
    "            to be positional only)\n",
    "        :return: An {argname: argval, ...} dict\n",
    "\n",
    "        See also the sorta-inverse of this function: args_and_kwargs_from_kwargs\n",
    "\n",
    "        >>> def foo(w, /, x: float, y=\"YY\", *, z: str = \"ZZ\"):\n",
    "        ...     ...\n",
    "        >>> sig = Sig(foo)\n",
    "        >>> assert (\n",
    "        ...     sig.kwargs_from_args_and_kwargs((11, 22, \"you\"), dict(z=\"zoo\"))\n",
    "        ...     == sig.kwargs_from_args_and_kwargs((11, 22), dict(y=\"you\", z=\"zoo\"))\n",
    "        ...     == {\"w\": 11, \"x\": 22, \"y\": \"you\", \"z\": \"zoo\"}\n",
    "        ... )\n",
    "\n",
    "        By default, `apply_defaults=False`, which will lead to only get those\n",
    "        arguments you input.\n",
    "\n",
    "        >>> sig.kwargs_from_args_and_kwargs(args=(11,), kwargs={\"x\": 22})\n",
    "        {'w': 11, 'x': 22}\n",
    "\n",
    "        But if you specify `apply_defaults=True` non-specified non-require arguments\n",
    "        will be returned with their defaults:\n",
    "\n",
    "        >>> sig.kwargs_from_args_and_kwargs(\n",
    "        ...     args=(11,), kwargs={\"x\": 22}, apply_defaults=True\n",
    "        ... )\n",
    "        {'w': 11, 'x': 22, 'y': 'YY', 'z': 'ZZ'}\n",
    "\n",
    "        By default, `ignore_excess=False`, so specifying kwargs that are not in the\n",
    "        signature will lead to an exception.\n",
    "\n",
    "        >>> sig.kwargs_from_args_and_kwargs(\n",
    "        ...     args=(11,), kwargs={\"x\": 22, \"not_in_sig\": -1}\n",
    "        ... )\n",
    "        Traceback (most recent call last):\n",
    "            ...\n",
    "        TypeError: Got unexpected keyword arguments: not_in_sig\n",
    "\n",
    "        Specifying `allow_excess=True` will ignore such excess fields of kwargs.\n",
    "        This is useful when you want to source several functions from a same dict.\n",
    "\n",
    "        >>> sig.kwargs_from_args_and_kwargs(\n",
    "        ...     args=(11,), kwargs={\"x\": 22, \"not_in_sig\": -1}, allow_excess=True\n",
    "        ... )\n",
    "        {'w': 11, 'x': 22}\n",
    "\n",
    "        On the other side of `ignore_excess` you have `allow_partial` that will allow\n",
    "        you, if\n",
    "        set to `True`, to underspecify the params of a function (in view of being\n",
    "        completed later).\n",
    "\n",
    "        >>> sig.kwargs_from_args_and_kwargs(args=(), kwargs={\"x\": 22})\n",
    "        Traceback (most recent call last):\n",
    "          ...\n",
    "        TypeError: missing a required argument: 'w'\n",
    "\n",
    "        But if you specify `allow_partial=True`...\n",
    "\n",
    "        >>> sig.kwargs_from_args_and_kwargs(\n",
    "        ...     args=(), kwargs={\"x\": 22}, allow_partial=True\n",
    "        ... )\n",
    "        {'x': 22}\n",
    "\n",
    "        That's a lot of control (eight combinations total), but not everything is\n",
    "        controllable here:\n",
    "        Position only and keyword only kinds need to be respected:\n",
    "\n",
    "        >>> sig.kwargs_from_args_and_kwargs(args=(1, 2, 3, 4), kwargs={})\n",
    "        Traceback (most recent call last):\n",
    "          ...\n",
    "        TypeError: too many positional arguments\n",
    "        >>> sig.kwargs_from_args_and_kwargs(args=(), kwargs=dict(w=1, x=2, y=3, z=4))\n",
    "        Traceback (most recent call last):\n",
    "          ...\n",
    "        TypeError: 'w' parameter is positional only, but was passed as a keyword\n",
    "\n",
    "        But if you want to ignore the kind of parameter, just say so:\n",
    "\n",
    "        >>> sig.kwargs_from_args_and_kwargs(\n",
    "        ...     args=(1, 2, 3, 4), kwargs={}, ignore_kind=True\n",
    "        ... )\n",
    "        {'w': 1, 'x': 2, 'y': 3, 'z': 4}\n",
    "        >>> sig.kwargs_from_args_and_kwargs(\n",
    "        ...     args=(), kwargs=dict(w=1, x=2, y=3, z=4), ignore_kind=True\n",
    "        ... )\n",
    "        {'w': 1, 'x': 2, 'y': 3, 'z': 4}\n",
    "        \"\"\"\n",
    "        no_var_kw = not self.has_var_keyword\n",
    "        #no_var_kw = True\n",
    "\n",
    "\n",
    "        if ignore_kind:\n",
    "            sig = self.normalize_kind(\n",
    "                # except_kinds=frozenset()\n",
    "            )\n",
    "        else:\n",
    "            sig = self\n",
    "\n",
    "        # no_var_kw = not sig.has_var_keyword TODOD check this\n",
    "        if no_var_kw:  # has no var keyword kinds\n",
    "            sig_relevant_kwargs = {\n",
    "                name: kwargs[name] for name in sig if name in kwargs\n",
    "            }  # take only what you need\n",
    "        else:\n",
    "            sig_relevant_kwargs = kwargs  # take all the kwargs\n",
    "        binder = sig.bind_partial if allow_partial else sig.bind\n",
    "        if not self.has_var_positional and allow_excess:\n",
    "            max_allowed_num_of_posisional_args = sum(\n",
    "                k <= PK for k in self.kinds.values()\n",
    "            )\n",
    "            args = args[:max_allowed_num_of_posisional_args]\n",
    "\n",
    "        b = binder(*args, **sig_relevant_kwargs)\n",
    "        if apply_defaults:\n",
    "            b.apply_defaults()\n",
    "\n",
    "        if no_var_kw and not allow_excess:  # don't ignore excess kwargs\n",
    "            excess = kwargs.keys() - b.arguments\n",
    "            if excess:\n",
    "                excess_str = ', '.join(excess)\n",
    "                raise TypeError(f'Got unexpected keyword arguments: {excess_str}')\n",
    "        \n",
    "        \n",
    "        if post_process:\n",
    "            var_kw_name = name_of_var_kw_argument(self)\n",
    "\n",
    "            kvs = b.arguments.items()\n",
    "\n",
    "            flattened_kvs = flatten_if_var_kw(kvs, var_kw_name)\n",
    "            result = dict(flattened_kvs)\n",
    "\n",
    "        else:\n",
    "            result = b.arguments\n",
    "        return result\n",
    "        "
   ],
   "outputs": [],
   "metadata": {}
  },
  {
   "cell_type": "code",
   "execution_count": 209,
   "source": [
    "sig, sig.has_var_keyword"
   ],
   "outputs": [
    {
     "output_type": "execute_result",
     "data": {
      "text/plain": [
       "(<Sig (w, /, x: float, y='YY', *, z: str = 'ZZ', **rest)>, True)"
      ]
     },
     "metadata": {},
     "execution_count": 209
    }
   ],
   "metadata": {}
  },
  {
   "cell_type": "code",
   "execution_count": 211,
   "source": [
    "res = kwargs_from_args_and_kwargs(sig, (11, 22, \"you\"), dict(z=\"zoo\", other=\"stuff\"), post_process=True)\n",
    "res"
   ],
   "outputs": [
    {
     "output_type": "execute_result",
     "data": {
      "text/plain": [
       "{'w': 11, 'x': 22, 'y': 'you', 'z': 'zoo', 'other': 'stuff'}"
      ]
     },
     "metadata": {},
     "execution_count": 211
    }
   ],
   "metadata": {}
  },
  {
   "cell_type": "code",
   "execution_count": null,
   "source": [],
   "outputs": [],
   "metadata": {}
  }
 ],
 "metadata": {
  "orig_nbformat": 4,
  "language_info": {
   "name": "python",
   "version": "3.8.11",
   "mimetype": "text/x-python",
   "codemirror_mode": {
    "name": "ipython",
    "version": 3
   },
   "pygments_lexer": "ipython3",
   "nbconvert_exporter": "python",
   "file_extension": ".py"
  },
  "kernelspec": {
   "name": "python3",
   "display_name": "Python 3.8.11 64-bit ('otopy38': conda)"
  },
  "interpreter": {
   "hash": "094c189d81026d09b06c18854d442a49d96e55830a4824cf8c6f41ec19877a82"
  }
 },
 "nbformat": 4,
 "nbformat_minor": 2
}