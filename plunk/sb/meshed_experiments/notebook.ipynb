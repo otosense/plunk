{
 "cells": [
  {
   "cell_type": "code",
   "execution_count": 1,
   "metadata": {},
   "outputs": [
    {
     "ename": "ValueError",
     "evalue": "You can't have several variadic keywords: ('a20', 'a21')",
     "output_type": "error",
     "traceback": [
      "\u001b[0;31m---------------------------------------------------------------------------\u001b[0m",
      "\u001b[0;31mValueError\u001b[0m                                Traceback (most recent call last)",
      "\u001b[0;32m<ipython-input-1-5c5600de77a8>\u001b[0m in \u001b[0;36m<module>\u001b[0;34m\u001b[0m\n\u001b[1;32m      2\u001b[0m \u001b[0;32mfrom\u001b[0m \u001b[0mi2\u001b[0m \u001b[0;32mimport\u001b[0m \u001b[0mSig\u001b[0m\u001b[0;34m\u001b[0m\u001b[0;34m\u001b[0m\u001b[0m\n\u001b[1;32m      3\u001b[0m \u001b[0;34m\u001b[0m\u001b[0m\n\u001b[0;32m----> 4\u001b[0;31m \u001b[0mf\u001b[0m \u001b[0;34m=\u001b[0m \u001b[0mmk_func_from_params\u001b[0m\u001b[0;34m(\u001b[0m\u001b[0;34m'2244'\u001b[0m\u001b[0;34m)\u001b[0m\u001b[0;34m\u001b[0m\u001b[0;34m\u001b[0m\u001b[0m\n\u001b[0m\u001b[1;32m      5\u001b[0m \u001b[0;32massert\u001b[0m \u001b[0mstr\u001b[0m\u001b[0;34m(\u001b[0m\u001b[0mSig\u001b[0m\u001b[0;34m(\u001b[0m\u001b[0mf\u001b[0m\u001b[0;34m)\u001b[0m\u001b[0;34m)\u001b[0m \u001b[0;34m==\u001b[0m \u001b[0;34m'(*a20, *a21, **a42, **a43)'\u001b[0m\u001b[0;34m\u001b[0m\u001b[0;34m\u001b[0m\u001b[0m\n\u001b[1;32m      6\u001b[0m \u001b[0;32massert\u001b[0m \u001b[0mf\u001b[0m\u001b[0;34m(\u001b[0m\u001b[0;36m0\u001b[0m\u001b[0;34m,\u001b[0m\u001b[0;36m1\u001b[0m\u001b[0;34m,\u001b[0m\u001b[0;36m2\u001b[0m\u001b[0;34m,\u001b[0m\u001b[0;36m3\u001b[0m\u001b[0;34m,\u001b[0m \u001b[0mx\u001b[0m\u001b[0;34m=\u001b[0m\u001b[0;36m4\u001b[0m\u001b[0;34m,\u001b[0m \u001b[0my\u001b[0m\u001b[0;34m=\u001b[0m\u001b[0;36m5\u001b[0m\u001b[0;34m)\u001b[0m \u001b[0;34m==\u001b[0m \u001b[0;34m\"a20=(0, 1, 2, 3), a21=(), a42={}, a43={'x': 4, 'y': 5}\"\u001b[0m\u001b[0;34m\u001b[0m\u001b[0;34m\u001b[0m\u001b[0m\n",
      "\u001b[0;32m~/Desktop/dev/otosense/i2/i2/tests/util.py\u001b[0m in \u001b[0;36mmk_func_from_params\u001b[0;34m(params, defaults, name, callback)\u001b[0m\n\u001b[1;32m    179\u001b[0m     \u001b[0mparams\u001b[0m \u001b[0;34m=\u001b[0m \u001b[0mgenerate_params\u001b[0m\u001b[0;34m(\u001b[0m\u001b[0mparams\u001b[0m\u001b[0;34m)\u001b[0m\u001b[0;34m\u001b[0m\u001b[0;34m\u001b[0m\u001b[0m\n\u001b[1;32m    180\u001b[0m     \u001b[0mparams\u001b[0m \u001b[0;34m=\u001b[0m \u001b[0minject_defaults\u001b[0m\u001b[0;34m(\u001b[0m\u001b[0mparams\u001b[0m\u001b[0;34m,\u001b[0m \u001b[0mdefaults\u001b[0m\u001b[0;34m=\u001b[0m\u001b[0mdefaults\u001b[0m \u001b[0;32mor\u001b[0m \u001b[0;34m{\u001b[0m\u001b[0;34m}\u001b[0m\u001b[0;34m)\u001b[0m\u001b[0;34m\u001b[0m\u001b[0;34m\u001b[0m\u001b[0m\n\u001b[0;32m--> 181\u001b[0;31m     \u001b[0msig\u001b[0m \u001b[0;34m=\u001b[0m \u001b[0mSig\u001b[0m\u001b[0;34m(\u001b[0m\u001b[0mparams\u001b[0m\u001b[0;34m)\u001b[0m\u001b[0;34m\u001b[0m\u001b[0;34m\u001b[0m\u001b[0m\n\u001b[0m\u001b[1;32m    182\u001b[0m \u001b[0;34m\u001b[0m\u001b[0m\n\u001b[1;32m    183\u001b[0m     \u001b[0;34m@\u001b[0m\u001b[0msig\u001b[0m\u001b[0;34m\u001b[0m\u001b[0;34m\u001b[0m\u001b[0m\n",
      "\u001b[0;32m~/Desktop/dev/otosense/i2/i2/signatures.py\u001b[0m in \u001b[0;36m__init__\u001b[0;34m(self, obj, name, return_annotation, __validate_parameters__)\u001b[0m\n\u001b[1;32m    921\u001b[0m         \u001b[0;32mif\u001b[0m \u001b[0mlen\u001b[0m\u001b[0;34m(\u001b[0m\u001b[0mself\u001b[0m\u001b[0;34m.\u001b[0m\u001b[0mnames_of_kind\u001b[0m\u001b[0;34m[\u001b[0m\u001b[0mParameter\u001b[0m\u001b[0;34m.\u001b[0m\u001b[0mVAR_POSITIONAL\u001b[0m\u001b[0;34m]\u001b[0m\u001b[0;34m)\u001b[0m \u001b[0;34m>\u001b[0m \u001b[0;36m1\u001b[0m\u001b[0;34m:\u001b[0m\u001b[0;34m\u001b[0m\u001b[0;34m\u001b[0m\u001b[0m\n\u001b[1;32m    922\u001b[0m             \u001b[0mvps\u001b[0m \u001b[0;34m=\u001b[0m \u001b[0mself\u001b[0m\u001b[0;34m.\u001b[0m\u001b[0mnames_of_kind\u001b[0m\u001b[0;34m[\u001b[0m\u001b[0mParameter\u001b[0m\u001b[0;34m.\u001b[0m\u001b[0mVAR_POSITIONAL\u001b[0m\u001b[0;34m]\u001b[0m\u001b[0;34m\u001b[0m\u001b[0;34m\u001b[0m\u001b[0m\n\u001b[0;32m--> 923\u001b[0;31m             \u001b[0;32mraise\u001b[0m \u001b[0mValueError\u001b[0m\u001b[0;34m(\u001b[0m\u001b[0;34mf\"You can't have several variadic keywords: {vps}\"\u001b[0m\u001b[0;34m)\u001b[0m\u001b[0;34m\u001b[0m\u001b[0;34m\u001b[0m\u001b[0m\n\u001b[0m\u001b[1;32m    924\u001b[0m         \u001b[0;32mif\u001b[0m \u001b[0mlen\u001b[0m\u001b[0;34m(\u001b[0m\u001b[0mself\u001b[0m\u001b[0;34m.\u001b[0m\u001b[0mnames_of_kind\u001b[0m\u001b[0;34m[\u001b[0m\u001b[0mParameter\u001b[0m\u001b[0;34m.\u001b[0m\u001b[0mVAR_KEYWORD\u001b[0m\u001b[0;34m]\u001b[0m\u001b[0;34m)\u001b[0m \u001b[0;34m>\u001b[0m \u001b[0;36m1\u001b[0m\u001b[0;34m:\u001b[0m\u001b[0;34m\u001b[0m\u001b[0;34m\u001b[0m\u001b[0m\n\u001b[1;32m    925\u001b[0m             \u001b[0mvks\u001b[0m \u001b[0;34m=\u001b[0m \u001b[0mself\u001b[0m\u001b[0;34m.\u001b[0m\u001b[0mnames_of_kind\u001b[0m\u001b[0;34m[\u001b[0m\u001b[0mParameter\u001b[0m\u001b[0;34m.\u001b[0m\u001b[0mVAR_KEYWORD\u001b[0m\u001b[0;34m]\u001b[0m\u001b[0;34m\u001b[0m\u001b[0;34m\u001b[0m\u001b[0m\n",
      "\u001b[0;31mValueError\u001b[0m: You can't have several variadic keywords: ('a20', 'a21')"
     ]
    }
   ],
   "source": [
    "from i2.tests.util import mk_func_from_params\n",
    "from i2 import Sig\n",
    "\n",
    "f = mk_func_from_params('2244')\n",
    "assert str(Sig(f)) == '(*a20, *a21, **a42, **a43)'\n",
    "assert f(0,1,2,3, x=4, y=5) == \"a20=(0, 1, 2, 3), a21=(), a42={}, a43={'x': 4, 'y': 5}\""
   ]
  },
  {
   "cell_type": "code",
   "execution_count": 1,
   "metadata": {},
   "outputs": [],
   "source": [
    "from meshed import DAG, FuncNode\n"
   ]
  },
  {
   "cell_type": "code",
   "execution_count": 6,
   "metadata": {},
   "outputs": [],
   "source": [
    "def f(a, **kwargs): # also test  the *args ! pb if f and g have kwargs (check \"mk_all_pk\" , or nice_kinds in i2)\n",
    "    print(kwargs)\n",
    "    return a"
   ]
  },
  {
   "cell_type": "code",
   "execution_count": 7,
   "metadata": {},
   "outputs": [],
   "source": [
    "f_node = FuncNode(func=f)\n",
    "d = DAG([f_node])  # breakpoint\n",
    "    # args = ['a'=1]\n",
    "    # kwargs = {'x'=3}\n",
    "\n",
    "    # d(*args, **kwargs\n",
    "scope = d.sig.kwargs_from_args_and_kwargs((), {\"a\": 1, \"x\": 3})"
   ]
  },
  {
   "cell_type": "code",
   "execution_count": 8,
   "metadata": {},
   "outputs": [
    {
     "data": {
      "text/plain": [
       "{'a': 1, 'kwargs': {'x': 3}}"
      ]
     },
     "execution_count": 8,
     "metadata": {},
     "output_type": "execute_result"
    }
   ],
   "source": [
    "scope"
   ]
  },
  {
   "cell_type": "code",
   "execution_count": 12,
   "metadata": {},
   "outputs": [
    {
     "ename": "ImportError",
     "evalue": "cannot import name 'kwargs_from_args_and_kwargs' from 'i2' (/Users/sylvain/Desktop/dev/otosense/i2/i2/__init__.py)",
     "output_type": "error",
     "traceback": [
      "\u001b[0;31m---------------------------------------------------------------------------\u001b[0m",
      "\u001b[0;31mImportError\u001b[0m                               Traceback (most recent call last)",
      "\u001b[0;32m<ipython-input-12-8cff832b28e7>\u001b[0m in \u001b[0;36m<module>\u001b[0;34m\u001b[0m\n\u001b[0;32m----> 1\u001b[0;31m \u001b[0;32mfrom\u001b[0m \u001b[0mi2\u001b[0m \u001b[0;32mimport\u001b[0m \u001b[0mkwargs_from_args_and_kwargs\u001b[0m\u001b[0;34m\u001b[0m\u001b[0;34m\u001b[0m\u001b[0m\n\u001b[0m",
      "\u001b[0;31mImportError\u001b[0m: cannot import name 'kwargs_from_args_and_kwargs' from 'i2' (/Users/sylvain/Desktop/dev/otosense/i2/i2/__init__.py)"
     ]
    }
   ],
   "source": [
    "from i2 import kwargs_from_args_and_kwargs"
   ]
  },
  {
   "cell_type": "code",
   "execution_count": 17,
   "metadata": {},
   "outputs": [],
   "source": [
    "from i2 import Sig\n",
    ">>> def foo(w, /, x: float, y=\"YY\", *, z: str = \"ZZ\"):\n",
    "        pass     \n",
    ">>> sig = Sig(foo)\n",
    ">>> assert (sig.kwargs_from_args_and_kwargs((11, 22, \"you\"), dict(z=\"zoo\"))\n",
    "         == sig.kwargs_from_args_and_kwargs((11, 22), dict(y=\"you\", z=\"zoo\"))\n",
    "         == {\"w\": 11, \"x\": 22, \"y\": \"you\", \"z\": \"zoo\"}\n",
    "     )\n",
    "        "
   ]
  },
  {
   "cell_type": "code",
   "execution_count": 197,
   "metadata": {},
   "outputs": [],
   "source": [
    "from i2 import Sig\n",
    "def foo(w, /, x: float, y=\"YY\", *, z: str = \"ZZ\", **rest):\n",
    "        pass     \n",
    "sig = Sig(foo)\n",
    "#assert (sig.kwargs_from_args_and_kwargs((11, 22, \"you\"), dict(z=\"zoo\", other=\"stuff\"))\n",
    "#         == sig.kwargs_from_args_and_kwargs((11, 22), dict(y=\"you\", z=\"zoo\"))\n",
    "#         == {\"w\": 11, \"x\": 22, \"y\": \"you\", \"z\": \"zoo\"}\n",
    "#     )"
   ]
  },
  {
   "cell_type": "code",
   "execution_count": 198,
   "metadata": {},
   "outputs": [
    {
     "data": {
      "text/plain": [
       "{'w': 11, 'x': 22, 'y': 'you', 'z': 'zoo', 'rest': {'other': 'stuff'}}"
      ]
     },
     "execution_count": 198,
     "metadata": {},
     "output_type": "execute_result"
    }
   ],
   "source": [
    "sig.kwargs_from_args_and_kwargs((11, 22, \"you\"), dict(z=\"zoo\", other=\"stuff\"))"
   ]
  },
  {
   "cell_type": "code",
   "execution_count": 199,
   "metadata": {},
   "outputs": [],
   "source": [
    "from i2.signatures import VK\n",
    "\n",
    "def maybe_first(items):\n",
    "    return items[0] if items else None\n",
    "    \n",
    "def name_of_var_kw_argument(sig):\n",
    "    var_kw_list = [param.name for param in sig.params if param.kind == VK] \n",
    "    result = maybe_first(var_kw_list)\n",
    "    return result\n",
    "\n",
    "def map_action_on_cond(kvs, cond, expand):\n",
    "    for k,v in kvs:\n",
    "        if cond(k):\n",
    "            yield from expand(v)\n",
    "        else:\n",
    "            yield k,v\n",
    "\n",
    "def flatten_if_var_kw(kvs, var_kw_name):\n",
    "    cond = lambda k:k==var_kw_name\n",
    "    expand = lambda k:k.items()\n",
    "\n",
    "    return map_action_on_cond(kvs, cond, expand)"
   ]
  },
  {
   "cell_type": "code",
   "execution_count": 208,
   "metadata": {},
   "outputs": [],
   "source": [
    "def kwargs_from_args_and_kwargs(\n",
    "        self,\n",
    "        args,\n",
    "        kwargs,\n",
    "        *,\n",
    "        apply_defaults=False,\n",
    "        allow_partial=False,\n",
    "        allow_excess=False,\n",
    "        ignore_kind=False,\n",
    "        post_process = False\n",
    "    ):\n",
    "        \"\"\"Extracts a dict of input argument values for target signature, from args\n",
    "        and kwargs.\n",
    "\n",
    "        When you need to manage how the arguments of a function are specified,\n",
    "        you need to take care of\n",
    "        multiple cases depending on whether they were specified as positional arguments\n",
    "        (`args`) or keyword arguments (`kwargs`).\n",
    "\n",
    "        The `kwargs_from_args_and_kwargs` (and it's sorta-inverse inverse,\n",
    "        `args_and_kwargs_from_kwargs`)\n",
    "        are there to help you manage this.\n",
    "\n",
    "        If you could rely on the the fact that only `kwargs` were given it would\n",
    "        reduce the complexity of your code.\n",
    "        This is why we have the `all_pk_signature` function in `signatures.py`.\n",
    "\n",
    "        We also need to have a means to make a `kwargs` only from the actual `(*args,\n",
    "        **kwargs)` used at runtime.\n",
    "        We have `Signature.bind` (and `bind_partial`) for that.\n",
    "\n",
    "        But these methods will fail if there is extra stuff in the `kwargs`.\n",
    "        Yet sometimes we'd like to have a `dict` that services several functions that\n",
    "        will extract their needs from it.\n",
    "\n",
    "        That's where  `Sig.extract_kwargs(*args, **kwargs)` is needed.\n",
    "        :param args: The args the function will be called with.\n",
    "        :param kwargs: The kwargs the function will be called with.\n",
    "        :param apply_defaults: (bool) Whether to apply signature defaults to the\n",
    "        non-specified argument names\n",
    "        :param allow_partial: (bool) True iff you want to allow partial signature\n",
    "        fulfillment.\n",
    "        :param allow_excess: (bool) Set to True iff you want to allow extra kwargs\n",
    "        items to be ignored.\n",
    "        :param ignore_kind: (bool) Set to True iff you want to ignore the position and\n",
    "        keyword only kinds,\n",
    "            in order to be able to accept args and kwargs in such a way that there can\n",
    "            be cross-over\n",
    "            (args that are supposed to be keyword only, and kwargs that are supposed\n",
    "            to be positional only)\n",
    "        :return: An {argname: argval, ...} dict\n",
    "\n",
    "        See also the sorta-inverse of this function: args_and_kwargs_from_kwargs\n",
    "\n",
    "        >>> def foo(w, /, x: float, y=\"YY\", *, z: str = \"ZZ\"):\n",
    "        ...     ...\n",
    "        >>> sig = Sig(foo)\n",
    "        >>> assert (\n",
    "        ...     sig.kwargs_from_args_and_kwargs((11, 22, \"you\"), dict(z=\"zoo\"))\n",
    "        ...     == sig.kwargs_from_args_and_kwargs((11, 22), dict(y=\"you\", z=\"zoo\"))\n",
    "        ...     == {\"w\": 11, \"x\": 22, \"y\": \"you\", \"z\": \"zoo\"}\n",
    "        ... )\n",
    "\n",
    "        By default, `apply_defaults=False`, which will lead to only get those\n",
    "        arguments you input.\n",
    "\n",
    "        >>> sig.kwargs_from_args_and_kwargs(args=(11,), kwargs={\"x\": 22})\n",
    "        {'w': 11, 'x': 22}\n",
    "\n",
    "        But if you specify `apply_defaults=True` non-specified non-require arguments\n",
    "        will be returned with their defaults:\n",
    "\n",
    "        >>> sig.kwargs_from_args_and_kwargs(\n",
    "        ...     args=(11,), kwargs={\"x\": 22}, apply_defaults=True\n",
    "        ... )\n",
    "        {'w': 11, 'x': 22, 'y': 'YY', 'z': 'ZZ'}\n",
    "\n",
    "        By default, `ignore_excess=False`, so specifying kwargs that are not in the\n",
    "        signature will lead to an exception.\n",
    "\n",
    "        >>> sig.kwargs_from_args_and_kwargs(\n",
    "        ...     args=(11,), kwargs={\"x\": 22, \"not_in_sig\": -1}\n",
    "        ... )\n",
    "        Traceback (most recent call last):\n",
    "            ...\n",
    "        TypeError: Got unexpected keyword arguments: not_in_sig\n",
    "\n",
    "        Specifying `allow_excess=True` will ignore such excess fields of kwargs.\n",
    "        This is useful when you want to source several functions from a same dict.\n",
    "\n",
    "        >>> sig.kwargs_from_args_and_kwargs(\n",
    "        ...     args=(11,), kwargs={\"x\": 22, \"not_in_sig\": -1}, allow_excess=True\n",
    "        ... )\n",
    "        {'w': 11, 'x': 22}\n",
    "\n",
    "        On the other side of `ignore_excess` you have `allow_partial` that will allow\n",
    "        you, if\n",
    "        set to `True`, to underspecify the params of a function (in view of being\n",
    "        completed later).\n",
    "\n",
    "        >>> sig.kwargs_from_args_and_kwargs(args=(), kwargs={\"x\": 22})\n",
    "        Traceback (most recent call last):\n",
    "          ...\n",
    "        TypeError: missing a required argument: 'w'\n",
    "\n",
    "        But if you specify `allow_partial=True`...\n",
    "\n",
    "        >>> sig.kwargs_from_args_and_kwargs(\n",
    "        ...     args=(), kwargs={\"x\": 22}, allow_partial=True\n",
    "        ... )\n",
    "        {'x': 22}\n",
    "\n",
    "        That's a lot of control (eight combinations total), but not everything is\n",
    "        controllable here:\n",
    "        Position only and keyword only kinds need to be respected:\n",
    "\n",
    "        >>> sig.kwargs_from_args_and_kwargs(args=(1, 2, 3, 4), kwargs={})\n",
    "        Traceback (most recent call last):\n",
    "          ...\n",
    "        TypeError: too many positional arguments\n",
    "        >>> sig.kwargs_from_args_and_kwargs(args=(), kwargs=dict(w=1, x=2, y=3, z=4))\n",
    "        Traceback (most recent call last):\n",
    "          ...\n",
    "        TypeError: 'w' parameter is positional only, but was passed as a keyword\n",
    "\n",
    "        But if you want to ignore the kind of parameter, just say so:\n",
    "\n",
    "        >>> sig.kwargs_from_args_and_kwargs(\n",
    "        ...     args=(1, 2, 3, 4), kwargs={}, ignore_kind=True\n",
    "        ... )\n",
    "        {'w': 1, 'x': 2, 'y': 3, 'z': 4}\n",
    "        >>> sig.kwargs_from_args_and_kwargs(\n",
    "        ...     args=(), kwargs=dict(w=1, x=2, y=3, z=4), ignore_kind=True\n",
    "        ... )\n",
    "        {'w': 1, 'x': 2, 'y': 3, 'z': 4}\n",
    "        \"\"\"\n",
    "        no_var_kw = not self.has_var_keyword\n",
    "        #no_var_kw = True\n",
    "\n",
    "\n",
    "        if ignore_kind:\n",
    "            sig = self.normalize_kind(\n",
    "                # except_kinds=frozenset()\n",
    "            )\n",
    "        else:\n",
    "            sig = self\n",
    "\n",
    "        # no_var_kw = not sig.has_var_keyword TODOD check this\n",
    "        if no_var_kw:  # has no var keyword kinds\n",
    "            sig_relevant_kwargs = {\n",
    "                name: kwargs[name] for name in sig if name in kwargs\n",
    "            }  # take only what you need\n",
    "        else:\n",
    "            sig_relevant_kwargs = kwargs  # take all the kwargs\n",
    "        binder = sig.bind_partial if allow_partial else sig.bind\n",
    "        if not self.has_var_positional and allow_excess:\n",
    "            max_allowed_num_of_posisional_args = sum(\n",
    "                k <= PK for k in self.kinds.values()\n",
    "            )\n",
    "            args = args[:max_allowed_num_of_posisional_args]\n",
    "\n",
    "        b = binder(*args, **sig_relevant_kwargs)\n",
    "        if apply_defaults:\n",
    "            b.apply_defaults()\n",
    "\n",
    "        if no_var_kw and not allow_excess:  # don't ignore excess kwargs\n",
    "            excess = kwargs.keys() - b.arguments\n",
    "            if excess:\n",
    "                excess_str = ', '.join(excess)\n",
    "                raise TypeError(f'Got unexpected keyword arguments: {excess_str}')\n",
    "        \n",
    "        \n",
    "        if post_process:\n",
    "            var_kw_name = name_of_var_kw_argument(self)\n",
    "\n",
    "            kvs = b.arguments.items()\n",
    "\n",
    "            flattened_kvs = flatten_if_var_kw(kvs, var_kw_name)\n",
    "            result = dict(flattened_kvs)\n",
    "\n",
    "        else:\n",
    "            result = b.arguments\n",
    "        return result\n",
    "        "
   ]
  },
  {
   "cell_type": "code",
   "execution_count": 209,
   "metadata": {},
   "outputs": [
    {
     "data": {
      "text/plain": [
       "(<Sig (w, /, x: float, y='YY', *, z: str = 'ZZ', **rest)>, True)"
      ]
     },
     "execution_count": 209,
     "metadata": {},
     "output_type": "execute_result"
    }
   ],
   "source": [
    "sig, sig.has_var_keyword"
   ]
  },
  {
   "cell_type": "code",
   "execution_count": 211,
   "metadata": {},
   "outputs": [
    {
     "data": {
      "text/plain": [
       "{'w': 11, 'x': 22, 'y': 'you', 'z': 'zoo', 'other': 'stuff'}"
      ]
     },
     "execution_count": 211,
     "metadata": {},
     "output_type": "execute_result"
    }
   ],
   "source": [
    "res = kwargs_from_args_and_kwargs(sig, (11, 22, \"you\"), dict(z=\"zoo\", other=\"stuff\"), post_process=True)\n",
    "res"
   ]
  },
  {
   "cell_type": "code",
   "execution_count": 1,
   "metadata": {},
   "outputs": [
    {
     "data": {
      "image/svg+xml": "<?xml version=\"1.0\" encoding=\"UTF-8\" standalone=\"no\"?>\n<!DOCTYPE svg PUBLIC \"-//W3C//DTD SVG 1.1//EN\"\n \"http://www.w3.org/Graphics/SVG/1.1/DTD/svg11.dtd\">\n<!-- Generated by graphviz version 2.40.1 (20161225.0304)\n -->\n<!-- Title: %3 Pages: 1 -->\n<svg width=\"602pt\" height=\"98pt\"\n viewBox=\"0.00 0.00 602.00 98.00\" xmlns=\"http://www.w3.org/2000/svg\" xmlns:xlink=\"http://www.w3.org/1999/xlink\">\n<g id=\"graph0\" class=\"graph\" transform=\"scale(1 1) rotate(0) translate(4 94)\">\n<title>%3</title>\n<polygon fill=\"#ffffff\" stroke=\"transparent\" points=\"-4,4 -4,-94 598,-94 598,4 -4,4\"/>\n<!-- w -->\n<g id=\"node1\" class=\"node\">\n<title>w</title>\n<text text-anchor=\"middle\" x=\"207\" y=\"-41.3\" font-family=\"Times,serif\" font-size=\"14.00\" fill=\"#000000\">w</text>\n</g>\n<!-- g -->\n<g id=\"node6\" class=\"node\">\n<title>g</title>\n<polygon fill=\"none\" stroke=\"#000000\" points=\"324,-63 270,-63 270,-27 324,-27 324,-63\"/>\n<text text-anchor=\"middle\" x=\"297\" y=\"-41.3\" font-family=\"Times,serif\" font-size=\"14.00\" fill=\"#000000\">g</text>\n</g>\n<!-- w&#45;&gt;g -->\n<g id=\"edge5\" class=\"edge\">\n<title>w&#45;&gt;g</title>\n<path fill=\"none\" stroke=\"#000000\" d=\"M234.003,-45C242.0277,-45 250.9665,-45 259.5309,-45\"/>\n<polygon fill=\"#000000\" stroke=\"#000000\" points=\"259.7051,-48.5001 269.705,-45 259.705,-41.5001 259.7051,-48.5001\"/>\n</g>\n<!-- f -->\n<g id=\"node2\" class=\"node\">\n<title>f</title>\n<polygon fill=\"none\" stroke=\"#000000\" points=\"144,-63 90,-63 90,-27 144,-27 144,-63\"/>\n<text text-anchor=\"middle\" x=\"117\" y=\"-41.3\" font-family=\"Times,serif\" font-size=\"14.00\" fill=\"#000000\">f</text>\n</g>\n<!-- f&#45;&gt;w -->\n<g id=\"edge1\" class=\"edge\">\n<title>f&#45;&gt;w</title>\n<path fill=\"none\" stroke=\"#000000\" d=\"M144.003,-45C152.0277,-45 160.9665,-45 169.5309,-45\"/>\n<polygon fill=\"#000000\" stroke=\"#000000\" points=\"169.7051,-48.5001 179.705,-45 169.705,-41.5001 169.7051,-48.5001\"/>\n</g>\n<!-- a -->\n<g id=\"node3\" class=\"node\">\n<title>a</title>\n<text text-anchor=\"middle\" x=\"27\" y=\"-68.3\" font-family=\"Times,serif\" font-size=\"14.00\" fill=\"#000000\">a</text>\n</g>\n<!-- a&#45;&gt;f -->\n<g id=\"edge2\" class=\"edge\">\n<title>a&#45;&gt;f</title>\n<path fill=\"none\" stroke=\"#000000\" d=\"M54.003,-63.8991C62.204,-61.4388 71.3599,-58.692 80.095,-56.0715\"/>\n<polygon fill=\"#000000\" stroke=\"#000000\" points=\"81.1325,-59.4144 89.705,-53.1885 79.121,-52.7096 81.1325,-59.4144\"/>\n</g>\n<!-- b -->\n<g id=\"node4\" class=\"node\">\n<title>b</title>\n<text text-anchor=\"middle\" x=\"27\" y=\"-14.3\" font-family=\"Times,serif\" font-size=\"14.00\" fill=\"#000000\">b</text>\n</g>\n<!-- b&#45;&gt;f -->\n<g id=\"edge3\" class=\"edge\">\n<title>b&#45;&gt;f</title>\n<path fill=\"none\" stroke=\"#000000\" d=\"M54.003,-26.1009C62.204,-28.5612 71.3599,-31.308 80.095,-33.9285\"/>\n<polygon fill=\"#000000\" stroke=\"#000000\" points=\"79.121,-37.2904 89.705,-36.8115 81.1325,-30.5856 79.121,-37.2904\"/>\n</g>\n<!-- ww -->\n<g id=\"node5\" class=\"node\">\n<title>ww</title>\n<text text-anchor=\"middle\" x=\"387\" y=\"-41.3\" font-family=\"Times,serif\" font-size=\"14.00\" fill=\"#000000\">ww</text>\n</g>\n<!-- h -->\n<g id=\"node8\" class=\"node\">\n<title>h</title>\n<polygon fill=\"none\" stroke=\"#000000\" points=\"504,-63 450,-63 450,-27 504,-27 504,-63\"/>\n<text text-anchor=\"middle\" x=\"477\" y=\"-41.3\" font-family=\"Times,serif\" font-size=\"14.00\" fill=\"#000000\">h</text>\n</g>\n<!-- ww&#45;&gt;h -->\n<g id=\"edge7\" class=\"edge\">\n<title>ww&#45;&gt;h</title>\n<path fill=\"none\" stroke=\"#000000\" d=\"M414.003,-45C422.0277,-45 430.9665,-45 439.5309,-45\"/>\n<polygon fill=\"#000000\" stroke=\"#000000\" points=\"439.7051,-48.5001 449.705,-45 439.705,-41.5001 439.7051,-48.5001\"/>\n</g>\n<!-- g&#45;&gt;ww -->\n<g id=\"edge4\" class=\"edge\">\n<title>g&#45;&gt;ww</title>\n<path fill=\"none\" stroke=\"#000000\" d=\"M324.003,-45C332.0277,-45 340.9665,-45 349.5309,-45\"/>\n<polygon fill=\"#000000\" stroke=\"#000000\" points=\"349.7051,-48.5001 359.705,-45 349.705,-41.5001 349.7051,-48.5001\"/>\n</g>\n<!-- www -->\n<g id=\"node7\" class=\"node\">\n<title>www</title>\n<text text-anchor=\"middle\" x=\"567\" y=\"-41.3\" font-family=\"Times,serif\" font-size=\"14.00\" fill=\"#000000\">www</text>\n</g>\n<!-- h&#45;&gt;www -->\n<g id=\"edge6\" class=\"edge\">\n<title>h&#45;&gt;www</title>\n<path fill=\"none\" stroke=\"#000000\" d=\"M504.003,-45C512.0277,-45 520.9665,-45 529.5309,-45\"/>\n<polygon fill=\"#000000\" stroke=\"#000000\" points=\"529.7051,-48.5001 539.705,-45 529.705,-41.5001 529.7051,-48.5001\"/>\n</g>\n</g>\n</svg>\n",
      "text/plain": [
       "<graphviz.dot.Digraph at 0x7fa6a647caf0>"
      ]
     },
     "execution_count": 1,
     "metadata": {},
     "output_type": "execute_result"
    }
   ],
   "source": [
    "from meshed import code_to_dag\n",
    "\n",
    "@code_to_dag\n",
    "def dag():\n",
    "    w = f(a, b)\n",
    "    ww = g(c=w)\n",
    "    www = h(x=ww)\n",
    "\n",
    "dag.dot_digraph('rankdir=\"LR\"')"
   ]
  },
  {
   "cell_type": "code",
   "execution_count": 14,
   "metadata": {},
   "outputs": [
    {
     "data": {
      "image/svg+xml": "<?xml version=\"1.0\" encoding=\"UTF-8\" standalone=\"no\"?>\n<!DOCTYPE svg PUBLIC \"-//W3C//DTD SVG 1.1//EN\"\n \"http://www.w3.org/Graphics/SVG/1.1/DTD/svg11.dtd\">\n<!-- Generated by graphviz version 2.40.1 (20161225.0304)\n -->\n<!-- Title: %3 Pages: 1 -->\n<svg width=\"422pt\" height=\"98pt\"\n viewBox=\"0.00 0.00 422.00 98.00\" xmlns=\"http://www.w3.org/2000/svg\" xmlns:xlink=\"http://www.w3.org/1999/xlink\">\n<g id=\"graph0\" class=\"graph\" transform=\"scale(1 1) rotate(0) translate(4 94)\">\n<title>%3</title>\n<polygon fill=\"#ffffff\" stroke=\"transparent\" points=\"-4,4 -4,-94 418,-94 418,4 -4,4\"/>\n<!-- w -->\n<g id=\"node1\" class=\"node\">\n<title>w</title>\n<text text-anchor=\"middle\" x=\"207\" y=\"-41.3\" font-family=\"Times,serif\" font-size=\"14.00\" fill=\"#000000\">w</text>\n</g>\n<!-- g -->\n<g id=\"node6\" class=\"node\">\n<title>g</title>\n<polygon fill=\"none\" stroke=\"#000000\" points=\"324,-63 270,-63 270,-27 324,-27 324,-63\"/>\n<text text-anchor=\"middle\" x=\"297\" y=\"-41.3\" font-family=\"Times,serif\" font-size=\"14.00\" fill=\"#000000\">g</text>\n</g>\n<!-- w&#45;&gt;g -->\n<g id=\"edge5\" class=\"edge\">\n<title>w&#45;&gt;g</title>\n<path fill=\"none\" stroke=\"#000000\" d=\"M234.003,-45C242.0277,-45 250.9665,-45 259.5309,-45\"/>\n<polygon fill=\"#000000\" stroke=\"#000000\" points=\"259.7051,-48.5001 269.705,-45 259.705,-41.5001 259.7051,-48.5001\"/>\n</g>\n<!-- f -->\n<g id=\"node2\" class=\"node\">\n<title>f</title>\n<polygon fill=\"none\" stroke=\"#000000\" points=\"144,-63 90,-63 90,-27 144,-27 144,-63\"/>\n<text text-anchor=\"middle\" x=\"117\" y=\"-41.3\" font-family=\"Times,serif\" font-size=\"14.00\" fill=\"#000000\">f</text>\n</g>\n<!-- f&#45;&gt;w -->\n<g id=\"edge1\" class=\"edge\">\n<title>f&#45;&gt;w</title>\n<path fill=\"none\" stroke=\"#000000\" d=\"M144.003,-45C152.0277,-45 160.9665,-45 169.5309,-45\"/>\n<polygon fill=\"#000000\" stroke=\"#000000\" points=\"169.7051,-48.5001 179.705,-45 169.705,-41.5001 169.7051,-48.5001\"/>\n</g>\n<!-- a -->\n<g id=\"node3\" class=\"node\">\n<title>a</title>\n<text text-anchor=\"middle\" x=\"27\" y=\"-68.3\" font-family=\"Times,serif\" font-size=\"14.00\" fill=\"#000000\">a</text>\n</g>\n<!-- a&#45;&gt;f -->\n<g id=\"edge2\" class=\"edge\">\n<title>a&#45;&gt;f</title>\n<path fill=\"none\" stroke=\"#000000\" d=\"M54.003,-63.8991C62.204,-61.4388 71.3599,-58.692 80.095,-56.0715\"/>\n<polygon fill=\"#000000\" stroke=\"#000000\" points=\"81.1325,-59.4144 89.705,-53.1885 79.121,-52.7096 81.1325,-59.4144\"/>\n</g>\n<!-- b -->\n<g id=\"node4\" class=\"node\">\n<title>b</title>\n<text text-anchor=\"middle\" x=\"27\" y=\"-14.3\" font-family=\"Times,serif\" font-size=\"14.00\" fill=\"#000000\">b</text>\n</g>\n<!-- b&#45;&gt;f -->\n<g id=\"edge3\" class=\"edge\">\n<title>b&#45;&gt;f</title>\n<path fill=\"none\" stroke=\"#000000\" d=\"M54.003,-26.1009C62.204,-28.5612 71.3599,-31.308 80.095,-33.9285\"/>\n<polygon fill=\"#000000\" stroke=\"#000000\" points=\"79.121,-37.2904 89.705,-36.8115 81.1325,-30.5856 79.121,-37.2904\"/>\n</g>\n<!-- ww -->\n<g id=\"node5\" class=\"node\">\n<title>ww</title>\n<text text-anchor=\"middle\" x=\"387\" y=\"-41.3\" font-family=\"Times,serif\" font-size=\"14.00\" fill=\"#000000\">ww</text>\n</g>\n<!-- g&#45;&gt;ww -->\n<g id=\"edge4\" class=\"edge\">\n<title>g&#45;&gt;ww</title>\n<path fill=\"none\" stroke=\"#000000\" d=\"M324.003,-45C332.0277,-45 340.9665,-45 349.5309,-45\"/>\n<polygon fill=\"#000000\" stroke=\"#000000\" points=\"349.7051,-48.5001 359.705,-45 349.705,-41.5001 349.7051,-48.5001\"/>\n</g>\n</g>\n</svg>\n",
      "text/plain": [
       "<graphviz.dot.Digraph at 0x7fa6a6430fd0>"
      ]
     },
     "execution_count": 14,
     "metadata": {},
     "output_type": "execute_result"
    }
   ],
   "source": [
    "dag[['w']:'ww'].dot_digraph('rankdir=\"LR\"')"
   ]
  },
  {
   "cell_type": "code",
   "execution_count": 8,
   "metadata": {},
   "outputs": [],
   "source": [
    "def getitem2(self, item):\n",
    "        \"\"\"Get a sub-dag from a specification of (var or fun) input and output nodes.\n",
    "        ``dag[input_nodes:output_nodes]`` is the sub-dag made of intersection of all\n",
    "        descendants of ``input_nodes``\n",
    "        (inclusive) and ancestors of ``output_nodes`` (inclusive), where additionally,\n",
    "        when a func node is contained, it takes with it the input and output nodes\n",
    "        it needs.\n",
    "        >>> def f(a): ...\n",
    "        >>> def g(f): ...\n",
    "        >>> def h(g): ...\n",
    "        >>> def i(h): ...\n",
    "        >>> dag = DAG([f, g, h, i])\n",
    "        See what this dag looks like (it's a simple pipeline):\n",
    "        >>> dag = DAG([f, g, h, i])\n",
    "        >>> print(dag.synopsis_string())\n",
    "        a -> f_ -> f\n",
    "        f -> g_ -> g\n",
    "        g -> h_ -> h\n",
    "        h -> i_ -> i\n",
    "        Get a subdag from ``g_`` (indicates the function here) to the end of ``dag``\n",
    "        >>> subdag = dag['g_':]\n",
    "        >>> print(subdag.synopsis_string())\n",
    "        f -> g_ -> g\n",
    "        g -> h_ -> h\n",
    "        h -> i_ -> i\n",
    "        From the beginning to ``h_``\n",
    "        >>> print(dag[:'h_'].synopsis_string())\n",
    "        a -> f_ -> f\n",
    "        f -> g_ -> g\n",
    "        g -> h_ -> h\n",
    "        From ``g_`` to ``h_`` (both inclusive)\n",
    "        >>> print(dag['g_':'h_'].synopsis_string())\n",
    "        f -> g_ -> g\n",
    "        g -> h_ -> h\n",
    "        Above we used function (node names) to specify what we wanted, but we can also\n",
    "        use names of input/output var-nodes. Do note the difference though.\n",
    "        The nodes you specify to get a sub-dag are INCLUSIVE, but when you\n",
    "        specify function nodes, you also get the input and output nodes of these\n",
    "        functions.\n",
    "        The ``dag['g_', 'h_']`` give us a sub-dag starting at ``f`` (the input node),\n",
    "        but when we ask ``dag['g', 'h_']`` instead, ``g`` being the output node of\n",
    "        function node ``g_``, we only get ``g -> h_ -> h``:\n",
    "        >>> print(dag['g':'h'].synopsis_string())\n",
    "        g -> h_ -> h\n",
    "        If we wanted to include ``f`` we'd have to specify it:\n",
    "        >>> print(dag['f':'h'].synopsis_string())\n",
    "        f -> g_ -> g\n",
    "        g -> h_ -> h\n",
    "        Those were for simple pipelines, but let's now look at a more complex dag.\n",
    "        We'll let the following examples self-comment:\n",
    "        >>> def f(u, v): ...\n",
    "        >>> def g(f): ...\n",
    "        >>> def h(f, w): ...\n",
    "        >>> def i(g, h): ...\n",
    "        >>> def j(h, x): ...\n",
    "        >>> def k(i): ...\n",
    "        >>> def l(i, j): ...\n",
    "        >>> dag = DAG([f, g, h, i, j, k, l])\n",
    "        >>> print(dag.synopsis_string())\n",
    "        u,v -> f_ -> f\n",
    "        f,w -> h_ -> h\n",
    "        h,x -> j_ -> j\n",
    "        f -> g_ -> g\n",
    "        g,h -> i_ -> i\n",
    "        i,j -> l_ -> l\n",
    "        i -> k_ -> k\n",
    "        A little util to get consistent prints:\n",
    "        >>> def print_sorted_synopsis(dag):\n",
    "        ...     t = sorted(dag.synopsis_string().split('\\\\n'))\n",
    "        ...     print('\\\\n'.join(t))\n",
    "        >>> print_sorted_synopsis(dag[['u', 'f']:'h'])\n",
    "        f,w -> h_ -> h\n",
    "        u,v -> f_ -> f\n",
    "        >>> print_sorted_synopsis(dag['u':'h'])\n",
    "        f,w -> h_ -> h\n",
    "        u,v -> f_ -> f\n",
    "        >>> print_sorted_synopsis(dag[['u', 'f']:['h', 'g']])\n",
    "        f -> g_ -> g\n",
    "        f,w -> h_ -> h\n",
    "        u,v -> f_ -> f\n",
    "        >>> print_sorted_synopsis(dag[['x', 'g']:'k'])\n",
    "        g,h -> i_ -> i\n",
    "        i -> k_ -> k\n",
    "        >>> print_sorted_synopsis(dag[['x', 'g']:['l', 'k']])\n",
    "        g,h -> i_ -> i\n",
    "        h,x -> j_ -> j\n",
    "        i -> k_ -> k\n",
    "        i,j -> l_ -> l\n",
    "        >>>\n",
    "        \"\"\"\n",
    "        return self._getitem(item)\n",
    "\n",
    "def _getitem(self, item):\n",
    "        ins, outs = self.process_item(item)\n",
    "        print(ins)\n",
    "        _descendants = set(\n",
    "            filter(FuncNode.has_as_instance, set(ins) | descendants(self.graph, ins))\n",
    "        )\n",
    "        _ancestors = set(\n",
    "            filter(FuncNode.has_as_instance, set(outs) | ancestors(self.graph, outs))\n",
    "        )\n",
    "        subgraph_nodes = _descendants.intersection(_ancestors)\n",
    "        # TODO: When clone ready, use to do `constructor = type(self)` instead of DAG\n",
    "        # constructor = type(self)  # instead of DAG\n",
    "        initial_nodes = self.func_nodes\n",
    "        ordered_subgraph_nodes = order_subset_from_list(initial_nodes, subgraph_nodes)\n",
    "\n",
    "        return DAG(\n",
    "            func_nodes=ordered_subgraph_nodes,\n",
    "            cache_last_scope=self.cache_last_scope,\n",
    "            parameter_merge=self.parameter_merge,\n",
    "        )"
   ]
  },
  {
   "cell_type": "code",
   "execution_count": 12,
   "metadata": {},
   "outputs": [],
   "source": [
    "type(dag).__getitem__ = getitem2"
   ]
  },
  {
   "cell_type": "code",
   "execution_count": 13,
   "metadata": {},
   "outputs": [
    {
     "data": {
      "text/plain": [
       "DAG(func_nodes=[FuncNode(a,b -> f -> w), FuncNode(c=w -> g -> ww)], name=None)"
      ]
     },
     "execution_count": 13,
     "metadata": {},
     "output_type": "execute_result"
    }
   ],
   "source": [
    "dag['w':'ww']"
   ]
  },
  {
   "cell_type": "code",
   "execution_count": 20,
   "metadata": {},
   "outputs": [],
   "source": [
    "from meshed import DAG"
   ]
  },
  {
   "cell_type": "code",
   "execution_count": 23,
   "metadata": {},
   "outputs": [
    {
     "name": "stdout",
     "output_type": "stream",
     "text": [
      "f -> g_ -> g\n",
      "g -> h_ -> h\n"
     ]
    }
   ],
   "source": [
    "        >>> def f(a): ...\n",
    "        >>> def g(f): ...\n",
    "        >>> def h(g): ...\n",
    "        >>> def i(h): ...\n",
    "        >>> dag = DAG([f, g, h, i])\n",
    "        #See what this dag looks like (it's a simple pipeline):\n",
    "        >>> dag = DAG([f, g, h, i])\n",
    "        #>>> print(dag.synopsis_string())\n",
    "        #a -> f_ -> f\n",
    "        #f -> g_ -> g\n",
    "        #g -> h_ -> h\n",
    "        #h -> i_ -> i\n",
    "        #Get a subdag from ``g_`` (indicates the function here) to the end of ``dag``\n",
    "        >>> subdag = dag['g_':]\n",
    "        #>>> print(subdag.synopsis_string())\n",
    "        #f -> g_ -> g\n",
    "        #g -> h_ -> h\n",
    "        #h -> i_ -> i\n",
    "        #From the beginning to ``h_``\n",
    "        #>>> print(dag[:'h_'].synopsis_string())\n",
    "        #a -> f_ -> f\n",
    "        #f -> g_ -> g\n",
    "        #g -> h_ -> h\n",
    "        #From ``g_`` to ``h_`` (both inclusive)\n",
    "        #>>> print(dag['g_':'h_'].synopsis_string())\n",
    "        >>> print(dag['g':'h_'].synopsis_string())"
   ]
  },
  {
   "cell_type": "markdown",
   "metadata": {},
   "source": [
    "# Check the Subdags"
   ]
  },
  {
   "cell_type": "code",
   "execution_count": 25,
   "metadata": {},
   "outputs": [],
   "source": [
    "from scrap_dag import DAG as MDAG"
   ]
  },
  {
   "cell_type": "code",
   "execution_count": null,
   "metadata": {},
   "outputs": [],
   "source": [
    "#def w = f(a, b)\n",
    "#    ww = g(c=w)\n",
    "#    www = h(x=ww)"
   ]
  },
  {
   "cell_type": "markdown",
   "metadata": {},
   "source": [
    "# get_node_matching versus func_node_for"
   ]
  },
  {
   "cell_type": "code",
   "execution_count": 2,
   "metadata": {},
   "outputs": [
    {
     "data": {
      "image/svg+xml": "<?xml version=\"1.0\" encoding=\"UTF-8\" standalone=\"no\"?>\n<!DOCTYPE svg PUBLIC \"-//W3C//DTD SVG 1.1//EN\"\n \"http://www.w3.org/Graphics/SVG/1.1/DTD/svg11.dtd\">\n<!-- Generated by graphviz version 2.40.1 (20161225.0304)\n -->\n<!-- Title: %3 Pages: 1 -->\n<svg width=\"422pt\" height=\"98pt\"\n viewBox=\"0.00 0.00 422.00 98.00\" xmlns=\"http://www.w3.org/2000/svg\" xmlns:xlink=\"http://www.w3.org/1999/xlink\">\n<g id=\"graph0\" class=\"graph\" transform=\"scale(1 1) rotate(0) translate(4 94)\">\n<title>%3</title>\n<polygon fill=\"#ffffff\" stroke=\"transparent\" points=\"-4,4 -4,-94 418,-94 418,4 -4,4\"/>\n<!-- w -->\n<g id=\"node1\" class=\"node\">\n<title>w</title>\n<text text-anchor=\"middle\" x=\"207\" y=\"-41.3\" font-family=\"Times,serif\" font-size=\"14.00\" fill=\"#000000\">w</text>\n</g>\n<!-- g -->\n<g id=\"node6\" class=\"node\">\n<title>g</title>\n<polygon fill=\"none\" stroke=\"#000000\" points=\"324,-63 270,-63 270,-27 324,-27 324,-63\"/>\n<text text-anchor=\"middle\" x=\"297\" y=\"-41.3\" font-family=\"Times,serif\" font-size=\"14.00\" fill=\"#000000\">g</text>\n</g>\n<!-- w&#45;&gt;g -->\n<g id=\"edge5\" class=\"edge\">\n<title>w&#45;&gt;g</title>\n<path fill=\"none\" stroke=\"#000000\" d=\"M234.003,-45C242.0277,-45 250.9665,-45 259.5309,-45\"/>\n<polygon fill=\"#000000\" stroke=\"#000000\" points=\"259.7051,-48.5001 269.705,-45 259.705,-41.5001 259.7051,-48.5001\"/>\n</g>\n<!-- f -->\n<g id=\"node2\" class=\"node\">\n<title>f</title>\n<polygon fill=\"none\" stroke=\"#000000\" points=\"144,-63 90,-63 90,-27 144,-27 144,-63\"/>\n<text text-anchor=\"middle\" x=\"117\" y=\"-41.3\" font-family=\"Times,serif\" font-size=\"14.00\" fill=\"#000000\">f</text>\n</g>\n<!-- f&#45;&gt;w -->\n<g id=\"edge1\" class=\"edge\">\n<title>f&#45;&gt;w</title>\n<path fill=\"none\" stroke=\"#000000\" d=\"M144.003,-45C152.0277,-45 160.9665,-45 169.5309,-45\"/>\n<polygon fill=\"#000000\" stroke=\"#000000\" points=\"169.7051,-48.5001 179.705,-45 169.705,-41.5001 169.7051,-48.5001\"/>\n</g>\n<!-- a -->\n<g id=\"node3\" class=\"node\">\n<title>a</title>\n<text text-anchor=\"middle\" x=\"27\" y=\"-68.3\" font-family=\"Times,serif\" font-size=\"14.00\" fill=\"#000000\">a</text>\n</g>\n<!-- a&#45;&gt;f -->\n<g id=\"edge2\" class=\"edge\">\n<title>a&#45;&gt;f</title>\n<path fill=\"none\" stroke=\"#000000\" d=\"M54.003,-63.8991C62.204,-61.4388 71.3599,-58.692 80.095,-56.0715\"/>\n<polygon fill=\"#000000\" stroke=\"#000000\" points=\"81.1325,-59.4144 89.705,-53.1885 79.121,-52.7096 81.1325,-59.4144\"/>\n</g>\n<!-- b -->\n<g id=\"node4\" class=\"node\">\n<title>b</title>\n<text text-anchor=\"middle\" x=\"27\" y=\"-14.3\" font-family=\"Times,serif\" font-size=\"14.00\" fill=\"#000000\">b</text>\n</g>\n<!-- b&#45;&gt;f -->\n<g id=\"edge3\" class=\"edge\">\n<title>b&#45;&gt;f</title>\n<path fill=\"none\" stroke=\"#000000\" d=\"M54.003,-26.1009C62.204,-28.5612 71.3599,-31.308 80.095,-33.9285\"/>\n<polygon fill=\"#000000\" stroke=\"#000000\" points=\"79.121,-37.2904 89.705,-36.8115 81.1325,-30.5856 79.121,-37.2904\"/>\n</g>\n<!-- ww -->\n<g id=\"node5\" class=\"node\">\n<title>ww</title>\n<text text-anchor=\"middle\" x=\"387\" y=\"-41.3\" font-family=\"Times,serif\" font-size=\"14.00\" fill=\"#000000\">ww</text>\n</g>\n<!-- g&#45;&gt;ww -->\n<g id=\"edge4\" class=\"edge\">\n<title>g&#45;&gt;ww</title>\n<path fill=\"none\" stroke=\"#000000\" d=\"M324.003,-45C332.0277,-45 340.9665,-45 349.5309,-45\"/>\n<polygon fill=\"#000000\" stroke=\"#000000\" points=\"349.7051,-48.5001 359.705,-45 349.705,-41.5001 349.7051,-48.5001\"/>\n</g>\n</g>\n</svg>\n",
      "text/plain": [
       "<graphviz.dot.Digraph at 0x7ff194232a00>"
      ]
     },
     "execution_count": 2,
     "metadata": {},
     "output_type": "execute_result"
    }
   ],
   "source": [
    "from meshed import code_to_dag\n",
    "\n",
    "@code_to_dag\n",
    "def dag():\n",
    "    w = f(a, b)\n",
    "    ww = g(c=w)\n",
    "    #www = h(x=ww)\n",
    "\n",
    "dag.dot_digraph('rankdir=\"LR\"')"
   ]
  },
  {
   "cell_type": "code",
   "execution_count": 27,
   "metadata": {},
   "outputs": [
    {
     "data": {
      "image/svg+xml": "<?xml version=\"1.0\" encoding=\"UTF-8\" standalone=\"no\"?>\n<!DOCTYPE svg PUBLIC \"-//W3C//DTD SVG 1.1//EN\"\n \"http://www.w3.org/Graphics/SVG/1.1/DTD/svg11.dtd\">\n<!-- Generated by graphviz version 2.40.1 (20161225.0304)\n -->\n<!-- Title: %3 Pages: 1 -->\n<svg width=\"422pt\" height=\"206pt\"\n viewBox=\"0.00 0.00 422.00 206.00\" xmlns=\"http://www.w3.org/2000/svg\" xmlns:xlink=\"http://www.w3.org/1999/xlink\">\n<g id=\"graph0\" class=\"graph\" transform=\"scale(1 1) rotate(0) translate(4 202)\">\n<title>%3</title>\n<polygon fill=\"#ffffff\" stroke=\"transparent\" points=\"-4,4 -4,-202 418,-202 418,4 -4,4\"/>\n<!-- v -->\n<g id=\"node1\" class=\"node\">\n<title>v</title>\n<text text-anchor=\"middle\" x=\"207\" y=\"-68.3\" font-family=\"Times,serif\" font-size=\"14.00\" fill=\"#000000\">v</text>\n</g>\n<!-- h -->\n<g id=\"node10\" class=\"node\">\n<title>h</title>\n<polygon fill=\"none\" stroke=\"#000000\" points=\"324,-117 270,-117 270,-81 324,-81 324,-117\"/>\n<text text-anchor=\"middle\" x=\"297\" y=\"-95.3\" font-family=\"Times,serif\" font-size=\"14.00\" fill=\"#000000\">h</text>\n</g>\n<!-- v&#45;&gt;h -->\n<g id=\"edge9\" class=\"edge\">\n<title>v&#45;&gt;h</title>\n<path fill=\"none\" stroke=\"#000000\" d=\"M234.003,-80.1009C242.204,-82.5612 251.3599,-85.308 260.095,-87.9285\"/>\n<polygon fill=\"#000000\" stroke=\"#000000\" points=\"259.121,-91.2904 269.705,-90.8115 261.1325,-84.5856 259.121,-91.2904\"/>\n</g>\n<!-- g -->\n<g id=\"node2\" class=\"node\">\n<title>g</title>\n<polygon fill=\"none\" stroke=\"#000000\" points=\"144,-90 90,-90 90,-54 144,-54 144,-90\"/>\n<text text-anchor=\"middle\" x=\"117\" y=\"-68.3\" font-family=\"Times,serif\" font-size=\"14.00\" fill=\"#000000\">g</text>\n</g>\n<!-- g&#45;&gt;v -->\n<g id=\"edge1\" class=\"edge\">\n<title>g&#45;&gt;v</title>\n<path fill=\"none\" stroke=\"#000000\" d=\"M144.003,-72C152.0277,-72 160.9665,-72 169.5309,-72\"/>\n<polygon fill=\"#000000\" stroke=\"#000000\" points=\"169.7051,-75.5001 179.705,-72 169.705,-68.5001 169.7051,-75.5001\"/>\n</g>\n<!-- c -->\n<g id=\"node3\" class=\"node\">\n<title>c</title>\n<text text-anchor=\"middle\" x=\"27\" y=\"-68.3\" font-family=\"Times,serif\" font-size=\"14.00\" fill=\"#000000\">c</text>\n</g>\n<!-- c&#45;&gt;g -->\n<g id=\"edge2\" class=\"edge\">\n<title>c&#45;&gt;g</title>\n<path fill=\"none\" stroke=\"#000000\" d=\"M54.003,-72C62.0277,-72 70.9665,-72 79.5309,-72\"/>\n<polygon fill=\"#000000\" stroke=\"#000000\" points=\"79.7051,-75.5001 89.705,-72 79.705,-68.5001 79.7051,-75.5001\"/>\n</g>\n<!-- d -->\n<g id=\"node4\" class=\"node\">\n<title>d</title>\n<text text-anchor=\"middle\" x=\"27\" y=\"-14.3\" font-family=\"Times,serif\" font-size=\"14.00\" fill=\"#000000\">d</text>\n</g>\n<!-- d&#45;&gt;g -->\n<g id=\"edge3\" class=\"edge\">\n<title>d&#45;&gt;g</title>\n<path fill=\"none\" stroke=\"#000000\" d=\"M54.003,-34.2018C62.4686,-39.2812 71.9516,-44.971 80.9389,-50.3634\"/>\n<polygon fill=\"#000000\" stroke=\"#000000\" points=\"79.3293,-53.4792 89.705,-55.623 82.9308,-47.4768 79.3293,-53.4792\"/>\n</g>\n<!-- w -->\n<g id=\"node5\" class=\"node\">\n<title>w</title>\n<text text-anchor=\"middle\" x=\"207\" y=\"-122.3\" font-family=\"Times,serif\" font-size=\"14.00\" fill=\"#000000\">w</text>\n</g>\n<!-- w&#45;&gt;h -->\n<g id=\"edge8\" class=\"edge\">\n<title>w&#45;&gt;h</title>\n<path fill=\"none\" stroke=\"#000000\" d=\"M234.003,-117.8991C242.204,-115.4388 251.3599,-112.692 260.095,-110.0715\"/>\n<polygon fill=\"#000000\" stroke=\"#000000\" points=\"261.1325,-113.4144 269.705,-107.1885 259.121,-106.7096 261.1325,-113.4144\"/>\n</g>\n<!-- f -->\n<g id=\"node6\" class=\"node\">\n<title>f</title>\n<polygon fill=\"none\" stroke=\"#000000\" points=\"144,-144 90,-144 90,-108 144,-108 144,-144\"/>\n<text text-anchor=\"middle\" x=\"117\" y=\"-122.3\" font-family=\"Times,serif\" font-size=\"14.00\" fill=\"#000000\">f</text>\n</g>\n<!-- f&#45;&gt;w -->\n<g id=\"edge4\" class=\"edge\">\n<title>f&#45;&gt;w</title>\n<path fill=\"none\" stroke=\"#000000\" d=\"M144.003,-126C152.0277,-126 160.9665,-126 169.5309,-126\"/>\n<polygon fill=\"#000000\" stroke=\"#000000\" points=\"169.7051,-129.5001 179.705,-126 169.705,-122.5001 169.7051,-129.5001\"/>\n</g>\n<!-- a -->\n<g id=\"node7\" class=\"node\">\n<title>a</title>\n<text text-anchor=\"middle\" x=\"27\" y=\"-176.3\" font-family=\"Times,serif\" font-size=\"14.00\" fill=\"#000000\">a</text>\n</g>\n<!-- a&#45;&gt;f -->\n<g id=\"edge5\" class=\"edge\">\n<title>a&#45;&gt;f</title>\n<path fill=\"none\" stroke=\"#000000\" d=\"M54.003,-163.7982C62.4686,-158.7188 71.9516,-153.029 80.9389,-147.6366\"/>\n<polygon fill=\"#000000\" stroke=\"#000000\" points=\"82.9308,-150.5232 89.705,-142.377 79.3293,-144.5208 82.9308,-150.5232\"/>\n</g>\n<!-- b -->\n<g id=\"node8\" class=\"node\">\n<title>b</title>\n<text text-anchor=\"middle\" x=\"27\" y=\"-122.3\" font-family=\"Times,serif\" font-size=\"14.00\" fill=\"#000000\">b</text>\n</g>\n<!-- b&#45;&gt;f -->\n<g id=\"edge6\" class=\"edge\">\n<title>b&#45;&gt;f</title>\n<path fill=\"none\" stroke=\"#000000\" d=\"M54.003,-126C62.0277,-126 70.9665,-126 79.5309,-126\"/>\n<polygon fill=\"#000000\" stroke=\"#000000\" points=\"79.7051,-129.5001 89.705,-126 79.705,-122.5001 79.7051,-129.5001\"/>\n</g>\n<!-- ww -->\n<g id=\"node9\" class=\"node\">\n<title>ww</title>\n<text text-anchor=\"middle\" x=\"387\" y=\"-95.3\" font-family=\"Times,serif\" font-size=\"14.00\" fill=\"#000000\">ww</text>\n</g>\n<!-- h&#45;&gt;ww -->\n<g id=\"edge7\" class=\"edge\">\n<title>h&#45;&gt;ww</title>\n<path fill=\"none\" stroke=\"#000000\" d=\"M324.003,-99C332.0277,-99 340.9665,-99 349.5309,-99\"/>\n<polygon fill=\"#000000\" stroke=\"#000000\" points=\"349.7051,-102.5001 359.705,-99 349.705,-95.5001 349.7051,-102.5001\"/>\n</g>\n</g>\n</svg>\n",
      "text/plain": [
       "<graphviz.dot.Digraph at 0x7ff1942a7b80>"
      ]
     },
     "execution_count": 27,
     "metadata": {},
     "output_type": "execute_result"
    }
   ],
   "source": [
    "from meshed import DAG\n",
    "\n",
    "@code_to_dag\n",
    "def dag():\n",
    "    w = f(a, b)\n",
    "    v = g(c,d)\n",
    "    ww = h(w,v)\n",
    "\n",
    "\n",
    "dag.dot_digraph('rankdir=\"LR\"')"
   ]
  },
  {
   "cell_type": "markdown",
   "metadata": {},
   "source": []
  },
  {
   "cell_type": "code",
   "execution_count": 85,
   "metadata": {},
   "outputs": [
    {
     "data": {
      "text/plain": [
       "'ww'"
      ]
     },
     "execution_count": 85,
     "metadata": {},
     "output_type": "execute_result"
    }
   ],
   "source": [
    "dag.get_node_matching('ww')"
   ]
  },
  {
   "cell_type": "code",
   "execution_count": 86,
   "metadata": {},
   "outputs": [
    {
     "data": {
      "text/plain": [
       "FuncNode(w,v -> h -> ww)"
      ]
     },
     "execution_count": 86,
     "metadata": {},
     "output_type": "execute_result"
    }
   ],
   "source": [
    "dag._func_node_for['ww']"
   ]
  },
  {
   "cell_type": "code",
   "execution_count": 88,
   "metadata": {},
   "outputs": [
    {
     "data": {
      "text/plain": [
       "(['w'], ['ww'])"
      ]
     },
     "execution_count": 88,
     "metadata": {},
     "output_type": "execute_result"
    }
   ],
   "source": [
    "dag.process_item(slice('w','ww'))"
   ]
  },
  {
   "cell_type": "code",
   "execution_count": 75,
   "metadata": {},
   "outputs": [],
   "source": [
    "from typing import Callable, Iterable\n",
    "from meshed.util import (\n",
    "    lambda_name,\n",
    "    ValidationError,)\n",
    "\n",
    "def process_item_mod(self, item):\n",
    "        assert isinstance(item, slice), f'must be a slice, was: {item}'\n",
    "\n",
    "        input_names, outs = item.start, item.stop\n",
    "\n",
    "        empty_slice = slice(None)\n",
    "\n",
    "        def ensure_variable_list(obj):\n",
    "            if obj is None:\n",
    "                return self.var_nodes\n",
    "            if isinstance(obj, str):\n",
    "                obj = obj.split()\n",
    "            if isinstance(obj, (str, Callable)):\n",
    "                # TODO: See if we can use _func_node_for instead\n",
    "                print('isinstance(obj, (str, Callable)?')\n",
    "                return [self._func_node_for(obj)]\n",
    "                #return [self.get_node_matching(obj)]\n",
    "            elif isinstance(obj, Iterable):\n",
    "                # TODO: See if we can use _func_node_for instead\n",
    "                #print('isinstance(obj, Iterable))?')\n",
    "\n",
    "                return list(map(self.get_node_matching, obj))\n",
    "                #func = lambda k:self._func_node_for[k]\n",
    "                #return list(map(func, obj))\n",
    "\n",
    "            else:\n",
    "                raise ValidationError(f'Unrecognized variables specification: {obj}')\n",
    "\n",
    "        # assert len(item) == 2, f\"Only items of size 1 or 2 are supported\"\n",
    "        input_names, outs = map(ensure_variable_list, [input_names, outs])\n",
    "        return input_names, outs"
   ]
  },
  {
   "cell_type": "markdown",
   "metadata": {},
   "source": [
    "Careful: what happens if we use an output name? "
   ]
  },
  {
   "cell_type": "code",
   "execution_count": 76,
   "metadata": {},
   "outputs": [
    {
     "data": {
      "text/plain": [
       "('w', FuncNode(a,b -> f -> w))"
      ]
     },
     "execution_count": 76,
     "metadata": {},
     "output_type": "execute_result"
    }
   ],
   "source": [
    "dag.get_node_matching('w'), dag._func_node_for['w']"
   ]
  },
  {
   "cell_type": "code",
   "execution_count": 77,
   "metadata": {},
   "outputs": [
    {
     "data": {
      "text/plain": [
       "(['w'], ['d', 'c', 'v', 'b', 'a', 'w', 'ww'])"
      ]
     },
     "execution_count": 77,
     "metadata": {},
     "output_type": "execute_result"
    }
   ],
   "source": [
    "process_item_mod(dag,slice('w',None))"
   ]
  },
  {
   "cell_type": "code",
   "execution_count": 79,
   "metadata": {},
   "outputs": [],
   "source": [
    "# shouldn't we return all leaves only (and not also the roots)?\n",
    "# Using get_node_matching\n",
    "#(['w'], ['d', 'c', 'v', 'b', 'a', 'w', 'ww'])\n",
    "# Using _func_node_for\n",
    "#assert str(process_item_mod(dag,slice('w',None))) == \"([FuncNode(a,b -> f -> w)], ['d', 'c', 'v', 'b', 'a', 'w', 'ww'])\""
   ]
  },
  {
   "cell_type": "code",
   "execution_count": 92,
   "metadata": {},
   "outputs": [
    {
     "data": {
      "text/plain": [
       "DAG(func_nodes=[FuncNode(w,v -> h -> ww)], name=None)"
      ]
     },
     "execution_count": 92,
     "metadata": {},
     "output_type": "execute_result"
    }
   ],
   "source": [
    "subdag = dag['w':'ww']\n",
    "subdag"
   ]
  },
  {
   "cell_type": "code",
   "execution_count": 90,
   "metadata": {},
   "outputs": [
    {
     "data": {
      "image/svg+xml": "<?xml version=\"1.0\" encoding=\"UTF-8\" standalone=\"no\"?>\n<!DOCTYPE svg PUBLIC \"-//W3C//DTD SVG 1.1//EN\"\n \"http://www.w3.org/Graphics/SVG/1.1/DTD/svg11.dtd\">\n<!-- Generated by graphviz version 2.40.1 (20161225.0304)\n -->\n<!-- Title: %3 Pages: 1 -->\n<svg width=\"8pt\" height=\"8pt\"\n viewBox=\"0.00 0.00 8.00 8.00\" xmlns=\"http://www.w3.org/2000/svg\" xmlns:xlink=\"http://www.w3.org/1999/xlink\">\n<g id=\"graph0\" class=\"graph\" transform=\"scale(1 1) rotate(0) translate(4 4)\">\n<title>%3</title>\n<polygon fill=\"#ffffff\" stroke=\"transparent\" points=\"-4,4 -4,-4 4,-4 4,4 -4,4\"/>\n</g>\n</svg>\n",
      "text/plain": [
       "<graphviz.dot.Digraph at 0x7ff1944555b0>"
      ]
     },
     "execution_count": 90,
     "metadata": {},
     "output_type": "execute_result"
    }
   ],
   "source": [
    "subdag.dot_digraph('rankdir=\"LR\"')"
   ]
  },
  {
   "cell_type": "code",
   "execution_count": null,
   "metadata": {},
   "outputs": [],
   "source": [
    "    def get_node_matching(self, pattern):\n",
    "        if isinstance(pattern, str):\n",
    "            if pattern in self.var_nodes:\n",
    "                return pattern\n",
    "            return self.func_node_for_name(pattern)\n",
    "        elif isinstance(pattern, Callable):\n",
    "            return self.func_node_for_func(pattern)\n",
    "        raise NotFound(f'No matching node: {pattern}')\n",
    "\n",
    "    def func_node_for_name(self, name):\n",
    "        return _find_unique_element(\n",
    "            name, self.func_nodes, lambda name, fn: name == fn.name\n",
    "        )\n",
    "\n",
    "    def func_node_for_func(self, func):\n",
    "        return _find_unique_element(\n",
    "            func, self.func_nodes, lambda func, fn: func == fn.func\n",
    "        )\n",
    "\n",
    "    # TODO: Reflect: Should we include functions as keys here? Makes existence of the\n",
    "    #  item depend on unicity of the function in the DAG, therefore dynamic, so instable?\n",
    "    @cached_property\n",
    "    def _func_node_for(self):\n",
    "        \"\"\"A dictionary mapping identifiers and functions to their FuncNode instances\n",
    "        in the DAG. The keys of this dictionary will include:\n",
    "\n",
    "        - identifiers (names) of the ``FuncNode`` instances\n",
    "        - ``out`` of ``FuncNode`` instances\n",
    "        - The ``.func`` of the ``FuncNode`` instances if it's unique.\n",
    "\n",
    "        >>> def foo(x): return x + 1\n",
    "        >>> def bar(x): return x * 2\n",
    "        >>> dag = DAG([\n",
    "        ...     FuncNode(foo, out='foo_output'),\n",
    "        ...     FuncNode(bar, name='B', out='b', bind={'x': 'foo_output'}),\n",
    "        ... ])\n",
    "\n",
    "        A ``FuncNode`` instance is indexed by both its identifier (``.name``) as well as\n",
    "        the identifier of it's output (``.out``):\n",
    "\n",
    "        >>> dag._func_node_for['foo_output']\n",
    "        FuncNode(x -> foo -> foo_output)\n",
    "        >>> dag._func_node_for['foo']\n",
    "        FuncNode(x -> foo -> foo_output)\n",
    "        >>> dag._func_node_for['b']\n",
    "        FuncNode(x=foo_output -> B -> b)\n",
    "        >>> dag._func_node_for['B']\n",
    "        FuncNode(x=foo_output -> B -> b)\n",
    "\n",
    "        If the function is hashable (most are) and unique within the ``DAG``, you\n",
    "        can also find the ``FuncNode`` via the ``.func`` it's wrapping:\n",
    "\n",
    "        >>> dag._func_node_for[foo]\n",
    "        FuncNode(x -> foo -> foo_output)\n",
    "        >>> dag._func_node_for[bar]\n",
    "        FuncNode(x=foo_output -> B -> b)\n",
    "\n",
    "        A word of warning though: The function index is provided as a convenience, but\n",
    "        using identifiers is preferable since referencing via the function object\n",
    "        depends on the other functions of the DAG, so could change if we add nodes.\n",
    "        \n",
    "        \"\"\"\n",
    "        d = dict()\n",
    "        for func_node in self.func_nodes:\n",
    "            d[func_node.out] = func_node\n",
    "            d[func_node.name] = func_node\n",
    "\n",
    "            try:\n",
    "                if func_node.func not in d:\n",
    "                    # if .func not in d already, remember the link\n",
    "                    d[func_node.func] = func_node\n",
    "                else:\n",
    "                    # if .func was already in there, mark it for removal\n",
    "                    # (but leaving the key present so that we know about the duplication)\n",
    "                    d[func_node.func] = None\n",
    "            except TypeError:\n",
    "                # ignore (and don't include func) if not hashable\n",
    "                pass\n",
    "\n",
    "        # remove the items marked for removal and return\n",
    "        return {k: v for k, v in d.items() if v is not None}"
   ]
  },
  {
   "cell_type": "code",
   "execution_count": 100,
   "metadata": {},
   "outputs": [],
   "source": [
    "    >>> from meshed import FuncNode\n",
    "    >>> from meshed.dag import dot_lines_of_func_nodes\n",
    "    >>> def add(a, b=1):\n",
    "    ...     return a + b\n",
    "    >>> def mult(x, y=3):\n",
    "    ...     return x * y\n",
    "    >>> def exp(mult, a):\n",
    "    ...     return mult ** a\n",
    "    >>> func_nodes = [\n",
    "    ...     FuncNode(add, out='x'),\n",
    "    ...     FuncNode(mult, name='the_product'),\n",
    "    ...     FuncNode(exp)\n",
    "    ... ]\n",
    "    >>> lines = list(dot_lines_of_func_nodes(func_nodes))\n",
    "    \n",
    "    "
   ]
  },
  {
   "cell_type": "code",
   "execution_count": 101,
   "metadata": {},
   "outputs": [
    {
     "data": {
      "text/plain": [
       "['x [label=\"x\" shape=\"none\"]',\n",
       " 'add [label=\"add\" shape=\"box\"]',\n",
       " 'add -> x',\n",
       " 'a [label=\"a\" shape=\"none\"]',\n",
       " 'b [label=\"b=\" shape=\"none\"]',\n",
       " 'a -> add',\n",
       " 'b -> add',\n",
       " '_the_product [label=\"_the_product\" shape=\"none\"]',\n",
       " 'the_product [label=\"the_product\" shape=\"box\"]',\n",
       " 'the_product -> _the_product',\n",
       " 'x [label=\"x\" shape=\"none\"]',\n",
       " 'y [label=\"y=\" shape=\"none\"]',\n",
       " 'x -> the_product',\n",
       " 'y -> the_product',\n",
       " 'exp [label=\"exp\" shape=\"none\"]',\n",
       " 'exp_ [label=\"exp_\" shape=\"box\"]',\n",
       " 'exp_ -> exp',\n",
       " 'mult [label=\"mult\" shape=\"none\"]',\n",
       " 'a [label=\"a\" shape=\"none\"]',\n",
       " 'mult -> exp_',\n",
       " 'a -> exp_']"
      ]
     },
     "execution_count": 101,
     "metadata": {},
     "output_type": "execute_result"
    }
   ],
   "source": [
    "lines"
   ]
  },
  {
   "cell_type": "code",
   "execution_count": 1,
   "metadata": {},
   "outputs": [
    {
     "data": {
      "text/html": [
       "\n",
       "<div id=\"altair-viz-363667a88bba4b35b9c57dd7d185c552\"></div>\n",
       "<script type=\"text/javascript\">\n",
       "  (function(spec, embedOpt){\n",
       "    let outputDiv = document.currentScript.previousElementSibling;\n",
       "    if (outputDiv.id !== \"altair-viz-363667a88bba4b35b9c57dd7d185c552\") {\n",
       "      outputDiv = document.getElementById(\"altair-viz-363667a88bba4b35b9c57dd7d185c552\");\n",
       "    }\n",
       "    const paths = {\n",
       "      \"vega\": \"https://cdn.jsdelivr.net/npm//vega@5?noext\",\n",
       "      \"vega-lib\": \"https://cdn.jsdelivr.net/npm//vega-lib?noext\",\n",
       "      \"vega-lite\": \"https://cdn.jsdelivr.net/npm//vega-lite@4.8.1?noext\",\n",
       "      \"vega-embed\": \"https://cdn.jsdelivr.net/npm//vega-embed@6?noext\",\n",
       "    };\n",
       "\n",
       "    function loadScript(lib) {\n",
       "      return new Promise(function(resolve, reject) {\n",
       "        var s = document.createElement('script');\n",
       "        s.src = paths[lib];\n",
       "        s.async = true;\n",
       "        s.onload = () => resolve(paths[lib]);\n",
       "        s.onerror = () => reject(`Error loading script: ${paths[lib]}`);\n",
       "        document.getElementsByTagName(\"head\")[0].appendChild(s);\n",
       "      });\n",
       "    }\n",
       "\n",
       "    function showError(err) {\n",
       "      outputDiv.innerHTML = `<div class=\"error\" style=\"color:red;\">${err}</div>`;\n",
       "      throw err;\n",
       "    }\n",
       "\n",
       "    function displayChart(vegaEmbed) {\n",
       "      vegaEmbed(outputDiv, spec, embedOpt)\n",
       "        .catch(err => showError(`Javascript Error: ${err.message}<br>This usually means there's a typo in your chart specification. See the javascript console for the full traceback.`));\n",
       "    }\n",
       "\n",
       "    if(typeof define === \"function\" && define.amd) {\n",
       "      requirejs.config({paths});\n",
       "      require([\"vega-embed\"], displayChart, err => showError(`Error loading script: ${err.message}`));\n",
       "    } else if (typeof vegaEmbed === \"function\") {\n",
       "      displayChart(vegaEmbed);\n",
       "    } else {\n",
       "      loadScript(\"vega\")\n",
       "        .then(() => loadScript(\"vega-lite\"))\n",
       "        .then(() => loadScript(\"vega-embed\"))\n",
       "        .catch(showError)\n",
       "        .then(() => displayChart(vegaEmbed));\n",
       "    }\n",
       "  })({\"config\": {\"view\": {\"continuousWidth\": 400, \"continuousHeight\": 300}}, \"layer\": [{\"data\": {\"name\": \"data-e211db628bb9c7c55fc84b541332c63c\"}, \"mark\": {\"type\": \"line\", \"color\": \"black\", \"opacity\": 1, \"strokeWidth\": 1}, \"encoding\": {\"detail\": {\"type\": \"quantitative\", \"field\": \"edge\"}, \"x\": {\"type\": \"quantitative\", \"axis\": {\"grid\": false, \"labels\": false, \"ticks\": false, \"title\": \"\"}, \"field\": \"x\"}, \"y\": {\"type\": \"quantitative\", \"axis\": {\"grid\": false, \"labels\": false, \"ticks\": false, \"title\": \"\"}, \"field\": \"y\"}}, \"selection\": {\"selector001\": {\"type\": \"interval\", \"bind\": \"scales\", \"encodings\": [\"x\", \"y\"]}}}, {\"data\": {\"name\": \"data-1e511259ddef039e8fcf227d520c855d\"}, \"mark\": {\"type\": \"point\", \"fill\": \"red\", \"opacity\": 1, \"size\": 300, \"strokeWidth\": 1.0}, \"encoding\": {\"x\": {\"type\": \"quantitative\", \"axis\": {\"grid\": false, \"labels\": false, \"ticks\": false}, \"field\": \"x\"}, \"y\": {\"type\": \"quantitative\", \"axis\": {\"grid\": false, \"labels\": false, \"ticks\": false}, \"field\": \"y\"}}}], \"$schema\": \"https://vega.github.io/schema/vega-lite/v4.8.1.json\", \"datasets\": {\"data-e211db628bb9c7c55fc84b541332c63c\": [{\"y\": -0.3765928165252667, \"source\": 0, \"target\": 11, \"edge\": 0, \"pair\": [0, 11], \"x\": -0.5068018199215054}, {\"y\": -0.04890262419126856, \"source\": 0, \"target\": 11, \"edge\": 0, \"pair\": [0, 11], \"x\": 0.19091888678609273}, {\"y\": -0.3765928165252667, \"source\": 0, \"target\": 13, \"edge\": 1, \"pair\": [0, 13], \"x\": -0.5068018199215054}, {\"y\": 0.33689657866199557, \"source\": 0, \"target\": 13, \"edge\": 1, \"pair\": [0, 13], \"x\": -0.44283740108343944}, {\"y\": -0.3765928165252667, \"source\": 0, \"target\": 16, \"edge\": 2, \"pair\": [0, 16], \"x\": -0.5068018199215054}, {\"y\": -0.1383128772860259, \"source\": 0, \"target\": 16, \"edge\": 2, \"pair\": [0, 16], \"x\": -0.6557618907046533}, {\"y\": -0.3765928165252667, \"source\": 0, \"target\": 18, \"edge\": 3, \"pair\": [0, 18], \"x\": -0.5068018199215054}, {\"y\": -0.5781647322923239, \"source\": 0, \"target\": 18, \"edge\": 3, \"pair\": [0, 18], \"x\": 0.08193241602268655}, {\"y\": 0.10091241205611166, \"source\": 1, \"target\": 4, \"edge\": 4, \"pair\": [1, 4], \"x\": 0.7075090598837717}, {\"y\": -0.1877409682224423, \"source\": 1, \"target\": 4, \"edge\": 4, \"pair\": [1, 4], \"x\": -0.016095016827739308}, {\"y\": 0.10091241205611166, \"source\": 1, \"target\": 11, \"edge\": 5, \"pair\": [1, 11], \"x\": 0.7075090598837717}, {\"y\": -0.04890262419126856, \"source\": 1, \"target\": 11, \"edge\": 5, \"pair\": [1, 11], \"x\": 0.19091888678609273}, {\"y\": 0.10091241205611166, \"source\": 1, \"target\": 12, \"edge\": 6, \"pair\": [1, 12], \"x\": 0.7075090598837717}, {\"y\": 0.4628095369693674, \"source\": 1, \"target\": 12, \"edge\": 6, \"pair\": [1, 12], \"x\": 0.1854472941502895}, {\"y\": 0.10091241205611166, \"source\": 1, \"target\": 14, \"edge\": 7, \"pair\": [1, 14], \"x\": 0.7075090598837717}, {\"y\": 0.195032434933757, \"source\": 1, \"target\": 14, \"edge\": 7, \"pair\": [1, 14], \"x\": 0.3754925322002047}, {\"y\": -0.5518580667376005, \"source\": 2, \"target\": 3, \"edge\": 8, \"pair\": [2, 3], \"x\": 0.6556428398528577}, {\"y\": -0.7901015402594839, \"source\": 2, \"target\": 3, \"edge\": 8, \"pair\": [2, 3], \"x\": 0.004283286828474775}, {\"y\": -0.5518580667376005, \"source\": 2, \"target\": 7, \"edge\": 9, \"pair\": [2, 7], \"x\": 0.6556428398528577}, {\"y\": 0.39677344169304224, \"source\": 2, \"target\": 7, \"edge\": 9, \"pair\": [2, 7], \"x\": 0.5693358956190673}, {\"y\": -0.5518580667376005, \"source\": 2, \"target\": 18, \"edge\": 10, \"pair\": [2, 18], \"x\": 0.6556428398528577}, {\"y\": -0.5781647322923239, \"source\": 2, \"target\": 18, \"edge\": 10, \"pair\": [2, 18], \"x\": 0.08193241602268655}, {\"y\": -0.7901015402594839, \"source\": 3, \"target\": 5, \"edge\": 11, \"pair\": [3, 5], \"x\": 0.004283286828474775}, {\"y\": -0.8832805521913563, \"source\": 3, \"target\": 5, \"edge\": 11, \"pair\": [3, 5], \"x\": -0.38462339791795574}, {\"y\": -0.7901015402594839, \"source\": 3, \"target\": 10, \"edge\": 12, \"pair\": [3, 10], \"x\": 0.004283286828474775}, {\"y\": -0.19329955403824062, \"source\": 3, \"target\": 10, \"edge\": 12, \"pair\": [3, 10], \"x\": 0.4397061958921822}, {\"y\": -0.7901015402594839, \"source\": 3, \"target\": 16, \"edge\": 13, \"pair\": [3, 16], \"x\": 0.004283286828474775}, {\"y\": -0.1383128772860259, \"source\": 3, \"target\": 16, \"edge\": 13, \"pair\": [3, 16], \"x\": -0.6557618907046533}, {\"y\": -0.1877409682224423, \"source\": 4, \"target\": 5, \"edge\": 14, \"pair\": [4, 5], \"x\": -0.016095016827739308}, {\"y\": -0.8832805521913563, \"source\": 4, \"target\": 5, \"edge\": 14, \"pair\": [4, 5], \"x\": -0.38462339791795574}, {\"y\": -0.1877409682224423, \"source\": 4, \"target\": 13, \"edge\": 15, \"pair\": [4, 13], \"x\": -0.016095016827739308}, {\"y\": 0.33689657866199557, \"source\": 4, \"target\": 13, \"edge\": 15, \"pair\": [4, 13], \"x\": -0.44283740108343944}, {\"y\": -0.1877409682224423, \"source\": 4, \"target\": 17, \"edge\": 16, \"pair\": [4, 17], \"x\": -0.016095016827739308}, {\"y\": 0.5989414535279268, \"source\": 4, \"target\": 17, \"edge\": 16, \"pair\": [4, 17], \"x\": -0.03951588605775994}, {\"y\": -0.1877409682224423, \"source\": 4, \"target\": 18, \"edge\": 17, \"pair\": [4, 18], \"x\": -0.016095016827739308}, {\"y\": -0.5781647322923239, \"source\": 4, \"target\": 18, \"edge\": 17, \"pair\": [4, 18], \"x\": 0.08193241602268655}, {\"y\": -0.8832805521913563, \"source\": 5, \"target\": 19, \"edge\": 18, \"pair\": [5, 19], \"x\": -0.38462339791795574}, {\"y\": -0.2566083132974439, \"source\": 5, \"target\": 19, \"edge\": 18, \"pair\": [5, 19], \"x\": -0.2398736146605934}, {\"y\": 0.2609811606600998, \"source\": 6, \"target\": 7, \"edge\": 19, \"pair\": [6, 7], \"x\": 0.010577453593205383}, {\"y\": 0.39677344169304224, \"source\": 6, \"target\": 7, \"edge\": 19, \"pair\": [6, 7], \"x\": 0.5693358956190673}, {\"y\": 0.2609811606600998, \"source\": 6, \"target\": 8, \"edge\": 20, \"pair\": [6, 8], \"x\": 0.010577453593205383}, {\"y\": 0.5663079205691646, \"source\": 6, \"target\": 8, \"edge\": 20, \"pair\": [6, 8], \"x\": -0.304477501172981}, {\"y\": 0.2609811606600998, \"source\": 6, \"target\": 10, \"edge\": 21, \"pair\": [6, 10], \"x\": 0.010577453593205383}, {\"y\": -0.19329955403824062, \"source\": 6, \"target\": 10, \"edge\": 21, \"pair\": [6, 10], \"x\": 0.4397061958921822}, {\"y\": 0.2609811606600998, \"source\": 6, \"target\": 11, \"edge\": 22, \"pair\": [6, 11], \"x\": 0.010577453593205383}, {\"y\": -0.04890262419126856, \"source\": 6, \"target\": 11, \"edge\": 22, \"pair\": [6, 11], \"x\": 0.19091888678609273}, {\"y\": 0.2609811606600998, \"source\": 6, \"target\": 13, \"edge\": 23, \"pair\": [6, 13], \"x\": 0.010577453593205383}, {\"y\": 0.33689657866199557, \"source\": 6, \"target\": 13, \"edge\": 23, \"pair\": [6, 13], \"x\": -0.44283740108343944}, {\"y\": 0.2609811606600998, \"source\": 6, \"target\": 15, \"edge\": 24, \"pair\": [6, 15], \"x\": 0.010577453593205383}, {\"y\": 0.08620710596998873, \"source\": 6, \"target\": 15, \"edge\": 24, \"pair\": [6, 15], \"x\": -0.26471484551343444}, {\"y\": 0.2609811606600998, \"source\": 6, \"target\": 17, \"edge\": 25, \"pair\": [6, 17], \"x\": 0.010577453593205383}, {\"y\": 0.5989414535279268, \"source\": 6, \"target\": 17, \"edge\": 25, \"pair\": [6, 17], \"x\": -0.03951588605775994}, {\"y\": 0.2609811606600998, \"source\": 6, \"target\": 19, \"edge\": 26, \"pair\": [6, 19], \"x\": 0.010577453593205383}, {\"y\": -0.2566083132974439, \"source\": 6, \"target\": 19, \"edge\": 26, \"pair\": [6, 19], \"x\": -0.2398736146605934}, {\"y\": 0.39677344169304224, \"source\": 7, \"target\": 8, \"edge\": 27, \"pair\": [7, 8], \"x\": 0.5693358956190673}, {\"y\": 0.5663079205691646, \"source\": 7, \"target\": 8, \"edge\": 27, \"pair\": [7, 8], \"x\": -0.304477501172981}, {\"y\": 0.5663079205691646, \"source\": 8, \"target\": 9, \"edge\": 28, \"pair\": [8, 9], \"x\": -0.304477501172981}, {\"y\": 1.0, \"source\": 8, \"target\": 9, \"edge\": 28, \"pair\": [8, 9], \"x\": -0.3661444869687699}, {\"y\": 0.5663079205691646, \"source\": 8, \"target\": 13, \"edge\": 29, \"pair\": [8, 13], \"x\": -0.304477501172981}, {\"y\": 0.33689657866199557, \"source\": 8, \"target\": 13, \"edge\": 29, \"pair\": [8, 13], \"x\": -0.44283740108343944}, {\"y\": 0.5663079205691646, \"source\": 8, \"target\": 15, \"edge\": 30, \"pair\": [8, 15], \"x\": -0.304477501172981}, {\"y\": 0.08620710596998873, \"source\": 8, \"target\": 15, \"edge\": 30, \"pair\": [8, 15], \"x\": -0.26471484551343444}, {\"y\": 0.5663079205691646, \"source\": 8, \"target\": 16, \"edge\": 31, \"pair\": [8, 16], \"x\": -0.304477501172981}, {\"y\": -0.1383128772860259, \"source\": 8, \"target\": 16, \"edge\": 31, \"pair\": [8, 16], \"x\": -0.6557618907046533}, {\"y\": 0.5663079205691646, \"source\": 8, \"target\": 17, \"edge\": 32, \"pair\": [8, 17], \"x\": -0.304477501172981}, {\"y\": 0.5989414535279268, \"source\": 8, \"target\": 17, \"edge\": 32, \"pair\": [8, 17], \"x\": -0.03951588605775994}, {\"y\": 1.0, \"source\": 9, \"target\": 12, \"edge\": 33, \"pair\": [9, 12], \"x\": -0.3661444869687699}, {\"y\": 0.4628095369693674, \"source\": 9, \"target\": 12, \"edge\": 33, \"pair\": [9, 12], \"x\": 0.1854472941502895}, {\"y\": 1.0, \"source\": 9, \"target\": 13, \"edge\": 34, \"pair\": [9, 13], \"x\": -0.3661444869687699}, {\"y\": 0.33689657866199557, \"source\": 9, \"target\": 13, \"edge\": 34, \"pair\": [9, 13], \"x\": -0.44283740108343944}, {\"y\": -0.19329955403824062, \"source\": 10, \"target\": 11, \"edge\": 35, \"pair\": [10, 11], \"x\": 0.4397061958921822}, {\"y\": -0.04890262419126856, \"source\": 10, \"target\": 11, \"edge\": 35, \"pair\": [10, 11], \"x\": 0.19091888678609273}, {\"y\": -0.19329955403824062, \"source\": 10, \"target\": 12, \"edge\": 36, \"pair\": [10, 12], \"x\": 0.4397061958921822}, {\"y\": 0.4628095369693674, \"source\": 10, \"target\": 12, \"edge\": 36, \"pair\": [10, 12], \"x\": 0.1854472941502895}, {\"y\": -0.19329955403824062, \"source\": 10, \"target\": 14, \"edge\": 37, \"pair\": [10, 14], \"x\": 0.4397061958921822}, {\"y\": 0.195032434933757, \"source\": 10, \"target\": 14, \"edge\": 37, \"pair\": [10, 14], \"x\": 0.3754925322002047}, {\"y\": -0.04890262419126856, \"source\": 11, \"target\": 12, \"edge\": 38, \"pair\": [11, 12], \"x\": 0.19091888678609273}, {\"y\": 0.4628095369693674, \"source\": 11, \"target\": 12, \"edge\": 38, \"pair\": [11, 12], \"x\": 0.1854472941502895}, {\"y\": -0.04890262419126856, \"source\": 11, \"target\": 14, \"edge\": 39, \"pair\": [11, 14], \"x\": 0.19091888678609273}, {\"y\": 0.195032434933757, \"source\": 11, \"target\": 14, \"edge\": 39, \"pair\": [11, 14], \"x\": 0.3754925322002047}, {\"y\": -0.04890262419126856, \"source\": 11, \"target\": 19, \"edge\": 40, \"pair\": [11, 19], \"x\": 0.19091888678609273}, {\"y\": -0.2566083132974439, \"source\": 11, \"target\": 19, \"edge\": 40, \"pair\": [11, 19], \"x\": -0.2398736146605934}, {\"y\": 0.4628095369693674, \"source\": 12, \"target\": 13, \"edge\": 41, \"pair\": [12, 13], \"x\": 0.1854472941502895}, {\"y\": 0.33689657866199557, \"source\": 12, \"target\": 13, \"edge\": 41, \"pair\": [12, 13], \"x\": -0.44283740108343944}, {\"y\": 0.4628095369693674, \"source\": 12, \"target\": 14, \"edge\": 42, \"pair\": [12, 14], \"x\": 0.1854472941502895}, {\"y\": 0.195032434933757, \"source\": 12, \"target\": 14, \"edge\": 42, \"pair\": [12, 14], \"x\": 0.3754925322002047}, {\"y\": 0.4628095369693674, \"source\": 12, \"target\": 15, \"edge\": 43, \"pair\": [12, 15], \"x\": 0.1854472941502895}, {\"y\": 0.08620710596998873, \"source\": 12, \"target\": 15, \"edge\": 43, \"pair\": [12, 15], \"x\": -0.26471484551343444}, {\"y\": 0.33689657866199557, \"source\": 13, \"target\": 16, \"edge\": 44, \"pair\": [13, 16], \"x\": -0.44283740108343944}, {\"y\": -0.1383128772860259, \"source\": 13, \"target\": 16, \"edge\": 44, \"pair\": [13, 16], \"x\": -0.6557618907046533}, {\"y\": 0.33689657866199557, \"source\": 13, \"target\": 17, \"edge\": 45, \"pair\": [13, 17], \"x\": -0.44283740108343944}, {\"y\": 0.5989414535279268, \"source\": 13, \"target\": 17, \"edge\": 45, \"pair\": [13, 17], \"x\": -0.03951588605775994}, {\"y\": 0.195032434933757, \"source\": 14, \"target\": 17, \"edge\": 46, \"pair\": [14, 17], \"x\": 0.3754925322002047}, {\"y\": 0.5989414535279268, \"source\": 14, \"target\": 17, \"edge\": 46, \"pair\": [14, 17], \"x\": -0.03951588605775994}, {\"y\": 0.195032434933757, \"source\": 14, \"target\": 19, \"edge\": 47, \"pair\": [14, 19], \"x\": 0.3754925322002047}, {\"y\": -0.2566083132974439, \"source\": 14, \"target\": 19, \"edge\": 47, \"pair\": [14, 19], \"x\": -0.2398736146605934}, {\"y\": 0.08620710596998873, \"source\": 15, \"target\": 18, \"edge\": 48, \"pair\": [15, 18], \"x\": -0.26471484551343444}, {\"y\": -0.5781647322923239, \"source\": 15, \"target\": 18, \"edge\": 48, \"pair\": [15, 18], \"x\": 0.08193241602268655}, {\"y\": 0.08620710596998873, \"source\": 15, \"target\": 19, \"edge\": 49, \"pair\": [15, 19], \"x\": -0.26471484551343444}, {\"y\": -0.2566083132974439, \"source\": 15, \"target\": 19, \"edge\": 49, \"pair\": [15, 19], \"x\": -0.2398736146605934}, {\"y\": -0.1383128772860259, \"source\": 16, \"target\": 19, \"edge\": 50, \"pair\": [16, 19], \"x\": -0.6557618907046533}, {\"y\": -0.2566083132974439, \"source\": 16, \"target\": 19, \"edge\": 50, \"pair\": [16, 19], \"x\": -0.2398736146605934}], \"data-1e511259ddef039e8fcf227d520c855d\": [{\"y\": -0.3765928165252667, \"x\": -0.5068018199215054}, {\"y\": 0.10091241205611166, \"x\": 0.7075090598837717}, {\"y\": -0.5518580667376005, \"x\": 0.6556428398528577}, {\"y\": -0.7901015402594839, \"x\": 0.004283286828474775}, {\"y\": -0.1877409682224423, \"x\": -0.016095016827739308}, {\"y\": -0.8832805521913563, \"x\": -0.38462339791795574}, {\"y\": 0.2609811606600998, \"x\": 0.010577453593205383}, {\"y\": 0.39677344169304224, \"x\": 0.5693358956190673}, {\"y\": 0.5663079205691646, \"x\": -0.304477501172981}, {\"y\": 1.0, \"x\": -0.3661444869687699}, {\"y\": -0.19329955403824062, \"x\": 0.4397061958921822}, {\"y\": -0.04890262419126856, \"x\": 0.19091888678609273}, {\"y\": 0.4628095369693674, \"x\": 0.1854472941502895}, {\"y\": 0.33689657866199557, \"x\": -0.44283740108343944}, {\"y\": 0.195032434933757, \"x\": 0.3754925322002047}, {\"y\": 0.08620710596998873, \"x\": -0.26471484551343444}, {\"y\": -0.1383128772860259, \"x\": -0.6557618907046533}, {\"y\": 0.5989414535279268, \"x\": -0.03951588605775994}, {\"y\": -0.5781647322923239, \"x\": 0.08193241602268655}, {\"y\": -0.2566083132974439, \"x\": -0.2398736146605934}]}}, {\"mode\": \"vega-lite\"});\n",
       "</script>"
      ],
      "text/plain": [
       "alt.LayerChart(...)"
      ]
     },
     "execution_count": 1,
     "metadata": {},
     "output_type": "execute_result"
    }
   ],
   "source": [
    "import networkx as nx\n",
    "import nx_altair as nxa\n",
    "\n",
    "# Generate a random graph\n",
    "G = nx.fast_gnp_random_graph(n=20, p=0.25)\n",
    "\n",
    "# Compute positions for viz.\n",
    "pos = nx.spring_layout(G)\n",
    "\n",
    "# Draw the graph using Altair\n",
    "viz = nxa.draw_networkx(G, pos=pos)\n",
    "\n",
    "# Show it as an interactive plot!\n",
    "viz.interactive()"
   ]
  },
  {
   "cell_type": "code",
   "execution_count": null,
   "metadata": {},
   "outputs": [],
   "source": []
  },
  {
   "cell_type": "markdown",
   "metadata": {},
   "source": [
    "# Investigate bug found by Christian"
   ]
  },
  {
   "cell_type": "code",
   "execution_count": 1,
   "metadata": {},
   "outputs": [
    {
     "name": "stdout",
     "output_type": "stream",
     "text": [
      "[-0.07727463 -1.70282303  0.54470656 -1.59983573 -2.43078812 -0.76257361\n",
      " -9.40758377  0.92845651 -2.38447092 -3.46420471  1.20634945 -1.87438552\n",
      " -4.31889317 -3.58112916 -5.93352567 -5.64824571 -1.32973512 -2.05526387\n",
      " -4.82245739 -0.63525052 -4.32398153 -5.45553545 -3.83469213 -3.33861056\n",
      "  0.31143918 -2.68501259  0.67469432  1.52745041 -1.0230247  -0.82452526\n",
      " -1.09806105 -5.08931187 -1.38268629  1.58275134 -2.58355018 -5.13646597\n",
      "  0.37212398  0.69934848  0.49227692  2.24153803  0.54916077 -1.20032917\n",
      " -1.20005918 -5.1141437  -4.02706779 -3.20708651 -0.20836563 -2.80321702\n",
      " -3.68373874  1.99916906 -3.49082031 -0.69965971  1.42190204 -6.79183758\n",
      " -2.87814101  2.43926124 -3.00360032 -0.76250378 -0.38213634 -6.8832923\n",
      " -4.60943218 -2.70143945 -0.59509411  0.66691442 -2.37644894 -4.92906517\n",
      " -5.13901741 -1.30962532 -4.39982798 -6.62426858  0.44006081 -3.00996701\n",
      " -4.88203283 -3.97364611 -0.41200419 -6.77362497 -2.99515502 -4.35335371\n",
      " -6.96804392  0.40395758 -3.42295285 -0.55223192  0.49145669 -0.90599629\n",
      " -0.97767268 -0.91742435 -0.47201942 -0.63486251 -6.27358523 -4.7877329\n",
      " -1.73168239 -7.97861585 -5.69843393 -2.44594997 -0.20416399 -0.01828531\n",
      " -2.07644559  0.5879365   2.13728856 -6.9949766 ]\n"
     ]
    },
    {
     "data": {
      "image/svg+xml": "<?xml version=\"1.0\" encoding=\"UTF-8\" standalone=\"no\"?>\n<!DOCTYPE svg PUBLIC \"-//W3C//DTD SVG 1.1//EN\"\n \"http://www.w3.org/Graphics/SVG/1.1/DTD/svg11.dtd\">\n<!-- Generated by graphviz version 2.40.1 (20161225.0304)\n -->\n<!-- Title: %3 Pages: 1 -->\n<svg width=\"471pt\" height=\"332pt\"\n viewBox=\"0.00 0.00 471.00 332.00\" xmlns=\"http://www.w3.org/2000/svg\" xmlns:xlink=\"http://www.w3.org/1999/xlink\">\n<g id=\"graph0\" class=\"graph\" transform=\"scale(1 1) rotate(0) translate(4 328)\">\n<title>%3</title>\n<polygon fill=\"#ffffff\" stroke=\"transparent\" points=\"-4,4 -4,-328 467,-328 467,4 -4,4\"/>\n<!-- learner -->\n<g id=\"node1\" class=\"node\">\n<title>learner</title>\n<text text-anchor=\"middle\" x=\"341.5\" y=\"-158.3\" font-family=\"Times,serif\" font-size=\"14.00\" fill=\"#000000\">learner</text>\n</g>\n<!-- train_learner -->\n<g id=\"node6\" class=\"node\">\n<title>train_learner</title>\n<polygon fill=\"none\" stroke=\"#000000\" points=\"208.5,-108 120.5,-108 120.5,-72 208.5,-72 208.5,-108\"/>\n<text text-anchor=\"middle\" x=\"164.5\" y=\"-86.3\" font-family=\"Times,serif\" font-size=\"14.00\" fill=\"#000000\">train_learner</text>\n</g>\n<!-- learner&#45;&gt;train_learner -->\n<g id=\"edge5\" class=\"edge\">\n<title>learner&#45;&gt;train_learner</title>\n<path fill=\"none\" stroke=\"#000000\" d=\"M313.7371,-148.1816C310.6379,-146.7323 307.513,-145.3112 304.5,-144 276.3113,-131.7331 244.362,-119.3009 218.1089,-109.4625\"/>\n<polygon fill=\"#000000\" stroke=\"#000000\" points=\"219.3047,-106.173 208.712,-105.9603 216.86,-112.7323 219.3047,-106.173\"/>\n</g>\n<!-- make_learner -->\n<g id=\"node2\" class=\"node\">\n<title>make_learner</title>\n<polygon fill=\"none\" stroke=\"#000000\" points=\"388,-252 295,-252 295,-216 388,-216 388,-252\"/>\n<text text-anchor=\"middle\" x=\"341.5\" y=\"-230.3\" font-family=\"Times,serif\" font-size=\"14.00\" fill=\"#000000\">make_learner</text>\n</g>\n<!-- make_learner&#45;&gt;learner -->\n<g id=\"edge1\" class=\"edge\">\n<title>make_learner&#45;&gt;learner</title>\n<path fill=\"none\" stroke=\"#000000\" d=\"M341.5,-215.8314C341.5,-208.131 341.5,-198.9743 341.5,-190.4166\"/>\n<polygon fill=\"#000000\" stroke=\"#000000\" points=\"345.0001,-190.4132 341.5,-180.4133 338.0001,-190.4133 345.0001,-190.4132\"/>\n</g>\n<!-- learner_class -->\n<g id=\"node3\" class=\"node\">\n<title>learner_class</title>\n<text text-anchor=\"middle\" x=\"279.5\" y=\"-302.3\" font-family=\"Times,serif\" font-size=\"14.00\" fill=\"#000000\">learner_class=</text>\n</g>\n<!-- learner_class&#45;&gt;make_learner -->\n<g id=\"edge2\" class=\"edge\">\n<title>learner_class&#45;&gt;make_learner</title>\n<path fill=\"none\" stroke=\"#000000\" d=\"M295.1452,-287.8314C302.3591,-279.454 311.057,-269.3531 318.9605,-260.1749\"/>\n<polygon fill=\"#000000\" stroke=\"#000000\" points=\"321.7711,-262.2748 325.6441,-252.4133 316.4667,-257.7071 321.7711,-262.2748\"/>\n</g>\n<!-- learner_kwargs -->\n<g id=\"node4\" class=\"node\">\n<title>learner_kwargs</title>\n<text text-anchor=\"middle\" x=\"404.5\" y=\"-302.3\" font-family=\"Times,serif\" font-size=\"14.00\" fill=\"#000000\">**learner_kwargs</text>\n</g>\n<!-- learner_kwargs&#45;&gt;make_learner -->\n<g id=\"edge3\" class=\"edge\">\n<title>learner_kwargs&#45;&gt;make_learner</title>\n<path fill=\"none\" stroke=\"#000000\" d=\"M388.6024,-287.8314C381.2722,-279.454 372.434,-269.3531 364.4031,-260.1749\"/>\n<polygon fill=\"#000000\" stroke=\"#000000\" points=\"366.8307,-257.6343 357.6116,-252.4133 361.5627,-262.2438 366.8307,-257.6343\"/>\n</g>\n<!-- fitted_learner -->\n<g id=\"node5\" class=\"node\">\n<title>fitted_learner</title>\n<text text-anchor=\"middle\" x=\"164.5\" y=\"-14.3\" font-family=\"Times,serif\" font-size=\"14.00\" fill=\"#000000\">fitted_learner</text>\n</g>\n<!-- train_learner&#45;&gt;fitted_learner -->\n<g id=\"edge4\" class=\"edge\">\n<title>train_learner&#45;&gt;fitted_learner</title>\n<path fill=\"none\" stroke=\"#000000\" d=\"M164.5,-71.8314C164.5,-64.131 164.5,-54.9743 164.5,-46.4166\"/>\n<polygon fill=\"#000000\" stroke=\"#000000\" points=\"168.0001,-46.4132 164.5,-36.4133 161.0001,-46.4133 168.0001,-46.4132\"/>\n</g>\n<!-- X_train -->\n<g id=\"node7\" class=\"node\">\n<title>X_train</title>\n<text text-anchor=\"middle\" x=\"29.5\" y=\"-158.3\" font-family=\"Times,serif\" font-size=\"14.00\" fill=\"#000000\">X_train</text>\n</g>\n<!-- X_train&#45;&gt;train_learner -->\n<g id=\"edge6\" class=\"edge\">\n<title>X_train&#45;&gt;train_learner</title>\n<path fill=\"none\" stroke=\"#000000\" d=\"M59.1263,-146.1993C77.434,-136.4352 101.2376,-123.7399 121.5876,-112.8866\"/>\n<polygon fill=\"#000000\" stroke=\"#000000\" points=\"123.486,-115.8409 130.6625,-108.0467 120.1918,-109.6644 123.486,-115.8409\"/>\n</g>\n<!-- y_train -->\n<g id=\"node8\" class=\"node\">\n<title>y_train</title>\n<text text-anchor=\"middle\" x=\"105.5\" y=\"-158.3\" font-family=\"Times,serif\" font-size=\"14.00\" fill=\"#000000\">y_train</text>\n</g>\n<!-- y_train&#45;&gt;train_learner -->\n<g id=\"edge7\" class=\"edge\">\n<title>y_train&#45;&gt;train_learner</title>\n<path fill=\"none\" stroke=\"#000000\" d=\"M120.3882,-143.8314C127.253,-135.454 135.5301,-125.3531 143.0511,-116.1749\"/>\n<polygon fill=\"#000000\" stroke=\"#000000\" points=\"145.7803,-118.3665 149.4114,-108.4133 140.3659,-113.9297 145.7803,-118.3665\"/>\n</g>\n<!-- fitting_method_name -->\n<g id=\"node9\" class=\"node\">\n<title>fitting_method_name</title>\n<text text-anchor=\"middle\" x=\"223.5\" y=\"-158.3\" font-family=\"Times,serif\" font-size=\"14.00\" fill=\"#000000\">fitting_method_name=</text>\n</g>\n<!-- fitting_method_name&#45;&gt;train_learner -->\n<g id=\"edge8\" class=\"edge\">\n<title>fitting_method_name&#45;&gt;train_learner</title>\n<path fill=\"none\" stroke=\"#000000\" d=\"M208.6118,-143.8314C201.747,-135.454 193.4699,-125.3531 185.9489,-116.1749\"/>\n<polygon fill=\"#000000\" stroke=\"#000000\" points=\"188.6341,-113.9297 179.5886,-108.4133 183.2197,-118.3665 188.6341,-113.9297\"/>\n</g>\n</g>\n</svg>\n",
      "text/plain": [
       "<graphviz.dot.Digraph at 0x7ff7063bfc70>"
      ]
     },
     "execution_count": 1,
     "metadata": {},
     "output_type": "execute_result"
    }
   ],
   "source": [
    "from functools import partial\n",
    "\n",
    "from meshed import DAG, FuncNode\n",
    "from sklearn.decomposition import PCA\n",
    "import numpy as np\n",
    "\n",
    "\n",
    "X_train = np.random.random((100, 30))\n",
    "y_train = None\n",
    "X_run = np.random.random((20, 30))\n",
    "\n",
    "\n",
    "def make_learner_(learner_class,\n",
    "                  **learner_kwargs):\n",
    "    model = learner_class\n",
    "    # instantiate the learner\n",
    "    learner_instance = model(**learner_kwargs)\n",
    "    return learner_instance\n",
    "\n",
    "\n",
    "def make_learner_node(learner_class,\n",
    "                      name='make_learner',\n",
    "                      output_name='learner',\n",
    "                      **learner_kwargs):\n",
    "    learner_ = partial(make_learner_, learner_class=learner_class)\n",
    "    return FuncNode(func=learner_,\n",
    "                    name=name,\n",
    "                    out=output_name)\n",
    "\n",
    "\n",
    "def make_train_learner_(learner, X_train, y_train, fitting_method_name='fit'):\n",
    "    fitting_method = getattr(learner, fitting_method_name)\n",
    "    fitted_learner = fitting_method(X_train, y_train)\n",
    "    return fitted_learner\n",
    "\n",
    "\n",
    "def make_train_learner_node(learner_bind='learner',\n",
    "                            X_train_bind='X_train',\n",
    "                            y_train_bind='y_train',\n",
    "                            fitting_method_name='fit',\n",
    "                            name='train_learner'):\n",
    "    make_train_learner__ = partial(make_train_learner_, fitting_method_name=fitting_method_name)\n",
    "    return FuncNode(func=make_train_learner__,\n",
    "                    name=name,\n",
    "                    bind={'learner': learner_bind, 'X_train': X_train_bind, 'y_train': y_train_bind},\n",
    "                    out='fitted_learner')\n",
    "\n",
    "\n",
    "def make_fitter_and_runner_nodes_(\n",
    "        model,\n",
    "        fit_bind='fit',\n",
    "        transform_bind='transform',\n",
    "        **model_kwargs,\n",
    "):\n",
    "    learner_node = make_learner_node(model, **model_kwargs)\n",
    "    training_node = make_train_learner_node(learner_bind='learner')\n",
    "\n",
    "    return learner_node, training_node  # WTF, Commenting the training node make the DAG d_2 fail to construct!\n",
    "\n",
    "\n",
    "d_2 = DAG(make_fitter_and_runner_nodes_(model=PCA,\n",
    "                                        transform_bind='score_samples'))\n",
    "\n",
    "print(d_2(X_train, y_train).score_samples(X_train))\n",
    "\n",
    "\n",
    "\n",
    "# in meshed: _allow_reordering = True in \"modified\" method of dag\n",
    "d_2.dot_digraph()"
   ]
  },
  {
   "cell_type": "code",
   "execution_count": 3,
   "metadata": {},
   "outputs": [
    {
     "data": {
      "text/plain": [
       "<generator object DAG.dot_digraph_body at 0x7fac86c2f120>"
      ]
     },
     "execution_count": 3,
     "metadata": {},
     "output_type": "execute_result"
    }
   ],
   "source": [
    "body = d_2.dot_digraph_body()\n",
    "body"
   ]
  },
  {
   "cell_type": "code",
   "execution_count": 4,
   "metadata": {},
   "outputs": [
    {
     "data": {
      "text/plain": [
       "['learner [label=\"learner\" shape=\"none\"]',\n",
       " 'make_learner [label=\"make_learner\" shape=\"box\"]',\n",
       " 'make_learner -> learner',\n",
       " 'learner_class [label=\"learner_class=\" shape=\"none\"]',\n",
       " 'learner_kwargs [label=\"**learner_kwargs\" shape=\"none\"]',\n",
       " 'learner_class -> make_learner',\n",
       " 'learner_kwargs -> make_learner',\n",
       " 'fitted_learner [label=\"fitted_learner\" shape=\"none\"]',\n",
       " 'train_learner [label=\"train_learner\" shape=\"box\"]',\n",
       " 'train_learner -> fitted_learner',\n",
       " 'learner [label=\"learner\" shape=\"none\"]',\n",
       " 'X_train [label=\"X_train\" shape=\"none\"]',\n",
       " 'y_train [label=\"y_train\" shape=\"none\"]',\n",
       " 'fitting_method_name [label=\"fitting_method_name=\" shape=\"none\"]',\n",
       " 'learner -> train_learner',\n",
       " 'X_train -> train_learner',\n",
       " 'y_train -> train_learner',\n",
       " 'fitting_method_name -> train_learner']"
      ]
     },
     "execution_count": 4,
     "metadata": {},
     "output_type": "execute_result"
    }
   ],
   "source": [
    "from meshed.dag import dot_lines_of_func_nodes\n",
    "dlines = dot_lines_of_func_nodes(d_2.func_nodes, start_lines=())\n",
    "list(dlines)"
   ]
  },
  {
   "cell_type": "markdown",
   "metadata": {},
   "source": [
    "dot_digraph\n",
    "--(calls)--> dot_digraph_body\n",
    "--(calls)--> dot_lines_of_func_nodes(d_2.func_nodes, start_lines=()) \n",
    "--(calls)--> dot_lines_of_func_node(fnode) # where fnode = d_2.func_nodes[0]\n",
    "--(calls)--> params = fnode.sig.ch_names(fnode.sig, **fnode.bind).params  \n",
    "--(calls)--> self.ch_param_attrs('name', **changes_for_name)\n",
    "--(calls)--> all_pk_self = self.modified(**{name: {'kind': PK} for name in self.names})\n",
    "\n",
    "self.ch_params_attrs needs to be called with _allow_reordering=True instead of False"
   ]
  },
  {
   "cell_type": "markdown",
   "metadata": {},
   "source": [
    "# Dag templates"
   ]
  },
  {
   "cell_type": "code",
   "execution_count": 3,
   "metadata": {},
   "outputs": [
    {
     "name": "stdout",
     "output_type": "stream",
     "text": [
      "[ -5.66037846  -4.29589733  -4.47229006  -5.11112918  -1.23521284\n",
      "  -3.31921439  -0.61181397  -1.94183937  -5.00147548   0.87248731\n",
      "  -1.2622775   -3.79686658  -2.63550354  -4.84303264  -3.3123678\n",
      "  -4.08070062  -5.821685    -2.72289842  -7.16608523  -6.32246763\n",
      "  -2.26328288  -5.20802194  -2.76954919  -2.55063726  -3.47321808\n",
      "  -1.07133924   0.27667122   0.62981354   0.46446921  -4.26206056\n",
      "  -0.59720137  -3.40250452  -2.53156808  -2.57331459  -2.99843462\n",
      "  -0.87399318  -1.28440894  -0.76918218  -3.31744391  -1.39226801\n",
      "  -1.90197864  -6.19881001  -7.84508559  -3.14337609  -4.81354836\n",
      "  -5.52345529  -0.97461507  -1.0645402   -5.01864395  -4.18986854\n",
      "   2.40632255  -1.98457003  -1.06646881 -10.73000574  -2.78519377\n",
      "   0.55958619   1.39974872  -0.76013598  -1.01066146  -2.18439999\n",
      "  -5.22370817  -1.61129116  -1.51592227  -1.32999222  -3.1521465\n",
      "  -6.92470121  -6.10378988  -1.30013672   1.60486787  -3.53033494\n",
      "  -0.93748294   0.12308953  -7.14657847   1.10521956  -4.14908835\n",
      "  -0.61695464  -1.88821928  -2.96818642  -0.04378627  -5.37106811\n",
      "   2.67953658  -4.21667424  -4.07787527  -3.52380677  -3.60494674\n",
      "  -1.72286346  -2.09730369  -1.52872941  -0.30533421  -1.83367531\n",
      "  -4.87891575  -7.2990651   -2.28252223  -6.03312269  -2.88689741\n",
      "  -1.55305242  -3.4124943   -1.08240892  -0.8881999    0.9016293 ]\n"
     ]
    },
    {
     "data": {
      "image/svg+xml": "<?xml version=\"1.0\" encoding=\"UTF-8\" standalone=\"no\"?>\n<!DOCTYPE svg PUBLIC \"-//W3C//DTD SVG 1.1//EN\"\n \"http://www.w3.org/Graphics/SVG/1.1/DTD/svg11.dtd\">\n<!-- Generated by graphviz version 2.40.1 (20161225.0304)\n -->\n<!-- Title: %3 Pages: 1 -->\n<svg width=\"466pt\" height=\"332pt\"\n viewBox=\"0.00 0.00 466.00 332.00\" xmlns=\"http://www.w3.org/2000/svg\" xmlns:xlink=\"http://www.w3.org/1999/xlink\">\n<g id=\"graph0\" class=\"graph\" transform=\"scale(1 1) rotate(0) translate(4 328)\">\n<title>%3</title>\n<polygon fill=\"#ffffff\" stroke=\"transparent\" points=\"-4,4 -4,-328 462,-328 462,4 -4,4\"/>\n<!-- learner -->\n<g id=\"node1\" class=\"node\">\n<title>learner</title>\n<text text-anchor=\"middle\" x=\"341.5\" y=\"-158.3\" font-family=\"Times,serif\" font-size=\"14.00\" fill=\"#000000\">learner</text>\n</g>\n<!-- train_learner -->\n<g id=\"node6\" class=\"node\">\n<title>train_learner</title>\n<polygon fill=\"none\" stroke=\"#000000\" points=\"208.5,-108 120.5,-108 120.5,-72 208.5,-72 208.5,-108\"/>\n<text text-anchor=\"middle\" x=\"164.5\" y=\"-86.3\" font-family=\"Times,serif\" font-size=\"14.00\" fill=\"#000000\">train_learner</text>\n</g>\n<!-- learner&#45;&gt;train_learner -->\n<g id=\"edge5\" class=\"edge\">\n<title>learner&#45;&gt;train_learner</title>\n<path fill=\"none\" stroke=\"#000000\" d=\"M313.7371,-148.1816C310.6379,-146.7323 307.513,-145.3112 304.5,-144 276.3113,-131.7331 244.362,-119.3009 218.1089,-109.4625\"/>\n<polygon fill=\"#000000\" stroke=\"#000000\" points=\"219.3047,-106.173 208.712,-105.9603 216.86,-112.7323 219.3047,-106.173\"/>\n</g>\n<!-- make_learner -->\n<g id=\"node2\" class=\"node\">\n<title>make_learner</title>\n<polygon fill=\"none\" stroke=\"#000000\" points=\"388,-252 295,-252 295,-216 388,-216 388,-252\"/>\n<text text-anchor=\"middle\" x=\"341.5\" y=\"-230.3\" font-family=\"Times,serif\" font-size=\"14.00\" fill=\"#000000\">make_learner</text>\n</g>\n<!-- make_learner&#45;&gt;learner -->\n<g id=\"edge1\" class=\"edge\">\n<title>make_learner&#45;&gt;learner</title>\n<path fill=\"none\" stroke=\"#000000\" d=\"M341.5,-215.8314C341.5,-208.131 341.5,-198.9743 341.5,-190.4166\"/>\n<polygon fill=\"#000000\" stroke=\"#000000\" points=\"345.0001,-190.4132 341.5,-180.4133 338.0001,-190.4133 345.0001,-190.4132\"/>\n</g>\n<!-- learner_class -->\n<g id=\"node3\" class=\"node\">\n<title>learner_class</title>\n<text text-anchor=\"middle\" x=\"280.5\" y=\"-302.3\" font-family=\"Times,serif\" font-size=\"14.00\" fill=\"#000000\">learner_class=</text>\n</g>\n<!-- learner_class&#45;&gt;make_learner -->\n<g id=\"edge2\" class=\"edge\">\n<title>learner_class&#45;&gt;make_learner</title>\n<path fill=\"none\" stroke=\"#000000\" d=\"M295.8929,-287.8314C302.9904,-279.454 311.548,-269.3531 319.324,-260.1749\"/>\n<polygon fill=\"#000000\" stroke=\"#000000\" points=\"322.1061,-262.3056 325.8999,-252.4133 316.7652,-257.7807 322.1061,-262.3056\"/>\n</g>\n<!-- learner_kwargs -->\n<g id=\"node4\" class=\"node\">\n<title>learner_kwargs</title>\n<text text-anchor=\"middle\" x=\"402.5\" y=\"-302.3\" font-family=\"Times,serif\" font-size=\"14.00\" fill=\"#000000\">learner_kwargs=</text>\n</g>\n<!-- learner_kwargs&#45;&gt;make_learner -->\n<g id=\"edge3\" class=\"edge\">\n<title>learner_kwargs&#45;&gt;make_learner</title>\n<path fill=\"none\" stroke=\"#000000\" d=\"M387.1071,-287.8314C380.0096,-279.454 371.452,-269.3531 363.676,-260.1749\"/>\n<polygon fill=\"#000000\" stroke=\"#000000\" points=\"366.2348,-257.7807 357.1001,-252.4133 360.8939,-262.3056 366.2348,-257.7807\"/>\n</g>\n<!-- fitted_learner -->\n<g id=\"node5\" class=\"node\">\n<title>fitted_learner</title>\n<text text-anchor=\"middle\" x=\"164.5\" y=\"-14.3\" font-family=\"Times,serif\" font-size=\"14.00\" fill=\"#000000\">fitted_learner</text>\n</g>\n<!-- train_learner&#45;&gt;fitted_learner -->\n<g id=\"edge4\" class=\"edge\">\n<title>train_learner&#45;&gt;fitted_learner</title>\n<path fill=\"none\" stroke=\"#000000\" d=\"M164.5,-71.8314C164.5,-64.131 164.5,-54.9743 164.5,-46.4166\"/>\n<polygon fill=\"#000000\" stroke=\"#000000\" points=\"168.0001,-46.4132 164.5,-36.4133 161.0001,-46.4133 168.0001,-46.4132\"/>\n</g>\n<!-- X_train -->\n<g id=\"node7\" class=\"node\">\n<title>X_train</title>\n<text text-anchor=\"middle\" x=\"29.5\" y=\"-158.3\" font-family=\"Times,serif\" font-size=\"14.00\" fill=\"#000000\">X_train</text>\n</g>\n<!-- X_train&#45;&gt;train_learner -->\n<g id=\"edge6\" class=\"edge\">\n<title>X_train&#45;&gt;train_learner</title>\n<path fill=\"none\" stroke=\"#000000\" d=\"M59.1263,-146.1993C77.434,-136.4352 101.2376,-123.7399 121.5876,-112.8866\"/>\n<polygon fill=\"#000000\" stroke=\"#000000\" points=\"123.486,-115.8409 130.6625,-108.0467 120.1918,-109.6644 123.486,-115.8409\"/>\n</g>\n<!-- y_train -->\n<g id=\"node8\" class=\"node\">\n<title>y_train</title>\n<text text-anchor=\"middle\" x=\"105.5\" y=\"-158.3\" font-family=\"Times,serif\" font-size=\"14.00\" fill=\"#000000\">y_train</text>\n</g>\n<!-- y_train&#45;&gt;train_learner -->\n<g id=\"edge7\" class=\"edge\">\n<title>y_train&#45;&gt;train_learner</title>\n<path fill=\"none\" stroke=\"#000000\" d=\"M120.3882,-143.8314C127.253,-135.454 135.5301,-125.3531 143.0511,-116.1749\"/>\n<polygon fill=\"#000000\" stroke=\"#000000\" points=\"145.7803,-118.3665 149.4114,-108.4133 140.3659,-113.9297 145.7803,-118.3665\"/>\n</g>\n<!-- fitting_method_name -->\n<g id=\"node9\" class=\"node\">\n<title>fitting_method_name</title>\n<text text-anchor=\"middle\" x=\"223.5\" y=\"-158.3\" font-family=\"Times,serif\" font-size=\"14.00\" fill=\"#000000\">fitting_method_name=</text>\n</g>\n<!-- fitting_method_name&#45;&gt;train_learner -->\n<g id=\"edge8\" class=\"edge\">\n<title>fitting_method_name&#45;&gt;train_learner</title>\n<path fill=\"none\" stroke=\"#000000\" d=\"M208.6118,-143.8314C201.747,-135.454 193.4699,-125.3531 185.9489,-116.1749\"/>\n<polygon fill=\"#000000\" stroke=\"#000000\" points=\"188.6341,-113.9297 179.5886,-108.4133 183.2197,-118.3665 188.6341,-113.9297\"/>\n</g>\n</g>\n</svg>\n",
      "text/plain": [
       "<graphviz.dot.Digraph at 0x7f867c278ee0>"
      ]
     },
     "execution_count": 3,
     "metadata": {},
     "output_type": "execute_result"
    }
   ],
   "source": [
    "\n",
    "from functools import partial\n",
    "\n",
    "from meshed import DAG, FuncNode\n",
    "from sklearn.decomposition import PCA\n",
    "import numpy as np\n",
    "\n",
    "\n",
    "X_train = np.random.random((100, 30))\n",
    "y_train = None\n",
    "X_run = np.random.random((20, 30))\n",
    "\n",
    "\n",
    "def make_learner_(learner_class,\n",
    "                  **learner_kwargs):\n",
    "    model = learner_class\n",
    "    # instantiate the learner\n",
    "    learner_instance = model(**learner_kwargs)\n",
    "    return learner_instance\n",
    "\n",
    "\n",
    "def make_learner_node(learner_class,\n",
    "                      name='make_learner',\n",
    "                      output_name='learner',\n",
    "                      **learner_kwargs):\n",
    "    learner_ = partial(make_learner_, learner_class=learner_class)\n",
    "    return FuncNode(func=learner_,\n",
    "                    name=name,\n",
    "                    out=output_name)\n",
    "\n",
    "\n",
    "def make_train_learner_(learner, X_train, y_train, fitting_method_name='fit'):\n",
    "    fitting_method = getattr(learner, fitting_method_name)\n",
    "    fitted_learner = fitting_method(X_train, y_train)\n",
    "    return fitted_learner\n",
    "\n",
    "\n",
    "def make_train_learner_node(learner_bind='learner',\n",
    "                            X_train_bind='X_train',\n",
    "                            y_train_bind='y_train',\n",
    "                            fitting_method_name='fit',\n",
    "                            name='train_learner'):\n",
    "    make_train_learner__ = partial(make_train_learner_, fitting_method_name=fitting_method_name)\n",
    "    return FuncNode(func=make_train_learner__,\n",
    "                    name=name,\n",
    "                    bind={'learner': learner_bind, 'X_train': X_train_bind, 'y_train': y_train_bind},\n",
    "                    out='fitted_learner')\n",
    "\n",
    "\n",
    "def make_fitter_and_runner_nodes_(\n",
    "        model,\n",
    "        fit_bind='fit',\n",
    "        transform_bind='transform',\n",
    "        **model_kwargs,\n",
    "):\n",
    "    learner_node = make_learner_node(model, **model_kwargs)\n",
    "    training_node = make_train_learner_node(learner_bind='learner')\n",
    "\n",
    "    return learner_node, training_node  # WTF, Commenting the training node make the DAG d_2 fail to construct!\n",
    "\n",
    "\n",
    "d_2 = DAG(make_fitter_and_runner_nodes_(model=PCA,\n",
    "                                        transform_bind='score_samples'))\n",
    "\n",
    "print(d_2(X_train, y_train).score_samples(X_train))\n",
    "\n",
    "d_2.dot_digraph()\n",
    "\n",
    "\n",
    "\n"
   ]
  },
  {
   "cell_type": "code",
   "execution_count": 9,
   "metadata": {},
   "outputs": [],
   "source": [
    "\n",
    "\n",
    "\n",
    "d_1 = DAG(make_fitter_and_runner_nodes_(model=PCA))\n",
    "\n",
    "\n",
    "d = d_1 + d_2\n",
    "# ValueError: You can't have several variadic keywords: ('learner_kwargsTEST', 'learner_kwargs')"
   ]
  },
  {
   "cell_type": "code",
   "execution_count": 8,
   "metadata": {},
   "outputs": [
    {
     "data": {
      "text/plain": [
       "DAG(func_nodes=[FuncNode(learner_class,learner_kwargs -> make_learner -> learner), FuncNode(learner,X_train,y_train,fitting_method_name -> train_learner -> fitted_learner)], name=None)"
      ]
     },
     "execution_count": 8,
     "metadata": {},
     "output_type": "execute_result"
    }
   ],
   "source": [
    "d"
   ]
  },
  {
   "cell_type": "code",
   "execution_count": 10,
   "metadata": {},
   "outputs": [],
   "source": [
    "def foo(a=1, **vk):\n",
    "     return a\n",
    "\n",
    "def bar(b=2, **vk):\n",
    "    return b \n",
    "\n"
   ]
  },
  {
   "cell_type": "code",
   "execution_count": 13,
   "metadata": {},
   "outputs": [],
   "source": [
    "res = DAG([foo]) + DAG([bar])"
   ]
  },
  {
   "cell_type": "code",
   "execution_count": 14,
   "metadata": {},
   "outputs": [
    {
     "data": {
      "image/svg+xml": "<?xml version=\"1.0\" encoding=\"UTF-8\" standalone=\"no\"?>\n<!DOCTYPE svg PUBLIC \"-//W3C//DTD SVG 1.1//EN\"\n \"http://www.w3.org/Graphics/SVG/1.1/DTD/svg11.dtd\">\n<!-- Generated by graphviz version 2.40.1 (20161225.0304)\n -->\n<!-- Title: %3 Pages: 1 -->\n<svg width=\"206pt\" height=\"188pt\"\n viewBox=\"0.00 0.00 206.00 188.00\" xmlns=\"http://www.w3.org/2000/svg\" xmlns:xlink=\"http://www.w3.org/1999/xlink\">\n<g id=\"graph0\" class=\"graph\" transform=\"scale(1 1) rotate(0) translate(4 184)\">\n<title>%3</title>\n<polygon fill=\"#ffffff\" stroke=\"transparent\" points=\"-4,4 -4,-184 202,-184 202,4 -4,4\"/>\n<!-- bar -->\n<g id=\"node1\" class=\"node\">\n<title>bar</title>\n<text text-anchor=\"middle\" x=\"45\" y=\"-14.3\" font-family=\"Times,serif\" font-size=\"14.00\" fill=\"#000000\">bar</text>\n</g>\n<!-- bar_ -->\n<g id=\"node2\" class=\"node\">\n<title>bar_</title>\n<polygon fill=\"none\" stroke=\"#000000\" points=\"72,-108 18,-108 18,-72 72,-72 72,-108\"/>\n<text text-anchor=\"middle\" x=\"45\" y=\"-86.3\" font-family=\"Times,serif\" font-size=\"14.00\" fill=\"#000000\">bar_</text>\n</g>\n<!-- bar_&#45;&gt;bar -->\n<g id=\"edge1\" class=\"edge\">\n<title>bar_&#45;&gt;bar</title>\n<path fill=\"none\" stroke=\"#000000\" d=\"M45,-71.8314C45,-64.131 45,-54.9743 45,-46.4166\"/>\n<polygon fill=\"#000000\" stroke=\"#000000\" points=\"48.5001,-46.4132 45,-36.4133 41.5001,-46.4133 48.5001,-46.4132\"/>\n</g>\n<!-- b -->\n<g id=\"node3\" class=\"node\">\n<title>b</title>\n<text text-anchor=\"middle\" x=\"27\" y=\"-158.3\" font-family=\"Times,serif\" font-size=\"14.00\" fill=\"#000000\">b=</text>\n</g>\n<!-- b&#45;&gt;bar_ -->\n<g id=\"edge2\" class=\"edge\">\n<title>b&#45;&gt;bar_</title>\n<path fill=\"none\" stroke=\"#000000\" d=\"M31.5422,-143.8314C33.4884,-136.0463 35.8068,-126.7729 37.9663,-118.1347\"/>\n<polygon fill=\"#000000\" stroke=\"#000000\" points=\"41.3668,-118.9636 40.3967,-108.4133 34.5758,-117.2658 41.3668,-118.9636\"/>\n</g>\n<!-- vk -->\n<g id=\"node4\" class=\"node\">\n<title>vk</title>\n<text text-anchor=\"middle\" x=\"99\" y=\"-158.3\" font-family=\"Times,serif\" font-size=\"14.00\" fill=\"#000000\">vk=</text>\n</g>\n<!-- vk&#45;&gt;bar_ -->\n<g id=\"edge3\" class=\"edge\">\n<title>vk&#45;&gt;bar_</title>\n<path fill=\"none\" stroke=\"#000000\" d=\"M85.3735,-143.8314C79.154,-135.5386 71.6678,-125.557 64.84,-116.4533\"/>\n<polygon fill=\"#000000\" stroke=\"#000000\" points=\"67.61,-114.3133 58.81,-108.4133 62.01,-118.5133 67.61,-114.3133\"/>\n</g>\n<!-- foo_ -->\n<g id=\"node6\" class=\"node\">\n<title>foo_</title>\n<polygon fill=\"none\" stroke=\"#000000\" points=\"180,-108 126,-108 126,-72 180,-72 180,-108\"/>\n<text text-anchor=\"middle\" x=\"153\" y=\"-86.3\" font-family=\"Times,serif\" font-size=\"14.00\" fill=\"#000000\">foo_</text>\n</g>\n<!-- vk&#45;&gt;foo_ -->\n<g id=\"edge6\" class=\"edge\">\n<title>vk&#45;&gt;foo_</title>\n<path fill=\"none\" stroke=\"#000000\" d=\"M112.6265,-143.8314C118.846,-135.5386 126.3322,-125.557 133.16,-116.4533\"/>\n<polygon fill=\"#000000\" stroke=\"#000000\" points=\"135.99,-118.5133 139.19,-108.4133 130.39,-114.3133 135.99,-118.5133\"/>\n</g>\n<!-- foo -->\n<g id=\"node5\" class=\"node\">\n<title>foo</title>\n<text text-anchor=\"middle\" x=\"153\" y=\"-14.3\" font-family=\"Times,serif\" font-size=\"14.00\" fill=\"#000000\">foo</text>\n</g>\n<!-- foo_&#45;&gt;foo -->\n<g id=\"edge4\" class=\"edge\">\n<title>foo_&#45;&gt;foo</title>\n<path fill=\"none\" stroke=\"#000000\" d=\"M153,-71.8314C153,-64.131 153,-54.9743 153,-46.4166\"/>\n<polygon fill=\"#000000\" stroke=\"#000000\" points=\"156.5001,-46.4132 153,-36.4133 149.5001,-46.4133 156.5001,-46.4132\"/>\n</g>\n<!-- a -->\n<g id=\"node7\" class=\"node\">\n<title>a</title>\n<text text-anchor=\"middle\" x=\"171\" y=\"-158.3\" font-family=\"Times,serif\" font-size=\"14.00\" fill=\"#000000\">a=</text>\n</g>\n<!-- a&#45;&gt;foo_ -->\n<g id=\"edge5\" class=\"edge\">\n<title>a&#45;&gt;foo_</title>\n<path fill=\"none\" stroke=\"#000000\" d=\"M166.4578,-143.8314C164.5116,-136.0463 162.1932,-126.7729 160.0337,-118.1347\"/>\n<polygon fill=\"#000000\" stroke=\"#000000\" points=\"163.4242,-117.2658 157.6033,-108.4133 156.6332,-118.9636 163.4242,-117.2658\"/>\n</g>\n</g>\n</svg>\n",
      "text/plain": [
       "<graphviz.dot.Digraph at 0x7f867dafca00>"
      ]
     },
     "execution_count": 14,
     "metadata": {},
     "output_type": "execute_result"
    }
   ],
   "source": [
    "res.dot_digraph()"
   ]
  },
  {
   "cell_type": "code",
   "execution_count": 11,
   "metadata": {},
   "outputs": [],
   "source": [
    "from i2 import Sig\n",
    "def foo(x, y=1):\n",
    "    return x + y\n",
    "\n",
    "assert foo(0) == 1\n",
    "bar = Sig(lambda x, y=2: None)(foo)\n",
    "assert str(Sig(bar)) == '(x, y=2)'\n",
    "assert bar(0) == 2"
   ]
  },
  {
   "cell_type": "code",
   "execution_count": 21,
   "metadata": {},
   "outputs": [],
   "source": [
    "from meshed import DAG\n",
    "\n",
    "def foo(x, y=1):\n",
    "    return x + y\n",
    "\n",
    "foo_dag = DAG([foo]) # cgange le __sig et le sig\n",
    "assert foo_dag(0) == 1\n"
   ]
  },
  {
   "cell_type": "code",
   "execution_count": 22,
   "metadata": {},
   "outputs": [
    {
     "ename": "AttributeError",
     "evalue": "'DAG' object has no attribute 'func'",
     "output_type": "error",
     "traceback": [
      "\u001b[0;31m---------------------------------------------------------------------------\u001b[0m",
      "\u001b[0;31mAttributeError\u001b[0m                            Traceback (most recent call last)",
      "\u001b[0;32m<ipython-input-22-7818b5c9bd76>\u001b[0m in \u001b[0;36m<module>\u001b[0;34m\u001b[0m\n\u001b[0;32m----> 1\u001b[0;31m \u001b[0mbar_dag\u001b[0m\u001b[0;34m.\u001b[0m\u001b[0msig\u001b[0m\u001b[0;34m,\u001b[0m \u001b[0mbar_dag\u001b[0m\u001b[0;34m.\u001b[0m\u001b[0mfunc\u001b[0m\u001b[0;34m.\u001b[0m\u001b[0msig\u001b[0m\u001b[0;34m\u001b[0m\u001b[0;34m\u001b[0m\u001b[0m\n\u001b[0m",
      "\u001b[0;31mAttributeError\u001b[0m: 'DAG' object has no attribute 'func'"
     ]
    }
   ],
   "source": [
    "bar_dag.sig, bar_dag.func.sig"
   ]
  },
  {
   "cell_type": "code",
   "execution_count": 23,
   "metadata": {},
   "outputs": [
    {
     "data": {
      "text/plain": [
       "(<Signature (x, y=2)>, <Sig (x, y=1)>)"
      ]
     },
     "execution_count": 23,
     "metadata": {},
     "output_type": "execute_result"
    }
   ],
   "source": [
    "bar_dag.__signature__, bar_dag.sig"
   ]
  },
  {
   "cell_type": "code",
   "execution_count": 24,
   "metadata": {},
   "outputs": [
    {
     "data": {
      "text/plain": [
       "<Sig (x, y=1)>"
      ]
     },
     "execution_count": 24,
     "metadata": {},
     "output_type": "execute_result"
    }
   ],
   "source": [
    "foo_dag.sig + (Sig(foo_dag.__signature__))"
   ]
  },
  {
   "cell_type": "code",
   "execution_count": 33,
   "metadata": {},
   "outputs": [],
   "source": [
    "bar_dag = Sig(lambda x, y=2: None)(foo_dag) # change le __signature__, mais pas le .sig\n",
    "assert str(Sig(bar_dag)) == '(x, y=2)'\n",
    "assert bar_dag(0) == 1  # BUT WE WANT THIS TO BE 2\n",
    "# marche si tu bar_dag.sig"
   ]
  },
  {
   "cell_type": "code",
   "execution_count": 32,
   "metadata": {},
   "outputs": [
    {
     "data": {
      "text/plain": [
       "((2,), <Signature (x, y=2)>, {})"
      ]
     },
     "execution_count": 32,
     "metadata": {},
     "output_type": "execute_result"
    }
   ],
   "source": [
    "bar_dag.__defaults__, bar_dag.__signature__, bar_dag.__kwdefaults__\n",
    "if self.sig != Sig(self.__signature__):\n",
    "    self.sig = self"
   ]
  },
  {
   "cell_type": "code",
   "execution_count": 34,
   "metadata": {},
   "outputs": [
    {
     "data": {
      "text/plain": [
       "inspect.Signature"
      ]
     },
     "execution_count": 34,
     "metadata": {},
     "output_type": "execute_result"
    }
   ],
   "source": [
    "type(bar_dag.__signature__)"
   ]
  },
  {
   "cell_type": "code",
   "execution_count": 36,
   "metadata": {},
   "outputs": [
    {
     "data": {
      "text/plain": [
       "True"
      ]
     },
     "execution_count": 36,
     "metadata": {},
     "output_type": "execute_result"
    }
   ],
   "source": [
    "import inspect\n",
    "isinstance(bar_dag.sig, inspect.Signature)"
   ]
  },
  {
   "cell_type": "code",
   "execution_count": null,
   "metadata": {},
   "outputs": [],
   "source": [
    "* test equality: if different, set it to __signature__\n",
    "* faire une property sig, pointing to __signature__  (add a deprecation warning)\n",
    "\n",
    "@property\n",
    "def sig(self):\n",
    "    return Sig(self.__signature__)"
   ]
  },
  {
   "cell_type": "code",
   "execution_count": 31,
   "metadata": {},
   "outputs": [
    {
     "data": {
      "text/plain": [
       "<Sig (x, y=1)>"
      ]
     },
     "execution_count": 31,
     "metadata": {},
     "output_type": "execute_result"
    }
   ],
   "source": [
    "bar_dag.sig"
   ]
  },
  {
   "cell_type": "code",
   "execution_count": null,
   "metadata": {},
   "outputs": [],
   "source": [
    "* in the call of a dag, make use of signature (the one that has been changed by the wrapping)\n",
    "* nothing should change .sig (the one that is used in call)\n"
   ]
  },
  {
   "cell_type": "markdown",
   "metadata": {},
   "source": [
    "# Simple dags for apps"
   ]
  },
  {
   "cell_type": "code",
   "execution_count": 23,
   "metadata": {},
   "outputs": [
    {
     "ename": "AttributeError",
     "evalue": "'Attribute' object has no attribute 'id'",
     "output_type": "error",
     "traceback": [
      "\u001b[0;31m---------------------------------------------------------------------------\u001b[0m",
      "\u001b[0;31mAttributeError\u001b[0m                            Traceback (most recent call last)",
      "\u001b[1;32m/Users/sylvain/Desktop/dev/otosense/plunk/plunk/sb/meshed_experiments/notebook.ipynb Cell 68\u001b[0m in \u001b[0;36m<cell line: 32>\u001b[0;34m()\u001b[0m\n\u001b[1;32m     <a href='vscode-notebook-cell:/Users/sylvain/Desktop/dev/otosense/plunk/plunk/sb/meshed_experiments/notebook.ipynb#Y125sZmlsZQ%3D%3D?line=27'>28</a>\u001b[0m     \u001b[39mreturn\u001b[39;00m chain\u001b[39m.\u001b[39mfrom_iterable(\u001b[39mmap\u001b[39m(func, iterable))\n\u001b[1;32m     <a href='vscode-notebook-cell:/Users/sylvain/Desktop/dev/otosense/plunk/plunk/sb/meshed_experiments/notebook.ipynb#Y125sZmlsZQ%3D%3D?line=29'>30</a>\u001b[0m model \u001b[39m=\u001b[39m Stroll\n\u001b[1;32m     <a href='vscode-notebook-cell:/Users/sylvain/Desktop/dev/otosense/plunk/plunk/sb/meshed_experiments/notebook.ipynb#Y125sZmlsZQ%3D%3D?line=31'>32</a>\u001b[0m \u001b[39m@code_to_dag\u001b[39;49m\n\u001b[0;32m---> <a href='vscode-notebook-cell:/Users/sylvain/Desktop/dev/otosense/plunk/plunk/sb/meshed_experiments/notebook.ipynb#Y125sZmlsZQ%3D%3D?line=32'>33</a>\u001b[0m \u001b[39mdef\u001b[39;49;00m \u001b[39mpipe\u001b[39;49m():\n\u001b[1;32m     <a href='vscode-notebook-cell:/Users/sylvain/Desktop/dev/otosense/plunk/plunk/sb/meshed_experiments/notebook.ipynb#Y125sZmlsZQ%3D%3D?line=33'>34</a>\u001b[0m     \u001b[39m#wfs = call(src_to_wf, data_src)\u001b[39;49;00m\n\u001b[1;32m     <a href='vscode-notebook-cell:/Users/sylvain/Desktop/dev/otosense/plunk/plunk/sb/meshed_experiments/notebook.ipynb#Y125sZmlsZQ%3D%3D?line=34'>35</a>\u001b[0m     chks \u001b[39m=\u001b[39;49m chained_map(chunker, wfs)\n\u001b[1;32m     <a href='vscode-notebook-cell:/Users/sylvain/Desktop/dev/otosense/plunk/plunk/sb/meshed_experiments/notebook.ipynb#Y125sZmlsZQ%3D%3D?line=35'>36</a>\u001b[0m     fvs \u001b[39m=\u001b[39;49m \u001b[39mmap\u001b[39;49m(featurizer, chks)\n",
      "File \u001b[0;32m~/Desktop/dev/otosense/i2/i2/deco.py:141\u001b[0m, in \u001b[0;36m_double_up_as_factory\u001b[0;34m(wrapped, __decorator_func, *args, **kwargs)\u001b[0m\n\u001b[1;32m    139\u001b[0m     \u001b[39mreturn\u001b[39;00m partial(__decorator_func, \u001b[39m*\u001b[39m\u001b[39m*\u001b[39mkwargs)\n\u001b[1;32m    140\u001b[0m \u001b[39melse\u001b[39;00m:\n\u001b[0;32m--> 141\u001b[0m     \u001b[39mreturn\u001b[39;00m __decorator_func(wrapped, \u001b[39m*\u001b[39;49margs, \u001b[39m*\u001b[39;49m\u001b[39m*\u001b[39;49mkwargs)\n",
      "File \u001b[0;32m~/Desktop/dev/otosense/meshed/meshed/makers.py:513\u001b[0m, in \u001b[0;36mcode_to_dag\u001b[0;34m(src, func_src, name)\u001b[0m\n\u001b[1;32m    511\u001b[0m         name \u001b[39m=\u001b[39m name_of_obj(src)\n\u001b[1;32m    512\u001b[0m \u001b[39m# Pass on to _code_to_fnodes to get func nodes iterable needed to make DAG\u001b[39;00m\n\u001b[0;32m--> 513\u001b[0m fnodes \u001b[39m=\u001b[39m _code_to_fnodes(src, func_src)\n\u001b[1;32m    514\u001b[0m fnodes \u001b[39m=\u001b[39m \u001b[39mlist\u001b[39m(fnodes)\n\u001b[1;32m    515\u001b[0m \u001b[39mreturn\u001b[39;00m DAG(fnodes, name\u001b[39m=\u001b[39mname)\n",
      "File \u001b[0;32m~/Desktop/dev/otosense/meshed/meshed/makers.py:468\u001b[0m, in \u001b[0;36m_code_to_fnodes\u001b[0;34m(src, func_src)\u001b[0m\n\u001b[1;32m    466\u001b[0m \u001b[39mdef\u001b[39;00m \u001b[39m_code_to_fnodes\u001b[39m(src, func_src\u001b[39m=\u001b[39mdlft_factory_to_func):\n\u001b[1;32m    467\u001b[0m     \u001b[39m# Make all the funodes, but partial ones that don't have the func defined yet\u001b[39;00m\n\u001b[0;32m--> 468\u001b[0m     fnodes_factories \u001b[39m=\u001b[39m \u001b[39mlist\u001b[39;49m(src_to_func_node_factory(src))\n\u001b[1;32m    469\u001b[0m     \u001b[39m# \"Inject\" the actual functions\u001b[39;00m\n\u001b[1;32m    470\u001b[0m     \u001b[39mreturn\u001b[39;00m mk_fnodes_from_fn_factories(fnodes_factories, func_src)\n",
      "File \u001b[0;32m~/Desktop/dev/otosense/meshed/meshed/makers.py:389\u001b[0m, in \u001b[0;36msrc_to_func_node_factory\u001b[0;34m(src, exclude_names)\u001b[0m\n\u001b[1;32m    387\u001b[0m exclude_names \u001b[39m=\u001b[39m \u001b[39mset\u001b[39m(exclude_names \u001b[39mor\u001b[39;00m \u001b[39mset\u001b[39m())\n\u001b[1;32m    388\u001b[0m \u001b[39mfor\u001b[39;00m i, target_value \u001b[39min\u001b[39;00m \u001b[39menumerate\u001b[39m(parse_assignment_steps(src), \u001b[39m1\u001b[39m):\n\u001b[0;32m--> 389\u001b[0m     \u001b[39mfor\u001b[39;00m node_kwargs \u001b[39min\u001b[39;00m parsed_to_node_kwargs(target_value):\n\u001b[1;32m    390\u001b[0m         node_kwargs[\u001b[39m'\u001b[39m\u001b[39mfunc_label\u001b[39m\u001b[39m'\u001b[39m] \u001b[39m=\u001b[39m node_kwargs[\u001b[39m'\u001b[39m\u001b[39mname\u001b[39m\u001b[39m'\u001b[39m]\n\u001b[1;32m    391\u001b[0m         \u001b[39mif\u001b[39;00m node_kwargs[\u001b[39m'\u001b[39m\u001b[39mname\u001b[39m\u001b[39m'\u001b[39m] \u001b[39min\u001b[39;00m exclude_names:\n\u001b[1;32m    392\u001b[0m             \u001b[39m# need to keep names uniques, so add a prefix to (hope) to get uniqueness\u001b[39;00m\n",
      "File \u001b[0;32m~/Desktop/dev/otosense/meshed/meshed/makers.py:265\u001b[0m, in \u001b[0;36mparsed_to_node_kwargs\u001b[0;34m(target_value)\u001b[0m\n\u001b[1;32m    262\u001b[0m kwargs \u001b[39m=\u001b[39m {x\u001b[39m.\u001b[39marg: _extract_value_from_ast_element(x\u001b[39m.\u001b[39mvalue) \u001b[39mfor\u001b[39;00m x \u001b[39min\u001b[39;00m value\u001b[39m.\u001b[39mkeywords}\n\u001b[1;32m    263\u001b[0m \u001b[39mif\u001b[39;00m \u001b[39misinstance\u001b[39m(target, ast\u001b[39m.\u001b[39mName):\n\u001b[1;32m    264\u001b[0m     \u001b[39myield\u001b[39;00m \u001b[39mdict\u001b[39m(\n\u001b[0;32m--> 265\u001b[0m         name\u001b[39m=\u001b[39mvalue\u001b[39m.\u001b[39;49mfunc\u001b[39m.\u001b[39;49mid, out\u001b[39m=\u001b[39mtarget\u001b[39m.\u001b[39mid, bind\u001b[39m=\u001b[39m\u001b[39mdict\u001b[39m(bind_from_args, \u001b[39m*\u001b[39m\u001b[39m*\u001b[39mkwargs)\n\u001b[1;32m    266\u001b[0m     )\n\u001b[1;32m    267\u001b[0m \u001b[39melif\u001b[39;00m \u001b[39misinstance\u001b[39m(target, ast\u001b[39m.\u001b[39mTuple):\n\u001b[1;32m    268\u001b[0m     assign_to_names \u001b[39m=\u001b[39m \u001b[39mtuple\u001b[39m(\u001b[39mmap\u001b[39m(attrgetter(\u001b[39m'\u001b[39m\u001b[39mid\u001b[39m\u001b[39m'\u001b[39m), target\u001b[39m.\u001b[39melts))\n",
      "\u001b[0;31mAttributeError\u001b[0m: 'Attribute' object has no attribute 'id'"
     ]
    }
   ],
   "source": [
    "from meshed.makers import code_to_dag\n",
    "from itertools import chain\n",
    "from functools import partial\n",
    "import numpy as np\n",
    "from meshed.makers import dlft_factory_to_func\n",
    "from omodel.gen_utils.chunker import fixed_step_chunker \n",
    "\n",
    "from functools import partial\n",
    "from omodel.outliers.pystroll import OutlierModel as Stroll\n",
    "\n",
    "DFLT_CHK_SIZE = 2\n",
    "DFLT_CHK_STEP = 2\n",
    "DFLT_FEATURIZER = lambda chk: np.abs(np.fft.rfft(chk))\n",
    "\n",
    "\n",
    "chunker = partial(\n",
    "    fixed_step_chunker, chk_size=DFLT_CHK_SIZE, chk_step=DFLT_CHK_STEP\n",
    ")\n",
    "featurizer = DFLT_FEATURIZER\n",
    "\n",
    "#fvs_train = np.array(list(map(DFLT_FEATURIZER, list_chks[:100])))\n",
    "\n",
    "def call(func, arg):\n",
    "    return func(arg)\n",
    "\n",
    "\n",
    "def chained_map(func, iterable):\n",
    "    return chain.from_iterable(map(func, iterable))\n",
    "\n",
    "model = Stroll\n",
    "\n",
    "@code_to_dag\n",
    "def pipe():\n",
    "    #wfs = call(src_to_wf, data_src)\n",
    "    chks = chained_map(chunker, wfs)\n",
    "    fvs = map(featurizer, chks)\n",
    "    fitted_model = model.fit(fvs)\n",
    "    model_outputs = model.score_samples(fvs)"
   ]
  },
  {
   "cell_type": "code",
   "execution_count": 32,
   "metadata": {},
   "outputs": [],
   "source": [
    "wfs = np.random.randint(20, size=20000)\n",
    "#wfs = np.array([1,2,3,4,4,4,4,4,4])\n",
    "#chks = chained_map(chunker, wfs)\n"
   ]
  },
  {
   "cell_type": "code",
   "execution_count": 39,
   "metadata": {},
   "outputs": [
    {
     "data": {
      "text/plain": [
       "array([-0.69731076, -0.69731076,  0.27060191, ..., -0.69731076,\n",
       "       -0.18465835, -0.0728431 ])"
      ]
     },
     "execution_count": 39,
     "metadata": {},
     "output_type": "execute_result"
    }
   ],
   "source": [
    "from omodel.gen_utils.chunker import fixed_step_chunker \n",
    "\n",
    "from functools import partial\n",
    "from omodel.outliers.pystroll import OutlierModel as Stroll\n",
    "\n",
    "DFLT_CHK_SIZE = 2\n",
    "DFLT_CHK_STEP = 2\n",
    "DFLT_FEATURIZER = lambda chk: np.abs(np.fft.rfft(chk))\n",
    "\n",
    "\n",
    "chunker = partial(\n",
    "    fixed_step_chunker, chk_size=DFLT_CHK_SIZE, chk_step=DFLT_CHK_STEP\n",
    ")\n",
    "featurizer = DFLT_FEATURIZER\n",
    "\n",
    "def simple_model(wfs):\n",
    "    chks = list(chunker(wfs))\n",
    "    fvs = np.array(list(map(featurizer, chks)))\n",
    "    model = Stroll()\n",
    "    model.fit(X=fvs)\n",
    "    scores = model.score_samples(X=fvs)\n",
    "    return scores\n",
    "\n",
    "wfs = np.random.randint(20, size=20000)\n",
    "scores = simple_model(wfs)\n",
    "scores"
   ]
  },
  {
   "cell_type": "code",
   "execution_count": 40,
   "metadata": {},
   "outputs": [
    {
     "name": "stdout",
     "output_type": "stream",
     "text": [
      "\u001b[0;31mInit signature:\u001b[0m \u001b[0mStroll\u001b[0m\u001b[0;34m(\u001b[0m\u001b[0mn_centroids\u001b[0m\u001b[0;34m=\u001b[0m\u001b[0;36m100\u001b[0m\u001b[0;34m,\u001b[0m \u001b[0mclusterer\u001b[0m\u001b[0;34m=\u001b[0m\u001b[0;34m'KMeans'\u001b[0m\u001b[0;34m,\u001b[0m \u001b[0mthreshold\u001b[0m\u001b[0;34m=\u001b[0m\u001b[0;36m2\u001b[0m\u001b[0;34m)\u001b[0m\u001b[0;34m\u001b[0m\u001b[0;34m\u001b[0m\u001b[0m\n",
      "\u001b[0;31mDocstring:\u001b[0m      <no docstring>\n",
      "\u001b[0;31mSource:\u001b[0m        \n",
      "\u001b[0;32mclass\u001b[0m \u001b[0mOutlierModel\u001b[0m\u001b[0;34m:\u001b[0m\u001b[0;34m\u001b[0m\n",
      "\u001b[0;34m\u001b[0m    \u001b[0;32mdef\u001b[0m \u001b[0m__init__\u001b[0m\u001b[0;34m(\u001b[0m\u001b[0;34m\u001b[0m\n",
      "\u001b[0;34m\u001b[0m        \u001b[0mself\u001b[0m\u001b[0;34m,\u001b[0m\u001b[0;34m\u001b[0m\n",
      "\u001b[0;34m\u001b[0m        \u001b[0mn_centroids\u001b[0m\u001b[0;34m=\u001b[0m\u001b[0mDFLT_N_CENTROIDS\u001b[0m\u001b[0;34m,\u001b[0m\u001b[0;34m\u001b[0m\n",
      "\u001b[0;34m\u001b[0m        \u001b[0mclusterer\u001b[0m\u001b[0;34m=\u001b[0m\u001b[0;34m\"KMeans\"\u001b[0m\u001b[0;34m,\u001b[0m\u001b[0;34m\u001b[0m\n",
      "\u001b[0;34m\u001b[0m        \u001b[0mthreshold\u001b[0m\u001b[0;34m=\u001b[0m\u001b[0mDFLT_ZSCORE_THRESH\u001b[0m\u001b[0;34m,\u001b[0m\u001b[0;34m\u001b[0m\n",
      "\u001b[0;34m\u001b[0m    \u001b[0;34m)\u001b[0m\u001b[0;34m:\u001b[0m\u001b[0;34m\u001b[0m\n",
      "\u001b[0;34m\u001b[0m        \u001b[0mself\u001b[0m\u001b[0;34m.\u001b[0m\u001b[0mn_centroids\u001b[0m \u001b[0;34m=\u001b[0m \u001b[0mn_centroids\u001b[0m\u001b[0;34m\u001b[0m\n",
      "\u001b[0;34m\u001b[0m        \u001b[0mself\u001b[0m\u001b[0;34m.\u001b[0m\u001b[0mclusterer\u001b[0m \u001b[0;34m=\u001b[0m \u001b[0mCLUSTERER_DICT\u001b[0m\u001b[0;34m[\u001b[0m\u001b[0mclusterer\u001b[0m\u001b[0;34m]\u001b[0m\u001b[0;34m(\u001b[0m\u001b[0mn_clusters\u001b[0m\u001b[0;34m=\u001b[0m\u001b[0mself\u001b[0m\u001b[0;34m.\u001b[0m\u001b[0mn_centroids\u001b[0m\u001b[0;34m)\u001b[0m\u001b[0;34m\u001b[0m\n",
      "\u001b[0;34m\u001b[0m        \u001b[0mself\u001b[0m\u001b[0;34m.\u001b[0m\u001b[0mthreshold\u001b[0m \u001b[0;34m=\u001b[0m \u001b[0mthreshold\u001b[0m\u001b[0;34m\u001b[0m\n",
      "\u001b[0;34m\u001b[0m        \u001b[0mself\u001b[0m\u001b[0;34m.\u001b[0m\u001b[0mdist_func\u001b[0m \u001b[0;34m=\u001b[0m \u001b[0mDIST_FUNC_DICT\u001b[0m\u001b[0;34m[\u001b[0m\u001b[0mclusterer\u001b[0m\u001b[0;34m]\u001b[0m\u001b[0;34m\u001b[0m\n",
      "\u001b[0;34m\u001b[0m\u001b[0;34m\u001b[0m\n",
      "\u001b[0;34m\u001b[0m    \u001b[0;32mdef\u001b[0m \u001b[0mfit\u001b[0m\u001b[0;34m(\u001b[0m\u001b[0mself\u001b[0m\u001b[0;34m,\u001b[0m \u001b[0mX\u001b[0m\u001b[0;34m,\u001b[0m \u001b[0my\u001b[0m\u001b[0;34m=\u001b[0m\u001b[0;32mNone\u001b[0m\u001b[0;34m)\u001b[0m\u001b[0;34m:\u001b[0m\u001b[0;34m\u001b[0m\n",
      "\u001b[0;34m\u001b[0m        \u001b[0mself\u001b[0m\u001b[0;34m.\u001b[0m\u001b[0mclusterer\u001b[0m\u001b[0;34m.\u001b[0m\u001b[0mfit\u001b[0m\u001b[0;34m(\u001b[0m\u001b[0mX\u001b[0m\u001b[0;34m)\u001b[0m\u001b[0;34m\u001b[0m\n",
      "\u001b[0;34m\u001b[0m        \u001b[0mself\u001b[0m\u001b[0;34m.\u001b[0m\u001b[0mmean_dist\u001b[0m\u001b[0;34m,\u001b[0m \u001b[0mself\u001b[0m\u001b[0;34m.\u001b[0m\u001b[0mstd_dist\u001b[0m\u001b[0;34m,\u001b[0m \u001b[0mself\u001b[0m\u001b[0;34m.\u001b[0m\u001b[0mweights\u001b[0m\u001b[0;34m,\u001b[0m \u001b[0mself\u001b[0m\u001b[0;34m.\u001b[0m\u001b[0mgroups_std\u001b[0m \u001b[0;34m=\u001b[0m \u001b[0mdist_stats\u001b[0m\u001b[0;34m(\u001b[0m\u001b[0;34m\u001b[0m\n",
      "\u001b[0;34m\u001b[0m            \u001b[0mself\u001b[0m\u001b[0;34m.\u001b[0m\u001b[0mclusterer\u001b[0m\u001b[0;34m,\u001b[0m \u001b[0mX\u001b[0m\u001b[0;34m\u001b[0m\n",
      "\u001b[0;34m\u001b[0m        \u001b[0;34m)\u001b[0m\u001b[0;34m\u001b[0m\n",
      "\u001b[0;34m\u001b[0m        \u001b[0mself\u001b[0m\u001b[0;34m.\u001b[0m\u001b[0mstd_dist\u001b[0m \u001b[0;34m=\u001b[0m \u001b[0mmax\u001b[0m\u001b[0;34m(\u001b[0m\u001b[0mself\u001b[0m\u001b[0;34m.\u001b[0m\u001b[0mstd_dist\u001b[0m\u001b[0;34m,\u001b[0m \u001b[0;36m1.0\u001b[0m\u001b[0;34m)\u001b[0m\u001b[0;34m\u001b[0m\n",
      "\u001b[0;34m\u001b[0m        \u001b[0mself\u001b[0m\u001b[0;34m.\u001b[0m\u001b[0mtraining_scores\u001b[0m \u001b[0;34m=\u001b[0m \u001b[0mself\u001b[0m\u001b[0;34m.\u001b[0m\u001b[0mscore_samples\u001b[0m\u001b[0;34m(\u001b[0m\u001b[0mX\u001b[0m\u001b[0;34m)\u001b[0m\u001b[0;34m\u001b[0m\n",
      "\u001b[0;34m\u001b[0m        \u001b[0mself\u001b[0m\u001b[0;34m.\u001b[0m\u001b[0mn_outlier_samples\u001b[0m \u001b[0;34m=\u001b[0m \u001b[0msum\u001b[0m\u001b[0;34m(\u001b[0m\u001b[0;34m\u001b[0m\n",
      "\u001b[0;34m\u001b[0m            \u001b[0;34m[\u001b[0m\u001b[0mscore\u001b[0m \u001b[0;34m>\u001b[0m \u001b[0mself\u001b[0m\u001b[0;34m.\u001b[0m\u001b[0mthreshold\u001b[0m \u001b[0;32mfor\u001b[0m \u001b[0mscore\u001b[0m \u001b[0;32min\u001b[0m \u001b[0mself\u001b[0m\u001b[0;34m.\u001b[0m\u001b[0mtraining_scores\u001b[0m\u001b[0;34m]\u001b[0m\u001b[0;34m\u001b[0m\n",
      "\u001b[0;34m\u001b[0m        \u001b[0;34m)\u001b[0m\u001b[0;34m\u001b[0m\n",
      "\u001b[0;34m\u001b[0m        \u001b[0mself\u001b[0m\u001b[0;34m.\u001b[0m\u001b[0mn_total_samples\u001b[0m \u001b[0;34m=\u001b[0m \u001b[0mlen\u001b[0m\u001b[0;34m(\u001b[0m\u001b[0mX\u001b[0m\u001b[0;34m)\u001b[0m\u001b[0;34m\u001b[0m\n",
      "\u001b[0;34m\u001b[0m        \u001b[0mself\u001b[0m\u001b[0;34m.\u001b[0m\u001b[0mcluster_centers_\u001b[0m \u001b[0;34m=\u001b[0m \u001b[0mself\u001b[0m\u001b[0;34m.\u001b[0m\u001b[0mclusterer\u001b[0m\u001b[0;34m.\u001b[0m\u001b[0mcluster_centers_\u001b[0m\u001b[0;34m\u001b[0m\n",
      "\u001b[0;34m\u001b[0m        \u001b[0;32mreturn\u001b[0m \u001b[0mself\u001b[0m\u001b[0;34m\u001b[0m\n",
      "\u001b[0;34m\u001b[0m\u001b[0;34m\u001b[0m\n",
      "\u001b[0;34m\u001b[0m    \u001b[0;32mdef\u001b[0m \u001b[0mscore_samples\u001b[0m\u001b[0;34m(\u001b[0m\u001b[0mself\u001b[0m\u001b[0;34m,\u001b[0m \u001b[0mX\u001b[0m\u001b[0;34m)\u001b[0m\u001b[0;34m:\u001b[0m\u001b[0;34m\u001b[0m\n",
      "\u001b[0;34m\u001b[0m        \u001b[0mcenters\u001b[0m \u001b[0;34m=\u001b[0m \u001b[0mself\u001b[0m\u001b[0;34m.\u001b[0m\u001b[0mclusterer\u001b[0m\u001b[0;34m.\u001b[0m\u001b[0mcluster_centers_\u001b[0m\u001b[0;34m\u001b[0m\n",
      "\u001b[0;34m\u001b[0m        \u001b[0;32mreturn\u001b[0m \u001b[0mscore\u001b[0m\u001b[0;34m(\u001b[0m\u001b[0mX\u001b[0m\u001b[0;34m,\u001b[0m \u001b[0mcenters\u001b[0m\u001b[0;34m,\u001b[0m \u001b[0mself\u001b[0m\u001b[0;34m.\u001b[0m\u001b[0mmean_dist\u001b[0m\u001b[0;34m,\u001b[0m \u001b[0mself\u001b[0m\u001b[0;34m.\u001b[0m\u001b[0mstd_dist\u001b[0m\u001b[0;34m,\u001b[0m \u001b[0mself\u001b[0m\u001b[0;34m.\u001b[0m\u001b[0mdist_func\u001b[0m\u001b[0;34m)\u001b[0m\u001b[0;34m\u001b[0m\n",
      "\u001b[0;34m\u001b[0m\u001b[0;34m\u001b[0m\n",
      "\u001b[0;34m\u001b[0m    \u001b[0;32mdef\u001b[0m \u001b[0mget_score\u001b[0m\u001b[0;34m(\u001b[0m\u001b[0mself\u001b[0m\u001b[0;34m,\u001b[0m \u001b[0mfv\u001b[0m\u001b[0;34m)\u001b[0m\u001b[0;34m:\u001b[0m\u001b[0;34m\u001b[0m\n",
      "\u001b[0;34m\u001b[0m        \u001b[0mscore\u001b[0m \u001b[0;34m=\u001b[0m \u001b[0mself\u001b[0m\u001b[0;34m.\u001b[0m\u001b[0mscore_samples\u001b[0m\u001b[0;34m(\u001b[0m\u001b[0mnp\u001b[0m\u001b[0;34m.\u001b[0m\u001b[0marray\u001b[0m\u001b[0;34m(\u001b[0m\u001b[0;34m[\u001b[0m\u001b[0mfv\u001b[0m\u001b[0;34m]\u001b[0m\u001b[0;34m)\u001b[0m\u001b[0;34m)\u001b[0m\u001b[0;34m[\u001b[0m\u001b[0;36m0\u001b[0m\u001b[0;34m]\u001b[0m\u001b[0;34m\u001b[0m\n",
      "\u001b[0;34m\u001b[0m        \u001b[0;32mreturn\u001b[0m \u001b[0;34m{\u001b[0m\u001b[0;34m'outlier_score'\u001b[0m\u001b[0;34m:\u001b[0m\u001b[0mscore\u001b[0m\u001b[0;34m}\u001b[0m\u001b[0;34m\u001b[0m\n",
      "\u001b[0;34m\u001b[0m\u001b[0;34m\u001b[0m\n",
      "\u001b[0;34m\u001b[0m    \u001b[0;32mdef\u001b[0m \u001b[0mto_jdict\u001b[0m\u001b[0;34m(\u001b[0m\u001b[0mself\u001b[0m\u001b[0;34m)\u001b[0m\u001b[0;34m:\u001b[0m\u001b[0;34m\u001b[0m\n",
      "\u001b[0;34m\u001b[0m        \u001b[0md\u001b[0m \u001b[0;34m=\u001b[0m \u001b[0mdict\u001b[0m\u001b[0;34m(\u001b[0m\u001b[0;34m)\u001b[0m\u001b[0;34m\u001b[0m\n",
      "\u001b[0;34m\u001b[0m        \u001b[0md\u001b[0m\u001b[0;34m[\u001b[0m\u001b[0;34m\"fv_len\"\u001b[0m\u001b[0;34m]\u001b[0m \u001b[0;34m=\u001b[0m \u001b[0mlen\u001b[0m\u001b[0;34m(\u001b[0m\u001b[0mself\u001b[0m\u001b[0;34m.\u001b[0m\u001b[0mclusterer\u001b[0m\u001b[0;34m.\u001b[0m\u001b[0mcluster_centers_\u001b[0m\u001b[0;34m[\u001b[0m\u001b[0;36m0\u001b[0m\u001b[0;34m]\u001b[0m\u001b[0;34m)\u001b[0m\u001b[0;34m\u001b[0m\n",
      "\u001b[0;34m\u001b[0m        \u001b[0md\u001b[0m\u001b[0;34m[\u001b[0m\u001b[0;34m\"n_centroids\"\u001b[0m\u001b[0;34m]\u001b[0m \u001b[0;34m=\u001b[0m \u001b[0mself\u001b[0m\u001b[0;34m.\u001b[0m\u001b[0mn_centroids\u001b[0m\u001b[0;34m\u001b[0m\n",
      "\u001b[0;34m\u001b[0m        \u001b[0md\u001b[0m\u001b[0;34m[\u001b[0m\u001b[0;34m\"threshold\"\u001b[0m\u001b[0;34m]\u001b[0m \u001b[0;34m=\u001b[0m \u001b[0mself\u001b[0m\u001b[0;34m.\u001b[0m\u001b[0mthreshold\u001b[0m\u001b[0;34m\u001b[0m\n",
      "\u001b[0;34m\u001b[0m        \u001b[0md\u001b[0m\u001b[0;34m[\u001b[0m\u001b[0;34m\"is_online\"\u001b[0m\u001b[0;34m]\u001b[0m \u001b[0;34m=\u001b[0m \u001b[0;32mTrue\u001b[0m\u001b[0;34m\u001b[0m\n",
      "\u001b[0;34m\u001b[0m        \u001b[0md\u001b[0m\u001b[0;34m[\u001b[0m\u001b[0;34m\"n_outlier_samples\"\u001b[0m\u001b[0;34m]\u001b[0m \u001b[0;34m=\u001b[0m \u001b[0mself\u001b[0m\u001b[0;34m.\u001b[0m\u001b[0mn_outlier_samples\u001b[0m\u001b[0;34m\u001b[0m\n",
      "\u001b[0;34m\u001b[0m        \u001b[0md\u001b[0m\u001b[0;34m[\u001b[0m\u001b[0;34m\"n_total_samples\"\u001b[0m\u001b[0;34m]\u001b[0m \u001b[0;34m=\u001b[0m \u001b[0mself\u001b[0m\u001b[0;34m.\u001b[0m\u001b[0mn_total_samples\u001b[0m\u001b[0;34m\u001b[0m\n",
      "\u001b[0;34m\u001b[0m\u001b[0;34m\u001b[0m\n",
      "\u001b[0;34m\u001b[0m        \u001b[0md\u001b[0m\u001b[0;34m[\u001b[0m\u001b[0;34m\"mean_dist\"\u001b[0m\u001b[0;34m]\u001b[0m \u001b[0;34m=\u001b[0m \u001b[0mself\u001b[0m\u001b[0;34m.\u001b[0m\u001b[0mmean_dist\u001b[0m\u001b[0;34m\u001b[0m\n",
      "\u001b[0;34m\u001b[0m        \u001b[0md\u001b[0m\u001b[0;34m[\u001b[0m\u001b[0;34m\"var_dist\"\u001b[0m\u001b[0;34m]\u001b[0m \u001b[0;34m=\u001b[0m \u001b[0mself\u001b[0m\u001b[0;34m.\u001b[0m\u001b[0mstd_dist\u001b[0m\u001b[0;34m\u001b[0m\n",
      "\u001b[0;34m\u001b[0m        \u001b[0md\u001b[0m\u001b[0;34m[\u001b[0m\u001b[0;34m\"centroids\"\u001b[0m\u001b[0;34m]\u001b[0m \u001b[0;34m=\u001b[0m \u001b[0;34m[\u001b[0m\u001b[0;34m\u001b[0m\n",
      "\u001b[0;34m\u001b[0m            \u001b[0;34m{\u001b[0m\u001b[0;34m\u001b[0m\n",
      "\u001b[0;34m\u001b[0m                \u001b[0;34m\"centroid_coord\"\u001b[0m\u001b[0;34m:\u001b[0m \u001b[0mlist\u001b[0m\u001b[0;34m(\u001b[0m\u001b[0mv\u001b[0m\u001b[0;34m)\u001b[0m\u001b[0;34m,\u001b[0m\u001b[0;34m\u001b[0m\n",
      "\u001b[0;34m\u001b[0m                \u001b[0;34m\"centroid_coord_var\"\u001b[0m\u001b[0;34m:\u001b[0m \u001b[0mself\u001b[0m\u001b[0;34m.\u001b[0m\u001b[0mgroups_std\u001b[0m\u001b[0;34m[\u001b[0m\u001b[0mk\u001b[0m\u001b[0;34m]\u001b[0m\u001b[0;34m,\u001b[0m\u001b[0;34m\u001b[0m\n",
      "\u001b[0;34m\u001b[0m                \u001b[0;34m\"centroid_weight\"\u001b[0m\u001b[0;34m:\u001b[0m \u001b[0mself\u001b[0m\u001b[0;34m.\u001b[0m\u001b[0mweights\u001b[0m\u001b[0;34m[\u001b[0m\u001b[0mk\u001b[0m\u001b[0;34m]\u001b[0m\u001b[0;34m,\u001b[0m\u001b[0;34m\u001b[0m\n",
      "\u001b[0;34m\u001b[0m            \u001b[0;34m}\u001b[0m\u001b[0;34m\u001b[0m\n",
      "\u001b[0;34m\u001b[0m            \u001b[0;32mfor\u001b[0m \u001b[0mk\u001b[0m\u001b[0;34m,\u001b[0m \u001b[0mv\u001b[0m \u001b[0;32min\u001b[0m \u001b[0menumerate\u001b[0m\u001b[0;34m(\u001b[0m\u001b[0mself\u001b[0m\u001b[0;34m.\u001b[0m\u001b[0mclusterer\u001b[0m\u001b[0;34m.\u001b[0m\u001b[0mcluster_centers_\u001b[0m\u001b[0;34m)\u001b[0m\u001b[0;34m\u001b[0m\n",
      "\u001b[0;34m\u001b[0m        \u001b[0;34m]\u001b[0m\u001b[0;34m\u001b[0m\n",
      "\u001b[0;34m\u001b[0m\u001b[0;34m\u001b[0m\n",
      "\u001b[0;34m\u001b[0m        \u001b[0;32mreturn\u001b[0m \u001b[0md\u001b[0m\u001b[0;34m\u001b[0m\u001b[0;34m\u001b[0m\u001b[0m\n",
      "\u001b[0;31mFile:\u001b[0m           ~/Desktop/dev/otosense/omodel/omodel/outliers/pystroll.py\n",
      "\u001b[0;31mType:\u001b[0m           type\n",
      "\u001b[0;31mSubclasses:\u001b[0m     \n"
     ]
    }
   ],
   "source": [
    "Stroll??"
   ]
  },
  {
   "cell_type": "code",
   "execution_count": 37,
   "metadata": {},
   "outputs": [],
   "source": [
    "import matplotlib.pyplot as plt\n",
    "scores = model.score_samples(X=fvs)"
   ]
  },
  {
   "cell_type": "code",
   "execution_count": 38,
   "metadata": {},
   "outputs": [
    {
     "data": {
      "text/plain": [
       "[<matplotlib.lines.Line2D at 0x7ff744d79ac0>]"
      ]
     },
     "execution_count": 38,
     "metadata": {},
     "output_type": "execute_result"
    },
    {
     "data": {
      "image/png": "[encoded data removed]",
      "text/plain": [
       "<Figure size 432x288 with 1 Axes>"
      ]
     },
     "metadata": {
      "needs_background": "light"
     },
     "output_type": "display_data"
    }
   ],
   "source": [
    "plt.plot(scores)"
   ]
  },
  {
   "cell_type": "code",
   "execution_count": 47,
   "metadata": {},
   "outputs": [
    {
     "ename": "NameError",
     "evalue": "name 'ch_funcs' is not defined",
     "output_type": "error",
     "traceback": [
      "\u001b[0;31m---------------------------------------------------------------------------\u001b[0m",
      "\u001b[0;31mNameError\u001b[0m                                 Traceback (most recent call last)",
      "\u001b[1;32m/Users/sylvain/Desktop/dev/otosense/plunk/plunk/sb/meshed_experiments/notebook.ipynb Cell 74\u001b[0m in \u001b[0;36m<cell line: 7>\u001b[0;34m()\u001b[0m\n\u001b[1;32m      <a href='vscode-notebook-cell:/Users/sylvain/Desktop/dev/otosense/plunk/plunk/sb/meshed_experiments/notebook.ipynb#Y133sZmlsZQ%3D%3D?line=3'>4</a>\u001b[0m \u001b[39mdef\u001b[39;00m \u001b[39mprepare\u001b[39m(x):\n\u001b[1;32m      <a href='vscode-notebook-cell:/Users/sylvain/Desktop/dev/otosense/plunk/plunk/sb/meshed_experiments/notebook.ipynb#Y133sZmlsZQ%3D%3D?line=4'>5</a>\u001b[0m     \u001b[39mreturn\u001b[39;00m x\n\u001b[0;32m----> <a href='vscode-notebook-cell:/Users/sylvain/Desktop/dev/otosense/plunk/plunk/sb/meshed_experiments/notebook.ipynb#Y133sZmlsZQ%3D%3D?line=6'>7</a>\u001b[0m \u001b[39m@ch_funcs\u001b[39m(\u001b[39mdict\u001b[39m(prepare\u001b[39m=\u001b[39mprepare))\n\u001b[1;32m      <a href='vscode-notebook-cell:/Users/sylvain/Desktop/dev/otosense/plunk/plunk/sb/meshed_experiments/notebook.ipynb#Y133sZmlsZQ%3D%3D?line=7'>8</a>\u001b[0m \u001b[39m@code_to_dag\u001b[39m\n\u001b[1;32m      <a href='vscode-notebook-cell:/Users/sylvain/Desktop/dev/otosense/plunk/plunk/sb/meshed_experiments/notebook.ipynb#Y133sZmlsZQ%3D%3D?line=8'>9</a>\u001b[0m \u001b[39mdef\u001b[39;00m \u001b[39ms\u001b[39m():\n\u001b[1;32m     <a href='vscode-notebook-cell:/Users/sylvain/Desktop/dev/otosense/plunk/plunk/sb/meshed_experiments/notebook.ipynb#Y133sZmlsZQ%3D%3D?line=9'>10</a>\u001b[0m     wfs \u001b[39m=\u001b[39m prepare(audio)\n\u001b[1;32m     <a href='vscode-notebook-cell:/Users/sylvain/Desktop/dev/otosense/plunk/plunk/sb/meshed_experiments/notebook.ipynb#Y133sZmlsZQ%3D%3D?line=10'>11</a>\u001b[0m     chks \u001b[39m=\u001b[39m chunk(wfs)\n",
      "\u001b[0;31mNameError\u001b[0m: name 'ch_funcs' is not defined"
     ]
    }
   ],
   "source": [
    "from meshed import DAG, code_to_dag\n",
    "\n",
    "\n",
    "def prepare(x):\n",
    "    return x\n",
    "\n",
    "@ch_funcs(dict(prepare=prepare))\n",
    "@code_to_dag\n",
    "def s():\n",
    "    wfs = prepare(audio)\n",
    "    chks = chunk(wfs)\n",
    "    features = featurize(chks)\n",
    "    results = model_run(features)"
   ]
  },
  {
   "cell_type": "code",
   "execution_count": 43,
   "metadata": {},
   "outputs": [
    {
     "data": {
      "text/plain": [
       "DAG(func_nodes=[FuncNode(audio -> prepare -> wfs), FuncNode(wfs -> chunk -> chks), FuncNode(chks -> featurize -> features), FuncNode(features -> model_run -> results)], name='s')"
      ]
     },
     "execution_count": 43,
     "metadata": {},
     "output_type": "execute_result"
    }
   ],
   "source": [
    "s"
   ]
  },
  {
   "cell_type": "code",
   "execution_count": 45,
   "metadata": {},
   "outputs": [
    {
     "name": "stdout",
     "output_type": "stream",
     "text": [
      "['__add__', '__annotations__', '__call__', '__class__', '__dataclass_fields__', '__dataclass_params__', '__delattr__', '__dict__', '__dir__', '__doc__', '__eq__', '__format__', '__ge__', '__getattribute__', '__getitem__', '__gt__', '__hash__', '__init__', '__init_subclass__', '__iter__', '__le__', '__lt__', '__module__', '__name__', '__ne__', '__new__', '__post_init__', '__reduce__', '__reduce_ex__', '__repr__', '__setattr__', '__signature__', '__sizeof__', '__str__', '__subclasshook__', '__weakref__', '_call', '_func_node_for', '_get_kwargs', '_getitem', '_ordered_subgraph_nodes', '_subgraph_nodes', 'add_edge', 'add_edges', 'bindings_cleaner', 'cache_last_scope', 'call_on_scope', 'ch_funcs', 'copy', 'debugger', 'dot_digraph', 'dot_digraph_ascii', 'dot_digraph_body', 'extract_output_from_scope', 'find_func_node', 'from_funcs', 'func_nodes', 'get_node_matching', 'graph', 'graph_ids', 'last_scope', 'leafs', 'name', 'new_scope', 'nodes', 'parameter_merge', 'params_for_src', 'partial', 'process_item', 'roots', 'sig', 'src_name_params', 'synopsis_string', 'var_nodes']\n"
     ]
    }
   ],
   "source": [
    "print(dir(s))"
   ]
  },
  {
   "cell_type": "code",
   "execution_count": 46,
   "metadata": {},
   "outputs": [
    {
     "name": "stdout",
     "output_type": "stream",
     "text": [
      "\u001b[0;31mSignature:\u001b[0m \u001b[0ms\u001b[0m\u001b[0;34m.\u001b[0m\u001b[0mch_funcs\u001b[0m\u001b[0;34m(\u001b[0m\u001b[0;34m**\u001b[0m\u001b[0mname_and_func\u001b[0m\u001b[0;34m)\u001b[0m\u001b[0;34m\u001b[0m\u001b[0;34m\u001b[0m\u001b[0m\n",
      "\u001b[0;31mSource:\u001b[0m   \n",
      "    \u001b[0;32mdef\u001b[0m \u001b[0mch_funcs\u001b[0m\u001b[0;34m(\u001b[0m\u001b[0mself\u001b[0m\u001b[0;34m,\u001b[0m \u001b[0;34m**\u001b[0m\u001b[0mname_and_func\u001b[0m\u001b[0;34m)\u001b[0m\u001b[0;34m:\u001b[0m\u001b[0;34m\u001b[0m\n",
      "\u001b[0;34m\u001b[0m        \u001b[0;34m\"\"\"\u001b[0m\n",
      "\u001b[0;34m        Change some of the functions in the DAG.\u001b[0m\n",
      "\u001b[0;34m        More preciseluy get a copy of the DAG where in some of the functions have\u001b[0m\n",
      "\u001b[0;34m        changed.\u001b[0m\n",
      "\u001b[0;34m\u001b[0m\n",
      "\u001b[0;34m        :param name_and_func: ``name=func`` pairs where ``name`` is the ``FuncNode.name``\u001b[0m\n",
      "\u001b[0;34m            of the func nodes you want to change and func is the function you want to\u001b[0m\n",
      "\u001b[0;34m            change it by.\u001b[0m\n",
      "\u001b[0;34m        :return: A new DAG with the different functions.\u001b[0m\n",
      "\u001b[0;34m\u001b[0m\n",
      "\u001b[0;34m        \"\"\"\u001b[0m\u001b[0;34m\u001b[0m\n",
      "\u001b[0;34m\u001b[0m\u001b[0;34m\u001b[0m\n",
      "\u001b[0;34m\u001b[0m        \u001b[0;32mdef\u001b[0m \u001b[0mch_func\u001b[0m\u001b[0;34m(\u001b[0m\u001b[0mdag\u001b[0m\u001b[0;34m,\u001b[0m \u001b[0mname\u001b[0m\u001b[0;34m,\u001b[0m \u001b[0mfunc\u001b[0m\u001b[0;34m)\u001b[0m\u001b[0;34m:\u001b[0m\u001b[0;34m\u001b[0m\n",
      "\u001b[0;34m\u001b[0m            \u001b[0;32mreturn\u001b[0m \u001b[0mDAG\u001b[0m\u001b[0;34m(\u001b[0m\u001b[0;34m\u001b[0m\n",
      "\u001b[0;34m\u001b[0m                \u001b[0mreplace_item_in_iterable\u001b[0m\u001b[0;34m(\u001b[0m\u001b[0;34m\u001b[0m\n",
      "\u001b[0;34m\u001b[0m                    \u001b[0mdag\u001b[0m\u001b[0;34m.\u001b[0m\u001b[0mfunc_nodes\u001b[0m\u001b[0;34m,\u001b[0m\u001b[0;34m\u001b[0m\n",
      "\u001b[0;34m\u001b[0m                    \u001b[0mcondition\u001b[0m\u001b[0;34m=\u001b[0m\u001b[0;32mlambda\u001b[0m \u001b[0mfn\u001b[0m\u001b[0;34m:\u001b[0m \u001b[0mfn\u001b[0m\u001b[0;34m.\u001b[0m\u001b[0mname\u001b[0m \u001b[0;34m==\u001b[0m \u001b[0mname\u001b[0m\u001b[0;34m,\u001b[0m\u001b[0;34m\u001b[0m\n",
      "\u001b[0;34m\u001b[0m                    \u001b[0mreplacement\u001b[0m\u001b[0;34m=\u001b[0m\u001b[0;32mlambda\u001b[0m \u001b[0mfn\u001b[0m\u001b[0;34m:\u001b[0m \u001b[0mch_func_node_attrs\u001b[0m\u001b[0;34m(\u001b[0m\u001b[0mfn\u001b[0m\u001b[0;34m,\u001b[0m \u001b[0mfunc\u001b[0m\u001b[0;34m=\u001b[0m\u001b[0mfunc\u001b[0m\u001b[0;34m)\u001b[0m\u001b[0;34m,\u001b[0m\u001b[0;34m\u001b[0m\n",
      "\u001b[0;34m\u001b[0m                \u001b[0;34m)\u001b[0m\u001b[0;34m\u001b[0m\n",
      "\u001b[0;34m\u001b[0m            \u001b[0;34m)\u001b[0m\u001b[0;34m\u001b[0m\n",
      "\u001b[0;34m\u001b[0m\u001b[0;34m\u001b[0m\n",
      "\u001b[0;34m\u001b[0m        \u001b[0mnew_dag\u001b[0m \u001b[0;34m=\u001b[0m \u001b[0mself\u001b[0m\u001b[0;34m\u001b[0m\n",
      "\u001b[0;34m\u001b[0m        \u001b[0;32mfor\u001b[0m \u001b[0mname\u001b[0m\u001b[0;34m,\u001b[0m \u001b[0mfunc\u001b[0m \u001b[0;32min\u001b[0m \u001b[0mname_and_func\u001b[0m\u001b[0;34m.\u001b[0m\u001b[0mitems\u001b[0m\u001b[0;34m(\u001b[0m\u001b[0;34m)\u001b[0m\u001b[0;34m:\u001b[0m\u001b[0;34m\u001b[0m\n",
      "\u001b[0;34m\u001b[0m            \u001b[0mnew_dag\u001b[0m \u001b[0;34m=\u001b[0m \u001b[0mch_func\u001b[0m\u001b[0;34m(\u001b[0m\u001b[0mnew_dag\u001b[0m\u001b[0;34m,\u001b[0m \u001b[0mname\u001b[0m\u001b[0;34m,\u001b[0m \u001b[0mfunc\u001b[0m\u001b[0;34m)\u001b[0m\u001b[0;34m\u001b[0m\n",
      "\u001b[0;34m\u001b[0m        \u001b[0;32mreturn\u001b[0m \u001b[0mnew_dag\u001b[0m\u001b[0;34m\u001b[0m\u001b[0;34m\u001b[0m\u001b[0m\n",
      "\u001b[0;31mFile:\u001b[0m      ~/Desktop/dev/otosense/meshed/meshed/dag.py\n",
      "\u001b[0;31mType:\u001b[0m      method\n"
     ]
    }
   ],
   "source": [
    "s.ch_funcs??"
   ]
  },
  {
   "cell_type": "code",
   "execution_count": null,
   "metadata": {},
   "outputs": [],
   "source": []
  }
 ],
 "metadata": {
  "interpreter": {
   "hash": "1a569799154504b406baf5195ac89fceebc6fb1ed8aa567618566bf3d18c8582"
  },
  "kernelspec": {
   "display_name": "Python 3.8.11 ('otopy38')",
   "language": "python",
   "name": "python3"
  },
  "language_info": {
   "codemirror_mode": {
    "name": "ipython",
    "version": 3
   },
   "file_extension": ".py",
   "mimetype": "text/x-python",
   "name": "python",
   "nbconvert_exporter": "python",
   "pygments_lexer": "ipython3",
   "version": "3.8.11"
  },
  "orig_nbformat": 4
 },
 "nbformat": 4,
 "nbformat_minor": 2
}
