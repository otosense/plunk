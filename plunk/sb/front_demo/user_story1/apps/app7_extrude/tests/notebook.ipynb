{
 "cells": [
  {
   "cell_type": "code",
   "execution_count": 1,
   "metadata": {},
   "outputs": [
    {
     "ename": "SyntaxError",
     "evalue": "invalid syntax (868814198.py, line 15)",
     "output_type": "error",
     "traceback": [
      "\u001b[0;36m  Input \u001b[0;32mIn [1]\u001b[0;36m\u001b[0m\n\u001b[0;31m    source = features\u001b[0m\n\u001b[0m    ^\u001b[0m\n\u001b[0;31mSyntaxError\u001b[0m\u001b[0;31m:\u001b[0m invalid syntax\n"
     ]
    }
   ],
   "source": [
    "from urllib.parse import urljoin\n",
    "import pytest\n",
    "from http2py import HttpClient\n",
    "\n",
    "from platform_poc.apps.web_service.app import API_URL\n",
    "from platform_poc.tests.data import get_data\n",
    "from platform_poc import features\n",
    "\n",
    "\n",
    "\n",
    "source = features\n",
    "\n",
    "training_data = list(get_data(\"training\", 50))\n",
    "testing_data = list(get_data(\"testing\", 50))\n",
    "\n",
    "# Load data\n",
    "source.upload_audio_data(\n",
    "    audio_data=training_data, tag=\"training\", save_name=\"my_training_data\"\n",
    ")\n",
    "source.upload_audio_data(\n",
    "    audio_data=testing_data, tag=\"testing\", save_name=\"my_testing_data\"\n",
    ")\n"
   ]
  },
  {
   "cell_type": "code",
   "execution_count": null,
   "metadata": {},
   "outputs": [],
   "source": []
  }
 ],
 "metadata": {
  "kernelspec": {
   "display_name": "otopy38",
   "language": "python",
   "name": "python3"
  },
  "language_info": {
   "codemirror_mode": {
    "name": "ipython",
    "version": 3
   },
   "file_extension": ".py",
   "mimetype": "text/x-python",
   "name": "python",
   "nbconvert_exporter": "python",
   "pygments_lexer": "ipython3",
   "version": "3.8.11"
  },
  "orig_nbformat": 4,
  "vscode": {
   "interpreter": {
    "hash": "1a569799154504b406baf5195ac89fceebc6fb1ed8aa567618566bf3d18c8582"
   }
  }
 },
 "nbformat": 4,
 "nbformat_minor": 2
}
