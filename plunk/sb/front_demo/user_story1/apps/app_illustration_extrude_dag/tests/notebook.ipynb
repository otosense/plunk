{
 "cells": [
  {
   "cell_type": "code",
   "execution_count": 2,
   "metadata": {},
   "outputs": [
    {
     "name": "stderr",
     "output_type": "stream",
     "text": [
      "/Users/sylvain/opt/anaconda3/envs/otopy310/lib/python3.10/site-packages/scipy/__init__.py:146: UserWarning: A NumPy version >=1.16.5 and <1.23.0 is required for this version of SciPy (detected version 1.23.5\n",
      "  warnings.warn(f\"A NumPy version >={np_minversion} and <{np_maxversion}\"\n"
     ]
    }
   ],
   "source": [
    "from platform_poc.data.store_factory import mk_ram_store\n",
    "\n",
    "\n",
    "mall = dict(msg_output_store=mk_ram_store(), output_output_store=mk_ram_store())\n"
   ]
  },
  {
   "cell_type": "code",
   "execution_count": 9,
   "metadata": {},
   "outputs": [],
   "source": [
    "#from mall import mall\n",
    "from meshed import code_to_dag\n",
    "from front.dag import crudify_func_nodes\n",
    "\n",
    "\n",
    "def f(x):\n",
    "    return f\"this is {x}\"\n",
    "\n",
    "\n",
    "def g(y):\n",
    "    return y.upper()\n",
    "\n",
    "\n",
    "func_src = {'f': f, 'g': g}\n",
    "\n",
    "\n",
    "def debug(ignore_this_just_click_select):\n",
    "    return mall\n",
    "\n",
    "\n",
    "@code_to_dag(func_src=func_src)\n",
    "def dag():\n",
    "    msg = f(x)\n",
    "    output = g(msg)\n",
    "\n",
    "\n",
    "cdag = crudify_func_nodes('msg output', dag)\n",
    "funcs_dag = cdag.find_funcs()\n"
   ]
  },
  {
   "cell_type": "code",
   "execution_count": 10,
   "metadata": {},
   "outputs": [
    {
     "name": "stdout",
     "output_type": "stream",
     "text": [
      "functools.partial(<function _store_on_output at 0x7f8c975d2440>, _store_on_ouput_args=(<i2.Wrap f(x)>, <Sig (x, save_name: str = '')>, {}, 'save_name', None, <function _crudified_func_nodes.<locals>.<lambda> at 0x7f8c97629b40>, <function _return_save_name at 0x7f8c975d3130>))\n"
     ]
    }
   ],
   "source": [
    "print(list(funcs_dag)[0].func)"
   ]
  },
  {
   "cell_type": "code",
   "execution_count": null,
   "metadata": {},
   "outputs": [],
   "source": []
  }
 ],
 "metadata": {
  "kernelspec": {
   "display_name": "otopy38",
   "language": "python",
   "name": "python3"
  },
  "language_info": {
   "codemirror_mode": {
    "name": "ipython",
    "version": 3
   },
   "file_extension": ".py",
   "mimetype": "text/x-python",
   "name": "python",
   "nbconvert_exporter": "python",
   "pygments_lexer": "ipython3",
   "version": "3.10.0"
  },
  "orig_nbformat": 4,
  "vscode": {
   "interpreter": {
    "hash": "1a569799154504b406baf5195ac89fceebc6fb1ed8aa567618566bf3d18c8582"
   }
  }
 },
 "nbformat": 4,
 "nbformat_minor": 2
}
