{
 "cells": [
  {
   "cell_type": "code",
   "execution_count": 49,
   "metadata": {},
   "outputs": [],
   "source": [
    "import numpy as np\n",
    "from plunk.sb.front_demo.user_story1.utils.tools import (\n",
    "    DFLT_CHUNKER,\n",
    "    DFLT_FEATURIZER,\n",
    "    chunker,\n",
    "    featurizer,\n",
    "    WaveForm,\n",
    "    Stroll,\n",
    ")\n",
    "\n",
    "# DFLT_FEATURIZER = lambda chk: np.abs(np.fft.rfft(chk))\n",
    "from know.boxes import *\n",
    "from lined import LineParametrized\n",
    "\n",
    "chunker = DFLT_CHUNKER\n",
    "def simple_featurizer(chks):\n",
    "    fvs = np.array(list(map(DFLT_FEATURIZER, chks)))\n",
    "    return fvs\n",
    "\n",
    "\n",
    "\n",
    "\n",
    "from plunk.sb.front_demo.user_story1.utils.tools import (\n",
    "    DFLT_CHUNKER,\n",
    "    DFLT_FEATURIZER,\n",
    "    chunker,\n",
    "    featurizer,\n",
    "    WaveForm,\n",
    "    Stroll,\n",
    ")\n",
    "\n",
    "# DFLT_FEATURIZER = lambda chk: np.abs(np.fft.rfft(chk))\n",
    "from know.boxes import *\n",
    "from lined import LineParametrized\n",
    "\n",
    "chunker = DFLT_CHUNKER\n",
    "\n",
    "@Sig(chunker)\n",
    "def simple_chunker(wfs):\n",
    "    return list(chunker(wfs))"
   ]
  },
  {
   "cell_type": "code",
   "execution_count": 56,
   "metadata": {},
   "outputs": [],
   "source": [
    "from i2 import Sig\n",
    "from know.boxes import *\n",
    "from lined import LineParametrized\n",
    "\n",
    "chunker = DFLT_CHUNKER\n",
    "\n",
    "@Sig(chunker)\n",
    "def simple_chunker(wfs):\n",
    "    return list(chunker(wfs))\n",
    "\n",
    "c = FuncFactory(simple_chunker)\n",
    "\n",
    "c_p = partial(c, chk_size=200)()\n",
    "assert str(Sig(c_p))== '(it, *, chk_size: int = 200)'\n"
   ]
  },
  {
   "cell_type": "code",
   "execution_count": 55,
   "metadata": {},
   "outputs": [
    {
     "data": {
      "text/plain": [
       "'(it, *, chk_size: int = 200)'"
      ]
     },
     "execution_count": 55,
     "metadata": {},
     "output_type": "execute_result"
    }
   ],
   "source": [
    "str(Sig(c_p))"
   ]
  },
  {
   "cell_type": "code",
   "execution_count": 52,
   "metadata": {},
   "outputs": [
    {
     "data": {
      "text/plain": [
       "(<Sig (it, chk_size: int = 2048) -> Callable[..., Any]>,\n",
       " <Sig (it, *, chk_size: int = 200)>)"
      ]
     },
     "execution_count": 52,
     "metadata": {},
     "output_type": "execute_result"
    }
   ],
   "source": [
    "Sig(c), Sig(c_p)"
   ]
  },
  {
   "cell_type": "code",
   "execution_count": 33,
   "metadata": {},
   "outputs": [],
   "source": [
    "res = LineParametrized(c,f)"
   ]
  },
  {
   "cell_type": "code",
   "execution_count": 34,
   "metadata": {},
   "outputs": [
    {
     "data": {
      "text/plain": [
       "<Sig (it, chk_size: int = 2048)>"
      ]
     },
     "execution_count": 34,
     "metadata": {},
     "output_type": "execute_result"
    }
   ],
   "source": [
    "Sig(res)"
   ]
  },
  {
   "cell_type": "code",
   "execution_count": 35,
   "metadata": {},
   "outputs": [
    {
     "data": {
      "text/plain": [
       "array([5, 8, 0, 0, 5, 0, 5, 6, 0, 6])"
      ]
     },
     "execution_count": 35,
     "metadata": {},
     "output_type": "execute_result"
    }
   ],
   "source": [
    "arr = np.random.randint(0,10, size=200000)\n",
    "arr[:10]"
   ]
  },
  {
   "cell_type": "code",
   "execution_count": 36,
   "metadata": {},
   "outputs": [
    {
     "data": {
      "text/plain": [
       "array([[9.22700000e+03, 2.42979728e+02, 1.10869048e+02, ...,\n",
       "        1.65127503e+02, 1.18481640e+02, 1.19000000e+02],\n",
       "       [9.15400000e+03, 6.24092241e+01, 1.56154554e+02, ...,\n",
       "        4.88148773e+01, 3.51690669e+01, 2.66000000e+02],\n",
       "       [9.09700000e+03, 1.86797675e+02, 1.07559113e+02, ...,\n",
       "        1.17269755e+02, 3.10469457e+01, 6.30000000e+01],\n",
       "       ...,\n",
       "       [9.46000000e+03, 6.57464256e+01, 2.93902711e+02, ...,\n",
       "        7.35593826e+01, 6.36345582e+01, 1.00000000e+01],\n",
       "       [9.01800000e+03, 1.29774167e+02, 7.84772397e+01, ...,\n",
       "        3.31932901e+01, 3.90561762e+01, 1.20000000e+02],\n",
       "       [9.09900000e+03, 8.60360586e+01, 9.49136227e+01, ...,\n",
       "        1.57932623e+02, 9.96730646e+01, 9.00000000e+00]])"
      ]
     },
     "execution_count": 36,
     "metadata": {},
     "output_type": "execute_result"
    }
   ],
   "source": [
    "res(arr)"
   ]
  },
  {
   "cell_type": "code",
   "execution_count": 21,
   "metadata": {},
   "outputs": [],
   "source": []
  },
  {
   "cell_type": "code",
   "execution_count": 22,
   "metadata": {},
   "outputs": [
    {
     "data": {
      "text/plain": [
       "<Sig (it, chk_size: int = 2048)>"
      ]
     },
     "execution_count": 22,
     "metadata": {},
     "output_type": "execute_result"
    }
   ],
   "source": [
    "Sig(simple_chunker)"
   ]
  },
  {
   "cell_type": "code",
   "execution_count": null,
   "metadata": {},
   "outputs": [],
   "source": []
  }
 ],
 "metadata": {
  "kernelspec": {
   "display_name": "Python 3.8.11 ('otopy38')",
   "language": "python",
   "name": "python3"
  },
  "language_info": {
   "codemirror_mode": {
    "name": "ipython",
    "version": 3
   },
   "file_extension": ".py",
   "mimetype": "text/x-python",
   "name": "python",
   "nbconvert_exporter": "python",
   "pygments_lexer": "ipython3",
   "version": "3.8.11"
  },
  "orig_nbformat": 4,
  "vscode": {
   "interpreter": {
    "hash": "1a569799154504b406baf5195ac89fceebc6fb1ed8aa567618566bf3d18c8582"
   }
  }
 },
 "nbformat": 4,
 "nbformat_minor": 2
}
