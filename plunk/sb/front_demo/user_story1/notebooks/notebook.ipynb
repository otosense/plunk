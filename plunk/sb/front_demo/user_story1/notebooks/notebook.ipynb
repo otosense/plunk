{
 "cells": [
  {
   "cell_type": "code",
   "execution_count": 49,
   "metadata": {},
   "outputs": [],
   "source": [
    "import numpy as np\n",
    "from plunk.sb.front_demo.user_story1.utils.tools import (\n",
    "    DFLT_CHUNKER,\n",
    "    DFLT_FEATURIZER,\n",
    "    chunker,\n",
    "    featurizer,\n",
    "    WaveForm,\n",
    "    Stroll,\n",
    ")\n",
    "\n",
    "# DFLT_FEATURIZER = lambda chk: np.abs(np.fft.rfft(chk))\n",
    "from know.boxes import *\n",
    "from lined import LineParametrized\n",
    "\n",
    "chunker = DFLT_CHUNKER\n",
    "def simple_featurizer(chks):\n",
    "    fvs = np.array(list(map(DFLT_FEATURIZER, chks)))\n",
    "    return fvs\n",
    "\n",
    "\n",
    "\n",
    "\n",
    "from plunk.sb.front_demo.user_story1.utils.tools import (\n",
    "    DFLT_CHUNKER,\n",
    "    DFLT_FEATURIZER,\n",
    "    chunker,\n",
    "    featurizer,\n",
    "    WaveForm,\n",
    "    Stroll,\n",
    ")\n",
    "\n",
    "# DFLT_FEATURIZER = lambda chk: np.abs(np.fft.rfft(chk))\n",
    "from know.boxes import *\n",
    "from lined import LineParametrized\n",
    "\n",
    "chunker = DFLT_CHUNKER\n",
    "\n",
    "@Sig(chunker)\n",
    "def simple_chunker(wfs):\n",
    "    return list(chunker(wfs))"
   ]
  },
  {
   "cell_type": "code",
   "execution_count": 56,
   "metadata": {},
   "outputs": [],
   "source": [
    "from i2 import Sig\n",
    "from know.boxes import *\n",
    "from lined import LineParametrized\n",
    "\n",
    "chunker = DFLT_CHUNKER\n",
    "\n",
    "@Sig(chunker)\n",
    "def simple_chunker(wfs):\n",
    "    return list(chunker(wfs))\n",
    "\n",
    "c = FuncFactory(simple_chunker)\n",
    "\n",
    "c_p = partial(c, chk_size=200)()\n",
    "assert str(Sig(c_p))== '(it, *, chk_size: int = 200)'\n"
   ]
  },
  {
   "cell_type": "code",
   "execution_count": 55,
   "metadata": {},
   "outputs": [
    {
     "data": {
      "text/plain": [
       "'(it, *, chk_size: int = 200)'"
      ]
     },
     "execution_count": 55,
     "metadata": {},
     "output_type": "execute_result"
    }
   ],
   "source": [
    "str(Sig(c_p))"
   ]
  },
  {
   "cell_type": "code",
   "execution_count": 52,
   "metadata": {},
   "outputs": [
    {
     "data": {
      "text/plain": [
       "(<Sig (it, chk_size: int = 2048) -> Callable[..., Any]>,\n",
       " <Sig (it, *, chk_size: int = 200)>)"
      ]
     },
     "execution_count": 52,
     "metadata": {},
     "output_type": "execute_result"
    }
   ],
   "source": [
    "Sig(c), Sig(c_p)"
   ]
  },
  {
   "cell_type": "code",
   "execution_count": 33,
   "metadata": {},
   "outputs": [],
   "source": [
    "res = LineParametrized(c,f)"
   ]
  },
  {
   "cell_type": "code",
   "execution_count": 34,
   "metadata": {},
   "outputs": [
    {
     "data": {
      "text/plain": [
       "<Sig (it, chk_size: int = 2048)>"
      ]
     },
     "execution_count": 34,
     "metadata": {},
     "output_type": "execute_result"
    }
   ],
   "source": [
    "Sig(res)"
   ]
  },
  {
   "cell_type": "code",
   "execution_count": 35,
   "metadata": {},
   "outputs": [
    {
     "data": {
      "text/plain": [
       "array([5, 8, 0, 0, 5, 0, 5, 6, 0, 6])"
      ]
     },
     "execution_count": 35,
     "metadata": {},
     "output_type": "execute_result"
    }
   ],
   "source": [
    "arr = np.random.randint(0,10, size=200000)\n",
    "arr[:10]"
   ]
  },
  {
   "cell_type": "code",
   "execution_count": 36,
   "metadata": {},
   "outputs": [
    {
     "data": {
      "text/plain": [
       "array([[9.22700000e+03, 2.42979728e+02, 1.10869048e+02, ...,\n",
       "        1.65127503e+02, 1.18481640e+02, 1.19000000e+02],\n",
       "       [9.15400000e+03, 6.24092241e+01, 1.56154554e+02, ...,\n",
       "        4.88148773e+01, 3.51690669e+01, 2.66000000e+02],\n",
       "       [9.09700000e+03, 1.86797675e+02, 1.07559113e+02, ...,\n",
       "        1.17269755e+02, 3.10469457e+01, 6.30000000e+01],\n",
       "       ...,\n",
       "       [9.46000000e+03, 6.57464256e+01, 2.93902711e+02, ...,\n",
       "        7.35593826e+01, 6.36345582e+01, 1.00000000e+01],\n",
       "       [9.01800000e+03, 1.29774167e+02, 7.84772397e+01, ...,\n",
       "        3.31932901e+01, 3.90561762e+01, 1.20000000e+02],\n",
       "       [9.09900000e+03, 8.60360586e+01, 9.49136227e+01, ...,\n",
       "        1.57932623e+02, 9.96730646e+01, 9.00000000e+00]])"
      ]
     },
     "execution_count": 36,
     "metadata": {},
     "output_type": "execute_result"
    }
   ],
   "source": [
    "res(arr)"
   ]
  },
  {
   "cell_type": "code",
   "execution_count": 21,
   "metadata": {},
   "outputs": [],
   "source": []
  },
  {
   "cell_type": "code",
   "execution_count": 22,
   "metadata": {},
   "outputs": [
    {
     "data": {
      "text/plain": [
       "<Sig (it, chk_size: int = 2048)>"
      ]
     },
     "execution_count": 22,
     "metadata": {},
     "output_type": "execute_result"
    }
   ],
   "source": [
    "Sig(simple_chunker)"
   ]
  },
  {
   "cell_type": "code",
   "execution_count": null,
   "metadata": {},
   "outputs": [],
   "source": []
  },
  {
   "cell_type": "markdown",
   "metadata": {},
   "source": [
    "# Tune the scores"
   ]
  },
  {
   "cell_type": "code",
   "execution_count": 1,
   "metadata": {},
   "outputs": [
    {
     "name": "stderr",
     "output_type": "stream",
     "text": [
      "<frozen importlib._bootstrap>:219: RuntimeWarning: scipy._lib.messagestream.MessageStream size changed, may indicate binary incompatibility. Expected 56 from C header, got 64 from PyObject\n",
      "/Users/sylvain/Desktop/dev/otosense/odat/odat/mdat/iatis.py:34: UserWarning: You don't have the myconfigs['oto.ini']['s3_all_ro'], which I need to be able to access s3. This means you won't be able to access the audio data.\n",
      "  warn(\"You don't have the myconfigs['oto.ini']['s3_all_ro'], which I need to be able to access s3. \"\n",
      "/Users/sylvain/opt/anaconda3/envs/otopy38/lib/python3.8/site-packages/paramiko/transport.py:219: CryptographyDeprecationWarning: Blowfish has been deprecated\n",
      "  \"class\": algorithms.Blowfish,\n",
      "OMP: Info #271: omp_set_nested routine deprecated, please use omp_set_max_active_levels instead.\n"
     ]
    }
   ],
   "source": [
    "from plunk.sb.front_demo.user_story1.utils.funcs import (\n",
    "        learn_apply_model,\n",
    "        upload_sound,\n",
    ")\n",
    "from plunk.sb.front_demo.user_story1.utils.tools import (\n",
    "DFLT_PIPELINE,\n",
    "simple_model,\n",
    "tagged_sounds_to_single_array)"
   ]
  },
  {
   "cell_type": "code",
   "execution_count": 7,
   "metadata": {},
   "outputs": [],
   "source": [
    "train_path = '/Users/sylvain/Dropbox/Otosense/ProjectsData/DrillDataset/Normal'\n",
    "train_wavs = [train_path+'normal_1.wav', train_path+'normal_2.wav']\n",
    "test_path = '/Users/sylvain/Dropbox/Otosense/ProjectsData/DrillDataset/Anomaly'\n",
    "\n"
   ]
  },
  {
   "cell_type": "code",
   "execution_count": 8,
   "metadata": {},
   "outputs": [],
   "source": [
    "from typing import List\n",
    "import soundfile as sf\n",
    "from io import BytesIO\n",
    "def tagged_sounds_to_single_array2(train_audio, tag: str):\n",
    "    sounds, tag = train_audio, tag\n",
    "    result = []\n",
    "    for sound in sounds:\n",
    "        # if not isinstance(sound, bytes):\n",
    "        #sound = sound.getvalue()\n",
    "        arr = sf.read(BytesIO(sound), dtype='int16')[0]\n",
    "        result.append(arr)\n",
    "    # print(np.hstack(result))\n",
    "    return np.hstack(result).reshape(-1, 1), tag"
   ]
  },
  {
   "cell_type": "code",
   "execution_count": 9,
   "metadata": {},
   "outputs": [
    {
     "ename": "TypeError",
     "evalue": "a bytes-like object is required, not 'str'",
     "output_type": "error",
     "traceback": [
      "\u001b[0;31m---------------------------------------------------------------------------\u001b[0m",
      "\u001b[0;31mTypeError\u001b[0m                                 Traceback (most recent call last)",
      "\u001b[1;32m/Users/sylvain/Desktop/dev/otosense/plunk/plunk/sb/front_demo/user_story1/notebooks/notebook.ipynb Cell 16\u001b[0m in \u001b[0;36m<cell line: 1>\u001b[0;34m()\u001b[0m\n\u001b[0;32m----> <a href='vscode-notebook-cell:/Users/sylvain/Desktop/dev/otosense/plunk/plunk/sb/front_demo/user_story1/notebooks/notebook.ipynb#X20sZmlsZQ%3D%3D?line=0'>1</a>\u001b[0m tagged_sounds_to_single_array2(train_wavs, \u001b[39m'\u001b[39;49m\u001b[39mnormal\u001b[39;49m\u001b[39m'\u001b[39;49m)\n",
      "\u001b[1;32m/Users/sylvain/Desktop/dev/otosense/plunk/plunk/sb/front_demo/user_story1/notebooks/notebook.ipynb Cell 16\u001b[0m in \u001b[0;36mtagged_sounds_to_single_array2\u001b[0;34m(train_audio, tag)\u001b[0m\n\u001b[1;32m      <a href='vscode-notebook-cell:/Users/sylvain/Desktop/dev/otosense/plunk/plunk/sb/front_demo/user_story1/notebooks/notebook.ipynb#X20sZmlsZQ%3D%3D?line=5'>6</a>\u001b[0m result \u001b[39m=\u001b[39m []\n\u001b[1;32m      <a href='vscode-notebook-cell:/Users/sylvain/Desktop/dev/otosense/plunk/plunk/sb/front_demo/user_story1/notebooks/notebook.ipynb#X20sZmlsZQ%3D%3D?line=6'>7</a>\u001b[0m \u001b[39mfor\u001b[39;00m sound \u001b[39min\u001b[39;00m sounds:\n\u001b[1;32m      <a href='vscode-notebook-cell:/Users/sylvain/Desktop/dev/otosense/plunk/plunk/sb/front_demo/user_story1/notebooks/notebook.ipynb#X20sZmlsZQ%3D%3D?line=7'>8</a>\u001b[0m     \u001b[39m# if not isinstance(sound, bytes):\u001b[39;00m\n\u001b[1;32m      <a href='vscode-notebook-cell:/Users/sylvain/Desktop/dev/otosense/plunk/plunk/sb/front_demo/user_story1/notebooks/notebook.ipynb#X20sZmlsZQ%3D%3D?line=8'>9</a>\u001b[0m     \u001b[39m#sound = sound.getvalue()\u001b[39;00m\n\u001b[0;32m---> <a href='vscode-notebook-cell:/Users/sylvain/Desktop/dev/otosense/plunk/plunk/sb/front_demo/user_story1/notebooks/notebook.ipynb#X20sZmlsZQ%3D%3D?line=9'>10</a>\u001b[0m     arr \u001b[39m=\u001b[39m sf\u001b[39m.\u001b[39mread(BytesIO(sound), dtype\u001b[39m=\u001b[39m\u001b[39m'\u001b[39m\u001b[39mint16\u001b[39m\u001b[39m'\u001b[39m)[\u001b[39m0\u001b[39m]\n\u001b[1;32m     <a href='vscode-notebook-cell:/Users/sylvain/Desktop/dev/otosense/plunk/plunk/sb/front_demo/user_story1/notebooks/notebook.ipynb#X20sZmlsZQ%3D%3D?line=10'>11</a>\u001b[0m     result\u001b[39m.\u001b[39mappend(arr)\n\u001b[1;32m     <a href='vscode-notebook-cell:/Users/sylvain/Desktop/dev/otosense/plunk/plunk/sb/front_demo/user_story1/notebooks/notebook.ipynb#X20sZmlsZQ%3D%3D?line=11'>12</a>\u001b[0m \u001b[39m# print(np.hstack(result))\u001b[39;00m\n",
      "\u001b[0;31mTypeError\u001b[0m: a bytes-like object is required, not 'str'"
     ]
    }
   ],
   "source": [
    "tagged_sounds_to_single_array2(train_wavs, 'normal')\n",
    "#learn_apply_model(train_path, pipeline=DFLT_PIPELINE)"
   ]
  },
  {
   "cell_type": "markdown",
   "metadata": {},
   "source": [
    "# Using components"
   ]
  },
  {
   "cell_type": "code",
   "execution_count": null,
   "metadata": {},
   "outputs": [],
   "source": [
    "from plunk.sb.front_demo.user_story1.utils.funcs import upload_sound\n",
    "from pprint import pprint\n",
    "from plunk.sb.front_demo.user_story1.utils.simple_config import Component\n",
    "upload_component = Component(func=upload_sound)\n",
    "pprint(upload_component.to_dict())\n",
    "result = upload_component.mk_configs(\n",
    "    {\n",
    "        'execution.inputs.train_audio': {\n",
    "            ELEMENT_KEY: FileUploader,\n",
    "            'type': 'wav',\n",
    "            'accept_multiple_files': True,\n",
    "        },\n",
    "    }\n",
    ")\n",
    "pprint(upload_component.to_dict())"
   ]
  },
  {
   "cell_type": "code",
   "execution_count": null,
   "metadata": {},
   "outputs": [],
   "source": [
    "from dataclasses import dataclass\n",
    "from front.elements import FrontComponentBase\n",
    "import streamlit as st\n",
    "\n",
    "\n",
    "@dataclass\n",
    "class ViewFuncWithConfigs(FrontComponentBase):\n",
    "    use_container_width: bool = False\n",
    "\n",
    "    def render(self):\n",
    "        with st.expander(self.name, True):\n",
    "            func: FuncWithConfigs = self.obj\n",
    "            print(func.__name__)\n",
    "\n",
    "\n",
    "\n",
    "def mk_specs(convention):\n",
    "    for k,v in convention:\n",
    "        if callable(v):\n",
    "            #do something: expand the config: routing!\n",
    "            pass\n",
    "    pass\n",
    "\n",
    "def ui_minting(objs_mint, ui_obj_specs):\n",
    "    config = {}\n",
    "    return objs_mint, config\n",
    "\n",
    "def prepare_for_mk_app(funcs:List[FuncsWithConfigs]):\n",
    "    prepared_funcs =[]\n",
    "    config ={}\n",
    "    return prepared_funcs, config"
   ]
  },
  {
   "cell_type": "code",
   "execution_count": null,
   "metadata": {},
   "outputs": [],
   "source": []
  },
  {
   "cell_type": "code",
   "execution_count": 9,
   "metadata": {},
   "outputs": [],
   "source": [
    "from streamlitfront.spec_maker import DFLT_CONVENTION_DICT\n",
    "# DFLT_CONVENTION_DICT = deep_merge(\n",
    "#     BASE_DFLT_CONVENTION,\n",
    "#     {\n",
    "#        APP_KEY: {'title': 'My Streamlit Front Application'},\n",
    "#        RENDERING_KEY: {\n",
    "#            ELEMENT_KEY: App,\n",
    "#            Callable: {\n",
    "#                ELEMENT_KEY: View,\n",
    "#                'description': {ELEMENT_KEY: TextSection,},\n",
    "#                'execution': {\n",
    "#                    ELEMENT_KEY: ExecSection,\n",
    "#                    'inputs': {\n",
    "#                        bool: {ELEMENT_KEY: BooleanInput,},\n",
    "#                        int: {ELEMENT_KEY: IntInput,},\n",
    "#                        float: {ELEMENT_KEY: FloatInput,},\n",
    "#                        Literal: {ELEMENT_KEY: SelectBox,},\n",
    "#                        'kwargs': {ELEMENT_KEY: KwargsInput,},\n",
    "#                        Any: {ELEMENT_KEY: TextInput,},\n",
    "#                        DEFAULT_INPUT_KEY: {'bound_data_factory': BoundData},\n",
    "#                    },\n",
    "#                    'output': {ELEMENT_KEY: TextOutput,},\n",
    "#                },\n",
    "#            },\n",
    "#        },\n",
    "# },\n",
    "# )"
   ]
  },
  {
   "cell_type": "code",
   "execution_count": null,
   "metadata": {},
   "outputs": [],
   "source": []
  }
 ],
 "metadata": {
  "kernelspec": {
   "display_name": "Python 3.8.11 ('otopy38')",
   "language": "python",
   "name": "python3"
  },
  "language_info": {
   "codemirror_mode": {
    "name": "ipython",
    "version": 3
   },
   "file_extension": ".py",
   "mimetype": "text/x-python",
   "name": "python",
   "nbconvert_exporter": "python",
   "pygments_lexer": "ipython3",
   "version": "3.8.11 (default, Aug  6 2021, 08:56:27) \n[Clang 10.0.0 ]"
  },
  "orig_nbformat": 4,
  "vscode": {
   "interpreter": {
    "hash": "1a569799154504b406baf5195ac89fceebc6fb1ed8aa567618566bf3d18c8582"
   }
  }
 },
 "nbformat": 4,
 "nbformat_minor": 2
}
