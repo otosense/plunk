{
 "cells": [
  {
   "cell_type": "code",
   "execution_count": 7,
   "id": "9efbab11-3bc1-49c0-aa2f-407e34484583",
   "metadata": {},
   "outputs": [
    {
     "data": {
      "text/plain": [
       "[('this', 'func', 'that'), ('The, quick', 'brown', 'fox, jumps')]"
      ]
     },
     "execution_count": 7,
     "metadata": {},
     "output_type": "execute_result"
    }
   ],
   "source": [
    "import pandas as pd\n",
    "import streamlit as st\n",
    "import graphviz\n",
    "\n",
    "\n",
    "# TODO: How do we make this in front (beyond the \"put it in render\")?\n",
    "\n",
    "\n",
    "df = pd.DataFrame(\n",
    "    [['this', 'func', 'that'], ['The, quick', 'brown', 'fox, jumps']],\n",
    "    columns=[\"Outputs\", \"Function\", \"Inputs\"],\n",
    ")\n",
    "\n",
    "\n",
    "\n",
    "\n",
    "def df_to_triples(df):\n",
    "    for row in df.itertuples():\n",
    "        yield row.Outputs, row.Function, row.Inputs\n",
    "\n",
    "\n",
    "def triple_to_edges(triple_gen):\n",
    "    for outputs, func, inputs in triple_gen:\n",
    "    #outputs, func, inputs = triple\n",
    "        func = func.strip()\n",
    "        for output in outputs.split(','):\n",
    "            for input in inputs.split(','):\n",
    "                yield output.strip(), func\n",
    "                yield func, input.strip()\n",
    "\n",
    "\n",
    "from dol import Pipe\n",
    "\n",
    "row_to_edges = Pipe(df_to_triples, triple_to_edges)\n",
    "list(df_to_triples(df))"
   ]
  },
  {
   "cell_type": "code",
   "execution_count": 8,
   "id": "3bfceed6-c918-47ce-ac1e-acca2ef19dfd",
   "metadata": {},
   "outputs": [
    {
     "data": {
      "text/plain": [
       "[('this', 'func'),\n",
       " ('func', 'that'),\n",
       " ('The', 'brown'),\n",
       " ('brown', 'fox'),\n",
       " ('The', 'brown'),\n",
       " ('brown', 'jumps'),\n",
       " ('quick', 'brown'),\n",
       " ('brown', 'fox'),\n",
       " ('quick', 'brown'),\n",
       " ('brown', 'jumps')]"
      ]
     },
     "execution_count": 8,
     "metadata": {},
     "output_type": "execute_result"
    }
   ],
   "source": [
    "list(row_to_edges(df))"
   ]
  },
  {
   "cell_type": "code",
   "execution_count": 9,
   "id": "0b3cd7ae-7b53-4d55-bceb-2139373fd791",
   "metadata": {},
   "outputs": [
    {
     "data": {
      "text/plain": [
       "<map at 0x7fce4ede0040>"
      ]
     },
     "execution_count": 9,
     "metadata": {},
     "output_type": "execute_result"
    }
   ],
   "source": [
    "df.itertuples()"
   ]
  },
  {
   "cell_type": "code",
   "execution_count": 10,
   "id": "202c4592-f9ac-4714-a33f-e042317b99cd",
   "metadata": {},
   "outputs": [
    {
     "name": "stderr",
     "output_type": "stream",
     "text": [
      "2023-05-10 10:14:45.909 \n",
      "  \u001b[33m\u001b[1mWarning:\u001b[0m to view this Streamlit app on a browser, run it with the following\n",
      "  command:\n",
      "\n",
      "    streamlit run /Users/sylvain/opt/anaconda3/envs/otopy310/lib/python3.10/site-packages/ipykernel_launcher.py [ARGUMENTS]\n"
     ]
    }
   ],
   "source": [
    "import streamlit as st\n",
    "edited_df = st.experimental_data_editor(df, num_rows=\"dynamic\")"
   ]
  },
  {
   "cell_type": "code",
   "execution_count": 12,
   "id": "5fb1e16c-35b8-4c33-b390-f4dd0819484f",
   "metadata": {},
   "outputs": [
    {
     "data": {
      "text/plain": [
       "[Pandas(Index=0, Outputs='this', Function='func', Inputs='that'),\n",
       " Pandas(Index=1, Outputs='The, quick', Function='brown', Inputs='fox, jumps')]"
      ]
     },
     "execution_count": 12,
     "metadata": {},
     "output_type": "execute_result"
    }
   ],
   "source": [
    "list(edited_df.itertuples())"
   ]
  },
  {
   "cell_type": "code",
   "execution_count": 20,
   "id": "413c8645-e827-4d9f-a60d-354c8f89d752",
   "metadata": {},
   "outputs": [
    {
     "data": {
      "text/plain": [
       "Index(['Outputs', 'Function', 'Inputs'], dtype='object')"
      ]
     },
     "execution_count": 20,
     "metadata": {},
     "output_type": "execute_result"
    }
   ],
   "source": [
    "list(edited_df.iterrows())[0][1].keys()"
   ]
  },
  {
   "cell_type": "code",
   "execution_count": 21,
   "id": "28733c2d-1921-4a98-9916-9cf82743c798",
   "metadata": {},
   "outputs": [],
   "source": [
    "from meshed import DAG, code_to_dag"
   ]
  },
  {
   "cell_type": "code",
   "execution_count": 22,
   "id": "2e5194b1-bd3a-4d8d-ad9f-476b6e31ab15",
   "metadata": {},
   "outputs": [],
   "source": [
    "dag_string= \"\"\"\n",
    "out = chunker(wf)\n",
    "\"\"\""
   ]
  },
  {
   "cell_type": "code",
   "execution_count": 23,
   "id": "773f9968-50bb-4284-bdc6-b31ece92fed9",
   "metadata": {},
   "outputs": [
    {
     "ename": "AttributeError",
     "evalue": "'Assign' object has no attribute 'body'",
     "output_type": "error",
     "traceback": [
      "\u001b[0;31m---------------------------------------------------------------------------\u001b[0m",
      "\u001b[0;31mAttributeError\u001b[0m                            Traceback (most recent call last)",
      "Input \u001b[0;32mIn [23]\u001b[0m, in \u001b[0;36m<cell line: 1>\u001b[0;34m()\u001b[0m\n\u001b[0;32m----> 1\u001b[0m \u001b[43mcode_to_dag\u001b[49m\u001b[43m(\u001b[49m\u001b[43mdag_string\u001b[49m\u001b[43m)\u001b[49m\n",
      "File \u001b[0;32m~/opt/anaconda3/envs/otopy310/lib/python3.10/site-packages/i2/deco.py:220\u001b[0m, in \u001b[0;36m_double_up_as_factory\u001b[0;34m(wrapped, __decorator_func, *args, **kwargs)\u001b[0m\n\u001b[1;32m    218\u001b[0m     \u001b[38;5;28;01mreturn\u001b[39;00m partial(__decorator_func, \u001b[38;5;241m*\u001b[39m\u001b[38;5;241m*\u001b[39mkwargs)\n\u001b[1;32m    219\u001b[0m \u001b[38;5;28;01melse\u001b[39;00m:\n\u001b[0;32m--> 220\u001b[0m     \u001b[38;5;28;01mreturn\u001b[39;00m \u001b[43m__decorator_func\u001b[49m\u001b[43m(\u001b[49m\u001b[43mwrapped\u001b[49m\u001b[43m,\u001b[49m\u001b[43m \u001b[49m\u001b[38;5;241;43m*\u001b[39;49m\u001b[43margs\u001b[49m\u001b[43m,\u001b[49m\u001b[43m \u001b[49m\u001b[38;5;241;43m*\u001b[39;49m\u001b[38;5;241;43m*\u001b[39;49m\u001b[43mkwargs\u001b[49m\u001b[43m)\u001b[49m\n",
      "File \u001b[0;32m~/Desktop/dev/otosense/meshed/meshed/makers.py:512\u001b[0m, in \u001b[0;36mcode_to_dag\u001b[0;34m(src, func_src, use_place_holder_fallback, name)\u001b[0m\n\u001b[1;32m    503\u001b[0m \u001b[38;5;129m@double_up_as_factory\u001b[39m\n\u001b[1;32m    504\u001b[0m \u001b[38;5;28;01mdef\u001b[39;00m \u001b[38;5;21mcode_to_dag\u001b[39m(\n\u001b[1;32m    505\u001b[0m     src\u001b[38;5;241m=\u001b[39m\u001b[38;5;28;01mNone\u001b[39;00m,\n\u001b[0;32m   (...)\u001b[0m\n\u001b[1;32m    509\u001b[0m     name: \u001b[38;5;28mstr\u001b[39m \u001b[38;5;241m=\u001b[39m \u001b[38;5;28;01mNone\u001b[39;00m,\n\u001b[1;32m    510\u001b[0m ) \u001b[38;5;241m-\u001b[39m\u001b[38;5;241m>\u001b[39m DAG:\n\u001b[1;32m    511\u001b[0m \u001b[38;5;250m    \u001b[39m\u001b[38;5;124;03m\"\"\"Get a ``meshed.DAG`` from src code\"\"\"\u001b[39;00m\n\u001b[0;32m--> 512\u001b[0m     fnodes \u001b[38;5;241m=\u001b[39m \u001b[43mcode_to_fnodes\u001b[49m\u001b[43m(\u001b[49m\n\u001b[1;32m    513\u001b[0m \u001b[43m        \u001b[49m\u001b[43msrc\u001b[49m\u001b[43m,\u001b[49m\u001b[43m \u001b[49m\u001b[43mfunc_src\u001b[49m\u001b[38;5;241;43m=\u001b[39;49m\u001b[43mfunc_src\u001b[49m\u001b[43m,\u001b[49m\u001b[43m \u001b[49m\u001b[43muse_place_holder_fallback\u001b[49m\u001b[38;5;241;43m=\u001b[39;49m\u001b[43muse_place_holder_fallback\u001b[49m\n\u001b[1;32m    514\u001b[0m \u001b[43m    \u001b[49m\u001b[43m)\u001b[49m\n\u001b[1;32m    515\u001b[0m     \u001b[38;5;28;01mreturn\u001b[39;00m DAG(fnodes, name\u001b[38;5;241m=\u001b[39m_ensure_name(name, src))\n",
      "File \u001b[0;32m~/opt/anaconda3/envs/otopy310/lib/python3.10/site-packages/i2/deco.py:220\u001b[0m, in \u001b[0;36m_double_up_as_factory\u001b[0;34m(wrapped, __decorator_func, *args, **kwargs)\u001b[0m\n\u001b[1;32m    218\u001b[0m     \u001b[38;5;28;01mreturn\u001b[39;00m partial(__decorator_func, \u001b[38;5;241m*\u001b[39m\u001b[38;5;241m*\u001b[39mkwargs)\n\u001b[1;32m    219\u001b[0m \u001b[38;5;28;01melse\u001b[39;00m:\n\u001b[0;32m--> 220\u001b[0m     \u001b[38;5;28;01mreturn\u001b[39;00m \u001b[43m__decorator_func\u001b[49m\u001b[43m(\u001b[49m\u001b[43mwrapped\u001b[49m\u001b[43m,\u001b[49m\u001b[43m \u001b[49m\u001b[38;5;241;43m*\u001b[39;49m\u001b[43margs\u001b[49m\u001b[43m,\u001b[49m\u001b[43m \u001b[49m\u001b[38;5;241;43m*\u001b[39;49m\u001b[38;5;241;43m*\u001b[39;49m\u001b[43mkwargs\u001b[49m\u001b[43m)\u001b[49m\n",
      "File \u001b[0;32m~/Desktop/dev/otosense/meshed/meshed/makers.py:500\u001b[0m, in \u001b[0;36mcode_to_fnodes\u001b[0;34m(src, func_src, use_place_holder_fallback)\u001b[0m\n\u001b[1;32m    498\u001b[0m func_src \u001b[38;5;241m=\u001b[39m _ensure_func_src(func_src, use_place_holder_fallback)\n\u001b[1;32m    499\u001b[0m \u001b[38;5;66;03m# Pass on to _code_to_fnodes to get func nodes iterable needed to make DAG\u001b[39;00m\n\u001b[0;32m--> 500\u001b[0m \u001b[38;5;28;01mreturn\u001b[39;00m \u001b[38;5;28mtuple\u001b[39m(\u001b[43m_code_to_fnodes\u001b[49m\u001b[43m(\u001b[49m\u001b[43msrc\u001b[49m\u001b[43m,\u001b[49m\u001b[43m \u001b[49m\u001b[43mfunc_src\u001b[49m\u001b[43m)\u001b[49m)\n",
      "File \u001b[0;32m~/Desktop/dev/otosense/meshed/meshed/makers.py:470\u001b[0m, in \u001b[0;36m_code_to_fnodes\u001b[0;34m(src, func_src)\u001b[0m\n\u001b[1;32m    468\u001b[0m \u001b[38;5;28;01mdef\u001b[39;00m \u001b[38;5;21m_code_to_fnodes\u001b[39m(src, func_src\u001b[38;5;241m=\u001b[39mdlft_factory_to_func):\n\u001b[1;32m    469\u001b[0m     \u001b[38;5;66;03m# Make all the funodes, but partial ones that don't have the func defined yet\u001b[39;00m\n\u001b[0;32m--> 470\u001b[0m     fnodes_factories \u001b[38;5;241m=\u001b[39m \u001b[38;5;28;43mlist\u001b[39;49m\u001b[43m(\u001b[49m\u001b[43msrc_to_func_node_factory\u001b[49m\u001b[43m(\u001b[49m\u001b[43msrc\u001b[49m\u001b[43m)\u001b[49m\u001b[43m)\u001b[49m\n\u001b[1;32m    471\u001b[0m     \u001b[38;5;66;03m# \"Inject\" the actual functions\u001b[39;00m\n\u001b[1;32m    472\u001b[0m     \u001b[38;5;28;01mreturn\u001b[39;00m mk_fnodes_from_fn_factories(fnodes_factories, func_src)\n",
      "File \u001b[0;32m~/Desktop/dev/otosense/meshed/meshed/makers.py:390\u001b[0m, in \u001b[0;36msrc_to_func_node_factory\u001b[0;34m(src, exclude_names)\u001b[0m\n\u001b[1;32m    384\u001b[0m \u001b[38;5;250m\u001b[39m\u001b[38;5;124;03m\"\"\"\u001b[39;00m\n\u001b[1;32m    385\u001b[0m \u001b[38;5;124;03m:param src: Callable or string of callable.\u001b[39;00m\n\u001b[1;32m    386\u001b[0m \u001b[38;5;124;03m:param exclude_names: Names to exclude when making func_nodes\u001b[39;00m\n\u001b[1;32m    387\u001b[0m \u001b[38;5;124;03m:return:\u001b[39;00m\n\u001b[1;32m    388\u001b[0m \u001b[38;5;124;03m\"\"\"\u001b[39;00m\n\u001b[1;32m    389\u001b[0m exclude_names \u001b[38;5;241m=\u001b[39m \u001b[38;5;28mset\u001b[39m(exclude_names \u001b[38;5;129;01mor\u001b[39;00m \u001b[38;5;28mset\u001b[39m())\n\u001b[0;32m--> 390\u001b[0m \u001b[38;5;28;01mfor\u001b[39;00m i, target_value \u001b[38;5;129;01min\u001b[39;00m \u001b[38;5;28menumerate\u001b[39m(parse_assignment_steps(src), \u001b[38;5;241m1\u001b[39m):\n\u001b[1;32m    391\u001b[0m     \u001b[38;5;28;01mfor\u001b[39;00m node_kwargs \u001b[38;5;129;01min\u001b[39;00m parsed_to_node_kwargs(target_value):\n\u001b[1;32m    392\u001b[0m         node_kwargs[\u001b[38;5;124m'\u001b[39m\u001b[38;5;124mfunc_label\u001b[39m\u001b[38;5;124m'\u001b[39m] \u001b[38;5;241m=\u001b[39m node_kwargs[\u001b[38;5;124m'\u001b[39m\u001b[38;5;124mname\u001b[39m\u001b[38;5;124m'\u001b[39m]\n",
      "File \u001b[0;32m~/Desktop/dev/otosense/meshed/meshed/makers.py:370\u001b[0m, in \u001b[0;36mparse_assignment_steps\u001b[0;34m(src)\u001b[0m\n\u001b[1;32m    366\u001b[0m func_body \u001b[38;5;241m=\u001b[39m root\u001b[38;5;241m.\u001b[39mbody[\u001b[38;5;241m0\u001b[39m]\n\u001b[1;32m    367\u001b[0m \u001b[38;5;66;03m# TODO: work with func_body.args to get info on interface (name, args, kwargs,\u001b[39;00m\n\u001b[1;32m    368\u001b[0m \u001b[38;5;66;03m#  return etc.)\u001b[39;00m\n\u001b[1;32m    369\u001b[0m \u001b[38;5;66;03m#     return func_body\u001b[39;00m\n\u001b[0;32m--> 370\u001b[0m \u001b[38;5;28;01mfor\u001b[39;00m body \u001b[38;5;129;01min\u001b[39;00m \u001b[43mfunc_body\u001b[49m\u001b[38;5;241;43m.\u001b[39;49m\u001b[43mbody\u001b[49m:\n\u001b[1;32m    371\u001b[0m     \u001b[38;5;28;01myield\u001b[39;00m parse_assignment(body)\n",
      "\u001b[0;31mAttributeError\u001b[0m: 'Assign' object has no attribute 'body'"
     ]
    }
   ],
   "source": [
    "code_to_dag(dag_string)"
   ]
  },
  {
   "cell_type": "code",
   "execution_count": 34,
   "id": "72fc8e26-17fe-4754-989e-56ac3a82d882",
   "metadata": {},
   "outputs": [],
   "source": [
    "from meshed.makers import parse_assignment_steps, parsed_to_node_kwargs\n",
    "def foo():\n",
    "    x = func1(a, b)\n",
    "    y = func2(x, func1, c, d=x)\n",
    "    \n"
   ]
  },
  {
   "cell_type": "code",
   "execution_count": 35,
   "id": "1c05fc9e-08e2-432f-8278-c122f1649d8e",
   "metadata": {},
   "outputs": [],
   "source": [
    "from typing import Iterator, Union\n",
    "from meshed import FuncNode\n",
    "from meshed.makers import FuncNodeFactory, node_kwargs_to_func_node_factory,mk_fnodes_from_fn_factories, src_to_func_node_factory\n",
    "# def src_to_func_node_factory(\n",
    "#     src, exclude_names=None\n",
    "# ) -> Iterator[Union[FuncNode, FuncNodeFactory]]:\n",
    "#     \"\"\"\n",
    "#     :param src: Callable or string of callable.\n",
    "#     :param exclude_names: Names to exclude when making func_nodes\n",
    "#     :return:\n",
    "#     \"\"\"\n",
    "#     exclude_names = set(exclude_names or set())\n",
    "#     for i, target_value in enumerate(parse_assignment_steps(src), 1):\n",
    "#         #print(i, target_value)\n",
    "#         for node_kwargs in parsed_to_node_kwargs(target_value):\n",
    "#             print(node_kwargs)\n",
    "#             node_kwargs['func_label'] = node_kwargs['name']\n",
    "#             if node_kwargs['name'] in exclude_names:\n",
    "#                 # need to keep names uniques, so add a prefix to (hope) to get uniqueness\n",
    "#                 node_kwargs['name'] += f'_{i:02.0f}'\n",
    "#             exclude_names.add(node_kwargs['name'])\n",
    "#             yield node_kwargs_to_func_node_factory(node_kwargs)"
   ]
  },
  {
   "cell_type": "code",
   "execution_count": 36,
   "id": "60ca2bc7-9055-4393-b522-b619266effb8",
   "metadata": {},
   "outputs": [
    {
     "name": "stdout",
     "output_type": "stream",
     "text": [
      "functools.partial(<class 'meshed.base.FuncNode'>, name='func1', out='x', bind={0: 'a', 1: 'b'}, func_label='func1')\n"
     ]
    }
   ],
   "source": [
    ">>> fnodes_factories=list(src_to_func_node_factory(foo))\n",
    ">>> from meshed.dag import DAG\n",
    ">>> from meshed.makers import mk_fnodes_from_fn_factories\n",
    ">>> print(fnodes_factories[0])\n",
    "#>>> fnodes = list(mk_fnodes_from_fn_factories(fnodes_factories))\n",
    "#>>> dag = DAG(fnodes)"
   ]
  },
  {
   "cell_type": "code",
   "execution_count": 37,
   "id": "62c8e3a7-79d8-4e19-9c99-d9aae10d11ed",
   "metadata": {},
   "outputs": [
    {
     "data": {
      "text/plain": [
       "<Sig (func: Callable, *, name: str = 'func1', bind: dict = {0: 'a', 1: 'b'}, out: str = 'x', func_label: str = 'func1', names_maker: Callable = <function underscore_func_node_names_maker at 0x7fde552adab0>, node_validator: Callable = <function basic_node_validator at 0x7fde55387ac0>) -> None>"
      ]
     },
     "execution_count": 37,
     "metadata": {},
     "output_type": "execute_result"
    }
   ],
   "source": [
    "from i2 import Sig\n",
    "ffact = fnodes_factories[0]\n",
    "Sig(ffact)"
   ]
  },
  {
   "cell_type": "code",
   "execution_count": 38,
   "id": "d6e68401-6a21-4d54-93b9-e44609e779a8",
   "metadata": {},
   "outputs": [],
   "source": [
    "def my_func1(a,b):\n",
    "    return a"
   ]
  },
  {
   "cell_type": "code",
   "execution_count": 39,
   "id": "505d46ca-81e5-4d2b-ad41-6d7c6fa70a4a",
   "metadata": {},
   "outputs": [
    {
     "data": {
      "text/plain": [
       "FuncNode(a,b -> func1 -> x)"
      ]
     },
     "execution_count": 39,
     "metadata": {},
     "output_type": "execute_result"
    }
   ],
   "source": [
    "ffact(func =my_func1)"
   ]
  },
  {
   "cell_type": "code",
   "execution_count": null,
   "id": "bfead952-07aa-4fe6-aeed-ba9d003bd72a",
   "metadata": {},
   "outputs": [],
   "source": []
  },
  {
   "cell_type": "code",
   "execution_count": 33,
   "id": "ac80f21e-c18d-4a08-9d24-fd448b5b1a77",
   "metadata": {},
   "outputs": [
    {
     "name": "stdout",
     "output_type": "stream",
     "text": [
      "src_to_wf,data_src -> call -> wfs\n",
      "chunker,wfs -> map -> chks_iter\n",
      "chks_iter -> chain -> chks\n",
      "featurizer,chks -> map_04 -> fvs\n",
      "model,fvs -> map_05 -> model_outputs\n"
     ]
    }
   ],
   "source": [
    ">>> def user_story():\n",
    "...     wfs = call(src_to_wf, data_src)\n",
    "...     chks_iter = map(chunker, wfs)\n",
    "...     chks = chain(chks_iter)\n",
    "...     fvs = map(featurizer, chks)\n",
    "...     model_outputs = map(model, fvs)\n",
    "\n",
    "\n",
    ">>> from meshed.makers import src_to_func_node_factory\n",
    ">>> fnodes_factories = list(src_to_func_node_factory(user_story))\n",
    "\n",
    "\n",
    "\n",
    ">>> from functools import partial\n",
    ">>> assert all(\n",
    "... isinstance(x, partial) and issubclass(x.func, FuncNode) for x in fnodes_factories\n",
    "... )\n",
    "\n",
    "\n",
    "\n",
    ">>> assert [x.keywords for x in fnodes_factories] == [\n",
    "...  {'name': 'call',\n",
    "...   'out': 'wfs',\n",
    "...   'bind': {0: 'src_to_wf', 1: 'data_src'},\n",
    "...   'func_label': 'call'},\n",
    "...  {'name': 'map',\n",
    "...   'out': 'chks_iter',\n",
    "...   'bind': {0: 'chunker', 1: 'wfs'},\n",
    "...   'func_label': 'map'},\n",
    "...  {'name': 'chain',\n",
    "...   'out': 'chks',\n",
    "...   'bind': {0: 'chks_iter'},\n",
    "...   'func_label': 'chain'},\n",
    "...  {'name': 'map_04',\n",
    "...   'out': 'fvs',\n",
    "...   'bind': {0: 'featurizer', 1: 'chks'},\n",
    "...   'func_label': 'map'},\n",
    "...  {'name': 'map_05',\n",
    "...   'out': 'model_outputs',\n",
    "...   'bind': {0: 'model', 1: 'fvs'},\n",
    "...   'func_label': 'map'}\n",
    "... ]\n",
    "\n",
    "\n",
    ">>> from meshed.dag import DAG\n",
    ">>> from meshed.makers import mk_fnodes_from_fn_factories\n",
    ">>> fnodes = list(mk_fnodes_from_fn_factories(fnodes_factories))\n",
    ">>> dag = DAG(fnodes)\n",
    ">>> print(dag.synopsis_string())"
   ]
  },
  {
   "cell_type": "code",
   "execution_count": 67,
   "id": "92f11c38-c547-4893-ae14-5366d67e63a9",
   "metadata": {},
   "outputs": [],
   "source": [
    "kwords = [{'name': 'call',\n",
    "   'out': 'wfs',\n",
    "   'bind': {0: 'src_to_wf', 1: 'data_src'},\n",
    "   'func_label': 'call'},\n",
    "  {'name': 'map',\n",
    "   'out': 'chks_iter',\n",
    "   'bind': {0: 'chunker', 1: 'wfs'},'func_label': 'map'},]"
   ]
  },
  {
   "cell_type": "code",
   "execution_count": 68,
   "id": "ef05416c-11b6-40f6-ba60-b4d461a2e49f",
   "metadata": {},
   "outputs": [],
   "source": [
    "kwords = [{'name': 'call',\n",
    "   'out': 'wfs',\n",
    "   'bind': {0: 'src_to_wf', 1: 'data_src'},\n",
    "   'func_label': 'call'},\n",
    "  {'name': 'map',\n",
    "   'out': 'chks_iter',\n",
    "   'bind': {0: 'chunker', 1: 'wfs'},'func_label': 'map'},]\n",
    "fnodes_factories = map(node_kwargs_to_func_node_factory, kwords)\n",
    "fnodes = list(mk_fnodes_from_fn_factories(fnodes_factories))\n",
    "dag = DAG(fnodes)"
   ]
  },
  {
   "cell_type": "code",
   "execution_count": null,
   "id": "48c74e9b-3699-41a5-a78f-9fbd3fb0706b",
   "metadata": {},
   "outputs": [],
   "source": []
  },
  {
   "cell_type": "code",
   "execution_count": 69,
   "id": "d90d5773-5e7b-45aa-b315-67cb1d125483",
   "metadata": {},
   "outputs": [],
   "source": [
    "\n"
   ]
  },
  {
   "cell_type": "code",
   "execution_count": 70,
   "id": "ebf020b4-671a-42e9-abbb-f1a31c7d6fed",
   "metadata": {},
   "outputs": [
    {
     "data": {
      "image/svg+xml": [
       "<?xml version=\"1.0\" encoding=\"UTF-8\" standalone=\"no\"?>\n",
       "<!DOCTYPE svg PUBLIC \"-//W3C//DTD SVG 1.1//EN\"\n",
       " \"http://www.w3.org/Graphics/SVG/1.1/DTD/svg11.dtd\">\n",
       "<!-- Generated by graphviz version 2.49.1 (20210923.0004)\n",
       " -->\n",
       "<!-- Pages: 1 -->\n",
       "<svg width=\"190pt\" height=\"332pt\"\n",
       " viewBox=\"0.00 0.00 189.50 332.00\" xmlns=\"http://www.w3.org/2000/svg\" xmlns:xlink=\"http://www.w3.org/1999/xlink\">\n",
       "<g id=\"graph0\" class=\"graph\" transform=\"scale(1 1) rotate(0) translate(4 328)\">\n",
       "<polygon fill=\"white\" stroke=\"transparent\" points=\"-4,4 -4,-328 185.5,-328 185.5,4 -4,4\"/>\n",
       "<!-- wfs -->\n",
       "<g id=\"node1\" class=\"node\">\n",
       "<title>wfs</title>\n",
       "<text text-anchor=\"middle\" x=\"107\" y=\"-158.3\" font-family=\"Times,serif\" font-size=\"14.00\">wfs</text>\n",
       "</g>\n",
       "<!-- map -->\n",
       "<g id=\"node7\" class=\"node\">\n",
       "<title>map</title>\n",
       "<polygon fill=\"none\" stroke=\"black\" points=\"96,-108 42,-108 42,-72 96,-72 96,-108\"/>\n",
       "<text text-anchor=\"middle\" x=\"69\" y=\"-86.3\" font-family=\"Times,serif\" font-size=\"14.00\">map</text>\n",
       "</g>\n",
       "<!-- wfs&#45;&gt;map -->\n",
       "<g id=\"edge6\" class=\"edge\">\n",
       "<title>wfs&#45;&gt;map</title>\n",
       "<path fill=\"none\" stroke=\"black\" d=\"M97.61,-143.7C93.24,-135.64 87.94,-125.89 83.1,-116.98\"/>\n",
       "<polygon fill=\"black\" stroke=\"black\" points=\"86.13,-115.22 78.29,-108.1 79.98,-118.56 86.13,-115.22\"/>\n",
       "</g>\n",
       "<!-- src_to_wf -->\n",
       "<g id=\"node2\" class=\"node\">\n",
       "<title>src_to_wf</title>\n",
       "<text text-anchor=\"middle\" x=\"64\" y=\"-302.3\" font-family=\"Times,serif\" font-size=\"14.00\">src_to_wf</text>\n",
       "</g>\n",
       "<!-- call -->\n",
       "<g id=\"node4\" class=\"node\">\n",
       "<title>call</title>\n",
       "<polygon fill=\"none\" stroke=\"black\" points=\"134,-252 80,-252 80,-216 134,-216 134,-252\"/>\n",
       "<text text-anchor=\"middle\" x=\"107\" y=\"-230.3\" font-family=\"Times,serif\" font-size=\"14.00\">call</text>\n",
       "</g>\n",
       "<!-- src_to_wf&#45;&gt;call -->\n",
       "<g id=\"edge2\" class=\"edge\">\n",
       "<title>src_to_wf&#45;&gt;call</title>\n",
       "<path fill=\"none\" stroke=\"black\" d=\"M74.63,-287.7C79.63,-279.56 85.69,-269.69 91.21,-260.7\"/>\n",
       "<polygon fill=\"black\" stroke=\"black\" points=\"94.24,-262.46 96.49,-252.1 88.28,-258.79 94.24,-262.46\"/>\n",
       "</g>\n",
       "<!-- data_src -->\n",
       "<g id=\"node3\" class=\"node\">\n",
       "<title>data_src</title>\n",
       "<text text-anchor=\"middle\" x=\"150\" y=\"-302.3\" font-family=\"Times,serif\" font-size=\"14.00\">data_src</text>\n",
       "</g>\n",
       "<!-- data_src&#45;&gt;call -->\n",
       "<g id=\"edge3\" class=\"edge\">\n",
       "<title>data_src&#45;&gt;call</title>\n",
       "<path fill=\"none\" stroke=\"black\" d=\"M139.37,-287.7C134.37,-279.56 128.31,-269.69 122.79,-260.7\"/>\n",
       "<polygon fill=\"black\" stroke=\"black\" points=\"125.72,-258.79 117.51,-252.1 119.76,-262.46 125.72,-258.79\"/>\n",
       "</g>\n",
       "<!-- call&#45;&gt;wfs -->\n",
       "<g id=\"edge1\" class=\"edge\">\n",
       "<title>call&#45;&gt;wfs</title>\n",
       "<path fill=\"none\" stroke=\"black\" d=\"M107,-215.7C107,-207.98 107,-198.71 107,-190.11\"/>\n",
       "<polygon fill=\"black\" stroke=\"black\" points=\"110.5,-190.1 107,-180.1 103.5,-190.1 110.5,-190.1\"/>\n",
       "</g>\n",
       "<!-- chks_iter -->\n",
       "<g id=\"node5\" class=\"node\">\n",
       "<title>chks_iter</title>\n",
       "<text text-anchor=\"middle\" x=\"69\" y=\"-14.3\" font-family=\"Times,serif\" font-size=\"14.00\">chks_iter</text>\n",
       "</g>\n",
       "<!-- chunker -->\n",
       "<g id=\"node6\" class=\"node\">\n",
       "<title>chunker</title>\n",
       "<text text-anchor=\"middle\" x=\"31\" y=\"-158.3\" font-family=\"Times,serif\" font-size=\"14.00\">chunker</text>\n",
       "</g>\n",
       "<!-- chunker&#45;&gt;map -->\n",
       "<g id=\"edge5\" class=\"edge\">\n",
       "<title>chunker&#45;&gt;map</title>\n",
       "<path fill=\"none\" stroke=\"black\" d=\"M40.39,-143.7C44.76,-135.64 50.06,-125.89 54.9,-116.98\"/>\n",
       "<polygon fill=\"black\" stroke=\"black\" points=\"58.02,-118.56 59.71,-108.1 51.87,-115.22 58.02,-118.56\"/>\n",
       "</g>\n",
       "<!-- map&#45;&gt;chks_iter -->\n",
       "<g id=\"edge4\" class=\"edge\">\n",
       "<title>map&#45;&gt;chks_iter</title>\n",
       "<path fill=\"none\" stroke=\"black\" d=\"M69,-71.7C69,-63.98 69,-54.71 69,-46.11\"/>\n",
       "<polygon fill=\"black\" stroke=\"black\" points=\"72.5,-46.1 69,-36.1 65.5,-46.1 72.5,-46.1\"/>\n",
       "</g>\n",
       "</g>\n",
       "</svg>\n"
      ],
      "text/plain": [
       "<graphviz.graphs.Digraph at 0x7fde574fa380>"
      ]
     },
     "execution_count": 70,
     "metadata": {},
     "output_type": "execute_result"
    }
   ],
   "source": [
    "dag.dot_digraph()"
   ]
  },
  {
   "cell_type": "code",
   "execution_count": null,
   "id": "aa86c425-27ed-4c93-8926-ea69e5262572",
   "metadata": {},
   "outputs": [],
   "source": []
  },
  {
   "cell_type": "code",
   "execution_count": 79,
   "id": "566d6cc6-3631-4287-bb79-bce1aef0d237",
   "metadata": {},
   "outputs": [
    {
     "name": "stdout",
     "output_type": "stream",
     "text": [
      "{'name': 'func1', 'out': 'x', 'bind': {0: 'a', 'b': 2}}\n"
     ]
    },
    {
     "ename": "TypeError",
     "evalue": "'dict' object is not callable",
     "output_type": "error",
     "traceback": [
      "\u001b[0;31m---------------------------------------------------------------------------\u001b[0m",
      "\u001b[0;31mTypeError\u001b[0m                                 Traceback (most recent call last)",
      "Input \u001b[0;32mIn [79]\u001b[0m, in \u001b[0;36m<cell line: 2>\u001b[0;34m()\u001b[0m\n\u001b[1;32m      1\u001b[0m func_src \u001b[38;5;241m=\u001b[39m {\u001b[38;5;124m'\u001b[39m\u001b[38;5;124mfunc1\u001b[39m\u001b[38;5;124m'\u001b[39m:my_func1, \u001b[38;5;124m'\u001b[39m\u001b[38;5;124mfunc2\u001b[39m\u001b[38;5;124m'\u001b[39m:my_func2}\n\u001b[0;32m----> 2\u001b[0m \u001b[38;5;28;01mfor\u001b[39;00m item \u001b[38;5;129;01min\u001b[39;00m mk_fnodes_from_fn_factories(fnodes_factories, func_src):\n\u001b[1;32m      3\u001b[0m     \u001b[38;5;28mprint\u001b[39m(item)\n",
      "File \u001b[0;32m~/Desktop/dev/otosense/meshed/meshed/makers.py:448\u001b[0m, in \u001b[0;36mmk_fnodes_from_fn_factories\u001b[0;34m(fnodes_factories, factory_to_func)\u001b[0m\n\u001b[1;32m    444\u001b[0m sig \u001b[38;5;241m=\u001b[39m Sig(fnode_factory)\n\u001b[1;32m    445\u001b[0m \u001b[38;5;28;01mif\u001b[39;00m sig\u001b[38;5;241m.\u001b[39mn_required \u001b[38;5;241m==\u001b[39m \u001b[38;5;241m1\u001b[39m \u001b[38;5;129;01mand\u001b[39;00m sig\u001b[38;5;241m.\u001b[39mnames[\u001b[38;5;241m0\u001b[39m] \u001b[38;5;241m==\u001b[39m \u001b[38;5;124m'\u001b[39m\u001b[38;5;124mfunc\u001b[39m\u001b[38;5;124m'\u001b[39m:\n\u001b[1;32m    446\u001b[0m     \u001b[38;5;66;03m# first making sure the fnode_factory is exactly as expected for this case,\u001b[39;00m\n\u001b[1;32m    447\u001b[0m     \u001b[38;5;66;03m# get a function for this fnode_factory, then use it to make the fnode\u001b[39;00m\n\u001b[0;32m--> 448\u001b[0m     func \u001b[38;5;241m=\u001b[39m \u001b[43mfactory_to_func\u001b[49m\u001b[43m(\u001b[49m\u001b[43mfnode_factory\u001b[49m\u001b[43m)\u001b[49m\n\u001b[1;32m    449\u001b[0m     \u001b[38;5;28;01myield\u001b[39;00m fnode_factory(func)\n\u001b[1;32m    450\u001b[0m \u001b[38;5;28;01melif\u001b[39;00m sig\u001b[38;5;241m.\u001b[39mn_required \u001b[38;5;241m==\u001b[39m \u001b[38;5;241m0\u001b[39m:\n\u001b[1;32m    451\u001b[0m     \u001b[38;5;66;03m# if fnode_factory has no (required) arguments, just call the factory:\u001b[39;00m\n",
      "\u001b[0;31mTypeError\u001b[0m: 'dict' object is not callable"
     ]
    }
   ],
   "source": [
    "func_src = {'func1':my_func1, 'func2':my_func2}\n",
    "for item in mk_fnodes_from_fn_factories(fnodes_factories, func_src):\n",
    "    print(item)"
   ]
  },
  {
   "cell_type": "code",
   "execution_count": 52,
   "id": "70cb183d-7404-4f53-80d8-e718f384b05b",
   "metadata": {},
   "outputs": [],
   "source": [
    "node_kw = {'name': 'func1', 'out': 'x', 'bind': {0: 'a', 1:'b' }}\n",
    "ffact = node_kwargs_to_func_node_factory(node_kw)\n",
    "ffact(my_func1)\n",
    "fnodes_factories =[ffact]\n",
    "#fnodes = list(mk_fnodes_from_fn_factories(fnodes_factories))"
   ]
  },
  {
   "cell_type": "code",
   "execution_count": 54,
   "id": "4361fc36-a60e-4e00-b58c-8f7bbbb856ff",
   "metadata": {},
   "outputs": [
    {
     "data": {
      "text/plain": [
       "FuncNode(a,b -> func1 -> x)"
      ]
     },
     "execution_count": 54,
     "metadata": {},
     "output_type": "execute_result"
    }
   ],
   "source": [
    "ffact(my_func1)"
   ]
  },
  {
   "cell_type": "code",
   "execution_count": 47,
   "id": "56e25cfc-a32d-4884-8e4c-8ec519e4ff12",
   "metadata": {},
   "outputs": [
    {
     "data": {
      "text/plain": [
       "<Sig (func: Callable, *, name: str = 'func1', bind: dict = {0: 'a', 1: 'b'}, out: str = 'x', func_label: str = None, names_maker: Callable = <function underscore_func_node_names_maker at 0x7fde552adab0>, node_validator: Callable = <function basic_node_validator at 0x7fde55387ac0>) -> None>"
      ]
     },
     "execution_count": 47,
     "metadata": {},
     "output_type": "execute_result"
    }
   ],
   "source": [
    "Sig(ffact)"
   ]
  },
  {
   "cell_type": "code",
   "execution_count": 48,
   "id": "7acba17e-b083-448a-b98a-9129b2c864d8",
   "metadata": {},
   "outputs": [],
   "source": [
    "def my_func1(a,b):\n",
    "    return str(a+b)\n",
    "\n",
    "def my_func2(x,func1,c,d):\n",
    "    return d"
   ]
  },
  {
   "cell_type": "code",
   "execution_count": 49,
   "id": "e0adfec0-df4b-4bf4-adc0-4fefed9211c1",
   "metadata": {},
   "outputs": [
    {
     "data": {
      "text/plain": [
       "FuncNode(a,b -> func1 -> x)"
      ]
     },
     "execution_count": 49,
     "metadata": {},
     "output_type": "execute_result"
    }
   ],
   "source": [
    "ffact(func=my_func1)"
   ]
  },
  {
   "cell_type": "code",
   "execution_count": null,
   "id": "1a2a5d2b-1eec-494c-9fc1-a4e76d913f58",
   "metadata": {},
   "outputs": [],
   "source": []
  }
 ],
 "metadata": {
  "kernelspec": {
   "display_name": "otopy310",
   "language": "python",
   "name": "otopy310"
  },
  "language_info": {
   "codemirror_mode": {
    "name": "ipython",
    "version": 3
   },
   "file_extension": ".py",
   "mimetype": "text/x-python",
   "name": "python",
   "nbconvert_exporter": "python",
   "pygments_lexer": "ipython3",
   "version": "3.10.0"
  }
 },
 "nbformat": 4,
 "nbformat_minor": 5
}
