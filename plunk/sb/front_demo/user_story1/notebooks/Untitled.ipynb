{
 "cells": [
  {
   "cell_type": "code",
   "execution_count": 4,
   "id": "9efbab11-3bc1-49c0-aa2f-407e34484583",
   "metadata": {},
   "outputs": [
    {
     "data": {
      "text/plain": [
       "[('this', 'func', 'that'), ('The, quick', 'brown', 'fox, jumps')]"
      ]
     },
     "execution_count": 4,
     "metadata": {},
     "output_type": "execute_result"
    }
   ],
   "source": [
    "import pandas as pd\n",
    "import streamlit as st\n",
    "import graphviz\n",
    "\n",
    "\n",
    "# TODO: How do we make this in front (beyond the \"put it in render\")?\n",
    "\n",
    "\n",
    "df = pd.DataFrame(\n",
    "    [['this', 'func', 'that'], ['The, quick', 'brown', 'fox, jumps']],\n",
    "    columns=[\"Outputs\", \"Function\", \"Inputs\"],\n",
    ")\n",
    "\n",
    "\n",
    "\n",
    "\n",
    "def df_to_triples(df):\n",
    "    for row in df.itertuples():\n",
    "        yield row.Outputs, row.Function, row.Inputs\n",
    "\n",
    "\n",
    "def triple_to_edges(triple_gen):\n",
    "    for outputs, func, inputs in triple_gen:\n",
    "    #outputs, func, inputs = triple\n",
    "        func = func.strip()\n",
    "        for output in outputs.split(','):\n",
    "            for input in inputs.split(','):\n",
    "                yield output.strip(), func\n",
    "                yield func, input.strip()\n",
    "\n",
    "\n",
    "from dol import Pipe\n",
    "\n",
    "row_to_edges = Pipe(df_to_triples, triple_to_edges)\n",
    "list(df_to_triples(df))"
   ]
  },
  {
   "cell_type": "code",
   "execution_count": 6,
   "id": "3bfceed6-c918-47ce-ac1e-acca2ef19dfd",
   "metadata": {},
   "outputs": [
    {
     "data": {
      "text/plain": [
       "[('this', 'func'),\n",
       " ('func', 'that'),\n",
       " ('The', 'brown'),\n",
       " ('brown', 'fox'),\n",
       " ('The', 'brown'),\n",
       " ('brown', 'jumps'),\n",
       " ('quick', 'brown'),\n",
       " ('brown', 'fox'),\n",
       " ('quick', 'brown'),\n",
       " ('brown', 'jumps')]"
      ]
     },
     "execution_count": 6,
     "metadata": {},
     "output_type": "execute_result"
    }
   ],
   "source": [
    "list(row_to_edges(df))"
   ]
  },
  {
   "cell_type": "code",
   "execution_count": null,
   "id": "0b3cd7ae-7b53-4d55-bceb-2139373fd791",
   "metadata": {},
   "outputs": [],
   "source": []
  }
 ],
 "metadata": {
  "kernelspec": {
   "display_name": "otopy310",
   "language": "python",
   "name": "otopy310"
  },
  "language_info": {
   "codemirror_mode": {
    "name": "ipython",
    "version": 3
   },
   "file_extension": ".py",
   "mimetype": "text/x-python",
   "name": "python",
   "nbconvert_exporter": "python",
   "pygments_lexer": "ipython3",
   "version": "3.10.0"
  }
 },
 "nbformat": 4,
 "nbformat_minor": 5
}
