{
 "cells": [
  {
   "cell_type": "code",
   "execution_count": 7,
   "id": "9efbab11-3bc1-49c0-aa2f-407e34484583",
   "metadata": {},
   "outputs": [
    {
     "data": {
      "text/plain": [
       "[('this', 'func', 'that'), ('The, quick', 'brown', 'fox, jumps')]"
      ]
     },
     "execution_count": 7,
     "metadata": {},
     "output_type": "execute_result"
    }
   ],
   "source": [
    "import pandas as pd\n",
    "import streamlit as st\n",
    "import graphviz\n",
    "\n",
    "\n",
    "# TODO: How do we make this in front (beyond the \"put it in render\")?\n",
    "\n",
    "\n",
    "df = pd.DataFrame(\n",
    "    [['this', 'func', 'that'], ['The, quick', 'brown', 'fox, jumps']],\n",
    "    columns=[\"Outputs\", \"Function\", \"Inputs\"],\n",
    ")\n",
    "\n",
    "\n",
    "\n",
    "\n",
    "def df_to_triples(df):\n",
    "    for row in df.itertuples():\n",
    "        yield row.Outputs, row.Function, row.Inputs\n",
    "\n",
    "\n",
    "def triple_to_edges(triple_gen):\n",
    "    for outputs, func, inputs in triple_gen:\n",
    "    #outputs, func, inputs = triple\n",
    "        func = func.strip()\n",
    "        for output in outputs.split(','):\n",
    "            for input in inputs.split(','):\n",
    "                yield output.strip(), func\n",
    "                yield func, input.strip()\n",
    "\n",
    "\n",
    "from dol import Pipe\n",
    "\n",
    "row_to_edges = Pipe(df_to_triples, triple_to_edges)\n",
    "list(df_to_triples(df))"
   ]
  },
  {
   "cell_type": "code",
   "execution_count": 8,
   "id": "3bfceed6-c918-47ce-ac1e-acca2ef19dfd",
   "metadata": {},
   "outputs": [
    {
     "data": {
      "text/plain": [
       "[('this', 'func'),\n",
       " ('func', 'that'),\n",
       " ('The', 'brown'),\n",
       " ('brown', 'fox'),\n",
       " ('The', 'brown'),\n",
       " ('brown', 'jumps'),\n",
       " ('quick', 'brown'),\n",
       " ('brown', 'fox'),\n",
       " ('quick', 'brown'),\n",
       " ('brown', 'jumps')]"
      ]
     },
     "execution_count": 8,
     "metadata": {},
     "output_type": "execute_result"
    }
   ],
   "source": [
    "list(row_to_edges(df))"
   ]
  },
  {
   "cell_type": "code",
   "execution_count": 9,
   "id": "0b3cd7ae-7b53-4d55-bceb-2139373fd791",
   "metadata": {},
   "outputs": [
    {
     "data": {
      "text/plain": [
       "<map at 0x7fce4ede0040>"
      ]
     },
     "execution_count": 9,
     "metadata": {},
     "output_type": "execute_result"
    }
   ],
   "source": [
    "df.itertuples()"
   ]
  },
  {
   "cell_type": "code",
   "execution_count": 10,
   "id": "202c4592-f9ac-4714-a33f-e042317b99cd",
   "metadata": {},
   "outputs": [
    {
     "name": "stderr",
     "output_type": "stream",
     "text": [
      "2023-05-10 10:14:45.909 \n",
      "  \u001b[33m\u001b[1mWarning:\u001b[0m to view this Streamlit app on a browser, run it with the following\n",
      "  command:\n",
      "\n",
      "    streamlit run /Users/sylvain/opt/anaconda3/envs/otopy310/lib/python3.10/site-packages/ipykernel_launcher.py [ARGUMENTS]\n"
     ]
    }
   ],
   "source": [
    "import streamlit as st\n",
    "edited_df = st.experimental_data_editor(df, num_rows=\"dynamic\")"
   ]
  },
  {
   "cell_type": "code",
   "execution_count": 12,
   "id": "5fb1e16c-35b8-4c33-b390-f4dd0819484f",
   "metadata": {},
   "outputs": [
    {
     "data": {
      "text/plain": [
       "[Pandas(Index=0, Outputs='this', Function='func', Inputs='that'),\n",
       " Pandas(Index=1, Outputs='The, quick', Function='brown', Inputs='fox, jumps')]"
      ]
     },
     "execution_count": 12,
     "metadata": {},
     "output_type": "execute_result"
    }
   ],
   "source": [
    "list(edited_df.itertuples())"
   ]
  },
  {
   "cell_type": "code",
   "execution_count": 20,
   "id": "413c8645-e827-4d9f-a60d-354c8f89d752",
   "metadata": {},
   "outputs": [
    {
     "data": {
      "text/plain": [
       "Index(['Outputs', 'Function', 'Inputs'], dtype='object')"
      ]
     },
     "execution_count": 20,
     "metadata": {},
     "output_type": "execute_result"
    }
   ],
   "source": [
    "list(edited_df.iterrows())[0][1].keys()"
   ]
  },
  {
   "cell_type": "code",
   "execution_count": 21,
   "id": "28733c2d-1921-4a98-9916-9cf82743c798",
   "metadata": {},
   "outputs": [],
   "source": [
    "from meshed import DAG, code_to_dag"
   ]
  },
  {
   "cell_type": "code",
   "execution_count": 22,
   "id": "2e5194b1-bd3a-4d8d-ad9f-476b6e31ab15",
   "metadata": {},
   "outputs": [],
   "source": [
    "dag_string= \"\"\"\n",
    "out = chunker(wf)\n",
    "\"\"\""
   ]
  },
  {
   "cell_type": "code",
   "execution_count": 23,
   "id": "773f9968-50bb-4284-bdc6-b31ece92fed9",
   "metadata": {},
   "outputs": [
    {
     "ename": "AttributeError",
     "evalue": "'Assign' object has no attribute 'body'",
     "output_type": "error",
     "traceback": [
      "\u001b[0;31m---------------------------------------------------------------------------\u001b[0m",
      "\u001b[0;31mAttributeError\u001b[0m                            Traceback (most recent call last)",
      "Input \u001b[0;32mIn [23]\u001b[0m, in \u001b[0;36m<cell line: 1>\u001b[0;34m()\u001b[0m\n\u001b[0;32m----> 1\u001b[0m \u001b[43mcode_to_dag\u001b[49m\u001b[43m(\u001b[49m\u001b[43mdag_string\u001b[49m\u001b[43m)\u001b[49m\n",
      "File \u001b[0;32m~/opt/anaconda3/envs/otopy310/lib/python3.10/site-packages/i2/deco.py:220\u001b[0m, in \u001b[0;36m_double_up_as_factory\u001b[0;34m(wrapped, __decorator_func, *args, **kwargs)\u001b[0m\n\u001b[1;32m    218\u001b[0m     \u001b[38;5;28;01mreturn\u001b[39;00m partial(__decorator_func, \u001b[38;5;241m*\u001b[39m\u001b[38;5;241m*\u001b[39mkwargs)\n\u001b[1;32m    219\u001b[0m \u001b[38;5;28;01melse\u001b[39;00m:\n\u001b[0;32m--> 220\u001b[0m     \u001b[38;5;28;01mreturn\u001b[39;00m \u001b[43m__decorator_func\u001b[49m\u001b[43m(\u001b[49m\u001b[43mwrapped\u001b[49m\u001b[43m,\u001b[49m\u001b[43m \u001b[49m\u001b[38;5;241;43m*\u001b[39;49m\u001b[43margs\u001b[49m\u001b[43m,\u001b[49m\u001b[43m \u001b[49m\u001b[38;5;241;43m*\u001b[39;49m\u001b[38;5;241;43m*\u001b[39;49m\u001b[43mkwargs\u001b[49m\u001b[43m)\u001b[49m\n",
      "File \u001b[0;32m~/Desktop/dev/otosense/meshed/meshed/makers.py:512\u001b[0m, in \u001b[0;36mcode_to_dag\u001b[0;34m(src, func_src, use_place_holder_fallback, name)\u001b[0m\n\u001b[1;32m    503\u001b[0m \u001b[38;5;129m@double_up_as_factory\u001b[39m\n\u001b[1;32m    504\u001b[0m \u001b[38;5;28;01mdef\u001b[39;00m \u001b[38;5;21mcode_to_dag\u001b[39m(\n\u001b[1;32m    505\u001b[0m     src\u001b[38;5;241m=\u001b[39m\u001b[38;5;28;01mNone\u001b[39;00m,\n\u001b[0;32m   (...)\u001b[0m\n\u001b[1;32m    509\u001b[0m     name: \u001b[38;5;28mstr\u001b[39m \u001b[38;5;241m=\u001b[39m \u001b[38;5;28;01mNone\u001b[39;00m,\n\u001b[1;32m    510\u001b[0m ) \u001b[38;5;241m-\u001b[39m\u001b[38;5;241m>\u001b[39m DAG:\n\u001b[1;32m    511\u001b[0m \u001b[38;5;250m    \u001b[39m\u001b[38;5;124;03m\"\"\"Get a ``meshed.DAG`` from src code\"\"\"\u001b[39;00m\n\u001b[0;32m--> 512\u001b[0m     fnodes \u001b[38;5;241m=\u001b[39m \u001b[43mcode_to_fnodes\u001b[49m\u001b[43m(\u001b[49m\n\u001b[1;32m    513\u001b[0m \u001b[43m        \u001b[49m\u001b[43msrc\u001b[49m\u001b[43m,\u001b[49m\u001b[43m \u001b[49m\u001b[43mfunc_src\u001b[49m\u001b[38;5;241;43m=\u001b[39;49m\u001b[43mfunc_src\u001b[49m\u001b[43m,\u001b[49m\u001b[43m \u001b[49m\u001b[43muse_place_holder_fallback\u001b[49m\u001b[38;5;241;43m=\u001b[39;49m\u001b[43muse_place_holder_fallback\u001b[49m\n\u001b[1;32m    514\u001b[0m \u001b[43m    \u001b[49m\u001b[43m)\u001b[49m\n\u001b[1;32m    515\u001b[0m     \u001b[38;5;28;01mreturn\u001b[39;00m DAG(fnodes, name\u001b[38;5;241m=\u001b[39m_ensure_name(name, src))\n",
      "File \u001b[0;32m~/opt/anaconda3/envs/otopy310/lib/python3.10/site-packages/i2/deco.py:220\u001b[0m, in \u001b[0;36m_double_up_as_factory\u001b[0;34m(wrapped, __decorator_func, *args, **kwargs)\u001b[0m\n\u001b[1;32m    218\u001b[0m     \u001b[38;5;28;01mreturn\u001b[39;00m partial(__decorator_func, \u001b[38;5;241m*\u001b[39m\u001b[38;5;241m*\u001b[39mkwargs)\n\u001b[1;32m    219\u001b[0m \u001b[38;5;28;01melse\u001b[39;00m:\n\u001b[0;32m--> 220\u001b[0m     \u001b[38;5;28;01mreturn\u001b[39;00m \u001b[43m__decorator_func\u001b[49m\u001b[43m(\u001b[49m\u001b[43mwrapped\u001b[49m\u001b[43m,\u001b[49m\u001b[43m \u001b[49m\u001b[38;5;241;43m*\u001b[39;49m\u001b[43margs\u001b[49m\u001b[43m,\u001b[49m\u001b[43m \u001b[49m\u001b[38;5;241;43m*\u001b[39;49m\u001b[38;5;241;43m*\u001b[39;49m\u001b[43mkwargs\u001b[49m\u001b[43m)\u001b[49m\n",
      "File \u001b[0;32m~/Desktop/dev/otosense/meshed/meshed/makers.py:500\u001b[0m, in \u001b[0;36mcode_to_fnodes\u001b[0;34m(src, func_src, use_place_holder_fallback)\u001b[0m\n\u001b[1;32m    498\u001b[0m func_src \u001b[38;5;241m=\u001b[39m _ensure_func_src(func_src, use_place_holder_fallback)\n\u001b[1;32m    499\u001b[0m \u001b[38;5;66;03m# Pass on to _code_to_fnodes to get func nodes iterable needed to make DAG\u001b[39;00m\n\u001b[0;32m--> 500\u001b[0m \u001b[38;5;28;01mreturn\u001b[39;00m \u001b[38;5;28mtuple\u001b[39m(\u001b[43m_code_to_fnodes\u001b[49m\u001b[43m(\u001b[49m\u001b[43msrc\u001b[49m\u001b[43m,\u001b[49m\u001b[43m \u001b[49m\u001b[43mfunc_src\u001b[49m\u001b[43m)\u001b[49m)\n",
      "File \u001b[0;32m~/Desktop/dev/otosense/meshed/meshed/makers.py:470\u001b[0m, in \u001b[0;36m_code_to_fnodes\u001b[0;34m(src, func_src)\u001b[0m\n\u001b[1;32m    468\u001b[0m \u001b[38;5;28;01mdef\u001b[39;00m \u001b[38;5;21m_code_to_fnodes\u001b[39m(src, func_src\u001b[38;5;241m=\u001b[39mdlft_factory_to_func):\n\u001b[1;32m    469\u001b[0m     \u001b[38;5;66;03m# Make all the funodes, but partial ones that don't have the func defined yet\u001b[39;00m\n\u001b[0;32m--> 470\u001b[0m     fnodes_factories \u001b[38;5;241m=\u001b[39m \u001b[38;5;28;43mlist\u001b[39;49m\u001b[43m(\u001b[49m\u001b[43msrc_to_func_node_factory\u001b[49m\u001b[43m(\u001b[49m\u001b[43msrc\u001b[49m\u001b[43m)\u001b[49m\u001b[43m)\u001b[49m\n\u001b[1;32m    471\u001b[0m     \u001b[38;5;66;03m# \"Inject\" the actual functions\u001b[39;00m\n\u001b[1;32m    472\u001b[0m     \u001b[38;5;28;01mreturn\u001b[39;00m mk_fnodes_from_fn_factories(fnodes_factories, func_src)\n",
      "File \u001b[0;32m~/Desktop/dev/otosense/meshed/meshed/makers.py:390\u001b[0m, in \u001b[0;36msrc_to_func_node_factory\u001b[0;34m(src, exclude_names)\u001b[0m\n\u001b[1;32m    384\u001b[0m \u001b[38;5;250m\u001b[39m\u001b[38;5;124;03m\"\"\"\u001b[39;00m\n\u001b[1;32m    385\u001b[0m \u001b[38;5;124;03m:param src: Callable or string of callable.\u001b[39;00m\n\u001b[1;32m    386\u001b[0m \u001b[38;5;124;03m:param exclude_names: Names to exclude when making func_nodes\u001b[39;00m\n\u001b[1;32m    387\u001b[0m \u001b[38;5;124;03m:return:\u001b[39;00m\n\u001b[1;32m    388\u001b[0m \u001b[38;5;124;03m\"\"\"\u001b[39;00m\n\u001b[1;32m    389\u001b[0m exclude_names \u001b[38;5;241m=\u001b[39m \u001b[38;5;28mset\u001b[39m(exclude_names \u001b[38;5;129;01mor\u001b[39;00m \u001b[38;5;28mset\u001b[39m())\n\u001b[0;32m--> 390\u001b[0m \u001b[38;5;28;01mfor\u001b[39;00m i, target_value \u001b[38;5;129;01min\u001b[39;00m \u001b[38;5;28menumerate\u001b[39m(parse_assignment_steps(src), \u001b[38;5;241m1\u001b[39m):\n\u001b[1;32m    391\u001b[0m     \u001b[38;5;28;01mfor\u001b[39;00m node_kwargs \u001b[38;5;129;01min\u001b[39;00m parsed_to_node_kwargs(target_value):\n\u001b[1;32m    392\u001b[0m         node_kwargs[\u001b[38;5;124m'\u001b[39m\u001b[38;5;124mfunc_label\u001b[39m\u001b[38;5;124m'\u001b[39m] \u001b[38;5;241m=\u001b[39m node_kwargs[\u001b[38;5;124m'\u001b[39m\u001b[38;5;124mname\u001b[39m\u001b[38;5;124m'\u001b[39m]\n",
      "File \u001b[0;32m~/Desktop/dev/otosense/meshed/meshed/makers.py:370\u001b[0m, in \u001b[0;36mparse_assignment_steps\u001b[0;34m(src)\u001b[0m\n\u001b[1;32m    366\u001b[0m func_body \u001b[38;5;241m=\u001b[39m root\u001b[38;5;241m.\u001b[39mbody[\u001b[38;5;241m0\u001b[39m]\n\u001b[1;32m    367\u001b[0m \u001b[38;5;66;03m# TODO: work with func_body.args to get info on interface (name, args, kwargs,\u001b[39;00m\n\u001b[1;32m    368\u001b[0m \u001b[38;5;66;03m#  return etc.)\u001b[39;00m\n\u001b[1;32m    369\u001b[0m \u001b[38;5;66;03m#     return func_body\u001b[39;00m\n\u001b[0;32m--> 370\u001b[0m \u001b[38;5;28;01mfor\u001b[39;00m body \u001b[38;5;129;01min\u001b[39;00m \u001b[43mfunc_body\u001b[49m\u001b[38;5;241;43m.\u001b[39;49m\u001b[43mbody\u001b[49m:\n\u001b[1;32m    371\u001b[0m     \u001b[38;5;28;01myield\u001b[39;00m parse_assignment(body)\n",
      "\u001b[0;31mAttributeError\u001b[0m: 'Assign' object has no attribute 'body'"
     ]
    }
   ],
   "source": [
    "code_to_dag(dag_string)"
   ]
  },
  {
   "cell_type": "code",
   "execution_count": 34,
   "id": "72fc8e26-17fe-4754-989e-56ac3a82d882",
   "metadata": {},
   "outputs": [],
   "source": [
    "from meshed.makers import parse_assignment_steps, parsed_to_node_kwargs\n",
    "def foo():\n",
    "    x = func1(a, b)\n",
    "    y = func2(x, func1, c, d=x)\n",
    "    \n"
   ]
  },
  {
   "cell_type": "code",
   "execution_count": 35,
   "id": "1c05fc9e-08e2-432f-8278-c122f1649d8e",
   "metadata": {},
   "outputs": [],
   "source": [
    "from typing import Iterator, Union\n",
    "from meshed import FuncNode\n",
    "from meshed.makers import FuncNodeFactory, node_kwargs_to_func_node_factory,mk_fnodes_from_fn_factories, src_to_func_node_factory\n",
    "# def src_to_func_node_factory(\n",
    "#     src, exclude_names=None\n",
    "# ) -> Iterator[Union[FuncNode, FuncNodeFactory]]:\n",
    "#     \"\"\"\n",
    "#     :param src: Callable or string of callable.\n",
    "#     :param exclude_names: Names to exclude when making func_nodes\n",
    "#     :return:\n",
    "#     \"\"\"\n",
    "#     exclude_names = set(exclude_names or set())\n",
    "#     for i, target_value in enumerate(parse_assignment_steps(src), 1):\n",
    "#         #print(i, target_value)\n",
    "#         for node_kwargs in parsed_to_node_kwargs(target_value):\n",
    "#             print(node_kwargs)\n",
    "#             node_kwargs['func_label'] = node_kwargs['name']\n",
    "#             if node_kwargs['name'] in exclude_names:\n",
    "#                 # need to keep names uniques, so add a prefix to (hope) to get uniqueness\n",
    "#                 node_kwargs['name'] += f'_{i:02.0f}'\n",
    "#             exclude_names.add(node_kwargs['name'])\n",
    "#             yield node_kwargs_to_func_node_factory(node_kwargs)"
   ]
  },
  {
   "cell_type": "code",
   "execution_count": 36,
   "id": "60ca2bc7-9055-4393-b522-b619266effb8",
   "metadata": {},
   "outputs": [
    {
     "name": "stdout",
     "output_type": "stream",
     "text": [
      "functools.partial(<class 'meshed.base.FuncNode'>, name='func1', out='x', bind={0: 'a', 1: 'b'}, func_label='func1')\n"
     ]
    }
   ],
   "source": [
    ">>> fnodes_factories=list(src_to_func_node_factory(foo))\n",
    ">>> from meshed.dag import DAG\n",
    ">>> from meshed.makers import mk_fnodes_from_fn_factories\n",
    ">>> print(fnodes_factories[0])\n",
    "#>>> fnodes = list(mk_fnodes_from_fn_factories(fnodes_factories))\n",
    "#>>> dag = DAG(fnodes)"
   ]
  },
  {
   "cell_type": "code",
   "execution_count": 37,
   "id": "62c8e3a7-79d8-4e19-9c99-d9aae10d11ed",
   "metadata": {},
   "outputs": [
    {
     "data": {
      "text/plain": [
       "<Sig (func: Callable, *, name: str = 'func1', bind: dict = {0: 'a', 1: 'b'}, out: str = 'x', func_label: str = 'func1', names_maker: Callable = <function underscore_func_node_names_maker at 0x7fde552adab0>, node_validator: Callable = <function basic_node_validator at 0x7fde55387ac0>) -> None>"
      ]
     },
     "execution_count": 37,
     "metadata": {},
     "output_type": "execute_result"
    }
   ],
   "source": [
    "from i2 import Sig\n",
    "ffact = fnodes_factories[0]\n",
    "Sig(ffact)"
   ]
  },
  {
   "cell_type": "code",
   "execution_count": 38,
   "id": "d6e68401-6a21-4d54-93b9-e44609e779a8",
   "metadata": {},
   "outputs": [],
   "source": [
    "def my_func1(a,b):\n",
    "    return a"
   ]
  },
  {
   "cell_type": "code",
   "execution_count": 39,
   "id": "505d46ca-81e5-4d2b-ad41-6d7c6fa70a4a",
   "metadata": {},
   "outputs": [
    {
     "data": {
      "text/plain": [
       "FuncNode(a,b -> func1 -> x)"
      ]
     },
     "execution_count": 39,
     "metadata": {},
     "output_type": "execute_result"
    }
   ],
   "source": [
    "ffact(func =my_func1)"
   ]
  },
  {
   "cell_type": "code",
   "execution_count": null,
   "id": "bfead952-07aa-4fe6-aeed-ba9d003bd72a",
   "metadata": {},
   "outputs": [],
   "source": []
  },
  {
   "cell_type": "code",
   "execution_count": 2,
   "id": "ac80f21e-c18d-4a08-9d24-fd448b5b1a77",
   "metadata": {},
   "outputs": [
    {
     "name": "stdout",
     "output_type": "stream",
     "text": [
      "src_to_wf,data_src -> call -> wfs\n",
      "chunker,wfs -> map -> chks_iter\n",
      "chks_iter -> chain -> chks\n",
      "featurizer,chks -> map_04 -> fvs\n",
      "model,fvs -> map_05 -> model_outputs\n"
     ]
    }
   ],
   "source": [
    ">>> from meshed import FuncNode\n",
    "\n",
    ">>> def user_story():\n",
    "...     wfs = call(src_to_wf, data_src)\n",
    "...     chks_iter = map(chunker, wfs)\n",
    "...     chks = chain(chks_iter)\n",
    "...     fvs = map(featurizer, chks)\n",
    "...     model_outputs = map(model, fvs)\n",
    "\n",
    "\n",
    ">>> from meshed.makers import src_to_func_node_factory\n",
    ">>> fnodes_factories = list(src_to_func_node_factory(user_story))\n",
    "\n",
    "\n",
    "\n",
    ">>> from functools import partial\n",
    ">>> assert all(\n",
    "... isinstance(x, partial) and issubclass(x.func, FuncNode) for x in fnodes_factories\n",
    "... )\n",
    "\n",
    "\n",
    "\n",
    ">>> assert [x.keywords for x in fnodes_factories] == [\n",
    "...  {'name': 'call',\n",
    "...   'out': 'wfs',\n",
    "...   'bind': {0: 'src_to_wf', 1: 'data_src'},\n",
    "...   'func_label': 'call'},\n",
    "...  {'name': 'map',\n",
    "...   'out': 'chks_iter',\n",
    "...   'bind': {0: 'chunker', 1: 'wfs'},\n",
    "...   'func_label': 'map'},\n",
    "...  {'name': 'chain',\n",
    "...   'out': 'chks',\n",
    "...   'bind': {0: 'chks_iter'},\n",
    "...   'func_label': 'chain'},\n",
    "...  {'name': 'map_04',\n",
    "...   'out': 'fvs',\n",
    "...   'bind': {0: 'featurizer', 1: 'chks'},\n",
    "...   'func_label': 'map'},\n",
    "...  {'name': 'map_05',\n",
    "...   'out': 'model_outputs',\n",
    "...   'bind': {0: 'model', 1: 'fvs'},\n",
    "...   'func_label': 'map'}\n",
    "... ]\n",
    "\n",
    "\n",
    ">>> from meshed.dag import DAG\n",
    ">>> from meshed.makers import mk_fnodes_from_fn_factories\n",
    ">>> fnodes = list(mk_fnodes_from_fn_factories(fnodes_factories))\n",
    ">>> dag = DAG(fnodes)\n",
    ">>> print(dag.synopsis_string())"
   ]
  },
  {
   "cell_type": "code",
   "execution_count": 4,
   "id": "c8d59a75-ab5d-47ef-9bbd-216fa103a652",
   "metadata": {},
   "outputs": [
    {
     "ename": "NameError",
     "evalue": "name 'chain' is not defined",
     "output_type": "error",
     "traceback": [
      "\u001b[0;31m---------------------------------------------------------------------------\u001b[0m",
      "\u001b[0;31mNameError\u001b[0m                                 Traceback (most recent call last)",
      "Input \u001b[0;32mIn [4]\u001b[0m, in \u001b[0;36m<cell line: 1>\u001b[0;34m()\u001b[0m\n\u001b[0;32m----> 1\u001b[0m dag\u001b[38;5;241m.\u001b[39mch_funcs(chain \u001b[38;5;241m=\u001b[39m \u001b[43mchain\u001b[49m)\n",
      "\u001b[0;31mNameError\u001b[0m: name 'chain' is not defined"
     ]
    }
   ],
   "source": [
    "dag.ch_funcs(chain = chain)"
   ]
  },
  {
   "cell_type": "code",
   "execution_count": 14,
   "id": "038f9ec8-bc49-4f56-abe8-9a3a82a20d0e",
   "metadata": {},
   "outputs": [],
   "source": [
    "def f(a, b: int, /):\n",
    "    return a + b\n",
    "\n",
    "\n",
    "def g(a_plus_b, d: float = 4):\n",
    "    return a_plus_b * d"
   ]
  },
  {
   "cell_type": "code",
   "execution_count": 17,
   "id": "67cd0102-fd1b-4958-b17f-8ee6fa4f8fb8",
   "metadata": {},
   "outputs": [],
   "source": [
    "dag=DAG([f,g])"
   ]
  },
  {
   "cell_type": "code",
   "execution_count": 18,
   "id": "cdf803b3-f1f4-4d89-a435-40cc460e2815",
   "metadata": {},
   "outputs": [
    {
     "data": {
      "text/plain": [
       "[FuncNode(a,b -> f_ -> f), FuncNode(a_plus_b,d -> g_ -> g)]"
      ]
     },
     "execution_count": 18,
     "metadata": {},
     "output_type": "execute_result"
    }
   ],
   "source": [
    "dag.func_nodes"
   ]
  },
  {
   "cell_type": "code",
   "execution_count": null,
   "id": "87553891-012d-4187-b2f4-f5175fbca479",
   "metadata": {},
   "outputs": [],
   "source": []
  },
  {
   "cell_type": "code",
   "execution_count": null,
   "id": "498f4d35-b833-4f06-9f22-d2ec8756d04b",
   "metadata": {},
   "outputs": [],
   "source": []
  },
  {
   "cell_type": "code",
   "execution_count": 19,
   "id": "8f9b9ffa-0aba-478a-bbe3-078afe56bc2e",
   "metadata": {},
   "outputs": [
    {
     "data": {
      "text/plain": [
       "DAG(func_nodes=[FuncNode(a,b -> f_ -> f), FuncNode(a_plus_b,d -> g_ -> g)], name=None)"
      ]
     },
     "execution_count": 19,
     "metadata": {},
     "output_type": "execute_result"
    }
   ],
   "source": [
    "dag.ch_funcs(f=f, g=g)"
   ]
  },
  {
   "cell_type": "code",
   "execution_count": 20,
   "id": "14cbca8b-ce2f-4a9e-8bd9-56e852f819d5",
   "metadata": {},
   "outputs": [
    {
     "data": {
      "text/plain": [
       "<Sig (ch_func_node_func: Callable[[meshed.base.FuncNode, Callable, Callable[[Callable, Callable], ~Comparison]], meshed.base.FuncNode] = <function ch_func_node_func at 0x7f831d56cc10>, /, **func_mapping: Callable) -> 'DAG'>"
      ]
     },
     "execution_count": 20,
     "metadata": {},
     "output_type": "execute_result"
    }
   ],
   "source": [
    "from i2 import Sig\n",
    "Sig(dag.ch_funcs)"
   ]
  },
  {
   "cell_type": "code",
   "execution_count": null,
   "id": "73d67259-f240-46a8-9e4f-2639526ea760",
   "metadata": {},
   "outputs": [],
   "source": []
  },
  {
   "cell_type": "code",
   "execution_count": 67,
   "id": "92f11c38-c547-4893-ae14-5366d67e63a9",
   "metadata": {},
   "outputs": [],
   "source": [
    "kwords = [{'name': 'call',\n",
    "   'out': 'wfs',\n",
    "   'bind': {0: 'src_to_wf', 1: 'data_src'},\n",
    "   'func_label': 'call'},\n",
    "  {'name': 'map',\n",
    "   'out': 'chks_iter',\n",
    "   'bind': {0: 'chunker', 1: 'wfs'},'func_label': 'map'},]"
   ]
  },
  {
   "cell_type": "code",
   "execution_count": 68,
   "id": "ef05416c-11b6-40f6-ba60-b4d461a2e49f",
   "metadata": {},
   "outputs": [],
   "source": [
    "kwords = [{'name': 'call',\n",
    "   'out': 'wfs',\n",
    "   'bind': {0: 'src_to_wf', 1: 'data_src'},\n",
    "   'func_label': 'call'},\n",
    "  {'name': 'map',\n",
    "   'out': 'chks_iter',\n",
    "   'bind': {0: 'chunker', 1: 'wfs'},'func_label': 'map'},]\n",
    "fnodes_factories = map(node_kwargs_to_func_node_factory, kwords)\n",
    "fnodes = list(mk_fnodes_from_fn_factories(fnodes_factories))\n",
    "dag = DAG(fnodes)"
   ]
  },
  {
   "cell_type": "code",
   "execution_count": null,
   "id": "48c74e9b-3699-41a5-a78f-9fbd3fb0706b",
   "metadata": {},
   "outputs": [],
   "source": []
  },
  {
   "cell_type": "code",
   "execution_count": 69,
   "id": "d90d5773-5e7b-45aa-b315-67cb1d125483",
   "metadata": {},
   "outputs": [],
   "source": [
    "\n"
   ]
  },
  {
   "cell_type": "code",
   "execution_count": 70,
   "id": "ebf020b4-671a-42e9-abbb-f1a31c7d6fed",
   "metadata": {},
   "outputs": [
    {
     "data": {
      "image/svg+xml": [
       "<?xml version=\"1.0\" encoding=\"UTF-8\" standalone=\"no\"?>\n",
       "<!DOCTYPE svg PUBLIC \"-//W3C//DTD SVG 1.1//EN\"\n",
       " \"http://www.w3.org/Graphics/SVG/1.1/DTD/svg11.dtd\">\n",
       "<!-- Generated by graphviz version 2.49.1 (20210923.0004)\n",
       " -->\n",
       "<!-- Pages: 1 -->\n",
       "<svg width=\"190pt\" height=\"332pt\"\n",
       " viewBox=\"0.00 0.00 189.50 332.00\" xmlns=\"http://www.w3.org/2000/svg\" xmlns:xlink=\"http://www.w3.org/1999/xlink\">\n",
       "<g id=\"graph0\" class=\"graph\" transform=\"scale(1 1) rotate(0) translate(4 328)\">\n",
       "<polygon fill=\"white\" stroke=\"transparent\" points=\"-4,4 -4,-328 185.5,-328 185.5,4 -4,4\"/>\n",
       "<!-- wfs -->\n",
       "<g id=\"node1\" class=\"node\">\n",
       "<title>wfs</title>\n",
       "<text text-anchor=\"middle\" x=\"107\" y=\"-158.3\" font-family=\"Times,serif\" font-size=\"14.00\">wfs</text>\n",
       "</g>\n",
       "<!-- map -->\n",
       "<g id=\"node7\" class=\"node\">\n",
       "<title>map</title>\n",
       "<polygon fill=\"none\" stroke=\"black\" points=\"96,-108 42,-108 42,-72 96,-72 96,-108\"/>\n",
       "<text text-anchor=\"middle\" x=\"69\" y=\"-86.3\" font-family=\"Times,serif\" font-size=\"14.00\">map</text>\n",
       "</g>\n",
       "<!-- wfs&#45;&gt;map -->\n",
       "<g id=\"edge6\" class=\"edge\">\n",
       "<title>wfs&#45;&gt;map</title>\n",
       "<path fill=\"none\" stroke=\"black\" d=\"M97.61,-143.7C93.24,-135.64 87.94,-125.89 83.1,-116.98\"/>\n",
       "<polygon fill=\"black\" stroke=\"black\" points=\"86.13,-115.22 78.29,-108.1 79.98,-118.56 86.13,-115.22\"/>\n",
       "</g>\n",
       "<!-- src_to_wf -->\n",
       "<g id=\"node2\" class=\"node\">\n",
       "<title>src_to_wf</title>\n",
       "<text text-anchor=\"middle\" x=\"64\" y=\"-302.3\" font-family=\"Times,serif\" font-size=\"14.00\">src_to_wf</text>\n",
       "</g>\n",
       "<!-- call -->\n",
       "<g id=\"node4\" class=\"node\">\n",
       "<title>call</title>\n",
       "<polygon fill=\"none\" stroke=\"black\" points=\"134,-252 80,-252 80,-216 134,-216 134,-252\"/>\n",
       "<text text-anchor=\"middle\" x=\"107\" y=\"-230.3\" font-family=\"Times,serif\" font-size=\"14.00\">call</text>\n",
       "</g>\n",
       "<!-- src_to_wf&#45;&gt;call -->\n",
       "<g id=\"edge2\" class=\"edge\">\n",
       "<title>src_to_wf&#45;&gt;call</title>\n",
       "<path fill=\"none\" stroke=\"black\" d=\"M74.63,-287.7C79.63,-279.56 85.69,-269.69 91.21,-260.7\"/>\n",
       "<polygon fill=\"black\" stroke=\"black\" points=\"94.24,-262.46 96.49,-252.1 88.28,-258.79 94.24,-262.46\"/>\n",
       "</g>\n",
       "<!-- data_src -->\n",
       "<g id=\"node3\" class=\"node\">\n",
       "<title>data_src</title>\n",
       "<text text-anchor=\"middle\" x=\"150\" y=\"-302.3\" font-family=\"Times,serif\" font-size=\"14.00\">data_src</text>\n",
       "</g>\n",
       "<!-- data_src&#45;&gt;call -->\n",
       "<g id=\"edge3\" class=\"edge\">\n",
       "<title>data_src&#45;&gt;call</title>\n",
       "<path fill=\"none\" stroke=\"black\" d=\"M139.37,-287.7C134.37,-279.56 128.31,-269.69 122.79,-260.7\"/>\n",
       "<polygon fill=\"black\" stroke=\"black\" points=\"125.72,-258.79 117.51,-252.1 119.76,-262.46 125.72,-258.79\"/>\n",
       "</g>\n",
       "<!-- call&#45;&gt;wfs -->\n",
       "<g id=\"edge1\" class=\"edge\">\n",
       "<title>call&#45;&gt;wfs</title>\n",
       "<path fill=\"none\" stroke=\"black\" d=\"M107,-215.7C107,-207.98 107,-198.71 107,-190.11\"/>\n",
       "<polygon fill=\"black\" stroke=\"black\" points=\"110.5,-190.1 107,-180.1 103.5,-190.1 110.5,-190.1\"/>\n",
       "</g>\n",
       "<!-- chks_iter -->\n",
       "<g id=\"node5\" class=\"node\">\n",
       "<title>chks_iter</title>\n",
       "<text text-anchor=\"middle\" x=\"69\" y=\"-14.3\" font-family=\"Times,serif\" font-size=\"14.00\">chks_iter</text>\n",
       "</g>\n",
       "<!-- chunker -->\n",
       "<g id=\"node6\" class=\"node\">\n",
       "<title>chunker</title>\n",
       "<text text-anchor=\"middle\" x=\"31\" y=\"-158.3\" font-family=\"Times,serif\" font-size=\"14.00\">chunker</text>\n",
       "</g>\n",
       "<!-- chunker&#45;&gt;map -->\n",
       "<g id=\"edge5\" class=\"edge\">\n",
       "<title>chunker&#45;&gt;map</title>\n",
       "<path fill=\"none\" stroke=\"black\" d=\"M40.39,-143.7C44.76,-135.64 50.06,-125.89 54.9,-116.98\"/>\n",
       "<polygon fill=\"black\" stroke=\"black\" points=\"58.02,-118.56 59.71,-108.1 51.87,-115.22 58.02,-118.56\"/>\n",
       "</g>\n",
       "<!-- map&#45;&gt;chks_iter -->\n",
       "<g id=\"edge4\" class=\"edge\">\n",
       "<title>map&#45;&gt;chks_iter</title>\n",
       "<path fill=\"none\" stroke=\"black\" d=\"M69,-71.7C69,-63.98 69,-54.71 69,-46.11\"/>\n",
       "<polygon fill=\"black\" stroke=\"black\" points=\"72.5,-46.1 69,-36.1 65.5,-46.1 72.5,-46.1\"/>\n",
       "</g>\n",
       "</g>\n",
       "</svg>\n"
      ],
      "text/plain": [
       "<graphviz.graphs.Digraph at 0x7fde574fa380>"
      ]
     },
     "execution_count": 70,
     "metadata": {},
     "output_type": "execute_result"
    }
   ],
   "source": [
    "dag.dot_digraph()"
   ]
  },
  {
   "cell_type": "code",
   "execution_count": null,
   "id": "aa86c425-27ed-4c93-8926-ea69e5262572",
   "metadata": {},
   "outputs": [],
   "source": []
  },
  {
   "cell_type": "code",
   "execution_count": 79,
   "id": "566d6cc6-3631-4287-bb79-bce1aef0d237",
   "metadata": {},
   "outputs": [
    {
     "name": "stdout",
     "output_type": "stream",
     "text": [
      "{'name': 'func1', 'out': 'x', 'bind': {0: 'a', 'b': 2}}\n"
     ]
    },
    {
     "ename": "TypeError",
     "evalue": "'dict' object is not callable",
     "output_type": "error",
     "traceback": [
      "\u001b[0;31m---------------------------------------------------------------------------\u001b[0m",
      "\u001b[0;31mTypeError\u001b[0m                                 Traceback (most recent call last)",
      "Input \u001b[0;32mIn [79]\u001b[0m, in \u001b[0;36m<cell line: 2>\u001b[0;34m()\u001b[0m\n\u001b[1;32m      1\u001b[0m func_src \u001b[38;5;241m=\u001b[39m {\u001b[38;5;124m'\u001b[39m\u001b[38;5;124mfunc1\u001b[39m\u001b[38;5;124m'\u001b[39m:my_func1, \u001b[38;5;124m'\u001b[39m\u001b[38;5;124mfunc2\u001b[39m\u001b[38;5;124m'\u001b[39m:my_func2}\n\u001b[0;32m----> 2\u001b[0m \u001b[38;5;28;01mfor\u001b[39;00m item \u001b[38;5;129;01min\u001b[39;00m mk_fnodes_from_fn_factories(fnodes_factories, func_src):\n\u001b[1;32m      3\u001b[0m     \u001b[38;5;28mprint\u001b[39m(item)\n",
      "File \u001b[0;32m~/Desktop/dev/otosense/meshed/meshed/makers.py:448\u001b[0m, in \u001b[0;36mmk_fnodes_from_fn_factories\u001b[0;34m(fnodes_factories, factory_to_func)\u001b[0m\n\u001b[1;32m    444\u001b[0m sig \u001b[38;5;241m=\u001b[39m Sig(fnode_factory)\n\u001b[1;32m    445\u001b[0m \u001b[38;5;28;01mif\u001b[39;00m sig\u001b[38;5;241m.\u001b[39mn_required \u001b[38;5;241m==\u001b[39m \u001b[38;5;241m1\u001b[39m \u001b[38;5;129;01mand\u001b[39;00m sig\u001b[38;5;241m.\u001b[39mnames[\u001b[38;5;241m0\u001b[39m] \u001b[38;5;241m==\u001b[39m \u001b[38;5;124m'\u001b[39m\u001b[38;5;124mfunc\u001b[39m\u001b[38;5;124m'\u001b[39m:\n\u001b[1;32m    446\u001b[0m     \u001b[38;5;66;03m# first making sure the fnode_factory is exactly as expected for this case,\u001b[39;00m\n\u001b[1;32m    447\u001b[0m     \u001b[38;5;66;03m# get a function for this fnode_factory, then use it to make the fnode\u001b[39;00m\n\u001b[0;32m--> 448\u001b[0m     func \u001b[38;5;241m=\u001b[39m \u001b[43mfactory_to_func\u001b[49m\u001b[43m(\u001b[49m\u001b[43mfnode_factory\u001b[49m\u001b[43m)\u001b[49m\n\u001b[1;32m    449\u001b[0m     \u001b[38;5;28;01myield\u001b[39;00m fnode_factory(func)\n\u001b[1;32m    450\u001b[0m \u001b[38;5;28;01melif\u001b[39;00m sig\u001b[38;5;241m.\u001b[39mn_required \u001b[38;5;241m==\u001b[39m \u001b[38;5;241m0\u001b[39m:\n\u001b[1;32m    451\u001b[0m     \u001b[38;5;66;03m# if fnode_factory has no (required) arguments, just call the factory:\u001b[39;00m\n",
      "\u001b[0;31mTypeError\u001b[0m: 'dict' object is not callable"
     ]
    }
   ],
   "source": [
    "func_src = {'func1':my_func1, 'func2':my_func2}\n",
    "for item in mk_fnodes_from_fn_factories(fnodes_factories, func_src):\n",
    "    print(item)"
   ]
  },
  {
   "cell_type": "code",
   "execution_count": 52,
   "id": "70cb183d-7404-4f53-80d8-e718f384b05b",
   "metadata": {},
   "outputs": [],
   "source": [
    "node_kw = {'name': 'func1', 'out': 'x', 'bind': {0: 'a', 1:'b' }}\n",
    "ffact = node_kwargs_to_func_node_factory(node_kw)\n",
    "ffact(my_func1)\n",
    "fnodes_factories =[ffact]\n",
    "#fnodes = list(mk_fnodes_from_fn_factories(fnodes_factories))"
   ]
  },
  {
   "cell_type": "code",
   "execution_count": 54,
   "id": "4361fc36-a60e-4e00-b58c-8f7bbbb856ff",
   "metadata": {},
   "outputs": [
    {
     "data": {
      "text/plain": [
       "FuncNode(a,b -> func1 -> x)"
      ]
     },
     "execution_count": 54,
     "metadata": {},
     "output_type": "execute_result"
    }
   ],
   "source": [
    "ffact(my_func1)"
   ]
  },
  {
   "cell_type": "code",
   "execution_count": 47,
   "id": "56e25cfc-a32d-4884-8e4c-8ec519e4ff12",
   "metadata": {},
   "outputs": [
    {
     "data": {
      "text/plain": [
       "<Sig (func: Callable, *, name: str = 'func1', bind: dict = {0: 'a', 1: 'b'}, out: str = 'x', func_label: str = None, names_maker: Callable = <function underscore_func_node_names_maker at 0x7fde552adab0>, node_validator: Callable = <function basic_node_validator at 0x7fde55387ac0>) -> None>"
      ]
     },
     "execution_count": 47,
     "metadata": {},
     "output_type": "execute_result"
    }
   ],
   "source": [
    "Sig(ffact)"
   ]
  },
  {
   "cell_type": "code",
   "execution_count": 48,
   "id": "7acba17e-b083-448a-b98a-9129b2c864d8",
   "metadata": {},
   "outputs": [],
   "source": [
    "def my_func1(a,b):\n",
    "    return str(a+b)\n",
    "\n",
    "def my_func2(x,func1,c,d):\n",
    "    return d"
   ]
  },
  {
   "cell_type": "code",
   "execution_count": 49,
   "id": "e0adfec0-df4b-4bf4-adc0-4fefed9211c1",
   "metadata": {},
   "outputs": [
    {
     "data": {
      "text/plain": [
       "FuncNode(a,b -> func1 -> x)"
      ]
     },
     "execution_count": 49,
     "metadata": {},
     "output_type": "execute_result"
    }
   ],
   "source": [
    "ffact(func=my_func1)"
   ]
  },
  {
   "cell_type": "code",
   "execution_count": null,
   "id": "1a2a5d2b-1eec-494c-9fc1-a4e76d913f58",
   "metadata": {},
   "outputs": [],
   "source": []
  },
  {
   "cell_type": "code",
   "execution_count": null,
   "id": "e3a6da26-0690-41cd-97e8-51b5906cb837",
   "metadata": {},
   "outputs": [],
   "source": []
  },
  {
   "cell_type": "code",
   "execution_count": null,
   "id": "41ef14d8-711b-4c10-9ba1-659534916ef1",
   "metadata": {},
   "outputs": [],
   "source": []
  },
  {
   "cell_type": "code",
   "execution_count": 21,
   "id": "27e1d8a4-7311-460c-83d1-b5dd626cf8ee",
   "metadata": {},
   "outputs": [
    {
     "name": "stdout",
     "output_type": "stream",
     "text": [
      "a,b -> f -> a_plus_b\n",
      "b,a_plus_b -> g_ -> g\n"
     ]
    },
    {
     "data": {
      "text/plain": [
       "-3"
      ]
     },
     "execution_count": 21,
     "metadata": {},
     "output_type": "execute_result"
    }
   ],
   "source": [
    " >>> from meshed import FuncNode, DAG\n",
    ">>> from i2 import Sig\n",
    ">>>\n",
    ">>> def f(a, b):\n",
    "...     return a + b\n",
    "...\n",
    ">>>\n",
    ">>> def g(a_plus_b, x):\n",
    "...     return a_plus_b * x\n",
    "...\n",
    ">>> f_node = FuncNode(func=f, out='a_plus_b')\n",
    ">>> g_node = FuncNode(func=g, bind={'x': 'b'})\n",
    ">>> d = DAG((f_node, g_node))\n",
    ">>> print(d.synopsis_string())\n",
    "#a,b -> f -> a_plus_b\n",
    "#b,a_plus_b -> g_ -> g\n",
    ">>> d(2, 3)  # (2 + 3) * 3 == 5 * 3\n",
    "#15\n",
    ">>> dd = d.ch_funcs(f=lambda a, b: a - b)\n",
    ">>> dd(2, 3)  # (2 - 3) * 3 == -1 * 3\n",
    "#-3"
   ]
  },
  {
   "cell_type": "code",
   "execution_count": 25,
   "id": "e7fba670-437b-4c20-a328-c59891481300",
   "metadata": {},
   "outputs": [
    {
     "ename": "ValueError",
     "evalue": "You can only change the func of a FuncNode with a another func if the signatures match.\n\tfn=FuncNode(a_plus_b,d -> g_ -> g)\n\tSig(fn.func)=<Sig (a_plus_b, d: float = 4)>\n\tSig(func)=<Sig (y, z)>\n",
     "output_type": "error",
     "traceback": [
      "\u001b[0;31m---------------------------------------------------------------------------\u001b[0m",
      "\u001b[0;31mValueError\u001b[0m                                Traceback (most recent call last)",
      "Input \u001b[0;32mIn [25]\u001b[0m, in \u001b[0;36m<cell line: 7>\u001b[0;34m()\u001b[0m\n\u001b[1;32m      5\u001b[0m same_names \u001b[38;5;241m=\u001b[39m partial(compare_signatures, signature_comparator\u001b[38;5;241m=\u001b[39mon_names)\n\u001b[1;32m      6\u001b[0m ch_fnode \u001b[38;5;241m=\u001b[39m partial(ch_func_node_func, func_comparator\u001b[38;5;241m=\u001b[39msame_names)\n\u001b[0;32m----> 7\u001b[0m d \u001b[38;5;241m=\u001b[39m \u001b[43mdag\u001b[49m\u001b[38;5;241;43m.\u001b[39;49m\u001b[43mch_funcs\u001b[49m\u001b[43m(\u001b[49m\u001b[43mch_fnode\u001b[49m\u001b[43m,\u001b[49m\u001b[43m \u001b[49m\u001b[43mg\u001b[49m\u001b[38;5;241;43m=\u001b[39;49m\u001b[38;5;28;43;01mlambda\u001b[39;49;00m\u001b[43m \u001b[49m\u001b[43my\u001b[49m\u001b[43m,\u001b[49m\u001b[43m \u001b[49m\u001b[43mz\u001b[49m\u001b[43m:\u001b[49m\u001b[43m \u001b[49m\u001b[43my\u001b[49m\u001b[43m \u001b[49m\u001b[38;5;241;43m/\u001b[39;49m\u001b[43m \u001b[49m\u001b[43mz\u001b[49m\u001b[43m)\u001b[49m;\n\u001b[1;32m      8\u001b[0m Sig(d)\n\u001b[1;32m      9\u001b[0m \u001b[38;5;66;03m#<Sig (a, b, y)>\u001b[39;00m\n",
      "File \u001b[0;32m~/Desktop/dev/otosense/meshed/meshed/dag.py:1094\u001b[0m, in \u001b[0;36mDAG.ch_funcs\u001b[0;34m(self, ch_func_node_func, **func_mapping)\u001b[0m\n\u001b[1;32m    963\u001b[0m \u001b[38;5;28;01mdef\u001b[39;00m \u001b[38;5;21mch_funcs\u001b[39m(\n\u001b[1;32m    964\u001b[0m     \u001b[38;5;28mself\u001b[39m,\n\u001b[1;32m    965\u001b[0m     \u001b[38;5;66;03m# func_comparator: CallableComparator = compare_signatures,\u001b[39;00m\n\u001b[0;32m   (...)\u001b[0m\n\u001b[1;32m    970\u001b[0m     \u001b[38;5;241m*\u001b[39m\u001b[38;5;241m*\u001b[39mfunc_mapping: Callable,\n\u001b[1;32m    971\u001b[0m ) \u001b[38;5;241m-\u001b[39m\u001b[38;5;241m>\u001b[39m \u001b[38;5;124m'\u001b[39m\u001b[38;5;124mDAG\u001b[39m\u001b[38;5;124m'\u001b[39m:\n\u001b[1;32m    972\u001b[0m \u001b[38;5;250m    \u001b[39m\u001b[38;5;124;03m\"\"\"\u001b[39;00m\n\u001b[1;32m    973\u001b[0m \u001b[38;5;124;03m    Change some of the functions in the DAG.\u001b[39;00m\n\u001b[1;32m    974\u001b[0m \u001b[38;5;124;03m    More preciseluy get a copy of the DAG where in some of the functions have\u001b[39;00m\n\u001b[0;32m   (...)\u001b[0m\n\u001b[1;32m   1092\u001b[0m \n\u001b[1;32m   1093\u001b[0m \u001b[38;5;124;03m    \"\"\"\u001b[39;00m\n\u001b[0;32m-> 1094\u001b[0m     \u001b[38;5;28;01mreturn\u001b[39;00m \u001b[43mch_funcs\u001b[49m\u001b[43m(\u001b[49m\n\u001b[1;32m   1095\u001b[0m \u001b[43m        \u001b[49m\u001b[38;5;28;43mself\u001b[39;49m\u001b[43m,\u001b[49m\u001b[43m \u001b[49m\u001b[43mfunc_mapping\u001b[49m\u001b[38;5;241;43m=\u001b[39;49m\u001b[43mfunc_mapping\u001b[49m\u001b[43m,\u001b[49m\u001b[43m \u001b[49m\u001b[43mch_func_node_func\u001b[49m\u001b[38;5;241;43m=\u001b[39;49m\u001b[43mch_func_node_func\u001b[49m\n\u001b[1;32m   1096\u001b[0m \u001b[43m    \u001b[49m\u001b[43m)\u001b[49m\n",
      "File \u001b[0;32m~/opt/anaconda3/envs/otopy310/lib/python3.10/site-packages/i2/deco.py:220\u001b[0m, in \u001b[0;36m_double_up_as_factory\u001b[0;34m(wrapped, __decorator_func, *args, **kwargs)\u001b[0m\n\u001b[1;32m    218\u001b[0m     \u001b[38;5;28;01mreturn\u001b[39;00m partial(__decorator_func, \u001b[38;5;241m*\u001b[39m\u001b[38;5;241m*\u001b[39mkwargs)\n\u001b[1;32m    219\u001b[0m \u001b[38;5;28;01melse\u001b[39;00m:\n\u001b[0;32m--> 220\u001b[0m     \u001b[38;5;28;01mreturn\u001b[39;00m \u001b[43m__decorator_func\u001b[49m\u001b[43m(\u001b[49m\u001b[43mwrapped\u001b[49m\u001b[43m,\u001b[49m\u001b[43m \u001b[49m\u001b[38;5;241;43m*\u001b[39;49m\u001b[43margs\u001b[49m\u001b[43m,\u001b[49m\u001b[43m \u001b[49m\u001b[38;5;241;43m*\u001b[39;49m\u001b[38;5;241;43m*\u001b[39;49m\u001b[43mkwargs\u001b[49m\u001b[43m)\u001b[49m\n",
      "File \u001b[0;32m~/Desktop/dev/otosense/meshed/meshed/dag.py:1843\u001b[0m, in \u001b[0;36mch_funcs\u001b[0;34m(func_nodes, func_mapping, validate_func_mapping, ch_func_node_func)\u001b[0m\n\u001b[1;32m   1841\u001b[0m new_dag \u001b[38;5;241m=\u001b[39m DAG(func_nodes)\n\u001b[1;32m   1842\u001b[0m \u001b[38;5;28;01mfor\u001b[39;00m key, func \u001b[38;5;129;01min\u001b[39;00m func_mapping\u001b[38;5;241m.\u001b[39mitems():\n\u001b[0;32m-> 1843\u001b[0m     new_dag \u001b[38;5;241m=\u001b[39m \u001b[43mch_func\u001b[49m\u001b[43m(\u001b[49m\u001b[43mnew_dag\u001b[49m\u001b[43m,\u001b[49m\u001b[43m \u001b[49m\u001b[43mkey\u001b[49m\u001b[43m,\u001b[49m\u001b[43m \u001b[49m\u001b[43mfunc\u001b[49m\u001b[43m)\u001b[49m\n\u001b[1;32m   1844\u001b[0m \u001b[38;5;28;01mreturn\u001b[39;00m new_dag\n",
      "File \u001b[0;32m~/Desktop/dev/otosense/meshed/meshed/dag.py:1836\u001b[0m, in \u001b[0;36mch_funcs.<locals>.ch_func\u001b[0;34m(dag, key, func)\u001b[0m\n\u001b[1;32m   1833\u001b[0m condition \u001b[38;5;241m=\u001b[39m \u001b[38;5;28;01mlambda\u001b[39;00m fn: fn\u001b[38;5;241m.\u001b[39mname \u001b[38;5;241m==\u001b[39m key \u001b[38;5;129;01mor\u001b[39;00m fn\u001b[38;5;241m.\u001b[39mout \u001b[38;5;241m==\u001b[39m key  \u001b[38;5;66;03m# TODO: interface ctrl?\u001b[39;00m\n\u001b[1;32m   1834\u001b[0m replacement \u001b[38;5;241m=\u001b[39m \u001b[38;5;28;01mlambda\u001b[39;00m fn: ch_func_node_func(fn, func,)\n\u001b[1;32m   1835\u001b[0m \u001b[38;5;28;01mreturn\u001b[39;00m DAG(\n\u001b[0;32m-> 1836\u001b[0m     \u001b[43mreplace_item_in_iterable\u001b[49m\u001b[43m(\u001b[49m\n\u001b[1;32m   1837\u001b[0m \u001b[43m        \u001b[49m\u001b[43mdag\u001b[49m\u001b[38;5;241;43m.\u001b[39;49m\u001b[43mfunc_nodes\u001b[49m\u001b[43m,\u001b[49m\u001b[43m \u001b[49m\u001b[43mcondition\u001b[49m\u001b[38;5;241;43m=\u001b[39;49m\u001b[43mcondition\u001b[49m\u001b[43m,\u001b[49m\u001b[43m \u001b[49m\u001b[43mreplacement\u001b[49m\u001b[38;5;241;43m=\u001b[39;49m\u001b[43mreplacement\u001b[49m\u001b[43m,\u001b[49m\n\u001b[1;32m   1838\u001b[0m \u001b[43m    \u001b[49m\u001b[43m)\u001b[49m\n\u001b[1;32m   1839\u001b[0m )\n",
      "File \u001b[0;32m~/Desktop/dev/otosense/meshed/meshed/util.py:798\u001b[0m, in \u001b[0;36mreplace_item_in_iterable\u001b[0;34m(iterable, condition, replacement, egress)\u001b[0m\n\u001b[1;32m    795\u001b[0m \u001b[38;5;66;03m# Make the item replacer\u001b[39;00m\n\u001b[1;32m    796\u001b[0m item_replacer \u001b[38;5;241m=\u001b[39m partial(conditional_trans, condition\u001b[38;5;241m=\u001b[39mcondition, trans\u001b[38;5;241m=\u001b[39mreplacement)\n\u001b[0;32m--> 798\u001b[0m \u001b[38;5;28;01mreturn\u001b[39;00m \u001b[43megress\u001b[49m\u001b[43m(\u001b[49m\u001b[38;5;28;43mmap\u001b[39;49m\u001b[43m(\u001b[49m\u001b[43mitem_replacer\u001b[49m\u001b[43m,\u001b[49m\u001b[43m \u001b[49m\u001b[43miterable\u001b[49m\u001b[43m)\u001b[49m\u001b[43m)\u001b[49m\n",
      "File \u001b[0;32m~/Desktop/dev/otosense/meshed/meshed/util.py:737\u001b[0m, in \u001b[0;36mconditional_trans\u001b[0;34m(obj, condition, trans)\u001b[0m\n\u001b[1;32m    735\u001b[0m     \u001b[38;5;28;01mreturn\u001b[39;00m obj\u001b[38;5;241m.\u001b[39mval\n\u001b[1;32m    736\u001b[0m \u001b[38;5;28;01melif\u001b[39;00m condition(obj):  \u001b[38;5;66;03m# If obj satisfies condition, return the alternative_obj\u001b[39;00m\n\u001b[0;32m--> 737\u001b[0m     \u001b[38;5;28;01mreturn\u001b[39;00m \u001b[43mtrans\u001b[49m\u001b[43m(\u001b[49m\u001b[43mobj\u001b[49m\u001b[43m)\u001b[49m\n\u001b[1;32m    738\u001b[0m \u001b[38;5;28;01melse\u001b[39;00m:  \u001b[38;5;66;03m# If not, just return object\u001b[39;00m\n\u001b[1;32m    739\u001b[0m     \u001b[38;5;28;01mreturn\u001b[39;00m obj\n",
      "File \u001b[0;32m~/Desktop/dev/otosense/meshed/meshed/dag.py:1834\u001b[0m, in \u001b[0;36mch_funcs.<locals>.ch_func.<locals>.<lambda>\u001b[0;34m(fn)\u001b[0m\n\u001b[1;32m   1832\u001b[0m \u001b[38;5;28;01mdef\u001b[39;00m \u001b[38;5;21mch_func\u001b[39m(dag, key, func):\n\u001b[1;32m   1833\u001b[0m     condition \u001b[38;5;241m=\u001b[39m \u001b[38;5;28;01mlambda\u001b[39;00m fn: fn\u001b[38;5;241m.\u001b[39mname \u001b[38;5;241m==\u001b[39m key \u001b[38;5;129;01mor\u001b[39;00m fn\u001b[38;5;241m.\u001b[39mout \u001b[38;5;241m==\u001b[39m key  \u001b[38;5;66;03m# TODO: interface ctrl?\u001b[39;00m\n\u001b[0;32m-> 1834\u001b[0m     replacement \u001b[38;5;241m=\u001b[39m \u001b[38;5;28;01mlambda\u001b[39;00m fn: \u001b[43mch_func_node_func\u001b[49m\u001b[43m(\u001b[49m\u001b[43mfn\u001b[49m\u001b[43m,\u001b[49m\u001b[43m \u001b[49m\u001b[43mfunc\u001b[49m\u001b[43m,\u001b[49m\u001b[43m)\u001b[49m\n\u001b[1;32m   1835\u001b[0m     \u001b[38;5;28;01mreturn\u001b[39;00m DAG(\n\u001b[1;32m   1836\u001b[0m         replace_item_in_iterable(\n\u001b[1;32m   1837\u001b[0m             dag\u001b[38;5;241m.\u001b[39mfunc_nodes, condition\u001b[38;5;241m=\u001b[39mcondition, replacement\u001b[38;5;241m=\u001b[39mreplacement,\n\u001b[1;32m   1838\u001b[0m         )\n\u001b[1;32m   1839\u001b[0m     )\n",
      "File \u001b[0;32m~/Desktop/dev/otosense/meshed/meshed/base.py:518\u001b[0m, in \u001b[0;36mch_func_node_func\u001b[0;34m(fn, func, func_comparator, alternative)\u001b[0m\n\u001b[1;32m    516\u001b[0m     \u001b[38;5;28;01mreturn\u001b[39;00m ch_func_node_attrs(fn, func\u001b[38;5;241m=\u001b[39mfunc)\n\u001b[1;32m    517\u001b[0m \u001b[38;5;28;01melse\u001b[39;00m:\n\u001b[0;32m--> 518\u001b[0m     \u001b[38;5;28;01mreturn\u001b[39;00m \u001b[43malternative\u001b[49m\u001b[43m(\u001b[49m\u001b[43mfn\u001b[49m\u001b[43m,\u001b[49m\u001b[43m \u001b[49m\u001b[43mfunc\u001b[49m\u001b[43m)\u001b[49m\n",
      "File \u001b[0;32m~/Desktop/dev/otosense/meshed/meshed/base.py:494\u001b[0m, in \u001b[0;36mraise_signature_mismatch_error\u001b[0;34m(fn, func)\u001b[0m\n\u001b[1;32m    493\u001b[0m \u001b[38;5;28;01mdef\u001b[39;00m \u001b[38;5;21mraise_signature_mismatch_error\u001b[39m(fn, func):\n\u001b[0;32m--> 494\u001b[0m     \u001b[38;5;28;01mraise\u001b[39;00m \u001b[38;5;167;01mValueError\u001b[39;00m(\n\u001b[1;32m    495\u001b[0m         \u001b[38;5;124m'\u001b[39m\u001b[38;5;124mYou can only change the func of a FuncNode with a another func if the \u001b[39m\u001b[38;5;124m'\u001b[39m\n\u001b[1;32m    496\u001b[0m         \u001b[38;5;124m'\u001b[39m\u001b[38;5;124msignatures match.\u001b[39m\u001b[38;5;130;01m\\n\u001b[39;00m\u001b[38;5;124m'\u001b[39m\n\u001b[1;32m    497\u001b[0m         \u001b[38;5;124mf\u001b[39m\u001b[38;5;124m'\u001b[39m\u001b[38;5;130;01m\\t\u001b[39;00m\u001b[38;5;132;01m{\u001b[39;00mfn\u001b[38;5;132;01m=}\u001b[39;00m\u001b[38;5;130;01m\\n\u001b[39;00m\u001b[38;5;124m'\u001b[39m\n\u001b[1;32m    498\u001b[0m         \u001b[38;5;124mf\u001b[39m\u001b[38;5;124m'\u001b[39m\u001b[38;5;130;01m\\t\u001b[39;00m\u001b[38;5;132;01m{\u001b[39;00mSig(fn\u001b[38;5;241m.\u001b[39mfunc)\u001b[38;5;132;01m=}\u001b[39;00m\u001b[38;5;130;01m\\n\u001b[39;00m\u001b[38;5;124m'\u001b[39m\n\u001b[1;32m    499\u001b[0m         \u001b[38;5;124mf\u001b[39m\u001b[38;5;124m'\u001b[39m\u001b[38;5;130;01m\\t\u001b[39;00m\u001b[38;5;132;01m{\u001b[39;00mSig(func)\u001b[38;5;132;01m=}\u001b[39;00m\u001b[38;5;130;01m\\n\u001b[39;00m\u001b[38;5;124m'\u001b[39m\n\u001b[1;32m    500\u001b[0m     )\n",
      "\u001b[0;31mValueError\u001b[0m: You can only change the func of a FuncNode with a another func if the signatures match.\n\tfn=FuncNode(a_plus_b,d -> g_ -> g)\n\tSig(fn.func)=<Sig (a_plus_b, d: float = 4)>\n\tSig(func)=<Sig (y, z)>\n"
     ]
    }
   ],
   "source": [
    ">>> from meshed import compare_signatures\n",
    ">>> from meshed.dag import ch_func_node_func\n",
    ">>> from functools import partial\n",
    ">>> on_names = lambda sig1, sig2: list(sig1.parameters) == list(sig2.parameters)\n",
    ">>> same_names = partial(compare_signatures, signature_comparator=on_names)\n",
    ">>> ch_fnode = partial(ch_func_node_func, func_comparator=same_names)\n",
    ">>> d = dag.ch_funcs(ch_fnode, g=lambda y, z: y / z);\n",
    ">>> Sig(d)\n",
    "#<Sig (a, b, y)>\n",
    ">>> d(2, 3, 4)\n",
    "#        0.8"
   ]
  },
  {
   "cell_type": "code",
   "execution_count": 26,
   "id": "9d207e37-a1f4-4c51-b0d4-996439919dd5",
   "metadata": {},
   "outputs": [],
   "source": [
    "from meshed.dag import ch_func_node_func\n"
   ]
  },
  {
   "cell_type": "markdown",
   "id": "665084ee-9ec2-48e2-b194-182f565f2c51",
   "metadata": {},
   "source": [
    "<div class=\"mermaid\">\n",
    "graph LR\n",
    "  A --- B\n",
    "  B-->C[fa:fa-ban forbidden]\n",
    "  B-->D(fa:fa-spinner);\n",
    "</div>"
   ]
  },
  {
   "cell_type": "code",
   "execution_count": 1,
   "id": "6bb9740c-1a30-4f41-839d-b30e3bb9602e",
   "metadata": {},
   "outputs": [],
   "source": [
    "TEMPLATE_MERMAIDJS=\"\"\"<html>\n",
    "    <body>\n",
    "        <script src=\"https://cdn.jsdelivr.net/npm/mermaid/dist/mermaid.min.js\"></script>\n",
    "        <script>\n",
    "            mermaid.initialize({{ startOnLoad: true }});\n",
    "        </script>\n",
    " \n",
    "        <div class=\"mermaid\">\n",
    "            {src}\n",
    "        </div>\n",
    " \n",
    "    </body>\n",
    "</html>\n",
    "\"\"\""
   ]
  },
  {
   "cell_type": "code",
   "execution_count": 9,
   "id": "98a34727-d45a-442f-81f8-547b8f5360db",
   "metadata": {},
   "outputs": [],
   "source": [
    "from IPython.core.magic import Magics, magics_class, cell_magic, line_cell_magic\n",
    "from IPython.core import magic_arguments\n",
    "from pyflowchart import Flowchart\n",
    " \n",
    "@magics_class\n",
    "class JSdiagrammerMagics(Magics):\n",
    "    \"\"\"Magics for Javascript diagramming.\"\"\"\n",
    "    def __init__(self, shell):\n",
    "        super(JSdiagrammerMagics, self).__init__(shell)\n",
    " \n",
    "    @line_cell_magic\n",
    "    @magic_arguments.magic_arguments()\n",
    "    @magic_arguments.argument(\n",
    "        \"--file\", \"-f\", help=\"Source for audio file.\"\n",
    "    )\n",
    "    def wavesurfer_magic(self, line, cell=None):\n",
    "        \"Send code to wavesurfer.js.\"\n",
    "        args = magic_arguments.parse_argstring(self.wavesurfer_magic, line)\n",
    "        if not args.file:\n",
    "            return\n",
    "        return js_ui({\"src\":args.file}, TEMPLATE_WAVESURFERJS, height=200)\n",
    " \n",
    "    @cell_magic\n",
    "    @magic_arguments.magic_arguments()\n",
    "    @magic_arguments.argument(\n",
    "        \"--height\", \"-h\", default=\"300\", help=\"IFrame height.\"\n",
    "    )\n",
    "    def mermaid_magic(self, line, cell):\n",
    "        \"Send code to mermaid.js.\"\n",
    "        args = magic_arguments.parse_argstring(self.mermaid_magic, line)\n",
    "        return js_ui({\"src\":cell}, TEMPLATE_MERMAIDJS, height=args.height)\n",
    " \n",
    "def load_ipython_extension(ip):\n",
    "    \"\"\"Load the extension in IPython.\"\"\"\n",
    "    ipython.register_magics(JSdiagrammerMagics)\n",
    "     \n",
    "ip = get_ipython()\n",
    "ip.register_magics(JSdiagrammerMagics)"
   ]
  },
  {
   "cell_type": "code",
   "execution_count": 3,
   "id": "dcab8f98-34b1-4072-be87-0e5b948fb1e4",
   "metadata": {},
   "outputs": [
    {
     "name": "stdout",
     "output_type": "stream",
     "text": [
      "Requirement already satisfied: pyflowchart in /Users/sylvain/opt/anaconda3/lib/python3.8/site-packages (0.2.3)\n",
      "Requirement already satisfied: astunparse in /Users/sylvain/opt/anaconda3/lib/python3.8/site-packages (from pyflowchart) (1.6.3)\n",
      "Requirement already satisfied: chardet in /Users/sylvain/opt/anaconda3/lib/python3.8/site-packages (from pyflowchart) (4.0.0)\n",
      "Requirement already satisfied: six<2.0,>=1.6.1 in /Users/sylvain/opt/anaconda3/lib/python3.8/site-packages (from astunparse->pyflowchart) (1.15.0)\n",
      "Requirement already satisfied: wheel<1.0,>=0.23.0 in /Users/sylvain/opt/anaconda3/lib/python3.8/site-packages (from astunparse->pyflowchart) (0.36.2)\n"
     ]
    }
   ],
   "source": [
    "!pip3 install pyflowchart"
   ]
  },
  {
   "cell_type": "code",
   "execution_count": 6,
   "id": "3acbebdf-93e3-4029-834f-a8ab9cea277d",
   "metadata": {},
   "outputs": [],
   "source": [
    "from pyflowchart import Flowchart\n"
   ]
  },
  {
   "cell_type": "markdown",
   "id": "4f25f11a-64de-43a0-8b0d-15e6f5ef3498",
   "metadata": {},
   "source": [
    "%%mermaid_magic -h 350\n",
    "sequenceDiagram\n",
    "    Alice->>John: Hello John, how are you?\n",
    "    John ->>Alice: Great!\n"
   ]
  },
  {
   "cell_type": "code",
   "execution_count": 11,
   "id": "9f8bb9e6-200b-4107-b010-75b4e77521ff",
   "metadata": {},
   "outputs": [],
   "source": [
    "import io\n",
    "import uuid\n",
    "from pathlib import Path\n",
    "from IPython.display import IFrame\n",
    " \n",
    "def js_ui(data, template, out_fn = None, out_path='.',\n",
    "          width=\"100%\", height=\"\", **kwargs):\n",
    "    \"\"\"Generate an IFrame containing a templated javascript package.\"\"\"\n",
    "    if not out_fn:\n",
    "        out_fn = Path(f\"{uuid.uuid4()}.html\")\n",
    "         \n",
    "    # Generate the path to the output file\n",
    "    out_path = Path(out_path)\n",
    "    filepath = out_path / out_fn\n",
    "    # Check the required directory path exists\n",
    "    filepath.parent.mkdir(parents=True, exist_ok=True)\n",
    " \n",
    "    # The open \"wt\" parameters are: write, text mode;\n",
    "    with io.open(filepath, 'wt', encoding='utf8') as outfile:\n",
    "        # The data is passed in as a dictionary so we can pass different\n",
    "        # arguments to the template\n",
    "        outfile.write(template.format(**data))\n",
    " \n",
    "    return IFrame(src=filepath, width=width, height=height)"
   ]
  },
  {
   "cell_type": "code",
   "execution_count": 12,
   "id": "ba5dfc9d-cbaf-46f5-a7cb-61ac981aa899",
   "metadata": {},
   "outputs": [],
   "source": [
    "mcode = \"\"\"\n",
    "graph TD;\n",
    "    A-->B;\n",
    "    A-->C;\n",
    "    B-->D;\n",
    "    C-->D;\n",
    "\"\"\""
   ]
  },
  {
   "cell_type": "code",
   "execution_count": 13,
   "id": "31f90d72-085a-4704-8e4d-8c86b514b525",
   "metadata": {},
   "outputs": [
    {
     "data": {
      "text/html": [
       "\n",
       "        <iframe\n",
       "            width=\"100%\"\n",
       "            height=\"\"\n",
       "            src=\"69b0e400-db82-4a70-85bc-005b5134b583.html\"\n",
       "            frameborder=\"0\"\n",
       "            allowfullscreen\n",
       "            \n",
       "        ></iframe>\n",
       "        "
      ],
      "text/plain": [
       "<IPython.lib.display.IFrame at 0x7fcd0073be20>"
      ]
     },
     "execution_count": 13,
     "metadata": {},
     "output_type": "execute_result"
    }
   ],
   "source": [
    "js_ui({\"src\":mcode}, TEMPLATE_MERMAIDJS)"
   ]
  },
  {
   "cell_type": "code",
   "execution_count": 14,
   "id": "f9e03ffb-612c-42fd-95df-3a7915b34773",
   "metadata": {},
   "outputs": [],
   "source": [
    "TEMPLATE_WAVEDROM = \"\"\"<!DOCTYPE html>\n",
    "<html>\n",
    "    <head>\n",
    "        <meta charset=\"UTF-8\">\n",
    "        <title>wavedrom.js</title>\n",
    "<script src=\"https://cdnjs.cloudflare.com/ajax/libs/wavedrom/2.6.8/skins/default.js\" type=\"text/javascript\"></script>\n",
    "<script src=\"https://cdnjs.cloudflare.com/ajax/libs/wavedrom/2.6.8/wavedrom.min.js\" type=\"text/javascript\"></script>\n",
    "</head>\n",
    "        <body onload=\"WaveDrom.ProcessAll()\">\n",
    "<script type=\"WaveDrom\">\n",
    "{src}\n",
    "</script>\n",
    "        </body>\n",
    "</html>\n",
    "\"\"\""
   ]
  },
  {
   "cell_type": "code",
   "execution_count": 17,
   "id": "6038d7df-d331-466f-9208-93fcb157b538",
   "metadata": {},
   "outputs": [],
   "source": [
    "wcode=\"\"\"{ signal : [\n",
    "  { name: \"plc\",  wave: \"p......\" },\n",
    "  { name: \"bus\",  wave: \"x.34.5x\",   data: \"head body tail\" },\n",
    "  { name: \"wire\", wave: \"0.1..0.\" },\n",
    "]}\n",
    "\"\"\""
   ]
  },
  {
   "cell_type": "code",
   "execution_count": 18,
   "id": "6cae40b2-ab6f-4331-a3f0-96a5401fbf7c",
   "metadata": {},
   "outputs": [
    {
     "data": {
      "text/html": [
       "\n",
       "        <iframe\n",
       "            width=\"100%\"\n",
       "            height=\"\"\n",
       "            src=\"516be5c2-78ba-45e1-80c8-8e88062619d2.html\"\n",
       "            frameborder=\"0\"\n",
       "            allowfullscreen\n",
       "            \n",
       "        ></iframe>\n",
       "        "
      ],
      "text/plain": [
       "<IPython.lib.display.IFrame at 0x7fcd0077d120>"
      ]
     },
     "execution_count": 18,
     "metadata": {},
     "output_type": "execute_result"
    }
   ],
   "source": [
    "js_ui({\"src\":wcode}, TEMPLATE_WAVEDROM)"
   ]
  },
  {
   "cell_type": "code",
   "execution_count": 19,
   "id": "fba7d9ec-c3b4-42a3-aa53-ebafddc69b5b",
   "metadata": {},
   "outputs": [],
   "source": [
    "%load_ext nb_js_diagrammers\n",
    "\n"
   ]
  },
  {
   "cell_type": "code",
   "execution_count": 20,
   "id": "42abb718-481d-4c2d-a743-4a2c3ed54d91",
   "metadata": {},
   "outputs": [
    {
     "data": {
      "text/html": [
       "<iframe srcdoc=\"&lt;html&gt;\n",
       "    &lt;body&gt;\n",
       "        &lt;script src=&quot;https://cdn.jsdelivr.net/npm/mermaid/dist/mermaid.min.js&quot;&gt;&lt;/script&gt;\n",
       "        &lt;script&gt;\n",
       "            mermaid.initialize({ startOnLoad: true });\n",
       "        &lt;/script&gt;\n",
       " \n",
       "        &lt;div class=&quot;mermaid&quot;&gt;\n",
       "            flowchart TD\n",
       "    A[Start] --&gt; B{Is it?};\n",
       "    B --&gt;|Yes| C[OK];\n",
       "    C --&gt; D[Rethink];\n",
       "    D --&gt; B;\n",
       "    B ----&gt;|No| E[End];\n",
       "        &lt;/div&gt;\n",
       " \n",
       "    &lt;/body&gt;\n",
       "&lt;/html&gt;\n",
       "\" width=\"100%\" height=\"500\"style=\"border:none !important;\" \"allowfullscreen\" \"webkitallowfullscreen\" \"mozallowfullscreen\"></iframe>"
      ],
      "text/plain": [
       "<nb_js_diagrammers.magics.JSDiagram at 0x7fcd002e5cc0>"
      ]
     },
     "execution_count": 20,
     "metadata": {},
     "output_type": "execute_result"
    }
   ],
   "source": [
    "%%mermaid_magic -h 500\n",
    "\n",
    "flowchart TD\n",
    "    A[Start] --> B{Is it?};\n",
    "    B -->|Yes| C[OK];\n",
    "    C --> D[Rethink];\n",
    "    D --> B;\n",
    "    B ---->|No| E[End];"
   ]
  },
  {
   "cell_type": "markdown",
   "id": "a06716b2-70ce-4b6d-8922-8c47c367511d",
   "metadata": {},
   "source": [
    "```{mermaid}\n",
    "flowchart LR\n",
    "  A[Hard edge] --> B(Round edge)\n",
    "  B --> C{Decision}\n",
    "  C --> D[Result one]\n",
    "  C --> E[Result two]\n",
    "```"
   ]
  },
  {
   "cell_type": "markdown",
   "id": "df58abea-bd77-4586-8670-c150732e9f25",
   "metadata": {},
   "source": [
    "* user has a certain use case (say: they need to get some folder or zip file and build an outlier model from it). An outlier model that needs to run on another flder (train folder and test folder)\n",
    "* first: two folders, with wav files. The store is easy (a Wav Store, already made)\n",
    "* second: need to creat a seq of chks, put it in off the shelf featurizer and go through an outlier model, get a dpp out of it. Dpp for training and one for testing\n",
    "* test it"
   ]
  },
  {
   "cell_type": "markdown",
   "id": "5e01f9bf-876a-4a3d-8006-e01e5f9d5c0f",
   "metadata": {},
   "source": [
    "* how to do it: put train and test together\n",
    "* some choices were made: dflt chker, dflt feat. and model. What if I don't want the defaults. How to get control on those?\n",
    "  * one way: I make specific chkers, featurizers, by using funcfactories, and then put those together, or if possible (ok in the backend side): you inject different functions\n",
    "  * other way: when you create the pipeline, you do parametrized line way (expose the chk size): the pipeline is parametrized. \n",
    "* what if we have other things than wav files? ex. stuff to ignore, or may be another source (show the storemaker side of the dpp). \n",
    "* nonlinear\n",
    "* what if I have a dataset, and need to do a train/test? I have only one folder, and need to do a filter. Make some key separation on train/test: what are components to do that?\n",
    "* we could throw some visual components: take the dpp, and visualize the nodes of it.\n",
    "* how about we run it on something live? Check Andie's live plotter."
   ]
  },
  {
   "cell_type": "code",
   "execution_count": 1,
   "id": "41554741-5ce5-4280-b540-e6e111fbe5e5",
   "metadata": {},
   "outputs": [],
   "source": [
    "import umap"
   ]
  },
  {
   "cell_type": "code",
   "execution_count": 2,
   "id": "731b1a12-c009-4404-9ba1-7d6293b7fb2c",
   "metadata": {},
   "outputs": [
    {
     "ename": "AttributeError",
     "evalue": "module 'umap' has no attribute 'UMAP'",
     "output_type": "error",
     "traceback": [
      "\u001b[0;31m---------------------------------------------------------------------------\u001b[0m",
      "\u001b[0;31mAttributeError\u001b[0m                            Traceback (most recent call last)",
      "Cell \u001b[0;32mIn[2], line 1\u001b[0m\n\u001b[0;32m----> 1\u001b[0m red \u001b[38;5;241m=\u001b[39m \u001b[43mumap\u001b[49m\u001b[38;5;241;43m.\u001b[39;49m\u001b[43mUMAP\u001b[49m()\n",
      "\u001b[0;31mAttributeError\u001b[0m: module 'umap' has no attribute 'UMAP'"
     ]
    }
   ],
   "source": [
    "red = umap.UMAP()"
   ]
  },
  {
   "cell_type": "code",
   "execution_count": null,
   "id": "04babcf0-b6a4-40ed-a492-0111dcd4ee6b",
   "metadata": {},
   "outputs": [],
   "source": []
  }
 ],
 "metadata": {
  "kernelspec": {
   "display_name": "otopy38",
   "language": "python",
   "name": "otopy38"
  },
  "language_info": {
   "codemirror_mode": {
    "name": "ipython",
    "version": 3
   },
   "file_extension": ".py",
   "mimetype": "text/x-python",
   "name": "python",
   "nbconvert_exporter": "python",
   "pygments_lexer": "ipython3",
   "version": "3.8.11"
  }
 },
 "nbformat": 4,
 "nbformat_minor": 5
}
