{
 "cells": [
  {
   "cell_type": "code",
   "execution_count": 1,
   "metadata": {},
   "outputs": [
    {
     "name": "stderr",
     "output_type": "stream",
     "text": [
      "/Users/vferon/otosense/sources/tools/public/plunk/.venv/lib/python3.11/site-packages/omodel/core/spectro.py:171: UserWarning: Couldn't import librosa, so the dependent functions weren't imported. The error was: No module named 'librosa'\n",
      "  warn(f\"Couldn't import librosa, so the dependent functions weren't imported. The error was: {str(e)}\")\n"
     ]
    }
   ],
   "source": [
    "from simple_dpp_sushma import simple_dpp    "
   ]
  },
  {
   "cell_type": "code",
   "execution_count": 2,
   "metadata": {},
   "outputs": [
    {
     "ename": "TypeError",
     "evalue": "missing a required argument: 'wav_list'",
     "output_type": "error",
     "traceback": [
      "\u001b[0;31m---------------------------------------------------------------------------\u001b[0m",
      "\u001b[0;31mTypeError\u001b[0m                                 Traceback (most recent call last)",
      "Cell \u001b[0;32mIn[2], line 1\u001b[0m\n\u001b[0;32m----> 1\u001b[0m simple_dpp()\n",
      "File \u001b[0;32m~/otosense/sources/tools/public/plunk/.venv/lib/python3.11/site-packages/meshed/dag.py:576\u001b[0m, in \u001b[0;36mDAG.__call__\u001b[0;34m(self, *args, **kwargs)\u001b[0m\n\u001b[1;32m    575\u001b[0m \u001b[39mdef\u001b[39;00m \u001b[39m__call__\u001b[39m(\u001b[39mself\u001b[39m, \u001b[39m*\u001b[39margs, \u001b[39m*\u001b[39m\u001b[39m*\u001b[39mkwargs):\n\u001b[0;32m--> 576\u001b[0m     \u001b[39mreturn\u001b[39;00m \u001b[39mself\u001b[39;49m\u001b[39m.\u001b[39;49m_call(\u001b[39m*\u001b[39;49margs, \u001b[39m*\u001b[39;49m\u001b[39m*\u001b[39;49mkwargs)\n",
      "File \u001b[0;32m~/otosense/sources/tools/public/plunk/.venv/lib/python3.11/site-packages/meshed/dag.py:591\u001b[0m, in \u001b[0;36mDAG._call\u001b[0;34m(self, *args, **kwargs)\u001b[0m\n\u001b[1;32m    586\u001b[0m \u001b[39mdef\u001b[39;00m \u001b[39m_call\u001b[39m(\u001b[39mself\u001b[39m, \u001b[39m*\u001b[39margs, \u001b[39m*\u001b[39m\u001b[39m*\u001b[39mkwargs):\n\u001b[1;32m    587\u001b[0m     \u001b[39m# Get a dict of {argname: argval} pairs from positional and keyword arguments\u001b[39;00m\n\u001b[1;32m    588\u001b[0m     \u001b[39m# How positionals are resolved is determined by self.__signature__\u001b[39;00m\n\u001b[1;32m    589\u001b[0m     \u001b[39m# The result is the initial ``scope`` the func nodes will both read from\u001b[39;00m\n\u001b[1;32m    590\u001b[0m     \u001b[39m# to get their arguments, and write their outputs to.\u001b[39;00m\n\u001b[0;32m--> 591\u001b[0m     scope \u001b[39m=\u001b[39m \u001b[39mself\u001b[39;49m\u001b[39m.\u001b[39;49m_get_kwargs(\u001b[39m*\u001b[39;49margs, \u001b[39m*\u001b[39;49m\u001b[39m*\u001b[39;49mkwargs)\n\u001b[1;32m    592\u001b[0m     \u001b[39m# Go through self.func_nodes in order and call them on scope (performing said\u001b[39;00m\n\u001b[1;32m    593\u001b[0m     \u001b[39m# read_input -> call_func -> write_output operations)\u001b[39;00m\n\u001b[1;32m    594\u001b[0m     \u001b[39mself\u001b[39m\u001b[39m.\u001b[39mcall_on_scope(scope)\n",
      "File \u001b[0;32m~/otosense/sources/tools/public/plunk/.venv/lib/python3.11/site-packages/meshed/dag.py:582\u001b[0m, in \u001b[0;36mDAG._get_kwargs\u001b[0;34m(self, *args, **kwargs)\u001b[0m\n\u001b[1;32m    578\u001b[0m \u001b[39mdef\u001b[39;00m \u001b[39m_get_kwargs\u001b[39m(\u001b[39mself\u001b[39m, \u001b[39m*\u001b[39margs, \u001b[39m*\u001b[39m\u001b[39m*\u001b[39mkwargs):\n\u001b[1;32m    579\u001b[0m \u001b[39m    \u001b[39m\u001b[39m\"\"\"\u001b[39;00m\n\u001b[1;32m    580\u001b[0m \u001b[39m    Get a dict of {argname: argval} pairs from positional and keyword arguments.\u001b[39;00m\n\u001b[1;32m    581\u001b[0m \u001b[39m    \"\"\"\u001b[39;00m\n\u001b[0;32m--> 582\u001b[0m     \u001b[39mreturn\u001b[39;00m \u001b[39mself\u001b[39;49m\u001b[39m.\u001b[39;49m__signature__\u001b[39m.\u001b[39;49mkwargs_from_args_and_kwargs(\n\u001b[1;32m    583\u001b[0m         args, kwargs, apply_defaults\u001b[39m=\u001b[39;49m\u001b[39mTrue\u001b[39;49;00m\n\u001b[1;32m    584\u001b[0m     )\n",
      "File \u001b[0;32m~/otosense/sources/tools/public/plunk/.venv/lib/python3.11/site-packages/i2/signatures.py:2352\u001b[0m, in \u001b[0;36mSig.kwargs_from_args_and_kwargs\u001b[0;34m(self, args, kwargs, apply_defaults, allow_partial, allow_excess, ignore_kind, debug)\u001b[0m\n\u001b[1;32m   2347\u001b[0m     max_allowed_num_of_posisional_args \u001b[39m=\u001b[39m \u001b[39msum\u001b[39m(\n\u001b[1;32m   2348\u001b[0m         k \u001b[39m<\u001b[39m\u001b[39m=\u001b[39m PK \u001b[39mfor\u001b[39;00m k \u001b[39min\u001b[39;00m \u001b[39mself\u001b[39m\u001b[39m.\u001b[39mkinds\u001b[39m.\u001b[39mvalues()\n\u001b[1;32m   2349\u001b[0m     )\n\u001b[1;32m   2350\u001b[0m     args \u001b[39m=\u001b[39m args[:max_allowed_num_of_posisional_args]\n\u001b[0;32m-> 2352\u001b[0m b \u001b[39m=\u001b[39m binder(\u001b[39m*\u001b[39;49margs, \u001b[39m*\u001b[39;49m\u001b[39m*\u001b[39;49msig_relevant_kwargs)\n\u001b[1;32m   2353\u001b[0m \u001b[39mif\u001b[39;00m apply_defaults:\n\u001b[1;32m   2354\u001b[0m     b\u001b[39m.\u001b[39mapply_defaults()\n",
      "File \u001b[0;32m/Library/Frameworks/Python.framework/Versions/3.11/lib/python3.11/inspect.py:3211\u001b[0m, in \u001b[0;36mSignature.bind\u001b[0;34m(self, *args, **kwargs)\u001b[0m\n\u001b[1;32m   3206\u001b[0m \u001b[39mdef\u001b[39;00m \u001b[39mbind\u001b[39m(\u001b[39mself\u001b[39m, \u001b[39m/\u001b[39m, \u001b[39m*\u001b[39margs, \u001b[39m*\u001b[39m\u001b[39m*\u001b[39mkwargs):\n\u001b[1;32m   3207\u001b[0m \u001b[39m    \u001b[39m\u001b[39m\"\"\"Get a BoundArguments object, that maps the passed `args`\u001b[39;00m\n\u001b[1;32m   3208\u001b[0m \u001b[39m    and `kwargs` to the function's signature.  Raises `TypeError`\u001b[39;00m\n\u001b[1;32m   3209\u001b[0m \u001b[39m    if the passed arguments can not be bound.\u001b[39;00m\n\u001b[1;32m   3210\u001b[0m \u001b[39m    \"\"\"\u001b[39;00m\n\u001b[0;32m-> 3211\u001b[0m     \u001b[39mreturn\u001b[39;00m \u001b[39mself\u001b[39;49m\u001b[39m.\u001b[39;49m_bind(args, kwargs)\n",
      "File \u001b[0;32m/Library/Frameworks/Python.framework/Versions/3.11/lib/python3.11/inspect.py:3126\u001b[0m, in \u001b[0;36mSignature._bind\u001b[0;34m(self, args, kwargs, partial)\u001b[0m\n\u001b[1;32m   3124\u001b[0m                 msg \u001b[39m=\u001b[39m \u001b[39m'\u001b[39m\u001b[39mmissing a required argument: \u001b[39m\u001b[39m{arg!r}\u001b[39;00m\u001b[39m'\u001b[39m\n\u001b[1;32m   3125\u001b[0m                 msg \u001b[39m=\u001b[39m msg\u001b[39m.\u001b[39mformat(arg\u001b[39m=\u001b[39mparam\u001b[39m.\u001b[39mname)\n\u001b[0;32m-> 3126\u001b[0m                 \u001b[39mraise\u001b[39;00m \u001b[39mTypeError\u001b[39;00m(msg) \u001b[39mfrom\u001b[39;00m \u001b[39mNone\u001b[39;00m\n\u001b[1;32m   3127\u001b[0m \u001b[39melse\u001b[39;00m:\n\u001b[1;32m   3128\u001b[0m     \u001b[39m# We have a positional argument to process\u001b[39;00m\n\u001b[1;32m   3129\u001b[0m     \u001b[39mtry\u001b[39;00m:\n",
      "\u001b[0;31mTypeError\u001b[0m: missing a required argument: 'wav_list'"
     ]
    }
   ],
   "source": [
    "simple_dpp()"
   ]
  },
  {
   "cell_type": "code",
   "execution_count": 5,
   "metadata": {},
   "outputs": [
    {
     "name": "stdout",
     "output_type": "stream",
     "text": [
      "Block 1: []\n",
      "Block 2: []\n",
      "Block 3: []\n",
      "Block 4: []\n",
      "Block 5: []\n",
      "Block 6: []\n",
      "Block 7: []\n",
      "Block 8: []\n",
      "Block 9: []\n",
      "Block 10: []\n"
     ]
    }
   ],
   "source": [
    "from time import sleep\n",
    "from dummy_dpp import DPP, TimestampedData\n",
    "\n",
    "dpp = DPP()\n",
    "\n",
    "for i in range(10):\n",
    "    sleep(1)\n",
    "    block = TimestampedData(\n",
    "        data=b'',\n",
    "        bt=i,\n",
    "        tt=i+1,\n",
    "    )\n",
    "    aggregate = (i<9)\n",
    "    print(f'Block {i+1}:', dpp.run(block, aggregate))\n"
   ]
  },
  {
   "cell_type": "code",
   "execution_count": null,
   "metadata": {},
   "outputs": [],
   "source": []
  },
  {
   "cell_type": "code",
   "execution_count": null,
   "metadata": {},
   "outputs": [],
   "source": []
  }
 ],
 "metadata": {
  "kernelspec": {
   "display_name": ".venv",
   "language": "python",
   "name": "python3"
  },
  "language_info": {
   "codemirror_mode": {
    "name": "ipython",
    "version": 3
   },
   "file_extension": ".py",
   "mimetype": "text/x-python",
   "name": "python",
   "nbconvert_exporter": "python",
   "pygments_lexer": "ipython3",
   "version": "3.11.2"
  },
  "orig_nbformat": 4
 },
 "nbformat": 4,
 "nbformat_minor": 2
}
