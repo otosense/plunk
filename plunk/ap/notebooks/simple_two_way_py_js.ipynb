{
 "cells": [
  {
   "cell_type": "code",
   "execution_count": 1,
   "metadata": {},
   "outputs": [
    {
     "data": {
      "text/plain": [
       "{'IPKernelApp': {'connection_file': '/Users/Andie.Phan/Library/Jupyter/runtime/kernel-d6e6d7d8-6e95-49b6-a0b2-e765ec03f286.json'}}"
      ]
     },
     "execution_count": 1,
     "metadata": {},
     "output_type": "execute_result"
    }
   ],
   "source": [
    "from IPython import get_ipython\n",
    "kernel = get_ipython()\n",
    "kernel.config"
   ]
  },
  {
   "cell_type": "code",
   "execution_count": 2,
   "metadata": {},
   "outputs": [
    {
     "data": {
      "text/plain": [
       "'d6e6d7d8-6e95-49b6-a0b2-e765ec03f286'"
      ]
     },
     "execution_count": 2,
     "metadata": {},
     "output_type": "execute_result"
    }
   ],
   "source": [
    "\n",
    "kernel_config_app = kernel.config['IPKernelApp']\n",
    "conn_file = kernel_config_app['connection_file']\n",
    "kernel_id = conn_file.split('-', 1)[1].split('.')[0]\n",
    "kernel_id"
   ]
  },
  {
   "cell_type": "code",
   "execution_count": 3,
   "metadata": {},
   "outputs": [
    {
     "data": {
      "text/plain": [
       "{'shell_port': 57002,\n",
       " 'iopub_port': 57003,\n",
       " 'stdin_port': 57004,\n",
       " 'control_port': 57006,\n",
       " 'hb_port': 57005,\n",
       " 'ip': '127.0.0.1',\n",
       " 'key': '6d96705a-8fe9e9ed81b57af2d4ed33cd',\n",
       " 'transport': 'tcp',\n",
       " 'signature_scheme': 'hmac-sha256',\n",
       " 'kernel_name': ''}"
      ]
     },
     "execution_count": 3,
     "metadata": {},
     "output_type": "execute_result"
    }
   ],
   "source": [
    "import json\n",
    "cfg_json = json.load(open(conn_file))\n",
    "cfg_json"
   ]
  },
  {
   "cell_type": "code",
   "execution_count": 4,
   "metadata": {},
   "outputs": [
    {
     "data": {
      "text/plain": [
       "[{'base_url': '/',\n",
       "  'hostname': 'localhost',\n",
       "  'password': False,\n",
       "  'pid': 15441,\n",
       "  'port': 8888,\n",
       "  'root_dir': '/Users/Andie.Phan/Projects/otosense/plunk/plunk/ap/notebooks',\n",
       "  'secure': False,\n",
       "  'sock': '',\n",
       "  'token': '32df656aef14e13423ec97b6ba3fe79da260ea9a3996ef99',\n",
       "  'url': 'http://localhost:8888/',\n",
       "  'version': '2.6.0'}]"
      ]
     },
     "execution_count": 4,
     "metadata": {},
     "output_type": "execute_result"
    }
   ],
   "source": [
    "from jupyter_server import serverapp\n",
    "# from notebook import notebookapp\n",
    "server_list = []\n",
    "# server_list += list(notebookapp.list_running_servers())\n",
    "server_list += list(serverapp.list_running_servers())\n",
    "server_list"
   ]
  },
  {
   "cell_type": "code",
   "execution_count": 5,
   "metadata": {},
   "outputs": [
    {
     "data": {
      "text/plain": [
       "'ws://localhost:8888/api/kernels/d6e6d7d8-6e95-49b6-a0b2-e765ec03f286/channels?token=32df656aef14e13423ec97b6ba3fe79da260ea9a3996ef99'"
      ]
     },
     "execution_count": 5,
     "metadata": {},
     "output_type": "execute_result"
    }
   ],
   "source": [
    "server_cfg = server_list[0]\n",
    "\n",
    "ws_url = (\n",
    "    f\"ws{server_cfg['url'][4:]}api/kernels/{kernel_id}\"\n",
    "    f\"/channels?token={server_cfg['token']}\"\n",
    ")\n",
    "ws_url"
   ]
  },
  {
   "cell_type": "code",
   "execution_count": 10,
   "metadata": {},
   "outputs": [
    {
     "ename": "RuntimeError",
     "evalue": "Cannot run the event loop while another loop is running",
     "output_type": "error",
     "traceback": [
      "\u001b[0;31m---------------------------------------------------------------------------\u001b[0m",
      "\u001b[0;31mRuntimeError\u001b[0m                              Traceback (most recent call last)",
      "\u001b[1;32m/Users/Andie.Phan/Projects/otosense/plunk/plunk/ap/notebooks/simple_two_way_py_js.ipynb Cell 6\u001b[0m line \u001b[0;36m4\n\u001b[1;32m     <a href='vscode-notebook-cell:/Users/Andie.Phan/Projects/otosense/plunk/plunk/ap/notebooks/simple_two_way_py_js.ipynb#X23sZmlsZQ%3D%3D?line=40'>41</a>\u001b[0m asyncio\u001b[39m.\u001b[39mset_event_loop(loop)\n\u001b[1;32m     <a href='vscode-notebook-cell:/Users/Andie.Phan/Projects/otosense/plunk/plunk/ap/notebooks/simple_two_way_py_js.ipynb#X23sZmlsZQ%3D%3D?line=42'>43</a>\u001b[0m \u001b[39m# Run the coroutine in the new event loop\u001b[39;00m\n\u001b[0;32m---> <a href='vscode-notebook-cell:/Users/Andie.Phan/Projects/otosense/plunk/plunk/ap/notebooks/simple_two_way_py_js.ipynb#X23sZmlsZQ%3D%3D?line=43'>44</a>\u001b[0m loop\u001b[39m.\u001b[39mrun_until_complete(execute_code(code_to_execute))\n\u001b[1;32m     <a href='vscode-notebook-cell:/Users/Andie.Phan/Projects/otosense/plunk/plunk/ap/notebooks/simple_two_way_py_js.ipynb#X23sZmlsZQ%3D%3D?line=45'>46</a>\u001b[0m \u001b[39m# Close the event loop\u001b[39;00m\n\u001b[1;32m     <a href='vscode-notebook-cell:/Users/Andie.Phan/Projects/otosense/plunk/plunk/ap/notebooks/simple_two_way_py_js.ipynb#X23sZmlsZQ%3D%3D?line=46'>47</a>\u001b[0m loop\u001b[39m.\u001b[39mclose()\n",
      "File \u001b[0;32m~/.pyenv/versions/3.10.7/lib/python3.10/asyncio/base_events.py:622\u001b[0m, in \u001b[0;36mBaseEventLoop.run_until_complete\u001b[0;34m(self, future)\u001b[0m\n\u001b[1;32m    611\u001b[0m \u001b[39m\"\"\"Run until the Future is done.\u001b[39;00m\n\u001b[1;32m    612\u001b[0m \n\u001b[1;32m    613\u001b[0m \u001b[39mIf the argument is a coroutine, it is wrapped in a Task.\u001b[39;00m\n\u001b[0;32m   (...)\u001b[0m\n\u001b[1;32m    619\u001b[0m \u001b[39mReturn the Future's result, or raise its exception.\u001b[39;00m\n\u001b[1;32m    620\u001b[0m \u001b[39m\"\"\"\u001b[39;00m\n\u001b[1;32m    621\u001b[0m \u001b[39mself\u001b[39m\u001b[39m.\u001b[39m_check_closed()\n\u001b[0;32m--> 622\u001b[0m \u001b[39mself\u001b[39;49m\u001b[39m.\u001b[39;49m_check_running()\n\u001b[1;32m    624\u001b[0m new_task \u001b[39m=\u001b[39m \u001b[39mnot\u001b[39;00m futures\u001b[39m.\u001b[39misfuture(future)\n\u001b[1;32m    625\u001b[0m future \u001b[39m=\u001b[39m tasks\u001b[39m.\u001b[39mensure_future(future, loop\u001b[39m=\u001b[39m\u001b[39mself\u001b[39m)\n",
      "File \u001b[0;32m~/.pyenv/versions/3.10.7/lib/python3.10/asyncio/base_events.py:584\u001b[0m, in \u001b[0;36mBaseEventLoop._check_running\u001b[0;34m(self)\u001b[0m\n\u001b[1;32m    582\u001b[0m     \u001b[39mraise\u001b[39;00m \u001b[39mRuntimeError\u001b[39;00m(\u001b[39m'\u001b[39m\u001b[39mThis event loop is already running\u001b[39m\u001b[39m'\u001b[39m)\n\u001b[1;32m    583\u001b[0m \u001b[39mif\u001b[39;00m events\u001b[39m.\u001b[39m_get_running_loop() \u001b[39mis\u001b[39;00m \u001b[39mnot\u001b[39;00m \u001b[39mNone\u001b[39;00m:\n\u001b[0;32m--> 584\u001b[0m     \u001b[39mraise\u001b[39;00m \u001b[39mRuntimeError\u001b[39;00m(\n\u001b[1;32m    585\u001b[0m         \u001b[39m'\u001b[39m\u001b[39mCannot run the event loop while another loop is running\u001b[39m\u001b[39m'\u001b[39m)\n",
      "\u001b[0;31mRuntimeError\u001b[0m: Cannot run the event loop while another loop is running"
     ]
    }
   ],
   "source": [
    "import asyncio\n",
    "import websockets\n",
    "import json\n",
    "\n",
    "async def execute_code(code, uri=ws_url):\n",
    "    async with websockets.connect(uri) as websocket:\n",
    "        # Message to start a new execution request\n",
    "        msg_start = {\n",
    "            \"header\": {\n",
    "                \"msg_id\": \"execute_request\",\n",
    "                \"username\": \"username\",\n",
    "                \"session\": \"000000000000\",\n",
    "                \"msg_type\": \"execute_request\",\n",
    "            },\n",
    "            \"content\": {\n",
    "                \"code\": code,\n",
    "                \"silent\": False,\n",
    "                \"store_history\": True,\n",
    "                \"user_expressions\": {},\n",
    "                \"allow_stdin\": True,\n",
    "            },\n",
    "            \"metadata\": {},\n",
    "            \"parent_header\": {},\n",
    "        }\n",
    "        # Sending the message to start code execution\n",
    "        await websocket.send(json.dumps(msg_start))\n",
    "        \n",
    "        while True:\n",
    "            response = await websocket.recv()\n",
    "            msg = json.loads(response)\n",
    "            # Check if the message is an execution result\n",
    "            if msg[\"msg_type\"] == \"execute_result\":\n",
    "                print(\"Execution Result:\", msg[\"content\"][\"data\"])\n",
    "                break\n",
    "\n",
    "# Example usage\n",
    "code_to_execute = \"print('Hello, Jupyter!')\"\n",
    "\n",
    "# Create a new event loop\n",
    "loop = asyncio.new_event_loop()\n",
    "asyncio.set_event_loop(loop)\n",
    "\n",
    "# Run the coroutine in the new event loop\n",
    "loop.run_until_complete(execute_code(code_to_execute))\n",
    "\n",
    "# Close the event loop\n",
    "loop.close()"
   ]
  },
  {
   "cell_type": "code",
   "execution_count": null,
   "metadata": {},
   "outputs": [
    {
     "data": {
      "text/plain": [
       "'/Users/Andie.Phan/.pyenv/versions/otoframe-3.10/bin/python'"
      ]
     },
     "execution_count": 8,
     "metadata": {},
     "output_type": "execute_result"
    }
   ],
   "source": [
    "import sys\n",
    "sys.executable"
   ]
  },
  {
   "cell_type": "code",
   "execution_count": 8,
   "metadata": {},
   "outputs": [
    {
     "data": {
      "application/javascript": "IPython.notebook.session.session_id",
      "text/plain": [
       "<IPython.core.display.Javascript object>"
      ]
     },
     "metadata": {},
     "output_type": "display_data"
    }
   ],
   "source": [
    "from IPython.display import display, Javascript\n",
    "\n",
    "# Get the session_id using JavaScript and display it\n",
    "display(Javascript('IPython.notebook.session.session_id'))"
   ]
  },
  {
   "cell_type": "code",
   "execution_count": 14,
   "metadata": {},
   "outputs": [
    {
     "name": "stderr",
     "output_type": "stream",
     "text": [
      "/Users/Andie.Phan/.pyenv/versions/3.10.7/lib/python3.10/ast.py:50: RuntimeWarning: coroutine 'execute_code' was never awaited\n",
      "  return compile(source, filename, mode, flags,\n",
      "RuntimeWarning: Enable tracemalloc to get the object allocation traceback\n"
     ]
    },
    {
     "ename": "KeyboardInterrupt",
     "evalue": "",
     "output_type": "error",
     "traceback": [
      "\u001b[0;31m---------------------------------------------------------------------------\u001b[0m",
      "\u001b[0;31mKeyboardInterrupt\u001b[0m                         Traceback (most recent call last)",
      "\u001b[1;32m/Users/Andie.Phan/Projects/otosense/plunk/plunk/ap/notebooks/simple_two_way_py_js.ipynb Cell 9\u001b[0m line \u001b[0;36m4\n\u001b[1;32m     <a href='vscode-notebook-cell:/Users/Andie.Phan/Projects/otosense/plunk/plunk/ap/notebooks/simple_two_way_py_js.ipynb#X30sZmlsZQ%3D%3D?line=42'>43</a>\u001b[0m \u001b[39m# Example usage\u001b[39;00m\n\u001b[1;32m     <a href='vscode-notebook-cell:/Users/Andie.Phan/Projects/otosense/plunk/plunk/ap/notebooks/simple_two_way_py_js.ipynb#X30sZmlsZQ%3D%3D?line=43'>44</a>\u001b[0m code_to_execute \u001b[39m=\u001b[39m \u001b[39m\"\u001b[39m\u001b[39mx = 1 + 2\u001b[39m\u001b[39m\"\u001b[39m\n\u001b[0;32m---> <a href='vscode-notebook-cell:/Users/Andie.Phan/Projects/otosense/plunk/plunk/ap/notebooks/simple_two_way_py_js.ipynb#X30sZmlsZQ%3D%3D?line=44'>45</a>\u001b[0m execute_code(code_to_execute)\n",
      "\u001b[1;32m/Users/Andie.Phan/Projects/otosense/plunk/plunk/ap/notebooks/simple_two_way_py_js.ipynb Cell 9\u001b[0m line \u001b[0;36m4\n\u001b[1;32m     <a href='vscode-notebook-cell:/Users/Andie.Phan/Projects/otosense/plunk/plunk/ap/notebooks/simple_two_way_py_js.ipynb#X30sZmlsZQ%3D%3D?line=37'>38</a>\u001b[0m ws\u001b[39m.\u001b[39mon_message \u001b[39m=\u001b[39m on_message\n\u001b[1;32m     <a href='vscode-notebook-cell:/Users/Andie.Phan/Projects/otosense/plunk/plunk/ap/notebooks/simple_two_way_py_js.ipynb#X30sZmlsZQ%3D%3D?line=39'>40</a>\u001b[0m \u001b[39m# Start the WebSocket connection\u001b[39;00m\n\u001b[0;32m---> <a href='vscode-notebook-cell:/Users/Andie.Phan/Projects/otosense/plunk/plunk/ap/notebooks/simple_two_way_py_js.ipynb#X30sZmlsZQ%3D%3D?line=40'>41</a>\u001b[0m ws\u001b[39m.\u001b[39;49mrun_forever()\n",
      "File \u001b[0;32m~/.pyenv/versions/otoframe-3.10/lib/python3.10/site-packages/websocket/_app.py:487\u001b[0m, in \u001b[0;36mWebSocketApp.run_forever\u001b[0;34m(self, sockopt, sslopt, ping_interval, ping_timeout, ping_payload, http_proxy_host, http_proxy_port, http_no_proxy, http_proxy_auth, http_proxy_timeout, skip_utf8_validation, host, origin, dispatcher, suppress_origin, proxy_type, reconnect)\u001b[0m\n\u001b[1;32m    484\u001b[0m custom_dispatcher \u001b[39m=\u001b[39m \u001b[39mbool\u001b[39m(dispatcher)\n\u001b[1;32m    485\u001b[0m dispatcher \u001b[39m=\u001b[39m \u001b[39mself\u001b[39m\u001b[39m.\u001b[39mcreate_dispatcher(ping_timeout, dispatcher, parse_url(\u001b[39mself\u001b[39m\u001b[39m.\u001b[39murl)[\u001b[39m3\u001b[39m])\n\u001b[0;32m--> 487\u001b[0m setSock()\n\u001b[1;32m    488\u001b[0m \u001b[39mif\u001b[39;00m \u001b[39mnot\u001b[39;00m custom_dispatcher \u001b[39mand\u001b[39;00m reconnect:\n\u001b[1;32m    489\u001b[0m     \u001b[39mwhile\u001b[39;00m \u001b[39mself\u001b[39m\u001b[39m.\u001b[39mkeep_running:\n",
      "File \u001b[0;32m~/.pyenv/versions/otoframe-3.10/lib/python3.10/site-packages/websocket/_app.py:417\u001b[0m, in \u001b[0;36mWebSocketApp.run_forever.<locals>.setSock\u001b[0;34m(reconnecting)\u001b[0m\n\u001b[1;32m    415\u001b[0m     dispatcher\u001b[39m.\u001b[39mread(\u001b[39mself\u001b[39m\u001b[39m.\u001b[39msock\u001b[39m.\u001b[39msock, read, check)\n\u001b[1;32m    416\u001b[0m \u001b[39mexcept\u001b[39;00m (WebSocketConnectionClosedException, \u001b[39mConnectionRefusedError\u001b[39;00m, \u001b[39mKeyboardInterrupt\u001b[39;00m, \u001b[39mSystemExit\u001b[39;00m, \u001b[39mException\u001b[39;00m) \u001b[39mas\u001b[39;00m e:\n\u001b[0;32m--> 417\u001b[0m     handleDisconnect(e, reconnecting)\n",
      "File \u001b[0;32m~/.pyenv/versions/otoframe-3.10/lib/python3.10/site-packages/websocket/_app.py:415\u001b[0m, in \u001b[0;36mWebSocketApp.run_forever.<locals>.setSock\u001b[0;34m(reconnecting)\u001b[0m\n\u001b[1;32m    411\u001b[0m         \u001b[39mself\u001b[39m\u001b[39m.\u001b[39m_start_ping_thread()\n\u001b[1;32m    413\u001b[0m     \u001b[39mself\u001b[39m\u001b[39m.\u001b[39m_callback(\u001b[39mself\u001b[39m\u001b[39m.\u001b[39mon_open)\n\u001b[0;32m--> 415\u001b[0m     dispatcher\u001b[39m.\u001b[39;49mread(\u001b[39mself\u001b[39;49m\u001b[39m.\u001b[39;49msock\u001b[39m.\u001b[39;49msock, read, check)\n\u001b[1;32m    416\u001b[0m \u001b[39mexcept\u001b[39;00m (WebSocketConnectionClosedException, \u001b[39mConnectionRefusedError\u001b[39;00m, \u001b[39mKeyboardInterrupt\u001b[39;00m, \u001b[39mSystemExit\u001b[39;00m, \u001b[39mException\u001b[39;00m) \u001b[39mas\u001b[39;00m e:\n\u001b[1;32m    417\u001b[0m     handleDisconnect(e, reconnecting)\n",
      "File \u001b[0;32m~/.pyenv/versions/otoframe-3.10/lib/python3.10/site-packages/websocket/_app.py:77\u001b[0m, in \u001b[0;36mDispatcher.read\u001b[0;34m(self, sock, read_callback, check_callback)\u001b[0m\n\u001b[1;32m     74\u001b[0m sel \u001b[39m=\u001b[39m selectors\u001b[39m.\u001b[39mDefaultSelector()\n\u001b[1;32m     75\u001b[0m sel\u001b[39m.\u001b[39mregister(\u001b[39mself\u001b[39m\u001b[39m.\u001b[39mapp\u001b[39m.\u001b[39msock\u001b[39m.\u001b[39msock, selectors\u001b[39m.\u001b[39mEVENT_READ)\n\u001b[0;32m---> 77\u001b[0m r \u001b[39m=\u001b[39m sel\u001b[39m.\u001b[39;49mselect(\u001b[39mself\u001b[39;49m\u001b[39m.\u001b[39;49mping_timeout)\n\u001b[1;32m     78\u001b[0m \u001b[39mif\u001b[39;00m r:\n\u001b[1;32m     79\u001b[0m     \u001b[39mif\u001b[39;00m \u001b[39mnot\u001b[39;00m read_callback():\n",
      "File \u001b[0;32m~/.pyenv/versions/3.10.7/lib/python3.10/selectors.py:562\u001b[0m, in \u001b[0;36mKqueueSelector.select\u001b[0;34m(self, timeout)\u001b[0m\n\u001b[1;32m    560\u001b[0m ready \u001b[39m=\u001b[39m []\n\u001b[1;32m    561\u001b[0m \u001b[39mtry\u001b[39;00m:\n\u001b[0;32m--> 562\u001b[0m     kev_list \u001b[39m=\u001b[39m \u001b[39mself\u001b[39;49m\u001b[39m.\u001b[39;49m_selector\u001b[39m.\u001b[39;49mcontrol(\u001b[39mNone\u001b[39;49;00m, max_ev, timeout)\n\u001b[1;32m    563\u001b[0m \u001b[39mexcept\u001b[39;00m \u001b[39mInterruptedError\u001b[39;00m:\n\u001b[1;32m    564\u001b[0m     \u001b[39mreturn\u001b[39;00m ready\n",
      "\u001b[0;31mKeyboardInterrupt\u001b[0m: "
     ]
    }
   ],
   "source": [
    "import websocket\n",
    "import json\n",
    "import time\n",
    "\n",
    "def execute_code(code, uri=ws_url):\n",
    "    ws = websocket.WebSocketApp(uri)\n",
    "    \n",
    "    def on_open(ws):\n",
    "        # Message to start a new execution request\n",
    "        msg_start = {\n",
    "            \"header\": {\n",
    "                \"msg_id\": \"execute_request\",\n",
    "                \"username\": \"username\",\n",
    "                \"session\": \"000000000000\",\n",
    "                \"msg_type\": \"execute_request\",\n",
    "            },\n",
    "            \"content\": {\n",
    "                \"code\": code,\n",
    "                \"silent\": False,\n",
    "                \"store_history\": True,\n",
    "                \"user_expressions\": {},\n",
    "                \"allow_stdin\": True,\n",
    "            },\n",
    "            \"metadata\": {},\n",
    "            \"parent_header\": {},\n",
    "        }\n",
    "        # Sending the message to start code execution\n",
    "        ws.send(json.dumps(msg_start))\n",
    "    \n",
    "    def on_message(ws, message):\n",
    "        msg = json.loads(message)\n",
    "        # Check if the message is an execution result\n",
    "        if msg[\"msg_type\"] == \"execute_result\":\n",
    "            print(\"Execution Result:\", msg[\"content\"][\"data\"])\n",
    "            ws.close()\n",
    "    \n",
    "    ws.on_open = on_open\n",
    "    ws.on_message = on_message\n",
    "    \n",
    "    # Start the WebSocket connection\n",
    "    ws.run_forever()\n",
    "\n",
    "# Example usage\n",
    "code_to_execute = \"x = 1 + 2\"\n",
    "execute_code(code_to_execute)"
   ]
  },
  {
   "cell_type": "code",
   "execution_count": 13,
   "metadata": {},
   "outputs": [
    {
     "ename": "NameError",
     "evalue": "name 'x' is not defined",
     "output_type": "error",
     "traceback": [
      "\u001b[0;31m---------------------------------------------------------------------------\u001b[0m",
      "\u001b[0;31mNameError\u001b[0m                                 Traceback (most recent call last)",
      "\u001b[1;32m/Users/Andie.Phan/Projects/otosense/plunk/plunk/ap/notebooks/simple_two_way_py_js.ipynb Cell 10\u001b[0m line \u001b[0;36m1\n\u001b[0;32m----> <a href='vscode-notebook-cell:/Users/Andie.Phan/Projects/otosense/plunk/plunk/ap/notebooks/simple_two_way_py_js.ipynb#X31sZmlsZQ%3D%3D?line=0'>1</a>\u001b[0m x\n",
      "\u001b[0;31mNameError\u001b[0m: name 'x' is not defined"
     ]
    }
   ],
   "source": [
    "x\n"
   ]
  },
  {
   "cell_type": "code",
   "execution_count": null,
   "metadata": {},
   "outputs": [],
   "source": []
  }
 ],
 "metadata": {
  "kernelspec": {
   "display_name": "Python 3 (ipykernel)",
   "language": "python",
   "name": "python3"
  },
  "language_info": {
   "codemirror_mode": {
    "name": "ipython",
    "version": 3
   },
   "file_extension": ".py",
   "mimetype": "text/x-python",
   "name": "python",
   "nbconvert_exporter": "python",
   "pygments_lexer": "ipython3",
   "version": "3.10.7"
  },
  "orig_nbformat": 4
 },
 "nbformat": 4,
 "nbformat_minor": 2
}
